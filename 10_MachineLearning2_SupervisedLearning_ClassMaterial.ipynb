{
 "cells": [
  {
   "cell_type": "markdown",
   "metadata": {
    "slideshow": {
     "slide_type": "skip"
    }
   },
   "source": [
    "<!--BOOK_INFORMATION-->\n",
    "This notebook contains both adapted and unmodified material from: \n",
    "[Introduction to Machine Learning with Python](https://learning.oreilly.com/library/view/introduction-to-machine/9781449369880/)\n",
    "by Sarah Guido, Andreas C. Müller; the content is available [on GitHub](https://github.com/amueller/introduction_to_ml_with_python/blob/master/02-supervised-learning.ipynb)."
   ]
  },
  {
   "cell_type": "markdown",
   "metadata": {
    "collapsed": true,
    "slideshow": {
     "slide_type": "slide"
    }
   },
   "source": [
    "# 10 Machine Learing Part 2  : Supervised Learning \n",
    "## CLASS MATERIAL\n",
    "\n",
    "<br> <a href='#SampleDatasets'>1. Sample Datasets</a>\n",
    "<br> <a href='#ClassificationRegression'>2. Classification and Regression</a> \n",
    "<br> <a href='#Complexity'>3. Complexity, Generalization, Overfitting, and Underfitting</a> \n",
    "<br> <a href='#RelationModelComplexityDatasetSize'>4. Relation of Model Complexity to Dataset Size</a> \n",
    "<br><a href='#SupervisedMachineLearningAlgorithms '>5. Supervised Machine Learning Algorithms</a>\n",
    "<br><a href='#ReviewExercises'>6. Review Exercises</a>"
   ]
  },
  {
   "cell_type": "markdown",
   "metadata": {
    "slideshow": {
     "slide_type": "slide"
    }
   },
   "source": [
    "# Download the new class notes.\n",
    "__Navigate to the directory where your files are stored.__\n",
    "\n",
    "__Update the course notes by downloading the changes__"
   ]
  },
  {
   "cell_type": "markdown",
   "metadata": {
    "slideshow": {
     "slide_type": "slide"
    }
   },
   "source": [
    "\n",
    "\n",
    "\n",
    "##### Windows\n",
    "Search for __Git Bash__ in the programs menu.\n",
    "\n",
    "Select __Git Bash__, a terminal will open.\n",
    "\n",
    "Use `cd` to navigate to *inside* the __ILAS_PyEng2019__ repository you downloaded. \n",
    "\n",
    "Run the command:\n",
    ">`./automerge`\n",
    "\n",
    "\n",
    "\n",
    "##### Mac\n",
    "Open a terminal. \n",
    "\n",
    "Use `cd` to navigate to *inside* the __ILAS_PyEng2019__ repository you downloaded. \n",
    "\n",
    "Run the command:\n",
    ">`sudo ./automerge`\n",
    "\n",
    "Enter your password when prompted. "
   ]
  },
  {
   "cell_type": "markdown",
   "metadata": {
    "slideshow": {
     "slide_type": "slide"
    }
   },
   "source": [
    "# Machine Learning \n",
    "\n",
    "In Machine learning, algorithms acquire the knowledge or skill through experience. \n",
    "\n",
    "Machine learning relies on big data sets to identify patterns."
   ]
  },
  {
   "cell_type": "markdown",
   "metadata": {
    "slideshow": {
     "slide_type": "slide"
    }
   },
   "source": [
    "### Lesson Goal\n",
    "\n",
    "- Survey different *supervised* machine learning algorithms : \n",
    "    - how they learn from data\n",
    "    - how they make predictions\n",
    "    - how the concept of model complexity effects each of these models\n",
    "    - overview of how each algorithm builds a model. \n",
    "    - strengths and weaknesses\n",
    "    - what kind of data each algorithm can best be applied to. \n",
    "\n",
    "- Understand concepts about fitting a model, explained via examples of algorithms\n",
    "- Apply example models to synthetic/toy and real data"
   ]
  },
  {
   "cell_type": "markdown",
   "metadata": {
    "slideshow": {
     "slide_type": "slide"
    }
   },
   "source": [
    "### Fundamental programming concepts\n",
    "\n"
   ]
  },
  {
   "cell_type": "markdown",
   "metadata": {
    "slideshow": {
     "slide_type": "slide"
    }
   },
   "source": [
    "Packages we will use in this class:"
   ]
  },
  {
   "cell_type": "code",
   "execution_count": 32,
   "metadata": {},
   "outputs": [
    {
     "name": "stdout",
     "output_type": "stream",
     "text": [
      "Python version: 3.7.4 (default, Aug 13 2019, 15:17:50) \n",
      "[Clang 4.0.1 (tags/RELEASE_401/final)]\n",
      "pandas version: 0.25.1\n",
      "matplotlib version: 3.1.1\n",
      "NumPy version: 1.17.2\n",
      "SciPy version: 1.3.1\n",
      "IPython version: 7.8.0\n",
      "scikit-learn version: 0.21.3\n",
      "mglearn version: 0.1.7\n"
     ]
    },
    {
     "name": "stderr",
     "output_type": "stream",
     "text": [
      "/opt/anaconda3/lib/python3.7/site-packages/sklearn/externals/six.py:31: DeprecationWarning: The module is deprecated in version 0.21 and will be removed in version 0.23 since we've dropped support for Python 2.7. Please rely on the official version of six (https://pypi.org/project/six/).\n",
      "  \"(https://pypi.org/project/six/).\", DeprecationWarning)\n",
      "/opt/anaconda3/lib/python3.7/site-packages/sklearn/externals/joblib/__init__.py:15: DeprecationWarning: sklearn.externals.joblib is deprecated in 0.21 and will be removed in 0.23. Please import this functionality directly from joblib, which can be installed with: pip install joblib. If this warning is raised when loading pickled models, you may need to re-serialize those models with scikit-learn 0.21+.\n",
      "  warnings.warn(msg, category=DeprecationWarning)\n"
     ]
    }
   ],
   "source": [
    "import sys\n",
    "print(\"Python version:\", sys.version)\n",
    "\n",
    "import pandas as pd\n",
    "print(\"pandas version:\", pd.__version__)\n",
    "\n",
    "import matplotlib\n",
    "print(\"matplotlib version:\", matplotlib.__version__)\n",
    "import matplotlib.pyplot as plt\n",
    "\n",
    "import numpy as np\n",
    "print(\"NumPy version:\", np.__version__)\n",
    "\n",
    "import scipy as sp\n",
    "print(\"SciPy version:\", sp.__version__)\n",
    "\n",
    "import IPython\n",
    "print(\"IPython version:\", IPython.__version__)\n",
    "\n",
    "import sklearn\n",
    "print(\"scikit-learn version:\", sklearn.__version__)\n",
    "\n",
    "import mglearn\n",
    "print(\"mglearn version:\", mglearn.__version__)"
   ]
  },
  {
   "cell_type": "code",
   "execution_count": 33,
   "metadata": {
    "slideshow": {
     "slide_type": "-"
    }
   },
   "outputs": [],
   "source": [
    "from sklearn.model_selection import train_test_split"
   ]
  },
  {
   "cell_type": "markdown",
   "metadata": {
    "slideshow": {
     "slide_type": "slide"
    }
   },
   "source": [
    "# Supervised Learning\n",
    "\n",
    "Used when we want to predict a certain outcome from a given input, and we have examples of input/output pairs. \n",
    "\n",
    "Machine learning model built from these input/output pairs which comprise our training set. \n",
    "\n",
    "Our goal is to make accurate predictions for new, never-before-seen data. \n",
    "\n",
    "Supervised learning often requires human effort to build the training set, but afterward automates and often speeds up an otherwise laborious or infeasible task."
   ]
  },
  {
   "cell_type": "markdown",
   "metadata": {
    "slideshow": {
     "slide_type": "slide"
    }
   },
   "source": [
    "Last week, we studied a simple set of steps for training a __supervised learning algorithm__ using a model imported from the package  `scikit-learn`.\n",
    "1. Import model\n",
    "2. Import data\n",
    "3. Split the data (test and training data)\n",
    "4. Instantaite the model including any model parameters\n",
    "5. Fit the model to the training data\n",
    "6. Evaluate the accuracy of the model on the test data\n",
    "7. Predict the targets of the test data\n",
    "8. Predict the target of a new data point "
   ]
  },
  {
   "cell_type": "markdown",
   "metadata": {
    "slideshow": {
     "slide_type": "slide"
    }
   },
   "source": [
    "The example shown below, imports, instantiates, trains, tests and applies the KNN classification algorithm we studied last week. "
   ]
  },
  {
   "cell_type": "code",
   "execution_count": 34,
   "metadata": {},
   "outputs": [
    {
     "name": "stdout",
     "output_type": "stream",
     "text": [
      "Test set score: (1.0, 3)\n",
      "Predicted target name: ['setosa']\n"
     ]
    }
   ],
   "source": [
    "from sklearn.model_selection import train_test_split\n",
    "from sklearn.neighbors import KNeighborsClassifier    # 1. Import model\n",
    "from sklearn.datasets import load_iris                # 2. Import data\n",
    "iris_dataset = load_iris()\n",
    "\n",
    "\n",
    "\n",
    "X_train, X_test, y_train, y_test = train_test_split(iris_dataset['data'],     # 3. Split the data\n",
    "                                                    iris_dataset['target'], \n",
    "                                                    random_state=0)\n",
    "\n",
    "knn = KNeighborsClassifier(n_neighbors=1) # 4. Instantaite the model including any model parameters\n",
    "\n",
    "knn.fit(X_train, y_train)                 # 5. Fit the model to the training data\n",
    "\n",
    "score = knn.score(X_test, y_test)         # 6. Evaluate the accuracy of the model on the test data\n",
    "print(f\"Test set score: {np.round(score), 3}\") \n",
    "\n",
    "knn.predict(X_test)                       # 7. Predict the targets of the test data\n",
    "\n",
    "X_new = np.array([[5, 2.9, 1, 0.2]])      # 8. Predict the target of a new data point \n",
    "prediction = knn.predict(X_new)\n",
    "print(f\"Predicted target name: {iris_dataset['target_names'][prediction]}\")"
   ]
  },
  {
   "cell_type": "markdown",
   "metadata": {
    "slideshow": {
     "slide_type": "slide"
    }
   },
   "source": [
    "We will use this simple formula to explore some of the most widely used machine learing algorithms. "
   ]
  },
  {
   "cell_type": "markdown",
   "metadata": {
    "slideshow": {
     "slide_type": "slide"
    }
   },
   "source": [
    "<a id='SampleDatasets'></a>\n",
    "# 1. Sample Datasets to illustrate the different algorithms. \n",
    "\n",
    "\n",
    "\n",
    "We will use both:\n",
    "- small, synthetic data (designed to highlight particular aspects of the algorithms). \n",
    "- large, real-world examples."
   ]
  },
  {
   "cell_type": "markdown",
   "metadata": {
    "slideshow": {
     "slide_type": "slide"
    }
   },
   "source": [
    "##### The forge dataset : \n",
    "- synthetic \n",
    "- two-class __classification__ \n",
    "- 26 data points, 2 features\n",
    "\n",
    "Scatter plot visualizing all of the data points in this dataset. \n",
    "- first feature = x-axis\n",
    "- second feature = y-axis. \n",
    "\n",
    "The color and shape of the dot indicates its class:"
   ]
  },
  {
   "cell_type": "code",
   "execution_count": 35,
   "metadata": {
    "slideshow": {
     "slide_type": "slide"
    }
   },
   "outputs": [
    {
     "name": "stdout",
     "output_type": "stream",
     "text": [
      "X.shape: (26, 2)\n"
     ]
    },
    {
     "name": "stderr",
     "output_type": "stream",
     "text": [
      "/opt/anaconda3/lib/python3.7/site-packages/sklearn/utils/deprecation.py:85: DeprecationWarning: Function make_blobs is deprecated; Please import make_blobs directly from scikit-learn\n",
      "  warnings.warn(msg, category=DeprecationWarning)\n"
     ]
    },
    {
     "data": {
      "text/plain": [
       "Text(0, 0.5, 'Second feature')"
      ]
     },
     "execution_count": 35,
     "metadata": {},
     "output_type": "execute_result"
    },
    {
     "data": {
      "image/png": "[encoded data removed]",
      "text/plain": [
       "<Figure size 432x288 with 1 Axes>"
      ]
     },
     "metadata": {
      "needs_background": "light"
     },
     "output_type": "display_data"
    }
   ],
   "source": [
    "X, y = mglearn.datasets.make_forge() # generate dataset\n",
    "print(\"X.shape:\", X.shape)\n",
    "\n",
    "mglearn.discrete_scatter(X[:, 0], X[:, 1], y) # plot dataset using built in tools\n",
    "\n",
    "plt.legend([\"Class 0\", \"Class 1\"], loc=4)\n",
    "plt.xlabel(\"First feature\")\n",
    "plt.ylabel(\"Second feature\")"
   ]
  },
  {
   "cell_type": "markdown",
   "metadata": {
    "slideshow": {
     "slide_type": "slide"
    }
   },
   "source": [
    "##### The wave dataset : \n",
    "- synthetic\n",
    "- __regression__ dataset\n",
    "- single input feature and a continuous target variable (or response) that we want to model. \n",
    "\n",
    "Single feature on the x-axis and the regression target (the output) on the y-axis:"
   ]
  },
  {
   "cell_type": "code",
   "execution_count": 36,
   "metadata": {},
   "outputs": [
    {
     "data": {
      "text/plain": [
       "Text(0, 0.5, 'Target')"
      ]
     },
     "execution_count": 36,
     "metadata": {},
     "output_type": "execute_result"
    },
    {
     "data": {
      "image/png": "[encoded data removed]",
      "text/plain": [
       "<Figure size 432x288 with 1 Axes>"
      ]
     },
     "metadata": {
      "needs_background": "light"
     },
     "output_type": "display_data"
    }
   ],
   "source": [
    "X, y = mglearn.datasets.make_wave(n_samples=40)\n",
    "plt.plot(X, y, 'o')\n",
    "plt.ylim(-3, 3)\n",
    "plt.xlabel(\"Feature\")\n",
    "plt.ylabel(\"Target\")"
   ]
  },
  {
   "cell_type": "markdown",
   "metadata": {
    "slideshow": {
     "slide_type": "-"
    }
   },
   "source": [
    "Simple, low-dimensional datasets: easy to visualise (data with more than two features is hard to show as a plt)\n"
   ]
  },
  {
   "cell_type": "markdown",
   "metadata": {
    "slideshow": {
     "slide_type": "slide"
    }
   },
   "source": [
    "##### Wisconsin Breast Cancer dataset (cancer)\n",
    "- real-world classification dataset included in scikit-learn. \n",
    "- records clinical measurements of breast cancer tumors. \n",
    "- 569 data points, 30 features\n",
    "- each tumor is labeled as:\n",
    "    - “benign” (for harmless tumors), 357 data points \n",
    "    - “malignant” (for cancerous tumors), 212 data points \n",
    "- task : learn to predict whether a tumor is malignant based on the measurements of the tissue.\n",
    "\n",
    "\n",
    "The data can be loaded using the load_breast_cancer function from scikit-learn:"
   ]
  },
  {
   "cell_type": "code",
   "execution_count": 37,
   "metadata": {},
   "outputs": [
    {
     "name": "stdout",
     "output_type": "stream",
     "text": [
      "cancer.keys():\n",
      " dict_keys(['data', 'target', 'target_names', 'DESCR', 'feature_names', 'filename'])\n",
      "Shape of cancer data: (569, 30)\n",
      "Sample counts per class:\n",
      " {'malignant': 212, 'benign': 357}\n"
     ]
    }
   ],
   "source": [
    "from sklearn.datasets import load_breast_cancer\n",
    "\n",
    "cancer = load_breast_cancer()\n",
    "\n",
    "print(\"cancer.keys():\\n\", cancer.keys())\n",
    "\n",
    "print(\"Shape of cancer data:\", cancer.data.shape)\n",
    "\n",
    "print(\"Sample counts per class:\\n\",\n",
    "      {n: v for n, v in zip(cancer.target_names, np.bincount(cancer.target))})"
   ]
  },
  {
   "cell_type": "markdown",
   "metadata": {
    "slideshow": {
     "slide_type": "slide"
    }
   },
   "source": [
    "`feature_names` attribute : semantic meaning of each feature."
   ]
  },
  {
   "cell_type": "code",
   "execution_count": 38,
   "metadata": {},
   "outputs": [
    {
     "name": "stdout",
     "output_type": "stream",
     "text": [
      "Feature names:\n",
      " ['mean radius' 'mean texture' 'mean perimeter' 'mean area'\n",
      " 'mean smoothness' 'mean compactness' 'mean concavity'\n",
      " 'mean concave points' 'mean symmetry' 'mean fractal dimension'\n",
      " 'radius error' 'texture error' 'perimeter error' 'area error'\n",
      " 'smoothness error' 'compactness error' 'concavity error'\n",
      " 'concave points error' 'symmetry error' 'fractal dimension error'\n",
      " 'worst radius' 'worst texture' 'worst perimeter' 'worst area'\n",
      " 'worst smoothness' 'worst compactness' 'worst concavity'\n",
      " 'worst concave points' 'worst symmetry' 'worst fractal dimension']\n"
     ]
    }
   ],
   "source": [
    "print(\"Feature names:\\n\", cancer.feature_names)"
   ]
  },
  {
   "cell_type": "markdown",
   "metadata": {
    "slideshow": {
     "slide_type": "slide"
    }
   },
   "source": [
    "##### Boston Housing dataset\n",
    "- real-world regression dataset\n",
    "- task : predict the median value of homes in several Boston neighborhoods in the 1970s using information such as crime rate, proximity to the Charles River, highway accessibility, and so on. \n",
    "- 506 data points, 13 features"
   ]
  },
  {
   "cell_type": "code",
   "execution_count": 39,
   "metadata": {},
   "outputs": [
    {
     "name": "stdout",
     "output_type": "stream",
     "text": [
      "Data shape: (506, 13)\n"
     ]
    }
   ],
   "source": [
    "from sklearn.datasets import load_boston\n",
    "\n",
    "boston = load_boston()\n",
    "\n",
    "print(\"Data shape:\", boston.data.shape)"
   ]
  },
  {
   "cell_type": "markdown",
   "metadata": {
    "slideshow": {
     "slide_type": "slide"
    }
   },
   "source": [
    "\n",
    "\n",
    "<a id='ClassificationRegression'></a>\n",
    "# 2. Classification and Regression\n",
    "Two major types of supervised machine learning problems:\n",
    "- classification\n",
    "- regression.\n",
    "\n",
    "Many algorithms have a classification and a regression variant."
   ]
  },
  {
   "cell_type": "markdown",
   "metadata": {
    "slideshow": {
     "slide_type": "slide"
    }
   },
   "source": [
    "###### Regression : \n",
    "The goal is to predict a __single value__ on a continuous scale. \n",
    "- predicting a person’s annual income from their education\n",
    "- predicting the yield of a rice farm given attributes such as previous yields, weather, and number of employees working on the farm\n",
    "\n",
    "###### Classification:\n",
    "The goal is to predict a __class label__, which is a choice from a discrete set of possibilities.\n",
    "- classifying irises into one of three possible species.\n",
    "- predicting the ward of Kyoto a person lives based on their job and salary"
   ]
  },
  {
   "cell_type": "markdown",
   "metadata": {
    "slideshow": {
     "slide_type": "slide"
    }
   },
   "source": [
    "<a id='Complexity'></a>\n",
    "# 3. Complexity, Generalization, Overfitting, and Underfitting\n",
    "\n",
    "\n",
    "\n",
    "\n",
    "### Complexity \n",
    "\n",
    "Model comlexity can include:\n",
    "- the number of features in a given predictive model\n",
    "- linear/nonlinear model\n",
    "- algorithmic learning complexity\n",
    "- computational complexity\n",
    "\n",
    "The more complex we allow the model to be, the better we will be able to predict on the training data. \n",
    "\n",
    "However, if the model becomes too complex:\n",
    "- we focus too much on each individual data point in our training set\n",
    "- the model will not generalize well to new data"
   ]
  },
  {
   "cell_type": "markdown",
   "metadata": {
    "slideshow": {
     "slide_type": "slide"
    }
   },
   "source": [
    "### Generlization\n",
    "Evaluation on a test set : the only conclusive measure of whether an algorithm will perform well on new data. \n",
    "\n",
    "Intuitively we expect *simple* models to __generalize__ better to new data. \n",
    "\n",
    "We should try to find the simplest model that provides acceptable accuracy. \n",
    "\n"
   ]
  },
  {
   "cell_type": "markdown",
   "metadata": {
    "slideshow": {
     "slide_type": "slide"
    }
   },
   "source": [
    "### Overfitting\n",
    "Building a model that is too complex for the amount of information we have.\n",
    "<br>A model that fits too closely to the training set and consequently works well on the training set but is not able to generalize to new data.\n",
    "\n",
    "### Underfitting\n",
    "Choosing too simple a model."
   ]
  },
  {
   "cell_type": "markdown",
   "metadata": {
    "slideshow": {
     "slide_type": "slide"
    }
   },
   "source": [
    "There is an optimal mid-point with the best generalization performance. \n",
    "\n",
    "This is the model we want to find.\n",
    "\n",
    "This principle will be demonstrated using several examples of machine learning algorithms throughout this class.\n",
    "\n",
    "<p align=\"center\">\n",
    "  <img src=\"img/overfitting.png\" alt=\"Drawing\" style=\"width: 400px;\"/>\n",
    "</p>"
   ]
  },
  {
   "cell_type": "markdown",
   "metadata": {
    "slideshow": {
     "slide_type": "slide"
    }
   },
   "source": [
    "\n",
    "\n",
    "\n",
    "<a id='RelationModelComplexityDatasetSize'></a>\n",
    "# 4. Relation of Model Complexity to Dataset Size\n",
    "\n",
    "Model complexity relates to __variation__ of inputs contained in your training dataset.\n",
    "\n",
    "The larger variety of data points your dataset contains, the more complex a model you can use without overfitting. \n",
    "\n",
    "Usually, collecting more data points will yield more variety, so larger datasets allow building more complex models. \n",
    "\n",
    "(However, duplicating the same data points or collecting very similar data will not)."
   ]
  },
  {
   "cell_type": "markdown",
   "metadata": {
    "slideshow": {
     "slide_type": "slide"
    }
   },
   "source": [
    "<a id='SupervisedLearningAlgorithms'></a>\n",
    "# 5. Supervised Machine Learning Algorithms \n",
    "\n",
    "<br> <a href='#KNN'>5.1 k-Nearest Neighbors</a>\n",
    "<br> <a href='#LinearModelsRegression'>5.2 Linear Models for Regression</a> \n",
    "<br> <a href='#LinearModelsClassification'>5.3 Linear Models for  Classification</a> \n",
    "<br> <a href='#SVM'>5.4 Kernelized Support Vector Machine</a> \n",
    "<br><a href='#ANN'>5.5 Artificial Neural Networks</a>\n"
   ]
  },
  {
   "cell_type": "markdown",
   "metadata": {
    "slideshow": {
     "slide_type": "slide"
    }
   },
   "source": [
    "<a id='KNN'></a>\n",
    "# 5.1 k-Nearest Neighbors\n",
    "Arguably the simplest machine learning algorithm. \n",
    "\n",
    "Building the model consists only of storing the training dataset. \n",
    "\n",
    "To make a prediction for a new data point (stars in figure below), the algorithm finds the closest data points in the training dataset—its “nearest neighbors.”"
   ]
  },
  {
   "cell_type": "code",
   "execution_count": 40,
   "metadata": {},
   "outputs": [
    {
     "name": "stderr",
     "output_type": "stream",
     "text": [
      "/opt/anaconda3/lib/python3.7/site-packages/sklearn/utils/deprecation.py:85: DeprecationWarning: Function make_blobs is deprecated; Please import make_blobs directly from scikit-learn\n",
      "  warnings.warn(msg, category=DeprecationWarning)\n"
     ]
    },
    {
     "data": {
      "image/png": "[encoded data removed]",
      "text/plain": [
       "<Figure size 432x288 with 1 Axes>"
      ]
     },
     "metadata": {
      "needs_background": "light"
     },
     "output_type": "display_data"
    }
   ],
   "source": [
    "mglearn.plots.plot_knn_classification(n_neighbors=1)"
   ]
  },
  {
   "cell_type": "markdown",
   "metadata": {
    "slideshow": {
     "slide_type": "slide"
    }
   },
   "source": [
    "We can also consider an arbitrary number of neighbours, k, hence the name of the k-nearest neighbors.\n",
    "\n",
    "When considering more than one neighbour:\n",
    "- count how many neighbors belong to class 0 and how many neighbors belong to class 1. \n",
    "- assign the class that is more frequent: ie, the majority class among the k-nearest neighbors. \n",
    "\n"
   ]
  },
  {
   "cell_type": "code",
   "execution_count": 41,
   "metadata": {},
   "outputs": [
    {
     "name": "stderr",
     "output_type": "stream",
     "text": [
      "/opt/anaconda3/lib/python3.7/site-packages/sklearn/utils/deprecation.py:85: DeprecationWarning: Function make_blobs is deprecated; Please import make_blobs directly from scikit-learn\n",
      "  warnings.warn(msg, category=DeprecationWarning)\n"
     ]
    },
    {
     "data": {
      "image/png": "[encoded data removed]",
      "text/plain": [
       "<Figure size 432x288 with 1 Axes>"
      ]
     },
     "metadata": {
      "needs_background": "light"
     },
     "output_type": "display_data"
    }
   ],
   "source": [
    "mglearn.plots.plot_knn_classification(n_neighbors=3)"
   ]
  },
  {
   "cell_type": "markdown",
   "metadata": {
    "slideshow": {
     "slide_type": "slide"
    }
   },
   "source": [
    "Example: 3 closest neighbors\n",
    "\n",
    "Prediction is shown as the color of the star. \n",
    "\n",
    "The prediction for the new data point at the top left is not the same as the prediction when we used only one neighbour."
   ]
  },
  {
   "cell_type": "markdown",
   "metadata": {
    "slideshow": {
     "slide_type": "slide"
    }
   },
   "source": [
    "## k-nearest neighbors (KNN) algorithm using `scikit-learn`"
   ]
  },
  {
   "cell_type": "code",
   "execution_count": 42,
   "metadata": {},
   "outputs": [
    {
     "name": "stderr",
     "output_type": "stream",
     "text": [
      "/opt/anaconda3/lib/python3.7/site-packages/sklearn/utils/deprecation.py:85: DeprecationWarning: Function make_blobs is deprecated; Please import make_blobs directly from scikit-learn\n",
      "  warnings.warn(msg, category=DeprecationWarning)\n"
     ]
    },
    {
     "data": {
      "text/plain": [
       "KNeighborsClassifier(algorithm='auto', leaf_size=30, metric='minkowski',\n",
       "                     metric_params=None, n_jobs=None, n_neighbors=3, p=2,\n",
       "                     weights='uniform')"
      ]
     },
     "execution_count": 42,
     "metadata": {},
     "output_type": "execute_result"
    }
   ],
   "source": [
    "from sklearn.model_selection import train_test_split\n",
    "from sklearn.neighbors import KNeighborsClassifier     # 1. Import model\n",
    "X, y = mglearn.datasets.make_forge()                   # 2. Import data\n",
    "\n",
    "X_train, X_test, y_train, y_test = train_test_split(X, # 3. Split the data\n",
    "                                                    y, \n",
    "                                                    random_state=0)\n",
    "\n",
    "clf = KNeighborsClassifier(n_neighbors=3) # 4. Instantaite the model\n",
    "\n",
    "clf.fit(X_train, y_train)                 # 5. Fit the model to the training data"
   ]
  },
  {
   "cell_type": "code",
   "execution_count": 43,
   "metadata": {
    "slideshow": {
     "slide_type": "slide"
    }
   },
   "outputs": [
    {
     "name": "stdout",
     "output_type": "stream",
     "text": [
      "Test set predictions: [1 0 1 0 1 0 0]\n",
      "Test set accuracy: 0.8571428571428571\n"
     ]
    }
   ],
   "source": [
    "print(\"Test set predictions:\", clf.predict(X_test))\n",
    "\n",
    "print(f\"Test set accuracy: {clf.score(X_test, y_test)}\") # evaluate how well our model generalizes"
   ]
  },
  {
   "cell_type": "markdown",
   "metadata": {},
   "source": [
    "The model predicted the class correctly for 86% of the samples in the test dataset."
   ]
  },
  {
   "cell_type": "markdown",
   "metadata": {
    "slideshow": {
     "slide_type": "slide"
    }
   },
   "source": [
    "# STRENGTHS, WEAKNESSES, AND PARAMETERS of KNN\n",
    "\n",
    "##### Important parameters:\n",
    "- number of neighbors (in practice, using a small number of neighbors (3-5) often works well)\n",
    "- how you measure distance between data points (by default, Euclidean distance is used) \n",
    "\n",
    "###### Strengths\n",
    "- easy to understand\n",
    "- gives reasonable performance without a lot of adjustments\n",
    "- good baseline method to try before considering more advanced techniques. \n",
    "\n",
    "###### Weaknesses\n",
    "- building the model is fast, but prediction can be slow when training set is very large (number of features/samples). \n",
    "- important to preprocess data. \n",
    "- does not perform well on datasets with many features (hundreds or more)\n",
    "- very bad performance on datasets where most features are 0 most of the time (sparse datasets)."
   ]
  },
  {
   "cell_type": "markdown",
   "metadata": {
    "slideshow": {
     "slide_type": "slide"
    }
   },
   "source": [
    "# Model Complexity vs Accuracy\n",
    "\n",
    "\n",
    "\n",
    "\n",
    "__Decision boundary:__\n",
    "<br>The divide between where the algorithm assigns class 0 versus where it assigns class 1.\n",
    "\n",
    "Let's look at the decision boundaries for one, three, and nine neighbours.\n",
    "\n",
    "The plot is coloured according to the class that would be assigned to a point in each region. \n",
    "\n",
    " \n",
    "\n"
   ]
  },
  {
   "cell_type": "code",
   "execution_count": 44,
   "metadata": {},
   "outputs": [
    {
     "data": {
      "text/plain": [
       "<matplotlib.legend.Legend at 0x1c1a3bd450>"
      ]
     },
     "execution_count": 44,
     "metadata": {},
     "output_type": "execute_result"
    },
    {
     "data": {
      "image/png": "[encoded data removed]",
      "text/plain": [
       "<Figure size 720x216 with 3 Axes>"
      ]
     },
     "metadata": {},
     "output_type": "display_data"
    }
   ],
   "source": [
    "fig, axes = plt.subplots(1, 3, figsize=(10, 3))\n",
    "\n",
    "for n_neighbors, ax in zip([1, 3, 9], axes):\n",
    "    \n",
    "    # 4-5 Instantaite and fit the model \n",
    "    clf = KNeighborsClassifier(n_neighbors=n_neighbors).fit(X, y) # the fit method instantiates and fits in one line\n",
    "    \n",
    "    # plotting functions from mglearn\n",
    "    mglearn.plots.plot_2d_separator(clf, X, fill=True, eps=0.5, ax=ax, alpha=.4)\n",
    "    mglearn.discrete_scatter(X[:, 0], X[:, 1], y, ax=ax) # build in scatter plot tool\n",
    "    \n",
    "    ax.set_title(f\"{n_neighbors} neighbor(s)\")\n",
    "    ax.set_xlabel(\"feature 0\")\n",
    "    ax.set_ylabel(\"feature 1\")\n",
    "    \n",
    "axes[0].legend(loc=3)"
   ]
  },
  {
   "cell_type": "markdown",
   "metadata": {
    "slideshow": {
     "slide_type": "slide"
    }
   },
   "source": [
    "Few neighbors --> decision boundary that follows the training data closely --> high model complexity.\n",
    "\n",
    "Many neighbors --> smoother decision boundary --> low model complexity.\n",
    "\n"
   ]
  },
  {
   "cell_type": "markdown",
   "metadata": {
    "slideshow": {
     "slide_type": "slide"
    }
   },
   "source": [
    "Consider the extreme case where __number of neighbors = number of all data points in the training set__.\n",
    "<br>Each test point would have exactly the same neighbors (all training points).\n",
    "<br>All predictions would be the same: the class that appears most frequently in the training set."
   ]
  },
  {
   "cell_type": "markdown",
   "metadata": {
    "slideshow": {
     "slide_type": "slide"
    }
   },
   "source": [
    "\n",
    "\n",
    "What is the relationship betwee __complexity__ and __generalization__?\n",
    "\n",
    "__Complexity__ : how closely the decision boundary follows the training data. \n",
    "\n",
    "__Generalization__ : the accuracy with which the model can be applied to new, unknown data. "
   ]
  },
  {
   "cell_type": "markdown",
   "metadata": {
    "slideshow": {
     "slide_type": "slide"
    }
   },
   "source": [
    "Let's consider this using real-world data: the Breast Cancer dataset."
   ]
  },
  {
   "cell_type": "code",
   "execution_count": 45,
   "metadata": {
    "slideshow": {
     "slide_type": "slide"
    }
   },
   "outputs": [],
   "source": [
    "from sklearn.datasets import load_breast_cancer # 1. Import model\n",
    "\n",
    "cancer = load_breast_cancer()                   # 2. Import data\n",
    "\n",
    "X_train, X_test, y_train, y_test = train_test_split(cancer.data,    # 3. split into test and train data\n",
    "                                                    cancer.target, \n",
    "                                                    stratify=cancer.target, \n",
    "                                                    random_state=66)"
   ]
  },
  {
   "cell_type": "code",
   "execution_count": 46,
   "metadata": {
    "slideshow": {
     "slide_type": "slide"
    }
   },
   "outputs": [
    {
     "data": {
      "text/plain": [
       "<matplotlib.legend.Legend at 0x1c1a189310>"
      ]
     },
     "execution_count": 46,
     "metadata": {},
     "output_type": "execute_result"
    },
    {
     "data": {
      "image/png": "[encoded data removed]",
      "text/plain": [
       "<Figure size 432x288 with 1 Axes>"
      ]
     },
     "metadata": {
      "needs_background": "light"
     },
     "output_type": "display_data"
    }
   ],
   "source": [
    "training_accuracy = []\n",
    "test_accuracy = []\n",
    "\n",
    "neighbors_settings = range(1, 11) # try n_neighbors from 1 to 10\n",
    "\n",
    "for n_neighbors in neighbors_settings:\n",
    "    \n",
    "    # 4. instantiate and fit model to train data\n",
    "    clf = KNeighborsClassifier(n_neighbors=n_neighbors).fit(X_train, y_train) \n",
    "    \n",
    "    \n",
    "    training_accuracy.append(clf.score(X_train, y_train)) # record training data accuracy\n",
    "    test_accuracy.append(clf.score(X_test, y_test))       # record generalization accuracy\n",
    "\n",
    "    \n",
    "plt.plot(neighbors_settings, training_accuracy, label=\"training accuracy\")\n",
    "plt.plot(neighbors_settings, test_accuracy, label=\"test accuracy\")\n",
    "plt.ylabel(\"Accuracy\")\n",
    "plt.xlabel(\"n_neighbors\")\n",
    "plt.legend()"
   ]
  },
  {
   "cell_type": "markdown",
   "metadata": {
    "slideshow": {
     "slide_type": "slide"
    }
   },
   "source": [
    "(Real-world x-axis : plots are rarely very smooth)\n",
    "\n",
    "Accuracy of prediction on the __training__ data scales inversely with n_neighbours. \n",
    "\n",
    "Accuracy of prediction on the __test__ data:\n",
    " - 1 neightbour : accuracy is lower than when using more neighbors --> model is too complex (__overfitted__).\n",
    "    \n",
    " - 10 neightbours : accuracy is lower than when using less neighbors --> model is too simple (__underfitted__). \n",
    "\n",
    "The best performance is somewhere in the middle, using around six neighbors. \n",
    "\n",
    "(It is important to keep the scale of the plot in mind. The worst performance is around 88% accuracy, which might still be acceptable.)"
   ]
  },
  {
   "cell_type": "markdown",
   "metadata": {
    "slideshow": {
     "slide_type": "slide"
    }
   },
   "source": [
    "In other words, there is an optimal point that will give the best generalization (accuracy on the test data / new data). \n",
    "\n",
    "This is the model we want to find.\n",
    "\n",
    "<p align=\"center\">\n",
    "  <img src=\"img/overfitting.png\" alt=\"Drawing\" style=\"width: 300px;\"/>\n",
    "</p>"
   ]
  },
  {
   "cell_type": "markdown",
   "metadata": {
    "slideshow": {
     "slide_type": "slide"
    }
   },
   "source": [
    "The first model we studied was KNN. \n",
    "\n",
    "KNN is easy to understand, but not often used in practice, due to prediction being slow and its inability to handle many features. \n",
    "\n",
    "The next method has neither of these drawbacks..."
   ]
  },
  {
   "cell_type": "markdown",
   "metadata": {
    "slideshow": {
     "slide_type": "slide"
    }
   },
   "source": [
    "# Linear Models\n",
    "\n",
    "\n",
    "\n",
    "Widely used in practice\n",
    "\n",
    "Studied extensively in the last few decades, (with origins going back over a hundred years). \n",
    "\n",
    "Make a prediction using a *linear function* of the input features.\n",
    "\n",
    "\n",
    "\n",
    "\n"
   ]
  },
  {
   "cell_type": "markdown",
   "metadata": {
    "slideshow": {
     "slide_type": "slide"
    }
   },
   "source": [
    "<a id='LinearModelsRegression'></a>\n",
    "## 5.2 Linear Models for Regression\n",
    "\n",
    "\n",
    "\n",
    "\n",
    "For regression, the general prediction formula for a linear model:\n",
    "\n",
    "$$\\hat{y} = w_0x_0 + w_1x_1 + ... + w_px_p + b$$\n",
    "\n",
    "$x_0$ to $x_p$ : features (in this example, the number of features is $p+1$) of a single data point\n",
    "\n",
    "$w$ and $b$ : model parameters that are learned\n",
    "\n",
    "$\\hat{y}$ : the prediction the model makes. \n",
    "\n",
    "Predicted response is a weighted sum of the input features, with weights (which can be negative) given by $w$.\n",
    "\n",
    "\n",
    "\n"
   ]
  },
  {
   "cell_type": "markdown",
   "metadata": {
    "slideshow": {
     "slide_type": "slide"
    }
   },
   "source": [
    "For a dataset with a single feature:\n",
    "\n",
    "$$\\hat{y} = w_0x_0 + b$$\n",
    "\n",
    "i.e. a linear function where $w_0$ is the slope and $b$ is the y-axis intercept. \n",
    "\n",
    "<p align=\"center\">\n",
    "  <img src=\"img/hours_study.png\" alt=\"Drawing\" style=\"width: 300px;\"/>\n",
    "</p>"
   ]
  },
  {
   "cell_type": "markdown",
   "metadata": {
    "slideshow": {
     "slide_type": "slide"
    }
   },
   "source": [
    "For more features, $w$ denotes the slopes along *each feature axis*. \n",
    "\n",
    "<p align=\"center\">\n",
    "  <img src=\"img/regression_2features.png\" alt=\"Drawing\" style=\"width: 300px;\"/>\n",
    "</p>"
   ]
  },
  {
   "cell_type": "markdown",
   "metadata": {
    "slideshow": {
     "slide_type": "slide"
    }
   },
   "source": [
    "\n",
    "- a line for a single feature\n",
    "- a plane when using two features\n",
    "- a hyperplane in higher dimensions (when using more features).\n",
    "\n"
   ]
  },
  {
   "cell_type": "markdown",
   "metadata": {
    "slideshow": {
     "slide_type": "slide"
    }
   },
   "source": [
    "Learning the parameters $w_0$ and $b$ on the one-dimensional wave dataset :"
   ]
  },
  {
   "cell_type": "code",
   "execution_count": 47,
   "metadata": {},
   "outputs": [
    {
     "name": "stdout",
     "output_type": "stream",
     "text": [
      "w[0]: 0.393906  b: -0.031804\n"
     ]
    },
    {
     "data": {
      "image/png": "[encoded data removed]",
      "text/plain": [
       "<Figure size 576x576 with 1 Axes>"
      ]
     },
     "metadata": {
      "needs_background": "light"
     },
     "output_type": "display_data"
    }
   ],
   "source": [
    "mglearn.plots.plot_linear_regression_wave()"
   ]
  },
  {
   "cell_type": "markdown",
   "metadata": {
    "slideshow": {
     "slide_type": "slide"
    }
   },
   "source": [
    "The slope should be around 0.4, the y-intercept should be slightly below zero which we can confirm visually in the plot. "
   ]
  },
  {
   "cell_type": "markdown",
   "metadata": {
    "slideshow": {
     "slide_type": "slide"
    }
   },
   "source": [
    "There are many different linear models for regression. \n",
    "\n",
    "The difference is in:\n",
    "- how the model parameters w and b are learned from the training data\n",
    "- how model complexity can be controlled. \n",
    "\n",
    "We will now take a look at the most popular linear models for regression."
   ]
  },
  {
   "cell_type": "markdown",
   "metadata": {
    "slideshow": {
     "slide_type": "slide"
    }
   },
   "source": [
    "## LINEAR REGRESSION (ORDINARY LEAST SQUARES)\n",
    "- simplest linear method for regression. \n",
    "- finds the parameters `w` and `b` that *minimize* the __mean squared error__ between $n$ predictions $\\hat{y_i}$ and the true regression targets, $y_i$, of the training set. \n",
    "- __mean squared error__ $ \\varepsilon = \\frac{1}{n}\\sum_{i=1}^{n}(y_i - \\hat{y_i})^2 $ <br>(sum of the squared differences between the predictions and the true values, divided by the number of samples). \n",
    "\n",
    "\n",
    "<p align=\"center\">\n",
    "  <img src=\"img/regression_errror.jpg\" alt=\"Drawing\" style=\"width: 300px;\"/>\n",
    "</p>\n",
    "\n"
   ]
  },
  {
   "cell_type": "code",
   "execution_count": 48,
   "metadata": {
    "slideshow": {
     "slide_type": "slide"
    }
   },
   "outputs": [],
   "source": [
    "from sklearn.linear_model import LinearRegression # 1. import model\n",
    "\n",
    "X, y = mglearn.datasets.make_wave(n_samples=60)   # 2. import data\n",
    "\n",
    "X_train, X_test, y_train, y_test = train_test_split(X, y, random_state=42) # 3. split into test and train data\n",
    "\n",
    "lr = LinearRegression().fit(X_train, y_train)     # 4. instantiate and fit model to train data "
   ]
  },
  {
   "cell_type": "markdown",
   "metadata": {
    "slideshow": {
     "slide_type": "slide"
    }
   },
   "source": [
    "__w__ : “slope” parameters / weights / coefficients --> stored in the `coef_` attribute.\n",
    "\n",
    "__b__ : offset / intercept --> stored in the `intercept_` attribute."
   ]
  },
  {
   "cell_type": "code",
   "execution_count": 49,
   "metadata": {
    "slideshow": {
     "slide_type": "-"
    }
   },
   "outputs": [
    {
     "name": "stdout",
     "output_type": "stream",
     "text": [
      "lr.coef_: [0.39390555]\n",
      "lr.intercept_: -0.031804343026759746\n"
     ]
    }
   ],
   "source": [
    "print(\"lr.coef_:\", lr.coef_)\n",
    "print(\"lr.intercept_:\", lr.intercept_)"
   ]
  },
  {
   "cell_type": "markdown",
   "metadata": {
    "slideshow": {
     "slide_type": "slide"
    }
   },
   "source": [
    "#### Trailing underscore at the end of `coef_` and `intercept_`. \n",
    "`scikit-learn` always stores anything that is derived from the training data in attributes that end with a trailing underscore. \n",
    "\n",
    "That is to separate them from parameters that are set by the user."
   ]
  },
  {
   "cell_type": "markdown",
   "metadata": {
    "slideshow": {
     "slide_type": "slide"
    }
   },
   "source": [
    "`intercept_` attribute is always a single float number.\n",
    "\n",
    "`coef_` attribute is a NumPy array with one entry per input feature. \n",
    "\n",
    "The wave dataset has a single input feature --> `lr.coef_` only has a single entry.\n",
    "\n",
    "Let’s look at the training set and test set performance:"
   ]
  },
  {
   "cell_type": "code",
   "execution_count": 50,
   "metadata": {},
   "outputs": [
    {
     "name": "stdout",
     "output_type": "stream",
     "text": [
      "Training set score: 0.6700890315075756\n",
      "Test set score: 0.65933685968637\n"
     ]
    }
   ],
   "source": [
    "print(f\"Training set score: {lr.score(X_train, y_train)}\")\n",
    "print(f\"Test set score: {lr.score(X_test, y_test)}\")"
   ]
  },
  {
   "cell_type": "markdown",
   "metadata": {
    "slideshow": {
     "slide_type": "slide"
    }
   },
   "source": [
    "The default `score` evaluation criterion for regression problems is the $R^2$ value.\n",
    "\n",
    "$R^2$ : a statistical measure (0 to 1) that shows to what extent the variance of the independent variable(s) explains the variance of a dependent variable. \n",
    "\n",
    "If the $R^2$ of a model is 0.50, then approximately half of the variation in the output can be explained by the model's inputs.\n",
    "\n",
    "An accurate model has a high $R^2$ value. \n",
    "\n"
   ]
  },
  {
   "cell_type": "markdown",
   "metadata": {
    "slideshow": {
     "slide_type": "slide"
    }
   },
   "source": [
    "<br>\n",
    "\n",
    "$R^2 = 1 -$ [ratio of __sum of squares of residuals__ to __total sum of squares__]\n",
    "\n",
    "$ \\; \\; \\; \\; \\; = 1 - \\frac{SS_{res}}{SS_{tot}}$\n",
    "\n",
    "\n",
    "<br>\n",
    "\n",
    "\n",
    "\n",
    "__Sum of squares of residuals__<br> $SS_{res} =\\sum_{i=1}^{n}(y_i - \\hat{y})^2$\n",
    "\n",
    "\n",
    "__Total sum of squares__<br>(proportional to the variance of the data)<br> $SS_{tot} = \\sum_{i=1}^{n}(y_i - \\bar{y_i})^2$\n",
    "\n",
    "\n",
    "Mean of the trainig data<br>\n",
    "$\\bar{y} = \\frac{1}{n}\\sum_{i=1}^{n}y_i $"
   ]
  },
  {
   "cell_type": "markdown",
   "metadata": {
    "slideshow": {
     "slide_type": "slide"
    }
   },
   "source": [
    "$R^2$ of around 0.66 is not very good.\n",
    "\n",
    "But, we can see that there is very little difference between the scores on the training and test sets.\n",
    "\n",
    "##### What does this mean? \n",
    "\n",
    "This means we are likely underfitting, not overfitting...."
   ]
  },
  {
   "cell_type": "markdown",
   "metadata": {
    "slideshow": {
     "slide_type": "slide"
    }
   },
   "source": [
    "# Variance and Bias\n"
   ]
  },
  {
   "cell_type": "markdown",
   "metadata": {},
   "source": [
    "Let's come back to the idea of overfitting and underfitting and use linear regression as a way to explain this phenomenon. \n",
    "\n",
    "The model's:\n",
    "- complexity\n",
    "- over/under -fitting to the training data\n",
    "- generalization / accuracy on the test data\n",
    "are connected to the __prediction error__ of the machine learning algorithm."
   ]
  },
  {
   "cell_type": "markdown",
   "metadata": {
    "slideshow": {
     "slide_type": "slide"
    }
   },
   "source": [
    "The prediction error for any machine learning algorithm can be broken down into three parts:\n",
    "- __Bias Error__\n",
    "- __Variance Error__\n",
    "- __Irreducible Error__ : Cannot be reduced regardless of what algorithm is used. Error introduced from the chosen framing of the problem. Caused by factors such as unknown variables that influence the mapping of the input variables to the output variable."
   ]
  },
  {
   "cell_type": "markdown",
   "metadata": {
    "slideshow": {
     "slide_type": "slide"
    }
   },
   "source": [
    "### Bias Error\n",
    "\n",
    "__Bias__ : Simplifying assumptions made by a model to make the target function easier to learn.\n",
    "\n",
    "Example : A linear model (line, plane or hyperplane) fits poorly to data along a curve due to the inflexibility of a linear model. \n",
    "\n",
    "<p align=\"center\">\n",
    "  <img src=\"img/bias.png\" alt=\"Drawing\" style=\"width: 300px;\"/>\n",
    "</p>\n",
    "\n"
   ]
  },
  {
   "cell_type": "markdown",
   "metadata": {
    "slideshow": {
     "slide_type": "slide"
    }
   },
   "source": [
    "__Low Bias__: Less assumptions about the form of the target function, risk of overfitting.\n",
    "<br>Examples : k-Nearest Neighbors, Support Vector Machines, Decision Trees\n",
    "\n",
    "__High-Bias__: More assumptions about the form of the target function, risk of underfitting\n",
    "<br>Examples: Linear Models"
   ]
  },
  {
   "cell_type": "markdown",
   "metadata": {
    "slideshow": {
     "slide_type": "slide"
    }
   },
   "source": [
    "### Variance Error\n",
    "\n",
    "__Variance__: the amount that the estimate of the target function will change if different training data was used.\n",
    "\n",
    "The target function is estimated, so we should expect the algorithm to have some variance. \n",
    "\n",
    "However, ideally, it should not change much from one training dataset to the next\n",
    "<br> --> this means that the algorithm is good at idenitifying the hidden underlying mapping between the inputs and the output variables.\n",
    "\n",
    "<p align=\"center\">\n",
    "  <img src=\"img/variance.png\" alt=\"Drawing\" style=\"width: 300px;\"/>\n",
    "</p>"
   ]
  },
  {
   "cell_type": "markdown",
   "metadata": {
    "slideshow": {
     "slide_type": "slide"
    }
   },
   "source": [
    "__Low Variance__: Small changes to the estimate of the target function with changes to the training dataset.\n",
    "Examples : Linear Models\n",
    "\n",
    "__High Variance__: Suggests large changes to the estimate of the target function with changes to the training dataset (strongly influenced by the specifics of the training data).\n",
    "<br>Examples : k-Nearest Neighbors, Support Vector Machines, Decision Trees"
   ]
  },
  {
   "cell_type": "markdown",
   "metadata": {
    "slideshow": {
     "slide_type": "slide"
    }
   },
   "source": [
    "## Bias-Variance Trade-Off\n",
    "\n",
    "Models with *high bias* may perform __worse__ than those with *high variance* on the __training__ data set.\n",
    "\n",
    "BUT\n",
    "\n",
    "Models with *high bias* may __generalize__ better than those with *high variance* and consequently perform better on the __test__ data set.\n",
    "\n",
    "<p align=\"center\">\n",
    "  <img src=\"img/bias_variance_balance.png\" alt=\"Drawing\" style=\"width: 600px;\"/>\n",
    "</p>"
   ]
  },
  {
   "cell_type": "markdown",
   "metadata": {
    "slideshow": {
     "slide_type": "slide"
    }
   },
   "source": [
    "## Bias-Variance Trade-Off\n",
    "\n",
    "The goal of any supervised machine learning algorithm is to achieve:\n",
    "- low bias\n",
    "- low variance\n",
    "\n",
    "As a result, the algorithm should achieve good prediction performance.\n",
    "\n",
    "<p align=\"center\">\n",
    "  <img src=\"img/bias_variance_balance.png\" alt=\"Drawing\" style=\"width: 600px;\"/>\n",
    "</p>"
   ]
  },
  {
   "cell_type": "markdown",
   "metadata": {
    "slideshow": {
     "slide_type": "slide"
    }
   },
   "source": [
    "However, there is a trade-off at play. \n",
    "\n",
    "Increasing the bias will decrease the variance.\n",
    "Increasing the variance will decrease the bias.\n",
    "\n",
    "\n",
    "<p align=\"center\">\n",
    "  <img src=\"img/bias_variance_trade_off2.png\" alt=\"Drawing\" style=\"width: 400px;\"/>\n",
    "</p>\n",
    "\n",
    "\n",
    "The algorithms you choose and the way you choose to configure them lead to different balances in this trade-off for your problem"
   ]
  },
  {
   "cell_type": "markdown",
   "metadata": {
    "slideshow": {
     "slide_type": "slide"
    }
   },
   "source": [
    "__k-nearest neighbors (KNN)__\n",
    "<br>Low bias and high variance. <br>The trade-off can be changed by increasing the number of neighbors which increases the bias of the model.\n",
    "\n",
    "__Linear regression__\n",
    "<br>High bias and low variance. <br>No parameters : simple to use but no way to control model complexity.<br>*Regularization*<br>A form of regression to avoid overfitting. <br>Constrains/regularizes/shrinks the coefficient estimates towards zero to discourages learning a more complex model.<br>An example *Ridge Regression* is shown in the [10 MachineLearning 2 , Supplementary](10_MachineLearning2_SupervisedLearning_Supplementary.ipynb))"
   ]
  },
  {
   "cell_type": "markdown",
   "metadata": {
    "slideshow": {
     "slide_type": "slide"
    }
   },
   "source": [
    "In reality, we cannot calculate the real bias and variance error terms because we do not know the actual underlying target function. \n",
    "\n",
    "However, bias and variance help us to understand the behavior of machine learning algorithms."
   ]
  },
  {
   "cell_type": "markdown",
   "metadata": {
    "slideshow": {
     "slide_type": "slide"
    }
   },
   "source": [
    "Let's look again at the `wave` data set. \n",
    "\n",
    "The score is similar for the test and traning data.\n",
    "\n",
    "For this one-dimensional dataset, there is little danger of overfitting, as the model is very simple (or restricted). "
   ]
  },
  {
   "cell_type": "code",
   "execution_count": 51,
   "metadata": {},
   "outputs": [
    {
     "name": "stdout",
     "output_type": "stream",
     "text": [
      "w[0]: 0.393906  b: -0.031804\n",
      "Training set score: 0.6700890315075756\n",
      "Test set score: 0.65933685968637\n"
     ]
    },
    {
     "data": {
      "image/png": "[encoded data removed]",
      "text/plain": [
       "<Figure size 576x576 with 1 Axes>"
      ]
     },
     "metadata": {
      "needs_background": "light"
     },
     "output_type": "display_data"
    }
   ],
   "source": [
    "mglearn.plots.plot_linear_regression_wave()\n",
    "\n",
    "print(f\"Training set score: {lr.score(X_train, y_train)}\")\n",
    "print(f\"Test set score: {lr.score(X_test, y_test)}\")"
   ]
  },
  {
   "cell_type": "markdown",
   "metadata": {
    "slideshow": {
     "slide_type": "slide"
    }
   },
   "source": [
    "\n",
    "\n",
    "However, with higher-dimensional datasets (datasets with a large number of features), linear models become more powerful, and there is a higher chance of overfitting."
   ]
  },
  {
   "cell_type": "markdown",
   "metadata": {
    "slideshow": {
     "slide_type": "slide"
    }
   },
   "source": [
    "Let's see how `LinearRegression` performs on a more complex dataset: the Boston Housing dataset (506 samples, 104 derived features). "
   ]
  },
  {
   "cell_type": "code",
   "execution_count": 52,
   "metadata": {},
   "outputs": [],
   "source": [
    "X, y = mglearn.datasets.load_extended_boston()    # 2. Import data                          # 1. Load data\n",
    "\n",
    "X_train, X_test, y_train, y_test = train_test_split(X,  # 3. Split the data\n",
    "                                                    y, \n",
    "                                                    random_state=0)    \n",
    "lr = LinearRegression().fit(X_train, y_train)    # 4+5 Instantiate and fit the model to the training data"
   ]
  },
  {
   "cell_type": "markdown",
   "metadata": {
    "slideshow": {
     "slide_type": "slide"
    }
   },
   "source": [
    "When comparing training set and test set scores, the R2 on the test set is much worse than on the training set:"
   ]
  },
  {
   "cell_type": "code",
   "execution_count": 53,
   "metadata": {},
   "outputs": [
    {
     "name": "stdout",
     "output_type": "stream",
     "text": [
      "Training set score: 0.952051960903273\n",
      "Test set score: 0.6074721959665863\n"
     ]
    }
   ],
   "source": [
    "print(f\"Training set score: {lr.score(X_train, y_train)}\")\n",
    "print(f\"Test set score: {lr.score(X_test, y_test)}\")"
   ]
  },
  {
   "cell_type": "markdown",
   "metadata": {
    "slideshow": {
     "slide_type": "slide"
    }
   },
   "source": [
    "The discrepancy between performance on the training set and the test set is a sign of __overfitting__.\n",
    "\n",
    "We should try to find a model that allows us to control complexity. \n",
    "\n",
    "A technique called __regularization__ is often used<br>\n",
    "This reduces the degree of influence by features the model is trained to have.  \n",
    "\n",
    "Further study of this area is beyond the scope of this class. \n",
    "<br>One of the most commonly used alternatives to standard linear regression is *ridge regression*. "
   ]
  },
  {
   "cell_type": "markdown",
   "metadata": {
    "slideshow": {
     "slide_type": "slide"
    }
   },
   "source": [
    "<a id='LinearModelsClassification'></a>\n",
    "## 5.3 Linear Models for  Classification\n",
    "\n",
    "\n",
    "\n",
    "\n",
    "Linear models are also extensively used for classification. \n",
    "\n",
    "__Linear models for *regression*__\n",
    "<br>The *output, $\\hat{y}$*, is a linear function of the *features*: <br>(line, plane, or hyperplane) \n",
    "\n",
    "__Linear models for *classification*__\n",
    "<br>Separates two classes using a linear function of the *features*<br>(line, a plane, or a hyperplane) \n",
    "\n",
    "<p align=\"center\">\n",
    "  <img src=\"img/linear_classifier_2feature.png\" alt=\"Drawing\" style=\"width: 600px;\"/>\n",
    "</p>\n",
    "\n",
    "\n"
   ]
  },
  {
   "cell_type": "markdown",
   "metadata": {
    "slideshow": {
     "slide_type": "slide"
    }
   },
   "source": [
    "A __binary__ prediction is made using the following formula.\n",
    "\n",
    "\n",
    "\\begin{align*}\n",
    "f &= \\mathbf{w}^T\\mathbf{x} + b \\\\\n",
    "  &= w_0x_0 + w_1x_1 + ... + w_px_p + b\\\\\n",
    "\\end{align*}\n",
    "\n",
    "The formula looks very similar to the one for linear regression.\n",
    "\n",
    "\n",
    "\n",
    "But instead of just returning the weighted sum of the features, $f$, the outcome is used to classsify the data point as belonging to __one of two groups__, by comparing $f$ to some threshold value $T$.\n",
    "\n",
    "$$\\hat{y}= \n",
    "\\begin{cases}\n",
    "    1,& \\text{if } f\\geq T\\\\\n",
    "    0,& \\text{otherwise}\n",
    "\\end{cases}\n",
    "$$"
   ]
  },
  {
   "cell_type": "markdown",
   "metadata": {
    "slideshow": {
     "slide_type": "slide"
    }
   },
   "source": [
    "For a 1D classifier this simplifies to:\n",
    "\n",
    "$$f = w_0x_0 + b$$\n",
    "\n",
    "$$\\hat{y}= \n",
    "\\begin{cases}\n",
    "    1,& \\text{if } f\\geq T\\\\\n",
    "    0,& \\text{otherwise}\n",
    "\\end{cases}\n",
    "$$\n",
    "\n",
    "For example, deciding if a tumor is malignant or not based on a threshold size.\n",
    "\n",
    "<p align=\"center\">\n",
    "  <img src=\"img/malignant.png\" alt=\"Drawing\" style=\"width: 400px;\"/>\n",
    "</p>\n"
   ]
  },
  {
   "cell_type": "markdown",
   "metadata": {
    "slideshow": {
     "slide_type": "slide"
    }
   },
   "source": [
    "Writing this as one line:\n",
    "\n",
    "\\begin{align*}\n",
    "\\hat{y} &= w_0x_0 + w_1x_1 + ... + w_px_p + b \\geq T \\\\\n",
    "        &= w_0x_0 + w_1x_1 + ... + w_px_p + b - T \\geq 0\\\\\n",
    "        &= w_0x_0 + w_1x_1 + ... + w_px_p + b  \\geq 0\\\\\n",
    "\\end{align*}\n",
    "\n",
    "$\\hat{y}$ is a boolean `True`/`False` or `0`/`1` value"
   ]
  },
  {
   "cell_type": "markdown",
   "metadata": {
    "slideshow": {
     "slide_type": "slide"
    }
   },
   "source": [
    "<p align=\"center\">\n",
    "  <img src=\"img/linear_classifier_2feature.png\" alt=\"Drawing\" style=\"width: 600px;\"/>\n",
    "</p>"
   ]
  },
  {
   "cell_type": "markdown",
   "metadata": {
    "slideshow": {
     "slide_type": "slide"
    }
   },
   "source": [
    "The two most common linear classification algorithms are:\n",
    "- logistic regression (`linear_model.LogisticRegression`) [a classification algorithm, despite it's name!]\n",
    "- linear support vector machines (linear SVMs) `svm.LinearSVC` (SVC stands for support vector classifier). "
   ]
  },
  {
   "cell_type": "markdown",
   "metadata": {
    "slideshow": {
     "slide_type": "slide"
    }
   },
   "source": [
    "We can apply the LogisticRegression and LinearSVC models to the forge dataset, and visualize the decision boundary as found by the linear models.\n",
    "\n",
    "A `for` loop is used to loop through each of the two models:\n",
    "- fitting the data\n",
    "- plotting the output\n",
    "\n",
    "On the plot, the decision boundary is shown as a straight line."
   ]
  },
  {
   "cell_type": "code",
   "execution_count": 54,
   "metadata": {
    "slideshow": {
     "slide_type": "slide"
    }
   },
   "outputs": [
    {
     "name": "stderr",
     "output_type": "stream",
     "text": [
      "/opt/anaconda3/lib/python3.7/site-packages/sklearn/utils/deprecation.py:85: DeprecationWarning: Function make_blobs is deprecated; Please import make_blobs directly from scikit-learn\n",
      "  warnings.warn(msg, category=DeprecationWarning)\n",
      "/opt/anaconda3/lib/python3.7/site-packages/sklearn/svm/base.py:929: ConvergenceWarning: Liblinear failed to converge, increase the number of iterations.\n",
      "  \"the number of iterations.\", ConvergenceWarning)\n",
      "/opt/anaconda3/lib/python3.7/site-packages/sklearn/linear_model/logistic.py:432: FutureWarning: Default solver will be changed to 'lbfgs' in 0.22. Specify a solver to silence this warning.\n",
      "  FutureWarning)\n"
     ]
    },
    {
     "data": {
      "text/plain": [
       "<matplotlib.legend.Legend at 0x1c1ce1e890>"
      ]
     },
     "execution_count": 54,
     "metadata": {},
     "output_type": "execute_result"
    },
    {
     "data": {
      "image/png": "[encoded data removed]",
      "text/plain": [
       "<Figure size 720x216 with 2 Axes>"
      ]
     },
     "metadata": {},
     "output_type": "display_data"
    }
   ],
   "source": [
    "from sklearn.linear_model import LogisticRegression # 1. Import model\n",
    "from sklearn.svm import LinearSVC\n",
    "\n",
    "X, y = mglearn.datasets.make_forge()                # 2. Import data           \n",
    "\n",
    "\n",
    "\n",
    "fig, axes = plt.subplots(1, 2, figsize=(10, 3))     # axes to plot  \n",
    "models = [LinearSVC(), LogisticRegression()]        # models to fit\n",
    "\n",
    "for model, ax in zip(models, axes): \n",
    "    \n",
    "    clf = model.fit(X, y)                       # 3. Instantiate and fit model to data                    \n",
    "    \n",
    "    # plot the output\n",
    "    mglearn.plots.plot_2d_separator(clf,        # fitted model     \n",
    "                                    X,          # data\n",
    "                                    fill=False, \n",
    "                                    eps=0.5,\n",
    "                                    ax=ax, \n",
    "                                    alpha=.7)\n",
    "    \n",
    "    mglearn.discrete_scatter(X[:, 0], X[:, 1], y, ax=ax)\n",
    "    ax.set_title(clf.__class__.__name__)\n",
    "    ax.set_xlabel(\"Feature 0\")\n",
    "    ax.set_ylabel(\"Feature 1\")\n",
    "axes[0].legend()"
   ]
  },
  {
   "cell_type": "markdown",
   "metadata": {
    "slideshow": {
     "slide_type": "slide"
    }
   },
   "source": [
    "The boundaries separate the area classified as class 1 on the top from the area classified as class 0 on the bottom. \n",
    "\n",
    "Any new data point that lies:\n",
    "- above the black line will be classified as class 1 \n",
    "- below the black line will be classified as class 0\n",
    "\n",
    "Note that both misclassify two of the points. "
   ]
  },
  {
   "cell_type": "markdown",
   "metadata": {
    "slideshow": {
     "slide_type": "slide"
    }
   },
   "source": [
    "## LINEAR MODELS FOR MULTICLASS CLASSIFICATION\n",
    "Many linear classification models are for binary classification only.\n",
    "<br>They don’t extend naturally to the multiclass case.\n",
    "<br>(exception : logistic regression). \n",
    "\n",
    "A common technique to extend a binary classification algorithm to a multiclass classification algorithm is the *__one-vs.-rest__* approach. \n",
    "\n"
   ]
  },
  {
   "cell_type": "markdown",
   "metadata": {
    "slideshow": {
     "slide_type": "slide"
    }
   },
   "source": [
    "##### one-vs.-rest\n",
    "- A binary model is learned for each class that tries to separate that class from all of the *other* classes.\n",
    "<br>This results in as many binary models as there are classes. \n",
    "\n",
    "- To make a prediction, all binary classifiers are run on a test data point. \n",
    "\n",
    "- The classifier that has the highest score on its single class “wins,” and this class label is returned as the prediction"
   ]
  },
  {
   "cell_type": "markdown",
   "metadata": {
    "slideshow": {
     "slide_type": "slide"
    }
   },
   "source": [
    " AND PARAMETERS\n",
    "\n",
    "#### Model Parameters : Regularization\n",
    "`alpha` : regression models\n",
    "`C` : LinearSVC and LogisticRegression. \n",
    "\n",
    "Large values for `alpha` or small values for `C` mean simple models. \n",
    "\n",
    "Usually `C` and `alpha` are searched for on a logarithmic scale."
   ]
  },
  {
   "cell_type": "code",
   "execution_count": 55,
   "metadata": {},
   "outputs": [
    {
     "data": {
      "image/png": "[encoded data removed]",
      "text/plain": [
       "<Figure size 864x288 with 3 Axes>"
      ]
     },
     "metadata": {},
     "output_type": "display_data"
    }
   ],
   "source": [
    "mglearn.plots.plot_linear_svc_regularization()"
   ]
  },
  {
   "cell_type": "markdown",
   "metadata": {
    "slideshow": {
     "slide_type": "slide"
    }
   },
   "source": [
    "Higher `C` --> `LogisticRegression` / `LinearSVC` try to fit the training set as best as possible\n",
    "<br>Lower `C` --> The models put more emphasis on finding a coefficient vector (w) that is close to zero.\n",
    "\n",
    "Higher `C` --> stresses the importance that each individual data point be classified correctly. \n",
    "<br>Lower `C` --> algorithms try to adjust to the “majority” of data points"
   ]
  },
  {
   "cell_type": "markdown",
   "metadata": {
    "slideshow": {
     "slide_type": "slide"
    }
   },
   "source": [
    "## STRENGTHS, WEAKNESSES\n",
    "\n",
    "#### Strengths\n",
    "\n",
    "- Fast to train\n",
    "- Fast to predict\n",
    "- Work well with very large datasets and sparse data. \n",
    "- Relatively easy to understand how a prediction is made, using the formulas for regression and classification. "
   ]
  },
  {
   "cell_type": "markdown",
   "metadata": {
    "slideshow": {
     "slide_type": "slide"
    }
   },
   "source": [
    "\n",
    "\n",
    "<a id='SVM'></a>\n",
    "## Kernelized Support Vector Machines :  LINEAR MODELS AND NONLINEAR FEATURES\n",
    "\n",
    "We have seen __linear__ support vector machines for classification. \n",
    "\n",
    "Kernelized support vector machines (SVMs) allow for more complex models that are not defined simply by hyperplanes in the input space. \n",
    "\n",
    "We will restrict our study to support vector classification using `SVC`. \n",
    "\n",
    "Similar concepts apply to support vector regression, using `SVR`.\n",
    "\n"
   ]
  },
  {
   "cell_type": "markdown",
   "metadata": {
    "slideshow": {
     "slide_type": "slide"
    }
   },
   "source": [
    "The mathematics behind kernelized support vector machines is quite involved, and is therefore beyond the scope of this course. \n",
    "\n",
    "We will study an overview of how the method works."
   ]
  },
  {
   "cell_type": "markdown",
   "metadata": {
    "slideshow": {
     "slide_type": "slide"
    }
   },
   "source": [
    "As we have seen, linear models can be limiting in low-dimensional spaces.\n",
    "\n",
    "Lines and hyperplanes have limited flexibility. \n",
    "\n",
    "One way to make a linear model more flexible is by adding more features.\n",
    "\n",
    "Example : adding interactions or polynomials of the input features."
   ]
  },
  {
   "cell_type": "markdown",
   "metadata": {
    "slideshow": {
     "slide_type": "slide"
    }
   },
   "source": [
    "Let's import a synthetic data set to demonstrate:"
   ]
  },
  {
   "cell_type": "code",
   "execution_count": 56,
   "metadata": {},
   "outputs": [
    {
     "data": {
      "text/plain": [
       "Text(0, 0.5, 'Feature 1')"
      ]
     },
     "execution_count": 56,
     "metadata": {},
     "output_type": "execute_result"
    },
    {
     "data": {
      "image/png": "[encoded data removed]",
      "text/plain": [
       "<Figure size 432x288 with 1 Axes>"
      ]
     },
     "metadata": {
      "needs_background": "light"
     },
     "output_type": "display_data"
    }
   ],
   "source": [
    "from sklearn.datasets import make_blobs  # generates a sample data set for testing clustering algorithms\n",
    "\n",
    "X, y = make_blobs(centers=4,             # number of clusters to detect\n",
    "                  random_state=8)        # random seed\n",
    "\n",
    "y = y % 2                                # remainder when divided by 2 : makes all data either class 0 or class 1\n",
    "\n",
    "mglearn.discrete_scatter(X[:, 0],  # x coordinate\n",
    "                         X[:, 1],  # y coordinate\n",
    "                         y)        # class\n",
    "plt.xlabel(\"Feature 0\")\n",
    "plt.ylabel(\"Feature 1\")"
   ]
  },
  {
   "cell_type": "markdown",
   "metadata": {
    "slideshow": {
     "slide_type": "slide"
    }
   },
   "source": [
    "A linear model for classification can only separate points using a line, and will not be able to do a very good job on this dataset"
   ]
  },
  {
   "cell_type": "code",
   "execution_count": 57,
   "metadata": {},
   "outputs": [
    {
     "name": "stderr",
     "output_type": "stream",
     "text": [
      "/opt/anaconda3/lib/python3.7/site-packages/sklearn/svm/base.py:929: ConvergenceWarning: Liblinear failed to converge, increase the number of iterations.\n",
      "  \"the number of iterations.\", ConvergenceWarning)\n"
     ]
    },
    {
     "data": {
      "image/png": "[encoded data removed]",
      "text/plain": [
       "<Figure size 432x288 with 1 Axes>"
      ]
     },
     "metadata": {},
     "output_type": "display_data"
    }
   ],
   "source": [
    "from sklearn.svm import LinearSVC               # 1. Import model\n",
    "\n",
    "# plot data as before\n",
    "mglearn.discrete_scatter(X[:, 0], X[:, 1], y)\n",
    "plt.xlabel(\"Feature 0\")\n",
    "plt.ylabel(\"Feature 1\")\n",
    "\n",
    "linear_svm = LinearSVC().fit(X, y)   # 4+5. Instantaite and fit the model\n",
    "mglearn.plots.plot_2d_separator(linear_svm, X)"
   ]
  },
  {
   "cell_type": "markdown",
   "metadata": {
    "slideshow": {
     "slide_type": "slide"
    }
   },
   "source": [
    "Now let’s expand the set of input features to include an additional feature.\n",
    "\n",
    "Additional feature : __feature1$^2$__\n",
    "\n",
    "Instead of representing each data point as a two-dimensional point, (feature0, feature1), we now represent it as a three-dimensional point, (feature0, feature1, feature1 ** 2)\n",
    "\n",
    "(Don't worry too much about the unfmailiarity of the code, it includes several things we've not studied).\n"
   ]
  },
  {
   "cell_type": "code",
   "execution_count": 58,
   "metadata": {
    "slideshow": {
     "slide_type": "slide"
    }
   },
   "outputs": [
    {
     "data": {
      "text/plain": [
       "Text(0.5, 0, 'feature1 ** 2')"
      ]
     },
     "execution_count": 58,
     "metadata": {},
     "output_type": "execute_result"
    },
    {
     "data": {
      "image/png": "[encoded data removed]",
      "text/plain": [
       "<Figure size 432x288 with 1 Axes>"
      ]
     },
     "metadata": {
      "needs_background": "light"
     },
     "output_type": "display_data"
    }
   ],
   "source": [
    "# add the squared second feature\n",
    "X_new = np.hstack([X, X[:, 1:] ** 2])\n",
    "\n",
    "from mpl_toolkits.mplot3d import Axes3D, axes3d\n",
    "figure = plt.figure()\n",
    "\n",
    "# visualize in 3D\n",
    "ax = Axes3D(figure, elev=-152, azim=-26)\n",
    "\n",
    "# plot all the points with y == 0, then all with y == 1\n",
    "mask = y == 0\n",
    "ax.scatter(X_new[mask, 0], X_new[mask, 1], X_new[mask, 2], c='b',\n",
    "           cmap=mglearn.cm2, s=60, edgecolor='k')\n",
    "ax.scatter(X_new[~mask, 0], X_new[~mask, 1], X_new[~mask, 2], c='r', marker='^',\n",
    "           cmap=mglearn.cm2, s=60, edgecolor='k')\n",
    "\n",
    "ax.set_xlabel(\"feature0\")\n",
    "ax.set_ylabel(\"feature1\")\n",
    "ax.set_zlabel(\"feature1 ** 2\")"
   ]
  },
  {
   "cell_type": "markdown",
   "metadata": {
    "slideshow": {
     "slide_type": "slide"
    }
   },
   "source": [
    "It is now indeed possible to separate the two classes using a linear model: a plane in 3D. \n",
    "\n",
    "We can confirm this by fitting a linear model to the augmented data:"
   ]
  },
  {
   "cell_type": "code",
   "execution_count": 59,
   "metadata": {},
   "outputs": [
    {
     "name": "stderr",
     "output_type": "stream",
     "text": [
      "/opt/anaconda3/lib/python3.7/site-packages/sklearn/svm/base.py:929: ConvergenceWarning: Liblinear failed to converge, increase the number of iterations.\n",
      "  \"the number of iterations.\", ConvergenceWarning)\n"
     ]
    },
    {
     "data": {
      "text/plain": [
       "Text(0.5, 0, 'feature1 ** 2')"
      ]
     },
     "execution_count": 59,
     "metadata": {},
     "output_type": "execute_result"
    },
    {
     "data": {
      "image/png": "[encoded data removed]",
      "text/plain": [
       "<Figure size 432x288 with 1 Axes>"
      ]
     },
     "metadata": {
      "needs_background": "light"
     },
     "output_type": "display_data"
    }
   ],
   "source": [
    "linear_svm_3d = LinearSVC().fit(X_new, y)\n",
    "coef, intercept = linear_svm_3d.coef_.ravel(), linear_svm_3d.intercept_\n",
    "\n",
    "# show linear decision boundary\n",
    "figure = plt.figure()\n",
    "ax = Axes3D(figure, elev=-152, azim=-26)\n",
    "xx = np.linspace(X_new[:, 0].min() - 2, X_new[:, 0].max() + 2, 50)\n",
    "yy = np.linspace(X_new[:, 1].min() - 2, X_new[:, 1].max() + 2, 50)\n",
    "\n",
    "XX, YY = np.meshgrid(xx, yy)\n",
    "ZZ = (coef[0] * XX + coef[1] * YY + intercept) / -coef[2]\n",
    "ax.plot_surface(XX, YY, ZZ, rstride=8, cstride=8, alpha=0.3)\n",
    "ax.scatter(X_new[mask, 0], X_new[mask, 1], X_new[mask, 2], c='b',\n",
    "           cmap=mglearn.cm2, s=60, edgecolor='k')\n",
    "ax.scatter(X_new[~mask, 0], X_new[~mask, 1], X_new[~mask, 2], c='r', marker='^',\n",
    "           cmap=mglearn.cm2, s=60, edgecolor='k')\n",
    "\n",
    "ax.set_xlabel(\"feature0\")\n",
    "ax.set_ylabel(\"feature1\")\n",
    "ax.set_zlabel(\"feature1 ** 2\")"
   ]
  },
  {
   "cell_type": "markdown",
   "metadata": {
    "slideshow": {
     "slide_type": "slide"
    }
   },
   "source": [
    "As a function of the original features, the linear SVM model is not actually linear anymore. \n",
    "\n",
    "It is no longer a line, but more of an ellipse:"
   ]
  },
  {
   "cell_type": "code",
   "execution_count": 60,
   "metadata": {},
   "outputs": [
    {
     "data": {
      "text/plain": [
       "Text(0, 0.5, 'Feature 1')"
      ]
     },
     "execution_count": 60,
     "metadata": {},
     "output_type": "execute_result"
    },
    {
     "data": {
      "image/png": "[encoded data removed]",
      "text/plain": [
       "<Figure size 432x288 with 1 Axes>"
      ]
     },
     "metadata": {
      "needs_background": "light"
     },
     "output_type": "display_data"
    }
   ],
   "source": [
    "ZZ = YY ** 2\n",
    "dec = linear_svm_3d.decision_function(np.c_[XX.ravel(), \n",
    "                                            YY.ravel(), \n",
    "                                            ZZ.ravel()])\n",
    "plt.contourf(XX, YY, \n",
    "             dec.reshape(XX.shape), \n",
    "             levels=[dec.min(), 0, dec.max()],\n",
    "             cmap=mglearn.cm2, \n",
    "             alpha=0.5)\n",
    "\n",
    "mglearn.discrete_scatter(X[:, 0], \n",
    "                         X[:, 1], \n",
    "                         y)\n",
    "plt.xlabel(\"Feature 0\")\n",
    "plt.ylabel(\"Feature 1\")"
   ]
  },
  {
   "cell_type": "markdown",
   "metadata": {
    "slideshow": {
     "slide_type": "slide"
    }
   },
   "source": [
    "\n",
    "\n",
    "\n",
    "<a id='DecisionTrees'></a>\n",
    "# Decision Trees\n",
    "Decision trees are widely used models for classification and regression tasks. \n",
    "\n",
    "They learn a hierarchy of if/else questions, leading to a decision."
   ]
  },
  {
   "cell_type": "code",
   "execution_count": 61,
   "metadata": {},
   "outputs": [
    {
     "data": {
      "image/png": "[encoded data removed]",
      "text/plain": [
       "<Figure size 432x288 with 1 Axes>"
      ]
     },
     "metadata": {
      "needs_background": "light"
     },
     "output_type": "display_data"
    }
   ],
   "source": [
    "mglearn.plots.plot_animal_tree()"
   ]
  },
  {
   "cell_type": "markdown",
   "metadata": {
    "slideshow": {
     "slide_type": "slide"
    }
   },
   "source": [
    "Each node in the tree represents either:\n",
    "- a question\n",
    "- a terminal node (leaf) that contains the answer. \n",
    "\n",
    "The edges connect the answers to a question with the next question."
   ]
  },
  {
   "cell_type": "markdown",
   "metadata": {
    "slideshow": {
     "slide_type": "slide"
    }
   },
   "source": [
    "## BUILDING DECISION TREES\n",
    "Let’s go through the process of building a decision tree for the `two_moons` 2D classification dataset shown below. \n",
    "\n",
    "<p align=\"center\">\n",
    "  <img src=\"img/two_moons.png\" alt=\"Drawing\" style=\"width: 600px;\"/>\n",
    "</p>\n",
    "\n"
   ]
  },
  {
   "cell_type": "markdown",
   "metadata": {
    "slideshow": {
     "slide_type": "slide"
    }
   },
   "source": [
    "Usually data is not in the form of binary `True/False` features as in the animal example. \n",
    "\n",
    "It is usually represented as continuous numerical features such as in the `two_moons` dataset.\n",
    "\n",
    "The tests that are used on continuous data are of the form __“Is feature i > a?”__"
   ]
  },
  {
   "cell_type": "markdown",
   "metadata": {},
   "source": [
    "Machines, unlike humans, cannot understand the raw text. \n",
    "\n",
    "Machines can only see numbers\n",
    "\n",
    "Even when the data is in binary `True/False` format it must be encoded/converted to a numerical form (though not necessarily on a continuous scale). \n",
    "\n"
   ]
  },
  {
   "cell_type": "markdown",
   "metadata": {
    "slideshow": {
     "slide_type": "slide"
    }
   },
   "source": [
    "Learning a decision tree means learning the sequence of if/else questions (tests) that gets us to the correct answer most quickly. \n",
    "\n",
    "The algorithm searches all possible tests and finds the one that is most informative about the target variable. "
   ]
  },
  {
   "cell_type": "markdown",
   "metadata": {
    "slideshow": {
     "slide_type": "slide"
    }
   },
   "source": [
    "The first test: Splitting the dataset horizontally at `x[1]=0.0596` [feature 1=0.0596 ], (indicated by a black line), is the most effective seperator for dividing class 0 from class 1. \n",
    "\n",
    "\n",
    "<p align=\"center\">\n",
    "  <img src=\"img/2-24.png\" alt=\"Drawing\" style=\"width: 600px;\"/>\n",
    "</p>\n",
    "\n",
    "\n",
    "The top node (root), represents the whole dataset (50 points class 0, 50 points class 1). \n",
    "\n",
    "`True` : data point is assigned to left node (2 points class 0, 32 points class 1). \n",
    "\n",
    "`False` : assigned to right node (48 points class 0, 18 points class 1). \n",
    "\n"
   ]
  },
  {
   "cell_type": "markdown",
   "metadata": {
    "slideshow": {
     "slide_type": "slide"
    }
   },
   "source": [
    "To build a more accurate model we repeat the process of looking for the most effective test in each region.\n",
    "\n",
    "Note : the test in each region can differ from each other.\n",
    "\n",
    "The second test is based on `x[0]` (feature 0).\n",
    "\n",
    "\n",
    "<p align=\"center\">\n",
    "  <img src=\"img/2-25.png\" alt=\"Drawing\" style=\"width: 600px;\"/>\n",
    "</p>"
   ]
  },
  {
   "cell_type": "markdown",
   "metadata": {
    "slideshow": {
     "slide_type": "slide"
    }
   },
   "source": [
    "This recursive process builds a binary tree of decisions, with each node containing a test. \n",
    "\n",
    "You can think of each test as splitting the part of the data that is currently being considered along one axis. \n",
    "\n",
    "Each test concerns only a single feature. \n",
    "\n",
    "\n"
   ]
  },
  {
   "cell_type": "markdown",
   "metadata": {
    "slideshow": {
     "slide_type": "slide"
    }
   },
   "source": [
    "This hierarchical partitioning of the data is repeated until each region in the partition (each leaf in the tree) only contains a single target value:\n",
    "- a single class\n",
    "- a single regression value\n",
    "\n",
    "Final partitioning:\n",
    "\n",
    "<p align=\"center\">\n",
    "  <img src=\"img/2-26.png\" alt=\"Drawing\" style=\"width: 800px;\"/>\n",
    "</p>"
   ]
  },
  {
   "cell_type": "markdown",
   "metadata": {
    "slideshow": {
     "slide_type": "slide"
    }
   },
   "source": [
    "To make a prediction on a new data point:\n",
    "1. checking which region of the partition of the feature space the point lies in\n",
    "1. predicting the class in that is dominant in that region. \n",
    "\n",
    "The region is found by traversing the tree. \n",
    "\n"
   ]
  },
  {
   "cell_type": "markdown",
   "metadata": {
    "slideshow": {
     "slide_type": "slide"
    }
   },
   "source": [
    "### Regression Trees \n",
    "It is also possible to use trees for regression tasks, using exactly the same technique. \n",
    "\n",
    "The output for this data point is the mean target of the training points in this leaf.\n",
    "\n",
    "Example: \n",
    "<br>43.43 is the mean target value for inputs with Industry < 748 and Population < 190\n",
    "\n",
    "<p align=\"center\">\n",
    "  <img src=\"img/regression_tree.png\" alt=\"Drawing\" style=\"width: 600px;\"/>\n",
    "</p>"
   ]
  },
  {
   "cell_type": "markdown",
   "metadata": {
    "slideshow": {
     "slide_type": "slide"
    }
   },
   "source": [
    "### CONTROLLING COMPLEXITY OF DECISION TREES\n",
    "\n",
    "Building a tree as described here typically leads to models that are very complex and highly overfit to the training data. \n",
    "\n",
    "\"Pure leaves\" (containing a single class only) mean that a tree is 100% accurate on the training set."
   ]
  },
  {
   "cell_type": "markdown",
   "metadata": {
    "slideshow": {
     "slide_type": "slide"
    }
   },
   "source": [
    "<p align=\"center\">\n",
    "  <img src=\"img/2-26.png\" alt=\"Drawing\" style=\"width: 600px;\"/>\n",
    "</p>\n",
    "\n",
    "Evidence of overfitting : \n",
    "<br>Small class 1 (red) region surrounded by class 0 (blue) regions. \n",
    "<br>Small strip class 0 (blue) around large class 1 (red) region on the right. \n",
    "\n",
    "This is not a typical decision boundary to look.\n",
    "\n",
    "\n"
   ]
  },
  {
   "cell_type": "markdown",
   "metadata": {
    "slideshow": {
     "slide_type": "slide"
    }
   },
   "source": [
    "There are two common strategies to prevent overfitting: \n",
    "- stopping the creation of the tree early (pre-pruning):\n",
    "    - limiting the maximum depth of the tree\n",
    "    - limiting the maximum number of leaves\n",
    "    - requiring a minimum number of points in a node to keep splitting it\n",
    "- building the tree but then removing or collapsing nodes that contain little information (post-pruning)"
   ]
  },
  {
   "cell_type": "markdown",
   "metadata": {
    "slideshow": {
     "slide_type": "slide"
    }
   },
   "source": [
    "Decision trees in `scikit-learn`:\n",
    "- `DecisionTreeRegressor`\n",
    "- `DecisionTreeClassifier`\n",
    "\n",
    "`scikit-learn` only implements pre-pruning, not post-pruning.\n",
    "\n"
   ]
  },
  {
   "cell_type": "markdown",
   "metadata": {
    "slideshow": {
     "slide_type": "slide"
    }
   },
   "source": [
    "Let’s look at the effect of pre-pruning in more detail on the Breast Cancer dataset. \n",
    "\n",
    "As always, we:\n",
    "1. import the dataset\n",
    "2. split it into a training and a test part.\n",
    "3. build a model using the default setting of fully developing the tree (growing the tree until all leaves are pure). "
   ]
  },
  {
   "cell_type": "code",
   "execution_count": 62,
   "metadata": {
    "slideshow": {
     "slide_type": "slide"
    }
   },
   "outputs": [
    {
     "name": "stdout",
     "output_type": "stream",
     "text": [
      "Accuracy on training set: 1.0\n",
      "Accuracy on test set: 0.9370629370629371\n"
     ]
    }
   ],
   "source": [
    "from sklearn.tree import DecisionTreeClassifier       # 1. Import model\n",
    "\n",
    "cancer = load_breast_cancer()                         # 2. Import data\n",
    "\n",
    "X_train, X_test, y_train, y_test = train_test_split(cancer.data,           # 3. Split data\n",
    "                                                    cancer.target, \n",
    "                                                    stratify=cancer.target, \n",
    "                                                    random_state=42)\n",
    "\n",
    "tree = DecisionTreeClassifier(random_state=0)        # 3. Instantiate model\n",
    "\n",
    "tree.fit(X_train, y_train)                           # 5. Fit model\n",
    "\n",
    "print(f\"Accuracy on training set: {tree.score(X_train, y_train)}\")          # 6. Evaluate the accuracy of the model on the test data\n",
    "print(f\"Accuracy on test set: {tree.score(X_test, y_test)}\")"
   ]
  },
  {
   "cell_type": "markdown",
   "metadata": {
    "slideshow": {
     "slide_type": "slide"
    }
   },
   "source": [
    "As expected:\n",
    "- accuracy on the training set is 100%—because the leaves are pure\n",
    "- accuracy on test set is slightly worse\n",
    "\n"
   ]
  },
  {
   "cell_type": "markdown",
   "metadata": {
    "slideshow": {
     "slide_type": "slide"
    }
   },
   "source": [
    "Now let’s apply pre-pruning to the tree, to stop the tree developing before we perfectly fit to the training data. \n",
    "\n",
    "Here we set max_depth=4, meaning only four consecutive questions can be asked.\n",
    "\n",
    "Limiting the depth of the tree decreases overfitting. \n",
    "\n",
    "This leads to a lower accuracy on the training set, but an improvement on the test set:"
   ]
  },
  {
   "cell_type": "code",
   "execution_count": 63,
   "metadata": {
    "slideshow": {
     "slide_type": "slide"
    }
   },
   "outputs": [
    {
     "name": "stdout",
     "output_type": "stream",
     "text": [
      "Accuracy on training set: 0.9882629107981221\n",
      "Accuracy on test set: 0.951048951048951\n"
     ]
    }
   ],
   "source": [
    "tree = DecisionTreeClassifier(max_depth=4, random_state=0)\n",
    "tree.fit(X_train, y_train)\n",
    "\n",
    "print(f\"Accuracy on training set: {tree.score(X_train, y_train)}\")\n",
    "print(f\"Accuracy on test set: {tree.score(X_test, y_test)}\")"
   ]
  },
  {
   "cell_type": "markdown",
   "metadata": {
    "slideshow": {
     "slide_type": "slide"
    }
   },
   "source": [
    "## ANALYZING DECISION TREES\n",
    "We can visualize the tree using the `export_graphviz` function from the `tree` module. \n",
    "\n",
    "This writes a file in the .dot file format, which is a text file format for storing graphs. \n",
    "\n",
    "We set an option to color the nodes to reflect the majority class in each node and pass the class and features names so the tree can be properly labeled:\n",
    "\n"
   ]
  },
  {
   "cell_type": "code",
   "execution_count": 64,
   "metadata": {
    "slideshow": {
     "slide_type": "slide"
    }
   },
   "outputs": [],
   "source": [
    "from sklearn.tree import export_graphviz\n",
    "\n",
    "export_graphviz(tree,                     # 1. fitted mode\n",
    "                out_file=\"img/tree.dot\",  # 2. output file name\n",
    "                class_names=[\"malignant\", \"benign\"],  # 3. pass class names for labelling\n",
    "                feature_names=cancer.feature_names,   # 4. pass feature names for labelling\n",
    "                impurity=False,                       # 5. Do not show impurity \n",
    "                filled=True                           # 6. color the nodes to reflect the majority class\n",
    "               )"
   ]
  },
  {
   "cell_type": "markdown",
   "metadata": {
    "slideshow": {
     "slide_type": "slide"
    }
   },
   "source": [
    "We can read this file and visualize it using the graphviz module \n",
    "<br>(or any program that can read .dot files):"
   ]
  },
  {
   "cell_type": "code",
   "execution_count": 65,
   "metadata": {},
   "outputs": [
    {
     "data": {
      "image/svg+xml": [
       "<?xml version=\"1.0\" encoding=\"UTF-8\" standalone=\"no\"?>\n",
       "<!DOCTYPE svg PUBLIC \"-//W3C//DTD SVG 1.1//EN\"\n",
       " \"http://www.w3.org/Graphics/SVG/1.1/DTD/svg11.dtd\">\n",
       "<!-- Generated by graphviz version 2.40.1 (20161225.0304)\n",
       " -->\n",
       "<!-- Title: Tree Pages: 1 -->\n",
       "<svg width=\"1039pt\" height=\"477pt\"\n",
       " viewBox=\"0.00 0.00 1039.00 477.00\" xmlns=\"http://www.w3.org/2000/svg\" xmlns:xlink=\"http://www.w3.org/1999/xlink\">\n",
       "<g id=\"graph0\" class=\"graph\" transform=\"scale(1 1) rotate(0) translate(4 473)\">\n",
       "<title>Tree</title>\n",
       "<polygon fill=\"#ffffff\" stroke=\"transparent\" points=\"-4,4 -4,-473 1035,-473 1035,4 -4,4\"/>\n",
       "<!-- 0 -->\n",
       "<g id=\"node1\" class=\"node\">\n",
       "<title>0</title>\n",
       "<polygon fill=\"#afd7f4\" stroke=\"#000000\" points=\"646,-469 499,-469 499,-401 646,-401 646,-469\"/>\n",
       "<text text-anchor=\"middle\" x=\"572.5\" y=\"-453.8\" font-family=\"Times,serif\" font-size=\"14.00\" fill=\"#000000\">worst radius &lt;= 16.795</text>\n",
       "<text text-anchor=\"middle\" x=\"572.5\" y=\"-438.8\" font-family=\"Times,serif\" font-size=\"14.00\" fill=\"#000000\">samples = 426</text>\n",
       "<text text-anchor=\"middle\" x=\"572.5\" y=\"-423.8\" font-family=\"Times,serif\" font-size=\"14.00\" fill=\"#000000\">value = [159, 267]</text>\n",
       "<text text-anchor=\"middle\" x=\"572.5\" y=\"-408.8\" font-family=\"Times,serif\" font-size=\"14.00\" fill=\"#000000\">class = benign</text>\n",
       "</g>\n",
       "<!-- 1 -->\n",
       "<g id=\"node2\" class=\"node\">\n",
       "<title>1</title>\n",
       "<polygon fill=\"#4ca6e8\" stroke=\"#000000\" points=\"555,-365 366,-365 366,-297 555,-297 555,-365\"/>\n",
       "<text text-anchor=\"middle\" x=\"460.5\" y=\"-349.8\" font-family=\"Times,serif\" font-size=\"14.00\" fill=\"#000000\">worst concave points &lt;= 0.136</text>\n",
       "<text text-anchor=\"middle\" x=\"460.5\" y=\"-334.8\" font-family=\"Times,serif\" font-size=\"14.00\" fill=\"#000000\">samples = 284</text>\n",
       "<text text-anchor=\"middle\" x=\"460.5\" y=\"-319.8\" font-family=\"Times,serif\" font-size=\"14.00\" fill=\"#000000\">value = [25, 259]</text>\n",
       "<text text-anchor=\"middle\" x=\"460.5\" y=\"-304.8\" font-family=\"Times,serif\" font-size=\"14.00\" fill=\"#000000\">class = benign</text>\n",
       "</g>\n",
       "<!-- 0&#45;&gt;1 -->\n",
       "<g id=\"edge1\" class=\"edge\">\n",
       "<title>0&#45;&gt;1</title>\n",
       "<path fill=\"none\" stroke=\"#000000\" d=\"M535.827,-400.9465C525.8677,-391.6986 514.9789,-381.5876 504.6532,-371.9994\"/>\n",
       "<polygon fill=\"#000000\" stroke=\"#000000\" points=\"506.9649,-369.3698 497.2554,-365.13 502.2018,-374.4993 506.9649,-369.3698\"/>\n",
       "<text text-anchor=\"middle\" x=\"498.1807\" y=\"-386.4129\" font-family=\"Times,serif\" font-size=\"14.00\" fill=\"#000000\">True</text>\n",
       "</g>\n",
       "<!-- 14 -->\n",
       "<g id=\"node15\" class=\"node\">\n",
       "<title>14</title>\n",
       "<polygon fill=\"#e78945\" stroke=\"#000000\" points=\"724.5,-365 584.5,-365 584.5,-297 724.5,-297 724.5,-365\"/>\n",
       "<text text-anchor=\"middle\" x=\"654.5\" y=\"-349.8\" font-family=\"Times,serif\" font-size=\"14.00\" fill=\"#000000\">texture error &lt;= 0.473</text>\n",
       "<text text-anchor=\"middle\" x=\"654.5\" y=\"-334.8\" font-family=\"Times,serif\" font-size=\"14.00\" fill=\"#000000\">samples = 142</text>\n",
       "<text text-anchor=\"middle\" x=\"654.5\" y=\"-319.8\" font-family=\"Times,serif\" font-size=\"14.00\" fill=\"#000000\">value = [134, 8]</text>\n",
       "<text text-anchor=\"middle\" x=\"654.5\" y=\"-304.8\" font-family=\"Times,serif\" font-size=\"14.00\" fill=\"#000000\">class = malignant</text>\n",
       "</g>\n",
       "<!-- 0&#45;&gt;14 -->\n",
       "<g id=\"edge14\" class=\"edge\">\n",
       "<title>0&#45;&gt;14</title>\n",
       "<path fill=\"none\" stroke=\"#000000\" d=\"M599.3499,-400.9465C606.3583,-392.0578 613.9955,-382.3716 621.291,-373.1188\"/>\n",
       "<polygon fill=\"#000000\" stroke=\"#000000\" points=\"624.1467,-375.1498 627.5898,-365.13 618.6498,-370.8157 624.1467,-375.1498\"/>\n",
       "<text text-anchor=\"middle\" x=\"630.5263\" y=\"-386.2569\" font-family=\"Times,serif\" font-size=\"14.00\" fill=\"#000000\">False</text>\n",
       "</g>\n",
       "<!-- 2 -->\n",
       "<g id=\"node3\" class=\"node\">\n",
       "<title>2</title>\n",
       "<polygon fill=\"#3c9fe5\" stroke=\"#000000\" points=\"357.5,-261 221.5,-261 221.5,-193 357.5,-193 357.5,-261\"/>\n",
       "<text text-anchor=\"middle\" x=\"289.5\" y=\"-245.8\" font-family=\"Times,serif\" font-size=\"14.00\" fill=\"#000000\">radius error &lt;= 1.048</text>\n",
       "<text text-anchor=\"middle\" x=\"289.5\" y=\"-230.8\" font-family=\"Times,serif\" font-size=\"14.00\" fill=\"#000000\">samples = 252</text>\n",
       "<text text-anchor=\"middle\" x=\"289.5\" y=\"-215.8\" font-family=\"Times,serif\" font-size=\"14.00\" fill=\"#000000\">value = [4, 248]</text>\n",
       "<text text-anchor=\"middle\" x=\"289.5\" y=\"-200.8\" font-family=\"Times,serif\" font-size=\"14.00\" fill=\"#000000\">class = benign</text>\n",
       "</g>\n",
       "<!-- 1&#45;&gt;2 -->\n",
       "<g id=\"edge2\" class=\"edge\">\n",
       "<title>1&#45;&gt;2</title>\n",
       "<path fill=\"none\" stroke=\"#000000\" d=\"M404.5082,-296.9465C388.4168,-287.1599 370.7359,-276.4066 354.1666,-266.3294\"/>\n",
       "<polygon fill=\"#000000\" stroke=\"#000000\" points=\"355.9802,-263.336 345.6176,-261.13 352.3428,-269.3167 355.9802,-263.336\"/>\n",
       "</g>\n",
       "<!-- 7 -->\n",
       "<g id=\"node8\" class=\"node\">\n",
       "<title>7</title>\n",
       "<polygon fill=\"#f3c3a1\" stroke=\"#000000\" points=\"532.5,-261 388.5,-261 388.5,-193 532.5,-193 532.5,-261\"/>\n",
       "<text text-anchor=\"middle\" x=\"460.5\" y=\"-245.8\" font-family=\"Times,serif\" font-size=\"14.00\" fill=\"#000000\">worst texture &lt;= 25.62</text>\n",
       "<text text-anchor=\"middle\" x=\"460.5\" y=\"-230.8\" font-family=\"Times,serif\" font-size=\"14.00\" fill=\"#000000\">samples = 32</text>\n",
       "<text text-anchor=\"middle\" x=\"460.5\" y=\"-215.8\" font-family=\"Times,serif\" font-size=\"14.00\" fill=\"#000000\">value = [21, 11]</text>\n",
       "<text text-anchor=\"middle\" x=\"460.5\" y=\"-200.8\" font-family=\"Times,serif\" font-size=\"14.00\" fill=\"#000000\">class = malignant</text>\n",
       "</g>\n",
       "<!-- 1&#45;&gt;7 -->\n",
       "<g id=\"edge7\" class=\"edge\">\n",
       "<title>1&#45;&gt;7</title>\n",
       "<path fill=\"none\" stroke=\"#000000\" d=\"M460.5,-296.9465C460.5,-288.776 460.5,-279.9318 460.5,-271.3697\"/>\n",
       "<polygon fill=\"#000000\" stroke=\"#000000\" points=\"464.0001,-271.13 460.5,-261.13 457.0001,-271.13 464.0001,-271.13\"/>\n",
       "</g>\n",
       "<!-- 3 -->\n",
       "<g id=\"node4\" class=\"node\">\n",
       "<title>3</title>\n",
       "<polygon fill=\"#3b9ee5\" stroke=\"#000000\" points=\"214,-157 47,-157 47,-89 214,-89 214,-157\"/>\n",
       "<text text-anchor=\"middle\" x=\"130.5\" y=\"-141.8\" font-family=\"Times,serif\" font-size=\"14.00\" fill=\"#000000\">smoothness error &lt;= 0.003</text>\n",
       "<text text-anchor=\"middle\" x=\"130.5\" y=\"-126.8\" font-family=\"Times,serif\" font-size=\"14.00\" fill=\"#000000\">samples = 251</text>\n",
       "<text text-anchor=\"middle\" x=\"130.5\" y=\"-111.8\" font-family=\"Times,serif\" font-size=\"14.00\" fill=\"#000000\">value = [3, 248]</text>\n",
       "<text text-anchor=\"middle\" x=\"130.5\" y=\"-96.8\" font-family=\"Times,serif\" font-size=\"14.00\" fill=\"#000000\">class = benign</text>\n",
       "</g>\n",
       "<!-- 2&#45;&gt;3 -->\n",
       "<g id=\"edge3\" class=\"edge\">\n",
       "<title>2&#45;&gt;3</title>\n",
       "<path fill=\"none\" stroke=\"#000000\" d=\"M237.4375,-192.9465C222.6125,-183.2497 206.3367,-172.6039 191.0529,-162.6069\"/>\n",
       "<polygon fill=\"#000000\" stroke=\"#000000\" points=\"192.9642,-159.6749 182.6795,-157.13 189.1324,-165.533 192.9642,-159.6749\"/>\n",
       "</g>\n",
       "<!-- 6 -->\n",
       "<g id=\"node7\" class=\"node\">\n",
       "<title>6</title>\n",
       "<polygon fill=\"#e58139\" stroke=\"#000000\" points=\"347,-149.5 232,-149.5 232,-96.5 347,-96.5 347,-149.5\"/>\n",
       "<text text-anchor=\"middle\" x=\"289.5\" y=\"-134.3\" font-family=\"Times,serif\" font-size=\"14.00\" fill=\"#000000\">samples = 1</text>\n",
       "<text text-anchor=\"middle\" x=\"289.5\" y=\"-119.3\" font-family=\"Times,serif\" font-size=\"14.00\" fill=\"#000000\">value = [1, 0]</text>\n",
       "<text text-anchor=\"middle\" x=\"289.5\" y=\"-104.3\" font-family=\"Times,serif\" font-size=\"14.00\" fill=\"#000000\">class = malignant</text>\n",
       "</g>\n",
       "<!-- 2&#45;&gt;6 -->\n",
       "<g id=\"edge6\" class=\"edge\">\n",
       "<title>2&#45;&gt;6</title>\n",
       "<path fill=\"none\" stroke=\"#000000\" d=\"M289.5,-192.9465C289.5,-182.2621 289.5,-170.4254 289.5,-159.5742\"/>\n",
       "<polygon fill=\"#000000\" stroke=\"#000000\" points=\"293.0001,-159.5421 289.5,-149.5422 286.0001,-159.5422 293.0001,-159.5421\"/>\n",
       "</g>\n",
       "<!-- 4 -->\n",
       "<g id=\"node5\" class=\"node\">\n",
       "<title>4</title>\n",
       "<polygon fill=\"#7bbeee\" stroke=\"#000000\" points=\"97,-53 0,-53 0,0 97,0 97,-53\"/>\n",
       "<text text-anchor=\"middle\" x=\"48.5\" y=\"-37.8\" font-family=\"Times,serif\" font-size=\"14.00\" fill=\"#000000\">samples = 4</text>\n",
       "<text text-anchor=\"middle\" x=\"48.5\" y=\"-22.8\" font-family=\"Times,serif\" font-size=\"14.00\" fill=\"#000000\">value = [1, 3]</text>\n",
       "<text text-anchor=\"middle\" x=\"48.5\" y=\"-7.8\" font-family=\"Times,serif\" font-size=\"14.00\" fill=\"#000000\">class = benign</text>\n",
       "</g>\n",
       "<!-- 3&#45;&gt;4 -->\n",
       "<g id=\"edge4\" class=\"edge\">\n",
       "<title>3&#45;&gt;4</title>\n",
       "<path fill=\"none\" stroke=\"#000000\" d=\"M101.5899,-88.9777C93.8866,-79.9123 85.5581,-70.111 77.8324,-61.0192\"/>\n",
       "<polygon fill=\"#000000\" stroke=\"#000000\" points=\"80.3718,-58.6025 71.2293,-53.2485 75.0375,-63.1352 80.3718,-58.6025\"/>\n",
       "</g>\n",
       "<!-- 5 -->\n",
       "<g id=\"node6\" class=\"node\">\n",
       "<title>5</title>\n",
       "<polygon fill=\"#3b9ee5\" stroke=\"#000000\" points=\"221.5,-53 115.5,-53 115.5,0 221.5,0 221.5,-53\"/>\n",
       "<text text-anchor=\"middle\" x=\"168.5\" y=\"-37.8\" font-family=\"Times,serif\" font-size=\"14.00\" fill=\"#000000\">samples = 247</text>\n",
       "<text text-anchor=\"middle\" x=\"168.5\" y=\"-22.8\" font-family=\"Times,serif\" font-size=\"14.00\" fill=\"#000000\">value = [2, 245]</text>\n",
       "<text text-anchor=\"middle\" x=\"168.5\" y=\"-7.8\" font-family=\"Times,serif\" font-size=\"14.00\" fill=\"#000000\">class = benign</text>\n",
       "</g>\n",
       "<!-- 3&#45;&gt;5 -->\n",
       "<g id=\"edge5\" class=\"edge\">\n",
       "<title>3&#45;&gt;5</title>\n",
       "<path fill=\"none\" stroke=\"#000000\" d=\"M143.8974,-88.9777C147.2508,-80.4617 150.86,-71.2963 154.253,-62.6798\"/>\n",
       "<polygon fill=\"#000000\" stroke=\"#000000\" points=\"157.5595,-63.8355 157.9669,-53.2485 151.0463,-61.2707 157.5595,-63.8355\"/>\n",
       "</g>\n",
       "<!-- 8 -->\n",
       "<g id=\"node9\" class=\"node\">\n",
       "<title>8</title>\n",
       "<polygon fill=\"#7bbeee\" stroke=\"#000000\" points=\"536,-157 365,-157 365,-89 536,-89 536,-157\"/>\n",
       "<text text-anchor=\"middle\" x=\"450.5\" y=\"-141.8\" font-family=\"Times,serif\" font-size=\"14.00\" fill=\"#000000\">worst smoothness &lt;= 0.179</text>\n",
       "<text text-anchor=\"middle\" x=\"450.5\" y=\"-126.8\" font-family=\"Times,serif\" font-size=\"14.00\" fill=\"#000000\">samples = 12</text>\n",
       "<text text-anchor=\"middle\" x=\"450.5\" y=\"-111.8\" font-family=\"Times,serif\" font-size=\"14.00\" fill=\"#000000\">value = [3, 9]</text>\n",
       "<text text-anchor=\"middle\" x=\"450.5\" y=\"-96.8\" font-family=\"Times,serif\" font-size=\"14.00\" fill=\"#000000\">class = benign</text>\n",
       "</g>\n",
       "<!-- 7&#45;&gt;8 -->\n",
       "<g id=\"edge8\" class=\"edge\">\n",
       "<title>7&#45;&gt;8</title>\n",
       "<path fill=\"none\" stroke=\"#000000\" d=\"M457.2256,-192.9465C456.4314,-184.6863 455.5709,-175.7374 454.7392,-167.0875\"/>\n",
       "<polygon fill=\"#000000\" stroke=\"#000000\" points=\"458.2229,-166.7491 453.7817,-157.13 451.255,-167.4191 458.2229,-166.7491\"/>\n",
       "</g>\n",
       "<!-- 11 -->\n",
       "<g id=\"node12\" class=\"node\">\n",
       "<title>11</title>\n",
       "<polygon fill=\"#e88f4f\" stroke=\"#000000\" points=\"715,-157 554,-157 554,-89 715,-89 715,-157\"/>\n",
       "<text text-anchor=\"middle\" x=\"634.5\" y=\"-141.8\" font-family=\"Times,serif\" font-size=\"14.00\" fill=\"#000000\">worst symmetry &lt;= 0.268</text>\n",
       "<text text-anchor=\"middle\" x=\"634.5\" y=\"-126.8\" font-family=\"Times,serif\" font-size=\"14.00\" fill=\"#000000\">samples = 20</text>\n",
       "<text text-anchor=\"middle\" x=\"634.5\" y=\"-111.8\" font-family=\"Times,serif\" font-size=\"14.00\" fill=\"#000000\">value = [18, 2]</text>\n",
       "<text text-anchor=\"middle\" x=\"634.5\" y=\"-96.8\" font-family=\"Times,serif\" font-size=\"14.00\" fill=\"#000000\">class = malignant</text>\n",
       "</g>\n",
       "<!-- 7&#45;&gt;11 -->\n",
       "<g id=\"edge11\" class=\"edge\">\n",
       "<title>7&#45;&gt;11</title>\n",
       "<path fill=\"none\" stroke=\"#000000\" d=\"M517.4741,-192.9465C533.8478,-183.1599 551.8389,-172.4066 568.6989,-162.3294\"/>\n",
       "<polygon fill=\"#000000\" stroke=\"#000000\" points=\"570.6099,-165.2648 577.3979,-157.13 567.0186,-159.2562 570.6099,-165.2648\"/>\n",
       "</g>\n",
       "<!-- 9 -->\n",
       "<g id=\"node10\" class=\"node\">\n",
       "<title>9</title>\n",
       "<polygon fill=\"#4fa8e8\" stroke=\"#000000\" points=\"375,-53 278,-53 278,0 375,0 375,-53\"/>\n",
       "<text text-anchor=\"middle\" x=\"326.5\" y=\"-37.8\" font-family=\"Times,serif\" font-size=\"14.00\" fill=\"#000000\">samples = 10</text>\n",
       "<text text-anchor=\"middle\" x=\"326.5\" y=\"-22.8\" font-family=\"Times,serif\" font-size=\"14.00\" fill=\"#000000\">value = [1, 9]</text>\n",
       "<text text-anchor=\"middle\" x=\"326.5\" y=\"-7.8\" font-family=\"Times,serif\" font-size=\"14.00\" fill=\"#000000\">class = benign</text>\n",
       "</g>\n",
       "<!-- 8&#45;&gt;9 -->\n",
       "<g id=\"edge9\" class=\"edge\">\n",
       "<title>8&#45;&gt;9</title>\n",
       "<path fill=\"none\" stroke=\"#000000\" d=\"M406.7822,-88.9777C394.5451,-79.4545 381.2645,-69.1191 369.0934,-59.6473\"/>\n",
       "<polygon fill=\"#000000\" stroke=\"#000000\" points=\"370.9125,-56.628 360.8711,-53.2485 366.6134,-62.1523 370.9125,-56.628\"/>\n",
       "</g>\n",
       "<!-- 10 -->\n",
       "<g id=\"node11\" class=\"node\">\n",
       "<title>10</title>\n",
       "<polygon fill=\"#e58139\" stroke=\"#000000\" points=\"508,-53 393,-53 393,0 508,0 508,-53\"/>\n",
       "<text text-anchor=\"middle\" x=\"450.5\" y=\"-37.8\" font-family=\"Times,serif\" font-size=\"14.00\" fill=\"#000000\">samples = 2</text>\n",
       "<text text-anchor=\"middle\" x=\"450.5\" y=\"-22.8\" font-family=\"Times,serif\" font-size=\"14.00\" fill=\"#000000\">value = [2, 0]</text>\n",
       "<text text-anchor=\"middle\" x=\"450.5\" y=\"-7.8\" font-family=\"Times,serif\" font-size=\"14.00\" fill=\"#000000\">class = malignant</text>\n",
       "</g>\n",
       "<!-- 8&#45;&gt;10 -->\n",
       "<g id=\"edge10\" class=\"edge\">\n",
       "<title>8&#45;&gt;10</title>\n",
       "<path fill=\"none\" stroke=\"#000000\" d=\"M450.5,-88.9777C450.5,-80.7364 450.5,-71.887 450.5,-63.5153\"/>\n",
       "<polygon fill=\"#000000\" stroke=\"#000000\" points=\"454.0001,-63.2484 450.5,-53.2485 447.0001,-63.2485 454.0001,-63.2484\"/>\n",
       "</g>\n",
       "<!-- 12 -->\n",
       "<g id=\"node13\" class=\"node\">\n",
       "<title>12</title>\n",
       "<polygon fill=\"#9ccef2\" stroke=\"#000000\" points=\"623,-53 526,-53 526,0 623,0 623,-53\"/>\n",
       "<text text-anchor=\"middle\" x=\"574.5\" y=\"-37.8\" font-family=\"Times,serif\" font-size=\"14.00\" fill=\"#000000\">samples = 3</text>\n",
       "<text text-anchor=\"middle\" x=\"574.5\" y=\"-22.8\" font-family=\"Times,serif\" font-size=\"14.00\" fill=\"#000000\">value = [1, 2]</text>\n",
       "<text text-anchor=\"middle\" x=\"574.5\" y=\"-7.8\" font-family=\"Times,serif\" font-size=\"14.00\" fill=\"#000000\">class = benign</text>\n",
       "</g>\n",
       "<!-- 11&#45;&gt;12 -->\n",
       "<g id=\"edge12\" class=\"edge\">\n",
       "<title>11&#45;&gt;12</title>\n",
       "<path fill=\"none\" stroke=\"#000000\" d=\"M613.3462,-88.9777C607.8805,-80.187 601.9846,-70.7044 596.4778,-61.8477\"/>\n",
       "<polygon fill=\"#000000\" stroke=\"#000000\" points=\"599.3837,-59.8927 591.1312,-53.2485 593.4391,-63.5889 599.3837,-59.8927\"/>\n",
       "</g>\n",
       "<!-- 13 -->\n",
       "<g id=\"node14\" class=\"node\">\n",
       "<title>13</title>\n",
       "<polygon fill=\"#e58139\" stroke=\"#000000\" points=\"756,-53 641,-53 641,0 756,0 756,-53\"/>\n",
       "<text text-anchor=\"middle\" x=\"698.5\" y=\"-37.8\" font-family=\"Times,serif\" font-size=\"14.00\" fill=\"#000000\">samples = 17</text>\n",
       "<text text-anchor=\"middle\" x=\"698.5\" y=\"-22.8\" font-family=\"Times,serif\" font-size=\"14.00\" fill=\"#000000\">value = [17, 0]</text>\n",
       "<text text-anchor=\"middle\" x=\"698.5\" y=\"-7.8\" font-family=\"Times,serif\" font-size=\"14.00\" fill=\"#000000\">class = malignant</text>\n",
       "</g>\n",
       "<!-- 11&#45;&gt;13 -->\n",
       "<g id=\"edge13\" class=\"edge\">\n",
       "<title>11&#45;&gt;13</title>\n",
       "<path fill=\"none\" stroke=\"#000000\" d=\"M657.064,-88.9777C662.8941,-80.187 669.1831,-70.7044 675.057,-61.8477\"/>\n",
       "<polygon fill=\"#000000\" stroke=\"#000000\" points=\"678.1498,-63.5167 680.7601,-53.2485 672.3162,-59.6478 678.1498,-63.5167\"/>\n",
       "</g>\n",
       "<!-- 15 -->\n",
       "<g id=\"node16\" class=\"node\">\n",
       "<title>15</title>\n",
       "<polygon fill=\"#399de5\" stroke=\"#000000\" points=\"703,-253.5 606,-253.5 606,-200.5 703,-200.5 703,-253.5\"/>\n",
       "<text text-anchor=\"middle\" x=\"654.5\" y=\"-238.3\" font-family=\"Times,serif\" font-size=\"14.00\" fill=\"#000000\">samples = 5</text>\n",
       "<text text-anchor=\"middle\" x=\"654.5\" y=\"-223.3\" font-family=\"Times,serif\" font-size=\"14.00\" fill=\"#000000\">value = [0, 5]</text>\n",
       "<text text-anchor=\"middle\" x=\"654.5\" y=\"-208.3\" font-family=\"Times,serif\" font-size=\"14.00\" fill=\"#000000\">class = benign</text>\n",
       "</g>\n",
       "<!-- 14&#45;&gt;15 -->\n",
       "<g id=\"edge15\" class=\"edge\">\n",
       "<title>14&#45;&gt;15</title>\n",
       "<path fill=\"none\" stroke=\"#000000\" d=\"M654.5,-296.9465C654.5,-286.2621 654.5,-274.4254 654.5,-263.5742\"/>\n",
       "<polygon fill=\"#000000\" stroke=\"#000000\" points=\"658.0001,-263.5421 654.5,-253.5422 651.0001,-263.5422 658.0001,-263.5421\"/>\n",
       "</g>\n",
       "<!-- 16 -->\n",
       "<g id=\"node17\" class=\"node\">\n",
       "<title>16</title>\n",
       "<polygon fill=\"#e6843d\" stroke=\"#000000\" points=\"902.5,-261 742.5,-261 742.5,-193 902.5,-193 902.5,-261\"/>\n",
       "<text text-anchor=\"middle\" x=\"822.5\" y=\"-245.8\" font-family=\"Times,serif\" font-size=\"14.00\" fill=\"#000000\">worst concavity &lt;= 0.191</text>\n",
       "<text text-anchor=\"middle\" x=\"822.5\" y=\"-230.8\" font-family=\"Times,serif\" font-size=\"14.00\" fill=\"#000000\">samples = 137</text>\n",
       "<text text-anchor=\"middle\" x=\"822.5\" y=\"-215.8\" font-family=\"Times,serif\" font-size=\"14.00\" fill=\"#000000\">value = [134, 3]</text>\n",
       "<text text-anchor=\"middle\" x=\"822.5\" y=\"-200.8\" font-family=\"Times,serif\" font-size=\"14.00\" fill=\"#000000\">class = malignant</text>\n",
       "</g>\n",
       "<!-- 14&#45;&gt;16 -->\n",
       "<g id=\"edge16\" class=\"edge\">\n",
       "<title>14&#45;&gt;16</title>\n",
       "<path fill=\"none\" stroke=\"#000000\" d=\"M709.5095,-296.9465C725.1736,-287.2497 742.3707,-276.6039 758.5196,-266.6069\"/>\n",
       "<polygon fill=\"#000000\" stroke=\"#000000\" points=\"760.7065,-269.3695 767.3669,-261.13 757.022,-263.4177 760.7065,-269.3695\"/>\n",
       "</g>\n",
       "<!-- 17 -->\n",
       "<g id=\"node18\" class=\"node\">\n",
       "<title>17</title>\n",
       "<polygon fill=\"#bddef6\" stroke=\"#000000\" points=\"898,-157 747,-157 747,-89 898,-89 898,-157\"/>\n",
       "<text text-anchor=\"middle\" x=\"822.5\" y=\"-141.8\" font-family=\"Times,serif\" font-size=\"14.00\" fill=\"#000000\">worst texture &lt;= 30.975</text>\n",
       "<text text-anchor=\"middle\" x=\"822.5\" y=\"-126.8\" font-family=\"Times,serif\" font-size=\"14.00\" fill=\"#000000\">samples = 5</text>\n",
       "<text text-anchor=\"middle\" x=\"822.5\" y=\"-111.8\" font-family=\"Times,serif\" font-size=\"14.00\" fill=\"#000000\">value = [2, 3]</text>\n",
       "<text text-anchor=\"middle\" x=\"822.5\" y=\"-96.8\" font-family=\"Times,serif\" font-size=\"14.00\" fill=\"#000000\">class = benign</text>\n",
       "</g>\n",
       "<!-- 16&#45;&gt;17 -->\n",
       "<g id=\"edge17\" class=\"edge\">\n",
       "<title>16&#45;&gt;17</title>\n",
       "<path fill=\"none\" stroke=\"#000000\" d=\"M822.5,-192.9465C822.5,-184.776 822.5,-175.9318 822.5,-167.3697\"/>\n",
       "<polygon fill=\"#000000\" stroke=\"#000000\" points=\"826.0001,-167.13 822.5,-157.13 819.0001,-167.13 826.0001,-167.13\"/>\n",
       "</g>\n",
       "<!-- 20 -->\n",
       "<g id=\"node21\" class=\"node\">\n",
       "<title>20</title>\n",
       "<polygon fill=\"#e58139\" stroke=\"#000000\" points=\"1031,-149.5 916,-149.5 916,-96.5 1031,-96.5 1031,-149.5\"/>\n",
       "<text text-anchor=\"middle\" x=\"973.5\" y=\"-134.3\" font-family=\"Times,serif\" font-size=\"14.00\" fill=\"#000000\">samples = 132</text>\n",
       "<text text-anchor=\"middle\" x=\"973.5\" y=\"-119.3\" font-family=\"Times,serif\" font-size=\"14.00\" fill=\"#000000\">value = [132, 0]</text>\n",
       "<text text-anchor=\"middle\" x=\"973.5\" y=\"-104.3\" font-family=\"Times,serif\" font-size=\"14.00\" fill=\"#000000\">class = malignant</text>\n",
       "</g>\n",
       "<!-- 16&#45;&gt;20 -->\n",
       "<g id=\"edge20\" class=\"edge\">\n",
       "<title>16&#45;&gt;20</title>\n",
       "<path fill=\"none\" stroke=\"#000000\" d=\"M871.943,-192.9465C889.5351,-180.8301 909.2785,-167.232 926.647,-155.2696\"/>\n",
       "<polygon fill=\"#000000\" stroke=\"#000000\" points=\"928.7125,-158.0969 934.9628,-149.5422 924.7419,-152.332 928.7125,-158.0969\"/>\n",
       "</g>\n",
       "<!-- 18 -->\n",
       "<g id=\"node19\" class=\"node\">\n",
       "<title>18</title>\n",
       "<polygon fill=\"#399de5\" stroke=\"#000000\" points=\"871,-53 774,-53 774,0 871,0 871,-53\"/>\n",
       "<text text-anchor=\"middle\" x=\"822.5\" y=\"-37.8\" font-family=\"Times,serif\" font-size=\"14.00\" fill=\"#000000\">samples = 3</text>\n",
       "<text text-anchor=\"middle\" x=\"822.5\" y=\"-22.8\" font-family=\"Times,serif\" font-size=\"14.00\" fill=\"#000000\">value = [0, 3]</text>\n",
       "<text text-anchor=\"middle\" x=\"822.5\" y=\"-7.8\" font-family=\"Times,serif\" font-size=\"14.00\" fill=\"#000000\">class = benign</text>\n",
       "</g>\n",
       "<!-- 17&#45;&gt;18 -->\n",
       "<g id=\"edge18\" class=\"edge\">\n",
       "<title>17&#45;&gt;18</title>\n",
       "<path fill=\"none\" stroke=\"#000000\" d=\"M822.5,-88.9777C822.5,-80.7364 822.5,-71.887 822.5,-63.5153\"/>\n",
       "<polygon fill=\"#000000\" stroke=\"#000000\" points=\"826.0001,-63.2484 822.5,-53.2485 819.0001,-63.2485 826.0001,-63.2484\"/>\n",
       "</g>\n",
       "<!-- 19 -->\n",
       "<g id=\"node20\" class=\"node\">\n",
       "<title>19</title>\n",
       "<polygon fill=\"#e58139\" stroke=\"#000000\" points=\"1004,-53 889,-53 889,0 1004,0 1004,-53\"/>\n",
       "<text text-anchor=\"middle\" x=\"946.5\" y=\"-37.8\" font-family=\"Times,serif\" font-size=\"14.00\" fill=\"#000000\">samples = 2</text>\n",
       "<text text-anchor=\"middle\" x=\"946.5\" y=\"-22.8\" font-family=\"Times,serif\" font-size=\"14.00\" fill=\"#000000\">value = [2, 0]</text>\n",
       "<text text-anchor=\"middle\" x=\"946.5\" y=\"-7.8\" font-family=\"Times,serif\" font-size=\"14.00\" fill=\"#000000\">class = malignant</text>\n",
       "</g>\n",
       "<!-- 17&#45;&gt;19 -->\n",
       "<g id=\"edge19\" class=\"edge\">\n",
       "<title>17&#45;&gt;19</title>\n",
       "<path fill=\"none\" stroke=\"#000000\" d=\"M866.2178,-88.9777C878.4549,-79.4545 891.7355,-69.1191 903.9066,-59.6473\"/>\n",
       "<polygon fill=\"#000000\" stroke=\"#000000\" points=\"906.3866,-62.1523 912.1289,-53.2485 902.0875,-56.628 906.3866,-62.1523\"/>\n",
       "</g>\n",
       "</g>\n",
       "</svg>\n"
      ],
      "text/plain": [
       "<graphviz.files.Source at 0x1c1db0b850>"
      ]
     },
     "metadata": {},
     "output_type": "display_data"
    }
   ],
   "source": [
    "import graphviz\n",
    "\n",
    "with open(\"img/tree.dot\") as f:\n",
    "    dot_graph = f.read()\n",
    "    \n",
    "display(graphviz.Source(dot_graph))"
   ]
  },
  {
   "cell_type": "markdown",
   "metadata": {
    "slideshow": {
     "slide_type": "slide"
    }
   },
   "source": [
    "The visualization provides a good in-depth view of how the algorithm makes predictions.\n",
    "\n",
    "- __samples__ : the number of samples in that node.\n",
    "- __value__ :  the number of samples per class.\n",
    "\n",
    "However, even with a tree of depth four (as seen here) the tree can become a bit overwhelming. \n",
    "\n",
    "Deeper trees (a depth of 10 is not uncommon) are even harder to read. "
   ]
  },
  {
   "cell_type": "markdown",
   "metadata": {
    "slideshow": {
     "slide_type": "slide"
    }
   },
   "source": [
    "## FEATURE IMPORTANCE IN TREES\n",
    "\n",
    "A useful way to inspecting the tree is to find out which path most of the data actually takes. "
   ]
  },
  {
   "cell_type": "markdown",
   "metadata": {
    "slideshow": {
     "slide_type": "slide"
    }
   },
   "source": [
    "Following the branches to the right,  `worst radius > 16.795` creates a node that contains:\n",
    "- 8 benign\n",
    "- 134 malignant samples\n",
    "The rest of this side of the tree then uses some finer distinctions but of the 142 samples that went to the right in the initial split, nearly all of them (132) end up in __the leaf to the very right__."
   ]
  },
  {
   "cell_type": "markdown",
   "metadata": {
    "slideshow": {
     "slide_type": "slide"
    }
   },
   "source": [
    "Following the branches to the left, `worst radius <= 16.795`  :\n",
    "- 25 malignant\n",
    "- 259 benign samples\n",
    "Nearly all of the benign samples end up in __the second leaf from the left__. "
   ]
  },
  {
   "cell_type": "markdown",
   "metadata": {
    "slideshow": {
     "slide_type": "slide"
    }
   },
   "source": [
    "This is useful information but it's difficult to see by looking at the whole tree. "
   ]
  },
  {
   "cell_type": "markdown",
   "metadata": {
    "slideshow": {
     "slide_type": "slide"
    }
   },
   "source": [
    "There are some useful properties that we can derive to summarize the workings of the tree. \n",
    "\n",
    "The most commonly used is __feature importance__ : a number between 0 and 1 for each feature\n",
    "- 0 = not used at all for decision making\n",
    "- 1 = perfectly predicts the target\n",
    "\n",
    "The feature importances always sum to 1"
   ]
  },
  {
   "cell_type": "code",
   "execution_count": 66,
   "metadata": {
    "slideshow": {
     "slide_type": "slide"
    }
   },
   "outputs": [
    {
     "name": "stdout",
     "output_type": "stream",
     "text": [
      "Feature importances:\n",
      "[0.         0.         0.         0.         0.         0.\n",
      " 0.         0.         0.         0.         0.01019737 0.04839825\n",
      " 0.         0.         0.0024156  0.         0.         0.\n",
      " 0.         0.         0.72682851 0.0458159  0.         0.\n",
      " 0.0141577  0.         0.018188   0.1221132  0.01188548 0.        ]\n"
     ]
    }
   ],
   "source": [
    "print(\"Feature importances:\")\n",
    "print(tree.feature_importances_)"
   ]
  },
  {
   "cell_type": "markdown",
   "metadata": {
    "slideshow": {
     "slide_type": "slide"
    }
   },
   "source": [
    "We can visualize the feature importances as a simple `matplotlib` bar chart.  "
   ]
  },
  {
   "cell_type": "code",
   "execution_count": 69,
   "metadata": {},
   "outputs": [
    {
     "data": {
      "text/plain": [
       "(-1, 30)"
      ]
     },
     "execution_count": 69,
     "metadata": {},
     "output_type": "execute_result"
    },
    {
     "data": {
      "image/png": "[encoded data removed]",
      "text/plain": [
       "<Figure size 432x288 with 1 Axes>"
      ]
     },
     "metadata": {
      "needs_background": "light"
     },
     "output_type": "display_data"
    }
   ],
   "source": [
    "# number of features\n",
    "n_features = cancer.data.shape[1]\n",
    "\n",
    "# bar chart showing importance of each feature\n",
    "plt.barh(np.arange(n_features), \n",
    "         tree.feature_importances_, # use the method feature_importance_ as above\n",
    "         align='center')\n",
    "\n",
    "plt.yticks(np.arange(n_features), \n",
    "           cancer.feature_names)\n",
    "\n",
    "plt.xlabel(\"Feature importance\")\n",
    "plt.ylabel(\"Feature\")\n",
    "plt.ylim(-1, n_features)"
   ]
  },
  {
   "cell_type": "markdown",
   "metadata": {
    "slideshow": {
     "slide_type": "slide"
    }
   },
   "source": [
    "The feature used in first test (`worst radius`) is the most important feature.\n",
    "\n",
    "This confirms our observations in analyzing that the first split separates the two classes fairly well. \n",
    "\n",
    "<p align=\"center\">\n",
    "  <img src=\"img/2-27.png\" alt=\"Drawing\" style=\"width: 600px;\"/>\n",
    "</p>\n",
    "\n"
   ]
  },
  {
   "cell_type": "markdown",
   "metadata": {
    "slideshow": {
     "slide_type": "slide"
    }
   },
   "source": [
    "Note : \n",
    "\n",
    "If a feature has a low value in feature_importance_, it doesn’t necessarily mean that this feature is uninformative. \n",
    "\n",
    "It only means that the feature was not picked by the tree.\n",
    "\n",
    "This is likely because another feature encodes the same information.\n",
    "\n"
   ]
  },
  {
   "cell_type": "markdown",
   "metadata": {
    "slideshow": {
     "slide_type": "slide"
    }
   },
   "source": [
    "In contrast to the coefficients in linear models, feature importances don’t encode which class a feature is indicative of. \n",
    "\n",
    "The feature importances tell us that “worst radius” is important, but not whether a high radius is indicative of a sample being benign or malignant. "
   ]
  },
  {
   "cell_type": "markdown",
   "metadata": {
    "slideshow": {
     "slide_type": "slide"
    }
   },
   "source": [
    "## Parameters\n",
    "\n",
    "Pre-pruning parameters that stop the building of the tree before it is fully developed to prevent overfitting.\n",
    "\n",
    "Usually either:\n",
    "- `max_depth`\n",
    "- `max_leaf_nodes`\n",
    "- `min_samples_leaf` "
   ]
  },
  {
   "cell_type": "markdown",
   "metadata": {
    "slideshow": {
     "slide_type": "slide"
    }
   },
   "source": [
    "## STRENGTHS & WEAKNESSES\n",
    "\n",
    "Advantages: \n",
    "- Easily be visualized and understood (at least for smaller trees)\n",
    "- Each feature is processed separately so the algorithms do not require scaling/normalization/standardization of the data.\n",
    "- Can work on features that are on completely different scales, or a mix of binary and continuous features.\n",
    "\n",
    "Disadvantages:\n",
    "- Even with pre-pruning, the model tends to overfit and provide poor generalization performance. \n",
    "\n",
    "Solution : in most applications, __ensemble methods__ are used in place of a single decision tree."
   ]
  },
  {
   "cell_type": "markdown",
   "metadata": {
    "slideshow": {
     "slide_type": "slide"
    }
   },
   "source": [
    "## Ensembles of Decision Trees\n",
    "Ensembles are methods that combine multiple machine learning models to create more powerful models.\n",
    "\n",
    "We won't go into much detail on these, but study a short summary of the two most widely used methods. \n",
    "\n",
    "\n"
   ]
  },
  {
   "cell_type": "markdown",
   "metadata": {
    "slideshow": {
     "slide_type": "slide"
    }
   },
   "source": [
    "#### RANDOM FORESTS\n",
    "Random forests are one way to address the problem of overfitting. \n",
    "<br>A random forest is a collection of decision trees, where each tree:\n",
    "- is slightly different from the others\n",
    "- will and overfit in a different way from the others\n",
    "\n",
    "We can reduce the amount of overfitting by averaging the results. \n",
    "\n",
    "\n",
    "#### GRADIENT BOOSTED REGRESSION TREES (GRADIENT BOOSTING MACHINES)\n",
    "A gradient boosted regression tree is a collection of decision trees, where trees are arranged in serial to correct the mistakes of the previous one. "
   ]
  },
  {
   "cell_type": "markdown",
   "metadata": {
    "slideshow": {
     "slide_type": "slide"
    }
   },
   "source": [
    "## Bias and Variance Revisitied. \n",
    "You can see a general trend in the examples so far:\n",
    "\n",
    "__Linear machine learning algorithms__ often have a high bias but a low variance.\n",
    "\n",
    "__Nonlinear machine learning algorithms__ often have a low bias but a high variance.\n",
    "\n",
    "The parameterization of machine learning algorithms is used to balance bias and variance.\n",
    "\n"
   ]
  },
  {
   "cell_type": "markdown",
   "metadata": {
    "slideshow": {
     "slide_type": "slide"
    }
   },
   "source": [
    "Two examples of configuring the bias-variance trade-off for specific algorithms:\n",
    "\n",
    "\n",
    "__k-nearest neighbors (KNN)__\n",
    "<br>Low bias and high variance\n",
    "<br>Trade-off can be changed by increasing the value of k (number of neighbors) \n",
    "\n",
    "__Support vector machine (SVM)__\n",
    "<br>Low bias and high variance.\n",
    "<br>Trade-off can be changed by increasing the `C` parameter (influences the number of violations of the margin allowed in the training data) \n",
    "\n",
    "\n",
    "\n",
    "\n"
   ]
  },
  {
   "cell_type": "markdown",
   "metadata": {
    "slideshow": {
     "slide_type": "slide"
    }
   },
   "source": [
    "\n",
    "\n",
    "<a id='ANN'></a>\n",
    "## 5.6 Artificial Neural Networks (ANN, Deep Learning) \n",
    "\n",
    "Promising in many machine learning applications.\n",
    "\n",
    "Often tailored very carefully to a specific use case. \n",
    "\n",
    "We will discuss some relatively simple type of ANN: <br>__Multilayer Perceptron__ [MLPs / (vanilla) feed-forward neural networks / neural networks].\n",
    "\n",
    "(Used for classification and regression.)"
   ]
  },
  {
   "cell_type": "markdown",
   "metadata": {
    "slideshow": {
     "slide_type": "slide"
    }
   },
   "source": [
    "<img src=\"img/machine_learning_AI.png\" alt=\"Drawing\" style=\"width: 300px;\"/>"
   ]
  },
  {
   "cell_type": "markdown",
   "metadata": {
    "slideshow": {
     "slide_type": "slide"
    }
   },
   "source": [
    "## THE NEURAL NETWORK MODEL\n",
    "MLPs can be viewed as generalizations of linear models that perform multiple stages of processing to come to a decision.\n",
    "\n",
    "Remember that the prediction by a linear regressor is given as:\n",
    "\n",
    "$$\\hat{y} = w_0x_0 + w_1x_1 + ... + w_px_p + b$$\n",
    "\n",
    "In words, $\\hat{y}$ is a weighted sum of the input features $x_0$ to $x_p$, weighted by the learned coefficients $w_0$ to $w_p$. \n",
    "\n",
    "We can also visualize this graphically..."
   ]
  },
  {
   "cell_type": "code",
   "execution_count": 38,
   "metadata": {
    "slideshow": {
     "slide_type": "slide"
    }
   },
   "outputs": [
    {
     "data": {
      "image/svg+xml": [
       "<?xml version=\"1.0\" encoding=\"UTF-8\" standalone=\"no\"?>\n",
       "<!DOCTYPE svg PUBLIC \"-//W3C//DTD SVG 1.1//EN\"\n",
       " \"http://www.w3.org/Graphics/SVG/1.1/DTD/svg11.dtd\">\n",
       "<!-- Generated by graphviz version 2.40.1 (20161225.0304)\n",
       " -->\n",
       "<!-- Title: %3 Pages: 1 -->\n",
       "<svg width=\"175pt\" height=\"261pt\"\n",
       " viewBox=\"0.00 0.00 175.00 261.00\" xmlns=\"http://www.w3.org/2000/svg\" xmlns:xlink=\"http://www.w3.org/1999/xlink\">\n",
       "<g id=\"graph0\" class=\"graph\" transform=\"scale(1 1) rotate(0) translate(4 257)\">\n",
       "<title>%3</title>\n",
       "<polygon fill=\"#ffffff\" stroke=\"transparent\" points=\"-4,4 -4,-257 171,-257 171,4 -4,4\"/>\n",
       "<g id=\"clust1\" class=\"cluster\">\n",
       "<title>cluster_0</title>\n",
       "<polygon fill=\"none\" stroke=\"#ffffff\" points=\"8,-8 8,-245 60,-245 60,-8 8,-8\"/>\n",
       "<text text-anchor=\"middle\" x=\"34\" y=\"-229.8\" font-family=\"Times,serif\" font-size=\"14.00\" fill=\"#000000\">inputs</text>\n",
       "</g>\n",
       "<g id=\"clust2\" class=\"cluster\">\n",
       "<title>cluster_2</title>\n",
       "<polygon fill=\"none\" stroke=\"#ffffff\" points=\"107,-89 107,-164 159,-164 159,-89 107,-89\"/>\n",
       "<text text-anchor=\"middle\" x=\"133\" y=\"-148.8\" font-family=\"Times,serif\" font-size=\"14.00\" fill=\"#000000\">output</text>\n",
       "</g>\n",
       "<!-- x[0] -->\n",
       "<g id=\"node1\" class=\"node\">\n",
       "<title>x[0]</title>\n",
       "<ellipse fill=\"none\" stroke=\"#000000\" cx=\"34\" cy=\"-196\" rx=\"18\" ry=\"18\"/>\n",
       "<text text-anchor=\"middle\" x=\"34\" y=\"-192.3\" font-family=\"Times,serif\" font-size=\"14.00\" fill=\"#000000\">x[0]</text>\n",
       "</g>\n",
       "<!-- y -->\n",
       "<g id=\"node5\" class=\"node\">\n",
       "<title>y</title>\n",
       "<ellipse fill=\"none\" stroke=\"#000000\" cx=\"133\" cy=\"-115\" rx=\"18\" ry=\"18\"/>\n",
       "<text text-anchor=\"middle\" x=\"133\" y=\"-111.3\" font-family=\"Times,serif\" font-size=\"14.00\" fill=\"#000000\">y</text>\n",
       "</g>\n",
       "<!-- x[0]&#45;&gt;y -->\n",
       "<g id=\"edge1\" class=\"edge\">\n",
       "<title>x[0]&#45;&gt;y</title>\n",
       "<path fill=\"none\" stroke=\"#000000\" d=\"M48.1843,-184.3947C64.5782,-170.9815 91.7557,-148.7454 110.921,-133.0647\"/>\n",
       "<polygon fill=\"#000000\" stroke=\"#000000\" points=\"113.3188,-135.6251 118.842,-126.5838 108.8861,-130.2074 113.3188,-135.6251\"/>\n",
       "<text text-anchor=\"middle\" x=\"83.5\" y=\"-171.8\" font-family=\"Times,serif\" font-size=\"14.00\" fill=\"#000000\">w[0]</text>\n",
       "</g>\n",
       "<!-- x[1] -->\n",
       "<g id=\"node2\" class=\"node\">\n",
       "<title>x[1]</title>\n",
       "<ellipse fill=\"none\" stroke=\"#000000\" cx=\"34\" cy=\"-142\" rx=\"18\" ry=\"18\"/>\n",
       "<text text-anchor=\"middle\" x=\"34\" y=\"-138.3\" font-family=\"Times,serif\" font-size=\"14.00\" fill=\"#000000\">x[1]</text>\n",
       "</g>\n",
       "<!-- x[1]&#45;&gt;y -->\n",
       "<g id=\"edge2\" class=\"edge\">\n",
       "<title>x[1]&#45;&gt;y</title>\n",
       "<path fill=\"none\" stroke=\"#000000\" d=\"M51.6992,-137.1729C66.622,-133.1031 88.2316,-127.2096 105.4214,-122.5214\"/>\n",
       "<polygon fill=\"#000000\" stroke=\"#000000\" points=\"106.7273,-125.7932 115.454,-119.7853 104.8854,-119.0398 106.7273,-125.7932\"/>\n",
       "<text text-anchor=\"middle\" x=\"83.5\" y=\"-134.8\" font-family=\"Times,serif\" font-size=\"14.00\" fill=\"#000000\">w[1]</text>\n",
       "</g>\n",
       "<!-- x[2] -->\n",
       "<g id=\"node3\" class=\"node\">\n",
       "<title>x[2]</title>\n",
       "<ellipse fill=\"none\" stroke=\"#000000\" cx=\"34\" cy=\"-88\" rx=\"18\" ry=\"18\"/>\n",
       "<text text-anchor=\"middle\" x=\"34\" y=\"-84.3\" font-family=\"Times,serif\" font-size=\"14.00\" fill=\"#000000\">x[2]</text>\n",
       "</g>\n",
       "<!-- x[2]&#45;&gt;y -->\n",
       "<g id=\"edge3\" class=\"edge\">\n",
       "<title>x[2]&#45;&gt;y</title>\n",
       "<path fill=\"none\" stroke=\"#000000\" d=\"M51.6992,-92.8271C66.622,-96.8969 88.2316,-102.7904 105.4214,-107.4786\"/>\n",
       "<polygon fill=\"#000000\" stroke=\"#000000\" points=\"104.8854,-110.9602 115.454,-110.2147 106.7273,-104.2068 104.8854,-110.9602\"/>\n",
       "<text text-anchor=\"middle\" x=\"83.5\" y=\"-107.8\" font-family=\"Times,serif\" font-size=\"14.00\" fill=\"#000000\">w[2]</text>\n",
       "</g>\n",
       "<!-- x[3] -->\n",
       "<g id=\"node4\" class=\"node\">\n",
       "<title>x[3]</title>\n",
       "<ellipse fill=\"none\" stroke=\"#000000\" cx=\"34\" cy=\"-34\" rx=\"18\" ry=\"18\"/>\n",
       "<text text-anchor=\"middle\" x=\"34\" y=\"-30.3\" font-family=\"Times,serif\" font-size=\"14.00\" fill=\"#000000\">x[3]</text>\n",
       "</g>\n",
       "<!-- x[3]&#45;&gt;y -->\n",
       "<g id=\"edge4\" class=\"edge\">\n",
       "<title>x[3]&#45;&gt;y</title>\n",
       "<path fill=\"none\" stroke=\"#000000\" d=\"M48.1843,-45.6053C64.5782,-59.0185 91.7557,-81.2546 110.921,-96.9353\"/>\n",
       "<polygon fill=\"#000000\" stroke=\"#000000\" points=\"108.8861,-99.7926 118.842,-103.4162 113.3188,-94.3749 108.8861,-99.7926\"/>\n",
       "<text text-anchor=\"middle\" x=\"83.5\" y=\"-82.8\" font-family=\"Times,serif\" font-size=\"14.00\" fill=\"#000000\">w[3]</text>\n",
       "</g>\n",
       "</g>\n",
       "</svg>\n"
      ],
      "text/plain": [
       "<graphviz.dot.Digraph at 0x1c25c6f4d0>"
      ]
     },
     "metadata": {},
     "output_type": "display_data"
    }
   ],
   "source": [
    "display(mglearn.plots.plot_logistic_regression_graph())"
   ]
  },
  {
   "cell_type": "markdown",
   "metadata": {},
   "source": [
    "Each node on the left represents an input feature.\n",
    "\n",
    "The connecting lines represent the learned coefficients.\n",
    "\n",
    "The node on the right represents the output, which is a weighted sum of the inputs."
   ]
  },
  {
   "cell_type": "markdown",
   "metadata": {
    "slideshow": {
     "slide_type": "slide"
    }
   },
   "source": [
    "In an MLP the process of computing weighted sums is repeated multiple times.\n",
    "\n",
    "First __hidden units__ are computed that represent an intermediate processing step.\n",
    "\n",
    "Then these are again combined using weighted sums to give the final result."
   ]
  },
  {
   "cell_type": "code",
   "execution_count": 39,
   "metadata": {},
   "outputs": [
    {
     "data": {
      "image/svg+xml": [
       "<?xml version=\"1.0\" encoding=\"UTF-8\" standalone=\"no\"?>\n",
       "<!DOCTYPE svg PUBLIC \"-//W3C//DTD SVG 1.1//EN\"\n",
       " \"http://www.w3.org/Graphics/SVG/1.1/DTD/svg11.dtd\">\n",
       "<!-- Generated by graphviz version 2.40.1 (20161225.0304)\n",
       " -->\n",
       "<!-- Title: %3 Pages: 1 -->\n",
       "<svg width=\"254pt\" height=\"261pt\"\n",
       " viewBox=\"0.00 0.00 254.00 261.00\" xmlns=\"http://www.w3.org/2000/svg\" xmlns:xlink=\"http://www.w3.org/1999/xlink\">\n",
       "<g id=\"graph0\" class=\"graph\" transform=\"scale(1 1) rotate(0) translate(4 257)\">\n",
       "<title>%3</title>\n",
       "<polygon fill=\"#ffffff\" stroke=\"transparent\" points=\"-4,4 -4,-257 250,-257 250,4 -4,4\"/>\n",
       "<g id=\"clust1\" class=\"cluster\">\n",
       "<title>cluster_0</title>\n",
       "<polygon fill=\"none\" stroke=\"#ffffff\" points=\"8,-8 8,-245 60,-245 60,-8 8,-8\"/>\n",
       "<text text-anchor=\"middle\" x=\"34\" y=\"-229.8\" font-family=\"Times,serif\" font-size=\"14.00\" fill=\"#000000\">inputs</text>\n",
       "</g>\n",
       "<g id=\"clust2\" class=\"cluster\">\n",
       "<title>cluster_1</title>\n",
       "<polygon fill=\"none\" stroke=\"#ffffff\" points=\"80,-35 80,-218 166,-218 166,-35 80,-35\"/>\n",
       "<text text-anchor=\"middle\" x=\"123\" y=\"-202.8\" font-family=\"Times,serif\" font-size=\"14.00\" fill=\"#000000\">hidden layer</text>\n",
       "</g>\n",
       "<g id=\"clust3\" class=\"cluster\">\n",
       "<title>cluster_2</title>\n",
       "<polygon fill=\"none\" stroke=\"#ffffff\" points=\"186,-89 186,-164 238,-164 238,-89 186,-89\"/>\n",
       "<text text-anchor=\"middle\" x=\"212\" y=\"-148.8\" font-family=\"Times,serif\" font-size=\"14.00\" fill=\"#000000\">output</text>\n",
       "</g>\n",
       "<!-- x[0] -->\n",
       "<g id=\"node1\" class=\"node\">\n",
       "<title>x[0]</title>\n",
       "<ellipse fill=\"none\" stroke=\"#000000\" cx=\"34\" cy=\"-196\" rx=\"18\" ry=\"18\"/>\n",
       "<text text-anchor=\"middle\" x=\"34\" y=\"-192.3\" font-family=\"Times,serif\" font-size=\"14.00\" fill=\"#000000\">x[0]</text>\n",
       "</g>\n",
       "<!-- h0 -->\n",
       "<g id=\"node5\" class=\"node\">\n",
       "<title>h0</title>\n",
       "<ellipse fill=\"none\" stroke=\"#000000\" cx=\"123\" cy=\"-61\" rx=\"18\" ry=\"18\"/>\n",
       "<text text-anchor=\"middle\" x=\"123\" y=\"-57.3\" font-family=\"Times,serif\" font-size=\"14.00\" fill=\"#000000\">h[0]</text>\n",
       "</g>\n",
       "<!-- x[0]&#45;&gt;h0 -->\n",
       "<g id=\"edge1\" class=\"edge\">\n",
       "<title>x[0]&#45;&gt;h0</title>\n",
       "<path fill=\"none\" stroke=\"#000000\" d=\"M44.0364,-180.7762C59.3935,-157.4817 88.8604,-112.7848 107.1327,-85.0684\"/>\n",
       "<polygon fill=\"#000000\" stroke=\"#000000\" points=\"110.2817,-86.6507 112.8637,-76.3753 104.4374,-82.7978 110.2817,-86.6507\"/>\n",
       "</g>\n",
       "<!-- h1 -->\n",
       "<g id=\"node6\" class=\"node\">\n",
       "<title>h1</title>\n",
       "<ellipse fill=\"none\" stroke=\"#000000\" cx=\"123\" cy=\"-169\" rx=\"18\" ry=\"18\"/>\n",
       "<text text-anchor=\"middle\" x=\"123\" y=\"-165.3\" font-family=\"Times,serif\" font-size=\"14.00\" fill=\"#000000\">h[1]</text>\n",
       "</g>\n",
       "<!-- x[0]&#45;&gt;h1 -->\n",
       "<g id=\"edge2\" class=\"edge\">\n",
       "<title>x[0]&#45;&gt;h1</title>\n",
       "<path fill=\"none\" stroke=\"#000000\" d=\"M51.5835,-190.6657C64.2205,-186.832 81.4963,-181.591 95.891,-177.2241\"/>\n",
       "<polygon fill=\"#000000\" stroke=\"#000000\" points=\"97.2026,-180.4838 105.7558,-174.2314 95.1704,-173.7852 97.2026,-180.4838\"/>\n",
       "</g>\n",
       "<!-- h2 -->\n",
       "<g id=\"node7\" class=\"node\">\n",
       "<title>h2</title>\n",
       "<ellipse fill=\"none\" stroke=\"#000000\" cx=\"123\" cy=\"-115\" rx=\"18\" ry=\"18\"/>\n",
       "<text text-anchor=\"middle\" x=\"123\" y=\"-111.3\" font-family=\"Times,serif\" font-size=\"14.00\" fill=\"#000000\">h[2]</text>\n",
       "</g>\n",
       "<!-- x[0]&#45;&gt;h2 -->\n",
       "<g id=\"edge3\" class=\"edge\">\n",
       "<title>x[0]&#45;&gt;h2</title>\n",
       "<path fill=\"none\" stroke=\"#000000\" d=\"M47.5172,-183.6978C61.9764,-170.5384 85.0993,-149.4939 101.9464,-134.1611\"/>\n",
       "<polygon fill=\"#000000\" stroke=\"#000000\" points=\"104.6074,-136.4719 109.6472,-127.1525 99.8957,-131.2949 104.6074,-136.4719\"/>\n",
       "</g>\n",
       "<!-- x[1] -->\n",
       "<g id=\"node2\" class=\"node\">\n",
       "<title>x[1]</title>\n",
       "<ellipse fill=\"none\" stroke=\"#000000\" cx=\"34\" cy=\"-142\" rx=\"18\" ry=\"18\"/>\n",
       "<text text-anchor=\"middle\" x=\"34\" y=\"-138.3\" font-family=\"Times,serif\" font-size=\"14.00\" fill=\"#000000\">x[1]</text>\n",
       "</g>\n",
       "<!-- x[1]&#45;&gt;h0 -->\n",
       "<g id=\"edge4\" class=\"edge\">\n",
       "<title>x[1]&#45;&gt;h0</title>\n",
       "<path fill=\"none\" stroke=\"#000000\" d=\"M47.5172,-129.6978C61.9764,-116.5384 85.0993,-95.4939 101.9464,-80.1611\"/>\n",
       "<polygon fill=\"#000000\" stroke=\"#000000\" points=\"104.6074,-82.4719 109.6472,-73.1525 99.8957,-77.2949 104.6074,-82.4719\"/>\n",
       "</g>\n",
       "<!-- x[1]&#45;&gt;h1 -->\n",
       "<g id=\"edge5\" class=\"edge\">\n",
       "<title>x[1]&#45;&gt;h1</title>\n",
       "<path fill=\"none\" stroke=\"#000000\" d=\"M51.5835,-147.3343C64.2205,-151.168 81.4963,-156.409 95.891,-160.7759\"/>\n",
       "<polygon fill=\"#000000\" stroke=\"#000000\" points=\"95.1704,-164.2148 105.7558,-163.7686 97.2026,-157.5162 95.1704,-164.2148\"/>\n",
       "</g>\n",
       "<!-- x[1]&#45;&gt;h2 -->\n",
       "<g id=\"edge6\" class=\"edge\">\n",
       "<title>x[1]&#45;&gt;h2</title>\n",
       "<path fill=\"none\" stroke=\"#000000\" d=\"M51.5835,-136.6657C64.2205,-132.832 81.4963,-127.591 95.891,-123.2241\"/>\n",
       "<polygon fill=\"#000000\" stroke=\"#000000\" points=\"97.2026,-126.4838 105.7558,-120.2314 95.1704,-119.7852 97.2026,-126.4838\"/>\n",
       "</g>\n",
       "<!-- x[2] -->\n",
       "<g id=\"node3\" class=\"node\">\n",
       "<title>x[2]</title>\n",
       "<ellipse fill=\"none\" stroke=\"#000000\" cx=\"34\" cy=\"-88\" rx=\"18\" ry=\"18\"/>\n",
       "<text text-anchor=\"middle\" x=\"34\" y=\"-84.3\" font-family=\"Times,serif\" font-size=\"14.00\" fill=\"#000000\">x[2]</text>\n",
       "</g>\n",
       "<!-- x[2]&#45;&gt;h0 -->\n",
       "<g id=\"edge7\" class=\"edge\">\n",
       "<title>x[2]&#45;&gt;h0</title>\n",
       "<path fill=\"none\" stroke=\"#000000\" d=\"M51.5835,-82.6657C64.2205,-78.832 81.4963,-73.591 95.891,-69.2241\"/>\n",
       "<polygon fill=\"#000000\" stroke=\"#000000\" points=\"97.2026,-72.4838 105.7558,-66.2314 95.1704,-65.7852 97.2026,-72.4838\"/>\n",
       "</g>\n",
       "<!-- x[2]&#45;&gt;h1 -->\n",
       "<g id=\"edge8\" class=\"edge\">\n",
       "<title>x[2]&#45;&gt;h1</title>\n",
       "<path fill=\"none\" stroke=\"#000000\" d=\"M47.5172,-100.3022C61.9764,-113.4616 85.0993,-134.5061 101.9464,-149.8389\"/>\n",
       "<polygon fill=\"#000000\" stroke=\"#000000\" points=\"99.8957,-152.7051 109.6472,-156.8475 104.6074,-147.5281 99.8957,-152.7051\"/>\n",
       "</g>\n",
       "<!-- x[2]&#45;&gt;h2 -->\n",
       "<g id=\"edge9\" class=\"edge\">\n",
       "<title>x[2]&#45;&gt;h2</title>\n",
       "<path fill=\"none\" stroke=\"#000000\" d=\"M51.5835,-93.3343C64.2205,-97.168 81.4963,-102.409 95.891,-106.7759\"/>\n",
       "<polygon fill=\"#000000\" stroke=\"#000000\" points=\"95.1704,-110.2148 105.7558,-109.7686 97.2026,-103.5162 95.1704,-110.2148\"/>\n",
       "</g>\n",
       "<!-- x[3] -->\n",
       "<g id=\"node4\" class=\"node\">\n",
       "<title>x[3]</title>\n",
       "<ellipse fill=\"none\" stroke=\"#000000\" cx=\"34\" cy=\"-34\" rx=\"18\" ry=\"18\"/>\n",
       "<text text-anchor=\"middle\" x=\"34\" y=\"-30.3\" font-family=\"Times,serif\" font-size=\"14.00\" fill=\"#000000\">x[3]</text>\n",
       "</g>\n",
       "<!-- x[3]&#45;&gt;h0 -->\n",
       "<g id=\"edge10\" class=\"edge\">\n",
       "<title>x[3]&#45;&gt;h0</title>\n",
       "<path fill=\"none\" stroke=\"#000000\" d=\"M51.5835,-39.3343C64.2205,-43.168 81.4963,-48.409 95.891,-52.7759\"/>\n",
       "<polygon fill=\"#000000\" stroke=\"#000000\" points=\"95.1704,-56.2148 105.7558,-55.7686 97.2026,-49.5162 95.1704,-56.2148\"/>\n",
       "</g>\n",
       "<!-- x[3]&#45;&gt;h1 -->\n",
       "<g id=\"edge11\" class=\"edge\">\n",
       "<title>x[3]&#45;&gt;h1</title>\n",
       "<path fill=\"none\" stroke=\"#000000\" d=\"M44.0364,-49.2238C59.3935,-72.5183 88.8604,-117.2152 107.1327,-144.9316\"/>\n",
       "<polygon fill=\"#000000\" stroke=\"#000000\" points=\"104.4374,-147.2022 112.8637,-153.6247 110.2817,-143.3493 104.4374,-147.2022\"/>\n",
       "</g>\n",
       "<!-- x[3]&#45;&gt;h2 -->\n",
       "<g id=\"edge12\" class=\"edge\">\n",
       "<title>x[3]&#45;&gt;h2</title>\n",
       "<path fill=\"none\" stroke=\"#000000\" d=\"M47.5172,-46.3022C61.9764,-59.4616 85.0993,-80.5061 101.9464,-95.8389\"/>\n",
       "<polygon fill=\"#000000\" stroke=\"#000000\" points=\"99.8957,-98.7051 109.6472,-102.8475 104.6074,-93.5281 99.8957,-98.7051\"/>\n",
       "</g>\n",
       "<!-- y -->\n",
       "<g id=\"node8\" class=\"node\">\n",
       "<title>y</title>\n",
       "<ellipse fill=\"none\" stroke=\"#000000\" cx=\"212\" cy=\"-115\" rx=\"18\" ry=\"18\"/>\n",
       "<text text-anchor=\"middle\" x=\"212\" y=\"-111.3\" font-family=\"Times,serif\" font-size=\"14.00\" fill=\"#000000\">y</text>\n",
       "</g>\n",
       "<!-- h0&#45;&gt;y -->\n",
       "<g id=\"edge13\" class=\"edge\">\n",
       "<title>h0&#45;&gt;y</title>\n",
       "<path fill=\"none\" stroke=\"#000000\" d=\"M138.5026,-70.4061C152.0747,-78.6408 172.0207,-90.7429 187.7106,-100.2626\"/>\n",
       "<polygon fill=\"#000000\" stroke=\"#000000\" points=\"186.0114,-103.3255 196.3764,-105.5205 189.6426,-97.3409 186.0114,-103.3255\"/>\n",
       "</g>\n",
       "<!-- h1&#45;&gt;y -->\n",
       "<g id=\"edge14\" class=\"edge\">\n",
       "<title>h1&#45;&gt;y</title>\n",
       "<path fill=\"none\" stroke=\"#000000\" d=\"M138.5026,-159.5939C152.0747,-151.3592 172.0207,-139.2571 187.7106,-129.7374\"/>\n",
       "<polygon fill=\"#000000\" stroke=\"#000000\" points=\"189.6426,-132.6591 196.3764,-124.4795 186.0114,-126.6745 189.6426,-132.6591\"/>\n",
       "</g>\n",
       "<!-- h2&#45;&gt;y -->\n",
       "<g id=\"edge15\" class=\"edge\">\n",
       "<title>h2&#45;&gt;y</title>\n",
       "<path fill=\"none\" stroke=\"#000000\" d=\"M141.0105,-115C153.2342,-115 169.6505,-115 183.6176,-115\"/>\n",
       "<polygon fill=\"#000000\" stroke=\"#000000\" points=\"183.7109,-118.5001 193.7108,-115 183.7108,-111.5001 183.7109,-118.5001\"/>\n",
       "</g>\n",
       "</g>\n",
       "</svg>\n"
      ],
      "text/plain": [
       "<graphviz.dot.Digraph at 0x1c257d9610>"
      ]
     },
     "metadata": {},
     "output_type": "display_data"
    }
   ],
   "source": [
    "display(mglearn.plots.plot_single_hidden_layer_graph())"
   ]
  },
  {
   "cell_type": "markdown",
   "metadata": {
    "slideshow": {
     "slide_type": "slide"
    }
   },
   "source": [
    "This model has *a lot* more coefficients (also called weights) to learn.\n",
    "\n",
    "There is:\n",
    "- one between every input and every hidden unit (which make up the hidden layer)\n",
    "- one between every unit in the hidden layer and the output."
   ]
  },
  {
   "cell_type": "markdown",
   "metadata": {
    "slideshow": {
     "slide_type": "slide"
    }
   },
   "source": [
    "Computing a __series__ of weighted sums is mathematically the same as computing just __one weighted sum__.\n",
    "\n",
    "To make this model truly more powerful than a linear model, we need an additional feature. \n",
    "\n",
    "After computing a weighted sum for each *hidden* unit, a *nonlinear* function is applied to the result.\n",
    "\n",
    "The result of this function is then used in the weighted sum that computes the output, $\\hat{y}$.\n",
    "\n"
   ]
  },
  {
   "cell_type": "markdown",
   "metadata": {
    "slideshow": {
     "slide_type": "slide"
    }
   },
   "source": [
    "This function is usually either:\n",
    "- __rectifying nonlinearity__ (rectified linear unit or relu) : cuts off values below zero\n",
    "- __hyperbolic tangent__ (tanh) : saturates to –1 for low input values and +1 for high input values\n",
    "\n",
    "Using either nonlinear function allows the neural network to learn much more complicated functions than a linear model could. "
   ]
  },
  {
   "cell_type": "code",
   "execution_count": 40,
   "metadata": {
    "scrolled": false
   },
   "outputs": [
    {
     "data": {
      "text/plain": [
       "Text(0, 0.5, 'relu(x), tanh(x)')"
      ]
     },
     "execution_count": 40,
     "metadata": {},
     "output_type": "execute_result"
    },
    {
     "data": {
      "image/png": "[encoded data removed]",
      "text/plain": [
       "<Figure size 432x288 with 1 Axes>"
      ]
     },
     "metadata": {
      "needs_background": "light"
     },
     "output_type": "display_data"
    }
   ],
   "source": [
    "line = np.linspace(-3, 3, 100)\n",
    "plt.plot(line, np.tanh(line), label=\"tanh\")\n",
    "plt.plot(line, np.maximum(line, 0), label=\"relu\")\n",
    "plt.legend(loc=\"best\")\n",
    "plt.xlabel(\"x\")\n",
    "plt.ylabel(\"relu(x), tanh(x)\")"
   ]
  },
  {
   "cell_type": "markdown",
   "metadata": {
    "slideshow": {
     "slide_type": "slide"
    }
   },
   "source": [
    "<img src=\"img/ANN.png\" alt=\"Drawing\" style=\"width: 300px;\"/>\n",
    "\n",
    "$x$ : input features\n",
    "\n",
    "$\\hat{y}$ : the computed output\n",
    "\n",
    "Weights $v$ and $w$ : learned from data\n",
    ">$w$ : weights between the input $x$ and the hidden layer $h$.<br>\n",
    ">$v$ : weights between the hidden layer $h$ and the output $\\hat{y}$. \n",
    "\n",
    "$h$ : intermediate computations. \n",
    "\n"
   ]
  },
  {
   "cell_type": "markdown",
   "metadata": {
    "slideshow": {
     "slide_type": "slide"
    }
   },
   "source": [
    "<img src=\"img/ANN.png\" alt=\"Drawing\" style=\"width: 300px;\"/>\n",
    "\n",
    "The full formula for computing $\\hat{y}$ , for the small neural network pictured, in the case of regression (using tanh nonlinearity):\n",
    "\n",
    "$$h_0 = tanh(\\; \\; w_{0,0}x_0 + w_{1,0}x_1 + w_{2,0}x_2 + w_{3,0}x_3 + b_0 \\; \\;)$$\n",
    "$$h_1 = tanh(\\; \\; w_{0,1}x_0 + w_{1,1}x_1 + w_{2,1}x_2 + w_{3,1}x_3 + b_1 \\; \\;)$$\n",
    "$$h_2 = tanh(\\; \\; w_{0,2}x_0 + w_{1,2}x_1 + w_{2,2}x_2 + w_{3,2}x_3 + b_2 \\; \\;)$$\n",
    "\n",
    "$$\\hat{y} = v_0h_0 + v_1h_1 + v_2h_2 + b$$"
   ]
  },
  {
   "cell_type": "markdown",
   "metadata": {
    "slideshow": {
     "slide_type": "slide"
    }
   },
   "source": [
    "An important parameter that needs to be set by the user is the __number of nodes in the hidden layer__. \n",
    "\n",
    "This may be as small as 10 (small or simple datasets) and as big as 10,000 (very complex data). \n",
    "\n",
    "It is also possible to add additional hidden layers:"
   ]
  },
  {
   "cell_type": "code",
   "execution_count": 41,
   "metadata": {},
   "outputs": [
    {
     "data": {
      "image/svg+xml": [
       "<?xml version=\"1.0\" encoding=\"UTF-8\" standalone=\"no\"?>\n",
       "<!DOCTYPE svg PUBLIC \"-//W3C//DTD SVG 1.1//EN\"\n",
       " \"http://www.w3.org/Graphics/SVG/1.1/DTD/svg11.dtd\">\n",
       "<!-- Generated by graphviz version 2.40.1 (20161225.0304)\n",
       " -->\n",
       "<!-- Title: %3 Pages: 1 -->\n",
       "<svg width=\"382pt\" height=\"261pt\"\n",
       " viewBox=\"0.00 0.00 382.00 261.00\" xmlns=\"http://www.w3.org/2000/svg\" xmlns:xlink=\"http://www.w3.org/1999/xlink\">\n",
       "<g id=\"graph0\" class=\"graph\" transform=\"scale(1 1) rotate(0) translate(4 257)\">\n",
       "<title>%3</title>\n",
       "<polygon fill=\"#ffffff\" stroke=\"transparent\" points=\"-4,4 -4,-257 378,-257 378,4 -4,4\"/>\n",
       "<g id=\"clust1\" class=\"cluster\">\n",
       "<title>cluster_0</title>\n",
       "<polygon fill=\"none\" stroke=\"#ffffff\" points=\"8,-8 8,-245 60,-245 60,-8 8,-8\"/>\n",
       "<text text-anchor=\"middle\" x=\"34\" y=\"-229.8\" font-family=\"Times,serif\" font-size=\"14.00\" fill=\"#000000\">inputs</text>\n",
       "</g>\n",
       "<g id=\"clust2\" class=\"cluster\">\n",
       "<title>cluster_1</title>\n",
       "<polygon fill=\"none\" stroke=\"#ffffff\" points=\"80,-35 80,-218 177,-218 177,-35 80,-35\"/>\n",
       "<text text-anchor=\"middle\" x=\"128.5\" y=\"-202.8\" font-family=\"Times,serif\" font-size=\"14.00\" fill=\"#000000\">hidden layer 1</text>\n",
       "</g>\n",
       "<g id=\"clust3\" class=\"cluster\">\n",
       "<title>cluster_2</title>\n",
       "<polygon fill=\"none\" stroke=\"#ffffff\" points=\"197,-35 197,-218 294,-218 294,-35 197,-35\"/>\n",
       "<text text-anchor=\"middle\" x=\"245.5\" y=\"-202.8\" font-family=\"Times,serif\" font-size=\"14.00\" fill=\"#000000\">hidden layer 2</text>\n",
       "</g>\n",
       "<g id=\"clust4\" class=\"cluster\">\n",
       "<title>cluster_3</title>\n",
       "<polygon fill=\"none\" stroke=\"#ffffff\" points=\"314,-89 314,-164 366,-164 366,-89 314,-89\"/>\n",
       "<text text-anchor=\"middle\" x=\"340\" y=\"-148.8\" font-family=\"Times,serif\" font-size=\"14.00\" fill=\"#000000\">output</text>\n",
       "</g>\n",
       "<!-- x[0] -->\n",
       "<g id=\"node1\" class=\"node\">\n",
       "<title>x[0]</title>\n",
       "<ellipse fill=\"none\" stroke=\"#000000\" cx=\"34\" cy=\"-196\" rx=\"18\" ry=\"18\"/>\n",
       "<text text-anchor=\"middle\" x=\"34\" y=\"-192.3\" font-family=\"Times,serif\" font-size=\"14.00\" fill=\"#000000\">x[0]</text>\n",
       "</g>\n",
       "<!-- h1[0] -->\n",
       "<g id=\"node5\" class=\"node\">\n",
       "<title>h1[0]</title>\n",
       "<ellipse fill=\"none\" stroke=\"#000000\" cx=\"128\" cy=\"-61\" rx=\"18\" ry=\"18\"/>\n",
       "<text text-anchor=\"middle\" x=\"128\" y=\"-57.3\" font-family=\"Times,serif\" font-size=\"14.00\" fill=\"#000000\">h1[0]</text>\n",
       "</g>\n",
       "<!-- x[0]&#45;&gt;h1[0] -->\n",
       "<g id=\"edge1\" class=\"edge\">\n",
       "<title>x[0]&#45;&gt;h1[0]</title>\n",
       "<path fill=\"none\" stroke=\"#000000\" d=\"M44.4188,-181.0368C60.723,-157.6212 92.3974,-112.1314 111.7274,-84.3702\"/>\n",
       "<polygon fill=\"#000000\" stroke=\"#000000\" points=\"114.6926,-86.2368 117.5345,-76.0302 108.948,-82.2368 114.6926,-86.2368\"/>\n",
       "</g>\n",
       "<!-- h1[1] -->\n",
       "<g id=\"node6\" class=\"node\">\n",
       "<title>h1[1]</title>\n",
       "<ellipse fill=\"none\" stroke=\"#000000\" cx=\"128\" cy=\"-169\" rx=\"18\" ry=\"18\"/>\n",
       "<text text-anchor=\"middle\" x=\"128\" y=\"-165.3\" font-family=\"Times,serif\" font-size=\"14.00\" fill=\"#000000\">h1[1]</text>\n",
       "</g>\n",
       "<!-- x[0]&#45;&gt;h1[1] -->\n",
       "<g id=\"edge2\" class=\"edge\">\n",
       "<title>x[0]&#45;&gt;h1[1]</title>\n",
       "<path fill=\"none\" stroke=\"#000000\" d=\"M51.6807,-190.9215C65.4666,-186.9617 84.8559,-181.3924 100.6411,-176.8584\"/>\n",
       "<polygon fill=\"#000000\" stroke=\"#000000\" points=\"101.7535,-180.1805 110.3986,-174.0557 99.8209,-173.4525 101.7535,-180.1805\"/>\n",
       "</g>\n",
       "<!-- h1[2] -->\n",
       "<g id=\"node7\" class=\"node\">\n",
       "<title>h1[2]</title>\n",
       "<ellipse fill=\"none\" stroke=\"#000000\" cx=\"128\" cy=\"-115\" rx=\"18\" ry=\"18\"/>\n",
       "<text text-anchor=\"middle\" x=\"128\" y=\"-111.3\" font-family=\"Times,serif\" font-size=\"14.00\" fill=\"#000000\">h1[2]</text>\n",
       "</g>\n",
       "<!-- x[0]&#45;&gt;h1[2] -->\n",
       "<g id=\"edge3\" class=\"edge\">\n",
       "<title>x[0]&#45;&gt;h1[2]</title>\n",
       "<path fill=\"none\" stroke=\"#000000\" d=\"M47.87,-184.0482C63.2819,-170.7677 88.3638,-149.1546 106.3622,-133.6453\"/>\n",
       "<polygon fill=\"#000000\" stroke=\"#000000\" points=\"108.7823,-136.1801 114.0731,-127.0009 104.2128,-130.8773 108.7823,-136.1801\"/>\n",
       "</g>\n",
       "<!-- x[1] -->\n",
       "<g id=\"node2\" class=\"node\">\n",
       "<title>x[1]</title>\n",
       "<ellipse fill=\"none\" stroke=\"#000000\" cx=\"34\" cy=\"-142\" rx=\"18\" ry=\"18\"/>\n",
       "<text text-anchor=\"middle\" x=\"34\" y=\"-138.3\" font-family=\"Times,serif\" font-size=\"14.00\" fill=\"#000000\">x[1]</text>\n",
       "</g>\n",
       "<!-- x[1]&#45;&gt;h1[0] -->\n",
       "<g id=\"edge4\" class=\"edge\">\n",
       "<title>x[1]&#45;&gt;h1[0]</title>\n",
       "<path fill=\"none\" stroke=\"#000000\" d=\"M47.87,-130.0482C63.2819,-116.7677 88.3638,-95.1546 106.3622,-79.6453\"/>\n",
       "<polygon fill=\"#000000\" stroke=\"#000000\" points=\"108.7823,-82.1801 114.0731,-73.0009 104.2128,-76.8773 108.7823,-82.1801\"/>\n",
       "</g>\n",
       "<!-- x[1]&#45;&gt;h1[1] -->\n",
       "<g id=\"edge5\" class=\"edge\">\n",
       "<title>x[1]&#45;&gt;h1[1]</title>\n",
       "<path fill=\"none\" stroke=\"#000000\" d=\"M51.6807,-147.0785C65.4666,-151.0383 84.8559,-156.6076 100.6411,-161.1416\"/>\n",
       "<polygon fill=\"#000000\" stroke=\"#000000\" points=\"99.8209,-164.5475 110.3986,-163.9443 101.7535,-157.8195 99.8209,-164.5475\"/>\n",
       "</g>\n",
       "<!-- x[1]&#45;&gt;h1[2] -->\n",
       "<g id=\"edge6\" class=\"edge\">\n",
       "<title>x[1]&#45;&gt;h1[2]</title>\n",
       "<path fill=\"none\" stroke=\"#000000\" d=\"M51.6807,-136.9215C65.4666,-132.9617 84.8559,-127.3924 100.6411,-122.8584\"/>\n",
       "<polygon fill=\"#000000\" stroke=\"#000000\" points=\"101.7535,-126.1805 110.3986,-120.0557 99.8209,-119.4525 101.7535,-126.1805\"/>\n",
       "</g>\n",
       "<!-- x[2] -->\n",
       "<g id=\"node3\" class=\"node\">\n",
       "<title>x[2]</title>\n",
       "<ellipse fill=\"none\" stroke=\"#000000\" cx=\"34\" cy=\"-88\" rx=\"18\" ry=\"18\"/>\n",
       "<text text-anchor=\"middle\" x=\"34\" y=\"-84.3\" font-family=\"Times,serif\" font-size=\"14.00\" fill=\"#000000\">x[2]</text>\n",
       "</g>\n",
       "<!-- x[2]&#45;&gt;h1[0] -->\n",
       "<g id=\"edge7\" class=\"edge\">\n",
       "<title>x[2]&#45;&gt;h1[0]</title>\n",
       "<path fill=\"none\" stroke=\"#000000\" d=\"M51.6807,-82.9215C65.4666,-78.9617 84.8559,-73.3924 100.6411,-68.8584\"/>\n",
       "<polygon fill=\"#000000\" stroke=\"#000000\" points=\"101.7535,-72.1805 110.3986,-66.0557 99.8209,-65.4525 101.7535,-72.1805\"/>\n",
       "</g>\n",
       "<!-- x[2]&#45;&gt;h1[1] -->\n",
       "<g id=\"edge8\" class=\"edge\">\n",
       "<title>x[2]&#45;&gt;h1[1]</title>\n",
       "<path fill=\"none\" stroke=\"#000000\" d=\"M47.87,-99.9518C63.2819,-113.2323 88.3638,-134.8454 106.3622,-150.3547\"/>\n",
       "<polygon fill=\"#000000\" stroke=\"#000000\" points=\"104.2128,-153.1227 114.0731,-156.9991 108.7823,-147.8199 104.2128,-153.1227\"/>\n",
       "</g>\n",
       "<!-- x[2]&#45;&gt;h1[2] -->\n",
       "<g id=\"edge9\" class=\"edge\">\n",
       "<title>x[2]&#45;&gt;h1[2]</title>\n",
       "<path fill=\"none\" stroke=\"#000000\" d=\"M51.6807,-93.0785C65.4666,-97.0383 84.8559,-102.6076 100.6411,-107.1416\"/>\n",
       "<polygon fill=\"#000000\" stroke=\"#000000\" points=\"99.8209,-110.5475 110.3986,-109.9443 101.7535,-103.8195 99.8209,-110.5475\"/>\n",
       "</g>\n",
       "<!-- x[3] -->\n",
       "<g id=\"node4\" class=\"node\">\n",
       "<title>x[3]</title>\n",
       "<ellipse fill=\"none\" stroke=\"#000000\" cx=\"34\" cy=\"-34\" rx=\"18\" ry=\"18\"/>\n",
       "<text text-anchor=\"middle\" x=\"34\" y=\"-30.3\" font-family=\"Times,serif\" font-size=\"14.00\" fill=\"#000000\">x[3]</text>\n",
       "</g>\n",
       "<!-- x[3]&#45;&gt;h1[0] -->\n",
       "<g id=\"edge10\" class=\"edge\">\n",
       "<title>x[3]&#45;&gt;h1[0]</title>\n",
       "<path fill=\"none\" stroke=\"#000000\" d=\"M51.6807,-39.0785C65.4666,-43.0383 84.8559,-48.6076 100.6411,-53.1416\"/>\n",
       "<polygon fill=\"#000000\" stroke=\"#000000\" points=\"99.8209,-56.5475 110.3986,-55.9443 101.7535,-49.8195 99.8209,-56.5475\"/>\n",
       "</g>\n",
       "<!-- x[3]&#45;&gt;h1[1] -->\n",
       "<g id=\"edge11\" class=\"edge\">\n",
       "<title>x[3]&#45;&gt;h1[1]</title>\n",
       "<path fill=\"none\" stroke=\"#000000\" d=\"M44.4188,-48.9632C60.723,-72.3788 92.3974,-117.8686 111.7274,-145.6298\"/>\n",
       "<polygon fill=\"#000000\" stroke=\"#000000\" points=\"108.948,-147.7632 117.5345,-153.9698 114.6926,-143.7632 108.948,-147.7632\"/>\n",
       "</g>\n",
       "<!-- x[3]&#45;&gt;h1[2] -->\n",
       "<g id=\"edge12\" class=\"edge\">\n",
       "<title>x[3]&#45;&gt;h1[2]</title>\n",
       "<path fill=\"none\" stroke=\"#000000\" d=\"M47.87,-45.9518C63.2819,-59.2323 88.3638,-80.8454 106.3622,-96.3547\"/>\n",
       "<polygon fill=\"#000000\" stroke=\"#000000\" points=\"104.2128,-99.1227 114.0731,-102.9991 108.7823,-93.8199 104.2128,-99.1227\"/>\n",
       "</g>\n",
       "<!-- h2[0] -->\n",
       "<g id=\"node8\" class=\"node\">\n",
       "<title>h2[0]</title>\n",
       "<ellipse fill=\"none\" stroke=\"#000000\" cx=\"245\" cy=\"-61\" rx=\"18\" ry=\"18\"/>\n",
       "<text text-anchor=\"middle\" x=\"245\" y=\"-57.3\" font-family=\"Times,serif\" font-size=\"14.00\" fill=\"#000000\">h2[0]</text>\n",
       "</g>\n",
       "<!-- h1[0]&#45;&gt;h2[0] -->\n",
       "<g id=\"edge13\" class=\"edge\">\n",
       "<title>h1[0]&#45;&gt;h2[0]</title>\n",
       "<path fill=\"none\" stroke=\"#000000\" d=\"M146.0248,-61C164.8644,-61 194.6888,-61 216.6787,-61\"/>\n",
       "<polygon fill=\"#000000\" stroke=\"#000000\" points=\"216.7619,-64.5001 226.7619,-61 216.7619,-57.5001 216.7619,-64.5001\"/>\n",
       "</g>\n",
       "<!-- h2[1] -->\n",
       "<g id=\"node9\" class=\"node\">\n",
       "<title>h2[1]</title>\n",
       "<ellipse fill=\"none\" stroke=\"#000000\" cx=\"245\" cy=\"-169\" rx=\"18\" ry=\"18\"/>\n",
       "<text text-anchor=\"middle\" x=\"245\" y=\"-165.3\" font-family=\"Times,serif\" font-size=\"14.00\" fill=\"#000000\">h2[1]</text>\n",
       "</g>\n",
       "<!-- h1[0]&#45;&gt;h2[1] -->\n",
       "<g id=\"edge14\" class=\"edge\">\n",
       "<title>h1[0]&#45;&gt;h2[1]</title>\n",
       "<path fill=\"none\" stroke=\"#000000\" d=\"M141.4214,-73.389C161.6981,-92.106 200.3082,-127.7461 224.2324,-149.8299\"/>\n",
       "<polygon fill=\"#000000\" stroke=\"#000000\" points=\"222.0131,-152.5445 231.7351,-156.7555 226.7611,-147.4009 222.0131,-152.5445\"/>\n",
       "</g>\n",
       "<!-- h2[2] -->\n",
       "<g id=\"node10\" class=\"node\">\n",
       "<title>h2[2]</title>\n",
       "<ellipse fill=\"none\" stroke=\"#000000\" cx=\"245\" cy=\"-115\" rx=\"18\" ry=\"18\"/>\n",
       "<text text-anchor=\"middle\" x=\"245\" y=\"-111.3\" font-family=\"Times,serif\" font-size=\"14.00\" fill=\"#000000\">h2[2]</text>\n",
       "</g>\n",
       "<!-- h1[0]&#45;&gt;h2[2] -->\n",
       "<g id=\"edge15\" class=\"edge\">\n",
       "<title>h1[0]&#45;&gt;h2[2]</title>\n",
       "<path fill=\"none\" stroke=\"#000000\" d=\"M144.5151,-68.6224C164.0264,-77.6276 196.7074,-92.7111 219.4821,-103.2225\"/>\n",
       "<polygon fill=\"#000000\" stroke=\"#000000\" points=\"218.0226,-106.4036 228.5689,-107.4164 220.956,-100.0479 218.0226,-106.4036\"/>\n",
       "</g>\n",
       "<!-- h1[1]&#45;&gt;h2[0] -->\n",
       "<g id=\"edge16\" class=\"edge\">\n",
       "<title>h1[1]&#45;&gt;h2[0]</title>\n",
       "<path fill=\"none\" stroke=\"#000000\" d=\"M141.4214,-156.611C161.6981,-137.894 200.3082,-102.2539 224.2324,-80.1701\"/>\n",
       "<polygon fill=\"#000000\" stroke=\"#000000\" points=\"226.7611,-82.5991 231.7351,-73.2445 222.0131,-77.4555 226.7611,-82.5991\"/>\n",
       "</g>\n",
       "<!-- h1[1]&#45;&gt;h2[1] -->\n",
       "<g id=\"edge17\" class=\"edge\">\n",
       "<title>h1[1]&#45;&gt;h2[1]</title>\n",
       "<path fill=\"none\" stroke=\"#000000\" d=\"M146.0248,-169C164.8644,-169 194.6888,-169 216.6787,-169\"/>\n",
       "<polygon fill=\"#000000\" stroke=\"#000000\" points=\"216.7619,-172.5001 226.7619,-169 216.7619,-165.5001 216.7619,-172.5001\"/>\n",
       "</g>\n",
       "<!-- h1[1]&#45;&gt;h2[2] -->\n",
       "<g id=\"edge18\" class=\"edge\">\n",
       "<title>h1[1]&#45;&gt;h2[2]</title>\n",
       "<path fill=\"none\" stroke=\"#000000\" d=\"M144.5151,-161.3776C164.0264,-152.3724 196.7074,-137.2889 219.4821,-126.7775\"/>\n",
       "<polygon fill=\"#000000\" stroke=\"#000000\" points=\"220.956,-129.9521 228.5689,-122.5836 218.0226,-123.5964 220.956,-129.9521\"/>\n",
       "</g>\n",
       "<!-- h1[2]&#45;&gt;h2[0] -->\n",
       "<g id=\"edge19\" class=\"edge\">\n",
       "<title>h1[2]&#45;&gt;h2[0]</title>\n",
       "<path fill=\"none\" stroke=\"#000000\" d=\"M144.5151,-107.3776C164.0264,-98.3724 196.7074,-83.2889 219.4821,-72.7775\"/>\n",
       "<polygon fill=\"#000000\" stroke=\"#000000\" points=\"220.956,-75.9521 228.5689,-68.5836 218.0226,-69.5964 220.956,-75.9521\"/>\n",
       "</g>\n",
       "<!-- h1[2]&#45;&gt;h2[1] -->\n",
       "<g id=\"edge20\" class=\"edge\">\n",
       "<title>h1[2]&#45;&gt;h2[1]</title>\n",
       "<path fill=\"none\" stroke=\"#000000\" d=\"M144.5151,-122.6224C164.0264,-131.6276 196.7074,-146.7111 219.4821,-157.2225\"/>\n",
       "<polygon fill=\"#000000\" stroke=\"#000000\" points=\"218.0226,-160.4036 228.5689,-161.4164 220.956,-154.0479 218.0226,-160.4036\"/>\n",
       "</g>\n",
       "<!-- h1[2]&#45;&gt;h2[2] -->\n",
       "<g id=\"edge21\" class=\"edge\">\n",
       "<title>h1[2]&#45;&gt;h2[2]</title>\n",
       "<path fill=\"none\" stroke=\"#000000\" d=\"M146.0248,-115C164.8644,-115 194.6888,-115 216.6787,-115\"/>\n",
       "<polygon fill=\"#000000\" stroke=\"#000000\" points=\"216.7619,-118.5001 226.7619,-115 216.7619,-111.5001 216.7619,-118.5001\"/>\n",
       "</g>\n",
       "<!-- y -->\n",
       "<g id=\"node11\" class=\"node\">\n",
       "<title>y</title>\n",
       "<ellipse fill=\"none\" stroke=\"#000000\" cx=\"340\" cy=\"-115\" rx=\"18\" ry=\"18\"/>\n",
       "<text text-anchor=\"middle\" x=\"340\" y=\"-111.3\" font-family=\"Times,serif\" font-size=\"14.00\" fill=\"#000000\">y</text>\n",
       "</g>\n",
       "<!-- h2[0]&#45;&gt;y -->\n",
       "<g id=\"edge22\" class=\"edge\">\n",
       "<title>h2[0]&#45;&gt;y</title>\n",
       "<path fill=\"none\" stroke=\"#000000\" d=\"M260.6873,-69.917C275.539,-78.359 298.0698,-91.166 315.3269,-100.9753\"/>\n",
       "<polygon fill=\"#000000\" stroke=\"#000000\" points=\"313.8661,-104.1708 324.2894,-106.0698 317.3253,-98.0852 313.8661,-104.1708\"/>\n",
       "</g>\n",
       "<!-- h2[1]&#45;&gt;y -->\n",
       "<g id=\"edge23\" class=\"edge\">\n",
       "<title>h2[1]&#45;&gt;y</title>\n",
       "<path fill=\"none\" stroke=\"#000000\" d=\"M260.6873,-160.083C275.539,-151.641 298.0698,-138.834 315.3269,-129.0247\"/>\n",
       "<polygon fill=\"#000000\" stroke=\"#000000\" points=\"317.3253,-131.9148 324.2894,-123.9302 313.8661,-125.8292 317.3253,-131.9148\"/>\n",
       "</g>\n",
       "<!-- h2[2]&#45;&gt;y -->\n",
       "<g id=\"edge24\" class=\"edge\">\n",
       "<title>h2[2]&#45;&gt;y</title>\n",
       "<path fill=\"none\" stroke=\"#000000\" d=\"M263.317,-115C276.9851,-115 295.9167,-115 311.5492,-115\"/>\n",
       "<polygon fill=\"#000000\" stroke=\"#000000\" points=\"311.7393,-118.5001 321.7393,-115 311.7392,-111.5001 311.7393,-118.5001\"/>\n",
       "</g>\n",
       "</g>\n",
       "</svg>\n"
      ],
      "text/plain": [
       "<graphviz.dot.Digraph at 0x1c24def850>"
      ]
     },
     "execution_count": 41,
     "metadata": {},
     "output_type": "execute_result"
    }
   ],
   "source": [
    "mglearn.plots.plot_two_hidden_layer_graph()"
   ]
  },
  {
   "cell_type": "markdown",
   "metadata": {
    "slideshow": {
     "slide_type": "slide"
    }
   },
   "source": [
    "Having large neural networks made up of many of these layers of computation is what inspired the term “deep learning.”"
   ]
  },
  {
   "cell_type": "markdown",
   "metadata": {
    "slideshow": {
     "slide_type": "slide"
    }
   },
   "source": [
    "The most important parameters are:\n",
    "- the number of layers\n",
    "- and the number of hidden units per layer\n",
    "\n",
    "You should start with one or two *hidden layers*, and possibly expand from there. \n",
    "\n",
    "The number of *nodes per hidden layer* is often similar to the number of input features, but rarely higher than in the low to mid-thousands."
   ]
  },
  {
   "cell_type": "markdown",
   "metadata": {
    "slideshow": {
     "slide_type": "slide"
    }
   },
   "source": [
    "A common way to adjust parameters in a neural network:\n",
    "- first create a network that is large enough (many layers and nodes) to overfit (this makes sure that the task can actually be learned by the network). \n",
    "- once you know the training data can be learned, shrink the network to improve generalization performance."
   ]
  },
  {
   "cell_type": "markdown",
   "metadata": {
    "slideshow": {
     "slide_type": "slide"
    }
   },
   "source": [
    "## TUNING NEURAL NETWORKS\n",
    "Let’s see this tuning in action by applying the `MLPClassifier` to the `two_moons` dataset from earlier.\n",
    "\n",
    "We will generate 100 data points : `n_samples=100`\n",
    "\n",
    "The data has two features : `x` and `y` coordiates of each point. "
   ]
  },
  {
   "cell_type": "code",
   "execution_count": 57,
   "metadata": {},
   "outputs": [
    {
     "data": {
      "text/plain": [
       "Text(0, 0.5, 'Feature 1')"
      ]
     },
     "execution_count": 57,
     "metadata": {},
     "output_type": "execute_result"
    },
    {
     "data": {
      "image/png": "[encoded data removed]",
      "text/plain": [
       "<Figure size 432x288 with 1 Axes>"
      ]
     },
     "metadata": {},
     "output_type": "display_data"
    }
   ],
   "source": [
    "from sklearn.neural_network import MLPClassifier # 1. import model\n",
    "\n",
    "from sklearn.datasets import make_moons          # 2. import data\n",
    "X, y = make_moons(n_samples=100,  \n",
    "                  noise=0.25, \n",
    "                  random_state=3) \n",
    "\n",
    "\n",
    "X_train, X_test, y_train, y_test = train_test_split(X,  # 3. Split the data\n",
    "                                                    y, \n",
    "                                                    stratify=y,\n",
    "                                                    random_state=42)\n",
    "\n",
    "mlp = MLPClassifier(solver='lbfgs', \n",
    "                    random_state=0).fit(X_train, # 4+5 Instantiate + train\n",
    "                                        y_train) \n",
    "\n",
    "\n",
    "mglearn.plots.plot_2d_separator(mlp,       # Plot boundary line\n",
    "                                X_train, \n",
    "                                fill=True, \n",
    "                                alpha=.3)\n",
    "\n",
    "\n",
    "mglearn.discrete_scatter(X_train[:, 0], X_train[:, 1], y_train) # Plot data points\n",
    "\n",
    "\n",
    "plt.xlabel(\"Feature 0\")\n",
    "plt.ylabel(\"Feature 1\")"
   ]
  },
  {
   "cell_type": "markdown",
   "metadata": {
    "slideshow": {
     "slide_type": "slide"
    }
   },
   "source": [
    "The neural network learned a very nonlinear but relatively smooth decision boundary. \n",
    "\n",
    "We used default variable space optimization solver='lbfgs':\n",
    "\n",
    "```\n",
    "mlp = MLPClassifier(solver='lbfgs', random_state=0).fit(X_train, y_train)\n",
    "```\n",
    "\n",
    "We will discuss solvers further later. "
   ]
  },
  {
   "cell_type": "markdown",
   "metadata": {
    "slideshow": {
     "slide_type": "slide"
    }
   },
   "source": [
    "By default, the MLP uses 100 hidden nodes.\n",
    "\n",
    "This is quite a lot for this small dataset. \n",
    "\n",
    "Remeber, the number of *nodes per hidden layer* is often similar to the number of input features: 2 in this case. \n",
    "\n",
    "We can reduce the number (which reduces the complexity of the model) and still get a good result."
   ]
  },
  {
   "cell_type": "code",
   "execution_count": 60,
   "metadata": {
    "slideshow": {
     "slide_type": "slide"
    }
   },
   "outputs": [
    {
     "data": {
      "text/plain": [
       "Text(0, 0.5, 'Feature 1')"
      ]
     },
     "execution_count": 60,
     "metadata": {},
     "output_type": "execute_result"
    },
    {
     "data": {
      "image/png": "[encoded data removed]",
      "text/plain": [
       "<Figure size 432x288 with 1 Axes>"
      ]
     },
     "metadata": {},
     "output_type": "display_data"
    }
   ],
   "source": [
    "# Model with 1 hidden layer with 10 nodes\n",
    "\n",
    "mlp = MLPClassifier(solver='lbfgs',          # 4. Instantaite the model\n",
    "                    random_state=0, \n",
    "                    hidden_layer_sizes=[10]) # 1 hidden layer with 10 nodes\n",
    "\n",
    "mlp.fit(X_train, y_train)                    # 5. Fit the model \n",
    "\n",
    "\n",
    "# plot the output\n",
    "mglearn.plots.plot_2d_separator(mlp, X_train, fill=True, alpha=.3)\n",
    "mglearn.discrete_scatter(X_train[:, 0], X_train[:, 1], y_train)\n",
    "\n",
    "plt.xlabel(\"Feature 0\")\n",
    "plt.ylabel(\"Feature 1\")"
   ]
  },
  {
   "cell_type": "markdown",
   "metadata": {
    "slideshow": {
     "slide_type": "slide"
    }
   },
   "source": [
    "With only 10 hidden units, the decision boundary is less smooth. \n",
    "\n",
    "The default nonlinearity is relu. \n",
    "\n",
    "With a single hidden layer, this means the decision function will be made up of 10 straight line segments. \n",
    "\n"
   ]
  },
  {
   "cell_type": "markdown",
   "metadata": {
    "slideshow": {
     "slide_type": "slide"
    }
   },
   "source": [
    "If we want a smoother decision boundary, we can:\n",
    "- add more hidden units \n",
    "- add a second hidden layer\n",
    "- use the tanh nonlinearity "
   ]
  },
  {
   "cell_type": "code",
   "execution_count": 61,
   "metadata": {
    "slideshow": {
     "slide_type": "slide"
    }
   },
   "outputs": [
    {
     "data": {
      "text/plain": [
       "Text(0, 0.5, 'Feature 1')"
      ]
     },
     "execution_count": 61,
     "metadata": {},
     "output_type": "execute_result"
    },
    {
     "data": {
      "image/png": "[encoded data removed]",
      "text/plain": [
       "<Figure size 432x288 with 1 Axes>"
      ]
     },
     "metadata": {},
     "output_type": "display_data"
    }
   ],
   "source": [
    "# two hidden layers, with 10 nodes each\n",
    "\n",
    "mlp = MLPClassifier(solver='lbfgs', random_state=0, # 4. Instantaite the model \n",
    "                    hidden_layer_sizes=[10, 10])    # two hidden layers, with 10 nodes each\n",
    "\n",
    "mlp.fit(X_train, y_train)  # 5. Fit the model\n",
    "\n",
    "\n",
    "# plot the data\n",
    "mglearn.plots.plot_2d_separator(mlp, X_train, fill=True, alpha=.3)\n",
    "mglearn.discrete_scatter(X_train[:, 0], X_train[:, 1], y_train)\n",
    "\n",
    "plt.xlabel(\"Feature 0\")\n",
    "plt.ylabel(\"Feature 1\")"
   ]
  },
  {
   "cell_type": "code",
   "execution_count": 45,
   "metadata": {
    "slideshow": {
     "slide_type": "slide"
    }
   },
   "outputs": [
    {
     "data": {
      "text/plain": [
       "Text(0, 0.5, 'Feature 1')"
      ]
     },
     "execution_count": 45,
     "metadata": {},
     "output_type": "execute_result"
    },
    {
     "data": {
      "image/png": "[encoded data removed]",
      "text/plain": [
       "<Figure size 432x288 with 1 Axes>"
      ]
     },
     "metadata": {},
     "output_type": "display_data"
    }
   ],
   "source": [
    "# two hidden layers, with 10 nodes each, tan non-linearity\n",
    "\n",
    "mlp = MLPClassifier(solver='lbfgs',    # 4. Instantaite the model\n",
    "                    activation='tanh', # tanh nonlinearity\n",
    "                    random_state=0, \n",
    "                    hidden_layer_sizes=[10, 10]) # two hidden layers, with 10 units each\n",
    "\n",
    "mlp.fit(X_train, y_train)              # 5. Fit the model\n",
    "\n",
    "\n",
    "mglearn.plots.plot_2d_separator(mlp, X_train, fill=True, alpha=.3)\n",
    "mglearn.discrete_scatter(X_train[:, 0], X_train[:, 1], y_train)\n",
    "\n",
    "plt.xlabel(\"Feature 0\")\n",
    "plt.ylabel(\"Feature 1\")"
   ]
  },
  {
   "cell_type": "markdown",
   "metadata": {
    "slideshow": {
     "slide_type": "slide"
    }
   },
   "source": [
    "### Model Parameters\n",
    "\n",
    "Controlling the complexity of a neural network: \n",
    "- number of hidden layers\n",
    "- number of units in each hidden layer\n",
    "\n",
    "<br>... several more methods (e.g. regularization)\n",
    "\n"
   ]
  },
  {
   "cell_type": "markdown",
   "metadata": {
    "slideshow": {
     "slide_type": "slide"
    }
   },
   "source": [
    "Important property of neural networks : weights are set randomly before learning is started.\n",
    "\n",
    "Random initialization affects the model that is learned. \n",
    "\n",
    "That means that even when using exactly the same parameters, we can obtain very different models when using different random seeds. \n",
    "\n",
    "If the networks are large, and their complexity is chosen properly, this should not affect accuracy too much.\n",
    "\n",
    "But it is worth keeping in mind (particularly for smaller networks). "
   ]
  },
  {
   "cell_type": "markdown",
   "metadata": {
    "slideshow": {
     "slide_type": "slide"
    }
   },
   "source": [
    "The following code plots eight models each learned with:\n",
    "- same settings of the parameters\n",
    "- different random seed"
   ]
  },
  {
   "cell_type": "code",
   "execution_count": 46,
   "metadata": {
    "slideshow": {
     "slide_type": "slide"
    }
   },
   "outputs": [
    {
     "data": {
      "image/png": "[encoded data removed]",
      "text/plain": [
       "<Figure size 1440x576 with 8 Axes>"
      ]
     },
     "metadata": {},
     "output_type": "display_data"
    }
   ],
   "source": [
    "fig, axes = plt.subplots(2, 4, figsize=(20, 8))\n",
    "\n",
    "for i, ax in enumerate(axes.ravel()):\n",
    "    \n",
    "    mlp = MLPClassifier(solver='lbfgs', # 4. Instantaite the model\n",
    "                        random_state=i, \n",
    "                        hidden_layer_sizes=[100, 100])\n",
    "    \n",
    "    mlp.fit(X_train, y_train)           # 5. Fit the model to the training data\n",
    "    \n",
    "    mglearn.plots.plot_2d_separator(mlp, X_train, fill=True, alpha=.3, ax=ax)\n",
    "    mglearn.discrete_scatter(X_train[:, 0], X_train[:, 1], y_train, ax=ax)"
   ]
  },
  {
   "cell_type": "markdown",
   "metadata": {
    "slideshow": {
     "slide_type": "slide"
    }
   },
   "source": [
    "Let's apply a neural network to some real world data.\n",
    "\n",
    "We will use:\n",
    "- the `MLPClassifier`\n",
    "- the Breast Cancer dataset"
   ]
  },
  {
   "cell_type": "code",
   "execution_count": 63,
   "metadata": {},
   "outputs": [
    {
     "name": "stdout",
     "output_type": "stream",
     "text": [
      "Accuracy on training set: 0.9389671361502347\n",
      "Accuracy on test set: 0.916083916083916\n"
     ]
    }
   ],
   "source": [
    "X_train, X_test, y_train, y_test = train_test_split(cancer.data,     # 3. split the data\n",
    "                                                    cancer.target, \n",
    "                                                    random_state=0)\n",
    "\n",
    "mlp = MLPClassifier(random_state=42)   # 4. instantiate the model\n",
    "mlp.fit(X_train, y_train)              # 5. fit the model to the training data\n",
    "\n",
    "\n",
    "# 6. Evaluate the accuracy\n",
    "print(f\"Accuracy on training set: {mlp.score(X_train, y_train)}\")\n",
    "print(f\"Accuracy on test set: {mlp.score(X_test, y_test)}\")"
   ]
  },
  {
   "cell_type": "markdown",
   "metadata": {
    "slideshow": {
     "slide_type": "slide"
    }
   },
   "source": [
    "The accuracy of the MLP is quite good, but not as good as the other models. \n",
    "\n",
    "This is likely due to __scaling__ of the data. \n",
    "\n",
    "Neural networks expect all input features to vary in a *similar* way\n",
    "<br>(and ideally to have a mean of 0, and a variance of 1). \n",
    "\n",
    "We must rescale our data so that it fulfills these requirements. \n",
    "<br>We'll do this by hand for now to see how it works.  "
   ]
  },
  {
   "cell_type": "markdown",
   "metadata": {
    "slideshow": {
     "slide_type": "slide"
    }
   },
   "source": [
    "## Feature Scaling\n",
    "\n",
    "\n",
    "\n",
    "\n",
    "The range of values of raw data varies widely.\n",
    "\n",
    "In some machine learning algorithms, objective functions will not work properly without normalization. \n",
    "\n",
    " \n"
   ]
  },
  {
   "cell_type": "markdown",
   "metadata": {
    "slideshow": {
     "slide_type": "slide"
    }
   },
   "source": [
    "For example, many classifiers calculate the distance between two points by the Euclidean distance. \n",
    "\n",
    "<img src=\"img/euclidian.jpg\" alt=\"Drawing\" style=\"width: 300px;\"/>\n",
    "\n",
    "If one of the features has a broad range of values, the distance will be governed by this particular feature."
   ]
  },
  {
   "cell_type": "markdown",
   "metadata": {
    "slideshow": {
     "slide_type": "slide"
    }
   },
   "source": [
    "Therefore, the range of all features should be normalized so that each feature contributes approximately proportionately to the final distance.\n",
    "\n",
    "Feature scaling is used to normalize the range of independent variables or features of data.\n",
    "\n",
    "A number of methods are available..."
   ]
  },
  {
   "cell_type": "markdown",
   "metadata": {
    "slideshow": {
     "slide_type": "slide"
    }
   },
   "source": [
    "### Rescaling (min-max normalization)\n",
    "\n",
    "Rescaling the range of features to range [0, 1] or [−1, 1]\n",
    "\n",
    "Target range depends on the nature of the data and is not scaled.\n",
    "\n",
    "General formula for min-max of [0, 1] \n",
    "\n",
    "$$x' = \\frac{x - x_{min}}{x_{max}-x_{min}}$$\n",
    "\n",
    "$x' = $ normalized value"
   ]
  },
  {
   "cell_type": "markdown",
   "metadata": {
    "slideshow": {
     "slide_type": "slide"
    }
   },
   "source": [
    "Rescaling the range of features to range [0, 1] or [−1, 1]\n",
    "<img src=\"img/min_max_scaling.png\" alt=\"Drawing\" style=\"width: 300px;\"/>"
   ]
  },
  {
   "cell_type": "markdown",
   "metadata": {
    "slideshow": {
     "slide_type": "slide"
    }
   },
   "source": [
    "Scaling is important in the algorithms such as:\n",
    "- support vector machines (SVM)\n",
    "- k-nearest neighbors (KNN) \n",
    "\n",
    "where distance between the data points is important. "
   ]
  },
  {
   "cell_type": "markdown",
   "metadata": {
    "slideshow": {
     "slide_type": "slide"
    }
   },
   "source": [
    "### Mean normalization\n",
    "\n",
    "So all the values will be between 0 and 1.\n",
    "\n",
    "$$x' = \\frac{x - \\bar{x}}{x_{max}-x_{min}}$$\n",
    "\n",
    "$x' = $ normalized value\n",
    "\n",
    "<img src=\"img/normalization.png\" alt=\"Drawing\" style=\"width: 300px;\"/>"
   ]
  },
  {
   "cell_type": "markdown",
   "metadata": {
    "slideshow": {
     "slide_type": "slide"
    }
   },
   "source": [
    "__Scaling__ : changing the *range* of the data.\n",
    "\n",
    "__Normalization__ : changing the *shape of the distribution* of the data."
   ]
  },
  {
   "cell_type": "markdown",
   "metadata": {
    "slideshow": {
     "slide_type": "slide"
    }
   },
   "source": [
    "### Standardization (Z-score Normalization)\n",
    "\n",
    "$$x' = \\frac{x - \\bar{x}}{\\sigma}$$\n",
    "\n",
    "$x' = $ normalized value\n",
    "<br>$\\sigma = $ standard deviation (desribes spread of $x$ data about the mean) = $\\sqrt{\\frac{1}{N-1}\\sum_{N}^{i=1}(x_i - \\bar{x})^2}$ , for $N$ data points\n",
    "\n"
   ]
  },
  {
   "cell_type": "markdown",
   "metadata": {
    "slideshow": {
     "slide_type": "slide"
    }
   },
   "source": [
    "Transforms data --> resulting distribution:\n",
    "- mean $x' = 0$ \n",
    "- standard deviation, ${\\sigma}=1$\n",
    "\n",
    "<img src=\"img/standardization.gif\" alt=\"Drawing\" style=\"width: 300px;\"/>\n",
    "\n",
    "Subtracting the mean,  $x'$ from each data point, $x$ : <br>shift left or right by equal aount, new mean = 0.\n",
    "\n",
    "Divide by standard deviation ${\\sigma}$:\n",
    "<br>Changes the shape of distribution, new ${\\sigma}=$ 1"
   ]
  },
  {
   "cell_type": "markdown",
   "metadata": {
    "slideshow": {
     "slide_type": "slide"
    }
   },
   "source": [
    "This distribution is widely used in:\n",
    "- SVM\n",
    "- logistics regression\n",
    "- neural networks\n",
    "\n",
    "For now, we will compute it by hand\n",
    "\n",
    "<img src=\"img/standardization.gif\" alt=\"Drawing\" style=\"width: 300px;\"/>"
   ]
  },
  {
   "cell_type": "code",
   "execution_count": 48,
   "metadata": {
    "slideshow": {
     "slide_type": "slide"
    }
   },
   "outputs": [
    {
     "name": "stdout",
     "output_type": "stream",
     "text": [
      "Accuracy on training set: 0.9906103286384976\n",
      "Accuracy on test set: 0.965034965034965\n"
     ]
    },
    {
     "name": "stderr",
     "output_type": "stream",
     "text": [
      "/opt/anaconda3/lib/python3.7/site-packages/sklearn/neural_network/multilayer_perceptron.py:566: ConvergenceWarning: Stochastic Optimizer: Maximum iterations (200) reached and the optimization hasn't converged yet.\n",
      "  % self.max_iter, ConvergenceWarning)\n"
     ]
    }
   ],
   "source": [
    "mean_on_train = X_train.mean(axis=0)   # mean value per feature, training set\n",
    "std_on_train = X_train.std(axis=0)     # standard deviation (std) of each feature, training set\n",
    "\n",
    "X_train_scaled = (X_train - mean_on_train) / std_on_train # subtract the mean, scale inverse std --> mean=0 and std=1\n",
    "X_test_scaled = (X_test - mean_on_train) / std_on_train   # SAME transformation on the test set\n",
    "\n",
    "mlp = MLPClassifier(random_state=0)    # instantaite model\n",
    "mlp.fit(X_train_scaled, y_train)       # fit model to SCALED traning data\n",
    "\n",
    "print(f\"Accuracy on training set: {mlp.score(X_train_scaled, y_train)}\")\n",
    "print(f\"Accuracy on test set: {mlp.score(X_test_scaled, y_test)}\")"
   ]
  },
  {
   "cell_type": "markdown",
   "metadata": {
    "slideshow": {
     "slide_type": "slide"
    }
   },
   "source": [
    "The results are much better after scaling.\n",
    "\n",
    "We get a warning from the model, that tells us that the maximum number of iterations used to train the model weights has been reached. \n",
    "\n"
   ]
  },
  {
   "cell_type": "markdown",
   "metadata": {
    "slideshow": {
     "slide_type": "slide"
    }
   },
   "source": [
    "We can increase the number of iterations:"
   ]
  },
  {
   "cell_type": "code",
   "execution_count": 67,
   "metadata": {
    "slideshow": {
     "slide_type": "-"
    }
   },
   "outputs": [
    {
     "name": "stdout",
     "output_type": "stream",
     "text": [
      "Accuracy on training set: 1.0\n",
      "Accuracy on test set: 0.972027972027972\n"
     ]
    }
   ],
   "source": [
    "mlp = MLPClassifier(max_iter=1000, random_state=0)\n",
    "mlp.fit(X_train_scaled, y_train)\n",
    "\n",
    "print(f\"Accuracy on training set: {mlp.score(X_train_scaled, y_train)}\")\n",
    "print(f\"Accuracy on test set: {mlp.score(X_test_scaled, y_test)}\")"
   ]
  },
  {
   "cell_type": "markdown",
   "metadata": {
    "slideshow": {
     "slide_type": "slide"
    }
   },
   "source": [
    "Increasing the number of iterations only increased the training set performance, not the generalization performance. \n",
    "\n",
    "We can try to decrease the model’s complexity to get better generalization performance. "
   ]
  },
  {
   "cell_type": "markdown",
   "metadata": {
    "slideshow": {
     "slide_type": "slide"
    }
   },
   "source": [
    " If you are interested in working with more flexible or larger models,  look beyond `scikit-learn` into libraries specifically for deep learnig:\n",
    "- `keras`\n",
    "- `lasagna`\n",
    "- `tensor-flow`\n",
    "\n",
    "All  allow the use of high-performance graphics processing units (GPUs), (which scikit-learn does not support). \n",
    "\n",
    "Using GPUs allows us to accelerate computations by factors of 10x to 100x, and they are essential for applying deep learning methods to large-scale datasets."
   ]
  },
  {
   "cell_type": "markdown",
   "metadata": {
    "slideshow": {
     "slide_type": "slide"
    }
   },
   "source": [
    "## STRENGTHS and WEAKNESSES\n",
    "Advantages \n",
    "- Able to capture information contained in large amounts of data and build incredibly complex models. \n",
    "- Given enough computation time, data, and careful tuning of the parameters, neural networks often beat other machine learning algorithms (for classification and regression tasks).\n",
    "\n",
    "Disadvantages\n",
    "- Often take a long time to train. \n",
    "- Require careful preprocessing of the data, as we saw here. \n",
    "\n",
    "\n"
   ]
  },
  {
   "cell_type": "markdown",
   "metadata": {
    "slideshow": {
     "slide_type": "slide"
    }
   },
   "source": [
    "ANNs work best with “homogeneous” data, where all the features have similar meanings. \n",
    "\n",
    "For data that has very different kinds of features, tree-based models might work better. \n",
    "\n",
    "Tuning neural network parameters and architectures is an extensive area of study : today we covered a brief introduction  of possible ways to adjust neural network models and how to train them."
   ]
  },
  {
   "cell_type": "markdown",
   "metadata": {
    "slideshow": {
     "slide_type": "slide"
    }
   },
   "source": [
    "# Summary\n",
    "- Classification : The goal is to predict a __class label__, which is a choice from a discrete set of possibilities.\n",
    "- Regression : The goal is to predict a __single value__ on a continuous scale.\n",
    "- Model complexity : \n",
    "- Generalization : training a model that is able to perform well on new, previously unseen data. \n",
    "- Overfitting : a model that focuses too much on the training data and is not able to generalize to new data very well\n",
    "- Underfitting : a model that cannot capture the variations present in the training data"
   ]
  },
  {
   "cell_type": "markdown",
   "metadata": {
    "slideshow": {
     "slide_type": "slide"
    }
   },
   "source": [
    "### Model Summary\n",
    "\n",
    "__K Nearest neighbors (KNN)__\n",
    "<br>Good for small datasets, easy to understand/explain.\n",
    "\n",
    "__Linear models__\n",
    "<br>Good for very large datasets and very high-dimensional data.\n",
    "\n",
    "__Decision trees__\n",
    "<br>Very fast, don’t require scaling of the data, can be visualized and easily explained.\n",
    "\n",
    "__Support vector machines (SVM)__\n",
    "<br>Powerful for medium-sized datasets of features with similar meaning. \n",
    "<br>Require scaling of data, sensitive to parameters.\n",
    "\n",
    "__Neural networks__\n",
    "<br>Can build very complex models, particularly for large datasets. \n",
    "<br>Sensitive to scaling of the data and to the choice of parameters. \n",
    "<br>Large models need a long time to train.\n",
    "\n"
   ]
  },
  {
   "cell_type": "markdown",
   "metadata": {
    "slideshow": {
     "slide_type": "slide"
    }
   },
   "source": [
    "### Applying Machine Learning Models \n",
    "\n",
    "- Different algorithms have different ways to control model complexity.\n",
    "- Setting the right parameters can be important for good performance. \n",
    "- Some algorithms are also sensitive to how we represent the input data (scaling in particular). \n",
    "- Applying an algorithm to a dataset without understanding the assumptions the model makes will rarely lead to an accurate model.\n",
    "- When working with a new dataset, it is a good idea to start with a simple model<br> e.g. linear model / KNN classifier. <br>After understanding more about the data, you can consider moving to a more complex models<br>(e.g. random forests, gradient boosted decision trees, SVMs, neural networks.)"
   ]
  },
  {
   "cell_type": "markdown",
   "metadata": {},
   "source": [
    "<a id='ReviewExercises'></a>\n",
    "# 6. Review Exercises\n",
    "\n",
    "\n",
    "\n",
    "\n",
    "\n",
    "We are going to use a data set that shows the population of 6 different species of algae in a lake and some environmental parameters such as chemical content of the water, and time of year by season. \n",
    "\n",
    "We will use the machine learning models we have studied today to try to extract information about the relationship between these environmental parameters and the population of algae. \n",
    "\n",
    "The data `sample_data/analysis.csv` contains measurements of river chemical concentrations and algae densities.\n",
    "\n",
    "200 samples, 18 columns\n",
    "\n",
    "__Column headings:__\n",
    "\n",
    "- First 11 columns : \n",
    "<br>Season, river size, fluid velocity, 7 chemical concentrations (A-G)\n",
    "\n",
    "- Last 8 columns : \n",
    "<br>Population of 8 different kinds of algae (a-h). \n",
    "\n",
    "The data set also contains some missing data:\n",
    "- empty fields \n",
    "- string labels `'XXXXX'`."
   ]
  },
  {
   "cell_type": "markdown",
   "metadata": {},
   "source": [
    "# Review Exercise 1 : Data Cleaning\n",
    "\n",
    "1. Import the data from `sample_data/analysis.csv` \n",
    "1. Replace all missing data labelled `'XXXXX'` with `np.nan` values.\n",
    "1. Determine how many null values there are in each column. Choose an appropriate method to deal with the null values in the data set. \n",
    "1. The numbers representing the chemical concentrations are `string`s not numerical data, as they appear (you can check this by running the method `.dtypes` on your `DataFrame`). Convert all data to floating point data."
   ]
  },
  {
   "cell_type": "markdown",
   "metadata": {},
   "source": [
    "# Review Exercise 2 : Linear Regression\n",
    "\n",
    "We will use linear regression to find the relationship between the chemical content of the water and different species of algae.\n",
    "\n",
    "\n",
    "\n",
    "\n",
    "Import the data from `sample_data/analysis.csv`\n",
    "<br>\n",
    "\n",
    "1. Remove all columns that are __not__ chemical concentrations.   \n",
    "1. Make 2 data frames : one for algae species a and one for algae species b (remove all other species)\n",
    "1. Import and instantiate linear regression model `sklearn.linear_model.LinearRegression`\n",
    "1. For each data frame (algae a, algae b):\n",
    "    1. split the data into test and training data\n",
    "    1. train the model on the data\n",
    "    1. print the `score` for each model  \n",
    "\n",
    "1. Which algae, a or b, is predicted with the highest accuracy using this model? "
   ]
  },
  {
   "cell_type": "markdown",
   "metadata": {},
   "source": [
    "# Review Exercise 3 : Converting for use in a machine learning model\n",
    "\n",
    "Import and clean the data by running the code you wrote for Exercise 1 again.\n",
    "\n",
    "#### Feature Extraction\n",
    "Make a new column called `'max'` that shows the species of algae with the highest population at each data point. <br>Example : If `a=50, b=0, c=10, d=0, e=0, f=12, g=22, h=0` --> New column value = `a`.\n",
    "<br>To achieve this you can run the method `.idxmax(axis=1)` on columns `'a':'h'` of the data set.\n",
    "\n",
    "#### Integer data to represent string data\n",
    "Columns `'Season'`,  `'river_size'`, `'fluid_velocity'` and `'max'` contain text string data. \n",
    "<br>Machines can only understand numerical data. \n",
    "<br>Convert the string data to integer IDs representing each unique value in the colunm. \n",
    "\n",
    "#### Normalization \n",
    "Split the data into test and train data. <br>Use column `'max'` as the __targets__ of the data set (the parameter we are trying to predict).\n",
    "<br>Standardize the feature data using __Z-score normalization__.\n",
    "<br>$$x' = \\frac{x - \\bar{x}}{\\sigma}$$\n",
    "\n",
    "\n"
   ]
  },
  {
   "cell_type": "markdown",
   "metadata": {},
   "source": [
    "# Review Exercise 4 : Neural Network\n",
    "We will use a neural network to predict which algae population will be highest based on a given set of environental parameters and compare the accuracy to the decision tree. \n",
    "\n",
    "1. Import and instantiate decision tree classifier model `sklearn.neural_network.MLPClassifier`\n",
    "\n",
    "1. Fit the model to the training data and print the score\n",
    "\n",
    "1. Print the model to the *scaled* training data and print the score\n",
    "\n",
    "1. What is the impact of scaling the data on the accuracy of the model?\n",
    "\n"
   ]
  },
  {
   "cell_type": "markdown",
   "metadata": {},
   "source": [
    "# Review Exercise 5 : Decision Tree\n",
    "\n",
    "We will use a decision tree to predict which algae population is likely to be dominant based on a given set of environental parameters.\n",
    "\n",
    "1. Import and instantiate decision tree classifier model `sklearn.tree.DecisionTreeClassifier`\n",
    "\n",
    "1. fit the model to the training data\n",
    "\n",
    "1. print the `score`\n",
    "    \n",
    "1. Which feature is the most important in determining which algae will be dominant? "
   ]
  },
  {
   "cell_type": "code",
   "execution_count": null,
   "metadata": {},
   "outputs": [],
   "source": []
  },
  {
   "cell_type": "code",
   "execution_count": null,
   "metadata": {},
   "outputs": [],
   "source": []
  }
 ],
 "metadata": {
  "celltoolbar": "Slideshow",
  "kernelspec": {
   "display_name": "Python 3",
   "language": "python",
   "name": "python3"
  },
  "language_info": {
   "codemirror_mode": {
    "name": "ipython",
    "version": 3
   },
   "file_extension": ".py",
   "mimetype": "text/x-python",
   "name": "python",
   "nbconvert_exporter": "python",
   "pygments_lexer": "ipython3",
   "version": "3.7.4"
  }
 },
 "nbformat": 4,
 "nbformat_minor": 2
}
