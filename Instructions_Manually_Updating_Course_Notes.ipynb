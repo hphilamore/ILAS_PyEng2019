{
 "cells": [
  {
   "cell_type": "markdown",
   "metadata": {},
   "source": [
    "# Class cancellation May 7th (18/05/07).\n",
    "The rescheduled class date will be:"
   ]
  },
  {
   "cell_type": "markdown",
   "metadata": {
    "slideshow": {
     "slide_type": "slide"
    }
   },
   "source": [
    "# Updating the Course Notes"
   ]
  },
  {
   "cell_type": "markdown",
   "metadata": {},
   "source": [
    "This is a tutorial on how to download the updated course notes *without* overwriting/saving multiple versions of the notes."
   ]
  },
  {
   "cell_type": "markdown",
   "metadata": {
    "slideshow": {
     "slide_type": "slide"
    }
   },
   "source": [
    "### Step 1 : Navigate to the directory where your files are stored.  \n",
    "\n",
    "Open a terminal...\n",
    "\n",
    "On a Windows PC:\n",
    " - press \"win key\" + \"R\"\n",
    " - type: __cmd__\n",
    " - press enter\n",
    "\n",
    "On a Mac:\n",
    " - open Applications >> Utilities >> Terminal\n"
   ]
  },
  {
   "cell_type": "markdown",
   "metadata": {
    "slideshow": {
     "slide_type": "slide"
    }
   },
   "source": [
    "A terminal will launch.\n",
    "\n",
    "Using `cd`, navigate to *inside* the ILAS_Python_for_engineers folder on your computer. "
   ]
  },
  {
   "cell_type": "markdown",
   "metadata": {
    "slideshow": {
     "slide_type": "slide"
    }
   },
   "source": [
    "#### How to navigate the file system on your computer\n",
    "\n",
    "We can move down the filesystem of the computer by typing:\n",
    "\n",
    ">`cd`\n",
    "\n",
    "followed by the name of the folder we want to move to.\n",
    "\n",
    ">`cd Documents`\n",
    "\n"
   ]
  },
  {
   "cell_type": "markdown",
   "metadata": {
    "slideshow": {
     "slide_type": "slide"
    }
   },
   "source": [
    "#### How to view the files and folders stored in a folder \n",
    "\n",
    "Type:\n",
    "\n",
    ">`dir`\n",
    "\n",
    "..and press enter.\n",
    "\n",
    "You will see all the folders in your personal user area."
   ]
  },
  {
   "cell_type": "markdown",
   "metadata": {
    "slideshow": {
     "slide_type": "slide"
    }
   },
   "source": [
    "#### If using a university computer.\n",
    "\n",
    "The *command prompt* will say something like:\n",
    "\n",
    "C:¥Users¥Username:\n",
    "\n",
    "The C tells us that we are on the C drive of the computer.\n",
    "\n",
    "Switch to the M drive where the user (you!) can save files.\n",
    "\n",
    "<img src=\"img/KUterminal.png\" alt=\"Drawing\" style=\"width: 500px;\"/>"
   ]
  },
  {
   "cell_type": "markdown",
   "metadata": {
    "slideshow": {
     "slide_type": "slide"
    }
   },
   "source": [
    "In the terminal type: \n",
    "\n",
    ">`M:`\n",
    "\n",
    "...and press enter.\n"
   ]
  },
  {
   "cell_type": "markdown",
   "metadata": {
    "slideshow": {
     "slide_type": "slide"
    }
   },
   "source": [
    "You should see the command prompt change.  \n",
    "\n",
    "\n",
    "<img src=\"img/KUterminalMdrive.png\" alt=\"Drawing\" style=\"width: 700px;\"/>"
   ]
  },
  {
   "cell_type": "markdown",
   "metadata": {
    "slideshow": {
     "slide_type": "slide"
    }
   },
   "source": [
    "### Step 2 : Connect the files on your computer to the course URL.  \n",
    "\n",
    "Type:\n",
    ">`git remote rm origin`\n",
    "\n",
    ">`git remote add upstream https://github.com/hphilamore/ILAS_Python_for_engineers.git`\n",
    "\n",
    "Note: The URL from which you 'cloned' the files last week.\n",
    "<br>You can also view the notes by opening this URL in a web browser. "
   ]
  },
  {
   "cell_type": "markdown",
   "metadata": {
    "slideshow": {
     "slide_type": "slide"
    }
   },
   "source": [
    "### Step 3 : Update the course notes by downloading the changes\n",
    "In the terminal type:\n",
    "\n",
    ">`git add -A`\n",
    "\n",
    ">`git commit -m \"commit\"`\n",
    "\n",
    ">`git fetch upstream`\n",
    "\n",
    ">`git merge -X theirs upstream/master`"
   ]
  },
  {
   "cell_type": "markdown",
   "metadata": {
    "slideshow": {
     "slide_type": "slide"
    }
   },
   "source": [
    "You may find that the temrinal is suspended and the following message shows:\n",
    "\n",
    "<img src=\"img/merge_terminal-commit_message_prompt.png\" alt=\"Drawing\" style=\"width: 500px;\"/>\n",
    "\n",
    "To exit this screen:\n",
    "\n",
    "##### On Windows\n",
    "Press \"Ctrl\" + \"X\".\n",
    "\n",
    "##### On Mac\n",
    "- press \"i\"\n",
    "- (typee your merge message) *optional step*\n",
    "- press \"esc\"\n",
    "- type `:wq`\n",
    "- press \"enter\""
   ]
  },
  {
   "cell_type": "markdown",
   "metadata": {
    "slideshow": {
     "slide_type": "slide"
    }
   },
   "source": [
    "The files on your computer should have now updated. "
   ]
  },
  {
   "cell_type": "markdown",
   "metadata": {
    "slideshow": {
     "slide_type": "slide"
    }
   },
   "source": [
    "Repeat __Step 1 and 3__ (you do not need to do Step 2) at the start of *every* class to update the files on your computer with:\n",
    "- new course material\n",
    "- solutions to example problems"
   ]
  },
  {
   "cell_type": "markdown",
   "metadata": {
    "slideshow": {
     "slide_type": "slide"
    }
   },
   "source": [
    "This procedure uses Git to update the files on your computer. \n",
    "<br>Git is used for __version control__.\n",
    "<br>Version control is a useful way to manage and share your code.\n",
    "<br>Git can be complicated to use.\n",
    "<br>We will have a seminar dedicated to version control much later in the course. \n",
    "\n"
   ]
  },
  {
   "cell_type": "code",
   "execution_count": null,
   "metadata": {
    "collapsed": true
   },
   "outputs": [],
   "source": []
  }
 ],
 "metadata": {
  "celltoolbar": "Slideshow",
  "kernelspec": {
   "display_name": "Python 3",
   "language": "python",
   "name": "python3"
  },
  "language_info": {
   "codemirror_mode": {
    "name": "ipython",
    "version": 3
   },
   "file_extension": ".py",
   "mimetype": "text/x-python",
   "name": "python",
   "nbconvert_exporter": "python",
   "pygments_lexer": "ipython3",
   "version": "3.6.2"
  }
 },
 "nbformat": 4,
 "nbformat_minor": 2
}
