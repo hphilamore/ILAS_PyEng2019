{
 "cells": [
  {
   "cell_type": "markdown",
   "metadata": {
    "collapsed": true,
    "slideshow": {
     "slide_type": "slide"
    }
   },
   "source": [
    "# 11 Simulation \n",
    "## CLASS MATERIAL\n",
    "\n",
    "<br> <a href='#SampleDatasets'>1. Sample Datasets</a>\n",
    "<br> <a href='#ClassificationRegression'>2. Classification and Regression</a> \n",
    "<br> <a href='#Complexity'>3. Complexity, Generalization, Overfitting, and Underfitting</a> \n",
    "<br> <a href='#RelationModelComplexityDatasetSize'>4. Relation of Model Complexity to Dataset Size</a> \n",
    "<br><a href='#SupervisedMachineLearningAlgorithms '>5. Supervised Machine Learning Algorithms</a>\n",
    "<br><a href='#ReviewExercises'>6. Review Exercises</a>"
   ]
  },
  {
   "cell_type": "markdown",
   "metadata": {
    "slideshow": {
     "slide_type": "slide"
    }
   },
   "source": [
    "# Download the new class notes.\n",
    "__Navigate to the directory where your files are stored.__\n",
    "\n",
    "__Update the course notes by downloading the changes__"
   ]
  },
  {
   "cell_type": "markdown",
   "metadata": {
    "slideshow": {
     "slide_type": "slide"
    }
   },
   "source": [
    "\n",
    "\n",
    "\n",
    "##### Windows\n",
    "Search for __Git Bash__ in the programs menu.\n",
    "\n",
    "Select __Git Bash__, a terminal will open.\n",
    "\n",
    "Use `cd` to navigate to *inside* the __ILAS_PyEng2019__ repository you downloaded. \n",
    "\n",
    "Run the command:\n",
    ">`./automerge`\n",
    "\n",
    "\n",
    "\n",
    "##### Mac\n",
    "Open a terminal. \n",
    "\n",
    "Use `cd` to navigate to *inside* the __ILAS_PyEng2019__ repository you downloaded. \n",
    "\n",
    "Run the command:\n",
    ">`sudo ./automerge`\n",
    "\n",
    "Enter your password when prompted. "
   ]
  },
  {
   "cell_type": "markdown",
   "metadata": {
    "slideshow": {
     "slide_type": "slide"
    }
   },
   "source": [
    "### Lesson Goal\n",
    "- Learn a variety of ways to produce simulations using python"
   ]
  },
  {
   "cell_type": "markdown",
   "metadata": {
    "slideshow": {
     "slide_type": "slide"
    }
   },
   "source": [
    "### Fundamental programming concepts\n",
    "- Array/Grid based simulation\n",
    "- Physics-based simulations\n",
    "- 3D simaultions with blender"
   ]
  },
  {
   "cell_type": "code",
   "execution_count": null,
   "metadata": {},
   "outputs": [],
   "source": []
  }
 ],
 "metadata": {
  "kernelspec": {
   "display_name": "Python 3",
   "language": "python",
   "name": "python3"
  },
  "language_info": {
   "codemirror_mode": {
    "name": "ipython",
    "version": 3
   },
   "file_extension": ".py",
   "mimetype": "text/x-python",
   "name": "python",
   "nbconvert_exporter": "python",
   "pygments_lexer": "ipython3",
   "version": "3.7.4"
  }
 },
 "nbformat": 4,
 "nbformat_minor": 2
}
