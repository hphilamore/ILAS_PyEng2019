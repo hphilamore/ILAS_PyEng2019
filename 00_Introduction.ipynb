{
 "cells": [
  {
   "cell_type": "markdown",
   "metadata": {
    "slideshow": {
     "slide_type": "slide"
    }
   },
   "source": [
    "# Introduction to Programming for Engineers\n",
    "\n",
    "## Python 3\n",
    "\n"
   ]
  },
  {
   "cell_type": "markdown",
   "metadata": {
    "slideshow": {
     "slide_type": "slide"
    }
   },
   "source": [
    "\n",
    "### Who are We?\n",
    "\n",
    " - Instructor: __Hemma Philamore__ \n",
    " - Instructor: __Farhad Shabani__\n",
    " - Lab: __Matsuno mechatronics lab__, Kyoto University, Katsura Campus\n",
    " - Research: Bio-inspired, energy-autonomous __robots__\n",
    " - Contact: philamore.hemma.5s@kyoto-u.ac.jp\n",
    "\n"
   ]
  },
  {
   "cell_type": "markdown",
   "metadata": {
    "slideshow": {
     "slide_type": "slide"
    }
   },
   "source": [
    "### Who are you?\n",
    "\n",
    "Please write your personal information on the sheet:\n",
    " - Name\n",
    " - Email address (that you will use to submit homework)\n",
    " - Major\n",
    " - Year of study"
   ]
  },
  {
   "cell_type": "markdown",
   "metadata": {
    "slideshow": {
     "slide_type": "slide"
    }
   },
   "source": [
    "Today is an introductory seminar with two parts.\n",
    "\n",
    "__1. Course Introduction__\n",
    "- Intro to Python\n",
    "- Course material\n",
    "- Class structure\n",
    "- Necessary class preparation\n",
    "- Homework\n",
    "- Assessment \n",
    "\n",
    "\n",
    "\n",
    "<br>\n",
    "__2. Practical__\n",
    "- Software Installation\n",
    "- Running Python in different enviornments\n",
    "- Download course notes\n"
   ]
  },
  {
   "cell_type": "markdown",
   "metadata": {
    "slideshow": {
     "slide_type": "slide"
    }
   },
   "source": [
    "# 1 Course Introduction"
   ]
  },
  {
   "cell_type": "markdown",
   "metadata": {
    "slideshow": {
     "slide_type": "slide"
    }
   },
   "source": [
    "## Why study programming?\n",
    "- Increased use of computing in everyday life.\n",
    "- A tool you can use for the other subject you study. \n",
    "- A growing sector of the jobs market.\n",
    "- Coding in jobs, not traditionally related to computing.\n",
    "- It's fun!"
   ]
  },
  {
   "cell_type": "markdown",
   "metadata": {
    "slideshow": {
     "slide_type": "slide"
    }
   },
   "source": [
    "## Why study Python?\n",
    " - Free and open source\n",
    " - Easy to learn\n",
    " - \"High level\" \n",
    " - Community\n",
    " - Increasingly used in industry\n",
    " "
   ]
  },
  {
   "cell_type": "markdown",
   "metadata": {
    "slideshow": {
     "slide_type": "slide"
    }
   },
   "source": [
    "## Course Goal\n",
    "\n",
    "To develop:\n",
    "\n",
    "- A good standalone programming toolkit.\n",
    "- Skills to improve the quality of your work in other subjects. \n",
    "- A fundamental base from which to start developing further as a programmer. \n"
   ]
  },
  {
   "cell_type": "markdown",
   "metadata": {
    "slideshow": {
     "slide_type": "slide"
    }
   },
   "source": [
    "## Course Entry Level\n",
    "\n",
    "Beginner, no prior programming knowlegde.\n",
    "<br>First year (and upwards), engineering / engineering-related major. "
   ]
  },
  {
   "cell_type": "markdown",
   "metadata": {
    "slideshow": {
     "slide_type": "slide"
    }
   },
   "source": [
    "## Computers\n",
    "\n",
    "Please use your personal computers for this course if possible.\n",
    "<br>Lab PCs are also available if needed. \n",
    "\n",
    "\n",
    "You will need to install two pieces of software. \n",
    "- Anaconda\n",
    "- git\n",
    "\n"
   ]
  },
  {
   "cell_type": "markdown",
   "metadata": {
    "slideshow": {
     "slide_type": "slide"
    }
   },
   "source": [
    "## How To Access the Course Material\n",
    "\n",
    "The course notes can be downloaded from:\n",
    "<br>https://github.com/hphilamore/ILAS_PyEng2019\n",
    "\n",
    "The course notes are interactive code workbooks (Jupyter notebooks).\n",
    "\n",
    "They can be viewed online (non-interactively) or opened (interactively) on your computer using __Jupyter Notebook__. \n",
    "<br>We will install this later."
   ]
  },
  {
   "cell_type": "markdown",
   "metadata": {
    "slideshow": {
     "slide_type": "slide"
    }
   },
   "source": [
    "## Course Content\n",
    "\n",
    "__Fundamentals of Programming__ (7 weeks)\n",
    "<br>1 Operators, data types, and control flow\n",
    "<br>2 Data structures and library functions\n",
    "<br>3 Plotting and analysing \n",
    "<br>4 User defined functions and libraries\n",
    "<br>5 Scipy and Numpy: Algebra \n",
    "<br>6 Scipy and Numpy: Calculus \n",
    "<br>7 Representing mathematical problems\n",
    "   \n",
    "__Applications of Programming__ (6 weeks)\n",
    "<br>8 Working with experimental data\n",
    "<br>9 Data processing (intro to data science)\n",
    "<br>10 Pattern recognition and machine learning \n",
    "<br>11 Computer vision and image processing\n",
    "<br>12 *Trouble-shooting class for coursework assignment*\n",
    "<br>13 Simulation "
   ]
  },
  {
   "cell_type": "markdown",
   "metadata": {
    "slideshow": {
     "slide_type": "slide"
    }
   },
   "source": [
    "## Class Structure\n",
    "The course notes are divided into __Class Material__ and __Primer__s.\n",
    "\n",
    "We will cover the __Class Material__ in-class together:\n",
    "- __Theory__ and worked examples\n",
    "- __Practical__ review exercises"
   ]
  },
  {
   "cell_type": "markdown",
   "metadata": {
    "slideshow": {
     "slide_type": "slide"
    }
   },
   "source": [
    "## Necessary Class Preparation\n",
    "\n",
    "Complete the __Primer__ before each class.\n",
    "\n",
    "*And/or* refer to the __Primer__ as a reference during class. "
   ]
  },
  {
   "cell_type": "markdown",
   "metadata": {
    "slideshow": {
     "slide_type": "slide"
    }
   },
   "source": [
    "## Homework\n",
    "\n",
    "At the end of each class you will complete Review Exercises. \n",
    "\n",
    "Unfinished exercises should be completed for homework."
   ]
  },
  {
   "cell_type": "markdown",
   "metadata": {
    "slideshow": {
     "slide_type": "slide"
    }
   },
   "source": [
    "## Assessment\n",
    "100% coursework assignment. (No exam).\n",
    "\n",
    "Set date: Week 8\n",
    "Deadline : Week 14\n",
    "\n",
    "The assessment is designed to represent a scenario you are likely to face during your studies: you will be given some data collected during an experiment.\n",
    "\n",
    "You will be required to write a program to:\n",
    "- process/clean the experimental data\n",
    "- perform calculations to extract meaningful results from the \n",
    "- represent the data to make the results understandable"
   ]
  },
  {
   "cell_type": "markdown",
   "metadata": {
    "slideshow": {
     "slide_type": "slide"
    }
   },
   "source": [
    "# 2 Practical\n",
    "\n",
    "<br>__Part A__ Install software\n",
    "<br>__Part B__ Running Python in different enviornments\n",
    "<br>__Part C__ Download course notes\n",
    "\n",
    "The course notes, including today's notes can be found at: https://github.com/hphilamore/ILAS_PyEng2019\n",
    "\n",
    "Open __00_Introduction.ipynb__ and follow the instructions to complete the practical part of today's class...\n",
    "\n"
   ]
  },
  {
   "cell_type": "markdown",
   "metadata": {
    "slideshow": {
     "slide_type": "slide"
    }
   },
   "source": [
    "## Part A : Install software\n",
    "\n",
    "We will install:\n",
    "- Anaconda\n",
    "- Git\n",
    "\n",
    "\n",
    "You will use the command line to download the course notes.\n",
    "\n",
    "This will allow yout to:\n",
    "1. Edit the course notes in class\n",
    "1. Download updated notes, solutions to exercises, corrections *without* overwriting the notes you already have. "
   ]
  },
  {
   "cell_type": "markdown",
   "metadata": {
    "slideshow": {
     "slide_type": "slide"
    }
   },
   "source": [
    "## Software Installation \n",
    "\n",
    "\n",
    "##### If using Kyoto University computer...\n",
    "\n",
    "__Anaconda__ and __Git__ are already installed.\n",
    "\n",
    "Go to next step : __Part B : Running Python in different enviornments__\n",
    "\n",
    "##### If using personal computer (RECOMMENDED)...\n",
    "\n",
    "__Anaconda__ (which includes Jupyter notebook) can be downloaded from: <br>https://www.anaconda.com/download/\n",
    "><br>Windows, Mac and Linux versions are available\n",
    "><br>Python 3.6 version and Python 2.7 version are available.\n",
    "><br>Choose Python 3.6 version\n",
    "\n",
    "<br>\n",
    "__Git__ can be installed using the instructions found here: \n",
    "https://gist.github.com/derhuerst/1b15ff4652a867391f03\n",
    "\n",
    "><br>Windows, Mac and Linux versions are available\n",
    "><br>For Windows choose the appropriate file for your operating system.\n",
    "><br>Git-2.16.3-32-bit.exe for 32 bit operating system.\n",
    "><br>Git-2.16.3-64-bit.exe for 64 bit operating system. "
   ]
  },
  {
   "cell_type": "markdown",
   "metadata": {
    "slideshow": {
     "slide_type": "slide"
    }
   },
   "source": [
    "## Part B : Running Python in Different Enviornments\n",
    "\n",
    "\n",
    "There are different *environments* in which we can write and run python code. \n",
    "\n",
    "Each environment has different advantages and is suitable for different work types. "
   ]
  },
  {
   "cell_type": "markdown",
   "metadata": {
    "slideshow": {
     "slide_type": "slide"
    }
   },
   "source": [
    "## Python Environments - Jupyter Notebook\n",
    "You can view the course notes (non-interactively) via a *web browser* or (interactively) using *Jupyter notebook*. \n",
    "\n",
    "Jupyter notebook was installed on your computer with Anaconda.  \n",
    "\n",
    "To launch Jupyter notebook.\n",
    "\n",
    "In the terminal type:\n",
    "\n",
    " >   `jupyter notebook`\n",
    "\n",
    "and press enter.\n",
    "\n",
    "\n",
    "__OR__\n",
    "\n",
    "Choose Jupyter notebook from your computer's start menu e.g.:\n",
    "\n",
    "> Start >> Programs (すべてのプログラム) >> Programming >> Anaconda3 >> Jupyter notebook\n",
    " \n"
   ]
  },
  {
   "cell_type": "markdown",
   "metadata": {
    "slideshow": {
     "slide_type": "slide"
    }
   },
   "source": [
    "Click New\n",
    "<br>Choose Notebook, Python 3\n",
    "\n",
    "<img src=\"img/new_notebook.png\" alt=\"Drawing\" style=\"width: 600px;\"/>"
   ]
  },
  {
   "cell_type": "markdown",
   "metadata": {
    "slideshow": {
     "slide_type": "slide"
    }
   },
   "source": [
    "Open Jupyter notebook now.\n",
    "\n",
    "You can type code in the boxes.\n",
    "\n",
    "You can run the code by pressing:\n",
    "\n",
    ">\"Shift\" + \"Enter\"\n",
    "\n",
    "Let's write come code!"
   ]
  },
  {
   "cell_type": "markdown",
   "metadata": {
    "slideshow": {
     "slide_type": "slide"
    }
   },
   "source": [
    "In the first cell enter:\n",
    "```python\n",
    "1 + 2\n",
    "```\n",
    "\n",
    "Press:\n",
    "\n",
    ">\"Shift\" + \"Enter\"\n",
    "\n",
    "<img src=\"img/jupyter_add_1_2.png\" alt=\"Drawing\" style=\"width: 600px;\"/>"
   ]
  },
  {
   "cell_type": "markdown",
   "metadata": {
    "slideshow": {
     "slide_type": "slide"
    }
   },
   "source": [
    "In the second cell enter:\n",
    "```python\n",
    "x = 2 + 3\n",
    "print(x)\n",
    "```\n",
    "\n",
    "Press:\n",
    "\n",
    ">\"Shift\" + \"Enter\"\n",
    "\n",
    "\n",
    "<img src=\"img/jupyter_x_val.png\" alt=\"Drawing\" style=\"width: 600px;\"/>"
   ]
  },
  {
   "cell_type": "markdown",
   "metadata": {
    "slideshow": {
     "slide_type": "slide"
    }
   },
   "source": [
    "In the third cell enter:\n",
    "```python\n",
    "y = x - 2\n",
    "print(y)\n",
    "```\n",
    "\n",
    "Press:\n",
    "\n",
    ">\"Shift\" + \"Enter\"\n",
    "\n",
    "<img src=\"img/jupyter_y_val.png\" alt=\"Drawing\" style=\"width: 600px;\"/>"
   ]
  },
  {
   "cell_type": "markdown",
   "metadata": {
    "collapsed": true,
    "slideshow": {
     "slide_type": "slide"
    }
   },
   "source": [
    "Cells are executed in the order that the user runs them. \n",
    "\n",
    "By convention, Jupyter notebooks are __expected__ to be run from top to bottom. \n",
    "\n",
    "If you skip a cell or run the cells in a different order you may get unexpected behaviour."
   ]
  },
  {
   "cell_type": "markdown",
   "metadata": {
    "slideshow": {
     "slide_type": "slide"
    }
   },
   "source": [
    "For example, in the next cell enter:\n",
    "```python\n",
    "x = 10\n",
    "```\n",
    "\n",
    "then re-run the cell above containing:\n",
    "```python\n",
    "y = x - 2\n",
    "print(y)\n",
    "\n",
    "```\n",
    "and you should see the value of y change. \n",
    "\n",
    "The original value of `x` has been replaced by the new definition `x = 10`.\n",
    "\n",
    "<img src=\"img/jupyter_change_value.png\" alt=\"Drawing\" style=\"width: 500px;\"/>"
   ]
  },
  {
   "cell_type": "markdown",
   "metadata": {
    "slideshow": {
     "slide_type": "slide"
    }
   },
   "source": [
    "Now run the cell containing: \n",
    "    \n",
    "```python\n",
    "x = 2 + 3\n",
    "```\n",
    "then the cell containing:\n",
    "```python\n",
    "y = x - 2\n",
    "print(y)\n",
    "\n",
    "```\n",
    "and you will see the value of `y` change back to it's original value. \n",
    "\n",
    "<img src=\"img/jupyter_value_change2.png\" alt=\"Drawing\" style=\"width: 500px;\"/>\n",
    "\n"
   ]
  },
  {
   "cell_type": "markdown",
   "metadata": {
    "slideshow": {
     "slide_type": "slide"
    }
   },
   "source": [
    "To run all the cells sequentially from top to bottom click:\n",
    "\n",
    "Cell >> Run All\n",
    "\n",
    "This menu also contains other options for running cells. "
   ]
  },
  {
   "cell_type": "markdown",
   "metadata": {
    "slideshow": {
     "slide_type": "slide"
    }
   },
   "source": [
    "## Software : Python Environments - Python interpreter\n",
    "\n",
    "We can start the interpreter by typing \n",
    ">``python3`` \n",
    "\n",
    "in the terminal.\n",
    "\n",
    "The command prompt changes to:\n",
    ">``>>>``\n",
    "\n",
    "This is useful for doing small calculations. But the standard python interpreter is not very convenient for longer pieces of code. \n",
    "\n",
    "<!-- <img src=\"files/images/python-screenshot.jpg\" width=\"600\"> -->\n",
    "<img src=\"img/python-screenshot.jpg\" width=\"600\">\n",
    "\n",
    "\n",
    "\n",
    "\n"
   ]
  },
  {
   "cell_type": "markdown",
   "metadata": {
    "slideshow": {
     "slide_type": "slide"
    }
   },
   "source": [
    "## Software : Python Environments - Spyder\n",
    "\n",
    "Spyder is an integrated development environment (IDE). \n",
    "\n",
    "An IDE is a program used to write and edit code.\n",
    "\n",
    "Spyder was installed on your computer with Anaconda.  \n",
    "\n",
    "To launch spyder\n",
    "\n",
    "In the terminal type:\n",
    "\n",
    " >   `spyder`\n",
    "\n",
    "and press enter.\n",
    "\n",
    "\n",
    "__OR__\n",
    "\n",
    "Choose Spyder from your computer's start menu e.g.:\n",
    "\n",
    "> Start >> Programs (すべてのプログラム) >> Programming >> Anaconda3 >> Spyder\n",
    " \n",
    "\n"
   ]
  },
  {
   "cell_type": "markdown",
   "metadata": {
    "slideshow": {
     "slide_type": "slide"
    }
   },
   "source": [
    "### Writing and running code in the Spyder IDE \n",
    "You can write code by tying in the box on the left (editor). \n",
    "For example, try typing:\n",
    "\n",
    "```python\n",
    "print('hello')\n",
    "```\n",
    "\n",
    "You can run the code you have typed by clicking the green triangle in the menu bar at the top of the window.\n",
    "\n",
    "<img src=\"img/run_spyder.png\" alt=\"Drawing\" style=\"width: 300px;\"/>\n",
    "\n",
    "The output should appear in the box on the bottom right (console)\n",
    "\n",
    "The box in the top, right can be used to diplay the file system or stored variables."
   ]
  },
  {
   "cell_type": "markdown",
   "metadata": {
    "slideshow": {
     "slide_type": "slide"
    }
   },
   "source": [
    "### Save your code\n",
    "\n",
    "Click:\n",
    "\n",
    "File >> Save as \n",
    "\n",
    "Save your file with `.py` extension.  \n"
   ]
  },
  {
   "cell_type": "markdown",
   "metadata": {
    "slideshow": {
     "slide_type": "slide"
    }
   },
   "source": [
    "## Introduction to the Command Line. \n",
    "\n",
    "Let's open a terminal...\n",
    "\n",
    "##### Windows\n",
    " - press \"win key\" + \"R\"\n",
    " - type: __cmd__\n",
    " - press enter\n",
    "\n",
    "##### Mac\n",
    " - open Applications >> Utilities >> Terminal\n"
   ]
  },
  {
   "cell_type": "markdown",
   "metadata": {
    "slideshow": {
     "slide_type": "slide"
    }
   },
   "source": [
    "A terminal will launch.\n",
    "\n",
    "Using the terminal, you will navigate to where you want to store the course notes. \n",
    "\n"
   ]
  },
  {
   "cell_type": "markdown",
   "metadata": {
    "slideshow": {
     "slide_type": "slide"
    }
   },
   "source": [
    "Type:\n",
    "\n",
    "##### Windows\n",
    ">`dir`\n",
    "\n",
    "##### Mac\n",
    ">`ls`\n",
    "\n",
    "..and press enter.\n",
    "\n",
    "You will see all the folders in your personal user area."
   ]
  },
  {
   "cell_type": "markdown",
   "metadata": {
    "slideshow": {
     "slide_type": "slide"
    }
   },
   "source": [
    "We can move down the filesystem of the computer by typing:\n",
    "\n",
    ">`cd`\n",
    "\n",
    "followed by the name of the folder we want to move to.\n",
    "\n",
    ">`cd Documents`\n",
    "\n"
   ]
  },
  {
   "cell_type": "markdown",
   "metadata": {
    "slideshow": {
     "slide_type": "slide"
    }
   },
   "source": [
    "The folder must be:\n",
    " - on the same branch\n",
    " - one step from our current location\n",
    "\n",
    "<img src=\"img/directory_tree.gif\" alt=\"Drawing\" style=\"width: 400px;\"/>"
   ]
  },
  {
   "cell_type": "markdown",
   "metadata": {
    "slideshow": {
     "slide_type": "slide"
    }
   },
   "source": [
    "Type:\n",
    "    \n",
    "##### Windows\n",
    ">`dir`\n",
    "\n",
    "##### Mac\n",
    ">`ls`\n",
    "\n",
    "again to view the contents of the folder that you have moved into."
   ]
  },
  {
   "cell_type": "markdown",
   "metadata": {
    "slideshow": {
     "slide_type": "slide"
    }
   },
   "source": [
    "To move back up by one step, type:\n",
    "    \n",
    ">`cd ..`\n",
    "\n",
    "Try this now.\n",
    "\n",
    "<img src=\"img/directory_tree.gif\" alt=\"Drawing\" style=\"width: 400px;\"/>"
   ]
  },
  {
   "cell_type": "markdown",
   "metadata": {
    "slideshow": {
     "slide_type": "slide"
    }
   },
   "source": [
    "### If using a university computer...\n",
    "###### (Those using a personal computer can skip forward to the next section: Running your program from the command line)\n",
    "\n",
    "The *command prompt* will say something like:\n",
    "\n",
    "C:¥Users¥Username:\n",
    "\n",
    "The C tells us that we are on the C drive of the computer.\n",
    "\n",
    "Switch to the M drive where the user (you!) can save files.\n",
    "\n",
    "<img src=\"img/KUterminal.png\" alt=\"Drawing\" style=\"width: 500px;\"/>\n",
    "\n",
    "In the terminal type: \n",
    "\n",
    ">`M:`\n",
    "\n",
    "...and press enter.\n",
    "\n",
    "You should see the command prompt change.  \n",
    "\n",
    "\n",
    "<img src=\"img/KUterminalMdrive.png\" alt=\"Drawing\" style=\"width: 700px;\"/>"
   ]
  },
  {
   "cell_type": "markdown",
   "metadata": {
    "slideshow": {
     "slide_type": "slide"
    }
   },
   "source": [
    "## Running your program from the command line.\n",
    "\n",
    "Spyder and other IDEs provide a convenient way to write, run and save code.\n",
    "\n",
    "However, once you have saved your program you can run it without the need for another program. \n",
    "\n",
    "In the terminal, use `cd` to navigate to within the folder where you just saved your file."
   ]
  },
  {
   "cell_type": "markdown",
   "metadata": {
    "slideshow": {
     "slide_type": "slide"
    }
   },
   "source": [
    "Type:\n",
    "\n",
    "> `python3`\n",
    "\n",
    "...followed by a space, then the name of the program that you want to run. \n",
    "\n",
    "For example, to run a file ``my-program.py``: \n",
    "\n",
    "> `python my-program.py`\n",
    "\n",
    "<img src=\"img/python-screenshot.jpg\" width=\"600\">"
   ]
  },
  {
   "cell_type": "markdown",
   "metadata": {
    "slideshow": {
     "slide_type": "slide"
    }
   },
   "source": [
    "### Creating Python files without using Spyder.\n",
    "In fact, you don't even need an IDE to create a Python file. \n",
    "\n",
    "You can write Python code in a normal text editor (Notepad (Windows), Wordpad (Windows), TextEdit (Mac), Text Editor (Ubuntu Linux).\n",
    "\n",
    "Provided you add the file extension .py when saving the file, you can run the file exactly the same way as we just did from the command line."
   ]
  },
  {
   "cell_type": "markdown",
   "metadata": {
    "slideshow": {
     "slide_type": "slide"
    }
   },
   "source": [
    "We will use:\n",
    "- __Jupyter notebook__ for short coding practise exercises.\n",
    "- __Spyder__ for longer, more complete programs. "
   ]
  },
  {
   "cell_type": "markdown",
   "metadata": {
    "slideshow": {
     "slide_type": "slide"
    }
   },
   "source": [
    "## Part C : Download the class notes\n",
    "\n",
    "You will use the command line and Git to download the course notes."
   ]
  },
  {
   "cell_type": "markdown",
   "metadata": {
    "slideshow": {
     "slide_type": "slide"
    }
   },
   "source": [
    "## \"Cloning\" the Course Notes Using Git\n",
    "\n",
    "Go to the Github URL from which you opened the course notes you are reading now: https://github.com/hphilamore/ILAS_PyEng2019 we  \n",
    "\n",
    "We are going to download the course notes by *cloning*."
   ]
  },
  {
   "cell_type": "markdown",
   "metadata": {
    "slideshow": {
     "slide_type": "slide"
    }
   },
   "source": [
    "Click the button \"Clone or download\" and copy the link by presssing Ctrl , C\n",
    "\n",
    "<img src=\"img/clone-URL.png\" alt=\"Drawing\" style=\"width: 500px;\"/>\n"
   ]
  },
  {
   "cell_type": "markdown",
   "metadata": {
    "slideshow": {
     "slide_type": "slide"
    }
   },
   "source": [
    "In the terminal, use `cd` to navigate to where you want to store the course notes.  \n",
    " \n",
    "In the terminal type:\n",
    "> `git clone` &nbsp; https://github.com/hphilamore/ILAS_PyEng2019\n",
    "\n",
    "\n",
    "`clone` copies all the files from the repository at the URL you have entered. "
   ]
  },
  {
   "cell_type": "markdown",
   "metadata": {
    "slideshow": {
     "slide_type": "slide"
    }
   },
   "source": [
    "In the terminal type:\n",
    "\n",
    "##### Windows\n",
    ">`dir`\n",
    "\n",
    "##### Mac\n",
    ">`ls`\n",
    "\n",
    "A folder called __ILAS_PyEng2019__ should have appeared. \n",
    "\n",
    "`cd` into the folder: \n",
    "\n",
    ">`cd ILAS_PyEng2019`\n"
   ]
  },
  {
   "cell_type": "markdown",
   "metadata": {
    "slideshow": {
     "slide_type": "slide"
    }
   },
   "source": [
    "Lastly run the following commands:\n",
    "\n",
    ">`git remote rm origin`\n",
    "\n",
    ">`git remote add upstream https://github.com/hphilamore/ILAS_PyEng2019`\n",
    "\n",
    "This allows you to update the course notes automatically using git."
   ]
  },
  {
   "cell_type": "markdown",
   "metadata": {
    "slideshow": {
     "slide_type": "slide"
    }
   },
   "source": [
    "## Updating the Course Notes Automatically Using Git\n",
    "\n",
    "Each week, new material will be added to the online course notes.\n",
    "- Solutions to review questions\n",
    "- Notes for final section of the course \n",
    "\n",
    "You can auotmatically download updated course material whenver the online material is updated by runnnig a file called `automerge` that is located in the course repository. \n",
    "\n",
    "Try doing this step now to check that it works.\n",
    "\n",
    "A message should appear telling you that the repository is up to date."
   ]
  },
  {
   "cell_type": "markdown",
   "metadata": {
    "slideshow": {
     "slide_type": "slide"
    }
   },
   "source": [
    "##### Windows\n",
    "Search for __Git Bash__ in the programs menu.\n",
    "\n",
    "Select __Git Bash__, a terminal will open.\n",
    "\n",
    "Use `cd` to navigate to *inside* the __ILAS_PyEng2019__ repository you downloaded. \n",
    "\n",
    "Run the command:\n",
    ">`./automerge`\n",
    "\n",
    "\n",
    "\n",
    "##### Mac\n",
    "Open a terminal. \n",
    "\n",
    "Use `cd` to navigate to *inside* the __ILAS_PyEng2019__ repository you downloaded. \n",
    "\n",
    "Run the command:\n",
    ">`sudo ./automerge`\n",
    "\n",
    "Enter your password when prompted. "
   ]
  },
  {
   "cell_type": "markdown",
   "metadata": {
    "slideshow": {
     "slide_type": "slide"
    }
   },
   "source": [
    "## Opening the Course Notes Interactively using Jupyter Notebook\n",
    "\n",
    "In each class, we will open the course notes in Anaconda.\n",
    "\n",
    "This will allow you to complete exercises by writing and running code in the cells.\n",
    "\n",
    "Go to Jupyter Notebook now (you opened it earlier)\n",
    "\n",
    "Use the navigation bar on the home screen to choose the location in which you saved the class notes. \n",
    "\n",
    "e.g. my course notes are in Documents >> Code >> Jupyter_NBooks >> ILAS_PyEng2019\n",
    "\n",
    "<img src=\"img/jupyter_nav.png\" alt=\"Drawing\" style=\"width: 500px;\"/>"
   ]
  },
  {
   "cell_type": "markdown",
   "metadata": {
    "slideshow": {
     "slide_type": "slide"
    }
   },
   "source": [
    "Open the notes for today's class : `00_Introduction.ipynb`.\n",
    "\n",
    "\n",
    "During the course, you may add and run code in the cells provided but please do not edit existing cells. \n",
    "\n",
    "__Warning : Editing the existing cells will cause major problems when downloaded updated material from the online repository.__\n",
    "\n"
   ]
  },
  {
   "cell_type": "markdown",
   "metadata": {
    "slideshow": {
     "slide_type": "slide"
    }
   },
   "source": [
    "## Before coming to next week's class...\n",
    "\n",
    "Read `01a_Operators_DataTypes__Primer.ipynb` and `01b_ControlFlow__Primer.ipynb`"
   ]
  },
  {
   "cell_type": "code",
   "execution_count": null,
   "metadata": {},
   "outputs": [],
   "source": []
  },
  {
   "cell_type": "code",
   "execution_count": null,
   "metadata": {},
   "outputs": [],
   "source": []
  }
 ],
 "metadata": {
  "celltoolbar": "Slideshow",
  "kernelspec": {
   "display_name": "Python 3",
   "language": "python",
   "name": "python3"
  },
  "language_info": {
   "codemirror_mode": {
    "name": "ipython",
    "version": 3
   },
   "file_extension": ".py",
   "mimetype": "text/x-python",
   "name": "python",
   "nbconvert_exporter": "python",
   "pygments_lexer": "ipython3",
   "version": "3.6.5"
  }
 },
 "nbformat": 4,
 "nbformat_minor": 2
}
