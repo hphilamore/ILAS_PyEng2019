{
 "cells": [
  {
   "cell_type": "markdown",
   "metadata": {
    "collapsed": true,
    "slideshow": {
     "slide_type": "slide"
    }
   },
   "source": [
    "# 02 Data Structures and Libraries\n",
    "## PRIMER\n",
    "\n",
    "\n",
    "\n",
    "<br> <a href='#Lists'>1. Lists</a> \n",
    "<br> <a href='#Libraries'>2. Libraries</a>\n",
    "<br> <a href='#numpyarray'>3. The `numpy array`</a>\n",
    "\t\n",
    " \n",
    "\n",
    " \n",
    "\n",
    "\n",
    "\n",
    "\n"
   ]
  },
  {
   "cell_type": "markdown",
   "metadata": {
    "slideshow": {
     "slide_type": "slide"
    }
   },
   "source": [
    "<a id='Lists'></a>\n",
    "# 1. Lists\n",
    "\n",
    "<br> &emsp;&emsp; <a href='#Indexing'>1.1 Indexing</a> \n",
    "<br> &emsp;&emsp; <a href='#FindingLengthList'>1.2 FindingLengthList</a> \n",
    "<br> &emsp;&emsp; <a href='#SortingLists'>1.3 SortingLists</a> \n",
    "<br> &emsp;&emsp; <a href='#RemovingItemList'>1.4 Removing an Item from a List</a> \n",
    "<br> &emsp;&emsp; <a href='#AddingItemList'>1.5 Adding an Item to a List</a> \n",
    "<br> &emsp;&emsp; <a href='#ChangingListEntry'>1.6 Changing a List Entry</a> \n",
    "<br> &emsp;&emsp; <a href='#NestedDataStructures'>1.7 Nested Data Structures</a> \n",
    "<br> &emsp;&emsp; <a href='#IteratingLists'>1.8 Iterating over Lists</a> \n",
    "<br> &emsp;&emsp; <a href='#IndexingIterating'>1.9 Indexing when Iterating over Lists</a> \n",
    "<br> &emsp;&emsp; <a href='#enumerate'>1.10 `enumerate`</a>     \n",
    "&emsp;&emsp; <a href='#zip'>1.11`zip`</a>"
   ]
  },
  {
   "cell_type": "markdown",
   "metadata": {
    "slideshow": {
     "slide_type": "-"
    }
   },
   "source": [
    "A list is a sequence of data. \n",
    "\n",
    "We call each item in the sequence an *element*. \n",
    "\n",
    "A list is constructed using square brackets:\n",
    "\n"
   ]
  },
  {
   "cell_type": "code",
   "execution_count": 1,
   "metadata": {},
   "outputs": [],
   "source": [
    "a = [1, 2, 3]"
   ]
  },
  {
   "cell_type": "markdown",
   "metadata": {
    "slideshow": {
     "slide_type": "slide"
    }
   },
   "source": [
    "A `range` can be converted to a list with the `list` function (casting)."
   ]
  },
  {
   "cell_type": "code",
   "execution_count": 2,
   "metadata": {},
   "outputs": [
    {
     "name": "stdout",
     "output_type": "stream",
     "text": [
      "[0, 1, 2, 3, 4, 5, 6, 7, 8, 9]\n"
     ]
    }
   ],
   "source": [
    "print(list(range(10)))"
   ]
  },
  {
   "cell_type": "markdown",
   "metadata": {
    "slideshow": {
     "slide_type": "slide"
    }
   },
   "source": [
    "A list can hold a mixture of types (`int`, `string`....)."
   ]
  },
  {
   "cell_type": "code",
   "execution_count": 3,
   "metadata": {
    "slideshow": {
     "slide_type": "-"
    }
   },
   "outputs": [],
   "source": [
    "a = [1, 2.0, \"three\"]"
   ]
  },
  {
   "cell_type": "markdown",
   "metadata": {
    "slideshow": {
     "slide_type": "subslide"
    }
   },
   "source": [
    "An empty list is created by"
   ]
  },
  {
   "cell_type": "code",
   "execution_count": 4,
   "metadata": {},
   "outputs": [],
   "source": [
    "my_list = []"
   ]
  },
  {
   "cell_type": "markdown",
   "metadata": {
    "slideshow": {
     "slide_type": "subslide"
    }
   },
   "source": [
    "A list of length 5 with repeated values can be created by"
   ]
  },
  {
   "cell_type": "code",
   "execution_count": 5,
   "metadata": {},
   "outputs": [
    {
     "name": "stdout",
     "output_type": "stream",
     "text": [
      "['Hello', 'Hello', 'Hello', 'Hello', 'Hello']\n"
     ]
    }
   ],
   "source": [
    "my_list = [\"Hello\"]*5\n",
    "print(my_list)"
   ]
  },
  {
   "cell_type": "markdown",
   "metadata": {
    "slideshow": {
     "slide_type": "subslide"
    }
   },
   "source": [
    "We can check if an item is in a list using the function `in`:\n"
   ]
  },
  {
   "cell_type": "code",
   "execution_count": 6,
   "metadata": {},
   "outputs": [
    {
     "name": "stdout",
     "output_type": "stream",
     "text": [
      "True\n",
      "False\n"
     ]
    }
   ],
   "source": [
    "print(\"Hello\" in my_list)\n",
    "print(\"Goodbye\" in my_list)"
   ]
  },
  {
   "cell_type": "markdown",
   "metadata": {
    "slideshow": {
     "slide_type": "slide"
    }
   },
   "source": [
    "<a id='Indexing'></a>\n",
    "## 1.1 Indexing\n",
    "\n",
    "Lists store data in order.\n",
    "\n",
    "We can select a single element or multiple elements of a list using the __index__ of the element(s).\n",
    "\n",
    "You are familiar with this process; it is the same as selecting individual characters of a string:"
   ]
  },
  {
   "cell_type": "code",
   "execution_count": 7,
   "metadata": {
    "slideshow": {
     "slide_type": "-"
    }
   },
   "outputs": [
    {
     "name": "stdout",
     "output_type": "stream",
     "text": [
      "t\n"
     ]
    }
   ],
   "source": [
    "word = \"string\"\n",
    "letter = word[1]\n",
    "print(letter)"
   ]
  },
  {
   "cell_type": "code",
   "execution_count": 8,
   "metadata": {
    "slideshow": {
     "slide_type": "-"
    }
   },
   "outputs": [
    {
     "name": "stdout",
     "output_type": "stream",
     "text": [
      "Sara\n"
     ]
    }
   ],
   "source": [
    "lab_group0 = [\"Sara\", \"Mari\", \"Quang\", \"Sam\", \"Ryo\", \"Nao\", \"Takashi\"]\n",
    "\n",
    "first_member = lab_group0[0]\n",
    "\n",
    "print(first_member)"
   ]
  },
  {
   "cell_type": "markdown",
   "metadata": {
    "slideshow": {
     "slide_type": "subslide"
    }
   },
   "source": [
    "If we select multiple elements they are returned as a list:"
   ]
  },
  {
   "cell_type": "code",
   "execution_count": 9,
   "metadata": {},
   "outputs": [
    {
     "name": "stdout",
     "output_type": "stream",
     "text": [
      "['Sara', 'Mari']\n"
     ]
    }
   ],
   "source": [
    "lab_group0 = [\"Sara\", \"Mari\", \"Quang\", \"Sam\", \"Ryo\", \"Nao\", \"Takashi\"]\n",
    "\n",
    "first_members = lab_group0[0:2]\n",
    "\n",
    "print(first_members)"
   ]
  },
  {
   "cell_type": "markdown",
   "metadata": {
    "slideshow": {
     "slide_type": "slide"
    }
   },
   "source": [
    "We can select the individual characters of a string using a second index.\n",
    "\n",
    "For example to select the first letter of the second group member's name:"
   ]
  },
  {
   "cell_type": "code",
   "execution_count": 10,
   "metadata": {},
   "outputs": [
    {
     "name": "stdout",
     "output_type": "stream",
     "text": [
      "M\n"
     ]
    }
   ],
   "source": [
    "lab_group0 = [\"Sara\", \"Mari\", \"Quang\", \"Sam\", \"Ryo\", \"Nao\", \"Takashi\"]\n",
    "\n",
    "letter = lab_group0[1][0]\n",
    "\n",
    "print(letter)"
   ]
  },
  {
   "cell_type": "markdown",
   "metadata": {
    "slideshow": {
     "slide_type": "slide"
    }
   },
   "source": [
    "<a id='ManipulatingLists'></a>\n",
    "### Manipulating Lists \n",
    "\n",
    "There are many functions for manipulating lists.\n",
    "\n",
    "Many of these functions apply to other data structures.\n",
    "\n",
    "\n",
    "\n",
    "\n",
    "\n",
    "\n",
    "\n",
    "\n",
    "\n"
   ]
  },
  {
   "cell_type": "markdown",
   "metadata": {
    "slideshow": {
     "slide_type": "subslide"
    }
   },
   "source": [
    "<a id='FindingLengthList'></a>\n",
    "## 1.2 Finding the Length of a List\n",
    "\n",
    "We can find the length (number of items) of a list using the function `len()`, by including the name of the list in the brackets. "
   ]
  },
  {
   "cell_type": "markdown",
   "metadata": {
    "slideshow": {
     "slide_type": "subslide"
    }
   },
   "source": [
    "In the example below, we find the length of the list `lab_group0`. "
   ]
  },
  {
   "cell_type": "code",
   "execution_count": 13,
   "metadata": {},
   "outputs": [
    {
     "name": "stdout",
     "output_type": "stream",
     "text": [
      "Lab group members: ['Sara', 'Mari', 'Quang']\n",
      "Size of lab group: 3\n",
      "Check the Python object type: <class 'list'>\n"
     ]
    }
   ],
   "source": [
    "lab_group0 = [\"Sara\", \"Mari\", \"Quang\"]\n",
    "\n",
    "size = len(lab_group0)\n",
    "\n",
    "print(\"Lab group members:\", lab_group0)\n",
    "\n",
    "print(\"Size of lab group:\", size)\n",
    "\n",
    "print(\"Check the Python object type:\", type(lab_group0))"
   ]
  },
  {
   "cell_type": "markdown",
   "metadata": {
    "slideshow": {
     "slide_type": "subslide"
    }
   },
   "source": [
    "<a id='SortingLists'></a>\n",
    "## 1.3 Sorting Lists\n",
    "\n",
    "To sort the list we use the function `sorted()`.\n",
    "\n",
    "#### Sorting Numerically\n",
    "\n",
    "If the list contains numerical variables, the numbers is sorted in ascending order."
   ]
  },
  {
   "cell_type": "code",
   "execution_count": 14,
   "metadata": {
    "scrolled": true
   },
   "outputs": [
    {
     "name": "stdout",
     "output_type": "stream",
     "text": [
      "[7, 1, 3.0]\n",
      "[1, 3.0, 7]\n"
     ]
    }
   ],
   "source": [
    "numbers = [7, 1, 3.0]\n",
    "\n",
    "print(numbers)\n",
    "\n",
    "numbers = sorted(numbers)\n",
    "\n",
    "print(numbers)"
   ]
  },
  {
   "cell_type": "markdown",
   "metadata": {
    "slideshow": {
     "slide_type": "subslide"
    }
   },
   "source": [
    "__Note:__ We can sort a list with mixed numeric types (e.g. `float` and `int`). \n",
    "\n",
    "However, we cannot sort a list with types that cannot be sorted by the same ordering rule. \n",
    "\n",
    "(e.g. `numbers = sorted([\"7\", 1, 3.0])` causes an error.)"
   ]
  },
  {
   "cell_type": "markdown",
   "metadata": {
    "slideshow": {
     "slide_type": "subslide"
    }
   },
   "source": [
    "#### Sorting Alphabetically\n",
    "\n",
    "If the list contains strings of alphabet characters, the list is sorted by alphabetical order. "
   ]
  },
  {
   "cell_type": "code",
   "execution_count": 15,
   "metadata": {},
   "outputs": [
    {
     "name": "stdout",
     "output_type": "stream",
     "text": [
      "['Sara', 'Mari', 'Quang']\n",
      "['Mari', 'Quang', 'Sara']\n"
     ]
    }
   ],
   "source": [
    "lab_group0 = [\"Sara\", \"Mari\", \"Quang\"]\n",
    "\n",
    "print(lab_group0)\n",
    "\n",
    "lab_group0 = sorted(lab_group0)\n",
    "\n",
    "print(lab_group0)"
   ]
  },
  {
   "cell_type": "markdown",
   "metadata": {
    "slideshow": {
     "slide_type": "subslide"
    }
   },
   "source": [
    "As with `len()` we include the name of the list we want to sort in the brackets. "
   ]
  },
  {
   "cell_type": "markdown",
   "metadata": {
    "slideshow": {
     "slide_type": "subslide"
    }
   },
   "source": [
    "`sort` is known as a 'method' of a `list`. \n",
    "\n",
    "If we suffix a list with `.sort()`, it performs an *in-place* sort."
   ]
  },
  {
   "cell_type": "code",
   "execution_count": 16,
   "metadata": {
    "slideshow": {
     "slide_type": "-"
    }
   },
   "outputs": [
    {
     "name": "stdout",
     "output_type": "stream",
     "text": [
      "['Sara', 'Mari', 'Quang']\n",
      "['Mari', 'Quang', 'Sara']\n"
     ]
    }
   ],
   "source": [
    "lab_group0 = [\"Sara\", \"Mari\", \"Quang\"]\n",
    "\n",
    "print(lab_group0)\n",
    "\n",
    "#lab_group0 = sorted(lab_group0)\n",
    "lab_group0.sort()\n",
    "\n",
    "print(lab_group0)"
   ]
  },
  {
   "cell_type": "markdown",
   "metadata": {
    "slideshow": {
     "slide_type": "subslide"
    }
   },
   "source": [
    "__Try it yourself__\n",
    "\n",
    "In the cell provided in your textbook create a list of __numeric__ or __string__ values.\n",
    "\n",
    "Sort the list using `sorted()` __or__ `.sort()`.\n",
    "\n",
    "Print the sorted list.\n",
    "\n",
    "Print the length of the list using `len()`."
   ]
  },
  {
   "cell_type": "code",
   "execution_count": 17,
   "metadata": {},
   "outputs": [],
   "source": [
    "# Sorting a list"
   ]
  },
  {
   "cell_type": "markdown",
   "metadata": {
    "slideshow": {
     "slide_type": "subslide"
    }
   },
   "source": [
    "<a id='RemovingItemList'></a>\n",
    "## 1.4 Removing an Item from a List\n",
    "\n",
    "We can remove items from a list using the method `pop`.\n",
    "\n",
    "We place the index of the element we wish to remove in brackets. "
   ]
  },
  {
   "cell_type": "code",
   "execution_count": 18,
   "metadata": {
    "slideshow": {
     "slide_type": "subslide"
    }
   },
   "outputs": [
    {
     "name": "stdout",
     "output_type": "stream",
     "text": [
      "['Sara', 'Mari', 'Quang', 'Sam', 'Ryo']\n",
      "['Sara', 'Quang', 'Sam', 'Ryo']\n"
     ]
    }
   ],
   "source": [
    "lab_group0 = [\"Sara\", \"Mari\", \"Quang\", \"Sam\", \"Ryo\"]\n",
    "print(lab_group0)\n",
    "\n",
    "# Remove the second student from the list: lab_group (remember indexing starts from 0 so 1 is the second element)\n",
    "\n",
    "lab_group0.pop(1)\n",
    "print(lab_group0)"
   ]
  },
  {
   "cell_type": "code",
   "execution_count": 19,
   "metadata": {
    "slideshow": {
     "slide_type": "subslide"
    }
   },
   "outputs": [
    {
     "name": "stdout",
     "output_type": "stream",
     "text": [
      "['Sara', 'Quang', 'Sam']\n"
     ]
    }
   ],
   "source": [
    "# By default, pop removes the last element\n",
    "\n",
    "lab_group0.pop()\n",
    "print(lab_group0)"
   ]
  },
  {
   "cell_type": "code",
   "execution_count": 20,
   "metadata": {
    "slideshow": {
     "slide_type": "subslide"
    }
   },
   "outputs": [
    {
     "name": "stdout",
     "output_type": "stream",
     "text": [
      "['Sara', 'Sam']\n",
      "Quang\n"
     ]
    }
   ],
   "source": [
    "# Pop can by used to assign the removed value to a variable name\n",
    "\n",
    "group_member = lab_group0.pop(1)\n",
    "print(lab_group0)\n",
    "print(group_member)"
   ]
  },
  {
   "cell_type": "markdown",
   "metadata": {
    "slideshow": {
     "slide_type": "subslide"
    }
   },
   "source": [
    "<a id='AddingItemList'></a>\n",
    "## 1.5 Adding an Item to a List\n",
    "\n",
    "We can add items to a list using the method `insert`.\n",
    "\n",
    "We place the desired index of new element in brackets. "
   ]
  },
  {
   "cell_type": "code",
   "execution_count": 21,
   "metadata": {},
   "outputs": [
    {
     "name": "stdout",
     "output_type": "stream",
     "text": [
      "['Sara', 'Sam', 'Mark']\n"
     ]
    }
   ],
   "source": [
    "# Add new student \"Mark\" to the list\n",
    "lab_group0.insert(2, \"Mark\")\n",
    "print(lab_group0)"
   ]
  },
  {
   "cell_type": "markdown",
   "metadata": {
    "slideshow": {
     "slide_type": "subslide"
    }
   },
   "source": [
    "We can add items at the end of a list using the method `append`.\n",
    "\n",
    "We place the element we want to add to the end of the list in brackets. "
   ]
  },
  {
   "cell_type": "code",
   "execution_count": 22,
   "metadata": {},
   "outputs": [
    {
     "name": "stdout",
     "output_type": "stream",
     "text": [
      "['Sara', 'Sam', 'Mark', 'Lia']\n"
     ]
    }
   ],
   "source": [
    "# Add new student \"Lia\" at the end of the list\n",
    "lab_group0.append(\"Lia\")\n",
    "print(lab_group0)"
   ]
  },
  {
   "cell_type": "markdown",
   "metadata": {
    "slideshow": {
     "slide_type": "subslide"
    }
   },
   "source": [
    "<a id='ChangingListEntry'></a>\n",
    "## 1.6 Changing a List Entry.\n",
    "We can change the entry of a list using indexing."
   ]
  },
  {
   "cell_type": "code",
   "execution_count": 23,
   "metadata": {},
   "outputs": [
    {
     "name": "stdout",
     "output_type": "stream",
     "text": [
      "['Sara', 'Sam', 'Mark', 'Am']\n"
     ]
    }
   ],
   "source": [
    "lab_group0[3] = \"Am\"\n",
    "print(lab_group0)\n",
    "\n",
    "# Adding and removing items from a list."
   ]
  },
  {
   "cell_type": "markdown",
   "metadata": {
    "slideshow": {
     "slide_type": "subslide"
    }
   },
   "source": [
    "__Try it yourself__\n",
    "\n",
    "In the cell provided in your textbook.\n",
    "\n",
    "Remove \"Sara\" from the list.\n",
    "\n",
    "Print the new list.\n",
    "\n",
    "Add a new lab group member, Tom, to the list.\n",
    "\n",
    "Print the new list."
   ]
  },
  {
   "cell_type": "code",
   "execution_count": 24,
   "metadata": {},
   "outputs": [
    {
     "name": "stdout",
     "output_type": "stream",
     "text": [
      "['Sara', 'Mari', 'Quang', 'Sam', 'Ryo']\n"
     ]
    }
   ],
   "source": [
    "lab_group0 = [\"Sara\", \"Mari\", \"Quang\", \"Sam\", \"Ryo\"]\n",
    "print(lab_group0)\n",
    "\n",
    "# Adding and removing items from a list."
   ]
  },
  {
   "cell_type": "markdown",
   "metadata": {
    "collapsed": true,
    "slideshow": {
     "slide_type": "subslide"
    }
   },
   "source": [
    "<a id='NestedDataStructures'></a>\n",
    "## 1.7 Nested Data Structures: Lists of Lists\n",
    "\n",
    "A *nested list* is a list within a list. \n",
    "\n",
    "(Recall *nested loops* from the last seminar 1; Control Flow). \n",
    "\n"
   ]
  },
  {
   "cell_type": "markdown",
   "metadata": {
    "slideshow": {
     "slide_type": "subslide"
    }
   },
   "source": [
    "To access a __single element__ we need as many indices as there are levels of nested list. \n",
    "\n",
    "This is more easily explained with an example:"
   ]
  },
  {
   "cell_type": "markdown",
   "metadata": {
    "slideshow": {
     "slide_type": "subslide"
    }
   },
   "source": [
    "`lab_groups` is a nested list containing the lists:\n",
    " - `lab_group0`\n",
    " - `lab_group1`\n",
    " - `lab_group2`"
   ]
  },
  {
   "cell_type": "code",
   "execution_count": 25,
   "metadata": {
    "slideshow": {
     "slide_type": "-"
    }
   },
   "outputs": [],
   "source": [
    "lab_group0 = [\"Sara\", \"Mika\", \"Ryo\", \"Am\"]\n",
    "lab_group1 = [\"Hemma\", \"Miri\", \"Quy\", \"Sajid\"]\n",
    "lab_group2 = [\"Adam\", \"Yukari\", \"Farad\", \"Fumitoshi\"]\n",
    "\n",
    "lab_groups = [lab_group0, lab_group1, lab_group2]"
   ]
  },
  {
   "cell_type": "markdown",
   "metadata": {
    "slideshow": {
     "slide_type": "subslide"
    }
   },
   "source": [
    "To select and element from `lab_group1` we:\n",
    "- first give the index of `lab_group1` in th list `lab_groups`\n",
    "- second give the index of the element within `lab_group1`"
   ]
  },
  {
   "cell_type": "code",
   "execution_count": 26,
   "metadata": {
    "slideshow": {
     "slide_type": "-"
    }
   },
   "outputs": [
    {
     "name": "stdout",
     "output_type": "stream",
     "text": [
      "['Hemma', 'Miri', 'Quy', 'Sajid']\n",
      "Quy\n"
     ]
    }
   ],
   "source": [
    "group = lab_groups[1]\n",
    "print(group)\n",
    "\n",
    "name = lab_groups[1][2]\n",
    "print(name)"
   ]
  },
  {
   "cell_type": "markdown",
   "metadata": {
    "slideshow": {
     "slide_type": "slide"
    }
   },
   "source": [
    "<a id='IteratingLists'></a>\n",
    "## 1.8 Iterating over Lists\n",
    "\n",
    "Looping over each item in a list is called *iterating*. \n",
    "\n",
    "To iterate over a list of the lab group we  can use a `for` loop.\n",
    "\n"
   ]
  },
  {
   "cell_type": "markdown",
   "metadata": {
    "slideshow": {
     "slide_type": "slide"
    }
   },
   "source": [
    "In the followig example, each iteration, variable `d` takes the value of the next item in the list:"
   ]
  },
  {
   "cell_type": "code",
   "execution_count": 27,
   "metadata": {},
   "outputs": [
    {
     "name": "stdout",
     "output_type": "stream",
     "text": [
      "the value of d is: 1\n",
      "the value of d is: 2.0\n",
      "the value of d is: three\n"
     ]
    }
   ],
   "source": [
    "for d in [1, 2.0, \"three\"]:    \n",
    "    print(\"the value of d is:\", d)"
   ]
  },
  {
   "cell_type": "markdown",
   "metadata": {
    "slideshow": {
     "slide_type": "slide"
    }
   },
   "source": [
    "We could also express this as:"
   ]
  },
  {
   "cell_type": "code",
   "execution_count": 28,
   "metadata": {},
   "outputs": [
    {
     "name": "stdout",
     "output_type": "stream",
     "text": [
      "the value of d is: 1\n",
      "the value of d is: 2.0\n",
      "the value of d is: three\n"
     ]
    }
   ],
   "source": [
    "data = [1, 2.0, \"three\"]\n",
    "\n",
    "for d in data:    \n",
    "    print(\"the value of d is:\", d)"
   ]
  },
  {
   "cell_type": "markdown",
   "metadata": {
    "slideshow": {
     "slide_type": "slide"
    }
   },
   "source": [
    "Iterating backwards over a list can be acheived using the built in `reversed` function."
   ]
  },
  {
   "cell_type": "code",
   "execution_count": 29,
   "metadata": {},
   "outputs": [
    {
     "name": "stdout",
     "output_type": "stream",
     "text": [
      "the value of d is: three\n",
      "the value of d is: 2.0\n",
      "the value of d is: 1\n"
     ]
    }
   ],
   "source": [
    "data = [1, 2.0, \"three\"]\n",
    "\n",
    "for d in reversed(data):    \n",
    "    print(\"the value of d is:\", d)"
   ]
  },
  {
   "cell_type": "markdown",
   "metadata": {
    "slideshow": {
     "slide_type": "subslide"
    }
   },
   "source": [
    "__Try it yourself__\n",
    "\n",
    "\n",
    "In the cell provided in your textbook *iterate* over the list `data = [1, 2.0, \"three\"]`.\n",
    "\n",
    "Each time the code loops:\n",
    "1. print the value of data __cast as a string__ (Seminar 1 Data Types and Operators)\n",
    "1. print the variable type<br>(to demonstrate that the variable has been cast. Note that otherwise the variable appears to remain unchanged)."
   ]
  },
  {
   "cell_type": "code",
   "execution_count": 30,
   "metadata": {},
   "outputs": [],
   "source": [
    "# Iterate over a list and cast each item as a string\n",
    "data = [1, 2.0, \"three\"]"
   ]
  },
  {
   "cell_type": "markdown",
   "metadata": {
    "collapsed": true,
    "slideshow": {
     "slide_type": "slide"
    }
   },
   "source": [
    "<a id='IndexingIteratingLists'></a>\n",
    "## 1.9 Indexing when Iterating over Lists\n",
    "Indexing can be useful when iterating over a list.\n",
    "\n"
   ]
  },
  {
   "cell_type": "markdown",
   "metadata": {
    "slideshow": {
     "slide_type": "-"
    }
   },
   "source": [
    "For example, we can select a range of elements to iterate over:"
   ]
  },
  {
   "cell_type": "code",
   "execution_count": 31,
   "metadata": {},
   "outputs": [
    {
     "name": "stdout",
     "output_type": "stream",
     "text": [
      "name: Quang\n",
      "name: Sam\n",
      "name: Ryo\n"
     ]
    }
   ],
   "source": [
    "lab_group0 = [\"Sara\", \"Mari\", \"Quang\", \"Sam\", \"Ryo\", \"Nao\", \"Takashi\"]\n",
    "\n",
    "for member in lab_group0[2:5]:    \n",
    "    print(\"name:\", member)"
   ]
  },
  {
   "cell_type": "markdown",
   "metadata": {
    "slideshow": {
     "slide_type": "subslide"
    }
   },
   "source": [
    "A third value can used to choose a step size (similar to `range()`).\n",
    "\n",
    "For example, if we want to choose every other lab member we use step size, 2:"
   ]
  },
  {
   "cell_type": "code",
   "execution_count": 32,
   "metadata": {},
   "outputs": [
    {
     "name": "stdout",
     "output_type": "stream",
     "text": [
      "name: Sara\n",
      "name: Quang\n",
      "name: Ryo\n",
      "name: Takashi\n"
     ]
    }
   ],
   "source": [
    "lab_group0 = [\"Sara\", \"Mari\", \"Quang\", \"Sam\", \"Ryo\", \"Nao\", \"Takashi\"]\n",
    "\n",
    "for member in lab_group0[::2]:    \n",
    "    print(\"name:\", member)"
   ]
  },
  {
   "cell_type": "markdown",
   "metadata": {
    "slideshow": {
     "slide_type": "subslide"
    }
   },
   "source": [
    "__Note:__<br>\n",
    "Some data structures that support *iterating* but do not support *indexing*.\n",
    "\n",
    "e.g. dictionaries, which we will learn about later. \n",
    "\n",
    "When possible, it is better to iterate over a list rather than use indexing."
   ]
  },
  {
   "cell_type": "markdown",
   "metadata": {
    "slideshow": {
     "slide_type": "subslide"
    }
   },
   "source": [
    "<a id='enumerate'></a>\n",
    "## 1.10 `enumerate()`\n",
    "The function `enumerate` can be used to return the index of each element.\n",
    "<br>This information is cast as a list to allow us to read it."
   ]
  },
  {
   "cell_type": "code",
   "execution_count": 33,
   "metadata": {
    "slideshow": {
     "slide_type": "-"
    }
   },
   "outputs": [
    {
     "name": "stdout",
     "output_type": "stream",
     "text": [
      "<enumerate object at 0x1060bf240>\n",
      "[(0, 'Sara'), (1, 'Mari'), (2, 'Quang'), (3, 'Sam'), (4, 'Ryo'), (5, 'Nao'), (6, 'Takashi')]\n"
     ]
    }
   ],
   "source": [
    "lab_group0 = [\"Sara\", \"Mari\", \"Quang\", \"Sam\", \"Ryo\", \"Nao\", \"Takashi\"]\n",
    "a = enumerate(lab_group0)\n",
    "b = list(enumerate(lab_group0))\n",
    "print(a)\n",
    "print(b)\n",
    "\n"
   ]
  },
  {
   "cell_type": "code",
   "execution_count": 34,
   "metadata": {
    "slideshow": {
     "slide_type": "subslide"
    }
   },
   "outputs": [
    {
     "name": "stdout",
     "output_type": "stream",
     "text": [
      "[(0, 's'), (1, 't'), (2, 'r'), (3, 'i'), (4, 'n'), (5, 'g')]\n"
     ]
    }
   ],
   "source": [
    "string = \"string\"\n",
    "a = list(enumerate(string))\n",
    "print(a)"
   ]
  },
  {
   "cell_type": "markdown",
   "metadata": {
    "slideshow": {
     "slide_type": "slide"
    }
   },
   "source": [
    "<a id='zip'></a>\n",
    "## 1.11 Iterating Over Multiple Lists Using `zip()`\n",
    "It can be very useful to iterate through multiple lists within the same loop. than one list."
   ]
  },
  {
   "cell_type": "markdown",
   "metadata": {
    "slideshow": {
     "slide_type": "slide"
    }
   },
   "source": [
    "For example if we have a list of group members and a list of their scores for an assignemt, we can print the score that corresponds to each lab member:"
   ]
  },
  {
   "cell_type": "code",
   "execution_count": 35,
   "metadata": {},
   "outputs": [
    {
     "name": "stdout",
     "output_type": "stream",
     "text": [
      "Sara : score = 72\n",
      "Mari : score = 56\n",
      "Quang : score = 65\n",
      "Sam : score = 52\n",
      "Ryo : score = 71\n",
      "Nao : score = 60\n"
     ]
    }
   ],
   "source": [
    "lab_group0 =  [\"Sara\", \"Mari\", \"Quang\", \"Sam\", \"Ryo\", \"Nao\", \"Takashi\"]\n",
    "\n",
    "assignment1 = [72, 56, 65, 52, 71, 60]\n",
    "\n",
    "for member, score in zip(lab_group0, assignment1):    \n",
    "    \n",
    "    print(member, \": score =\", score)"
   ]
  },
  {
   "cell_type": "markdown",
   "metadata": {
    "slideshow": {
     "slide_type": "slide"
    }
   },
   "source": [
    "In this example \n",
    "\n",
    "`member` is the name given to the *current* value from the list `lab_group0`\n",
    "\n",
    "`score` is the names given to the *current* value from the list `assignment1`.  "
   ]
  },
  {
   "cell_type": "markdown",
   "metadata": {
    "slideshow": {
     "slide_type": "slide"
    }
   },
   "source": [
    "\n",
    "We can include any number of lists in `zip`."
   ]
  },
  {
   "cell_type": "markdown",
   "metadata": {
    "slideshow": {
     "slide_type": "subslide"
    }
   },
   "source": [
    "For example it may be useful to print the combined score a lab member has achieved for all assigments this semester:"
   ]
  },
  {
   "cell_type": "code",
   "execution_count": 36,
   "metadata": {},
   "outputs": [
    {
     "name": "stdout",
     "output_type": "stream",
     "text": [
      "Sara : score = 195\n",
      "Mari : score = 188\n",
      "Quang : score = 208\n",
      "Sam : score = 173\n",
      "Ryo : score = 194\n",
      "Nao : score = 186\n"
     ]
    }
   ],
   "source": [
    "lab_group0 =  [\"Sara\", \"Mari\", \"Quang\", \"Sam\", \"Ryo\", \"Nao\", \"Takashi\"]\n",
    "\n",
    "assignment1 = [72, 56, 65, 52, 71, 60]\n",
    "assignment2 = [52, 61, 73, 55, 62, 55]\n",
    "assignment3 = [71, 71, 70, 66, 61, 71]\n",
    "\n",
    "for member, score1, score2, score3 in zip(lab_group0, \n",
    "                                          assignment1, \n",
    "                                          assignment2, \n",
    "                                          assignment3):    \n",
    "    print(member, \": score =\", (score1 + score2 + score3))"
   ]
  },
  {
   "cell_type": "markdown",
   "metadata": {
    "slideshow": {
     "slide_type": "slide"
    }
   },
   "source": [
    "<a id='Libraries'></a>\n",
    "# 2. Libraries\n",
    "\n",
    "<br> &emsp;&emsp; <a href='#StandardLibrary'>__2.1 The Standard Library__</a> \n",
    "<br> &emsp;&emsp; <a href='#Packages'>__2.2 Packages__ </a>  \n",
    "&emsp;&emsp; <a href='#Namespaces'>__2.3 Namespaces__</a> \n",
    "<br> &emsp;&emsp; <a href='#ImportingFunction'>__2.4 Importing a Function__</a> \n",
    "\n",
    "   "
   ]
  },
  {
   "cell_type": "markdown",
   "metadata": {
    "slideshow": {
     "slide_type": "slide"
    }
   },
   "source": [
    "<a id='StandardLibrary'></a>\n",
    "## 2.1 The Standard Library\n",
    "\n",
    "Python has a large standard library. \n",
    "\n",
    "e.g. `print()` takes the __input__ in the parentheses and __outputs__ a visible representation.\n",
    "\n",
    "They are listed on the Python website:\n",
    "https://docs.python.org/3/library/functions.html"
   ]
  },
  {
   "cell_type": "markdown",
   "metadata": {
    "slideshow": {
     "slide_type": "slide"
    }
   },
   "source": [
    "__Function:__\n",
    "<br>A piece of code that is called by name. \n",
    "<br>It can be *passed* data to operate on (i.e., the parameters) and can optionally *return* data (the return value). \n",
    "\n",
    "__Example__\n",
    "```Python\n",
    "sorted([5, 2, 3, 1, 4])\n",
    "```"
   ]
  },
  {
   "cell_type": "markdown",
   "metadata": {
    "slideshow": {
     "slide_type": "slide"
    }
   },
   "source": [
    "__Method:__\n",
    "<br>A method is a piece of code that is called by name.\n",
    "<br>It is already associated with an object type (e.g. a list) so it is expressed after a . dot at the end of the object name. \n",
    "<br>It mostly behaves the same as a function  except:  \n",
    "- It is automatically passed for the object which it is attached to.\n",
    "- (It can only operate on objects that contain the method. It can operate on data insde of that class.)  \n",
    "\n",
    "__Example__\n",
    "```Python\n",
    "a = [1, 5, 2, 7, 5]\n",
    "a.sort()\n",
    "```"
   ]
  },
  {
   "cell_type": "markdown",
   "metadata": {
    "slideshow": {
     "slide_type": "slide"
    }
   },
   "source": [
    "<a id='Packages'></a>\n",
    "## 2.2 Packages\n",
    "\n",
    "The standard library tools are available in any Python environment.\n",
    "\n",
    "More specialised libraries, called packages, are available for more specific tasks \n",
    "<br>e.g. solving trigonometric functions.\n",
    "\n",
    "Packages contain functions and constants.  \n",
    "\n",
    "We install the packages to use them.   \n",
    "\n"
   ]
  },
  {
   "cell_type": "markdown",
   "metadata": {
    "slideshow": {
     "slide_type": "slide"
    }
   },
   "source": [
    "Two widely used packages for mathematics, science and engineeirng are `NumPy` and `SciPy`.\n",
    "\n",
    "These are already installed as part of Anaconda.\n",
    "\n",
    "A package is a collection of Python modules: \n",
    "- a __module__ is a single Python file\n",
    "- a __package__ is a directory of Python modules.<br>(It contains an __init__.py file, to distinguish it from folders that are not libraries)."
   ]
  },
  {
   "cell_type": "markdown",
   "metadata": {
    "slideshow": {
     "slide_type": "slide"
    }
   },
   "source": [
    "The files that are stored on your computer when Pygame is installed:\n",
    "<br>https://github.com/pygame/pygame"
   ]
  },
  {
   "cell_type": "markdown",
   "metadata": {},
   "source": [
    "<a id='ImportingPackage'></a>\n",
    "### Importing a Package\n",
    "\n",
    "To use an installed package, we  simply `import` it.\n",
    "\n",
    "We only need to import the package once.\n",
    "<br>The `import` statement must appear before the use of the package in the code so all packages are usually imported at the start of the program. \n",
    "\n",
    "        import numpy \n",
    "\n",
    "We can then use variable and functions defined within that package by prefixing them with the name of the package:"
   ]
  },
  {
   "cell_type": "code",
   "execution_count": 37,
   "metadata": {},
   "outputs": [],
   "source": [
    "import numpy "
   ]
  },
  {
   "cell_type": "markdown",
   "metadata": {},
   "source": [
    "After this, any constant, variable or function from the package can be used by prefixing it with the name of the package:\n",
    "\n",
    "Any constant in `numpy` can be called as:\n",
    "\n",
    "        `numpy.constant`.\n",
    "        \n",
    "\n",
    "Any function in `numpy` can be called as:\n",
    "\n",
    "        `numpy.function()`\n",
    "        \n",
    "\n",
    "\n"
   ]
  },
  {
   "cell_type": "code",
   "execution_count": 38,
   "metadata": {
    "slideshow": {
     "slide_type": "-"
    }
   },
   "outputs": [
    {
     "name": "stdout",
     "output_type": "stream",
     "text": [
      "3.141592653589793\n",
      "0.5403023058681398\n",
      "2.718281828459045\n"
     ]
    }
   ],
   "source": [
    "# pi\n",
    "print(numpy.pi)\n",
    "\n",
    "x = 1\n",
    "\n",
    "# Trigonometric functions e.g. cosine\n",
    "y = numpy.cos(x)\n",
    "print(y)\n",
    "\n",
    "# Exponential function\n",
    "print(numpy.exp(1))"
   ]
  },
  {
   "cell_type": "markdown",
   "metadata": {
    "slideshow": {
     "slide_type": "slide"
    }
   },
   "source": [
    "There are a many mathematical functions available. <br>\n",
    "https://docs.scipy.org/doc/numpy-1.13.0/reference/routines.math.html"
   ]
  },
  {
   "cell_type": "markdown",
   "metadata": {
    "slideshow": {
     "slide_type": "slide"
    }
   },
   "source": [
    "We can change the name of a package e.g. to keep our code short and neat.\n",
    "\n",
    "Using the __`as`__ keyword:"
   ]
  },
  {
   "cell_type": "code",
   "execution_count": 39,
   "metadata": {
    "slideshow": {
     "slide_type": "-"
    }
   },
   "outputs": [
    {
     "name": "stdout",
     "output_type": "stream",
     "text": [
      "2.302585092994046\n",
      "1.0\n"
     ]
    }
   ],
   "source": [
    "import numpy as np\n",
    "\n",
    "# Natural logarithmic function\n",
    "print(np.log(10))\n",
    "\n",
    "# Base 10 logarithmic function\n",
    "print(np.log10(10))"
   ]
  },
  {
   "cell_type": "markdown",
   "metadata": {
    "collapsed": true,
    "slideshow": {
     "slide_type": "subslide"
    }
   },
   "source": [
    "<a id='Namespaces'></a>\n",
    "## 2.3 Namespaces\n",
    "<br>By prefixing `cos` with `np`, we are using a *namespace* (which in this case is `np`).\n",
    "\n"
   ]
  },
  {
   "cell_type": "markdown",
   "metadata": {
    "slideshow": {
     "slide_type": "subslide"
    }
   },
   "source": [
    "The namespace shows we want to use the `cos` function from the Numpy package.\n",
    "\n",
    "If `cos` appears in more than one package we import, then there will be more than one `cos` function available.\n",
    "\n",
    "We must make it clear which `cos` we want to use. \n",
    "\n",
    "\n"
   ]
  },
  {
   "cell_type": "markdown",
   "metadata": {
    "slideshow": {
     "slide_type": "subslide"
    }
   },
   "source": [
    "Often, functions with the same name, from different packages, will use a different algorithms for performing the same or similar operation. \n",
    "\n",
    "They may vary in speed and accuracy. \n",
    "\n",
    "In some applications we might need an accurate method for computing the square root, for example, and the speed of the program may not be important. For other applications we might need speed with an allowable compromise on accuracy.\n"
   ]
  },
  {
   "cell_type": "markdown",
   "metadata": {
    "slideshow": {
     "slide_type": "subslide"
    }
   },
   "source": [
    "Below are two functions, both named `sqrt`. \n",
    "\n",
    "Both functions compute the square root of the input.\n",
    "\n",
    " - `math.sqrt`, from the package, `math`, gives an error if the input is a negative number. It does not support complex numbers.\n",
    " - `cmath.sqrt`, from the package, `cmath`, supports complex numbers.\n"
   ]
  },
  {
   "cell_type": "code",
   "execution_count": 40,
   "metadata": {
    "slideshow": {
     "slide_type": "subslide"
    }
   },
   "outputs": [
    {
     "name": "stdout",
     "output_type": "stream",
     "text": [
      "2.0\n"
     ]
    }
   ],
   "source": [
    "import math\n",
    "import cmath\n",
    "print(math.sqrt(4))\n",
    "#print(math.sqrt-5)\n",
    "#print(cmath.sqrt(-5))"
   ]
  },
  {
   "cell_type": "markdown",
   "metadata": {
    "slideshow": {
     "slide_type": "subslide"
    }
   },
   "source": [
    "Two developers collaborating on the same program might choose the same name for two functions that perform similar tasks. \n",
    "\n",
    "If these functions are in different modules, there will be no name clash since the module name provides a 'namespace'. "
   ]
  },
  {
   "cell_type": "markdown",
   "metadata": {
    "slideshow": {
     "slide_type": "subslide"
    }
   },
   "source": [
    "<a id='ImportingFunction'></a>\n",
    "## 2.4 Importing a Function\n",
    "Single functions can be imported without importing the entire package e.g. use:\n",
    "\n",
    "        from numpy import cos\n",
    "\n",
    "instead of:\n",
    "\n",
    "        import numpy \n",
    "\n",
    "After this you call the function without the numpy prefix: "
   ]
  },
  {
   "cell_type": "code",
   "execution_count": 41,
   "metadata": {
    "slideshow": {
     "slide_type": "-"
    }
   },
   "outputs": [
    {
     "data": {
      "text/plain": [
       "0.5403023058681398"
      ]
     },
     "execution_count": 41,
     "metadata": {},
     "output_type": "execute_result"
    }
   ],
   "source": [
    "from numpy import cos\n",
    "\n",
    "cos(x)"
   ]
  },
  {
   "cell_type": "code",
   "execution_count": 42,
   "metadata": {
    "slideshow": {
     "slide_type": "-"
    }
   },
   "outputs": [
    {
     "data": {
      "text/plain": [
       "0.5403023058681398"
      ]
     },
     "execution_count": 42,
     "metadata": {},
     "output_type": "execute_result"
    }
   ],
   "source": [
    "from numpy import cos\n",
    "\n",
    "cos(x)"
   ]
  },
  {
   "cell_type": "code",
   "execution_count": 43,
   "metadata": {
    "slideshow": {
     "slide_type": "-"
    }
   },
   "outputs": [
    {
     "data": {
      "text/plain": [
       "0.5403023058681398"
      ]
     },
     "execution_count": 43,
     "metadata": {},
     "output_type": "execute_result"
    }
   ],
   "source": [
    "from numpy import cos\n",
    "\n",
    "cos(x)"
   ]
  },
  {
   "cell_type": "markdown",
   "metadata": {
    "slideshow": {
     "slide_type": "subslide"
    }
   },
   "source": [
    "Be careful when doing this as there can be only one definition of each function.\n",
    "In the case that a function name is already defined, it will be overwritten by a more recent definition. "
   ]
  },
  {
   "cell_type": "code",
   "execution_count": 44,
   "metadata": {
    "slideshow": {
     "slide_type": "-"
    }
   },
   "outputs": [
    {
     "name": "stdout",
     "output_type": "stream",
     "text": [
      "1j\n"
     ]
    }
   ],
   "source": [
    "from cmath import sqrt\n",
    "print(sqrt(-1))\n",
    "from math import sqrt\n",
    "#print(sqrt(-1))"
   ]
  },
  {
   "cell_type": "markdown",
   "metadata": {
    "slideshow": {
     "slide_type": "subslide"
    }
   },
   "source": [
    "A potential solution to this is to rename individual functions or constants when we import them:"
   ]
  },
  {
   "cell_type": "code",
   "execution_count": 45,
   "metadata": {
    "slideshow": {
     "slide_type": "-"
    }
   },
   "outputs": [
    {
     "data": {
      "text/plain": [
       "0.5403023058681398"
      ]
     },
     "execution_count": 45,
     "metadata": {},
     "output_type": "execute_result"
    }
   ],
   "source": [
    "from numpy import cos as cosine\n",
    "\n",
    "cosine(x)"
   ]
  },
  {
   "cell_type": "code",
   "execution_count": 46,
   "metadata": {},
   "outputs": [
    {
     "data": {
      "text/plain": [
       "3.141592653589793"
      ]
     },
     "execution_count": 46,
     "metadata": {},
     "output_type": "execute_result"
    }
   ],
   "source": [
    "from numpy import pi as pi\n",
    "pi"
   ]
  },
  {
   "cell_type": "markdown",
   "metadata": {
    "slideshow": {
     "slide_type": "subslide"
    }
   },
   "source": [
    "This can be useful when importing functions from different modules:"
   ]
  },
  {
   "cell_type": "code",
   "execution_count": 47,
   "metadata": {},
   "outputs": [
    {
     "name": "stdout",
     "output_type": "stream",
     "text": [
      "2.0\n",
      "1j\n"
     ]
    }
   ],
   "source": [
    "from math import sqrt as square_root\n",
    "from cmath import sqrt as complex_square_root\n",
    "\n",
    "print(square_root(4))\n",
    "print(complex_square_root(-1))"
   ]
  },
  {
   "cell_type": "markdown",
   "metadata": {
    "slideshow": {
     "slide_type": "subslide"
    }
   },
   "source": [
    "Function names should be chosen wisely.\n",
    " - relevant\n",
    " - concise"
   ]
  },
  {
   "cell_type": "markdown",
   "metadata": {
    "slideshow": {
     "slide_type": "slide"
    }
   },
   "source": [
    "<a id='numpyarray'></a>\n",
    "## The `numpy array`\n",
    "<br> &emsp;&emsp; <a href='#MultiDimensionalArrays'>3.1 Multi-Dimensional Arrays</a> \n",
    "<br> &emsp;&emsp; <a href='#CreatingNumpyArray'>3.2 Creating a `numpy array`</a> \n",
    "<br> &emsp;&emsp; <a href='#IndexingMultiDimensionalArrays'>3.3 Indexing into Multi-Dimensional Arrays</a> \n",
    "<br> &emsp;&emsp; <a href='#BooleanArrayIndexing'>3.4 Boolean Array Indexing</a> \n",
    "<br> &emsp;&emsp; <a href='#IteratingMultiDimensionalArrays'>3.5 Iterating over Multi-Dimensional Arrays</a> \n",
    "<br> &emsp;&emsp; <a href='#ManipulatingArrays'>3.6 Manipulating Arrays</a>  \n",
    "&emsp;&emsp; <a href='#StackingFunctions'>3.7 Stacking Functions</a> \n",
    "<br> &emsp;&emsp; <a href='#ImportingData'>3.8 Importing Data from  a .csv File to a `numpy array`</a> \n",
    "\n",
    "A numpy array is a grid of values, *all of the same type*.\n",
    "\n"
   ]
  },
  {
   "cell_type": "markdown",
   "metadata": {
    "slideshow": {
     "slide_type": "slide"
    }
   },
   "source": [
    "### Why do we need another data structure?\n",
    "\n",
    "Python lists hold 'arrays' of data. \n",
    "\n",
    "Lists are very flexible. e.g. holding mixed data type.\n",
    "\n",
    "There is a trade off between flexibility and performance e.g. speed."
   ]
  },
  {
   "cell_type": "markdown",
   "metadata": {
    "slideshow": {
     "slide_type": "slide"
    }
   },
   "source": [
    "Science engineering and mathematics problems often involve large amounts of data and numerous operations. \n",
    "\n",
    "We therefore use specialised functions and data structures for numerical computation."
   ]
  },
  {
   "cell_type": "markdown",
   "metadata": {
    "slideshow": {
     "slide_type": "slide"
    }
   },
   "source": [
    "To create an array we use the Numpy `np.array()` function.\n",
    "\n",
    "We can create an array in a number of ways.\n",
    "\n",
    "For example we can convert a list to an array. "
   ]
  },
  {
   "cell_type": "code",
   "execution_count": 48,
   "metadata": {
    "slideshow": {
     "slide_type": "-"
    }
   },
   "outputs": [
    {
     "name": "stdout",
     "output_type": "stream",
     "text": [
      "<class 'list'>\n",
      "<class 'numpy.ndarray'>\n",
      "float64\n",
      "[4.0, 5, 6.0, 4.0, 5, 6.0]\n",
      "[ 8. 10. 12.]\n"
     ]
    }
   ],
   "source": [
    "c = [4.0, 5, 6.0]\n",
    "\n",
    "d = np.array(c) \n",
    "\n",
    "print(type(c))\n",
    "print(type(d))\n",
    "print(d.dtype)\n",
    "\n",
    "print(c + c)\n",
    "print(d + d)"
   ]
  },
  {
   "cell_type": "markdown",
   "metadata": {
    "slideshow": {
     "slide_type": "-"
    }
   },
   "source": [
    "The method `dtype` tells us the type of the data contained in the array.\n",
    "\n"
   ]
  },
  {
   "cell_type": "markdown",
   "metadata": {
    "slideshow": {
     "slide_type": "slide"
    }
   },
   "source": [
    "<a id='MultiDimensionalArrays'></a>\n",
    "## 3.1 Multi-Dimensional Arrays\n",
    "\n",
    "\n",
    "\n",
    "\n",
    "\n",
    "\n",
    "Unlike the data types we have studied so far, arrays can have multiple dimensions.\n",
    "\n",
    "__`shape`:__ a *tuple* of *integers* giving the *size* of the array along each *dimension*.\n",
    "\n",
    "__`tuple`:__ A data structure from which you cannot add or remove elements without creating a new tuple (e.g. connecting two tuples). <br>You cannot change the value of a single tuple element e.g. by indexing. <br>A tuple is created by enclosing a set of numbers in () parentheses. \n",
    "\n",
    "We define the dimensions of an array using square brackets"
   ]
  },
  {
   "cell_type": "code",
   "execution_count": 49,
   "metadata": {
    "slideshow": {
     "slide_type": "slide"
    }
   },
   "outputs": [
    {
     "name": "stdout",
     "output_type": "stream",
     "text": [
      "(3,)\n",
      "(2, 3)\n"
     ]
    }
   ],
   "source": [
    "# 1-dimensional array\n",
    "a = np.array([1, 2, 3])\n",
    "\n",
    "# 2-dimensional array\n",
    "b = np.array([[1, 2, 3], [4, 5, 6]])\n",
    "\n",
    "b = np.array([[1, 2, 3], \n",
    "              [4, 5, 6]])\n",
    "\n",
    "print(a.shape)\n",
    "print(b.shape)\n"
   ]
  },
  {
   "cell_type": "code",
   "execution_count": 50,
   "metadata": {
    "slideshow": {
     "slide_type": "subslide"
    }
   },
   "outputs": [
    {
     "name": "stdout",
     "output_type": "stream",
     "text": [
      "(1, 3)\n",
      "(2, 1)\n"
     ]
    }
   ],
   "source": [
    "# 2-dimensional array\n",
    "c = np.array([[1, 2, 3]])\n",
    "\n",
    "# 2-dimensional array\n",
    "d = np.array([[1], \n",
    "              [4]])\n",
    "\n",
    "print(c.shape)\n",
    "print(d.shape)"
   ]
  },
  {
   "cell_type": "code",
   "execution_count": 51,
   "metadata": {
    "slideshow": {
     "slide_type": "subslide"
    }
   },
   "outputs": [
    {
     "name": "stdout",
     "output_type": "stream",
     "text": [
      "(2, 2, 2)\n",
      "(3, 2, 2)\n"
     ]
    }
   ],
   "source": [
    "# 3-dimensional array\n",
    "\n",
    "c = np.array(\n",
    "    [[[1, 1],\n",
    "      [1, 1]],\n",
    "    \n",
    "     [[1, 1],\n",
    "      [1, 1]]])\n",
    "\n",
    "print(c.shape)\n",
    "\n",
    "c = np.array(\n",
    "    [[[1, 1],\n",
    "      [1, 1]],\n",
    "     \n",
    "     [[1, 1],\n",
    "      [1, 1]],\n",
    "    \n",
    "     [[1, 1],\n",
    "      [1, 1]]])\n",
    "\n",
    "print(c.shape)"
   ]
  },
  {
   "cell_type": "code",
   "execution_count": 52,
   "metadata": {
    "slideshow": {
     "slide_type": "subslide"
    }
   },
   "outputs": [
    {
     "name": "stdout",
     "output_type": "stream",
     "text": [
      "(2, 2, 2)\n",
      "(2, 2, 2, 2)\n"
     ]
    }
   ],
   "source": [
    "# 3-dimensional array\n",
    "\n",
    "c = np.array(\n",
    "    [[[1, 1],\n",
    "      [1, 1]],\n",
    "    \n",
    "     [[1, 1],\n",
    "      [1, 1]]])\n",
    "\n",
    "# 4-dimensional array\n",
    "d = np.array(\n",
    "    [[[[1, 1],\n",
    "       [1, 1]],\n",
    "      \n",
    "      [[1, 1],\n",
    "       [1, 1]]],\n",
    "\n",
    "\n",
    "      [[[1, 1],\n",
    "       [1, 1]],\n",
    "      \n",
    "      [[1, 1],\n",
    "       [1, 1]]]])\n",
    "\n",
    "print(c.shape)\n",
    "print(d.shape)"
   ]
  },
  {
   "cell_type": "markdown",
   "metadata": {
    "slideshow": {
     "slide_type": "slide"
    }
   },
   "source": [
    "<a name=\"CreatingNumpyArray\"></a>\n",
    "## 3.2 Creating a `numpy array`\n",
    "\n",
    "\n",
    "\n",
    "We don't always have to manually create the individual elements of an array.\n",
    "\n",
    "There are several other ways to do this.\n",
    "\n",
    "For example, if you don’t know what data you want to put in your array you can initialise it with placeholders and load the data you want to use later. \n"
   ]
  },
  {
   "cell_type": "code",
   "execution_count": 53,
   "metadata": {
    "slideshow": {
     "slide_type": "slide"
    }
   },
   "outputs": [
    {
     "name": "stdout",
     "output_type": "stream",
     "text": [
      "[0. 0. 0. 0. 0.]\n",
      "\n",
      "[[0. 0.]\n",
      " [0. 0.]]\n"
     ]
    }
   ],
   "source": [
    "# Create an array of all zeros\n",
    "# The zeros() function argument is the shape.\n",
    "# Shape: tuple of integers giving the size along each dimension.\n",
    "\n",
    "a = np.zeros(5)\n",
    "print(a)\n",
    "\n",
    "print()\n",
    "\n",
    "a = np.zeros((2,2))   \n",
    "print(a)  "
   ]
  },
  {
   "cell_type": "code",
   "execution_count": 54,
   "metadata": {
    "slideshow": {
     "slide_type": "slide"
    }
   },
   "outputs": [
    {
     "name": "stdout",
     "output_type": "stream",
     "text": [
      "[1. 1. 1. 1. 1.]\n",
      "\n",
      "[[1. 1. 1. 1.]]\n"
     ]
    }
   ],
   "source": [
    "# Create an array of all ones\n",
    "\n",
    "b = np.ones(5)\n",
    "print(b)\n",
    "\n",
    "print()\n",
    "\n",
    "b = np.ones((1, 4))    \n",
    "print(b) \n"
   ]
  },
  {
   "cell_type": "code",
   "execution_count": 55,
   "metadata": {
    "slideshow": {
     "slide_type": "subslide"
    }
   },
   "outputs": [
    {
     "name": "stdout",
     "output_type": "stream",
     "text": [
      "[[3]]\n",
      "(1, 1)\n",
      "\n",
      "[[4 4]\n",
      " [4 4]]\n"
     ]
    }
   ],
   "source": [
    "# Create an array of elements with the same value \n",
    "# The full() function arguments are\n",
    "# 1) Shape: tuple of integers giving the size along each dimension.\n",
    "# 2) The constant value\n",
    "\n",
    "y = np.full((1,1), 3)\n",
    "print(y)\n",
    "print(y.shape)\n",
    "\n",
    "print()\n",
    "\n",
    "y = np.full((2,2), 4)   \n",
    "print(y)  "
   ]
  },
  {
   "cell_type": "code",
   "execution_count": 56,
   "metadata": {
    "slideshow": {
     "slide_type": "subslide"
    }
   },
   "outputs": [
    {
     "name": "stdout",
     "output_type": "stream",
     "text": [
      "[5 6 7 8 9]\n",
      "\n",
      "[5 7 9]\n"
     ]
    }
   ],
   "source": [
    "# Create a 1D array of evenly spaced values\n",
    "# The arange() function arguments are the same as the range() function. \n",
    "# Shape: tuple of integers giving the size along each dimension.\n",
    "\n",
    "z = np.arange(5,10)\n",
    "print(z)\n",
    "\n",
    "print()\n",
    "\n",
    "z = np.arange(5, 10, 2)   \n",
    "print(z)  "
   ]
  },
  {
   "cell_type": "code",
   "execution_count": 57,
   "metadata": {
    "slideshow": {
     "slide_type": "subslide"
    }
   },
   "outputs": [
    {
     "name": "stdout",
     "output_type": "stream",
     "text": [
      "[-4. -2.  0.  2.  4.]\n"
     ]
    }
   ],
   "source": [
    "# Create a 1D array of evenly spaced values\n",
    "# The linspace() function arguments are\n",
    "# The lower limit of the range of values\n",
    "# The upper limit of the range of values (inclusive)\n",
    "# The desired number of equally spaced values\n",
    "\n",
    "z = np.linspace(-4, 4, 5)\n",
    "print(z) "
   ]
  },
  {
   "cell_type": "code",
   "execution_count": 58,
   "metadata": {
    "scrolled": true,
    "slideshow": {
     "slide_type": "subslide"
    }
   },
   "outputs": [
    {
     "name": "stdout",
     "output_type": "stream",
     "text": [
      "[4. 2. 2. 4.]\n",
      "\n",
      "[[0.00000000e+000 8.23153977e-067 1.51903910e-047 4.66315783e-033]\n",
      " [4.79582321e-037 1.00441435e-042 2.94879474e+179 9.43693933e+164]\n",
      " [1.33689898e+165 0.00000000e+000 1.28822975e-231 1.28822975e-231]\n",
      " [1.28822975e-231 1.28822975e-231 3.45845952e-323 0.00000000e+000]]\n"
     ]
    }
   ],
   "source": [
    "# Create an empty matrix\n",
    "# The empty() function argument is the shape.\n",
    "# Shape: tuple of integers giving the size along each dimension.\n",
    "import numpy as np\n",
    "x = np.empty((4))\n",
    "print(x)\n",
    "\n",
    "print()\n",
    "\n",
    "x = np.empty((4,4))\n",
    "print(x)"
   ]
  },
  {
   "cell_type": "code",
   "execution_count": 59,
   "metadata": {
    "slideshow": {
     "slide_type": "subslide"
    }
   },
   "outputs": [
    {
     "name": "stdout",
     "output_type": "stream",
     "text": [
      "[8 8 8 8 8 8]\n",
      "\n",
      "[[[7 7]\n",
      "  [7 7]]\n",
      "\n",
      " [[7 7]\n",
      "  [7 7]]]\n"
     ]
    }
   ],
   "source": [
    "# Create a constant array\n",
    "# The second function argument is the constant value\n",
    "\n",
    "c = np.full(6, 8)\n",
    "print(c)\n",
    "\n",
    "print()\n",
    "\n",
    "c = np.full((2,2,2), 7)  \n",
    "print(c)               \n"
   ]
  },
  {
   "cell_type": "markdown",
   "metadata": {
    "slideshow": {
     "slide_type": "slide"
    }
   },
   "source": [
    "<a id='IndexingMultiDimensionalArrays'></a>\n",
    "## 3.3 Indexing into Multi-Dimensional Arrays\n",
    "\n",
    "\n",
    "\n",
    "We can index into an array exactly the same way as the other data structures we have studied."
   ]
  },
  {
   "cell_type": "code",
   "execution_count": 60,
   "metadata": {
    "slideshow": {
     "slide_type": "-"
    }
   },
   "outputs": [
    {
     "name": "stdout",
     "output_type": "stream",
     "text": [
      "5\n",
      "[3 4 5]\n"
     ]
    }
   ],
   "source": [
    "x = np.array([1, 2, 3, 4, 5])\n",
    "\n",
    "# Select a single element\n",
    "print(x[4])\n",
    "\n",
    "# Select elements from 2 to the end\n",
    "print(x[2:])"
   ]
  },
  {
   "cell_type": "markdown",
   "metadata": {
    "slideshow": {
     "slide_type": "slide"
    }
   },
   "source": [
    "For an n-dimensional (nD) matrix we need n index values to address an element or range of elements.\n",
    "\n",
    "Example: The index of a 2D array is specified with two values:\n",
    "- first the row index\n",
    "- then the column index.\n",
    "\n",
    "Note the order in which dimensions are addressed."
   ]
  },
  {
   "cell_type": "code",
   "execution_count": 61,
   "metadata": {
    "slideshow": {
     "slide_type": "slide"
    }
   },
   "outputs": [
    {
     "name": "stdout",
     "output_type": "stream",
     "text": [
      "6\n",
      "[[4 5]]\n"
     ]
    }
   ],
   "source": [
    "# 2 dimensional array\n",
    "\n",
    "y = np.array([[1, 2, 3], \n",
    "              [4, 5, 6]])\n",
    "\n",
    "\n",
    "# Select a single element\n",
    "print(y[1,2])\n",
    "\n",
    "# Select elements that are both in rows 1 to the end AND columns 0 to 2 \n",
    "print(y[1:, 0:2])"
   ]
  },
  {
   "cell_type": "markdown",
   "metadata": {
    "slideshow": {
     "slide_type": "slide"
    }
   },
   "source": [
    "We can address elements by selecting a range with a step: \n",
    "\n",
    "For example the index:\n",
    "\n",
    "`z[0, 0:]`\n",
    "\n",
    "selects every element of row 0 in array, `z`\n",
    "\n",
    "The index:\n",
    "\n",
    "`z[0, 0::2]`\n",
    "\n",
    "selects every *other* element of row 0 in array, `z`"
   ]
  },
  {
   "cell_type": "code",
   "execution_count": 62,
   "metadata": {
    "slideshow": {
     "slide_type": "subslide"
    }
   },
   "outputs": [
    {
     "name": "stdout",
     "output_type": "stream",
     "text": [
      "[[10. 10. 10. 10. 10. 10. 10. 10.]\n",
      " [10.  0. 10.  0. 10.  0. 10.  0.]\n",
      " [ 0.  0.  0.  0.  0.  0.  0.  0.]\n",
      " [ 0.  0.  0.  0.  0.  0.  0.  0.]]\n"
     ]
    }
   ],
   "source": [
    "# 2 dimensional array\n",
    "\n",
    "z = np.zeros((4,8))\n",
    "\n",
    "# Change every element of row 0\n",
    "z[0, 0:] = 10\n",
    "\n",
    "# Change every other element of row 1\n",
    "z[1, 0::2] = 10\n",
    "\n",
    "print(z)"
   ]
  },
  {
   "cell_type": "code",
   "execution_count": 63,
   "metadata": {
    "slideshow": {
     "slide_type": "subslide"
    }
   },
   "outputs": [
    {
     "name": "stdout",
     "output_type": "stream",
     "text": [
      "[[ 0.  0.  0.  0.  0.  0.  0.  0.]\n",
      " [ 0.  0.  0.  0.  0.  0.  0.  0.]\n",
      " [ 0.  0.  0.  0. 10. 10. 10. 10.]\n",
      " [ 0.  0. 10.  0. 10.  0. 10.  0.]]\n"
     ]
    }
   ],
   "source": [
    "z = np.zeros((4,8))\n",
    "\n",
    "# Change the last 4 elements of row 2, in negative direction\n",
    "# You MUST include a step to count in the negative direction\n",
    "z[2, -1:-5:-1] = 10\n",
    "\n",
    "# Change every other element of the last 6 elements of row 3\n",
    "# in negative direction\n",
    "z[3, -2:-7:-2] = 10\n",
    "\n",
    "print(z)"
   ]
  },
  {
   "cell_type": "code",
   "execution_count": 64,
   "metadata": {
    "slideshow": {
     "slide_type": "subslide"
    }
   },
   "outputs": [
    {
     "name": "stdout",
     "output_type": "stream",
     "text": [
      "8\n"
     ]
    }
   ],
   "source": [
    "# 3-dimensional array\n",
    "\n",
    "c = np.array(\n",
    "    [[[2, 1, 4],\n",
    "      [2, 6, 8]],\n",
    "    \n",
    "     [[0, 1, 5],\n",
    "      [7, 8, 9]]])\n",
    "\n",
    "print(c[0, 1, 2])\n",
    "\n"
   ]
  },
  {
   "cell_type": "markdown",
   "metadata": {
    "slideshow": {
     "slide_type": "subslide"
    }
   },
   "source": [
    "Where we want to select all elements in one dimension we can use :\n",
    "\n",
    "__Exception__: If it is the last element , we can omit it. "
   ]
  },
  {
   "cell_type": "code",
   "execution_count": 65,
   "metadata": {
    "slideshow": {
     "slide_type": "subslide"
    }
   },
   "outputs": [
    {
     "name": "stdout",
     "output_type": "stream",
     "text": [
      "[2 6 8]\n",
      "[1 6]\n"
     ]
    }
   ],
   "source": [
    "print(c[0, 1])\n",
    "\n",
    "print(c[0, :, 1])"
   ]
  },
  {
   "cell_type": "markdown",
   "metadata": {
    "slideshow": {
     "slide_type": "subslide"
    }
   },
   "source": [
    "<a name=\"BooleanArrayIndexing\"></a>\n",
    "## 3.4 Boolean Array Indexing\n",
    "\n",
    "\n",
    "\n",
    "\n",
    "Recall that we can use *conditional operators* to check the value of a single variable against a condition.\n",
    "\n",
    "The value returned is a Boolean True or False value.\n"
   ]
  },
  {
   "cell_type": "code",
   "execution_count": 66,
   "metadata": {
    "slideshow": {
     "slide_type": "subslide"
    }
   },
   "outputs": [
    {
     "name": "stdout",
     "output_type": "stream",
     "text": [
      "a < 2: False\n",
      "a > 2: True\n"
     ]
    }
   ],
   "source": [
    "a = 4\n",
    "print('a < 2:', a < 2)\n",
    "print('a > 2:', a > 2)"
   ]
  },
  {
   "cell_type": "markdown",
   "metadata": {
    "slideshow": {
     "slide_type": "subslide"
    }
   },
   "source": [
    "If we instead use *conditional operators* to check the value of an array against a condition.\n",
    "\n",
    "The value returned is an *array* of Boolean True or False values."
   ]
  },
  {
   "cell_type": "code",
   "execution_count": 67,
   "metadata": {
    "slideshow": {
     "slide_type": "subslide"
    }
   },
   "outputs": [
    {
     "name": "stdout",
     "output_type": "stream",
     "text": [
      "[[False False]\n",
      " [ True  True]\n",
      " [ True  True]]\n"
     ]
    }
   ],
   "source": [
    "a = np.array([[1,2], \n",
    "              [3, 4], \n",
    "              [5, 6]])\n",
    "\n",
    "idx = a > 2\n",
    "\n",
    "print(idx)\n"
   ]
  },
  {
   "cell_type": "markdown",
   "metadata": {
    "slideshow": {
     "slide_type": "subslide"
    }
   },
   "source": [
    "A particular elements of an array can be are specified by using a boolean array as an index. \n",
    "\n",
    "Only the values of the array where the boolean array is `True` are selected. "
   ]
  },
  {
   "cell_type": "markdown",
   "metadata": {
    "slideshow": {
     "slide_type": "subslide"
    }
   },
   "source": [
    "The varaible `idx` can therefore now be used as the index to select all elements greater than 2."
   ]
  },
  {
   "cell_type": "code",
   "execution_count": 68,
   "metadata": {
    "slideshow": {
     "slide_type": "subslide"
    }
   },
   "outputs": [
    {
     "name": "stdout",
     "output_type": "stream",
     "text": [
      "[3 4 5 6]\n"
     ]
    }
   ],
   "source": [
    "print(a[idx])   "
   ]
  },
  {
   "cell_type": "markdown",
   "metadata": {
    "slideshow": {
     "slide_type": "subslide"
    }
   },
   "source": [
    "To do the whole process in a single step"
   ]
  },
  {
   "cell_type": "code",
   "execution_count": 69,
   "metadata": {
    "slideshow": {
     "slide_type": "subslide"
    }
   },
   "outputs": [
    {
     "name": "stdout",
     "output_type": "stream",
     "text": [
      "[3 4 5 6]\n"
     ]
    }
   ],
   "source": [
    "print(a[a > 2]) "
   ]
  },
  {
   "cell_type": "markdown",
   "metadata": {
    "slideshow": {
     "slide_type": "subslide"
    }
   },
   "source": [
    "To apply multiple conditions, use () parentheses to sperate different conditions.\n",
    "\n",
    "Use `&` for elementwise `and`.\n",
    "\n",
    "Use `|` for elementwise `or`."
   ]
  },
  {
   "cell_type": "code",
   "execution_count": 70,
   "metadata": {
    "slideshow": {
     "slide_type": "subslide"
    }
   },
   "outputs": [
    {
     "name": "stdout",
     "output_type": "stream",
     "text": [
      "[4 3 4 8 3 3 4 4]\n",
      "[4 3 4 8 3 3 4 4]\n"
     ]
    }
   ],
   "source": [
    "x = np.array([[4, 2, 3, 1],\n",
    "              [2, 4, 2, 8],\n",
    "              [2, 3, 3, 27],\n",
    "              [4, 1, 4, 64]])\n",
    "\n",
    "# elements of x that are greater then 2 AND less than 10\n",
    "print(x[(2 < x) & (x < 10)])\n",
    "\n",
    "# elements of x that are less then 2 OR greater than 10\n",
    "print(x[(2 < x) & (x < 10)])"
   ]
  },
  {
   "cell_type": "markdown",
   "metadata": {
    "slideshow": {
     "slide_type": "subslide"
    }
   },
   "source": [
    "Multiple conditions can also be applied to a subsection of an array.\n",
    "<br>For example to select elements $>2$ and $<4$ in the first row of `x` only (`x[0]`):"
   ]
  },
  {
   "cell_type": "code",
   "execution_count": 71,
   "metadata": {
    "slideshow": {
     "slide_type": "subslide"
    }
   },
   "outputs": [
    {
     "name": "stdout",
     "output_type": "stream",
     "text": [
      "[3]\n"
     ]
    }
   ],
   "source": [
    "x = np.array([[4, 2, 3, 1],\n",
    "              [2, 4, 2, 8],\n",
    "              [2, 3, 3, 27],\n",
    "              [4, 1, 4, 64]])\n",
    "\n",
    "\n",
    "print(x[0][(2 < x[0]) & (x[0] < 4)])\n"
   ]
  },
  {
   "cell_type": "markdown",
   "metadata": {
    "slideshow": {
     "slide_type": "slide"
    }
   },
   "source": [
    "<a id='IteratingMultiDimensionalArrays'></a>\n",
    "## 3.5 Iterating over Multi-Dimensional Arrays\n",
    "\n",
    "We can iterate over a 1D array in the same way as the data structures we have previously studied."
   ]
  },
  {
   "cell_type": "code",
   "execution_count": 72,
   "metadata": {
    "slideshow": {
     "slide_type": "-"
    }
   },
   "outputs": [],
   "source": [
    "A = np.array([1, 2, 3, 4, 5])"
   ]
  },
  {
   "cell_type": "code",
   "execution_count": 73,
   "metadata": {
    "slideshow": {
     "slide_type": "-"
    }
   },
   "outputs": [
    {
     "name": "stdout",
     "output_type": "stream",
     "text": [
      "1\n",
      "2\n",
      "3\n",
      "4\n",
      "5\n"
     ]
    }
   ],
   "source": [
    "for a in A:\n",
    "    print(a)"
   ]
  },
  {
   "cell_type": "markdown",
   "metadata": {
    "slideshow": {
     "slide_type": "slide"
    }
   },
   "source": [
    "To loop through individual elements of a multi-dimensional array, we use a nested loop for each dimension of the array."
   ]
  },
  {
   "cell_type": "code",
   "execution_count": 74,
   "metadata": {
    "scrolled": true,
    "slideshow": {
     "slide_type": "-"
    }
   },
   "outputs": [
    {
     "name": "stdout",
     "output_type": "stream",
     "text": [
      "-----\n",
      "1\n",
      "2\n",
      "3\n",
      "-----\n",
      "4\n",
      "5\n",
      "6\n"
     ]
    }
   ],
   "source": [
    "B = np.array([[1, 2, 3], \n",
    "              [4, 5, 6]])\n",
    "\n",
    "for row in B:\n",
    "    print(\"-----\")\n",
    "    for col in row:\n",
    "        print(col)"
   ]
  },
  {
   "cell_type": "markdown",
   "metadata": {
    "slideshow": {
     "slide_type": "slide"
    }
   },
   "source": [
    "<a id='ManipulatingArrays'></a>\n",
    "## 3.6 Manipulating Arrays\n",
    "\n",
    "\n",
    "\n",
    "\n",
    "We can use many of the same operations to manipulate arrays as we use for lists.\n",
    "\n",
    "However, it is important to note a few subtle differences in how array manipulations behave. "
   ]
  },
  {
   "cell_type": "code",
   "execution_count": 75,
   "metadata": {
    "scrolled": true,
    "slideshow": {
     "slide_type": "subslide"
    }
   },
   "outputs": [
    {
     "name": "stdout",
     "output_type": "stream",
     "text": [
      "8\n",
      "2\n"
     ]
    }
   ],
   "source": [
    "# Length of an array\n",
    "\n",
    "a = np.array([1, 3, 4, 17, 3, 21, 2, 12])\n",
    "\n",
    "b = np.array([[1, 3, 4, 17],\n",
    "              [3, 21, 2, 12]])\n",
    "\n",
    "\n",
    "print(len(a))\n",
    "print(len(b))\n",
    "\n"
   ]
  },
  {
   "cell_type": "markdown",
   "metadata": {
    "slideshow": {
     "slide_type": "subslide"
    }
   },
   "source": [
    "Note the length is the length of the first dimension (e.g. indexing). "
   ]
  },
  {
   "cell_type": "code",
   "execution_count": 76,
   "metadata": {
    "slideshow": {
     "slide_type": "subslide"
    }
   },
   "outputs": [
    {
     "name": "stdout",
     "output_type": "stream",
     "text": [
      "[1, 2, 3, 3, 4, 12, 17, 21]\n",
      "[2, 3, 12, 21]\n",
      "[ 1  2  3  3  4 12 17 21]\n",
      "[[ 1  3  4 17]\n",
      " [ 2  3 12 21]]\n"
     ]
    }
   ],
   "source": [
    "# Sort an array\n",
    "\n",
    "a = np.array([1, 3, 4, 17, 3, 21, 2, 12])\n",
    "\n",
    "b = np.array([[1, 3, 4, 17],\n",
    "              [3, 21, 2, 12]])\n",
    "\n",
    "# The function sorted applies to 1D data structures only\n",
    "print(sorted(a))\n",
    "print(sorted(b[1]))\n",
    "\n",
    "# The method sort() applies to arrays of any size\n",
    "a.sort()\n",
    "b.sort()\n",
    "\n",
    "print(a)\n",
    "print(b)"
   ]
  },
  {
   "cell_type": "markdown",
   "metadata": {
    "slideshow": {
     "slide_type": "subslide"
    }
   },
   "source": [
    "Arrays are *immutable* (unchangeable).\n",
    "\n",
    "Technically you cannot add or delete items of an array. \n",
    "\n",
    "However, you can make a *new* array (which may have the same name as the original array), with the values ammended as required: "
   ]
  },
  {
   "cell_type": "markdown",
   "metadata": {
    "slideshow": {
     "slide_type": "subslide"
    }
   },
   "source": [
    "<a id='AppendingArrays'></a>\n",
    "#### Appending Arrays \n",
    "Appending connects array-like (integer, list....) value  to the *end* of the original array. "
   ]
  },
  {
   "cell_type": "markdown",
   "metadata": {
    "slideshow": {
     "slide_type": "subslide"
    }
   },
   "source": [
    "By default, 2D arrays are appended as if joining lists.\n",
    "The new array is a 1D array"
   ]
  },
  {
   "cell_type": "code",
   "execution_count": 77,
   "metadata": {
    "slideshow": {
     "slide_type": "subslide"
    }
   },
   "outputs": [
    {
     "name": "stdout",
     "output_type": "stream",
     "text": [
      "[[0]\n",
      " [1]\n",
      " [2]]\n",
      "\n",
      "[[3]\n",
      " [4]]\n",
      "\n",
      "[[3]\n",
      " [4]]\n",
      "\n",
      "original 2D array shapes: a = (3, 1), b = (2, 1)\n",
      "\n",
      "[0 1 2 3 4]\n",
      "new array shape: (3, 1)\n",
      "\n",
      "[3 4 1]\n",
      "new array shape: (3, 1)\n",
      "\n",
      "[3 4 1]\n",
      "new array shape: (3, 1)\n",
      "\n"
     ]
    }
   ],
   "source": [
    "# 2D array\n",
    "a = np.array([[0], [1], [2]])\n",
    "print(a)\n",
    "print()\n",
    "\n",
    "# 2D array\n",
    "b = np.array([[3], [4]])\n",
    "print(b)\n",
    "print()\n",
    "\n",
    "# 1D array\n",
    "c = np.array([3, 4])\n",
    "print(b)\n",
    "print()\n",
    "\n",
    "# integer\n",
    "d = 1\n",
    "\n",
    "print(f\"original 2D array shapes: a = {a.shape}, b = {b.shape}\")\n",
    "print()\n",
    "\n",
    "X = np.append(a, b)\n",
    "print(X)\n",
    "print(f\"new array shape: {a.shape}\")\n",
    "print()\n",
    "\n",
    "X = np.append(b, d)\n",
    "print(X)\n",
    "print(f\"new array shape: {a.shape}\")\n",
    "print()\n",
    "\n",
    "X = np.append(c, d)\n",
    "print(X)\n",
    "print(f\"new array shape: {a.shape}\")\n",
    "print()"
   ]
  },
  {
   "cell_type": "markdown",
   "metadata": {
    "slideshow": {
     "slide_type": "subslide"
    }
   },
   "source": [
    "The axis on which to append an array can be optionally specified.\n",
    "\n",
    "e.g. 2D array:\n",
    " - 0: columns\n",
    " - 1: rows\n",
    "\n",
    "The arrays must have the same shape, except in the dimension corresponding to the specified axis "
   ]
  },
  {
   "cell_type": "code",
   "execution_count": 78,
   "metadata": {
    "slideshow": {
     "slide_type": "subslide"
    }
   },
   "outputs": [
    {
     "name": "stdout",
     "output_type": "stream",
     "text": [
      "[[0]\n",
      " [1]\n",
      " [2]]\n",
      "\n",
      "[[3]\n",
      " [4]]\n",
      "\n",
      "[[0]\n",
      " [1]\n",
      " [2]\n",
      " [3]\n",
      " [4]]\n",
      "new array shape: (5, 1)\n"
     ]
    }
   ],
   "source": [
    "# 2D array\n",
    "a = np.array([[0], [1], [2]])\n",
    "print(a)\n",
    "print()\n",
    "\n",
    "# 2D array\n",
    "b = np.array([[3], [4]])\n",
    "print(b)\n",
    "print()\n",
    "\n",
    "new2d = np.append(a, b, axis=0)\n",
    "print(new2d)\n",
    "print(f\"new array shape: {new2d.shape}\")"
   ]
  },
  {
   "cell_type": "markdown",
   "metadata": {
    "slideshow": {
     "slide_type": "subslide"
    }
   },
   "source": [
    "For example, in the cell above, if you change `axis=0` to `axis=1`, \n",
    "<br>you are trying to connect the side of `a` with length=3 to the side of `b` with length=2."
   ]
  },
  {
   "cell_type": "markdown",
   "metadata": {
    "slideshow": {
     "slide_type": "subslide"
    }
   },
   "source": [
    "There are dedicated functions to simplify joining or merging arrays.\n",
    "<br>If you are interested to expeirment further with joiing arrays you can try out the following functions:\n",
    " - `np.concatenate()` : Joins a sequence of arrays along an existing axis.\n",
    " - `np.vstack()` or `np.r_[]`: Stacks arrays row-wise\n",
    " - `np.hstack()` : Stacks arrays horizontally\n",
    " - `np.column_stack()` or `np.c_[]` : Stacks arrays column-wise\n",
    "Refer to last week's seminar for how to inpterpret the function documentation. "
   ]
  },
  {
   "cell_type": "markdown",
   "metadata": {
    "slideshow": {
     "slide_type": "subslide"
    }
   },
   "source": [
    "It can also be useful to remove individual (single or multiple) elements.\n",
    "\n",
    "For example, the following expand the locations within the array that you can change beyond the location at the *end* of the array."
   ]
  },
  {
   "cell_type": "markdown",
   "metadata": {
    "slideshow": {
     "slide_type": "subslide"
    }
   },
   "source": [
    "<a id='AddingElementsArray'></a>\n",
    "#### Adding Elements to an Array"
   ]
  },
  {
   "cell_type": "code",
   "execution_count": 79,
   "metadata": {
    "slideshow": {
     "slide_type": "subslide"
    }
   },
   "outputs": [
    {
     "name": "stdout",
     "output_type": "stream",
     "text": [
      "[1 4 2 3]\n"
     ]
    }
   ],
   "source": [
    "# Add items to an array\n",
    "# The insert() function arguments are\n",
    "# 1) The array to insert to\n",
    "# 2) The index of the inserted element\n",
    "# 3) The value of the inserted element\n",
    "\n",
    "a = ([1, 2, 3])\n",
    "a = np.insert(a, 1, 4)\n",
    "print(a)"
   ]
  },
  {
   "cell_type": "markdown",
   "metadata": {
    "slideshow": {
     "slide_type": "subslide"
    }
   },
   "source": [
    "Notice that, again, the output is a 1D aray by default"
   ]
  },
  {
   "cell_type": "code",
   "execution_count": 80,
   "metadata": {
    "slideshow": {
     "slide_type": "subslide"
    }
   },
   "outputs": [
    {
     "name": "stdout",
     "output_type": "stream",
     "text": [
      "original array shape: (3, 2)\n",
      "[1 4 4 1 2 2 3 3]\n",
      "new array shape: (8,)\n"
     ]
    }
   ],
   "source": [
    "# Add items to an array\n",
    "\n",
    "b = np.array([[1, 1], \n",
    "              [2, 2], \n",
    "              [3, 3]])\n",
    "\n",
    "print(f\"original array shape: {b.shape}\")\n",
    "\n",
    "b = np.insert(b, 1, [4, 4])\n",
    "\n",
    "print(b)\n",
    "\n",
    "print(f\"new array shape: {b.shape}\")"
   ]
  },
  {
   "cell_type": "markdown",
   "metadata": {
    "slideshow": {
     "slide_type": "subslide"
    }
   },
   "source": [
    "To preserve the multi-dimensional structure of an array, we can specify the axis on which to insert an element or range of elements. \n",
    "<br> In the example below, a column is inserted at element 1 of axis 1. "
   ]
  },
  {
   "cell_type": "code",
   "execution_count": 81,
   "metadata": {
    "slideshow": {
     "slide_type": "subslide"
    }
   },
   "outputs": [
    {
     "name": "stdout",
     "output_type": "stream",
     "text": [
      "[[1 3 1]\n",
      " [2 2 2]\n",
      " [3 1 3]]\n"
     ]
    }
   ],
   "source": [
    "# Add items to an array\n",
    "\n",
    "b = np.array([[1, 1], \n",
    "              [2, 2], \n",
    "              [3, 3]])\n",
    "\n",
    "b = np.insert(b, 1, [3, 2, 1], axis=1)\n",
    "print(b)"
   ]
  },
  {
   "cell_type": "markdown",
   "metadata": {
    "slideshow": {
     "slide_type": "subslide"
    }
   },
   "source": [
    "Notice what happens when we insert a *single* value on a specified axis"
   ]
  },
  {
   "cell_type": "code",
   "execution_count": 82,
   "metadata": {
    "slideshow": {
     "slide_type": "subslide"
    }
   },
   "outputs": [
    {
     "name": "stdout",
     "output_type": "stream",
     "text": [
      "[[1 4 3 1]\n",
      " [2 4 2 2]\n",
      " [3 4 1 3]]\n"
     ]
    }
   ],
   "source": [
    "b = np.insert(b, 1, 4, axis=1)\n",
    "print(b)"
   ]
  },
  {
   "cell_type": "markdown",
   "metadata": {
    "slideshow": {
     "slide_type": "subslide"
    }
   },
   "source": [
    "This behaviour is due to a very useful property called *broadcasting*. \n",
    "<br>We will study the rules governing broadcasting later in this seminar. "
   ]
  },
  {
   "cell_type": "markdown",
   "metadata": {
    "slideshow": {
     "slide_type": "subslide"
    }
   },
   "source": [
    "<a id='DeletingItemsArray'></a>\n",
    "#### Deleting Items from an Array"
   ]
  },
  {
   "cell_type": "code",
   "execution_count": 83,
   "metadata": {
    "slideshow": {
     "slide_type": "subslide"
    }
   },
   "outputs": [
    {
     "name": "stdout",
     "output_type": "stream",
     "text": [
      "[1 3 4 6 7 8 9]\n",
      "[6 7 8 9]\n"
     ]
    }
   ],
   "source": [
    "# Items are deleted from their position in a 1D array by default\n",
    "\n",
    "z = np.array([1, 3, 4, 5, 6, 7, 8, 9])\n",
    "\n",
    "\n",
    "z = np.delete(z, 3)\n",
    "print(z)\n",
    "\n",
    "z = np.delete(z, [0, 1, 2])\n",
    "print(z)\n"
   ]
  },
  {
   "cell_type": "code",
   "execution_count": 84,
   "metadata": {
    "slideshow": {
     "slide_type": "subslide"
    }
   },
   "outputs": [
    {
     "name": "stdout",
     "output_type": "stream",
     "text": [
      "[[1 3 4 5]\n",
      " [6 7 8 9]]\n",
      "\n",
      "[[1 3 4]\n",
      " [6 7 8]]\n",
      "\n",
      "[]\n",
      "\n"
     ]
    }
   ],
   "source": [
    "# Again, axes to delete can be optionally specified:\n",
    "\n",
    "z = np.array([[1, 3, 4, 5], [6, 7, 8, 9]])\n",
    "print(z)\n",
    "print()\n",
    "\n",
    "z = np.delete(z, 3, axis=1)\n",
    "print(z)\n",
    "print()\n",
    "\n",
    "z = np.delete(z, [0, 1, 2], axis=1)\n",
    "print(z)\n",
    "print()"
   ]
  },
  {
   "cell_type": "markdown",
   "metadata": {
    "slideshow": {
     "slide_type": "subslide"
    }
   },
   "source": [
    "<a name=\"ChangingItemsArray\"></a>\n",
    "#### Changing Items in an Array\n"
   ]
  },
  {
   "cell_type": "code",
   "execution_count": 85,
   "metadata": {
    "slideshow": {
     "slide_type": "subslide"
    }
   },
   "outputs": [
    {
     "name": "stdout",
     "output_type": "stream",
     "text": [
      "[1 4 3]\n"
     ]
    }
   ],
   "source": [
    "c = np.array([1, 2, 3])\n",
    "c[1] = 4\n",
    "print(c)"
   ]
  },
  {
   "cell_type": "markdown",
   "metadata": {
    "slideshow": {
     "slide_type": "subslide"
    }
   },
   "source": [
    "<a id='StackingFunctions'></a>\n",
    "## 3.7 Stacking Functions\n",
    "\n",
    "\n",
    "\n",
    "\n",
    "If performing multiple functions on a variable or data structure, operations can be stacked to produce shorter code.\n"
   ]
  },
  {
   "cell_type": "code",
   "execution_count": null,
   "metadata": {},
   "outputs": [],
   "source": [
    "a = range(10)\n",
    "a = list(a)\n",
    "a = np.cos(a)\n",
    "a = np.sum(a)\n",
    "print(a)\n",
    "\n",
    "a = np.sum(np.cos(list(range(10))))\n",
    "print(a)"
   ]
  },
  {
   "cell_type": "markdown",
   "metadata": {
    "slideshow": {
     "slide_type": "slide"
    }
   },
   "source": [
    "<a id='ImportingData'></a>\n",
    "## 3.8 Importing Data from  a .csv File to a `numpy array`\n",
    "\n",
    "Real data is often stored in .csv files (typically viewed in Excel).\n",
    "\n",
    "csv files are simply comma separated values (although the values can be separated or *delimited* by other things than commas).\n",
    "\n",
    "A Numpy array can be a very useful way to store and manipulate data e.g. the raw data from an experiment."
   ]
  },
  {
   "cell_type": "markdown",
   "metadata": {
    "slideshow": {
     "slide_type": "slide"
    }
   },
   "source": [
    "Numerical data can be loaded from a .txt or .data. or .csv file using the function; `numpy.loadtxt`.\n",
    "\n",
    "The file to be loaded must be in the same directory as your python program.\n",
    "<br>Otherwise you must specify the the full path to the data file using / to seperate directory names. \n",
    "<br>The filename (or path plus filename) needs to be between \"\" quotation marks. "
   ]
  },
  {
   "cell_type": "markdown",
   "metadata": {
    "slideshow": {
     "slide_type": "slide"
    }
   },
   "source": [
    "For example the file data.dat in the folder sample_data contains:\n",
    ">0.000 1.053 2.105 3.158 4.211<br>\n",
    "74.452 48.348 68.733 59.796 54.123\n",
    "\n",
    "The default delimiter is a space.\n",
    "<br>The default data type to output is an array of floating point values. "
   ]
  },
  {
   "cell_type": "code",
   "execution_count": null,
   "metadata": {
    "slideshow": {
     "slide_type": "-"
    }
   },
   "outputs": [],
   "source": [
    "A = np.loadtxt('sample_data/sample_data.dat')\n",
    "print(A)\n",
    "print(type(A))\n",
    "print(A[0][1])"
   ]
  },
  {
   "cell_type": "markdown",
   "metadata": {
    "slideshow": {
     "slide_type": "slide"
    }
   },
   "source": [
    "The __delimiter__ should (sometimes) be specified.\n",
    "<br>This tells Python how to separate the data into the individual elements of an array. \n",
    "<br>The default delimiter is a space.\n",
    "<br>(Data separated by spaces will be automatically be assigned different indices)."
   ]
  },
  {
   "cell_type": "markdown",
   "metadata": {
    "slideshow": {
     "slide_type": "slide"
    }
   },
   "source": [
    "The __data type__ should (sometimes) be specified.\n",
    "<br>This tells Python how to separate the data into the individual elements of an array. \n",
    "<br>The default data type is `float`.\n",
    "<br>If your data contains items that cannot be expressed as a float, importing it will cause an error unless the data-type is specified.\n",
    "<br>Mixed data types can be imported as `string` values. "
   ]
  },
  {
   "cell_type": "markdown",
   "metadata": {
    "slideshow": {
     "slide_type": "slide"
    }
   },
   "source": [
    "For example, the data in sample_student_data.txt:\n",
    "- is seperated by tabs (`/t`) \n",
    "- cannot all be converted to float data (in some columns)\n",
    "\n",
    "```Python\n",
    "Subject\tSex\tDOB\tHeight\tWeight\tBP\n",
    "(ID)\tM/F\tdd/mm/yy\tm\tkg\tmmHg\n",
    "JW-1\tM\t19/12/1995\t1.82\t92.4\t119/76\n",
    "JW-2\tM\t11/01/1996\t1.77\t80.9\t114/73\n",
    "JW-3\tF\t02/10/1995\t1.68\t69.7\t124/79\n",
    "JW-6\tM\t06/07/1995\t1.72\t75.5\t110/60\n",
    "JW-7\tF\t28/03/1996\t1.66\t72.4\t-\n",
    "JW-9\tF\t11/12/1995\t1.78\t82.1\t115/75\n",
    "JW-10\tF\t07/04/1996\t1.6\t45\t-/-\n",
    "JW-11\tM\t22/08/1995\t1.72\t77.2\t97/63\n",
    "JW-12\tM\t23/05/1996\t1.83\t88.9\t105/70\n",
    "JW-14\tF\t12/01/1996\t1.56\t56.3\t108/72\n",
    "JW-15\tF\t01/06/1996\t1.64\t65\t99/67\n",
    "JW-16\tM\t10/09/1995\t1.63\t73\t131/84\n",
    "JW-17\tM\t17/02/1996\t1.67\t89.8\t101/76\n",
    "JW-18\tM\t31/07/1996\t1.66\t75.1\t-/-\n",
    "JW-19\tF\t30/10/1995\t1.59\t67.3\t103/69\n",
    "JW-22\tF\t09/03/1996\t1.7\t45\t119/80\n",
    "JW-23\tM\t15/05/1995\t1.97\t89.2\t124/82\n",
    "JW-24\tF\t01/12/1995\t1.66\t63.8\t100/78\n",
    "JW-25\tF\t25/10/1995\t1.63\t64.4\t-/-\n",
    "JW-26\tM\t17/04/1996\t1.69\t55\t121/82\n",
    "```"
   ]
  },
  {
   "cell_type": "code",
   "execution_count": null,
   "metadata": {
    "slideshow": {
     "slide_type": "slide"
    }
   },
   "outputs": [],
   "source": [
    "np.loadtxt('sample_data/sample_student_data.txt', delimiter=\"\\t\", dtype=str)"
   ]
  },
  {
   "cell_type": "markdown",
   "metadata": {
    "slideshow": {
     "slide_type": "slide"
    }
   },
   "source": [
    "Regions can be selected, for example to select only numerical data. \n",
    "\n",
    "`skiprows` skips the first n lines. \n",
    "\n",
    "`usecols` specifies which columns to read, with 0 being the first. \n",
    "<br>For example, usecols = (1,4,5) will extract the 2nd, 5th and 6th columns."
   ]
  },
  {
   "cell_type": "code",
   "execution_count": null,
   "metadata": {
    "scrolled": true,
    "slideshow": {
     "slide_type": "slide"
    }
   },
   "outputs": [],
   "source": [
    "import numpy as np\n",
    "np.loadtxt('sample_data/sample_student_data.txt', dtype=float, skiprows=9, usecols=(3,4))"
   ]
  },
  {
   "cell_type": "markdown",
   "metadata": {
    "slideshow": {
     "slide_type": "subslide"
    }
   },
   "source": [
    "We only need to import a package once, at the start of the program or notebook."
   ]
  },
  {
   "cell_type": "markdown",
   "metadata": {
    "collapsed": true,
    "slideshow": {
     "slide_type": "slide"
    }
   },
   "source": [
    "<a id='Summary'></a>\n",
    "# Summary\n",
    "\n",
    "- Python has an extensive __standard library__ of built-in functions. \n",
    "- More specialised libraries of functions and constants are available. We call these __packages__. \n",
    "- Packages are imported using the keyword `import`\n",
    "- The function documentation tells is what it does and how to use it.\n",
    "- When calling a library function it must be prefixed with a __namespace__ is used to show from which package it should be called.  \n",
    "- The magic function `%timeit` can be used to time the execution of a function. \n",
    "\n",
    "\n"
   ]
  }
 ],
 "metadata": {
  "celltoolbar": "Slideshow",
  "kernelspec": {
   "display_name": "Python 3",
   "language": "python",
   "name": "python3"
  },
  "language_info": {
   "codemirror_mode": {
    "name": "ipython",
    "version": 3
   },
   "file_extension": ".py",
   "mimetype": "text/x-python",
   "name": "python",
   "nbconvert_exporter": "python",
   "pygments_lexer": "ipython3",
   "version": "3.6.5"
  }
 },
 "nbformat": 4,
 "nbformat_minor": 2
}
