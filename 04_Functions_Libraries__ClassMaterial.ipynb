{
 "cells": [
  {
   "cell_type": "markdown",
   "metadata": {
    "slideshow": {
     "slide_type": "slide"
    }
   },
   "source": [
    "## Please download the new class notes.\n",
    "### Step 1 : Navigate to the directory where your files are stored.  \n",
    "Open a terminal. \n",
    "<br>Using `cd`, navigate to *inside* the ILAS_Python_for_everyone folder on your computer. \n",
    "### Step 3 : Update the course notes by downloading the changes\n",
    "In the terminal type:\n",
    "\n",
    ">`git add -A\n",
    "git commit -m \"commit\"\n",
    "git fetch upstream\n",
    "git merge -X theirs upstream/master`\n"
   ]
  },
  {
   "cell_type": "markdown",
   "metadata": {
    "collapsed": true,
    "slideshow": {
     "slide_type": "slide"
    }
   },
   "source": [
    "# Functions\n",
    "\n",
    "<br> <a href='#Function'>What is a Function?</a>\n",
    "<br> <a href='#AnatomyFunction'>The Anatomy of a Function</a> \n",
    "\t<br> &emsp;&emsp; <a href='#FunctionChecklist'>Function Checklist</a> \n",
    "\t<br> &emsp;&emsp; <a href='#DocumentationString'>The Documentation String</a>\n",
    "    <br> &emsp;&emsp; <a href='#WritingFunctionsCodeReadable'>Writing Functions to make Code more Readable</a> \n",
    "        <br> &emsp;&emsp; &emsp;&emsp; <a href='#ExampleDrawingObjectsMultipleShapes'>Example : Drawing Objects with Multiple Shapes</a> \n",
    "    <br> &emsp;&emsp; <a href='#WritingFunctionsAvoidRepetition'>Writing Functions to Avoid Repetition</a> \n",
    "\t<br> &emsp;&emsp; <a href='#FunctionArguments'>Function Arguments</a> \n",
    "    <br> &emsp;&emsp; &emsp;&emsp; <a href='#SingleVariablesFunctionArguments'>Single Variables as Function Arguments</a>\n",
    "    <br> &emsp;&emsp; &emsp;&emsp; <a href='#DataStructuresFunctionArguments'>Data Structures as Function Arguments</a> \n",
    "    <br> &emsp;&emsp; &emsp;&emsp; &emsp;&emsp; <a href='#ExampleTrees'>Example: Trees</a> \n",
    "    <br> &emsp;&emsp; &emsp;&emsp; <a href='#FunctionsFunctionArguments'>Functions as Function Arguments</a> \n",
    "    <br> &emsp;&emsp; &emsp;&emsp; <a href='#RulesInputtingArguments'>Rules for Inputting Arguments</a> \n",
    "    <br> &emsp;&emsp; &emsp;&emsp; <a href='#NamedArguments'>Named Arguments</a> \n",
    "    <br> &emsp;&emsp; &emsp;&emsp; <a href='#DefaultKeywordArguments'>Default / Keyword Arguments</a>\n",
    "    <br> &emsp;&emsp; &emsp;&emsp; &emsp;&emsp; <a href='#ExampleBlueTrees'>Example: Blue Trees</a>\n",
    "        <br> &emsp;&emsp; &emsp;&emsp; &emsp;&emsp; <a href='#ExampleParticle'>Example: A Particle Moving with Constant Acceleration.</a> \n",
    "<br> <a href='#Scope'>Scope</a> \n",
    "\t<br> &emsp;&emsp; <a href='#ExampleLocalScope'>Example : Use of Local Scope</a> \n",
    "<br> <a href='#return'>`return`</a> \n",
    "<br> <a href='#ExamplesFunctionsOptimiseCode.'>Examples: using Functions to Optimise your Code. </a> \n",
    "<br> <a href='#Summary'>Summary</a> \n",
    "<br> <a href='#TestYourselfExercises'>Test-Yourself Exercises</a>\n",
    "<br> <a href='#ReviewExercises'>Review Exercises</a>"
   ]
  },
  {
   "cell_type": "markdown",
   "metadata": {
    "collapsed": true,
    "slideshow": {
     "slide_type": "slide"
    }
   },
   "source": [
    "# Advanced Functions and Building your own Function Library\n",
    "\n",
    "<br> <a href='#StoringFunctions'>Storing Functions</a>\n",
    "<br> <a href='#WritingYourOwnLibaray'>Writing Your Own Libaray</a> \n",
    "<br> <a href='#Namespaces'>Namespaces</a> \n",
    "\t<br> &emsp;&emsp; <a href='#LocalNamespace'>The Local Namespace</a> \n",
    "<br> <a href='#ModuleSearchPath'>The Module Search Path</a> \n",
    "    <br> &emsp;&emsp; <a href='#FilesLocatedSameDirectory'>Files Located in the Same Directory</a> \n",
    "    <br> &emsp;&emsp; <a href='#__init__.py'>__init__.py</a> \n",
    "    <br> &emsp;&emsp; <a href='#AddingModulesPathSpyder'>Adding Modules to the Path using Spyder</a> \n",
    "    <br> &emsp;&emsp; <a href='#AddingModulessitepackages'>Adding Modules to the 'site-packages’</a>\n",
    "    <br> <a href='#ReadingWritingTextFiles'>Reading and Writing Text Files</a> \n",
    "    <br> &emsp;&emsp; <a href='#WritingFiles'>Writing Files</a> \n",
    "    <br> &emsp;&emsp; <a href='#ReadingFiles'>Reading Files</a> \n",
    "    <br> &emsp;&emsp; <a href='#AppendingFiles'>Appending Files</a> \n",
    "    <br> &emsp;&emsp; <a href='#AutomaticallyClosingFileswith'>Automatically Closing Files using `with`</a> \n",
    "    <br> &emsp;&emsp; <a href='#ReadingEditingFiles'>Reading and Editing Files</a> \n",
    "<a href='#ImportingDataDelimitedFiles'>Importing Data from Delimited Files</a>  \n",
    "<br> <a href='#LambdaFunctions'>Lambda Functions</a> \n",
    "<br> <a href='#Summary'>Summary</a> \n",
    "<br> <a href='#TestYourselfExercises'>Test-Yourself Exercises</a>\n",
    "<br> <a href='#ReviewExercises'>Review Exercises</a>"
   ]
  },
  {
   "cell_type": "markdown",
   "metadata": {
    "slideshow": {
     "slide_type": "slide"
    }
   },
   "source": [
    "### Lesson Goal\n",
    "\n",
    "1. Store functions and variable that you have written in external files and import them to your programs.\n",
    "1. Store output from your programs as\n",
    "1. write Lambda functions\n",
    "\n",
    "### Fundamental programming concepts\n",
    " - File hierarchy\n",
    " - Making your code more readable by storing it in multiple files\n",
    " - Using specific function constructs to write code more efficiently\n",
    " - Importing and exporting data from your Python programs.\n",
    "2. Write a  __lambda function__. "
   ]
  },
  {
   "cell_type": "markdown",
   "metadata": {},
   "source": [
    "<a id='Summary'></a>\n",
    "# Summary of Information Needed to Understand Today's Examples\n",
    "\n",
    "For more information refer to the Primer Notebook for this class 02Primer__Functions_UserLibraries.ipynb\n",
    "\n",
    "\n",
    " - Functions are defined using the `def` keyword.\n",
    " - Functions contain indented statements to execute when the function is called.\n",
    " - Global variables can be used eveywhere.\n",
    " - Local variables can be used within the function in which they are defined.\n",
    " - Function arguments (inputs) are declared between () parentheses, seperated by commas.\n",
    " - Function arguments muct be specified each time a function is called. \n",
    " - Default arguments do not need to be specified when a function is called unless different values are to be used. \n",
    " - The keyword used to define the function outputs is `return`"
   ]
  },
  {
   "cell_type": "markdown",
   "metadata": {
    "slideshow": {
     "slide_type": "slide"
    }
   },
   "source": [
    "### Lesson Goal\n",
    "\n",
    "1. Learn the format to construct a function \n",
    "2. Re-write the Pong program using functions\n",
    "\n",
    "### Fundamental programming concepts\n",
    " - Re-using code by encapsuating it in user-defined functions\n",
    " - File hierarchy"
   ]
  },
  {
   "cell_type": "markdown",
   "metadata": {
    "slideshow": {
     "slide_type": "slide"
    }
   },
   "source": [
    "Let’s start by finding out what a function is…"
   ]
  },
  {
   "cell_type": "markdown",
   "metadata": {
    "slideshow": {
     "slide_type": "slide"
    }
   },
   "source": [
    "<a id='Function'></a>\n",
    "## What is a Function?\n",
    "\n",
    "Functions are one of the most important concepts in programming.\n",
    "\n",
    "__Function__: A named section of a code that performs a specific task."
   ]
  },
  {
   "cell_type": "markdown",
   "metadata": {
    "slideshow": {
     "slide_type": "slide"
    }
   },
   "source": [
    "In mathematics, a function is a relation between __inputs__ and a set of permissible __outputs__.\n",
    "\n",
    "Example: The *function* relating $x$ to $x^2$ is:\n",
    "$$ \n",
    "f(x) = x \\cdot x\n",
    "$$"
   ]
  },
  {
   "cell_type": "markdown",
   "metadata": {
    "slideshow": {
     "slide_type": "slide"
    }
   },
   "source": [
    "In programming, a function behaves in a similar way. \n",
    "\n",
    "A function can take data as __input(s)__ and return __output(s)__.\n",
    "\n",
    "A simple function example:\n",
    " - Inputs: the coordinates of the vertices of a triangle.\n",
    " - Output: the area of the triangle. "
   ]
  },
  {
   "cell_type": "markdown",
   "metadata": {
    "slideshow": {
     "slide_type": "slide"
    }
   },
   "source": [
    "Note : Not all functions take inputs and not all functions return outputs as we will see...\n",
    "\n",
    " \n"
   ]
  },
  {
   "cell_type": "markdown",
   "metadata": {
    "slideshow": {
     "slide_type": "slide"
    }
   },
   "source": [
    "You are already familiar with some *built in* Python functions..."
   ]
  },
  {
   "cell_type": "markdown",
   "metadata": {
    "collapsed": true,
    "slideshow": {
     "slide_type": "slide"
    }
   },
   "source": [
    "`print()` \n",
    " \n",
    " __Input:__ a value or variable name specified within the parentheses\n",
    " \n",
    " __Output:__ a visible representation\n",
    "  "
   ]
  },
  {
   "cell_type": "code",
   "execution_count": 17,
   "metadata": {},
   "outputs": [
    {
     "name": "stdout",
     "output_type": "stream",
     "text": [
      "Today we will learn about functions\n"
     ]
    }
   ],
   "source": [
    "print(\"Today we will learn about functions\")"
   ]
  },
  {
   "cell_type": "markdown",
   "metadata": {
    "collapsed": true,
    "slideshow": {
     "slide_type": "slide"
    }
   },
   "source": [
    "`len()` \n",
    "  \n",
    "__Input:__ a data structure or variable name (asigned to a data structure) specified within the parentheses.\n",
    "\n",
    "__Output:__ the number of items in the data structure (in one dimension).\n",
    "  "
   ]
  },
  {
   "cell_type": "code",
   "execution_count": 18,
   "metadata": {},
   "outputs": [
    {
     "name": "stdout",
     "output_type": "stream",
     "text": [
      "35\n"
     ]
    }
   ],
   "source": [
    "print(len(\"Today we will learn about functions\"))"
   ]
  },
  {
   "cell_type": "markdown",
   "metadata": {
    "slideshow": {
     "slide_type": "slide"
    }
   },
   "source": [
    "`sorted()` \n",
    "\n",
    "__Input:__ a data structure or variable name (asigned to a data structure) specified within the parentheses. \n",
    "\n",
    "__Output:__ the data structure sorted by a rule determined by the data type.\n",
    "   "
   ]
  },
  {
   "cell_type": "code",
   "execution_count": 19,
   "metadata": {},
   "outputs": [
    {
     "name": "stdout",
     "output_type": "stream",
     "text": [
      "[' ', ' ', ' ', ' ', ' ', 'T', 'a', 'a', 'a', 'b', 'c', 'd', 'e', 'e', 'f', 'i', 'i', 'l', 'l', 'l', 'n', 'n', 'n', 'o', 'o', 'o', 'r', 's', 't', 't', 'u', 'u', 'w', 'w', 'y']\n"
     ]
    }
   ],
   "source": [
    "print(sorted(\"Today we will learn about functions\"))"
   ]
  },
  {
   "cell_type": "markdown",
   "metadata": {
    "slideshow": {
     "slide_type": "slide"
    }
   },
   "source": [
    "Most Python programs contain a number of *custom functions*. \n",
    "\n",
    "These are functions, created by the programmer (you!) to perform a specific task."
   ]
  },
  {
   "cell_type": "markdown",
   "metadata": {
    "slideshow": {
     "slide_type": "slide"
    }
   },
   "source": [
    "## The Anatomy of a Function\n",
    "<a id='AnatomyFunction'></a>\n",
    "\n",
    "\n",
    "\n",
    "\n",
    "Here is a python function:\n",
    "```python\n",
    "def sum_and_increment(a, b):    \n",
    "    c = a + b + 1\n",
    "    return c\n",
    "```\n",
    "            \n",
    "\n"
   ]
  },
  {
   "cell_type": "markdown",
   "metadata": {
    "slideshow": {
     "slide_type": "slide"
    }
   },
   "source": [
    "### Function Checklist\n",
    "<a id='FunctionChecklist'></a>\n",
    "A function is __declared__ using:\n",
    "1. The definition keyword, __`def`__.\n",
    "1. A __function name__ of your choice.\n",
    "1. __() parentheses__ which optionally contain __arguments__ (the *inputs* to the function)\n",
    "1. __: a colon__ character\n",
    "1. A __documentation string__ that says what the function does.\n",
    "1. The __body code__ to be executed when the function is *called*.\n",
    "1. An optional __return__ statement (the *output* of the function)\n",
    "\n",
    "<img src=\"img/function_anotated.png\" alt=\"Drawing\" style=\"width: 600px;\"/>\n"
   ]
  },
  {
   "cell_type": "code",
   "execution_count": 5,
   "metadata": {},
   "outputs": [
    {
     "name": "stdout",
     "output_type": "stream",
     "text": [
      "8\n"
     ]
    }
   ],
   "source": [
    "def sum_and_increment(a, b):    \n",
    "    c = a + b + 1\n",
    "    return c\n",
    "\n",
    "d =sum_and_increment(2, 3)"
   ]
  },
  {
   "cell_type": "markdown",
   "metadata": {
    "slideshow": {
     "slide_type": "slide"
    }
   },
   "source": [
    "To execute (*call*) the function, type:\n",
    " - a variable to store the output if the function `return`s a value\n",
    " - the function name\n",
    " - any arguments \n",
    " \n",
    " ```d =sum_and_increment(2, 3)```"
   ]
  },
  {
   "cell_type": "markdown",
   "metadata": {
    "slideshow": {
     "slide_type": "slide"
    }
   },
   "source": [
    "<a id='Function'></a>\n",
    "## Why use Functions?\n",
    "\n",
    "There are two main reasons for using functions:\n",
    "\n",
    "1. To make the code more easy-to-read/understand\n",
    "1. To avoid repetition"
   ]
  },
  {
   "cell_type": "markdown",
   "metadata": {
    "slideshow": {
     "slide_type": "slide"
    }
   },
   "source": [
    "The section of the code that the name refers to is stored elsewhereso the main body of the code is neater and easier to read. "
   ]
  },
  {
   "cell_type": "markdown",
   "metadata": {
    "slideshow": {
     "slide_type": "slide"
    }
   },
   "source": [
    "## Writing Functions to Make Code More Readable\n",
    "<a id='WritingFunctionsCodeReadable'></a>\n",
    "Writing functions allows us to group lines of code that belong to a single operation.\n",
    "\n",
    "Let's do an example using the pygame library...\n"
   ]
  },
  {
   "cell_type": "markdown",
   "metadata": {
    "slideshow": {
     "slide_type": "slide"
    }
   },
   "source": [
    "Computer code can be re-used multiple times, sometimes with different input data. \n",
    "\n",
    "Re-using code reduces the risk of making mistakes or errors. "
   ]
  },
  {
   "cell_type": "markdown",
   "metadata": {
    "slideshow": {
     "slide_type": "slide"
    }
   },
   "source": [
    "## Writing Functions to Avoid Repetition\n",
    "<a id='WritingFunctionsAvoidRepetition'></a>\n",
    "As you begin to write longer code, the benefit of using functions becomes more apparent.\n",
    "\n",
    "In the seminar on Control Flow we studied `if` and `else`..."
   ]
  },
  {
   "cell_type": "markdown",
   "metadata": {
    "slideshow": {
     "slide_type": "slide"
    }
   },
   "source": [
    "In the example below, the program repeats the series of `if-elif-else` statements for values in the range 0 to 3."
   ]
  },
  {
   "cell_type": "code",
   "execution_count": 4,
   "metadata": {},
   "outputs": [
    {
     "name": "stdout",
     "output_type": "stream",
     "text": [
      "6\n",
      "6\n",
      "11\n"
     ]
    }
   ],
   "source": [
    "print(sum_and_increment(2, 3))\n",
    "print(sum_and_increment(1, 4))\n",
    "print(sum_and_increment(3, 7))"
   ]
  },
  {
   "cell_type": "code",
   "execution_count": 6,
   "metadata": {},
   "outputs": [
    {
     "name": "stdout",
     "output_type": "stream",
     "text": [
      "8\n",
      "21\n",
      "12\n"
     ]
    }
   ],
   "source": [
    "m = sum_and_increment(3, 4)\n",
    "print(m)  # Expect 8\n",
    "\n",
    "m = 10\n",
    "n = sum_and_increment(m, m)\n",
    "print(n)  # Expect 21\n",
    "\n",
    "l = 5\n",
    "m = 6\n",
    "n = sum_and_increment(m, l)\n",
    "print(n) # Expect 12"
   ]
  },
  {
   "cell_type": "markdown",
   "metadata": {
    "slideshow": {
     "slide_type": "slide"
    }
   },
   "source": [
    "For example, we could have a function that:\n",
    " - takes three values (`x0, x1, x2`)\n",
    " - returns the maximum, the minimum and the mean"
   ]
  },
  {
   "cell_type": "code",
   "execution_count": 62,
   "metadata": {
    "slideshow": {
     "slide_type": "slide"
    }
   },
   "outputs": [
    {
     "name": "stdout",
     "output_type": "stream",
     "text": [
      "-20 0.5 -6.466666666666666\n"
     ]
    }
   ],
   "source": [
    "def compute_max_min_mean(x0, x1, x2):\n",
    "    \"Return maximum, minimum and mean values\"\n",
    "    \n",
    "    x_min = x0\n",
    "    if x1 < x_min:\n",
    "        x_min = x1\n",
    "    if x2 < x_min:\n",
    "        x_min = x2\n",
    "\n",
    "    x_max = x0\n",
    "    if x1 > x_max:\n",
    "        x_max = x1\n",
    "    if x2 > x_max:\n",
    "        x_max = x2\n",
    "\n",
    "    x_mean = (x0 + x1 + x2)/3    \n",
    "        \n",
    "    return x_min, x_max, x_mean\n",
    "\n",
    "\n",
    "xmin, xmax, xmean = compute_max_min_mean(0.5, 0.1, -20)\n",
    "\n",
    "print(xmin, xmax, xmean)"
   ]
  },
  {
   "cell_type": "code",
   "execution_count": 7,
   "metadata": {},
   "outputs": [
    {
     "name": "stdout",
     "output_type": "stream",
     "text": [
      "0\n",
      "1\n",
      "8\n"
     ]
    }
   ],
   "source": [
    "for x in range(3):   \n",
    "    if x > 10:\n",
    "        print(0)\n",
    "    elif x > 5:\n",
    "        print(x*x)\n",
    "    elif x > 0:\n",
    "        print(x**3)\n",
    "    else:\n",
    "        print(x)"
   ]
  },
  {
   "cell_type": "markdown",
   "metadata": {
    "slideshow": {
     "slide_type": "slide"
    }
   },
   "source": [
    "We can encapsulate the code that we want to repeat in a function"
   ]
  },
  {
   "cell_type": "code",
   "execution_count": 8,
   "metadata": {},
   "outputs": [],
   "source": [
    "def process_value(x):\n",
    "    \"Return a value that depends on the input value x \"\n",
    "    if x > 10:\n",
    "        print(0)\n",
    "    elif x > 5:\n",
    "        print(x*x)\n",
    "    elif x > 0:\n",
    "        print(x**3)\n",
    "    else:\n",
    "        print(x)"
   ]
  },
  {
   "cell_type": "markdown",
   "metadata": {
    "slideshow": {
     "slide_type": "slide"
    }
   },
   "source": [
    "To call the function\n",
    "<br>e.g. for the input argument 3"
   ]
  },
  {
   "cell_type": "code",
   "execution_count": 9,
   "metadata": {},
   "outputs": [
    {
     "name": "stdout",
     "output_type": "stream",
     "text": [
      "125\n"
     ]
    }
   ],
   "source": [
    "process_value(5)"
   ]
  },
  {
   "cell_type": "markdown",
   "metadata": {
    "slideshow": {
     "slide_type": "slide"
    }
   },
   "source": [
    "... which makes our original code that applies the `if-elif-else` statements to all values in the range 0 to 3: shorter and much more readable:"
   ]
  },
  {
   "cell_type": "code",
   "execution_count": 10,
   "metadata": {},
   "outputs": [
    {
     "name": "stdout",
     "output_type": "stream",
     "text": [
      "0\n",
      "1\n",
      "8\n"
     ]
    }
   ],
   "source": [
    "# calling the function within a for loop...\n",
    "for x in range(3):\n",
    "    process_value(x)"
   ]
  },
  {
   "cell_type": "markdown",
   "metadata": {
    "slideshow": {
     "slide_type": "slide"
    }
   },
   "source": [
    "The benefit of using a function is more obvious where it removes the need to write out code multiple times.\n",
    "\n",
    "e.g. repeating the `if-elif-else` statement every time we want to use it. \n",
    "\n"
   ]
  },
  {
   "cell_type": "code",
   "execution_count": 11,
   "metadata": {
    "slideshow": {
     "slide_type": "slide"
    }
   },
   "outputs": [
    {
     "name": "stdout",
     "output_type": "stream",
     "text": [
      "8\n",
      "0\n"
     ]
    }
   ],
   "source": [
    "x = 2\n",
    "\n",
    "if x > 10:\n",
    "    print(0)\n",
    "elif x > 5:\n",
    "    print(x*x)\n",
    "elif x > 0:\n",
    "    print(x**3)\n",
    "else:\n",
    "    print(x)\n",
    "    \n",
    "x *= 6\n",
    "\n",
    "if x > 10:\n",
    "    print(0)\n",
    "elif x > 5:\n",
    "    print(x*x)\n",
    "elif x > 0:\n",
    "    print(x**3)\n",
    "else:\n",
    "    print(x)"
   ]
  },
  {
   "cell_type": "code",
   "execution_count": 12,
   "metadata": {
    "slideshow": {
     "slide_type": "slide"
    }
   },
   "outputs": [
    {
     "name": "stdout",
     "output_type": "stream",
     "text": [
      "8\n",
      "0\n"
     ]
    }
   ],
   "source": [
    "x = 2\n",
    "\n",
    "process_value(x)\n",
    "    \n",
    "x *= 6\n",
    "\n",
    "process_value(x)"
   ]
  },
  {
   "cell_type": "markdown",
   "metadata": {
    "slideshow": {
     "slide_type": "slide"
    }
   },
   "source": [
    "The __`return`__ keyword works a bit like the __`break`__ statement does in a loop.\n",
    "\n",
    "It returns the value and then exits the function before running the rest of the code."
   ]
  },
  {
   "cell_type": "markdown",
   "metadata": {
    "slideshow": {
     "slide_type": "slide"
    }
   },
   "source": [
    "Any code following the `return` statement will not be run.\n",
    "\n",
    "In this example, the code to increase x by 1 comes after the return statement. "
   ]
  },
  {
   "cell_type": "code",
   "execution_count": 63,
   "metadata": {
    "slideshow": {
     "slide_type": "slide"
    }
   },
   "outputs": [
    {
     "name": "stdout",
     "output_type": "stream",
     "text": [
      "1 > 0\n",
      "1 > 0\n",
      "1 > 0\n"
     ]
    }
   ],
   "source": [
    "x = 1\n",
    "\n",
    "def process_value(X):\n",
    "    \"Returns a value that depends on the input value x \"\n",
    "    \n",
    "    if X > 10:\n",
    "        return str(X) + \" > 10\"\n",
    "    elif X > 5:\n",
    "        return str(X) + \" > 5\"\n",
    "    elif X > 0:\n",
    "        return str(X) + \" > 0\"\n",
    "    else:\n",
    "        return str(X)\n",
    "    \n",
    "    # Increment global x by +1\n",
    "    global x\n",
    "    x = X + 1 \n",
    "    \n",
    "print(process_value(x))\n",
    "print(process_value(x))\n",
    "print(process_value(x))"
   ]
  },
  {
   "cell_type": "markdown",
   "metadata": {
    "slideshow": {
     "slide_type": "slide"
    }
   },
   "source": [
    "The return statement must come last."
   ]
  },
  {
   "cell_type": "code",
   "execution_count": 64,
   "metadata": {},
   "outputs": [
    {
     "name": "stdout",
     "output_type": "stream",
     "text": [
      "1 > 0\n",
      "2 > 0\n",
      "3 > 0\n"
     ]
    }
   ],
   "source": [
    "x = 1\n",
    "\n",
    "def process_value(X):\n",
    "    \"Returns a value that depends on the input value x \"\n",
    "    \n",
    "    #Increment global x by +1 \n",
    "    global x\n",
    "    x = X + 1 \n",
    "    \n",
    "    if x > 10:\n",
    "        return str(X) + \" > 10\"\n",
    "    elif x > 5:\n",
    "        return str(X) + \" > 5\"\n",
    "    elif x > 0:\n",
    "        return str(X) + \" > 0\"\n",
    "    else:\n",
    "        return str(X)    \n",
    "    \n",
    "print(process_value(x))\n",
    "print(process_value(x))\n",
    "print(process_value(x))"
   ]
  },
  {
   "cell_type": "markdown",
   "metadata": {
    "slideshow": {
     "slide_type": "slide"
    }
   },
   "source": [
    "It may be more appropriate to store the return item as a varable if multiple items are to be returned...\n",
    "<br> "
   ]
  },
  {
   "cell_type": "code",
   "execution_count": 65,
   "metadata": {
    "slideshow": {
     "slide_type": "-"
    }
   },
   "outputs": [
    {
     "name": "stdout",
     "output_type": "stream",
     "text": [
      "(None, '-3 < 0')\n",
      "(None, '-2 < 0')\n",
      "(None, '-1 < 0')\n",
      "(None, '0 < 10')\n",
      "('1 > 0', '1 < 10')\n",
      "('2 > 0', '2 < 10')\n",
      "('3 > 0', '3 < 10')\n",
      "('4 > 0', '4 < 10')\n",
      "('5 > 0', '5 < 10')\n",
      "('6 > 0', '6 < 10')\n",
      "('7 > 0', '7 < 10')\n",
      "('8 > 0', '8 < 10')\n",
      "('9 > 0', '9 < 10')\n",
      "('10 > 0', None)\n"
     ]
    }
   ],
   "source": [
    "x = -3\n",
    "\n",
    "def process_value(X):    \n",
    "    \"Returns two values that depend on the input value x \"\n",
    "    if X > 10:\n",
    "        i = (str(X) + \" > 10\")\n",
    "    elif X > 0:\n",
    "        i = (str(X) + \" > 0\")\n",
    "    else:\n",
    "        i = None\n",
    "        \n",
    "    if X < 0:\n",
    "        j = (str(X) + \" < 0\")\n",
    "    elif X < 10:\n",
    "        j = (str(X) + \" < 10\")\n",
    "    else:\n",
    "        j = None\n",
    "    \n",
    "    global x\n",
    "    x = X + 1 \n",
    "    \n",
    "    return i, j\n",
    "\n",
    "\n",
    "#     if i and j:    \n",
    "#         return i, j  \n",
    "#     elif i:\n",
    "#         return (i,)\n",
    "#     else:\n",
    "#         return (j,)\n",
    "\n",
    "\n",
    "for k in range(14):\n",
    "    print(process_value(x))"
   ]
  },
  {
   "cell_type": "markdown",
   "metadata": {},
   "source": [
    "# Scope \n",
    "\n",
    "The area of your program in which a variable can be used is referred to as scope. \n",
    "\n",
    "Variables have global (throughout whole program) or local (within a function) scope depending on where they are defined.\n",
    "\n",
    "For further explanation, refer to the primer for this class. \n",
    "\n",
    "We are now going to study an example demonstrating the difference between local and global scope. \n"
   ]
  },
  {
   "cell_type": "markdown",
   "metadata": {
    "slideshow": {
     "slide_type": "slide"
    }
   },
   "source": [
    "### Example : Use of Local Scope\n",
    "<a id='ExampleLocalScope'></a>\n",
    "In a problem concerning 2D geometry, intuitively, the variable names __`X`__ and __`Y`__ are useful for describing positions in 2D space. \n",
    "\n"
   ]
  },
  {
   "cell_type": "markdown",
   "metadata": {
    "slideshow": {
     "slide_type": "slide"
    }
   },
   "source": [
    "An example of this is the function `trees` that we used earlier to draw trees at locations given as a list if lists. \n",
    "```python\n",
    "def draw_trees(trees):\n",
    "    \"Draws trees\"\n",
    "\n",
    "    for t in trees:\n",
    "\n",
    "        x = t[0]\n",
    "        y = t[1]\n",
    "\n",
    "        pygame.draw.rect(window, black, [160+x, 300+y, 30, 45])\n",
    "        pygame.draw.polygon(window, green, \n",
    "                            [[250+x, 300+y], [175+x, 150+y], [100+x, 300+y]])\n",
    "        pygame.draw.polygon(window, green, \n",
    "                            [[240+x, 250+y], [175+x, 130+y], [110+x, 250+y]])\n",
    "            ```"
   ]
  },
  {
   "cell_type": "code",
   "execution_count": 1,
   "metadata": {
    "slideshow": {
     "slide_type": "slide"
    }
   },
   "outputs": [],
   "source": [
    "def draw_trees(trees):\n",
    "    \"Draws trees\"  \n",
    "    \n",
    "    for t in trees:\n",
    "        \n",
    "        x = t[0]\n",
    "        y = t[1]\n",
    "        \n",
    "        pygame.draw.rect(window, black, [160+x, 300+y, 30, 45])\n",
    "        pygame.draw.polygon(window, green, \n",
    "                            [[250+x, 300+y], [175+x, 150+y], [100+x, 300+y]])\n",
    "        pygame.draw.polygon(window, green, \n",
    "                            [[240+x, 250+y], [175+x, 130+y], [110+x, 250+y]])"
   ]
  },
  {
   "cell_type": "markdown",
   "metadata": {
    "slideshow": {
     "slide_type": "slide"
    }
   },
   "source": [
    "## Example : Using Functions to Optimise your Code. \n",
    "<a id='ExampleFunctionsOptimiseCode'></a>\n",
    "In the following examples we will use these 7 steps to create functions from existing code:\n",
    "1. `def` and `:`\n",
    "1. define input arguments in parentheses\n",
    "1. indent code inside of function\n",
    "1. doc string\n",
    "1. move global variable assignment outside of the function where necessary\n",
    "1. define return arguments \n",
    "1. move function to the top of the program\n",
    "1. call function"
   ]
  },
  {
   "cell_type": "markdown",
   "metadata": {
    "slideshow": {
     "slide_type": "slide"
    }
   },
   "source": [
    "### Pong\n",
    "In the program we wrote in the last class (04_Physical_User_Interaction), we learned to use loops to avoid repeatedly writing code.\n",
    "\n",
    "For example, the following code block...\n"
   ]
  },
  {
   "cell_type": "code",
   "execution_count": null,
   "metadata": {},
   "outputs": [],
   "source": [
    "# 6.4 Update paddle position  \n",
    "if ((pad1_pos[y] > 0 and pad1_pos[y] < win_height - pad_height) or\n",
    "   (pad1_pos[y] >= win_height - pad_height and pad1_vel[y] < 0) or \n",
    "   (pad1_pos[y] <= 0 and pad1_vel[y] > 0)):\n",
    "       pad1_pos[y] += pad1_vel[y]\n",
    "\n",
    "if ((pad2_pos[y] > 0 and pad2_pos[y] < win_height - pad_height) or\n",
    "   (pad2_pos[y] >= win_height - pad_height and pad2_vel[y] < 0) or \n",
    "   (pad2_pos[y] <= 0 and pad2_vel[y] > 0)):\n",
    "       pad2_pos[y] += pad2_vel[y]"
   ]
  },
  {
   "cell_type": "markdown",
   "metadata": {
    "slideshow": {
     "slide_type": "slide"
    }
   },
   "source": [
    "...can be simplified using the following steps:\n",
    "\n",
    "1. create a `for` loop\n",
    "1. iterate through items in lists `pad_pos` (paddle positions) and `vel` (paddle velocity).\n",
    "1. indent code to loop through\n",
    "1. replace all variables in code with `pos` and `col` variable names used within loop\n",
    "1. delete repeated code"
   ]
  },
  {
   "cell_type": "code",
   "execution_count": null,
   "metadata": {},
   "outputs": [],
   "source": [
    "# 6.4 Update paddle position  \n",
    "\n",
    "for pos, vel in zip(pad_pos, pad_vel):\n",
    "    if ((pos[y] > 0 and pos[y] < win_height - pad_height) or\n",
    "        (pos[y] >= win_height - pad_height and vel[y] < 0) or \n",
    "        (pos[y] <= 0 and vel[y] > 0)):\n",
    "            pos[y] += vel[y]"
   ]
  },
  {
   "cell_type": "markdown",
   "metadata": {
    "slideshow": {
     "slide_type": "slide"
    }
   },
   "source": [
    "The indented code can be encapsulated as a function to:\n",
    "1. give the block of code a meaningful name\n",
    "1. keep the main game loop short, concise and readable"
   ]
  },
  {
   "cell_type": "markdown",
   "metadata": {
    "slideshow": {
     "slide_type": "slide"
    }
   },
   "source": [
    "1. `def` and `:`\n",
    "1. define input arguments in parentheses\n",
    "1. indent code inside of function\n",
    "1. doc string\n",
    "1. move global variable assignment outside of the function where necessary\n",
    "1. define return arguments \n",
    "1. move function to the top of the program\n",
    "1. call function"
   ]
  },
  {
   "cell_type": "code",
   "execution_count": null,
   "metadata": {
    "slideshow": {
     "slide_type": "-"
    }
   },
   "outputs": [],
   "source": [
    "#original code\n",
    "\n",
    "# 6.4 Update paddle position    \n",
    "def update_pad_pos(pos, vel):\n",
    "    \"\"\"Updates paddle position\"\"\"\n",
    "    if ((pos[y] > 0 and pos[y] < win_height - pad_height) or\n",
    "        (pos[y] >= win_height - pad_height and vel[y] < 0) or \n",
    "        (pos[y] <= 0 and vel[y] > 0)):\n",
    "            pos[y] += vel[y]\n",
    "            \n",
    "for pos, vel in zip(pad_pos, pad_vel):\n",
    "    update_pad_pos(pos, vel)\n",
    "            \n",
    "# OR\n",
    "\n",
    "def update_pad_pos(pad_pos, pad_vel):\n",
    "    \"\"\"Updates paddle position\"\"\"\n",
    "    for pos, vel in zip(pad_pos, pad_vel):\n",
    "        if ((pos[y] > 0 and pos[y] < win_height - pad_height) or\n",
    "            (pos[y] >= win_height - pad_height and vel[y] < 0) or \n",
    "            (pos[y] <= 0 and vel[y] > 0)):\n",
    "                pos[y] += vel[y]\n",
    "                \n",
    "update_pad_pos(pad_pos, pad_vel)\n",
    "                \n",
    "                \n",
    "# pad_po and pad_vel are global so we can also so\n",
    "def update_pad_pos():\n",
    "    \"\"\"Updates the paddle position\"\"\"\n",
    "    for pos, vel in zip(pad_pos, pad_vel):\n",
    "        if ((pos[y] > 0 and pos[y] < win_height - pad_height) or\n",
    "            (pos[y] >= win_height - pad_height and vel[y] < 0) or \n",
    "            (pos[y] <= 0 and vel[y] > 0)):\n",
    "                pos[y] += vel[y]\n",
    "                \n",
    "update_pad_pos(pad_pos, pad_vel)"
   ]
  },
  {
   "cell_type": "markdown",
   "metadata": {
    "slideshow": {
     "slide_type": "slide"
    }
   },
   "source": [
    "This example is shown in the file sample_data/pong_example_func.py"
   ]
  },
  {
   "cell_type": "markdown",
   "metadata": {
    "slideshow": {
     "slide_type": "slide"
    }
   },
   "source": [
    "As a general rule we should try to eliminate repetition in our programs wherever possible using functions.\n",
    "\n"
   ]
  },
  {
   "cell_type": "markdown",
   "metadata": {
    "slideshow": {
     "slide_type": "slide"
    }
   },
   "source": [
    "## Storing Functions and Variables.\n",
    "<a id='StoringFunctions'></a>\n",
    "Python function definitions, variables, and constants can be stored in one or more separate files.\n",
    "\n",
    "This keeps things tidy and allows the functions to be used in multiple programs without re-writing the code.  \n",
    "\n"
   ]
  },
  {
   "cell_type": "markdown",
   "metadata": {
    "slideshow": {
     "slide_type": "slide"
    }
   },
   "source": [
    "The file containing the function definitions is called a “module”.\n",
    "\n",
    "The module name is the file name without the “.py” extension.\n",
    "\n"
   ]
  },
  {
   "cell_type": "markdown",
   "metadata": {
    "slideshow": {
     "slide_type": "slide"
    }
   },
   "source": [
    "These are saved to you computer when you install a module e.g. Pygame.\n",
    "<br>(Note: Many widely used packages are automatically installed with Anaconda)."
   ]
  },
  {
   "cell_type": "markdown",
   "metadata": {
    "slideshow": {
     "slide_type": "slide"
    }
   },
   "source": [
    "For example, the functions of the Pygame library are stored as a system of:\n",
    "- __sub-packages__ (sub-folders)\n",
    "- __modules__ (.py files).\n",
    "\n",
    " <img src=\"img/directory_tree_pygame_rect.png\" alt=\"Drawing\" style=\"width: 400px;\"/>"
   ]
  },
  {
   "cell_type": "markdown",
   "metadata": {
    "slideshow": {
     "slide_type": "slide"
    }
   },
   "source": [
    "By writing:\n",
    "\n",
    "    `pygame.draw.rect(window, white, pygame.Rect(x_position, y_position, width, height))`\n",
    "\n",
    "We are telling the computer to use:\n",
    " - the function `rect`...\n",
    " - ...from the module `draw`...\n",
    " - ...from the package `pygame`"
   ]
  },
  {
   "cell_type": "markdown",
   "metadata": {
    "slideshow": {
     "slide_type": "slide"
    }
   },
   "source": [
    "This function draws a rectangle described by the input arguments.\n",
    "<br>`x_position`\n",
    "<br>`y_position`\n",
    "<br>`width`\n",
    "<br>`height`\n",
    "\n",
    "\n"
   ]
  },
  {
   "cell_type": "markdown",
   "metadata": {
    "slideshow": {
     "slide_type": "slide"
    }
   },
   "source": [
    "A directory should contain a file called `__init__.py` for Python to treat the Python files within it as packages.\n",
    "\n",
    "(However, the examples in this notebook should work without the `__init__.py file`.)\n",
    "\n",
    "<img src=\"img/directory_tree__init__.png\" alt=\"Drawing\" style=\"width: 200px;\"/>"
   ]
  },
  {
   "cell_type": "markdown",
   "metadata": {},
   "source": [
    "In the simplest case, `__init__.py` can just be an empty file\n",
    "\n",
    "It can also execute initialization code for a package.\n",
    "\n",
    "We will learn about the role of this file later in today's class."
   ]
  },
  {
   "cell_type": "markdown",
   "metadata": {
    "slideshow": {
     "slide_type": "slide"
    }
   },
   "source": [
    "## Writing Your Own Library\n",
    "<a id='WritingYourOwnLibrary'></a>\n",
    "It can be useful to store the functions that you write as multiple files."
   ]
  },
  {
   "cell_type": "markdown",
   "metadata": {
    "slideshow": {
     "slide_type": "slide"
    }
   },
   "source": [
    "Typically, you will have one main program into which the other modules are imported.\n",
    "\n",
    "<img src=\"img/importing_packages_.png\" alt=\"Drawing\" style=\"width: 700px;\"/>"
   ]
  },
  {
   "cell_type": "markdown",
   "metadata": {
    "slideshow": {
     "slide_type": "slide"
    }
   },
   "source": [
    "This allows you to:\n",
    "- keep your code readable and tidy\n",
    "- re-use functions in multiple programs without re-writing the code"
   ]
  },
  {
   "cell_type": "markdown",
   "metadata": {
    "slideshow": {
     "slide_type": "slide"
    }
   },
   "source": [
    "Like other libraries, user-defined modules are made available within a program using the Python `import` keyword. \n",
    "\n",
    "Example\n",
    "\n",
    ">`import pygame`\n",
    "\n",
    "It is general practise to place all import statements at the beginning of the program."
   ]
  },
  {
   "cell_type": "markdown",
   "metadata": {
    "slideshow": {
     "slide_type": "-"
    }
   },
   "source": [
    "As we hae already studied, imported functions or variables can be called using the module name followed by the function name.\n",
    "\n",
    "Example\n",
    "\n",
    ">`pygame.quit()`"
   ]
  },
  {
   "cell_type": "markdown",
   "metadata": {
    "slideshow": {
     "slide_type": "slide"
    }
   },
   "source": [
    "Let's learnt to import code from a user-defined library...\n",
    "\n",
    "Open Spyder.\n",
    "\n",
    "Create two new files with the names:\n",
    "- `file_A.py`\n",
    "- `file_B.py`\n",
    "\n",
    "Save them in a new folder called `functions_example`."
   ]
  },
  {
   "cell_type": "markdown",
   "metadata": {
    "slideshow": {
     "slide_type": "-"
    }
   },
   "source": [
    "<img src=\"img/fileA_fileB.png\" alt=\"Drawing\" style=\"width: 500px;\"/>"
   ]
  },
  {
   "cell_type": "markdown",
   "metadata": {
    "slideshow": {
     "slide_type": "slide"
    }
   },
   "source": [
    "Copy and paste the code from the cell below into `file_B.py`"
   ]
  },
  {
   "cell_type": "code",
   "execution_count": 3,
   "metadata": {},
   "outputs": [],
   "source": [
    "number_B = 2\n",
    "\n",
    "def print_a_number():\n",
    "    print(number_B)    \n",
    "    \n",
    "def type_interrogate(data):\n",
    "    print(type(data))"
   ]
  },
  {
   "cell_type": "markdown",
   "metadata": {
    "slideshow": {
     "slide_type": "slide"
    }
   },
   "source": [
    "Save the file :\n",
    "\n",
    "File >> Save"
   ]
  },
  {
   "cell_type": "markdown",
   "metadata": {
    "slideshow": {
     "slide_type": "slide"
    }
   },
   "source": [
    "In File_A:\n",
    "- import file_B.py\n",
    "\n",
    "        import file_B\n",
    "\n",
    "- call the two functions\n",
    "\n",
    "        file_B.print_a_number()\n",
    "        \n",
    "        file_B.type_interrogate('hello')\n",
    "        \n",
    "        print(file_B.number_B)\n",
    "\n"
   ]
  },
  {
   "cell_type": "markdown",
   "metadata": {
    "slideshow": {
     "slide_type": "slide"
    }
   },
   "source": [
    "*What happens if `print_a_number` is called without an argument?*\n",
    "\n"
   ]
  },
  {
   "cell_type": "markdown",
   "metadata": {
    "slideshow": {
     "slide_type": "slide"
    }
   },
   "source": [
    "*What happpens if `type_interrogate` is called without an argument? *"
   ]
  },
  {
   "cell_type": "markdown",
   "metadata": {
    "collapsed": true,
    "slideshow": {
     "slide_type": "slide"
    }
   },
   "source": [
    "## Namespaces\n",
    "<a id='Namespaces'></a>\n",
    "We prefix `print_a_number`, `type_interrogate` and `number_B` with the __namespace__,  `file_B`.\n",
    "\n",
    "This shows which package we want to import the functions from.\n",
    "\n",
    "\n",
    "\n"
   ]
  },
  {
   "cell_type": "markdown",
   "metadata": {
    "slideshow": {
     "slide_type": "slide"
    }
   },
   "source": [
    "For example, when using the function `math.cos()`, we use the name space `math`:"
   ]
  },
  {
   "cell_type": "code",
   "execution_count": 12,
   "metadata": {},
   "outputs": [
    {
     "data": {
      "text/plain": [
       "-1.0"
      ]
     },
     "execution_count": 12,
     "metadata": {},
     "output_type": "execute_result"
    }
   ],
   "source": [
    "import math\n",
    "\n",
    "math.cos(math.pi)"
   ]
  },
  {
   "cell_type": "markdown",
   "metadata": {
    "slideshow": {
     "slide_type": "slide"
    }
   },
   "source": [
    "The __namespace__ shows we want to use the `cos` function from the `math` package.\n",
    "\n",
    "If `cos` appears in more than one package we import, then there will be more than one `cos` function available.\n",
    "\n",
    "We must make it clear which `cos` we want to use. \n",
    "\n",
    "\n"
   ]
  },
  {
   "cell_type": "markdown",
   "metadata": {
    "slideshow": {
     "slide_type": "slide"
    }
   },
   "source": [
    "#### Example: Square Root\n",
    "\n",
    "Below are two functions, both named `sqrt`. \n",
    "\n",
    "Both functions compute the square root of the input.\n",
    "\n",
    " - `math.sqrt`, from the package, `math`, gives an error if the input is a negative number. It does not support complex numbers.\n",
    " - `cmath.sqrt`, from the package, `cmath`, supports complex numbers.\n"
   ]
  },
  {
   "cell_type": "code",
   "execution_count": 3,
   "metadata": {
    "slideshow": {
     "slide_type": "slide"
    }
   },
   "outputs": [
    {
     "name": "stdout",
     "output_type": "stream",
     "text": [
      "2.0\n",
      "2.23606797749979j\n"
     ]
    }
   ],
   "source": [
    "import math\n",
    "import cmath\n",
    "print(math.sqrt(4))\n",
    "#print(math.sqrt(-5))\n",
    "#print(cmath.sqrt(-5))"
   ]
  },
  {
   "cell_type": "markdown",
   "metadata": {
    "slideshow": {
     "slide_type": "slide"
    }
   },
   "source": [
    "Two people collaborating on the same program might choose the same name for two functions that perform similar tasks. \n",
    "\n",
    "If these functions are in different modules, there will be no name clash since the module name provides a 'namespace'. "
   ]
  },
  {
   "cell_type": "markdown",
   "metadata": {
    "slideshow": {
     "slide_type": "slide"
    }
   },
   "source": [
    "### The Local Namespace.\n",
    "<a id='LocalNamespace'></a>\n",
    "Internally, each Python module and program has its own local namespace.\n",
    "\n",
    "The local namesapce is a “symbol table” which contains the names of all functions and variables that you don't have to prepend with a namespace."
   ]
  },
  {
   "cell_type": "markdown",
   "metadata": {
    "slideshow": {
     "slide_type": "slide"
    }
   },
   "source": [
    "When you import a module with an import statement, only the module’s name gets added to the local namespace – <br>(i.e. the imported module’s local namespace does not get added.)\n",
    "\n",
    "This is to avoid possible conflicts due to functions with the same name appearing in multiple imported modules. \n",
    "\n",
    "This is why you must prefix the function name with the module name. "
   ]
  },
  {
   "cell_type": "markdown",
   "metadata": {
    "slideshow": {
     "slide_type": "slide"
    }
   },
   "source": [
    "You can change the module name in the local namespace.\n",
    "\n",
    "In file_A.py, you can change the line:\n",
    "\n",
    "    import file_B\n",
    "\n",
    "to \n",
    "\n",
    "    import file_B as fb\n",
    "    \n"
   ]
  },
  {
   "cell_type": "markdown",
   "metadata": {
    "slideshow": {
     "slide_type": "slide"
    }
   },
   "source": [
    "We can now call a function using a shortened version of the module name\n",
    "\n",
    "    file_B.print_a_number()\n",
    "    \n",
    "to\n",
    "\n",
    "    fb.print_a_number()"
   ]
  },
  {
   "cell_type": "markdown",
   "metadata": {
    "slideshow": {
     "slide_type": "slide"
    }
   },
   "source": [
    "You can import *individual functions* and remove the need for the module name altogether:\n",
    "\n",
    "        import file_B as fb\n",
    "        from file_B import print_a_number\n",
    "\n",
    "        print_a_number()\n",
    "        \n",
    "        fb.interrogate_type('hello')\n"
   ]
  },
  {
   "cell_type": "markdown",
   "metadata": {
    "slideshow": {
     "slide_type": "slide"
    }
   },
   "source": [
    "To import *all functions* and varibales from a module, and remove the need for the module name altogether:\n",
    "\n",
    "        from file_B import *\n",
    "\n",
    "        print_a_number()\n",
    "\n",
    "        interrogate_type('hello')"
   ]
  },
  {
   "cell_type": "markdown",
   "metadata": {
    "slideshow": {
     "slide_type": "slide"
    }
   },
   "source": [
    "It is inadvisable to use `from ... import *` where you do not know the full content of a module e.g. a library such as Pygame.\n",
    "\n",
    "It may be appropraite to use * with a small, *specific*, user-defined module. "
   ]
  },
  {
   "cell_type": "markdown",
   "metadata": {
    "slideshow": {
     "slide_type": "slide"
    }
   },
   "source": [
    "### The Module Search Path\n",
    "<a id='ModuleSearchPath'></a>\n",
    "When a module is imported, the Python interpreter searches a collection of directories for a module with that name. \n",
    "\n",
    "The collection of directories is called the Python path.\n",
    "\n",
    "It is stored as a list of strings. \n",
    "\n"
   ]
  },
  {
   "cell_type": "markdown",
   "metadata": {
    "slideshow": {
     "slide_type": "slide"
    }
   },
   "source": [
    "You can display the Python path for your computer by running:"
   ]
  },
  {
   "cell_type": "code",
   "execution_count": 4,
   "metadata": {},
   "outputs": [
    {
     "name": "stdout",
     "output_type": "stream",
     "text": [
      "['', '/anaconda3/lib/python36.zip', '/anaconda3/lib/python3.6', '/anaconda3/lib/python3.6/lib-dynload', '/anaconda3/lib/python3.6/site-packages', '/anaconda3/lib/python3.6/site-packages/aeosa', '/anaconda3/lib/python3.6/site-packages/IPython/extensions', '/Users/hemma/.ipython']\n"
     ]
    }
   ],
   "source": [
    "import sys\n",
    "print(sys.path)"
   ]
  },
  {
   "cell_type": "markdown",
   "metadata": {
    "slideshow": {
     "slide_type": "slide"
    }
   },
   "source": [
    "`sys` is a module with useful functions for accessing your computer system."
   ]
  },
  {
   "cell_type": "markdown",
   "metadata": {
    "slideshow": {
     "slide_type": "slide"
    }
   },
   "source": [
    "For a module to be available for import, it must feature in the Python path. \n",
    "\n",
    "When you *install* a python module, the action you are doing is adding the module location to the python path.\n",
    "\n"
   ]
  },
  {
   "cell_type": "markdown",
   "metadata": {
    "slideshow": {
     "slide_type": "slide"
    }
   },
   "source": [
    "There are multiple ways to add a module to the search path.\n",
    "\n",
    "Today we will focus on the simplest, (and arguably the most useful) ways to import modules.  \n",
    "\n",
    "\n",
    "\n",
    "\n",
    "\n"
   ]
  },
  {
   "cell_type": "markdown",
   "metadata": {
    "slideshow": {
     "slide_type": "slide"
    }
   },
   "source": [
    "### Files Located in the Same Directory.\n",
    "<a id='FilesLocatedSameDirectory'></a>"
   ]
  },
  {
   "cell_type": "markdown",
   "metadata": {
    "slideshow": {
     "slide_type": "slide"
    }
   },
   "source": [
    "file_A and file_B are in the same folder.\n",
    "\n",
    "<img src=\"img/fileA_fileB.png\" alt=\"Drawing\" style=\"width: 600px;\"/>"
   ]
  },
  {
   "cell_type": "markdown",
   "metadata": {
    "slideshow": {
     "slide_type": "slide"
    }
   },
   "source": [
    "We therefore refer to them as 'sibling' files.\n",
    "\n",
    "The file can 'see' it's siblings.\n",
    "\n",
    "We can import code just by using the `import` keyword.\n",
    "\n"
   ]
  },
  {
   "cell_type": "markdown",
   "metadata": {
    "collapsed": true,
    "slideshow": {
     "slide_type": "slide"
    }
   },
   "source": [
    "The file can also 'see' folders in the same directory.\n",
    "\n",
    "Create a new folder, called `sibling_folder`, in the same directory as file_A.py and file_B.py.\n",
    "\n",
    "Within this folder, use spyder to create a new file called `file_C.py`. \n",
    "\n",
    "<img src=\"img/sibling_folder.png\" alt=\"Drawing\" style=\"width: 600px;\"/>"
   ]
  },
  {
   "cell_type": "markdown",
   "metadata": {
    "slideshow": {
     "slide_type": "slide"
    }
   },
   "source": [
    "Copy and paste the code from the cell below into file_C.py\n",
    "\n",
    "Save the file."
   ]
  },
  {
   "cell_type": "code",
   "execution_count": 7,
   "metadata": {},
   "outputs": [],
   "source": [
    "def subtract_and_increment(a, b):\n",
    "    \"\"\"\"\n",
    "    Return a minus b, plus 1\n",
    "    \"\"\"\n",
    "    c = a - b + 1\n",
    "    return c"
   ]
  },
  {
   "cell_type": "markdown",
   "metadata": {
    "collapsed": true,
    "slideshow": {
     "slide_type": "slide"
    }
   },
   "source": [
    "__Importing file_C to file_A __\n",
    "\n",
    "In `file_A.py`:\n",
    "\n",
    "```python\n",
    "import sibling_folder.file_C\n",
    "print(sibling_folder.file_C.subtract_and_increment(8, 10))\n",
    "```"
   ]
  },
  {
   "cell_type": "markdown",
   "metadata": {
    "slideshow": {
     "slide_type": "slide"
    }
   },
   "source": [
    "__Importing all code from file_C to file_A __\n",
    "\n",
    "In `file_A.py`:\n",
    "\n",
    "```python\n",
    "from sibling_folder.file_C import *\n",
    "print(subtract_and_increment(8, 10))\n",
    "```"
   ]
  },
  {
   "cell_type": "markdown",
   "metadata": {
    "slideshow": {
     "slide_type": "slide"
    }
   },
   "source": [
    "If a file is located one level or more higher than a program, it cannot automatically be seen by the program. \n",
    "\n",
    "To import the file we need to add its location to the Python path. \n",
    "<br>(the places the Python interpreter looks for modules).\n",
    "\n",
    "The easiest way to do this is using the module `sys`."
   ]
  },
  {
   "cell_type": "markdown",
   "metadata": {
    "slideshow": {
     "slide_type": "slide"
    }
   },
   "source": [
    "Use spyder to create a new file in the same folder as `file_C.py`.\n",
    "\n",
    "Call it `file_D.py`.\n",
    "\n",
    "<img src=\"img/fileD.png\" alt=\"Drawing\" style=\"width: 600px;\"/>"
   ]
  },
  {
   "cell_type": "markdown",
   "metadata": {
    "slideshow": {
     "slide_type": "slide"
    }
   },
   "source": [
    "Copy and paste the following code to `file_D.py`\n",
    "\n",
    "The code `append`s (adds) the directory one level up (`../`) to the python path list.\n"
   ]
  },
  {
   "cell_type": "code",
   "execution_count": 1,
   "metadata": {},
   "outputs": [
    {
     "ename": "ModuleNotFoundError",
     "evalue": "No module named 'file_B'",
     "output_type": "error",
     "traceback": [
      "\u001b[0;31m---------------------------------------------------------------------------\u001b[0m",
      "\u001b[0;31mModuleNotFoundError\u001b[0m                       Traceback (most recent call last)",
      "\u001b[0;32m<ipython-input-1-612d870a2143>\u001b[0m in \u001b[0;36m<module>\u001b[0;34m()\u001b[0m\n\u001b[1;32m      1\u001b[0m \u001b[0;32mimport\u001b[0m \u001b[0msys\u001b[0m\u001b[0;34m\u001b[0m\u001b[0m\n\u001b[1;32m      2\u001b[0m \u001b[0msys\u001b[0m\u001b[0;34m.\u001b[0m\u001b[0mpath\u001b[0m\u001b[0;34m.\u001b[0m\u001b[0mappend\u001b[0m\u001b[0;34m(\u001b[0m\u001b[0;34m'../'\u001b[0m\u001b[0;34m)\u001b[0m\u001b[0;34m\u001b[0m\u001b[0m\n\u001b[0;32m----> 3\u001b[0;31m \u001b[0;32mimport\u001b[0m \u001b[0mfile_B\u001b[0m\u001b[0;34m\u001b[0m\u001b[0m\n\u001b[0m",
      "\u001b[0;31mModuleNotFoundError\u001b[0m: No module named 'file_B'"
     ]
    }
   ],
   "source": [
    "import sys\n",
    "sys.path.append('../')\n",
    "import file_B"
   ]
  },
  {
   "cell_type": "markdown",
   "metadata": {
    "slideshow": {
     "slide_type": "slide"
    }
   },
   "source": [
    "The functions from `file_B.py` can now be used within `file_D.py`\n",
    "\n",
    "e.g.\n",
    "\n",
    "    file_B.print_a_number()"
   ]
  },
  {
   "cell_type": "markdown",
   "metadata": {
    "slideshow": {
     "slide_type": "slide"
    }
   },
   "source": [
    "Notice the addition to the list when we append a directory to the path"
   ]
  },
  {
   "cell_type": "code",
   "execution_count": 4,
   "metadata": {},
   "outputs": [
    {
     "name": "stdout",
     "output_type": "stream",
     "text": [
      "['', '/anaconda3/lib/python36.zip', '/anaconda3/lib/python3.6', '/anaconda3/lib/python3.6/lib-dynload', '/anaconda3/lib/python3.6/site-packages', '/anaconda3/lib/python3.6/site-packages/aeosa', '/anaconda3/lib/python3.6/site-packages/IPython/extensions', '/Users/hemma/.ipython', '../']\n",
      "\n",
      "['', '/anaconda3/lib/python36.zip', '/anaconda3/lib/python3.6', '/anaconda3/lib/python3.6/lib-dynload', '/anaconda3/lib/python3.6/site-packages', '/anaconda3/lib/python3.6/site-packages/aeosa', '/anaconda3/lib/python3.6/site-packages/IPython/extensions', '/Users/hemma/.ipython', '../', '../']\n",
      "\n",
      "['', '/anaconda3/lib/python36.zip', '/anaconda3/lib/python3.6', '/anaconda3/lib/python3.6/lib-dynload', '/anaconda3/lib/python3.6/site-packages', '/anaconda3/lib/python3.6/site-packages/aeosa', '/anaconda3/lib/python3.6/site-packages/IPython/extensions', '/Users/hemma/.ipython', '../']\n"
     ]
    }
   ],
   "source": [
    "import sys\n",
    "print(sys.path, end=\"\\n\\n\")\n",
    "\n",
    "# # Add a directory\n",
    "sys.path.append('../')\n",
    "print(sys.path, end=\"\\n\\n\")\n",
    "\n",
    "# Remove a directory\n",
    "sys.path.remove('../')\n",
    "print(sys.path)"
   ]
  },
  {
   "cell_type": "markdown",
   "metadata": {
    "slideshow": {
     "slide_type": "slide"
    }
   },
   "source": [
    "The path allows us to import code located anywhere on the compter.\n",
    "\n",
    "<img src=\"img/fileEFG.png\" alt=\"Drawing\" style=\"width: 700px;\"/>\n",
    "\n",
    "\n",
    "- to import code from file_E.py to file_C.py, <br>in file_C.py:\n",
    "> `sys.path.append('../../another_example')`\n"
   ]
  },
  {
   "cell_type": "markdown",
   "metadata": {
    "slideshow": {
     "slide_type": "slide"
    }
   },
   "source": [
    "<img src=\"img/fileEFG.png\" alt=\"Drawing\" style=\"width: 700px;\"/>\n",
    "\n",
    "\n",
    "\n",
    "- to import code from file_G.py to file_B.py, <br>in file_B.p:\n",
    "> `sys.path.append('../thesis)`"
   ]
  },
  {
   "cell_type": "markdown",
   "metadata": {
    "slideshow": {
     "slide_type": "slide"
    }
   },
   "source": [
    "Another way to add a location to the Python path is to use the __full file path__.\n",
    "\n",
    "__Full file path :__ The path to the file you want to use from your computers Home directory."
   ]
  },
  {
   "cell_type": "markdown",
   "metadata": {
    "slideshow": {
     "slide_type": "slide"
    }
   },
   "source": [
    "##### Windows computer \n",
    "\n",
    "The full file path usually begins with the letter name of the drive.\n",
    "\n",
    "e.g.\n",
    "\n",
    ">`C:\\Desktop\\my_folder\\my_sub_folder`\n",
    "\n",
    "Folder `my_sub_folder` is on the `C` drive.\n",
    "\n",
    "We can import this location to a program using:\n",
    "\n",
    "`sys.path.append('C:\\Desktop\\my_folder\\my_sub_folder')`"
   ]
  },
  {
   "cell_type": "markdown",
   "metadata": {
    "slideshow": {
     "slide_type": "slide"
    }
   },
   "source": [
    "You can find the path by right clicking on the file and choosing:\n",
    "    \n",
    ">`Properties`\n",
    "\n",
    "<img src=\"img/properties1.jpg\" alt=\"Drawing\" style=\"width: 200px;\"/>\n",
    "\n",
    "\n",
    "\n"
   ]
  },
  {
   "cell_type": "markdown",
   "metadata": {
    "slideshow": {
     "slide_type": "slide"
    }
   },
   "source": [
    "Then copy and paste the file `Location`\n",
    "\n",
    "<img src=\"img/properties2.jpg\" alt=\"Drawing\" style=\"width: 600px;\"/>"
   ]
  },
  {
   "cell_type": "markdown",
   "metadata": {
    "slideshow": {
     "slide_type": "slide"
    }
   },
   "source": [
    "Or you can press + hold 'Shift' *and* right click on the file and choose:\n",
    "\n",
    ">`Copy as path`\n",
    "\n",
    "<img src=\"img/copyaspath.jpg\" alt=\"Drawing\" style=\"width: 400px;\"/>"
   ]
  },
  {
   "cell_type": "markdown",
   "metadata": {
    "slideshow": {
     "slide_type": "slide"
    }
   },
   "source": [
    "##### Mac \n",
    "\n",
    "\n",
    "The full file path usually begins at the `Users` directory.\n",
    "\n",
    "e.g.\n",
    "\n",
    ">`/Users/Hemma/Desktop/my_folder/my_sub_folder`\n",
    "\n",
    "Folder `my_sub_folder` belongs to the user, `Hemma`.\n",
    "\n",
    "\n",
    "We can import this location to a program using:\n",
    "\n",
    "`sys.path.append('/Users/Hemma/Desktop/my_folder/my_sub_folder')`"
   ]
  },
  {
   "cell_type": "markdown",
   "metadata": {
    "slideshow": {
     "slide_type": "slide"
    }
   },
   "source": [
    "You can find the path by right clicking on the file and choosing:\n",
    "    \n",
    ">`Get info`\n",
    "\n",
    "<img src=\"img/getinfo.jpeg\" alt=\"Drawing\" style=\"width: 600px;\"/>\n",
    "\n",
    "\n",
    "\n"
   ]
  },
  {
   "cell_type": "markdown",
   "metadata": {
    "slideshow": {
     "slide_type": "slide"
    }
   },
   "source": [
    "Then copy and paste the file `Where`\n",
    "\n",
    "<img src=\"img/where.jpg\" alt=\"Drawing\" style=\"width: 600px;\"/>"
   ]
  },
  {
   "cell_type": "markdown",
   "metadata": {
    "slideshow": {
     "slide_type": "slide"
    }
   },
   "source": [
    "Or you can drag the file into a terminal and the path will appear.\n",
    "\n",
    "\n",
    "<img src=\"img/dragterm.jpg\" alt=\"Drawing\" style=\"width: 400px;\"/>"
   ]
  },
  {
   "cell_type": "markdown",
   "metadata": {
    "slideshow": {
     "slide_type": "slide"
    }
   },
   "source": [
    "### `__init__.py`\n",
    "<a id='__init__.py'></a>\n",
    "\n",
    "The Python interpreter will only check directories that contain a file with the name `__init__.py`.\n",
    "\n",
    "You should create an empty file with the name `__init__.py` within any directory you wish to import.\n",
    "\n",
    "The purpose of this is to prevent other python files with the same name (e.g. other projects) from being mistakenly imported. "
   ]
  },
  {
   "cell_type": "markdown",
   "metadata": {
    "slideshow": {
     "slide_type": "slide"
    }
   },
   "source": [
    "As mentioned earlier, the examples in this tutorial will probably work without `__init__.py`.\n",
    "\n",
    "It is best practise to use `__init__.py`.\n",
    "\n",
    "Create an empty file with the name `__init__.py` in folders:\n",
    "- `functions_example`\n",
    "- `sibling_folder`"
   ]
  },
  {
   "cell_type": "markdown",
   "metadata": {
    "slideshow": {
     "slide_type": "slide"
    }
   },
   "source": [
    "### Adding Modules to the 'site-packages'.\n",
    "<a id='AddingModulessite-packages'></a>\n",
    "\n",
    "`site-packages` is the name of the directory of manually insalled python packages. \n",
    "\n",
    "You can find the location of `site-packages` by running:\n",
    ">`print(sys.path)`\n",
    "\n",
    "Installed packages such as `Pygame` are found here.\n",
    "\n",
    "\n",
    "\n"
   ]
  },
  {
   "cell_type": "markdown",
   "metadata": {
    "slideshow": {
     "slide_type": "slide"
    }
   },
   "source": [
    "If you add a module to thuis directory, it will be universally accessible within the home directory of your computer system.\n",
    "\n",
    "i.e. You can call it from anywhere by using `import` just as for Pygame or any other installed package. "
   ]
  },
  {
   "cell_type": "markdown",
   "metadata": {},
   "source": [
    "# Variable Scope\n",
    "In Python, global variables are global *within a module, not across all modules*.\n",
    "<br>This can cause problems..."
   ]
  },
  {
   "cell_type": "markdown",
   "metadata": {},
   "source": [
    "For example, import a global varibale from file_B.py to file_A.py and change its value:\n",
    "\n",
    "```python\n",
    "from file_B import number_B\n",
    "number_B = 0\n",
    "```\n",
    "<br>\n",
    "\n",
    "The value of `number_B` in file_A.py :\n",
    "```python\n",
    "print(number_B);\n",
    "```\n",
    "__`>> 0`__\n",
    "\n",
    "<br>\n",
    "\n",
    "The value of `number_B` in file_B.py :\n",
    "```python\n",
    "print(number_B);\n",
    "```\n",
    "__`>> 2`__ (the original value)\n",
    "\n",
    "<br>\n",
    "\n",
    "In other words, the global variable does *not* update across all files. "
   ]
  },
  {
   "cell_type": "markdown",
   "metadata": {},
   "source": [
    "###### The most common way to share global variables across different modules. \n",
    "\n",
    "One module (.py file) is used to store the global variables.\n",
    "\n",
    "This module is imported to __all__ other modules (that need to access the global varoables).\n",
    "\n",
    "Let's look at the same example again. Notice the slight difference in how we import `number_B` from `file_B.py`..."
   ]
  },
  {
   "cell_type": "markdown",
   "metadata": {},
   "source": [
    "Let's edit our files : `file_A.py`, `file_B.py` and `file_C.py` such that:\n",
    "- `file_A.py` : main program\n",
    "- `file_B.py` : all functions\n",
    "- `file_C.py` : all variables"
   ]
  },
  {
   "cell_type": "markdown",
   "metadata": {},
   "source": [
    "__`file_C.py`__\n",
    "\n",
    "```python\n",
    "number_B = 2\n",
    "```"
   ]
  },
  {
   "cell_type": "markdown",
   "metadata": {},
   "source": [
    "__`file_B.py`__\n",
    "\n",
    "```python\n",
    "import sibling_folder.file_C as file_C\n",
    "\n",
    "def print_a_number():\n",
    "    # print(number_B)  \n",
    "    print(file_C.number_B)    \n",
    "    \n",
    "def type_interrogate(data):\n",
    "    print(type(data))\n",
    "\n",
    "```"
   ]
  },
  {
   "cell_type": "markdown",
   "metadata": {},
   "source": [
    "__`file_A.py`__\n",
    "\n",
    "```python\n",
    "import sibling_folder.file_C as file_C\n",
    "import file_B\n",
    "\n",
    "file_B.print_a_number()\n",
    "\n",
    "file_C.number_B = 0\n",
    "\n",
    "print(file_C.number_B)\n",
    "        \n",
    "file_B.print_a_number()\n",
    "\n",
    "```\n",
    "\n"
   ]
  },
  {
   "cell_type": "markdown",
   "metadata": {},
   "source": [
    "When we run `file_A.py` we see that when we change the value of `file_C.number_B` in `file_A.py`, the variable is updateed in:\n",
    "\n",
    "file_C.py :\n",
    "```python\n",
    "print(file_C.number_B)\n",
    "```\n",
    "__`>> 0`__\n",
    "\n",
    "<br>\n",
    "\n",
    "file_B.py :\n",
    "```python\n",
    "file_B.print_a_number()\n",
    "```\n",
    "__`>> 0`__ \n",
    "\n",
    "<br>\n",
    "\n",
    "This time, the global variable updates across all files. "
   ]
  },
  {
   "cell_type": "markdown",
   "metadata": {},
   "source": [
    "The module that contains the global variables (in this case `file_C`) is called the __configuration module__.\n",
    "\n",
    "When changing the variable or using the variable, it is *always* prefixed with the configuration module name.\n",
    "\n",
    "The prefixed variable can be accessed and updated by all other modules.\n",
    "\n",
    "To identify which is the configuration module and remind us to import it, it is often called `config.py` or `cfg.py`.\n",
    "\n"
   ]
  },
  {
   "cell_type": "markdown",
   "metadata": {},
   "source": [
    "#### Remember... \n",
    "*Do not* use a `from ... import` *unless* the variable is intended to be a constant (i.e. it's value will not change during the program). \n",
    "\n",
    "__Example:__\n",
    "`from file_C import number_B` in file_A.py creates a new global variable with scope within file_A.py only.  "
   ]
  },
  {
   "cell_type": "markdown",
   "metadata": {},
   "source": [
    "Check if really need to make a variable global. It may be that you only use it within one file.\n",
    "\n",
    "If that is the case, you do not need to make it global across all files. "
   ]
  },
  {
   "cell_type": "markdown",
   "metadata": {
    "collapsed": true,
    "slideshow": {
     "slide_type": "slide"
    }
   },
   "source": [
    "## Importing Data from Delimited Text Files\n",
    "<a id='ImportingDataDelimitedTextFiles'></a>\n",
    "To read data from text files such as .csv, .txt, .dat, we can use  `numpy.load.txt`."
   ]
  },
  {
   "cell_type": "markdown",
   "metadata": {
    "slideshow": {
     "slide_type": "slide"
    }
   },
   "source": [
    "__Remember__\n",
    "<br>The file to be loaded must be in the same directory as your python program.\n",
    "<br>Otherwise you must specify the the full path to the data file using / to seperate directory names. \n",
    "<br>The filename (or path plus filename) needs to be between \"\" quotation marks. "
   ]
  },
  {
   "cell_type": "markdown",
   "metadata": {
    "slideshow": {
     "slide_type": "slide"
    }
   },
   "source": [
    "To import the data from `sample_data/data.dat`:\n",
    ">`0.000 1.053 2.105 3.158 4.211\n",
    "74.452 48.348 68.733 59.796 54.123`\n"
   ]
  },
  {
   "cell_type": "code",
   "execution_count": 49,
   "metadata": {
    "slideshow": {
     "slide_type": "slide"
    }
   },
   "outputs": [
    {
     "name": "stdout",
     "output_type": "stream",
     "text": [
      "[[ 1.053  2.105  3.158  4.211  6.065]\n",
      " [48.348 68.733 59.796 54.123 74.452]]\n",
      "<class 'numpy.ndarray'>\n"
     ]
    }
   ],
   "source": [
    "import numpy as np\n",
    "A = np.loadtxt('sample_data/sample_data.dat')\n",
    "print(A)\n",
    "print(type(A))\n"
   ]
  },
  {
   "cell_type": "markdown",
   "metadata": {},
   "source": [
    "Purely numerical data is imported as a Numpy array.\n",
    "\n",
    "This is a data structure for storing numerical values.\n",
    "\n"
   ]
  },
  {
   "cell_type": "markdown",
   "metadata": {},
   "source": [
    "Individual elements, rows or columns can be returned using the index"
   ]
  },
  {
   "cell_type": "code",
   "execution_count": 128,
   "metadata": {},
   "outputs": [
    {
     "name": "stdout",
     "output_type": "stream",
     "text": [
      "2.105\n",
      "[1.053 2.105 3.158 4.211 6.065]\n",
      "[ 2.105 68.733]\n"
     ]
    }
   ],
   "source": [
    "print(A[0][1])  # row 0, col 1\n",
    "print(A[0, :])  # row 0\n",
    "print(A[:, 1])  # col 1\n",
    "\n"
   ]
  },
  {
   "cell_type": "markdown",
   "metadata": {
    "slideshow": {
     "slide_type": "slide"
    }
   },
   "source": [
    "The __delimiter__ should (sometimes) be specified.\n",
    "\n",
    "This tells Python how to separate the data into the individual elements of an array. \n",
    "\n",
    "The default delimiter is a space.\n",
    "\n",
    "(Data separated by spaces will be automatically be assigned different indices)."
   ]
  },
  {
   "cell_type": "markdown",
   "metadata": {
    "slideshow": {
     "slide_type": "slide"
    }
   },
   "source": [
    "The __data type__ should (sometimes) be specified.\n",
    "\n",
    "This tells Python how to separate the data into the individual elements of an array. \n",
    "\n",
    "The default data type is `float`.\n",
    "\n",
    "If your data contains items that cannot be expressed as a float, importing it will cause an error unless the data-type is specified.\n",
    "\n",
    "Mixed data types can be imported as `string` values. "
   ]
  },
  {
   "cell_type": "markdown",
   "metadata": {
    "slideshow": {
     "slide_type": "slide"
    }
   },
   "source": [
    "Data in `sample_data/sample_student_data.txt`:\n",
    "- __delimiter__ : tab (`/t`) \n",
    "- __data type__ : string (float in some columns)\n",
    "\n",
    "```Python\n",
    "Subject\tSex\tDOB\tHeight\tWeight\tBP\n",
    "(ID)\tM/F\tdd/mm/yy\tm\tkg\tmmHg\n",
    "JW-1\tM\t19/12/1995\t1.82\t92.4\t119/76\n",
    "JW-2\tM\t11/01/1996\t1.77\t80.9\t114/73\n",
    "JW-3\tF\t02/10/1995\t1.68\t69.7\t124/79\n",
    "JW-6\tM\t06/07/1995\t1.72\t75.5\t110/60\n",
    "JW-7\tF\t28/03/1996\t1.66\t72.4\t-\n",
    "JW-9\tF\t11/12/1995\t1.78\t82.1\t115/75\n",
    "JW-10\tF\t07/04/1996\t1.6\t45\t-/-\n",
    "JW-11\tM\t22/08/1995\t1.72\t77.2\t97/63\n",
    "JW-12\tM\t23/05/1996\t1.83\t88.9\t105/70\n",
    "JW-14\tF\t12/01/1996\t1.56\t56.3\t108/72\n",
    "JW-15\tF\t01/06/1996\t1.64\t65\t99/67\n",
    "JW-16\tM\t10/09/1995\t1.63\t73\t131/84\n",
    "JW-17\tM\t17/02/1996\t1.67\t89.8\t101/76\n",
    "JW-18\tM\t31/07/1996\t1.66\t75.1\t-/-\n",
    "JW-19\tF\t30/10/1995\t1.59\t67.3\t103/69\n",
    "JW-22\tF\t09/03/1996\t1.7\t45\t119/80\n",
    "JW-23\tM\t15/05/1995\t1.97\t89.2\t124/82\n",
    "JW-24\tF\t01/12/1995\t1.66\t63.8\t100/78\n",
    "JW-25\tF\t25/10/1995\t1.63\t64.4\t-/-\n",
    "JW-26\tM\t17/04/1996\t1.69\t55\t121/82\n",
    "```"
   ]
  },
  {
   "cell_type": "code",
   "execution_count": 129,
   "metadata": {
    "slideshow": {
     "slide_type": "slide"
    }
   },
   "outputs": [
    {
     "data": {
      "text/plain": [
       "array([['Student', 'Sex', 'DOB', 'Height', 'Weight', 'BP'],\n",
       "       ['(ID)', 'M/F', 'dd/mm/yy', 'm', 'kg', 'mmHg'],\n",
       "       ['JW-1', 'M', '19/12/1995', '1.82', '92.4', '119/76'],\n",
       "       ['JW-2', 'M', '11/01/1996', '1.77', '80.9', '114/73'],\n",
       "       ['JW-3', 'F', '02/10/1995', '1.68', '69.7', '124/79'],\n",
       "       ['JW-4', 'M', '11/01/1996', '1.77', '80.9', '114/73'],\n",
       "       ['JW-5', 'F', '02/10/1995', '1.68', '69.7', '124/79'],\n",
       "       ['JW-6', 'M', '06/07/1995', '1.72', '75.5', '110/60'],\n",
       "       ['JW-7', 'F', '28/03/1996', '1.66', '72.4', '-'],\n",
       "       ['JW-9', 'F', '11/12/1995', '1.78', '82.1', '115/75'],\n",
       "       ['JW-10', 'F', '07/04/1996', '1.6', '45', '-/-'],\n",
       "       ['JW-11', 'M', '22/08/1995', '1.72', '77.2', '97/63'],\n",
       "       ['JW-12', 'M', '23/05/1996', '1.83', '88.9', '105/70'],\n",
       "       ['JW-14', 'F', '12/01/1996', '1.56', '56.3', '108/72'],\n",
       "       ['JW-15', 'F', '01/06/1996', '1.64', '65', '99/67'],\n",
       "       ['JW-16', 'M', '10/09/1995', '1.63', '73', '131/84'],\n",
       "       ['JW-17', 'M', '17/02/1996', '1.67', '89.8', '101/76'],\n",
       "       ['JW-18', 'M', '31/07/1996', '1.66', '75.1', '-/-'],\n",
       "       ['JW-19', 'F', '30/10/1995', '1.59', '67.3', '103/69'],\n",
       "       ['JW-22', 'F', '09/03/1996', '1.7', '45', '119/80'],\n",
       "       ['JW-23', 'M', '15/05/1995', '1.97', '89.2', '124/82'],\n",
       "       ['JW-24', 'F', '01/12/1995', '1.66', '63.8', '100/78'],\n",
       "       ['JW-25', 'F', '25/10/1995', '1.63', '64.4', '-/-'],\n",
       "       ['JW-26', 'M', '17/04/1996', '1.69', '55', '121/82']], dtype='<U10')"
      ]
     },
     "execution_count": 129,
     "metadata": {},
     "output_type": "execute_result"
    }
   ],
   "source": [
    "np.loadtxt('sample_data/sample_student_data.txt', delimiter=\"\\t\", dtype=str)\n",
    "\n"
   ]
  },
  {
   "cell_type": "markdown",
   "metadata": {
    "slideshow": {
     "slide_type": "slide"
    }
   },
   "source": [
    "Regions can be selected, for example to select only numerical data. \n",
    "\n",
    "`skiprows` skips the first n lines. \n",
    "\n",
    "`usecols` specifies which columns to read, with 0 being the first. \n",
    "\n",
    "`usecols = (1, 4, 5)` : extracts the 2nd, 5th and 6th columns.\n",
    "<br>`usecols = (3, 4)` : extracts the 4th and 5th columns (height and weight data)."
   ]
  },
  {
   "cell_type": "code",
   "execution_count": 50,
   "metadata": {
    "slideshow": {
     "slide_type": "slide"
    }
   },
   "outputs": [
    {
     "name": "stdout",
     "output_type": "stream",
     "text": [
      "[[ 1.78 82.1 ]\n",
      " [ 1.6  45.  ]\n",
      " [ 1.72 77.2 ]\n",
      " [ 1.83 88.9 ]\n",
      " [ 1.56 56.3 ]\n",
      " [ 1.64 65.  ]\n",
      " [ 1.63 73.  ]\n",
      " [ 1.67 89.8 ]\n",
      " [ 1.66 75.1 ]\n",
      " [ 1.59 67.3 ]\n",
      " [ 1.7  45.  ]\n",
      " [ 1.97 89.2 ]\n",
      " [ 1.66 63.8 ]\n",
      " [ 1.63 64.4 ]\n",
      " [ 1.69 55.  ]]\n"
     ]
    }
   ],
   "source": [
    "students = np.loadtxt('sample_data/sample_student_data.txt', skiprows=9, usecols=(3,4))\n",
    "print(students)\n",
    "\n"
   ]
  },
  {
   "cell_type": "markdown",
   "metadata": {
    "slideshow": {
     "slide_type": "slide"
    }
   },
   "source": [
    "You can now use the imported data as a regular Numpy array.\n",
    "\n"
   ]
  },
  {
   "cell_type": "code",
   "execution_count": 51,
   "metadata": {
    "scrolled": true,
    "slideshow": {
     "slide_type": "slide"
    }
   },
   "outputs": [
    {
     "data": {
      "image/png": "[encoded data removed]",
      "text/plain": [
       "<Figure size 432x288 with 1 Axes>"
      ]
     },
     "metadata": {},
     "output_type": "display_data"
    }
   ],
   "source": [
    "# Use indexing to select which ROWS and which COLUMNS to plot\n",
    "plt.plot(students[:, 0], students[:, 1], 'rx', label=\"students\")\n",
    "\n",
    "# Legend\n",
    "plt.legend(loc='best', fontsize=12)\n",
    "\n",
    "# Axes labels\n",
    "plt.xlabel('Height (m)', fontsize=12)\n",
    "plt.ylabel('Weight (kg)', fontsize=12)\n",
    "\n",
    "# Title\n",
    "plt.title(\"Height to weight relationship for students in class A\", fontsize=18);\n",
    "\n"
   ]
  },
  {
   "cell_type": "markdown",
   "metadata": {
    "slideshow": {
     "slide_type": "slide"
    }
   },
   "source": [
    "## Lambda Functions\n",
    "<a id='LambdaFunctions'></a>\n",
    "\n",
    "When we create a function using the `def` keyword we assign it to a function name. \n",
    "\n",
    "```python\n",
    "def sum_and_increment():\n",
    "```\n",
    "\n"
   ]
  },
  {
   "cell_type": "markdown",
   "metadata": {
    "slideshow": {
     "slide_type": "slide"
    }
   },
   "source": [
    "We can also create an un-named function using the `lambda` keyword.\n",
    "\n",
    "A lambda function: \n",
    " - may contain a single expression, only\n",
    " - must always return a value\n",
    " \n",
    "\n",
    "```python\n",
    "output = lambda input_arg(s) : output_arg(s)\n",
    "```"
   ]
  },
  {
   "cell_type": "markdown",
   "metadata": {
    "slideshow": {
     "slide_type": "slide"
    }
   },
   "source": [
    "The next example shows the definition of a function and a lambda function.\n",
    "<br> Both perform exactly the same task; computing the value of `x`$^2$.\n",
    "\n",
    "Both can be called using:\n",
    "```python\n",
    "square(5)\n",
    "```\n",
    "with the number in brackets being the value that you want to square. "
   ]
  },
  {
   "cell_type": "code",
   "execution_count": null,
   "metadata": {},
   "outputs": [],
   "source": [
    "# function definition expressed on two lines\n",
    "# def square(x):\n",
    "#    return x ** 2\n",
    "\n",
    "# function definition expressed on one line\n",
    "def square(x) :  return x ** 2\n",
    "\n",
    "print(square(5))\n",
    "\n",
    "# un-named function\n",
    "square = lambda x : x ** 2\n",
    "    \n",
    "print(square(5))"
   ]
  },
  {
   "cell_type": "markdown",
   "metadata": {
    "slideshow": {
     "slide_type": "slide"
    }
   },
   "source": [
    "Lambda functions can have multiple inputs and outputs.\n",
    "\n",
    "Input arguments are seperated by commas. \n",
    "\n",
    "Output arguments are returned as a data structure (e.g. list)."
   ]
  },
  {
   "cell_type": "code",
   "execution_count": 34,
   "metadata": {},
   "outputs": [
    {
     "name": "stdout",
     "output_type": "stream",
     "text": [
      "[3, 1]\n"
     ]
    }
   ],
   "source": [
    "lam_func = lambda x, y: [x+y, x-y]\n",
    "\n",
    "print(lam_func(2, 1))"
   ]
  },
  {
   "cell_type": "markdown",
   "metadata": {
    "collapsed": true,
    "slideshow": {
     "slide_type": "slide"
    }
   },
   "source": [
    "So what is the point of the un-defined function? "
   ]
  },
  {
   "cell_type": "markdown",
   "metadata": {
    "slideshow": {
     "slide_type": "slide"
    }
   },
   "source": [
    "\n",
    "- Short functions can be written more concisely.\n",
    "- Functions can be embedded within main body of the code, for example within a list or another function.\n",
    "- This is not possible with a regular function...\n"
   ]
  },
  {
   "cell_type": "code",
   "execution_count": 45,
   "metadata": {
    "slideshow": {
     "slide_type": "slide"
    }
   },
   "outputs": [
    {
     "name": "stdout",
     "output_type": "stream",
     "text": [
      "25\n",
      "125\n",
      "625\n"
     ]
    }
   ],
   "source": [
    "# Regular function definition\n",
    "\n",
    "# 1. Define functions\n",
    "def function1(x): return x ** 2\n",
    "def function2(x): return x ** 3\n",
    "def function3(x): return x ** 4\n",
    "\n",
    "# 2. Compile list\n",
    "funcs = [function1, function2, function3]\n",
    "\n",
    "# 3. Call each function\n",
    "for function in funcs:\n",
    "    print(function(5))"
   ]
  },
  {
   "cell_type": "code",
   "execution_count": 46,
   "metadata": {
    "scrolled": true,
    "slideshow": {
     "slide_type": "slide"
    }
   },
   "outputs": [
    {
     "name": "stdout",
     "output_type": "stream",
     "text": [
      "25\n",
      "125\n",
      "625\n"
     ]
    }
   ],
   "source": [
    "# Lambda function\n",
    "\n",
    "# 1. Define lamda functions within list\n",
    "callbacks = [lambda x : x ** 2, lambda x : x ** 3, lambda x : x ** 4]\n",
    "\n",
    "# 3. Call each function\n",
    "for function in callbacks:\n",
    "    print(function(5))"
   ]
  },
  {
   "cell_type": "markdown",
   "metadata": {},
   "source": [
    "The next example is based on a previous class, where we learnt about comparing polynomial functions fitted to experimental data. \n",
    "\n",
    "The following cells include a lot of repetition as we compare polynomial functions.\n",
    "\n",
    "Let's see how we can optimise this process using functions and lambda functions.\n",
    "\n",
    "First let's look at the version of the code without functions:"
   ]
  },
  {
   "cell_type": "code",
   "execution_count": 47,
   "metadata": {
    "slideshow": {
     "slide_type": "slide"
    }
   },
   "outputs": [],
   "source": [
    "import numpy as np\n",
    "import matplotlib.pyplot as plt\n",
    "%matplotlib inline\n",
    "\n",
    "x = [0.000000000000000000e+00, 1.052631578947368363e+00, 2.105263157894736725e+00, 3.157894736842105310e+00,4.210526315789473450e+00, 5.263157894736841591e+00, 6.315789473684210620e+00,7.368421052631578760e+00,8.421052631578946901e+00,9.473684210526315042e+00,1.052631578947368318e+01,1.157894736842105132e+01,1.263157894736842124e+01,1.368421052631578938e+01,1.473684210526315752e+01, 1.578947368421052566e+01,1.684210526315789380e+01,1.789473684210526372e+01,1.894736842105263008e+01,2.000000000000000000e+01]\n",
    "y = [7.445192947240600745e+01, 4.834835792411828947e+01, 6.873305436340778840e+01, 5.979576407972768948e+01,6.404530772390434379e+01,6.090548420541189500e+01, 7.157546008677115879e+01, 8.620253336570679892e+01, 1.138154622045899913e+02, 8.493639813028174501e+01, 9.783457330550828601e+01, 1.082064229481453594e+02, 1.063876210674365979e+02, 1.001971993955305038e+02, 1.061496321788094832e+02, 1.279575585921491836e+02, 1.556956405962417875e+02, 1.584164804859289859e+02, 1.753888794716459358e+02, 1.980941276403034124e+02]\n",
    "# convert to numpy array to allow elementwise operations\n",
    "x = np.array(x)\n",
    "y = np.array(y)\n",
    "\n",
    "\n",
    "# 1st order polynomial\n",
    "a = np.polyfit(x, y, 1)\n",
    "\n",
    "# 2nd order polynomial\n",
    "b = np.polyfit(x, y, 2)\n",
    "\n",
    "# 3rd order polynomial \n",
    "c = np.polyfit(x, y, 3)\n",
    "\n",
    "# 4th order polynomial\n",
    "d = np.polyfit(x, y, 4)"
   ]
  },
  {
   "cell_type": "code",
   "execution_count": 48,
   "metadata": {},
   "outputs": [],
   "source": [
    "# sort x and y values so that x values are in ascending order\n",
    "tmp = sorted(zip(x, y)) \n",
    "x = [t[0] for t in tmp]\n",
    "y = [t[1] for t in tmp]\n",
    "\n",
    "# convert x and y to numpy array \n",
    "x = np.asarray(x)\n",
    "y = np.asarray(y)"
   ]
  },
  {
   "cell_type": "code",
   "execution_count": 49,
   "metadata": {
    "slideshow": {
     "slide_type": "-"
    }
   },
   "outputs": [],
   "source": [
    "# Fit polynomials of increasing order to the data\n",
    "\n",
    "# 1st order polynomial\n",
    "yfit1 = np.poly1d(a)(x)\n",
    "\n",
    "# 2nd order polynomial\n",
    "yfit2 = np.poly1d(b)(x)\n",
    "\n",
    "# 3rd order polynomial \n",
    "yfit3 = np.poly1d(c)(x)\n",
    "\n",
    "# 4th order polynomial\n",
    "yfit4 = np.poly1d(d)(x)\n",
    "\n"
   ]
  },
  {
   "cell_type": "code",
   "execution_count": 50,
   "metadata": {},
   "outputs": [
    {
     "name": "stdout",
     "output_type": "stream",
     "text": [
      "[16.528304147234387, 11.635756403462358, 11.062527387809336, 9.616664122733985]\n",
      "The 4 order polynomial gives the lowest error\n"
     ]
    },
    {
     "data": {
      "image/png": "[encoded data removed]",
      "text/plain": [
       "<Figure size 432x288 with 1 Axes>"
      ]
     },
     "metadata": {},
     "output_type": "display_data"
    }
   ],
   "source": [
    "# Find the root mean squared error (RMSE) of each polynomial\n",
    "RMSE = []\n",
    "\n",
    "for yfit in [yfit1, yfit2, yfit3, yfit4]:\n",
    "    # error\n",
    "    e = (yfit - y)\n",
    "\n",
    "    # RMSE\n",
    "    RMSE.append(np.sqrt(np.sum(e**2)/ len(y)))\n",
    "    \n",
    "print(RMSE)\n",
    "\n",
    "print(f\"The {np.argmin(RMSE) + 1} order polynomial gives the lowest error\")\n",
    "\n",
    "#print(list(enumerate(RMSE, 1)))\n",
    "\n",
    "\n",
    "# plot a scatter plot of raw data\n",
    "plt.plot(x, y, 'o', label='experiment data')\n",
    "\n",
    "\n",
    "# plot the fitted linear function \n",
    "# the argument 'label' is used to print the equation of the line on the plot \n",
    "plt.plot(x, yfit1, label=f'RMSE = {round(RMSE[0], 3)}');\n",
    "plt.plot(x, yfit2, label=f'RMSE = {round(RMSE[1], 3)}');\n",
    "plt.plot(x, yfit3, label=f'RMSE = {round(RMSE[2], 3)}');\n",
    "plt.plot(x, yfit4, label=f'RMSE = {round(RMSE[3], 3)}');\n",
    "\n",
    "\n",
    "# display the label \n",
    "# anchor the upper left corner of the legend to the point (1,1)\n",
    "# 1 represents the height and width of the plot respectively\n",
    "plt.legend(bbox_to_anchor=(1,1), loc=\"upper left\")\n",
    "\n",
    "\n",
    "# label the axes\n",
    "plt.xlabel('x')\n",
    "plt.ylabel('y')\n",
    "\n",
    "\n",
    "# add a title \n",
    "plt.title('Relationship between x and y');"
   ]
  },
  {
   "cell_type": "markdown",
   "metadata": {
    "slideshow": {
     "slide_type": "slide"
    }
   },
   "source": [
    "To avoid repeating the code to compute the RMSE, we can write a function."
   ]
  },
  {
   "cell_type": "code",
   "execution_count": 51,
   "metadata": {
    "slideshow": {
     "slide_type": "slide"
    }
   },
   "outputs": [
    {
     "name": "stdout",
     "output_type": "stream",
     "text": [
      "11.635756403462358\n"
     ]
    }
   ],
   "source": [
    "# ORIGINAL CODE\n",
    "# e = (yfit - y) # error\n",
    "# rmse = np.sqrt(np.sum(e**2)/ len(y)) # RMSE\n",
    "\n",
    "def RMSE(raw, fitted):\n",
    "    e = (fitted - raw)\n",
    "    return np.sqrt(np.sum(e**2)/ len(y))\n",
    "\n",
    "\n",
    "# Example : RMSE of second order polynomial function\n",
    "print(RMSE(y, yfit2))"
   ]
  },
  {
   "cell_type": "markdown",
   "metadata": {},
   "source": [
    "Let's look at a complete example:"
   ]
  },
  {
   "cell_type": "code",
   "execution_count": 60,
   "metadata": {},
   "outputs": [
    {
     "data": {
      "text/plain": [
       "<matplotlib.legend.Legend at 0x1189a7dd8>"
      ]
     },
     "execution_count": 60,
     "metadata": {},
     "output_type": "execute_result"
    },
    {
     "data": {
      "image/png": "[encoded data removed]",
      "text/plain": [
       "<Figure size 432x288 with 1 Axes>"
      ]
     },
     "metadata": {},
     "output_type": "display_data"
    }
   ],
   "source": [
    "# plot raw data\n",
    "plt.plot(x, y, 'o', label='experiment data')\n",
    "\n",
    "\n",
    "def fit_and_eval(order):\n",
    "    \"\"\" \n",
    "    Fits a polynomial of input order.\n",
    "    Plots the polynomial.\n",
    "    Labels the polynomial with RMSE\n",
    "    \"\"\"\n",
    "    coeffs = np.polyfit(x, y, order) # coeffcients\n",
    "    yfit = np.poly1d(coeffs)(x)      # fit y data\n",
    "    rmse = RMSE(y, yfit)             # RMSE\n",
    "    plt.plot(x, yfit, label=f'RMSE = {round(rmse,3)}'); # plot\n",
    "    \n",
    "\n",
    "# A list of polynomials to investigate\n",
    "poly_order = list(range(1,5)) # 1, 2, 3, 4\n",
    "    \n",
    "for o in poly_order:\n",
    "    fit_and_eval(o)\n",
    "    \n",
    "plt.legend()"
   ]
  },
  {
   "cell_type": "markdown",
   "metadata": {},
   "source": [
    "Notice that the function `RMSE` is used within the function `fit_and_eval`. \n",
    "\n",
    "`RMSE` is a short funtion so it can be conveniantly defined as a lambda function to keep things neat and tidy:"
   ]
  },
  {
   "cell_type": "code",
   "execution_count": 53,
   "metadata": {
    "slideshow": {
     "slide_type": "-"
    }
   },
   "outputs": [],
   "source": [
    "RMSE_lam = lambda raw, fitted : np.sqrt(np.sum((fitted - raw)**2)/ len(y))"
   ]
  },
  {
   "cell_type": "markdown",
   "metadata": {
    "slideshow": {
     "slide_type": "slide"
    }
   },
   "source": [
    "The same answer is produced by the regular and lambda functions:"
   ]
  },
  {
   "cell_type": "code",
   "execution_count": 54,
   "metadata": {},
   "outputs": [
    {
     "name": "stdout",
     "output_type": "stream",
     "text": [
      "11.635756403462358 11.635756403462358\n"
     ]
    }
   ],
   "source": [
    "print(RMSE(y, yfit2),   RMSE_lam(y, yfit2))"
   ]
  },
  {
   "cell_type": "markdown",
   "metadata": {},
   "source": [
    "Here is the new version of `fit_and_eval` using the lamda function :"
   ]
  },
  {
   "cell_type": "code",
   "execution_count": 55,
   "metadata": {},
   "outputs": [],
   "source": [
    "def fit_and_eval(order):\n",
    "    \"\"\" \n",
    "    Fits a polynomial of input order.\n",
    "    Plots the polynomial.\n",
    "    Labels the polynomial with RMSE\n",
    "    \"\"\"\n",
    "    coeffs = np.polyfit(x, y, order)\n",
    "    yfit = np.poly1d(coeffs)(x)\n",
    "    rmse = lambda y, y_fit : np.sqrt(np.sum((y_fit - y)**2)/ len(y))\n",
    "    plt.plot(x, yfit, label=f'RMSE = {round(rmse,3)}');"
   ]
  },
  {
   "cell_type": "markdown",
   "metadata": {
    "slideshow": {
     "slide_type": "slide"
    }
   },
   "source": [
    "## Recursive Functions\n",
    "<a id='RecursiveFunctions'></a>\n",
    "A recursive function is a function that makes calls to itself.\n",
    "\n",
    "Let's consider a well-known example, the Fibonacci series of numbers."
   ]
  },
  {
   "cell_type": "markdown",
   "metadata": {
    "slideshow": {
     "slide_type": "slide"
    }
   },
   "source": [
    "### The Fibonacci Sequence\n",
    "<a id='FibonacciSequence'></a>\n",
    "An integer sequence characterised by the fact that every number (after the first two) is the sum of the two preceding numbers. \n",
    "\n",
    "i.e. the $n$th term $f(n)$ is computed from the preceding terms $f(n-1)$ and $f(n-2)$. \n",
    "\n",
    "$$\n",
    "f(n) = f(n-1) + f(n-2)\n",
    "$$\n",
    "\n",
    "for $n > 1$\n",
    "\n",
    "$f(0) = 0$ and $f(1) = 1$. \n",
    "\n",
    "Due to this dependency on previous terms, we say the series is defined __recursively__.\n",
    "\n",
    "\n",
    "\n",
    "\n",
    "\n",
    "\n",
    "\n"
   ]
  },
  {
   "cell_type": "markdown",
   "metadata": {
    "slideshow": {
     "slide_type": "slide"
    }
   },
   "source": [
    "The number sequence appears in many natural geometric arrangements: \n",
    "\n",
    "<img src=\"img/FibonacciSpiral.png\" alt=\"Drawing\" style=\"width: 200px;\"/> \n",
    "<img src=\"img/fibonacci-whelk.jpg\" alt=\"Drawing\" style=\"width: 200px;\"/>"
   ]
  },
  {
   "cell_type": "markdown",
   "metadata": {
    "slideshow": {
     "slide_type": "slide"
    }
   },
   "source": [
    "Below is a function that computes the $n$th number in the Fibonacci sequence using a `for` loop inside the function."
   ]
  },
  {
   "cell_type": "code",
   "execution_count": null,
   "metadata": {
    "slideshow": {
     "slide_type": "slide"
    }
   },
   "outputs": [],
   "source": [
    "def fib(n):\n",
    "    \"Compute the nth Fibonacci number\"\n",
    "    # Starting values for f0 and f1\n",
    "    f0, f1 = 0, 1\n",
    "\n",
    "    # Handle cases n==0 and n==1\n",
    "    if n == 0:\n",
    "        return 0\n",
    "    elif n == 1:\n",
    "        return 1\n",
    "    \n",
    "    # Start loop (from n = 2)    \n",
    "    for i in range(2, n + 1):\n",
    "        \n",
    "        # Compute next term in sequence\n",
    "        f = f1 + f0\n",
    "\n",
    "        # Update f0 and f1    \n",
    "        f0 = f1\n",
    "        f1 = f\n",
    "        \n",
    "    # Return Fibonacci number\n",
    "    return f\n",
    "\n",
    "print(fib(10))\n",
    "\n",
    "\n"
   ]
  },
  {
   "cell_type": "markdown",
   "metadata": {
    "slideshow": {
     "slide_type": "slide"
    }
   },
   "source": [
    "The __recursive function__ below return the same result.\n",
    "\n",
    "It is simpler and has a more \"mathematical\" structure."
   ]
  },
  {
   "cell_type": "code",
   "execution_count": 37,
   "metadata": {
    "slideshow": {
     "slide_type": "slide"
    }
   },
   "outputs": [
    {
     "name": "stdout",
     "output_type": "stream",
     "text": [
      "55\n"
     ]
    }
   ],
   "source": [
    "def f(n): \n",
    "    \"Compute the nth Fibonacci number using recursion\"\n",
    "    if n == 0:\n",
    "        return 0  # This doesn't call f, so it breaks out of the recursion loop\n",
    "    elif n == 1:\n",
    "        return 1  # This doesn't call f, so it breaks out of the recursion loop\n",
    "    else:\n",
    "        return f(n - 1) + f(n - 2)  # This calls f for n-1 and n-2 (recursion), and returns the sum \n",
    "\n",
    "print(f(10))\n",
    "\n"
   ]
  },
  {
   "cell_type": "markdown",
   "metadata": {
    "slideshow": {
     "slide_type": "slide"
    }
   },
   "source": [
    "Care needs to be taken when using recursion that a program does not enter an infinite recursion loop. \n",
    "\n",
    "There must be a mechanism to 'break out' of the recursion cycle. "
   ]
  },
  {
   "cell_type": "markdown",
   "metadata": {
    "collapsed": true,
    "slideshow": {
     "slide_type": "slide"
    }
   },
   "source": [
    "# Summary\n",
    "<a id='Summary'></a>\n",
    "- Storing functions and variables in seperate files and importing them for use can keep your program organised and tidy.\n",
    "- The keyword `import` is used to call functions and variables from other files in your program.\n",
    "- Files in the same directory can be 'seen' by the file and imoported directly.\n",
    "- Files in other directories must be added to the Python path. \n",
    "- An un-named function can be created using the `lamda` keyword."
   ]
  },
  {
   "cell_type": "markdown",
   "metadata": {
    "slideshow": {
     "slide_type": "slide"
    }
   },
   "source": [
    "<a id='TestYourselfExercises'></a>\n",
    "# Review Exercises\n",
    "\n",
    "Compete the exercises below.\n",
    "\n",
    "Save your answers as .py files and email them to:\n",
    "<br>philamore.hemma.5s@kyoto-u.ac.jp"
   ]
  },
  {
   "cell_type": "markdown",
   "metadata": {
    "slideshow": {
     "slide_type": "slide"
    }
   },
   "source": [
    "### Review Exercise1 : Simple function\n",
    "\n",
    "In the cell below, write a function called `is_even` that determines if a number is even by running:\n",
    "\n",
    "```python\n",
    "is_even(n)\n",
    "```\n",
    "\n",
    "Input: `n` (an integer). \n",
    "\n",
    "Output: \n",
    " - `True` if the argument is even\n",
    " - `False` if the argument is not even\n",
    " \n",
    "Include a __documentation string (docstring)__ to say what your function does.\n",
    "\n",
    "<a href='#DocString'>Jump to Documentation Strings</a>\n",
    " \n",
    "Print the output of your function for several input values."
   ]
  },
  {
   "cell_type": "code",
   "execution_count": null,
   "metadata": {},
   "outputs": [],
   "source": [
    "# A simple function"
   ]
  },
  {
   "cell_type": "markdown",
   "metadata": {},
   "source": [
    "### Review Exercise 2: Expressing Calculations as Functions\n",
    "\n",
    "__(A)__ Write a function called `square_root` that prints the square root of an input argument by running:\n",
    "\n",
    "```python\n",
    "square_root(n)\n",
    "```\n",
    "\n",
    "Input: `n` (a numeric variable). \n",
    "\n",
    "Output: Returns the square root of `n`\n",
    "\n",
    "Include a doc-string to say what your function does. \n",
    "\n",
    "<a href='#DocString'>Jump to Documentation Strings'</a> \n",
    "\n",
    "__(B)__ Using your answer to print the sqaure root of the first 25 odd positive integers."
   ]
  },
  {
   "cell_type": "code",
   "execution_count": null,
   "metadata": {},
   "outputs": [],
   "source": [
    "# A function to find the square root of an input"
   ]
  },
  {
   "cell_type": "markdown",
   "metadata": {},
   "source": [
    "### Review Exercise 3: Using Data Structures as Function Arguments - Counter\n",
    "In the cell below write a function:\n",
    "\n",
    "Input: A list. e.g. `[\"fizz\", \"buzz\", \"buzz\", \"fizz\", \"fizz\", \"fizz\"]`\n",
    "\n",
    "Output: Returns the numer of times \"fizz\" appears in a list.\n",
    "\n",
    "Demonstrate that your function works by inputting a list.\n",
    "\n",
    "*Hint 1:* Create a local variable, `count`, within your function.\n",
    "<br>Increment the count by one for each instance of `fizz`.\n",
    "\n",
    "*Hint 2:* Use a `for` loop to iterate over the list to count the number of times `fizz` appears."
   ]
  },
  {
   "cell_type": "code",
   "execution_count": null,
   "metadata": {},
   "outputs": [],
   "source": [
    "# Counter"
   ]
  },
  {
   "cell_type": "markdown",
   "metadata": {
    "slideshow": {
     "slide_type": "slide"
    }
   },
   "source": [
    "### Review Exercise 4: Using Data Structures as Function Arguments - Magnitude\n",
    "\n",
    "The magnitude of an $n$ dimensional vector can be written\n",
    "\n",
    "$$\n",
    "|\\mathbf{x}|= \\sqrt{x_1^2 + x_2^2 + ... x_n^2} = \\sqrt{\\sum_{i = 1}^{n} (x_{n})^2 }\n",
    "$$\n",
    "\n",
    "Therefore...\n",
    "\n",
    "The magnitude of a 2D vector (e.g. $x = [x_1, x_2]$):\n",
    "\n",
    "$$\n",
    "|\\mathbf{x}|= \\sqrt{x_1^2 + x_2^2}\n",
    "$$\n",
    "<br>\n",
    "\n",
    "The magnitude of a 3D vector (e.g. $x = [x_1, x_2, x_3]$):\n",
    "\n",
    "$$\n",
    "|\\mathbf{x}|= \\sqrt{x_1^2 + x_2^2 + x_3^2}\n",
    "$$\n",
    "<br>\n",
    "\n",
    "__(A)__ \n",
    "<br>In the cell below, write a function called `magnitude` that computes the magnitude of an n-dimensional vector.\n",
    "\n",
    "Input: `list` with n elements (e.g. [x, y]) if vector is 2D, [x, y, z]), if vector is 3D.\n",
    "\n",
    "Output: Return magnitude of the vector.\n",
    "\n",
    "Include a doc-string to say what your function does.\n",
    "\n",
    "Hints: \n",
    " - <a href='#DataStrcuturesAsArguments'>Jump to Data Structure as Arguments.</a>  \n",
    " - Use a loop to iterate over each item in the list. \n",
    "\n",
    "__(B)__ \n",
    "<br>Print the output of your function to show that it works for both 2D and 3D input vectors. \n",
    "<br>Check your function, for example use the numpy function `numpy.linalg.norm()` to verify the answer is correct.  "
   ]
  },
  {
   "cell_type": "code",
   "execution_count": null,
   "metadata": {},
   "outputs": [],
   "source": [
    "# A function that computes the magnitude of an n-dimensional vector "
   ]
  },
  {
   "cell_type": "markdown",
   "metadata": {},
   "source": [
    "### Review Exercise 5: Using Functions as Function Arguments, Default Arguments. \n",
    "Copy and paste your function `is_even` from __Review Exercise: Simple function__ in the cell below.\n",
    "\n",
    "__(A)__ Edit `is_even` to:\n",
    "- take two input arguments:\n",
    " - a numeric variable, `n`\n",
    " - the function `square_root` from __Review Exercise: Using Data Structures as Function Arguments__. <a href='#FunctionsAsArguments'>Jump to Using Functions as Function Arguments.</a> \n",
    "- return:\n",
    " - `True` if the square root of n is even\n",
    " - `False` if the square root of n is not even\n",
    "\n",
    "__(B)__ Make `square_root` the __default__ value of the function argument.\n",
    "<br><a href='#DefaultArguments'>Jump to Default Arguments.</a>  \n",
    "<br>Force the function argument to be input using a named argument. \n",
    "<br><a href='#ForcingDefaultArguments'>Jump to Forcing Default Arguments.</a>  \n",
    "\n",
    "__(C)__ Print the output ofthe function `is_even` for the first 25 natural numbers."
   ]
  },
  {
   "cell_type": "code",
   "execution_count": null,
   "metadata": {},
   "outputs": [],
   "source": [
    "# A function to determine if the square root of a number is odd or even"
   ]
  },
  {
   "cell_type": "markdown",
   "metadata": {},
   "source": [
    "### Review Exercise 6: Scope\n",
    "\n",
    "In the example below, complete the comments with definition (\"local variable\"/\"global variable\") describing the scope of variables a-c."
   ]
  },
  {
   "cell_type": "code",
   "execution_count": null,
   "metadata": {},
   "outputs": [],
   "source": [
    "# In the code below: \n",
    "# a is a local variable / global variable\n",
    "# b is a ...\n",
    "# c is a ...\n",
    "# d is a ...\n",
    "\n",
    "def my_function(a):\n",
    "    b = a - 2\n",
    "    return b\n",
    "\n",
    "c = 3\n",
    "\n",
    "if c > 2:\n",
    "    d = my_function(5)\n",
    "    print(d)"
   ]
  },
  {
   "cell_type": "markdown",
   "metadata": {
    "slideshow": {
     "slide_type": "subslide"
    }
   },
   "source": [
    "## Review Exercise 7: Writing Functions (Hydrostatic Pressure 静水圧)\n",
    "\n",
    "The hydrostatic pressure (Pa = Nm$^{-2}$ = kg m$^{-1}$s$^{-2}$) is the pressure on a submerged object due to the overlying fluid):\n",
    "\n",
    "$$\n",
    "P = \\rho g h\n",
    "$$\n",
    "\n",
    "$g$ = acceleration due to gravity, m s$^{-2}$\n",
    "<br> $\\rho $ = fluid density, kg m$^{-3}$\n",
    "<br> $h$ = height of the fluid above the object, m. \n",
    "\n",
    "<img src=\"img/HydrostaticPressure.png\" alt=\"Drawing\" style=\"width: 350px;\"/>\n",
    "\n"
   ]
  },
  {
   "cell_type": "markdown",
   "metadata": {
    "slideshow": {
     "slide_type": "subslide"
    }
   },
   "source": [
    "__1.__ In the cell below, write a function:\n",
    " - input arguments : $\\rho$, $g$ and $h$ \n",
    " - returns : hydrostatic pressure $P$\n",
    " - include a doc-string to say what your function does.\n",
    " \n",
    "<br> \n",
    "__2.__\n",
    "The function will mostly to be used for calculating the hydrostatic pressure on objects submerged in __water__.\n",
    "Therefore, in most cases, it is sufficiently accurate to use:\n",
    "- acceleration due to gravity, $g = 9.81$ m s$^{-2}$<br>(Note: acceleration due to gravity is postive in this example.)\n",
    "- density of water, $\\rho_w$ = 1000 kg m$^{-3}$\n",
    "\n",
    "Edit your function to use keyword arguments for `g` and `rho` ($\\rho_w$) in your function.\n",
    "\n",
    "(Remember, keyword/default arguments should appear *after* non-default arguments.)\n",
    "\n",
    "<br>\n",
    "__3.__ Edit your function to *force* `rho` to be a keyword argument keyword argument.  \n",
    "\n",
    "<br>\n",
    "__4.__ Call your function to find the hydrostatic pressure on an object:\n",
    "<br>a) submerged in water, at a depth of 10m.\n",
    "<br>b) submerged in water, at a depth of 10m, at the equator ($g = 9.78$ m s$^{-2}$).\n",
    "<br>c) submerged in sea water ($\\rho_{sw}$ = 1022 kg m$^{-3}$), at a depth of 10m, at the equator."
   ]
  },
  {
   "cell_type": "code",
   "execution_count": null,
   "metadata": {},
   "outputs": [],
   "source": [
    "# Hydrostatic Pressure\n"
   ]
  },
  {
   "cell_type": "code",
   "execution_count": null,
   "metadata": {},
   "outputs": [],
   "source": [
    "# Test-Yourself Exercise : Hydrostatic Pressure\n",
    "# Example Solution\n",
    "\n",
    "# part 1\n",
    "def HP(rho, g, h):\n",
    "    \"\"\"\n",
    "    Computes hydrostatic pressure.\n",
    "    \"\"\"\n",
    "    return rho * g * h\n",
    "\n",
    "# part 2\n",
    "def HP(h, g=9.81, rho=1000):\n",
    "    \"\"\"\n",
    "    Computes hydrostatic pressure.\n",
    "    \"\"\"\n",
    "    return rho * g * h\n",
    "\n",
    "\n",
    "# part 3\n",
    "def HP(h, g=9.81, * ,rho=1000):\n",
    "    \"\"\"\n",
    "    Computes hydrostatic pressure.\n",
    "    \"\"\"\n",
    "    return rho * g * h\n",
    "\n",
    "\n",
    "# part 4\n",
    "# a\n",
    "print(HP(10))\n",
    "\n",
    "# b\n",
    "print(HP(10, rho=1022))\n",
    "\n",
    "# c\n",
    "print(HP(10, g=9.78, rho=1022))"
   ]
  },
  {
   "cell_type": "markdown",
   "metadata": {},
   "source": [
    "## Review Exercise 8: Optimising your Code using Functions (Currency Trading 両替)\n",
    "\n",
    "Find your answer to the previous Test-Yourself Exercise, *\"Test-Yourself Exercise: Currency Trading 両替\"* from 01b_ControlFlow.ipynb \n",
    "\n",
    "Edit your code to write a function:\n",
    "- inputs:\n",
    "    1. the amount in JPY to be changed into USD\n",
    "    2. a variable showing if the transaction was paid using cash\n",
    "    \n",
    "- outputs: \n",
    "    1. amount in USD purchased\n",
    "    1. effective rate ($\\frac{USD}{JPY}$)\n",
    "    \n",
    "    \n",
    "Use the checklist to write your answer:\n",
    "In the following examples we will use these 7 steps to create functions from existing code:\n",
    "1. `def` and `:`\n",
    "1. define input arguments in parentheses\n",
    "1. indent code inside of function\n",
    "1. doc string\n",
    "1. move global variable assignment outside of the function where necessary\n",
    "1. define return arguments \n",
    "1. call function\n"
   ]
  },
  {
   "cell_type": "code",
   "execution_count": null,
   "metadata": {},
   "outputs": [],
   "source": [
    "# Test-Yourself Exercise : Currency Trading\n",
    "\n"
   ]
  },
  {
   "cell_type": "code",
   "execution_count": null,
   "metadata": {},
   "outputs": [],
   "source": [
    "# Test-Yourself Exercise : Currency Trading\n",
    "# Example solution\n",
    "\n",
    "# JPY  = 10_000          # The amount in JPY to be changed into USD\n",
    "\n",
    "# cash = False           # True if transaction is in cash, otherwise False\n",
    "\n",
    "market_rate = 0.0091   # 1 JPY is worth this many dollars at the market rate\n",
    "\n",
    "def 両替(JPY, cash):\n",
    "    \"\"\"\n",
    "    Returns the amount purchased in USD and the effective conversion rate\n",
    "    \"\"\"\n",
    "\n",
    "    # Apply the appropriate reduction depending on the amount being sold\n",
    "    if JPY < 10_000:\n",
    "        multiplier = 0.9 \n",
    "\n",
    "    elif JPY < 100_000:  \n",
    "        multiplier = 0.925 \n",
    "\n",
    "    elif JPY < 1_000_000:\n",
    "        multiplier = 0.95 \n",
    "\n",
    "    elif JPY < 10_000_000:\n",
    "        multiplier = 0.97 \n",
    "\n",
    "    else: # JPY > 10,000,000\n",
    "        multiplier = 0.98 \n",
    "    \n",
    "    \n",
    "    # Apply the appropriate reduction if the transaction is made in cash\n",
    "    if cash:\n",
    "        cash_multiplier = 0.9\n",
    "    else:\n",
    "        cash_multiplier = 1 \n",
    "        \n",
    "        \n",
    "    # Calculate the total amount sold to the customer    \n",
    "    USD = JPY * market_rate * multiplier * cash_multiplier\n",
    "    \n",
    "    effective_rate = USD/JPY\n",
    "        \n",
    "    return USD, effective_rate\n",
    "    \n",
    "\n",
    "USD, rate = 両替(10_000 , True)\n",
    "\n",
    "    \n",
    "# Print a breakdown of the transaction    \n",
    "print(\"Amount in JPY sold:\", JPY)\n",
    "print(\"Amount in USD purchased:\", USD)\n",
    "print(\"Effective rate:\", rate)\n",
    "\n",
    "# OR\n",
    "print(\"Amount in JPY sold:\", JPY)\n",
    "print(\"Amount in USD purchased:\", 両替(JPY, cash)[0])\n",
    "print(\"Effective rate:\", 両替(JPY, cash)[1])\n",
    "\n"
   ]
  },
  {
   "cell_type": "code",
   "execution_count": null,
   "metadata": {},
   "outputs": [],
   "source": []
  },
  {
   "cell_type": "code",
   "execution_count": null,
   "metadata": {},
   "outputs": [],
   "source": []
  }
 ],
 "metadata": {
  "celltoolbar": "Slideshow",
  "kernelspec": {
   "display_name": "Python 3",
   "language": "python",
   "name": "python3"
  },
  "language_info": {
   "codemirror_mode": {
    "name": "ipython",
    "version": 3
   },
   "file_extension": ".py",
   "mimetype": "text/x-python",
   "name": "python",
   "nbconvert_exporter": "python",
   "pygments_lexer": "ipython3",
   "version": "3.6.5"
  }
 },
 "nbformat": 4,
 "nbformat_minor": 2
}
