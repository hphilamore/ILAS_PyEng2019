{
 "cells": [
  {
   "cell_type": "markdown",
   "metadata": {
    "collapsed": true,
    "slideshow": {
     "slide_type": "slide"
    }
   },
   "source": [
    "# 06 Calculus with Sympy and Numpy  \n",
    "## CLASS MATERIAL\n",
    "\n",
    "\n",
    "<br> <a href='#SymbolicMathematics'>1. Symbolic Mathematics</a>\n",
    "<br> <a href='#Differentiation'>2. Differentiation</a> \n",
    "<br> <a href='#Integration'>3. Integration</a> \n",
    "<br> <a href='#ODE'>4. Ordinary Differential Equations (ODE)</a> \n",
    "<br><a href='#ReviewExercises'>5. Review Exercises</a>\n"
   ]
  },
  {
   "cell_type": "markdown",
   "metadata": {
    "slideshow": {
     "slide_type": "slide"
    }
   },
   "source": [
    "# Download the new class notes.\n",
    "__Navigate to the directory where your files are stored.__\n",
    "\n",
    "__Update the course notes by downloading the changes__"
   ]
  },
  {
   "cell_type": "markdown",
   "metadata": {
    "slideshow": {
     "slide_type": "slide"
    }
   },
   "source": [
    "\n",
    "\n",
    "\n",
    "##### Windows\n",
    "Search for __Git Bash__ in the programs menu.\n",
    "\n",
    "Select __Git Bash__, a terminal will open.\n",
    "\n",
    "Use `cd` to navigate to *inside* the __ILAS_PyEng2019__ repository you downloaded. \n",
    "\n",
    "Run the command:\n",
    ">`./automerge`\n",
    "\n",
    "\n",
    "\n",
    "##### Mac\n",
    "Open a terminal. \n",
    "\n",
    "Use `cd` to navigate to *inside* the __ILAS_PyEng2019__ repository you downloaded. \n",
    "\n",
    "Run the command:\n",
    ">`sudo ./automerge`\n",
    "\n",
    "Enter your password when prompted. "
   ]
  },
  {
   "cell_type": "markdown",
   "metadata": {
    "slideshow": {
     "slide_type": "slide"
    }
   },
   "source": [
    "### Lesson Goal\n",
    "\n",
    "- differentiation and integration using python\n",
    "- solving ordinary differential equations in python\n",
    "\n",
    "\n",
    "### Fundamental programming concepts\n",
    "Often, it can be difficult to know how to begin setting out a familiar mathematical concept in code. \n",
    "\n",
    "This class will show how to arrange operations for differentiation, integration and solving ordinary differntial equations. "
   ]
  },
  {
   "cell_type": "markdown",
   "metadata": {
    "slideshow": {
     "slide_type": "slide"
    }
   },
   "source": [
    "Many of the practical situations that engineers have to analyse involve quantities that change with respect to time or another parameter. \n",
    "\n",
    " - Temperature \n",
    " - Voltage\n",
    " - Torque \n",
    " - Chemical species\n",
    " - Population\n",
    " \n",
    "To solve these types of problems, we usually need to use differentiation, integration or find solutions to differential equations. "
   ]
  },
  {
   "cell_type": "markdown",
   "metadata": {
    "slideshow": {
     "slide_type": "slide"
    }
   },
   "source": [
    "<a id='SymbolicMathematics'></a>\n",
    "# 1. Symbolic Mathematics\n",
    "\n",
    "\n",
    "In the last class we learned how to represent an equation symbolically. "
   ]
  },
  {
   "cell_type": "code",
   "execution_count": 144,
   "metadata": {},
   "outputs": [],
   "source": [
    "import numpy as np\n",
    "import sympy as sp\n",
    "from sympy import solve, symbols, Symbol, Function, Eq, pprint, init_printing\n",
    "\n",
    "# This initialises pretty printing\n",
    "init_printing() \n",
    "from IPython.display import display"
   ]
  },
  {
   "cell_type": "markdown",
   "metadata": {
    "slideshow": {
     "slide_type": "slide"
    }
   },
   "source": [
    "\n",
    "To write a symbolic equation, we first create variables to store the symbols we want to use:"
   ]
  },
  {
   "cell_type": "code",
   "execution_count": 145,
   "metadata": {},
   "outputs": [],
   "source": [
    "a, b, c, x = symbols('a, b, c, x')"
   ]
  },
  {
   "cell_type": "markdown",
   "metadata": {
    "slideshow": {
     "slide_type": "slide"
    }
   },
   "source": [
    "We then write an equation, using the variable names.\n",
    "\n",
    "$$f(x) = ax^2 + bx + c$$"
   ]
  },
  {
   "cell_type": "code",
   "execution_count": 146,
   "metadata": {},
   "outputs": [],
   "source": [
    "f = a*x**2 + b*x + c"
   ]
  },
  {
   "cell_type": "markdown",
   "metadata": {
    "slideshow": {
     "slide_type": "slide"
    }
   },
   "source": [
    "<a id='Differentiation'></a>\n",
    "# 2. Differentiation\n",
    "\n",
    "<br> <a href='#Symbolic_Differentiation'>2.1 Symbolic Differentiation</a>\n",
    "<br> <a href='#DifferentiatingPolynomialFunctions'>2.2 Differentiating Polynomial Functions</a> \n",
    "\n",
    "__Differentiation :__ A measures of the change of the function value (output value) with respect to a change in some input value.\n",
    "\n",
    "\n",
    "    "
   ]
  },
  {
   "cell_type": "markdown",
   "metadata": {},
   "source": [
    "<a id='Symbolic_Differentiation'></a>\n",
    "## 2.1 Symbolic Differentiation\n",
    "\n",
    "`sympy.diff` differentiates an equation to give a general solution with respect to a specified variable. \n",
    "\n",
    "The inputs to `sympy.diff` are the function to differentiate and the specified variable. "
   ]
  },
  {
   "cell_type": "code",
   "execution_count": 147,
   "metadata": {},
   "outputs": [],
   "source": [
    "from sympy import diff"
   ]
  },
  {
   "cell_type": "code",
   "execution_count": 148,
   "metadata": {},
   "outputs": [],
   "source": [
    "f = a*x**2 + b*x + c"
   ]
  },
  {
   "cell_type": "markdown",
   "metadata": {
    "slideshow": {
     "slide_type": "slide"
    }
   },
   "source": [
    "$$f(x) = ax^2 + bx + c$$\n",
    "\n",
    "$f'(x)$ <br>(first derivative w.r.t $x$)"
   ]
  },
  {
   "cell_type": "code",
   "execution_count": 149,
   "metadata": {},
   "outputs": [
    {
     "name": "stdout",
     "output_type": "stream",
     "text": [
      "2*a*x + b\n"
     ]
    }
   ],
   "source": [
    "print(diff(f, x))"
   ]
  },
  {
   "cell_type": "markdown",
   "metadata": {
    "slideshow": {
     "slide_type": "slide"
    }
   },
   "source": [
    "$$f(a) = ax^2 + bx + c$$\n",
    "\n",
    "$f'(a)$ <br>(first derivative w.r.t $a$)"
   ]
  },
  {
   "cell_type": "code",
   "execution_count": 150,
   "metadata": {},
   "outputs": [
    {
     "name": "stdout",
     "output_type": "stream",
     "text": [
      "x**2\n"
     ]
    }
   ],
   "source": [
    "print(diff(f, a))\n",
    "\n"
   ]
  },
  {
   "cell_type": "markdown",
   "metadata": {
    "slideshow": {
     "slide_type": "slide"
    }
   },
   "source": [
    "$$f(x) = ax^2 + bx + c$$\n",
    "\n",
    "We can specify the order of differentiation required.\n",
    "\n",
    "$f''(x)$ <br>(second derivative w.r.t $x$)"
   ]
  },
  {
   "cell_type": "code",
   "execution_count": 151,
   "metadata": {},
   "outputs": [
    {
     "name": "stdout",
     "output_type": "stream",
     "text": [
      "2*a\n"
     ]
    }
   ],
   "source": [
    "print(diff(f, x, 2))\n"
   ]
  },
  {
   "cell_type": "markdown",
   "metadata": {
    "slideshow": {
     "slide_type": "slide"
    }
   },
   "source": [
    "$$f(x) = ax^2 + bx + c$$\n",
    "\n",
    "We can substitute numerical values to find the exact solution:\n",
    "\n",
    "Find $f'(a), \\quad x=2$"
   ]
  },
  {
   "cell_type": "code",
   "execution_count": 152,
   "metadata": {},
   "outputs": [
    {
     "name": "stdout",
     "output_type": "stream",
     "text": [
      "x**2\n"
     ]
    },
    {
     "data": {
      "image/png": "[encoded data removed]",
      "text/latex": [
       "$$4$$"
      ],
      "text/plain": [
       "4"
      ]
     },
     "execution_count": 152,
     "metadata": {},
     "output_type": "execute_result"
    }
   ],
   "source": [
    "print(diff(f, a))\n",
    "\n",
    "diff(f, a).subs([(x, 2)])\n",
    "\n"
   ]
  },
  {
   "cell_type": "markdown",
   "metadata": {},
   "source": [
    "$$f(x) = ax^2 + bx + c$$\n",
    "\n",
    "Find $f'(x), \\quad a=2, b=4$"
   ]
  },
  {
   "cell_type": "code",
   "execution_count": 153,
   "metadata": {},
   "outputs": [
    {
     "name": "stdout",
     "output_type": "stream",
     "text": [
      "2*a*x + b\n"
     ]
    },
    {
     "data": {
      "image/png": "[encoded data removed]",
      "text/latex": [
       "$$16$$"
      ],
      "text/plain": [
       "16"
      ]
     },
     "execution_count": 153,
     "metadata": {},
     "output_type": "execute_result"
    }
   ],
   "source": [
    "print(diff(f, x))\n",
    "\n",
    "diff(f, x).subs([(a, 2), (b, 4), (x, 3)])"
   ]
  },
  {
   "cell_type": "markdown",
   "metadata": {},
   "source": [
    "The following example uses the trigonometric cosine function. \n",
    "\n",
    "$$f(x) = cos(x)$$\n",
    "\n",
    "We need to import a *symbolic function* to handle this operation:\n",
    ">`sympy.cos`\n",
    "\n",
    "Documentation for elementary symbolic functions including trigonometric, hyperbolic, and sqrt can be found here:\n",
    "https://docs.sympy.org/latest/modules/functions/elementary.html#exp\n",
    "\n",
    "\n",
    "\n",
    "\n",
    "\n"
   ]
  },
  {
   "cell_type": "markdown",
   "metadata": {},
   "source": [
    "We can use `diff` to find higher order derivatives. \n",
    "\n",
    "Example: Find $f''(x)$ (the second derivative of $f(x) = cos(x)$)."
   ]
  },
  {
   "cell_type": "code",
   "execution_count": 154,
   "metadata": {},
   "outputs": [
    {
     "name": "stdout",
     "output_type": "stream",
     "text": [
      "-cos(x)\n"
     ]
    }
   ],
   "source": [
    "# argumets : function, differentaition variable, order of differentiation\n",
    "\n",
    "print(diff( sp.cos(x), x, 2 ) ) "
   ]
  },
  {
   "cell_type": "markdown",
   "metadata": {
    "slideshow": {
     "slide_type": "slide"
    }
   },
   "source": [
    "<a id='DifferentiatingPolynomialFunctions'></a>\n",
    "## 2.2 Differentiating Polynomial Functions\n",
    "\n",
    "\n",
    "\n",
    "\n",
    "\n",
    "\n",
    "We can quickly find derivatives of polynomial functions with defined coefficients, by using the  numpy function, `polyder`\n",
    "\n"
   ]
  },
  {
   "cell_type": "markdown",
   "metadata": {
    "slideshow": {
     "slide_type": "slide"
    }
   },
   "source": [
    "Example:\n",
    "    $$p(x) = x^3 + x^2 + x^1 + 1$$\n",
    "    \n",
    "Find $p'(x)$"
   ]
  },
  {
   "cell_type": "code",
   "execution_count": 155,
   "metadata": {
    "slideshow": {
     "slide_type": "-"
    }
   },
   "outputs": [
    {
     "name": "stdout",
     "output_type": "stream",
     "text": [
      "   2\n",
      "3 x + 2 x + 1\n"
     ]
    }
   ],
   "source": [
    "p = np.poly1d([1,1,1,1])\n",
    "\n",
    "pd = np.polyder(p)\n",
    "\n",
    "print(pd)"
   ]
  },
  {
   "cell_type": "markdown",
   "metadata": {},
   "source": [
    "A numerical value can be substited in to find an exact solution. \n",
    "\n",
    "The derivative returend by `polyder` behaves like a function and takes a value of x as an argument. \n",
    "\n",
    "Find $p'(2)$"
   ]
  },
  {
   "cell_type": "code",
   "execution_count": 156,
   "metadata": {},
   "outputs": [
    {
     "data": {
      "image/png": "[encoded data removed]",
      "text/latex": [
       "$$17.0$$"
      ],
      "text/plain": [
       "17.0"
      ]
     },
     "execution_count": 156,
     "metadata": {},
     "output_type": "execute_result"
    }
   ],
   "source": [
    "pd(2.)"
   ]
  },
  {
   "cell_type": "markdown",
   "metadata": {
    "slideshow": {
     "slide_type": "slide"
    }
   },
   "source": [
    "`polyder` can be be used to solve higher order derivatives by giving a second argument:"
   ]
  },
  {
   "cell_type": "code",
   "execution_count": 157,
   "metadata": {},
   "outputs": [
    {
     "name": "stdout",
     "output_type": "stream",
     "text": [
      " \n",
      "6 x + 2\n",
      " \n",
      "6\n",
      " \n",
      "0\n"
     ]
    }
   ],
   "source": [
    "# second derivative of p\n",
    "print(np.polyder(p, 2))\n",
    "\n",
    "# third derivative of p\n",
    "print(np.polyder(p, 3))\n",
    "\n",
    "# fourth derivative of p\n",
    "print(np.polyder(p, 4))"
   ]
  },
  {
   "cell_type": "markdown",
   "metadata": {
    "slideshow": {
     "slide_type": "slide"
    }
   },
   "source": [
    "<a id='Integration'></a>\n",
    "# 3. Integration \n",
    "\n",
    "\n",
    "\n",
    "<br> <a href='#SymbolicIntegration'>3.1 Symbolic Integration</a>\n",
    "<br> <a href='#IndefinateIntegrals'>3.2  Indefinate Integrals</a>\n",
    "<br> <a href='#DefinateIntegrals'>3.3 Definate Integrals</a> \n",
    "<br> <a href='#Non-symbolicIntegration'>3.4 Non-symbolic Integration</a> \n",
    "<br> <a href='#TrapezoidEstimationMethod'>3.5 Trapezoid Estimation Method</a>\n",
    "\n",
    "\n",
    "Often we need to __integrate__ a function over some range. \n",
    "\n",
    "\n",
    "For example, $S$ is the integral of a function $f(x)$ from a to b\n",
    "\n",
    "$$S = \\int_{a}^{b} f(x) dx$$\n",
    "\n",
    "\n",
    "<img src=\"img/integration.png\" alt=\"Drawing\" style=\"width: 200px;\"/>    "
   ]
  },
  {
   "cell_type": "markdown",
   "metadata": {
    "slideshow": {
     "slide_type": "slide"
    }
   },
   "source": [
    "This area or integral can be estimated from the sum of trapezoid strips used to represent the curve.\n",
    "\n",
    "<img src=\"img/numintegration.png\" alt=\"Drawing\" style=\"width: 300px;\"/> "
   ]
  },
  {
   "cell_type": "markdown",
   "metadata": {
    "slideshow": {
     "slide_type": "slide"
    }
   },
   "source": [
    "Example: Integrate the following function with respect to $x$:\n",
    "$$f(x) = x^2$$\n",
    "\n",
    "limits $x=0$ to $x=1$. "
   ]
  },
  {
   "cell_type": "markdown",
   "metadata": {
    "slideshow": {
     "slide_type": "slide"
    }
   },
   "source": [
    "\\begin{align*}\n",
    "S &= \\int_{0}^{1} x^2 dx\\\\\n",
    "  &= \\frac{1}{3}x^3 \\biggr\\rvert_0^{1}\\\\\n",
    "  &= \\frac{1}{3}(1)^3 - \\frac{1}{3}(0)^3\\\\\n",
    "  &= \\frac{1}{3}\n",
    "\\end{align*}"
   ]
  },
  {
   "cell_type": "markdown",
   "metadata": {
    "slideshow": {
     "slide_type": "slide"
    }
   },
   "source": [
    "<a id='SymbolicIntegration'></a>\n",
    "## 3.1 Symbolic Integration\n",
    "\n",
    "\n",
    "\n",
    "\n",
    "`sympy.integrate` \n",
    "\n",
    "There are two kinds of integrals, definite (limits defined) and indefinite (limits not defined). "
   ]
  },
  {
   "cell_type": "code",
   "execution_count": 158,
   "metadata": {
    "scrolled": true
   },
   "outputs": [],
   "source": [
    "from sympy import integrate"
   ]
  },
  {
   "cell_type": "markdown",
   "metadata": {},
   "source": [
    "<a id='IndefinateIntegrals'></a>\n",
    "## 3.2 Indefinate Integrals\n",
    "\n",
    "\n",
    "\n"
   ]
  },
  {
   "cell_type": "markdown",
   "metadata": {
    "slideshow": {
     "slide_type": "slide"
    }
   },
   "source": [
    "$$f(x) = ax^2 + bx + c$$\n",
    "\n"
   ]
  },
  {
   "cell_type": "code",
   "execution_count": 159,
   "metadata": {},
   "outputs": [],
   "source": [
    "a, b, c, x = symbols('a, b, c, x')\n",
    "f = a*x**2 + b*x + c"
   ]
  },
  {
   "cell_type": "markdown",
   "metadata": {
    "slideshow": {
     "slide_type": "slide"
    }
   },
   "source": [
    "The inputs to `sympy.integrate` are the integrand $f$ and the integration variable $x$. \n",
    "\n",
    "$$f(x) = ax^2 + bx + c$$\n",
    "\n",
    "Find : $\\int f(x)dx$"
   ]
  },
  {
   "cell_type": "markdown",
   "metadata": {},
   "source": [
    "$$f(x) = ax^2 + bx + c$$\n",
    "\n",
    "$$\\int f(x)dx = \\frac{ax^3}{3} + \\frac{bx^2}{2} + cx + C$$\n",
    "\n",
    "$C = $ constant of integration\n",
    "\n",
    "Notice that SymPy does not include the constant of integration. "
   ]
  },
  {
   "cell_type": "code",
   "execution_count": 160,
   "metadata": {},
   "outputs": [
    {
     "name": "stdout",
     "output_type": "stream",
     "text": [
      "a*x**3/3 + b*x**2/2 + c*x\n"
     ]
    }
   ],
   "source": [
    "print(integrate(f, x))"
   ]
  },
  {
   "cell_type": "markdown",
   "metadata": {},
   "source": [
    "`pprint` (pretty print) can be used to display the symbolic expression in a way that is easier to read.  "
   ]
  },
  {
   "cell_type": "code",
   "execution_count": 161,
   "metadata": {
    "scrolled": true
   },
   "outputs": [
    {
     "name": "stdout",
     "output_type": "stream",
     "text": [
      "   3      2      \n",
      "a⋅x    b⋅x       \n",
      "──── + ──── + c⋅x\n",
      " 3      2        \n"
     ]
    }
   ],
   "source": [
    "from sympy import pprint\n",
    "\n",
    "pprint(integrate(f, x))"
   ]
  },
  {
   "cell_type": "markdown",
   "metadata": {},
   "source": [
    "Multiple/nested integrals can be performed\n",
    "\n",
    "$$f(x) = ax^2 + bx + c$$\n",
    "\n",
    "$$\\int \\int f(x)dx dx = \\frac{ax^4}{12} + \\frac{bx^3}{6} + \\frac{cx^2}{2} + Cx + D$$\n",
    "\n",
    "$C, D = $ constants of integration"
   ]
  },
  {
   "cell_type": "code",
   "execution_count": 162,
   "metadata": {
    "scrolled": true
   },
   "outputs": [
    {
     "name": "stdout",
     "output_type": "stream",
     "text": [
      "a*x**4/12 + b*x**3/6 + c*x**2/2\n"
     ]
    }
   ],
   "source": [
    "print( integrate(f, (x), (x)) )"
   ]
  },
  {
   "cell_type": "markdown",
   "metadata": {},
   "source": [
    "Multiple/nested integrals can have different dimensions:\n",
    "    \n",
    "$$g(x,y) = x y $$"
   ]
  },
  {
   "cell_type": "code",
   "execution_count": 163,
   "metadata": {},
   "outputs": [
    {
     "name": "stdout",
     "output_type": "stream",
     "text": [
      " 2  2\n",
      "x ⋅y \n",
      "─────\n",
      "  4  \n"
     ]
    }
   ],
   "source": [
    "y = symbols('y')\n",
    "\n",
    "g = x*y\n",
    "\n",
    "pprint( integrate(g, (x), (y)) )"
   ]
  },
  {
   "cell_type": "markdown",
   "metadata": {},
   "source": [
    "<a id='DefinateIntegrals'></a>\n",
    "## 3.3 Definate Integrals\n",
    "\n",
    "\n",
    "\n",
    "\n",
    "\n",
    "To find a definite integral, parse the argument: <br> `(integration_variable, lower_limit, upper_limit)`.\n",
    "\n",
    "$$f(x) = ax^2 + bx + c$$"
   ]
  },
  {
   "cell_type": "markdown",
   "metadata": {
    "slideshow": {
     "slide_type": "slide"
    }
   },
   "source": [
    " \n",
    "\\begin{align*}\n",
    "\\int_{x=0}^{1} f(x) &= \\frac{ax^3}{3} + \\frac{bx^2}{2} + cx \\biggr\\rvert_0^{1}\\\\\n",
    "                    &= \\frac{a(1)^3}{3} + \\frac{b(1)^2}{2} + c(1)  - \\left( \\frac{a(0)^3}{3} + \\frac{b(0)^2}{2} + c(0) \\right) \\\\\n",
    "                    &= \\frac{a}{3} + \\frac{b}{2} + c\n",
    "\\end{align*}"
   ]
  },
  {
   "cell_type": "code",
   "execution_count": 164,
   "metadata": {},
   "outputs": [
    {
     "name": "stdout",
     "output_type": "stream",
     "text": [
      "a/3 + b/2 + c\n"
     ]
    }
   ],
   "source": [
    "print(integrate(f, (x, 0, 1))) # definite integral from x=0..1"
   ]
  },
  {
   "cell_type": "markdown",
   "metadata": {
    "slideshow": {
     "slide_type": "slide"
    }
   },
   "source": [
    "Substitute in numerical values to find exact solution.\n",
    "\n",
    "$f(x) = ax^2 + bx + c$\n",
    "\n",
    "Find $\\int_{x=0}^{1} f(x)dx$\n",
    "\n",
    "$a=b=c=2 $"
   ]
  },
  {
   "cell_type": "code",
   "execution_count": 165,
   "metadata": {},
   "outputs": [
    {
     "data": {
      "image/png": "[encoded data removed]",
      "text/latex": [
       "$$\\frac{11}{3}$$"
      ],
      "text/plain": [
       "11/3"
      ]
     },
     "execution_count": 165,
     "metadata": {},
     "output_type": "execute_result"
    }
   ],
   "source": [
    "integrate(f, (x, 0, 1)).subs([(a, 2), \n",
    "                              (b, 2), \n",
    "                              (c, 2)])\n"
   ]
  },
  {
   "cell_type": "markdown",
   "metadata": {},
   "source": [
    "The following example uses the exponential function. \n",
    "\n",
    "$$\\int e^{-x} dx = - e^{-x} + C$$\n",
    "\n",
    "\n",
    "We need to import a *symbolic function* to handle this operation:\n",
    ">`sympy.exp`\n",
    "\n",
    "\n",
    "Documentation for elementary symbolic functions including trigonometric, hyperbolic, and sqrt can be found here:\n",
    "https://docs.sympy.org/latest/modules/functions/elementary.html#exp"
   ]
  },
  {
   "cell_type": "code",
   "execution_count": 166,
   "metadata": {},
   "outputs": [
    {
     "data": {
      "image/png": "[encoded data removed]",
      "text/latex": [
       "$$- e^{- x}$$"
      ],
      "text/plain": [
       "  -x\n",
       "-ℯ  "
      ]
     },
     "execution_count": 166,
     "metadata": {},
     "output_type": "execute_result"
    }
   ],
   "source": [
    "integrate( sp.exp(-x) )"
   ]
  },
  {
   "cell_type": "markdown",
   "metadata": {},
   "source": [
    "The definite integral has infinity as the upper limit. \n",
    "\n",
    "\\begin{align*}\n",
    "\\int_{x=0}^{\\infty} e^{-x}dx &= -e^{-x}\\biggr\\rvert_0^{\\infty}\\\\\n",
    "  &= 1\n",
    "\\end{align*}\n",
    "\n",
    "We need to import symbolic infinity:\n",
    ">`sympy.oo`"
   ]
  },
  {
   "cell_type": "code",
   "execution_count": 167,
   "metadata": {},
   "outputs": [
    {
     "data": {
      "image/png": "[encoded data removed]",
      "text/latex": [
       "$$1$$"
      ],
      "text/plain": [
       "1"
      ]
     },
     "execution_count": 167,
     "metadata": {},
     "output_type": "execute_result"
    }
   ],
   "source": [
    "from sympy import oo as oo\n",
    "\n",
    "integrate(sp.exp(-x), (x, 0, oo))"
   ]
  },
  {
   "cell_type": "markdown",
   "metadata": {},
   "source": [
    "Again, we can compute multiple/nested integrals\n",
    "\\begin{align*}\n",
    "\\int\\int_{0}^{1} x^2 \\; dxdx &= \\frac{1}{3}\n",
    "\\end{align*}"
   ]
  },
  {
   "cell_type": "code",
   "execution_count": 168,
   "metadata": {},
   "outputs": [
    {
     "name": "stdout",
     "output_type": "stream",
     "text": [
      "1/3\n"
     ]
    }
   ],
   "source": [
    "f = x**2\n",
    "\n",
    "pprint( integrate(f, (x, 0, 1), (x, 0, 1)) )"
   ]
  },
  {
   "cell_type": "markdown",
   "metadata": {},
   "source": [
    "Again, we can compute multiple/nested integrals\n",
    "\\begin{align*}\n",
    "\\int_{0}^{1}\\int_{0}^{1} xy \\; dxdy &= \\frac{1}{4}\n",
    "\\end{align*}"
   ]
  },
  {
   "cell_type": "code",
   "execution_count": 169,
   "metadata": {},
   "outputs": [
    {
     "name": "stdout",
     "output_type": "stream",
     "text": [
      "1/4\n"
     ]
    }
   ],
   "source": [
    "y = symbols('y')\n",
    "\n",
    "g = x*y\n",
    "\n",
    "pprint( integrate(g, (x, 0, 1), (y, 0, 1)) )"
   ]
  },
  {
   "cell_type": "markdown",
   "metadata": {},
   "source": [
    "<a id='Non-symbolicIntegration'></a>\n",
    "## 3.4 Non-symbolic Integration\n",
    "\n",
    "\n",
    "\n",
    "We can also integrate non-symbolically.  "
   ]
  },
  {
   "cell_type": "markdown",
   "metadata": {
    "slideshow": {
     "slide_type": "slide"
    }
   },
   "source": [
    "The scipy function `quad` is very convenient for solving integration problems:\n",
    "\n",
    "Input arguments : \n",
    "- function to integrate\n",
    "- lower limit\n",
    "- upper limit \n",
    "\n",
    "Returns:\n",
    "- integral\n",
    "- estimated absolute error in the result "
   ]
  },
  {
   "cell_type": "code",
   "execution_count": 170,
   "metadata": {},
   "outputs": [],
   "source": [
    "from scipy.integrate import quad"
   ]
  },
  {
   "cell_type": "markdown",
   "metadata": {},
   "source": [
    "\\begin{align*}\n",
    "S &= \\int_{0}^{1} x^2 dx\\\\\n",
    "  &= \\frac{1}{3}x^3 \\biggr\\rvert_0^{1}\\\\\n",
    "  &= \\frac{1}{3}(1)^3 - \\frac{1}{3}(0)^3\\\\\n",
    "  &= \\frac{1}{3}\n",
    "\\end{align*}"
   ]
  },
  {
   "cell_type": "code",
   "execution_count": 171,
   "metadata": {
    "scrolled": true,
    "slideshow": {
     "slide_type": "slide"
    }
   },
   "outputs": [
    {
     "name": "stdout",
     "output_type": "stream",
     "text": [
      "0.33333333333333337\n",
      "The estimated error is 3.700743415417189e-15\n"
     ]
    }
   ],
   "source": [
    "# first create a function to describe the integrand\n",
    "def integrand(x):\n",
    "    return x**2\n",
    "\n",
    "\n",
    "# create two variables to store the integral and the error\n",
    "ans, err = quad(integrand, 0, 1)\n",
    "\n",
    "\n",
    "print(ans)\n",
    "print(f'The estimated error is {err}')"
   ]
  },
  {
   "cell_type": "markdown",
   "metadata": {
    "slideshow": {
     "slide_type": "slide"
    }
   },
   "source": [
    "### Example :  Water flowing into a tank. \n",
    "\n",
    "Water flows into a tank at flow rate that changes with time. \n",
    "\n",
    "$v'$ is the rate of change of the *volume flow rate* (L/s) of water in the tank. \n",
    "\n",
    "$$ v' =\\frac{dv}{dt}=\\alpha t $$\n",
    "\n",
    "where $\\alpha = 1\\textrm{L/s}$ \n",
    "\n",
    "<img src=\"img/flow_tank.png\" alt=\"Drawing\" style=\"width: 300px;\"/> "
   ]
  },
  {
   "cell_type": "markdown",
   "metadata": {
    "slideshow": {
     "slide_type": "slide"
    }
   },
   "source": [
    "__How much liquid flows into the tank over 10 seconds?__\n",
    "<br>Initial flow rate:\n",
    "<br>$v_0=5\\textrm{L/s,} \\qquad t_0=0$\n",
    "\n",
    "__Solution__\n",
    "\n",
    "We can see that at \n",
    "\n",
    "\\begin{align*}\n",
    "v_1 &= v_0 + \\frac{dv}{dt}\\\\\n",
    "    &= v_0 + \\alpha t \\\\\n",
    "\\end{align*}\n"
   ]
  },
  {
   "cell_type": "markdown",
   "metadata": {
    "slideshow": {
     "slide_type": "slide"
    }
   },
   "source": [
    "To find the total __volume__ of liquid the enters the tank in the first $10$ seconds:\n",
    "\n",
    "$$V = \\int_{0}^{10} v_0 + \\alpha t \\quad dt$$"
   ]
  },
  {
   "cell_type": "code",
   "execution_count": 172,
   "metadata": {
    "slideshow": {
     "slide_type": "slide"
    }
   },
   "outputs": [
    {
     "name": "stdout",
     "output_type": "stream",
     "text": [
      "100.0 L flowed into the tank in 10 seconds\n",
      "The estimated error is 1.1102230246251565e-12\n"
     ]
    }
   ],
   "source": [
    "from scipy.integrate import quad\n",
    "\n",
    "t0=0.0\n",
    "tfinal = 10.0\n",
    "v0=5       # L/s\n",
    "alpha = 1  # L/s\n",
    "\n",
    "\n",
    "# create a function to describe the integrand\n",
    "def integrand(t):\n",
    "    return v0 + alpha * t\n",
    "\n",
    "V, err = quad(integrand, t0, tfinal)\n",
    "\n",
    "\n",
    "print(f'{V} L flowed into the tank in 10 seconds')\n",
    "print(f'The estimated error is {err}')"
   ]
  },
  {
   "cell_type": "markdown",
   "metadata": {
    "slideshow": {
     "slide_type": "slide"
    }
   },
   "source": [
    "We can check the solution:\n",
    "    \n",
    "\\begin{align*}\n",
    "V &= \\int_{0}^{10} v_0 + \\alpha t \\quad dt\\\\\n",
    "  &= v_0(t) + \\frac{1}{2}\\alpha t^2 \\biggr\\rvert_0^{10}\\\\\n",
    "  &=100\n",
    "\\end{align*}"
   ]
  },
  {
   "cell_type": "markdown",
   "metadata": {},
   "source": [
    "<a id='TrapezoidEstimationMethod'></a>\n",
    "## 3.5 Trapezoid Estimation Method\n",
    "\n",
    "\n",
    "\n",
    "\n",
    "\n",
    " \n",
    "\n",
    "\n",
    "\n",
    "Often we have a data set (e.g. from an experiemnt) rather than a function that we want to ingtegrate. \n",
    "\n",
    "One way to deal with this is to fit a function to the data and then integrate the function. \n",
    "\n",
    "Another way is to use the __trapezoid method__ to integrate the array of raw data. \n",
    "\n",
    "\n",
    "\n",
    "\n",
    "\n"
   ]
  },
  {
   "cell_type": "markdown",
   "metadata": {},
   "source": [
    "The region under the graph of the function between two data points is approximated as a trapezoid. \n",
    "\n",
    "<img src=\"img/trapezoid_method.png\" alt=\"Drawing\" style=\"width: 300px;\"/> \n",
    "\n",
    "The area of the region is approximiated as  the area of teh trapezoid.\n",
    "\n",
    "<img src=\"img/trapezoid_method_block.png\" alt=\"Drawing\" style=\"width: 300px;\"/> "
   ]
  },
  {
   "cell_type": "code",
   "execution_count": 173,
   "metadata": {},
   "outputs": [
    {
     "name": "stdout",
     "output_type": "stream",
     "text": [
      "6.0\n",
      "6.0\n"
     ]
    }
   ],
   "source": [
    "import numpy as np\n",
    "\n",
    "x = np.array([0, 0.5, 1, 1.5, 2])\n",
    "\n",
    "y = np.array([5, 6, 1, 1.5, 2])\n",
    "\n",
    "print(np.trapz(y, x))\n",
    "\n",
    "# We can do this manually to check how the function works\n",
    "means = (y[1:] + y[:-1]) / 2 # mean of each pair of y values \n",
    "diffs = (x[1:] - x[:-1])     # difference between each pair of x values\n",
    "print(sum(means * diffs))    # sum areas"
   ]
  },
  {
   "cell_type": "markdown",
   "metadata": {
    "slideshow": {
     "slide_type": "slide"
    }
   },
   "source": [
    "<a id='ODE'></a>\n",
    "# 4. Ordinary Differential Equations (ODEs)\n",
    "\n",
    "<br> <a href='#AnalyticalSolutionsODE'>4.1 Analytical Solution to ODE</a>\n",
    "<br> <a href='#Changing_Subject_solve'>4.2  Changing the Subject using `solve`</a>\n",
    "<br> <a href='#SolvingHigherOrderODE'>4.3  Solving Higher Order ODE</a>\n",
    "<br> <a href='#NumerialSolutionsODEs'>4.4  Numerial Solutions to  ODEs</a>\n",
    "\n",
    "\n"
   ]
  },
  {
   "cell_type": "markdown",
   "metadata": {},
   "source": [
    "__Ordinary differential equation__\n",
    "<br>A differential equation containing one or more functions of __one__ independent variable and its derivatives. \n",
    "\n",
    "Example:\n",
    "*Given $f'(x)$, find $f(x)$.*"
   ]
  },
  {
   "cell_type": "markdown",
   "metadata": {
    "slideshow": {
     "slide_type": "slide"
    }
   },
   "source": [
    "<a id='AnalyticalSolutionsODE'></a>\n",
    "## 4.1 Analytical Solutions to ODE using Symbolic Math\n",
    "\n",
    "\n",
    "\n",
    "The function `sympy.dsolve` can be used to find the solution to any ordinary differential equation."
   ]
  },
  {
   "cell_type": "code",
   "execution_count": 174,
   "metadata": {},
   "outputs": [],
   "source": [
    "from sympy import dsolve, Eq, sin, cos"
   ]
  },
  {
   "cell_type": "markdown",
   "metadata": {
    "slideshow": {
     "slide_type": "slide"
    }
   },
   "source": [
    "Syntax to represent $f'(x)$\n",
    "        \n",
    "        f(x).diff(x)\n",
    "        \n",
    "Syntax to represent $f''(x)$\n",
    "        \n",
    "        f(x).diff(x, x)"
   ]
  },
  {
   "cell_type": "markdown",
   "metadata": {
    "slideshow": {
     "slide_type": "slide"
    }
   },
   "source": [
    "In the next examples we will:\n",
    "1. solve ODE symbolically to find the general solution, $f(x)$\n",
    "2. substitute an initial condition to find constants of the general solution\n",
    "3. find the value of the function for a specific input variable."
   ]
  },
  {
   "cell_type": "markdown",
   "metadata": {},
   "source": [
    "This is how to calculate the solution analytically using symbolic mathematics:\n",
    "\n",
    "a) Define the variables and functions in the equation symbolically\n",
    "\n",
    "b) Use `Eq` from the `sympy` package to define the differential equation. \n",
    "\n",
    "c) Use `dsolve` to find the general solution to the equation by solving the equation symbolically. \n",
    "\n",
    "d) Find the value of the constant of ingtegration $C1$. \n",
    "\n",
    "e) Substitute $C1$ into the general solution to find the exact solution to the equation.  "
   ]
  },
  {
   "cell_type": "markdown",
   "metadata": {
    "slideshow": {
     "slide_type": "slide"
    }
   },
   "source": [
    "#### Solving a First Order ODE\n",
    "\n",
    "Let's start with an example we used earlier: \n",
    "\n",
    "$$f'(x) = cos(x)$$\n",
    "\n",
    "The solution to the equation is :\n",
    "\n",
    "$$f(x) = sin(x)$$"
   ]
  },
  {
   "cell_type": "markdown",
   "metadata": {
    "slideshow": {
     "slide_type": "slide"
    }
   },
   "source": [
    "We create a variable to represent:\n",
    "- the function $f(x)$\n",
    "- the input variable $x$"
   ]
  },
  {
   "cell_type": "code",
   "execution_count": 175,
   "metadata": {},
   "outputs": [],
   "source": [
    "f = Function('f')\n",
    "x = Symbol('x')"
   ]
  },
  {
   "cell_type": "markdown",
   "metadata": {
    "slideshow": {
     "slide_type": "slide"
    }
   },
   "source": [
    "We create a Sympy `Eq` equation.\n",
    "\n",
    "The first argument (left hand side of equation) is equal to the second argument (right hand side of equation).\n",
    "\n",
    "In other words, `Eq` gives the name `ode` to the expression:\n",
    "\n",
    "$$f'(x) = cos(x)$$\n",
    "\n",
    "$f$ and $x$ are the function and variable that we have created symbolic representations  of: `f` and `x`. "
   ]
  },
  {
   "cell_type": "code",
   "execution_count": 176,
   "metadata": {},
   "outputs": [],
   "source": [
    "ode = Eq( f(x).diff(x), cos(x) ) "
   ]
  },
  {
   "cell_type": "markdown",
   "metadata": {
    "slideshow": {
     "slide_type": "slide"
    }
   },
   "source": [
    "### Finding the General Solution\n",
    "`dsolve` : Solves ordinary differential equation eq for function f(x).\n",
    "\n",
    "We can find the general solution, with unknown constant, `C1`.\n"
   ]
  },
  {
   "cell_type": "code",
   "execution_count": 177,
   "metadata": {},
   "outputs": [
    {
     "data": {
      "image/png": "[encoded data removed]",
      "text/latex": [
       "$$f{\\left (x \\right )} = C_{1} + \\sin{\\left (x \\right )}$$"
      ],
      "text/plain": [
       "f(x) = C₁ + sin(x)"
      ]
     },
     "metadata": {},
     "output_type": "display_data"
    }
   ],
   "source": [
    "# General solution\n",
    "gen_sol = dsolve(ode, f(x))\n",
    "\n",
    "display(gen_sol)"
   ]
  },
  {
   "cell_type": "markdown",
   "metadata": {
    "slideshow": {
     "slide_type": "slide"
    }
   },
   "source": [
    "The package `display` can also be used to achieve more readable print formatting for mathematical equations:"
   ]
  },
  {
   "cell_type": "code",
   "execution_count": 178,
   "metadata": {},
   "outputs": [],
   "source": [
    "from IPython.display import display"
   ]
  },
  {
   "cell_type": "code",
   "execution_count": 179,
   "metadata": {},
   "outputs": [
    {
     "data": {
      "image/png": "[encoded data removed]",
      "text/latex": [
       "$$f{\\left (x \\right )} = C_{1} + \\sin{\\left (x \\right )}$$"
      ],
      "text/plain": [
       "f(x) = C₁ + sin(x)"
      ]
     },
     "metadata": {},
     "output_type": "display_data"
    }
   ],
   "source": [
    "display(gen_sol)"
   ]
  },
  {
   "cell_type": "markdown",
   "metadata": {
    "slideshow": {
     "slide_type": "slide"
    }
   },
   "source": [
    "### Finding constant C1\n",
    "Initial value problem.\n",
    "\n",
    "Use $x=0, \\quad f(x)=0$ to find `C1`."
   ]
  },
  {
   "cell_type": "code",
   "execution_count": 180,
   "metadata": {
    "scrolled": true
   },
   "outputs": [
    {
     "data": {
      "image/png": "[encoded data removed]",
      "text/latex": [
       "$$f{\\left (x \\right )} = C_{1} + \\sin{\\left (x \\right )}$$"
      ],
      "text/plain": [
       "f(x) = C₁ + sin(x)"
      ]
     },
     "metadata": {},
     "output_type": "display_data"
    },
    {
     "data": {
      "image/png": "[encoded data removed]",
      "text/latex": [
       "$$0 = C_{1}$$"
      ],
      "text/plain": [
       "0 = C₁"
      ]
     },
     "metadata": {},
     "output_type": "display_data"
    }
   ],
   "source": [
    "C_1 = gen_sol.subs([(x,    0),       # x = 0 --> substitute 0 for x\n",
    "                    (f(0), 0)])      # f(0) = 0 --> substitute 0 for f(0)\n",
    "\n",
    "display(gen_sol)\n",
    "display(C_1)"
   ]
  },
  {
   "cell_type": "markdown",
   "metadata": {},
   "source": [
    "##### What does this code do?\n",
    "\n",
    "`C_1` is a Sympy __`Eq`__ (equation) object.<br>\n",
    "(__Note :__ `C_1` is different from the integration constant `C1`). <br>\n",
    "In other words `C_1` is the name given to the expression `C1 = 0`\n",
    "\n",
    "\n",
    "`subs` takes a list of the substitutions we want to make as arguments.<br>\n",
    "Each substitution is given as a tuple: *(original value, value to substitute in)*<br>\n",
    "`gen_sol.subs` : The original value is replaced by the value to substitute in wherever it appears in the general solution.\n",
    "\n",
    "In the example shown, the substitution reveals the value of `C1`."
   ]
  },
  {
   "cell_type": "markdown",
   "metadata": {
    "slideshow": {
     "slide_type": "slide"
    }
   },
   "source": [
    "Substitute the revealed value into the general solution for `C1`.<br>\n",
    "When doing this, note if `C1` appears on left or right of equation `C_1`"
   ]
  },
  {
   "cell_type": "code",
   "execution_count": 181,
   "metadata": {},
   "outputs": [
    {
     "data": {
      "image/png": "[encoded data removed]",
      "text/latex": [
       "$$f{\\left (x \\right )} = \\sin{\\left (x \\right )}$$"
      ],
      "text/plain": [
       "f(x) = sin(x)"
      ]
     },
     "metadata": {},
     "output_type": "display_data"
    }
   ],
   "source": [
    "# Method 1, C1 rhs\n",
    "ode_sol = gen_sol.subs([(C_1.rhs, C_1.lhs)])\n",
    "\n",
    "# Method 2, C1 lhs\n",
    "# ode_sol = gen_sol.subs([(C_1.lhs, C_1.rhs)])\n",
    "\n",
    "display (ode_sol) "
   ]
  },
  {
   "cell_type": "markdown",
   "metadata": {
    "slideshow": {
     "slide_type": "slide"
    }
   },
   "source": [
    "##### What does this code do?\n",
    "\n",
    ">`ode_sol = gen_sol.subs([(C_1.rhs, C_1.lhs)])`\n",
    "\n",
    "`subs` takes a list of the substitutions we want to make as arguments.<br>\n",
    "Each substitution is given as a tuple: *(original value, value to substitute in)*<br>\n",
    "`gen_sol.subs` : The original value is replaced by the value to substitute in wherever it appears in the general solution.\n",
    "\n",
    "This code substitites the value 0 into the general solution for `C1`."
   ]
  },
  {
   "cell_type": "markdown",
   "metadata": {
    "slideshow": {
     "slide_type": "slide"
    }
   },
   "source": [
    "### Finding the value of the function for a specific input variable.\n",
    "\n",
    "Now we have found the value of `C1`, we can use `subs` again to find the value of $f(x)$ at any input value $x$."
   ]
  },
  {
   "cell_type": "code",
   "execution_count": 182,
   "metadata": {
    "scrolled": false
   },
   "outputs": [
    {
     "data": {
      "image/png": "[encoded data removed]",
      "text/latex": [
       "$$f{\\left (1.5707963267949 \\right )} = 1.0$$"
      ],
      "text/plain": [
       "f(1.5707963267949) = 1.0"
      ]
     },
     "metadata": {},
     "output_type": "display_data"
    }
   ],
   "source": [
    "spec_sol = ode_sol.subs([(x, np.pi/2)])\n",
    "display(spec_sol) "
   ]
  },
  {
   "cell_type": "markdown",
   "metadata": {},
   "source": [
    "The value of $f(\\frac{\\pi}{2})$ can then be accessed as a numerical value."
   ]
  },
  {
   "cell_type": "code",
   "execution_count": 183,
   "metadata": {},
   "outputs": [
    {
     "name": "stdout",
     "output_type": "stream",
     "text": [
      "1.00000000000000\n",
      "<class 'sympy.core.numbers.Float'>\n",
      "2\n"
     ]
    }
   ],
   "source": [
    "print(spec_sol.rhs)          # .rhs methid used to access value of function\n",
    "\n",
    "print(type(spec_sol.rhs))    # value is a floating point number\n",
    "\n",
    "print(int(spec_sol.rhs) * 2) # value can be cast as int, used in aithmetic operations etc"
   ]
  },
  {
   "cell_type": "markdown",
   "metadata": {},
   "source": [
    "\n",
    "<a id='Changing_Subject_solve'></a>\n",
    "## 4.2 Changing the Subject using `solve`\n",
    "\n",
    "__Look carefully at this next example.__ \n",
    "\n",
    "Solve the following eqation to find $v(t)$:\n",
    "\n",
    "$$\\frac{dv}{dt} = -t^2 - e^m$$ \n",
    "\n",
    "Initial condition $ v(1) = 5 $\n",
    "\n",
    "\n",
    "\n",
    "In this case, when we substitue the initial condition into the general solution, the subject of equation returned is not the constant we are trying to find. \n",
    "\n",
    "We must rearrange the equation to make `C1` the subject:"
   ]
  },
  {
   "cell_type": "code",
   "execution_count": 184,
   "metadata": {},
   "outputs": [
    {
     "data": {
      "image/png": "[encoded data removed]",
      "text/latex": [
       "$$\\frac{d}{d t} v{\\left (t \\right )} = - t^{2} - e^{m}$$"
      ],
      "text/plain": [
       "d             2    m\n",
       "──(v(t)) = - t  - ℯ \n",
       "dt                  "
      ]
     },
     "metadata": {},
     "output_type": "display_data"
    }
   ],
   "source": [
    "# create symbolic equation\n",
    "t, m, C1 = symbols(\"t m C1\")\n",
    "v = Function(\"v\")\n",
    "eqn = Eq(v(t).diff(t), -t**2 - sp.exp(m))\n",
    "display(eqn)"
   ]
  },
  {
   "cell_type": "code",
   "execution_count": 185,
   "metadata": {},
   "outputs": [
    {
     "data": {
      "image/png": "[encoded data removed]",
      "text/latex": [
       "$$v{\\left (t \\right )} = C_{1} - \\frac{t^{3}}{3} - t e^{m}$$"
      ],
      "text/plain": [
       "             3       \n",
       "            t       m\n",
       "v(t) = C₁ - ── - t⋅ℯ \n",
       "            3        "
      ]
     },
     "metadata": {},
     "output_type": "display_data"
    },
    {
     "data": {
      "image/png": "[encoded data removed]",
      "text/latex": [
       "$$5 = C_{1} - e^{m} - \\frac{1}{3}$$"
      ],
      "text/plain": [
       "          m   1\n",
       "5 = C₁ - ℯ  - ─\n",
       "              3"
      ]
     },
     "metadata": {},
     "output_type": "display_data"
    }
   ],
   "source": [
    "# find the general solution\n",
    "gen_sol = dsolve(eqn, v(t))\n",
    "display(gen_sol)\n",
    "\n",
    "# substitute in initial condition\n",
    "cnts = gen_sol.subs([(t,    1),       # x = 0 --> subs 0 for x\n",
    "                     (v(1), 5)])      # f(0) = 0 --> subs 0 for f(0)\n",
    "\n",
    "display(cnts)"
   ]
  },
  {
   "cell_type": "markdown",
   "metadata": {},
   "source": [
    "We can now use `sympy.solve`(imported earlier) to solve the equation for `C1`:"
   ]
  },
  {
   "cell_type": "code",
   "execution_count": 186,
   "metadata": {},
   "outputs": [
    {
     "data": {
      "image/png": "[encoded data removed]",
      "text/latex": [
       "$$\\left \\{ C_{1} : e^{m} + \\frac{16}{3}\\right \\}$$"
      ],
      "text/plain": [
       "⎧     m   16⎫\n",
       "⎨C₁: ℯ  + ──⎬\n",
       "⎩         3 ⎭"
      ]
     },
     "metadata": {},
     "output_type": "display_data"
    }
   ],
   "source": [
    "# solve the equation for C1\n",
    "C_1 = solve([cnts], (C1))\n",
    "display(C_1)"
   ]
  },
  {
   "cell_type": "markdown",
   "metadata": {},
   "source": [
    "We can now substitute `C1` into the general solution as before"
   ]
  },
  {
   "cell_type": "code",
   "execution_count": 187,
   "metadata": {},
   "outputs": [
    {
     "ename": "SyntaxError",
     "evalue": "unexpected EOF while parsing (<ipython-input-187-fb78ff30ea46>, line 3)",
     "output_type": "error",
     "traceback": [
      "\u001b[0;36m  File \u001b[0;32m\"<ipython-input-187-fb78ff30ea46>\"\u001b[0;36m, line \u001b[0;32m3\u001b[0m\n\u001b[0;31m    display(ode_sol\u001b[0m\n\u001b[0m                   ^\u001b[0m\n\u001b[0;31mSyntaxError\u001b[0m\u001b[0;31m:\u001b[0m unexpected EOF while parsing\n"
     ]
    }
   ],
   "source": [
    "# substitue the value of C1 into the general solution \n",
    "ode_sol = gen_sol.subs(C_1)\n",
    "display(ode_sol"
   ]
  },
  {
   "cell_type": "markdown",
   "metadata": {},
   "source": [
    "Again, the complete solution can be used to find v(t) for specific value of t e.g. $\\frac{\\pi}{2}$"
   ]
  },
  {
   "cell_type": "code",
   "execution_count": null,
   "metadata": {},
   "outputs": [],
   "source": [
    "spec_sol = ode_sol.subs([(t, np.pi/2)])\n",
    "display(spec_sol) "
   ]
  },
  {
   "cell_type": "markdown",
   "metadata": {
    "slideshow": {
     "slide_type": "slide"
    }
   },
   "source": [
    "<a id='SolvingHigherOrderODE'></a>\n",
    "## 4.3 Solving Higher Order ODE \n",
    "\n",
    "\n",
    "\n",
    "\n",
    "Taking another expression containing higher order derivatives, \n",
    "<br>we can write the equation:\n",
    "\n",
    "$$A=f''(x) =12x^2$$    "
   ]
  },
  {
   "cell_type": "code",
   "execution_count": null,
   "metadata": {},
   "outputs": [],
   "source": [
    "f = Function('f')\n",
    "x = Symbol('x')\n",
    "\n",
    "A = Eq(f(x).diff(x, x), 12*x**2)"
   ]
  },
  {
   "cell_type": "markdown",
   "metadata": {
    "slideshow": {
     "slide_type": "slide"
    }
   },
   "source": [
    "The highest order derivative in this expression is a second order devrivative.\n",
    "\n",
    "The general solution will therefore have two constants to solve.\n",
    "\n",
    "We need two initial conditions."
   ]
  },
  {
   "cell_type": "code",
   "execution_count": null,
   "metadata": {
    "slideshow": {
     "slide_type": "slide"
    }
   },
   "outputs": [],
   "source": [
    "# General solution\n",
    "gen_sol = dsolve(A, f(x))\n",
    "display(gen_sol)"
   ]
  },
  {
   "cell_type": "markdown",
   "metadata": {
    "slideshow": {
     "slide_type": "slide"
    }
   },
   "source": [
    "Find the constants by substitution.\n",
    "\n",
    "$f(0)=0$\n",
    "\n",
    "$f(1)=3$\n",
    "\n",
    "$f'(1)=6$\n"
   ]
  },
  {
   "cell_type": "code",
   "execution_count": null,
   "metadata": {
    "scrolled": true
   },
   "outputs": [],
   "source": [
    "cntsA = gen_sol.subs([(x,    0),       # x = 0 --> subs 0 for x\n",
    "                    (f(0), 0)])      # f(0) = 0 --> subs 0 for f(0)\n",
    "\n",
    "cntsB = gen_sol.subs([(x,    1),       # x = 1 --> subs 0 for x\n",
    "                    (f(1), 3)])      # f(1) = 3 --> subs 0 for f(0)\n",
    "\n",
    "display(cntsA)\n",
    "display(cntsB)"
   ]
  },
  {
   "cell_type": "markdown",
   "metadata": {
    "slideshow": {
     "slide_type": "slide"
    }
   },
   "source": [
    "Create symbolic representations of the variables.\n",
    "\n",
    "This time we use `sympy.solve` to solve the coupled equations `cnd0` and `cnd1` for constants `C1, C2`:"
   ]
  },
  {
   "cell_type": "code",
   "execution_count": null,
   "metadata": {
    "scrolled": true,
    "slideshow": {
     "slide_type": "slide"
    }
   },
   "outputs": [],
   "source": [
    "C1, C2 = symbols(\"C1, C2\")  # generic constants\n",
    "\n",
    "C1C2_sol = solve([cntsA, cntsB], (C1, C2))\n",
    "display(C1C2_sol)"
   ]
  },
  {
   "cell_type": "markdown",
   "metadata": {
    "slideshow": {
     "slide_type": "slide"
    }
   },
   "source": [
    "Substitute the two constants into the general solution."
   ]
  },
  {
   "cell_type": "code",
   "execution_count": null,
   "metadata": {
    "scrolled": true
   },
   "outputs": [],
   "source": [
    "ode2_sol = gen_sol.subs(C1C2_sol)\n",
    "display(ode2_sol)"
   ]
  },
  {
   "cell_type": "markdown",
   "metadata": {
    "slideshow": {
     "slide_type": "slide"
    }
   },
   "source": [
    "<a id='NumerialSolutionsODEs'></a>\n",
    "## 4.4 Numerial Solutions to  ODEs\n",
    "\n"
   ]
  },
  {
   "cell_type": "markdown",
   "metadata": {
    "slideshow": {
     "slide_type": "-"
    }
   },
   "source": [
    "The function `scipy.integrate.odeint` estimates the solution to first order differential equations.\n",
    "\n",
    "In contrast to `dsolve`, this gives the numerical solution for a range of input values, rather than a symbolic expression, solved analytically."
   ]
  },
  {
   "cell_type": "code",
   "execution_count": null,
   "metadata": {
    "slideshow": {
     "slide_type": "-"
    }
   },
   "outputs": [],
   "source": [
    "from scipy.integrate import odeint"
   ]
  },
  {
   "cell_type": "markdown",
   "metadata": {
    "slideshow": {
     "slide_type": "slide"
    }
   },
   "source": [
    "The function `odeint` takes a user-defined function as an argument.\n",
    "\n",
    "This input function should define the derivative you want to solve in the form: \n",
    "\n",
    "$f' = \\frac{df}{dt} = g(t)$\n",
    "\n",
    "###### Example\n",
    "\n",
    "Solve $f' = cos(t)$\n",
    "\n",
    "Initial value : $f(0)=0$"
   ]
  },
  {
   "cell_type": "markdown",
   "metadata": {},
   "source": [
    "Create a user-defined function to represent the differential equation: "
   ]
  },
  {
   "cell_type": "code",
   "execution_count": null,
   "metadata": {},
   "outputs": [],
   "source": [
    "def dfdt(x, t):\n",
    "    return np.cos(t)"
   ]
  },
  {
   "cell_type": "markdown",
   "metadata": {
    "slideshow": {
     "slide_type": "slide"
    }
   },
   "source": [
    "Two additional arguments are needed:\n",
    "\n",
    "- the initial value of x\n",
    "- the value(s) of t at which to evaluate x, starting with the initial value\n",
    "- (if `dx_dt` takes any other argumemts they are entered as a tuple as the third argument)"
   ]
  },
  {
   "cell_type": "code",
   "execution_count": null,
   "metadata": {
    "slideshow": {
     "slide_type": "-"
    }
   },
   "outputs": [],
   "source": [
    "f0 = 0                    # the initial value\n",
    "ts = np.linspace(0,5,100) # the value(s) of t at which to evaluate x \n",
    "\n",
    "\n",
    "# odeint returns x at each value of t\n",
    "fs = odeint(dfdt, # user-defined function\n",
    "            f0,   # initial value\n",
    "            ts)   # value(s) of t at which to evaluate x\n",
    "\n",
    "\n",
    "fs = np.array(fs).flatten() # flatten to 1D array"
   ]
  },
  {
   "cell_type": "markdown",
   "metadata": {
    "slideshow": {
     "slide_type": "slide"
    }
   },
   "source": [
    "The function `odeint` returns an $n\\times 1$ array (2D column).\n",
    "\n",
    "To plot the output we have to \"flatten\" it using `flatten` to a 1D array."
   ]
  },
  {
   "cell_type": "markdown",
   "metadata": {
    "slideshow": {
     "slide_type": "slide"
    }
   },
   "source": [
    "Plot the function"
   ]
  },
  {
   "cell_type": "code",
   "execution_count": null,
   "metadata": {},
   "outputs": [],
   "source": [
    "import matplotlib.pyplot as plt\n",
    "%matplotlib inline\n",
    "\n",
    "# plot the numerical solution\n",
    "plt.plot(ts, fs, 'c', label='numerical solution');\n",
    "\n",
    "# plot the analytical solution to check your answer\n",
    "plt.plot(ts, np.sin(ts), 'b:', label='analytical solution'); # Recall: f'(t) = cos(t), f(t) = sin(t)\n",
    "\n",
    "plt.xlabel(\"t\")\n",
    "plt.ylabel(\"f\")\n",
    "plt.legend(loc='best')"
   ]
  },
  {
   "cell_type": "markdown",
   "metadata": {},
   "source": [
    "The numerical and analytical solutions agree."
   ]
  },
  {
   "cell_type": "markdown",
   "metadata": {
    "slideshow": {
     "slide_type": "slide"
    }
   },
   "source": [
    "Lastly we can add the symbolically function we geernated earlier:"
   ]
  },
  {
   "cell_type": "code",
   "execution_count": null,
   "metadata": {
    "scrolled": true
   },
   "outputs": [],
   "source": [
    "sym_sol = []\n",
    "\n",
    "for t in ts:\n",
    "    sym_sol.append(ode_sol.subs([(x,    t)]))       # x = t --> subs t for x\n",
    "    \n",
    "    "
   ]
  },
  {
   "cell_type": "markdown",
   "metadata": {
    "slideshow": {
     "slide_type": "slide"
    }
   },
   "source": [
    "Plot the function  "
   ]
  },
  {
   "cell_type": "code",
   "execution_count": null,
   "metadata": {
    "scrolled": true
   },
   "outputs": [],
   "source": [
    "plt.xlabel(\"t\")\n",
    "plt.ylabel(\"f\")\n",
    "plt.plot(ts, np.sin(ts), 'c', label='analytical solution');\n",
    "plt.plot(ts, fs, 'r--', label='numerical solution');\n",
    "plt.plot(ts, fs, 'b:', label='symbolic solution');\n",
    "plt.legend(loc='best')\n",
    "\n"
   ]
  },
  {
   "cell_type": "markdown",
   "metadata": {},
   "source": [
    "All solutions agree. "
   ]
  },
  {
   "cell_type": "markdown",
   "metadata": {},
   "source": [
    "https://docs.scipy.org/doc/scipy-0.19.0/reference/generated/scipy.integrate.odeint.html\n",
    "\n",
    "`odeint` can be used to solve:\n",
    "- first order ordinary differerntial equations (ODEs)\n",
    "- systems of coupled first order ODEs\n",
    "\n",
    "In other words, `odeint` can only solve equations/systems of equations of the form:\n",
    "\n",
    "$$\\frac{dy}{dt}=F(y,t)$$\n",
    "\n"
   ]
  },
  {
   "cell_type": "markdown",
   "metadata": {},
   "source": [
    "To solve a higher order ODE, we can reformulate it as a system of first order ODEs.\n",
    "\n",
    "Suppose we have a second order ODE (e.g. equation for damped simple harmonic motion):\n",
    "\n",
    "$$y'' + 2y' + 2y = cos(2x)$$\n",
    "\n",
    "Initial conditions:\n",
    "$ y(0) = 0, \\; \\; y'(0) = 0 $"
   ]
  },
  {
   "cell_type": "markdown",
   "metadata": {},
   "source": [
    "We can rewrite this as two first order ODEs by defining a new dependent variable, $z$. \n",
    "\n",
    "\\begin{align*}\n",
    "z &= y'\\\\\n",
    "z' + 2z + 2y &= cos(2x)\\\\\n",
    "\\end{align*}\n",
    "\n",
    "\n",
    "Initial conditions:\n",
    "$ z(0) = y(0) = 0 $"
   ]
  },
  {
   "cell_type": "markdown",
   "metadata": {},
   "source": [
    "Now we can solve this system of ODEs using `odeint` exactly as we did for a single ODE"
   ]
  },
  {
   "cell_type": "code",
   "execution_count": null,
   "metadata": {},
   "outputs": [],
   "source": [
    "def dU_dx(U, x):\n",
    "    \"\"\"\n",
    "    U is a vector such that U[0] = y and U[1] = z.\n",
    "    Returns [y', z']\n",
    "    \"\"\"  \n",
    "    return [U[1], \n",
    "            -2*U[1] - 2*U[0] + np.cos(2*x)]\n",
    "\n",
    "\n",
    "U0 = [0, 0]                   # the initial value\n",
    "xs = np.linspace(0, 10, 200)  # the value(s) of x at which to evaluate y\n",
    "\n",
    "\n",
    "# odeint returns y,z at each value of x\n",
    "Us = odeint(dU_dx, # user-defined function\n",
    "            U0,    # initial value\n",
    "            xs)    # value(s) of t at which to evaluate x\n",
    "\n",
    "print(Us)\n",
    "ys = Us[:,0]  # y is the first column of the solution U = [y, z]T"
   ]
  },
  {
   "cell_type": "code",
   "execution_count": null,
   "metadata": {},
   "outputs": [],
   "source": [
    "plt.xlabel(\"x\")\n",
    "plt.ylabel(\"y\")\n",
    "plt.title(\"Damped harmonic oscillator\")\n",
    "plt.plot(xs,ys);"
   ]
  },
  {
   "cell_type": "markdown",
   "metadata": {
    "slideshow": {
     "slide_type": "slide"
    }
   },
   "source": [
    "<a id='ReviewExercises'></a>\n",
    "# 5. Review Exercises\n",
    "\n",
    "\n",
    "\n",
    "Compete the exercises below.\n"
   ]
  },
  {
   "cell_type": "markdown",
   "metadata": {},
   "source": [
    "## Review Exercise 1 : Differentiation\n",
    "\n",
    "$$f(x) = cos(x) + bx + c$$\n",
    "\n",
    "Use symbolic math to find the second derivative of $f(x)$"
   ]
  },
  {
   "cell_type": "code",
   "execution_count": null,
   "metadata": {},
   "outputs": [],
   "source": []
  },
  {
   "cell_type": "markdown",
   "metadata": {},
   "source": [
    "## Review Exercise 2 : Integration\n",
    "$$f(x) = cos(x) + bx + c$$\n",
    "\n",
    "Find: $\\int_{0}^{1} f(x) \\; dx$:\n",
    "\n",
    "1. Symbolically\n",
    "2. Non-symbolically (where $b=2$, $c=5$)"
   ]
  },
  {
   "cell_type": "code",
   "execution_count": null,
   "metadata": {
    "scrolled": true
   },
   "outputs": [],
   "source": []
  },
  {
   "cell_type": "code",
   "execution_count": null,
   "metadata": {},
   "outputs": [],
   "source": []
  },
  {
   "cell_type": "code",
   "execution_count": null,
   "metadata": {},
   "outputs": [],
   "source": []
  },
  {
   "cell_type": "markdown",
   "metadata": {},
   "source": [
    "## Review Exercise 3 : Estimating the integral of exerimental data\n",
    "\n",
    "Use the trapezoid method to integrate the array of raw experimental `y` data with respect to indpendent variable `x`. \n",
    "\n",
    "```\n",
    "x = np.array([0, 10, 15, 30, 35, 50, 75, 80])\n",
    "\n",
    "y = np.array([5, 6, 1, 1.5, 2, 5, 6, 1])\n",
    "```"
   ]
  },
  {
   "cell_type": "code",
   "execution_count": null,
   "metadata": {},
   "outputs": [],
   "source": [
    "# Review Exercise 3"
   ]
  },
  {
   "cell_type": "markdown",
   "metadata": {},
   "source": [
    "## Review Exercise 4: Solving ordinary differntial equations. \n",
    "\n",
    "During braking, a car’s velocity is given by $v = v_{0} e^{−t/R}$.\n",
    "\n",
    "$v = \\frac{dD}{dt}$\n",
    "\n",
    "Initial condition: distance, $D(0) = 0$\n",
    "\n",
    "Solve the equtaion using symbolic mathematics to show that the distance travelled while braking as a function of time can be expressed as:\n",
    "\n",
    "$$D(t) =  Rv_0 - R v_0 e^{−t/R} $$\n",
    "\n",
    "a) Define variables as symbols sybolically. Define function `D` (distance).\n",
    "\n",
    "b) Use `Eq` from the `sympy` package to define the differential equation. \n",
    "\n",
    "c) Use `dsolve` to find the general solution to the equation by solving the equation symbolically. \n",
    "\n",
    "d) Find the value of the constant of ingtegration $C1$. \n",
    "\n",
    "e) Substitute $C1$ into the general solution to find the exact solution to the equation.  "
   ]
  },
  {
   "cell_type": "code",
   "execution_count": null,
   "metadata": {},
   "outputs": [],
   "source": [
    "# Review Exercise 4"
   ]
  },
  {
   "cell_type": "markdown",
   "metadata": {},
   "source": [
    "## Review Exercise 5 : Solving ordinary differntial equations. \n",
    "\n",
    "$\\frac{dy}{dx} + y = x$\n",
    "\n",
    "Initial value: $y(0) = 1$\n",
    "\n",
    "Find the numerical solution for $y$ using `odeint` for the range $x = [0, 5]$\n",
    "\n"
   ]
  },
  {
   "cell_type": "code",
   "execution_count": null,
   "metadata": {},
   "outputs": [],
   "source": [
    "# Review Exercise 5"
   ]
  }
 ],
 "metadata": {
  "celltoolbar": "Slideshow",
  "kernelspec": {
   "display_name": "Python 3",
   "language": "python",
   "name": "python3"
  },
  "language_info": {
   "codemirror_mode": {
    "name": "ipython",
    "version": 3
   },
   "file_extension": ".py",
   "mimetype": "text/x-python",
   "name": "python",
   "nbconvert_exporter": "python",
   "pygments_lexer": "ipython3",
   "version": "3.6.5"
  }
 },
 "nbformat": 4,
 "nbformat_minor": 2
}
