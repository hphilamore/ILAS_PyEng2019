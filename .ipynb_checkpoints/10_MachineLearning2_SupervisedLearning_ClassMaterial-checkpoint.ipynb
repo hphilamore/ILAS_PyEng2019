{
 "cells": [
  {
   "cell_type": "markdown",
   "metadata": {
    "slideshow": {
     "slide_type": "skip"
    }
   },
   "source": [
    "<!--BOOK_INFORMATION-->\n",
    "*This notebook contains both adapted and unmodified material from:\n",
    "- the [Python Data Science Handbook](http://shop.oreilly.com/product/0636920034919.do) by Jake VanderPlas; the content is available [on GitHub](https://github.com/jakevdp/PythonDataScienceHandbook).*\n",
    "- data-science-ipython-notebooks by Donne Martin; the content is available [on GitHub](https://github.com/donnemartin/data-science-ipython-notebooks)**\n",
    "\n",
    "\\* The text is released under the [CC-BY-NC-ND license](https://creativecommons.org/licenses/by-nc-nd/3.0/us/legalcode), and code is released under the [MIT license](https://opensource.org/licenses/MIT).\n",
    "\n",
    "** The text is released under under an open source license."
   ]
  },
  {
   "cell_type": "markdown",
   "metadata": {
    "collapsed": true,
    "slideshow": {
     "slide_type": "slide"
    }
   },
   "source": [
    "# 10 Machine Learing Part 2  : Supervised Learning \n",
    "## CLASS MATERIAL\n",
    "\n",
    "<br> <a href='#InstallPandas'>1. InstallPandas</a>\n",
    "<br> <a href='#PandasDataStructures'>2. Pandas Data Structures</a> \n",
    "<br> <a href='#DataIndexingSelection'>3. Data Indexing and Selection</a> \n",
    "<br> <a href='#PerformingOperationsDataPandas'>4. Performing Operations on Data in Pandas</a> \n",
    "<br><a href='#DataCleaning'>5. Data Cleaning</a>\n",
    "<br><a href='#CombiningDatasets'>6. Combining Datasets</a>\n",
    "<br><a href='#AggregationGrouping'>7. Summarising Data with Aggregation and Grouping</a>\n",
    "<br><a href='#StringData'>8. Working with `String` Data</a>\n",
    "<br><a href='#TimeSeries'>9. Working with Time Series</a>\n",
    "<br><a href='#ReviewExercises'>10. Review Exercises</a>"
   ]
  },
  {
   "cell_type": "markdown",
   "metadata": {
    "slideshow": {
     "slide_type": "slide"
    }
   },
   "source": [
    "# Download the new class notes.\n",
    "__Navigate to the directory where your files are stored.__\n",
    "\n",
    "__Update the course notes by downloading the changes__"
   ]
  },
  {
   "cell_type": "markdown",
   "metadata": {
    "slideshow": {
     "slide_type": "slide"
    }
   },
   "source": [
    "\n",
    "\n",
    "\n",
    "##### Windows\n",
    "Search for __Git Bash__ in the programs menu.\n",
    "\n",
    "Select __Git Bash__, a terminal will open.\n",
    "\n",
    "Use `cd` to navigate to *inside* the __ILAS_PyEng2019__ repository you downloaded. \n",
    "\n",
    "Run the command:\n",
    ">`./automerge`\n",
    "\n",
    "\n",
    "\n",
    "##### Mac\n",
    "Open a terminal. \n",
    "\n",
    "Use `cd` to navigate to *inside* the __ILAS_PyEng2019__ repository you downloaded. \n",
    "\n",
    "Run the command:\n",
    ">`sudo ./automerge`\n",
    "\n",
    "Enter your password when prompted. "
   ]
  },
  {
   "cell_type": "markdown",
   "metadata": {
    "slideshow": {
     "slide_type": "slide"
    }
   },
   "source": [
    "__Data Science__ :  \n",
    "A field that uses scientific methods, processes, algorithms and systems to extract knowledge and insights from structured and unstructured data.\n",
    "\n",
    "It employs techniques and theories drawn from many fields within the context of mathematics, statistics, computer science, and informatics. \n",
    "\n",
    "Data sets are modelled and curated to find patterns and make predictions about the future. "
   ]
  },
  {
   "cell_type": "markdown",
   "metadata": {
    "slideshow": {
     "slide_type": "slide"
    }
   },
   "source": [
    "__Machine Learning__ :  \n",
    "An important tool used with Data Science is machine learning. \n",
    "\n",
    "In Machine learning, algorithms acquire the knowledge or skill through experience. \n",
    "\n",
    "Therefore, Machine learning relies on big data sets to identify patterns."
   ]
  },
  {
   "cell_type": "markdown",
   "metadata": {
    "slideshow": {
     "slide_type": "slide"
    }
   },
   "source": [
    "### Lesson Goal\n",
    "\n",
    "- An introduction to machine learning \n",
    "- Itroductory examples\n",
    "- Preparing data for machine learning "
   ]
  },
  {
   "cell_type": "markdown",
   "metadata": {
    "slideshow": {
     "slide_type": "slide"
    }
   },
   "source": [
    "### Fundamental programming concepts\n",
    " \n",
    "- Examples using supervised learning models\n",
    "- Examples using unsupervised learning models\n",
    "- Representing data and engineering features\n",
    "- Mode evaluation and improvement"
   ]
  },
  {
   "cell_type": "code",
   "execution_count": 4,
   "metadata": {},
   "outputs": [
    {
     "name": "stdout",
     "output_type": "stream",
     "text": [
      "Python version: 3.7.4 (default, Aug 13 2019, 15:17:50) \n",
      "[Clang 4.0.1 (tags/RELEASE_401/final)]\n",
      "pandas version: 0.25.1\n",
      "matplotlib version: 3.1.1\n",
      "NumPy version: 1.17.2\n",
      "SciPy version: 1.3.1\n",
      "IPython version: 7.8.0\n",
      "scikit-learn version: 0.21.3\n",
      "mglearn version: 0.1.7\n"
     ]
    },
    {
     "name": "stderr",
     "output_type": "stream",
     "text": [
      "/opt/anaconda3/lib/python3.7/site-packages/sklearn/externals/six.py:31: DeprecationWarning: The module is deprecated in version 0.21 and will be removed in version 0.23 since we've dropped support for Python 2.7. Please rely on the official version of six (https://pypi.org/project/six/).\n",
      "  \"(https://pypi.org/project/six/).\", DeprecationWarning)\n",
      "/opt/anaconda3/lib/python3.7/site-packages/sklearn/externals/joblib/__init__.py:15: DeprecationWarning: sklearn.externals.joblib is deprecated in 0.21 and will be removed in 0.23. Please import this functionality directly from joblib, which can be installed with: pip install joblib. If this warning is raised when loading pickled models, you may need to re-serialize those models with scikit-learn 0.21+.\n",
      "  warnings.warn(msg, category=DeprecationWarning)\n"
     ]
    }
   ],
   "source": [
    "import sys\n",
    "print(\"Python version:\", sys.version)\n",
    "\n",
    "import pandas as pd\n",
    "print(\"pandas version:\", pd.__version__)\n",
    "\n",
    "import matplotlib\n",
    "print(\"matplotlib version:\", matplotlib.__version__)\n",
    "import matplotlib.pyplot as plt\n",
    "\n",
    "import numpy as np\n",
    "print(\"NumPy version:\", np.__version__)\n",
    "\n",
    "import scipy as sp\n",
    "print(\"SciPy version:\", sp.__version__)\n",
    "\n",
    "import IPython\n",
    "print(\"IPython version:\", IPython.__version__)\n",
    "\n",
    "import sklearn\n",
    "print(\"scikit-learn version:\", sklearn.__version__)\n",
    "\n",
    "import mglearn\n",
    "print(\"mglearn version:\", mglearn.__version__)"
   ]
  },
  {
   "cell_type": "code",
   "execution_count": 25,
   "metadata": {},
   "outputs": [],
   "source": [
    "from sklearn.model_selection import train_test_split"
   ]
  },
  {
   "cell_type": "markdown",
   "metadata": {},
   "source": [
    "# Supervised Learning\n",
    "\n",
    "Used when we want to predict a certain outcome from a given input, and we have examples of input/output pairs. \n",
    "\n",
    "Machine learning model built from these input/output pairs which comprise our training set. \n",
    "\n",
    "Our goal is to make accurate predictions for new, never-before-seen data. \n",
    "\n",
    "Supervised learning often requires human effort to build the training set, but afterward automates and often speeds up an otherwise laborious or infeasible task."
   ]
  },
  {
   "cell_type": "markdown",
   "metadata": {},
   "source": [
    "# Classification and Regression\n",
    "Two major types of supervised machine learning problems:\n",
    "- classification\n",
    "- regression.\n",
    "\n",
    "Many algorithms have a classification and a regression variant."
   ]
  },
  {
   "cell_type": "markdown",
   "metadata": {},
   "source": [
    "###### Regression : \n",
    "The goal is to predict a __continuous number__ / __floating-point number__ (in programming terms) / __real number__ (in mathematical terms). \n",
    "- predicting a person’s annual income from their education\n",
    "- predicting the yield of a rice farm given attributes such as previous yields, weather, and number of employees working on the farm\n",
    "\n",
    "###### Classification:\n",
    "The goal is to predict a __class label__, which is a choice from a predefined list of possibilities.\n",
    "- classifying irises into one of three possible species.\n",
    "- predicting the ward of Kyoto a person lives based on their job and salary"
   ]
  },
  {
   "cell_type": "markdown",
   "metadata": {},
   "source": [
    "# Generalization, Overfitting, and Underfitting\n",
    "\n",
    "The only conclusive measure of whether an algorithm will perform well on new data is the evaluation on the test set. \n",
    "\n",
    "However, intuitively we expect *simple* models to generalize better to new data. \n",
    "\n",
    "Therefore, we always want to find the simplest model. \n",
    "\n",
    "\n",
    "\n",
    "\n",
    "\n"
   ]
  },
  {
   "cell_type": "markdown",
   "metadata": {},
   "source": [
    "###### Overfitting\n",
    "Building a model that is too complex for the amount of information we have.\n",
    "<br>A model that fits too closely to the training set and consequently works well on the training set but is not able to generalize to new data.\n",
    "\n",
    "###### Underfitting\n",
    "Choosing too simple a model."
   ]
  },
  {
   "cell_type": "markdown",
   "metadata": {},
   "source": [
    "The more complex we allow the model to be, the better we will be able to predict on the training data. \n",
    "\n",
    "However, if the model becomes too complex:\n",
    "- we focus too much on each individual data point in our training set\n",
    "- the model will not generalize well to new data\n",
    "\n",
    "There is an optimal mid-point that will yield the best generalization performance. \n",
    "\n",
    "This is the model we want to find.\n",
    "\n",
    "This principle will be explained using several examples of machine learning algorithms throughout this class.\n",
    "\n",
    "<p align=\"center\">\n",
    "  <img src=\"img/overfitting.png\" alt=\"Drawing\" style=\"width: 400px;\"/>\n",
    "</p>"
   ]
  },
  {
   "cell_type": "markdown",
   "metadata": {},
   "source": [
    "# Relation of Model Complexity to Dataset Size\n",
    "\n",
    "Model complexity relates to __variation__ of inputs contained in your training dataset.\n",
    "\n",
    "The larger variety of data points your dataset contains, the more complex a model you can use without overfitting. \n",
    "\n",
    "Usually, collecting more data points will yield more variety, so larger datasets allow building more complex models. \n",
    "\n",
    "(However, duplicating the same data points or collecting very similar data will not)."
   ]
  },
  {
   "cell_type": "markdown",
   "metadata": {},
   "source": [
    "# Supervised Machine Learning Algorithms\n",
    "A review of the most popular machine learning algorithms: \n",
    "- how they learn from data\n",
    "- how they make predictions\n",
    "- how the concept of model complexity effects each of these models\n",
    "- overview of how each algorithm builds a model. \n",
    "- strengths and weaknesses\n",
    "- what kind of data each algorithm can best be applied to. "
   ]
  },
  {
   "cell_type": "markdown",
   "metadata": {},
   "source": [
    "# Sample Datasets to illustrate the different algorithms. \n",
    "\n",
    "We will use both:\n",
    "- small, synthetic data (designed to highlight particular aspects of the algorithms). \n",
    "- large, real-world examples."
   ]
  },
  {
   "cell_type": "markdown",
   "metadata": {},
   "source": [
    "##### The forge dataset : \n",
    "- synthetic \n",
    "- two-class __classification__ \n",
    "- 26 data points, 2 features\n",
    "\n",
    "Scatter plot visualizing all of the data points in this dataset. \n",
    "- first feature = x-axis\n",
    "- second feature = y-axis. \n",
    "\n",
    "The color and shape of the dot indicates its class:"
   ]
  },
  {
   "cell_type": "code",
   "execution_count": 5,
   "metadata": {},
   "outputs": [
    {
     "name": "stdout",
     "output_type": "stream",
     "text": [
      "X.shape: (26, 2)\n"
     ]
    },
    {
     "name": "stderr",
     "output_type": "stream",
     "text": [
      "/opt/anaconda3/lib/python3.7/site-packages/sklearn/utils/deprecation.py:85: DeprecationWarning: Function make_blobs is deprecated; Please import make_blobs directly from scikit-learn\n",
      "  warnings.warn(msg, category=DeprecationWarning)\n"
     ]
    },
    {
     "data": {
      "text/plain": [
       "Text(0, 0.5, 'Second feature')"
      ]
     },
     "execution_count": 5,
     "metadata": {},
     "output_type": "execute_result"
    },
    {
     "data": {
      "image/png": "[encoded data removed]",
      "text/plain": [
       "<Figure size 432x288 with 1 Axes>"
      ]
     },
     "metadata": {
      "needs_background": "light"
     },
     "output_type": "display_data"
    }
   ],
   "source": [
    "X, y = mglearn.datasets.make_forge() # generate dataset\n",
    "print(\"X.shape:\", X.shape)\n",
    "\n",
    "mglearn.discrete_scatter(X[:, 0], X[:, 1], y) # plot dataset using built in tools\n",
    "\n",
    "plt.legend([\"Class 0\", \"Class 1\"], loc=4)\n",
    "plt.xlabel(\"First feature\")\n",
    "plt.ylabel(\"Second feature\")"
   ]
  },
  {
   "cell_type": "markdown",
   "metadata": {},
   "source": [
    "##### The wave dataset : \n",
    "- synthetic\n",
    "- __regression__ dataset\n",
    "- single input feature and a continuous target variable (or response) that we want to model. \n",
    "\n",
    "Single feature on the x-axis and the regression target (the output) on the y-axis:"
   ]
  },
  {
   "cell_type": "code",
   "execution_count": 6,
   "metadata": {},
   "outputs": [
    {
     "data": {
      "text/plain": [
       "Text(0, 0.5, 'Target')"
      ]
     },
     "execution_count": 6,
     "metadata": {},
     "output_type": "execute_result"
    },
    {
     "data": {
      "image/png": "[encoded data removed]",
      "text/plain": [
       "<Figure size 432x288 with 1 Axes>"
      ]
     },
     "metadata": {
      "needs_background": "light"
     },
     "output_type": "display_data"
    }
   ],
   "source": [
    "X, y = mglearn.datasets.make_wave(n_samples=40)\n",
    "plt.plot(X, y, 'o')\n",
    "plt.ylim(-3, 3)\n",
    "plt.xlabel(\"Feature\")\n",
    "plt.ylabel(\"Target\")"
   ]
  },
  {
   "cell_type": "markdown",
   "metadata": {},
   "source": [
    "Simple, low-dimensional datasets: easy to visualise (data with more than two features is hard to show as a plt)\n"
   ]
  },
  {
   "cell_type": "markdown",
   "metadata": {},
   "source": [
    "##### Wisconsin Breast Cancer dataset (cancer)\n",
    "- real-world classification dataset included in scikit-learn. \n",
    "- records clinical measurements of breast cancer tumors. \n",
    "- 569 data points, 30 features\n",
    "- each tumor is labeled as:\n",
    "    - “benign” (for harmless tumors), 357 data points \n",
    "    - “malignant” (for cancerous tumors), 212 data points \n",
    "- task : learn to predict whether a tumor is malignant based on the measurements of the tissue.\n",
    "\n",
    "\n",
    "The data can be loaded using the load_breast_cancer function from scikit-learn:"
   ]
  },
  {
   "cell_type": "code",
   "execution_count": 7,
   "metadata": {},
   "outputs": [
    {
     "name": "stdout",
     "output_type": "stream",
     "text": [
      "cancer.keys():\n",
      " dict_keys(['data', 'target', 'target_names', 'DESCR', 'feature_names', 'filename'])\n",
      "Shape of cancer data: (569, 30)\n",
      "Sample counts per class:\n",
      " {'malignant': 212, 'benign': 357}\n"
     ]
    }
   ],
   "source": [
    "from sklearn.datasets import load_breast_cancer\n",
    "\n",
    "cancer = load_breast_cancer()\n",
    "\n",
    "print(\"cancer.keys():\\n\", cancer.keys())\n",
    "\n",
    "print(\"Shape of cancer data:\", cancer.data.shape)\n",
    "\n",
    "print(\"Sample counts per class:\\n\",\n",
    "      {n: v for n, v in zip(cancer.target_names, np.bincount(cancer.target))})"
   ]
  },
  {
   "cell_type": "markdown",
   "metadata": {},
   "source": [
    "`feature_names` attribute : semantic meaning of each feature."
   ]
  },
  {
   "cell_type": "code",
   "execution_count": 8,
   "metadata": {},
   "outputs": [
    {
     "name": "stdout",
     "output_type": "stream",
     "text": [
      "Feature names:\n",
      " ['mean radius' 'mean texture' 'mean perimeter' 'mean area'\n",
      " 'mean smoothness' 'mean compactness' 'mean concavity'\n",
      " 'mean concave points' 'mean symmetry' 'mean fractal dimension'\n",
      " 'radius error' 'texture error' 'perimeter error' 'area error'\n",
      " 'smoothness error' 'compactness error' 'concavity error'\n",
      " 'concave points error' 'symmetry error' 'fractal dimension error'\n",
      " 'worst radius' 'worst texture' 'worst perimeter' 'worst area'\n",
      " 'worst smoothness' 'worst compactness' 'worst concavity'\n",
      " 'worst concave points' 'worst symmetry' 'worst fractal dimension']\n"
     ]
    }
   ],
   "source": [
    "print(\"Feature names:\\n\", cancer.feature_names)"
   ]
  },
  {
   "cell_type": "markdown",
   "metadata": {},
   "source": [
    "##### Boston Housing dataset\n",
    "- real-world regression dataset\n",
    "- task : predict the median value of homes in several Boston neighborhoods in the 1970s using information such as crime rate, proximity to the Charles River, highway accessibility, and so on. \n",
    "- 506 data points, 13 features"
   ]
  },
  {
   "cell_type": "code",
   "execution_count": 9,
   "metadata": {},
   "outputs": [
    {
     "name": "stdout",
     "output_type": "stream",
     "text": [
      "Data shape: (506, 13)\n"
     ]
    }
   ],
   "source": [
    "from sklearn.datasets import load_boston\n",
    "\n",
    "boston = load_boston()\n",
    "\n",
    "print(\"Data shape:\", boston.data.shape)"
   ]
  },
  {
   "cell_type": "markdown",
   "metadata": {},
   "source": [
    "# Supervised Machine Learning Algorithms "
   ]
  },
  {
   "cell_type": "markdown",
   "metadata": {},
   "source": [
    "# k-Nearest Neighbors\n",
    "Arguably the simplest machine learning algorithm. \n",
    "\n",
    "Building the model consists only of storing the training dataset. \n",
    "\n",
    "To make a prediction for a new data point (stars in figure below), the algorithm finds the closest data points in the training dataset—its “nearest neighbors.”"
   ]
  },
  {
   "cell_type": "code",
   "execution_count": 10,
   "metadata": {},
   "outputs": [
    {
     "name": "stderr",
     "output_type": "stream",
     "text": [
      "/opt/anaconda3/lib/python3.7/site-packages/sklearn/utils/deprecation.py:85: DeprecationWarning: Function make_blobs is deprecated; Please import make_blobs directly from scikit-learn\n",
      "  warnings.warn(msg, category=DeprecationWarning)\n"
     ]
    },
    {
     "data": {
      "image/png": "[encoded data removed]",
      "text/plain": [
       "<Figure size 432x288 with 1 Axes>"
      ]
     },
     "metadata": {
      "needs_background": "light"
     },
     "output_type": "display_data"
    }
   ],
   "source": [
    "mglearn.plots.plot_knn_classification(n_neighbors=1)"
   ]
  },
  {
   "cell_type": "markdown",
   "metadata": {},
   "source": [
    "We can also consider an arbitrary number, k, of neighbors, hence the name of the k-nearest neighbors.\n",
    "\n",
    "When considering more than one neighbor, we use voting to assign a label:\n",
    "<br>for each test point:\n",
    "- count how many neighbors belong to class 0 and how many neighbors belong to class 1. \n",
    "- assign the class that is more frequent: ie, the majority class among the k-nearest neighbors. \n",
    "\n",
    "The following example uses the three closest neighbors:"
   ]
  },
  {
   "cell_type": "code",
   "execution_count": 11,
   "metadata": {},
   "outputs": [
    {
     "name": "stderr",
     "output_type": "stream",
     "text": [
      "/opt/anaconda3/lib/python3.7/site-packages/sklearn/utils/deprecation.py:85: DeprecationWarning: Function make_blobs is deprecated; Please import make_blobs directly from scikit-learn\n",
      "  warnings.warn(msg, category=DeprecationWarning)\n"
     ]
    },
    {
     "data": {
      "image/png": "[encoded data removed]",
      "text/plain": [
       "<Figure size 432x288 with 1 Axes>"
      ]
     },
     "metadata": {
      "needs_background": "light"
     },
     "output_type": "display_data"
    }
   ],
   "source": [
    "mglearn.plots.plot_knn_classification(n_neighbors=3)"
   ]
  },
  {
   "cell_type": "markdown",
   "metadata": {},
   "source": [
    "Again, the prediction is shown as the color of the cross. \n",
    "\n",
    "You can see that the prediction for the new data point at the top left is not the same as the prediction when we used only one neighbor."
   ]
  },
  {
   "cell_type": "markdown",
   "metadata": {},
   "source": [
    "## k-nearest neighbors (KNN) algorithm using `scikit-learn`"
   ]
  },
  {
   "cell_type": "code",
   "execution_count": 12,
   "metadata": {},
   "outputs": [
    {
     "name": "stderr",
     "output_type": "stream",
     "text": [
      "/opt/anaconda3/lib/python3.7/site-packages/sklearn/utils/deprecation.py:85: DeprecationWarning: Function make_blobs is deprecated; Please import make_blobs directly from scikit-learn\n",
      "  warnings.warn(msg, category=DeprecationWarning)\n"
     ]
    }
   ],
   "source": [
    "from sklearn.model_selection import train_test_split\n",
    "\n",
    "X, y = mglearn.datasets.make_forge() # forge data set\n",
    "\n",
    "X_train, X_test, y_train, y_test = train_test_split(X, y, random_state=0)"
   ]
  },
  {
   "cell_type": "code",
   "execution_count": 13,
   "metadata": {},
   "outputs": [
    {
     "data": {
      "text/plain": [
       "KNeighborsClassifier(algorithm='auto', leaf_size=30, metric='minkowski',\n",
       "                     metric_params=None, n_jobs=None, n_neighbors=3, p=2,\n",
       "                     weights='uniform')"
      ]
     },
     "execution_count": 13,
     "metadata": {},
     "output_type": "execute_result"
    }
   ],
   "source": [
    "from sklearn.neighbors import KNeighborsClassifier\n",
    "\n",
    "clf = KNeighborsClassifier(n_neighbors=3)\n",
    "\n",
    "clf.fit(X_train, y_train)"
   ]
  },
  {
   "cell_type": "code",
   "execution_count": 14,
   "metadata": {},
   "outputs": [
    {
     "name": "stdout",
     "output_type": "stream",
     "text": [
      "Test set predictions: [1 0 1 0 1 0 0]\n",
      "Test set accuracy: 0.8571428571428571\n"
     ]
    }
   ],
   "source": [
    "print(\"Test set predictions:\", clf.predict(X_test))\n",
    "\n",
    "print(f\"Test set accuracy: {clf.score(X_test, y_test)}\") # evaluate how well our model generalizes"
   ]
  },
  {
   "cell_type": "markdown",
   "metadata": {},
   "source": [
    "The model predicted the class correctly for 86% of the samples in the test dataset."
   ]
  },
  {
   "cell_type": "markdown",
   "metadata": {},
   "source": [
    "# STRENGTHS, WEAKNESSES, AND PARAMETERS of KNN\n",
    "\n",
    "Two important parameters:\n",
    "- number of neighbors (in practice, using a small number of neighbors (3-5) often works well)\n",
    "- how you measure distance between data points (by default, Euclidean distance is used) \n",
    "\n",
    "###### Strengths\n",
    "- easy to understand\n",
    "- gives reasonable performance without a lot of adjustments\n",
    "- good baseline method to try before considering more advanced techniques. \n",
    "\n",
    "###### Weaknesses\n",
    "- building the model is fast, but when your training set is very large (either in number of features or in number of samples) prediction can be slow. \n",
    "- it’s important to preprocess your data. \n",
    "- does not perform well on datasets with many features (hundreds or more)\n",
    "- very bad performance on datasets where most features are 0 most of the time (sparse datasets)."
   ]
  },
  {
   "cell_type": "markdown",
   "metadata": {},
   "source": [
    "# Model Complexity vs Accuracy\n",
    "For two-dimensional datasets, we can also illustrate the prediction for all possible test points in the xy-plane. \n",
    "\n",
    "We color the plane according to the class that would be assigned to a point in this region. \n",
    "\n",
    "This lets us view the decision boundary: the divide between where the algorithm assigns class 0 versus where it assigns class 1. \n",
    "\n",
    "Visualizations of the decision boundaries for one, three, and nine neighbors:"
   ]
  },
  {
   "cell_type": "code",
   "execution_count": 15,
   "metadata": {},
   "outputs": [
    {
     "data": {
      "text/plain": [
       "<matplotlib.legend.Legend at 0x1c176cba50>"
      ]
     },
     "execution_count": 15,
     "metadata": {},
     "output_type": "execute_result"
    },
    {
     "data": {
      "image/png": "[encoded data removed]",
      "text/plain": [
       "<Figure size 720x216 with 3 Axes>"
      ]
     },
     "metadata": {},
     "output_type": "display_data"
    }
   ],
   "source": [
    "fig, axes = plt.subplots(1, 3, figsize=(10, 3))\n",
    "\n",
    "for n_neighbors, ax in zip([1, 3, 9], axes):\n",
    "    clf = KNeighborsClassifier(n_neighbors=n_neighbors).fit(X, y) # the fit method instantiates and fits in one line\n",
    "    \n",
    "    mglearn.plots.plot_2d_separator(clf, X, fill=True, eps=0.5, ax=ax, alpha=.4)\n",
    "    \n",
    "    mglearn.discrete_scatter(X[:, 0], X[:, 1], y, ax=ax) # build in scatter plot tool\n",
    "    \n",
    "    ax.set_title(f\"{n_neighbors} neighbor(s)\")\n",
    "    ax.set_xlabel(\"feature 0\")\n",
    "    ax.set_ylabel(\"feature 1\")\n",
    "    \n",
    "axes[0].legend(loc=3)"
   ]
  },
  {
   "cell_type": "markdown",
   "metadata": {},
   "source": [
    "Few neighbors --> decision boundary that follows the training data closely --> high model complexity.\n",
    "\n",
    "Many neighbors --> smoother decision boundary --> low model complexity.\n",
    "\n",
    "Consider the extreme case where __number of neighbors = number of all data points in the training set__.\n",
    "<br>Each test point would have exactly the same neighbors (all training points).\n",
    "<br>All predictions would be the same: the class that appears most frequently in the training set."
   ]
  },
  {
   "cell_type": "markdown",
   "metadata": {},
   "source": [
    "Consider the real-world, Breast Cancer dataset.\n",
    "\n",
    "What is the relationship betwee __complexity__ and __generalization__?\n",
    "\n",
    "__Complexity__ : how closely the decision boundary follows the training data. \n",
    "\n",
    "__Generalization__ : the accuracy with which the model can be applied to new, unknown data. "
   ]
  },
  {
   "cell_type": "code",
   "execution_count": 16,
   "metadata": {},
   "outputs": [],
   "source": [
    "from sklearn.datasets import load_breast_cancer # 1. Import model\n",
    "\n",
    "cancer = load_breast_cancer()                   # 2. Import data\n",
    "\n",
    "X_train, X_test, y_train, y_test = train_test_split(cancer.data,    # 3. split into test and train data\n",
    "                                                    cancer.target, \n",
    "                                                    stratify=cancer.target, \n",
    "                                                    random_state=66)"
   ]
  },
  {
   "cell_type": "code",
   "execution_count": 17,
   "metadata": {},
   "outputs": [
    {
     "data": {
      "text/plain": [
       "<matplotlib.legend.Legend at 0x1c19e52190>"
      ]
     },
     "execution_count": 17,
     "metadata": {},
     "output_type": "execute_result"
    },
    {
     "data": {
      "image/png": "[encoded data removed]",
      "text/plain": [
       "<Figure size 432x288 with 1 Axes>"
      ]
     },
     "metadata": {
      "needs_background": "light"
     },
     "output_type": "display_data"
    }
   ],
   "source": [
    "training_accuracy = []\n",
    "test_accuracy = []\n",
    "\n",
    "neighbors_settings = range(1, 11) # try n_neighbors from 1 to 10\n",
    "\n",
    "for n_neighbors in neighbors_settings:\n",
    "    \n",
    "    clf = KNeighborsClassifier(n_neighbors=n_neighbors).fit(X_train, y_train) # 4. instantiate and fit model to train data\n",
    "    \n",
    "    training_accuracy.append(clf.score(X_train, y_train)) # record training data accuracy\n",
    "    \n",
    "    test_accuracy.append(clf.score(X_test, y_test))       # record generalization accuracy\n",
    "\n",
    "    \n",
    "plt.plot(neighbors_settings, training_accuracy, label=\"training accuracy\")\n",
    "plt.plot(neighbors_settings, test_accuracy, label=\"test accuracy\")\n",
    "plt.ylabel(\"Accuracy\")\n",
    "plt.xlabel(\"n_neighbors\")\n",
    "plt.legend()"
   ]
  },
  {
   "cell_type": "markdown",
   "metadata": {},
   "source": [
    "(Real-world x-axis : plots are rarely very smooth)\n",
    "\n",
    "Accuracy of prediction on the __training__ data scales inversely with n_neighbours. \n",
    "\n",
    "Accuracy of prediction on the __test__ data:\n",
    "- 1 neightbour : accuracy is lower than when using more neighbors --> model is too complex (__overfitted__).\n",
    "- 10 neightbours : accuracy is lower than when using less neighbors --> model is too simple (__underfitted__). \n",
    "\n",
    "The best performance is somewhere in the middle, using around six neighbors. \n",
    "\n",
    "(It is important to keep the scale of the plot in mind. The worst performance is around 88% accuracy, which might still be acceptable.)"
   ]
  },
  {
   "cell_type": "markdown",
   "metadata": {},
   "source": [
    "In other words, there is an optimal point that will give the best generalization (accuracy on the test data / new data). \n",
    "\n",
    "This is the model we want to find.\n",
    "\n",
    "<p align=\"center\">\n",
    "  <img src=\"img/overfitting.png\" alt=\"Drawing\" style=\"width: 300px;\"/>\n",
    "</p>"
   ]
  },
  {
   "cell_type": "markdown",
   "metadata": {},
   "source": [
    "The first model we studied was KNN. \n",
    "\n",
    "KNN is easy to understand, but not often used in practice, due to prediction being slow and its inability to handle many features. \n",
    "\n",
    "The next method has neither of these drawbacks..."
   ]
  },
  {
   "cell_type": "markdown",
   "metadata": {},
   "source": [
    "# Linear Models\n",
    "Widely used in practice\n",
    "\n",
    "Studied extensively in the last few decades, (with origins going back over a hundred years). \n",
    "\n",
    "Make a prediction using a *linear function* of the input features.\n",
    "\n",
    "\n",
    "\n",
    "\n"
   ]
  },
  {
   "cell_type": "markdown",
   "metadata": {},
   "source": [
    "## LINEAR MODELS FOR REGRESSION\n",
    "For regression, the general prediction formula for a linear model:\n",
    "\n",
    "$$\\hat{y} = w_0x_0 + w_1x_1 + ... + w_px_p + b$$\n",
    "\n",
    "$x_0$ to $x_p$ : features (in this example, the number of features is $p+1$) of a single data point\n",
    "\n",
    "$w$ and $b$ : model parameters that are learned\n",
    "\n",
    "$\\hat{y}$ : the prediction the model makes. \n",
    "\n",
    "Predicted response is a weighted sum of the input features, with weights (which can be negative) given by $w$.\n",
    "\n",
    "\n",
    "\n"
   ]
  },
  {
   "cell_type": "markdown",
   "metadata": {},
   "source": [
    "For a dataset with a single feature:\n",
    "\n",
    "$$\\hat{y} = w_0x_0 + b$$\n",
    "\n",
    "i.e. a linear function where $w_0$ is the slope and $b$ is the y-axis intercept. \n",
    "\n",
    "<p align=\"center\">\n",
    "  <img src=\"img/hours_study.png\" alt=\"Drawing\" style=\"width: 300px;\"/>\n",
    "</p>"
   ]
  },
  {
   "cell_type": "markdown",
   "metadata": {},
   "source": [
    "For more features, $w$ denotes the slopes along *each feature axis*. \n",
    "\n",
    "<p align=\"center\">\n",
    "  <img src=\"img/regression_2features.png\" alt=\"Drawing\" style=\"width: 300px;\"/>\n",
    "</p>"
   ]
  },
  {
   "cell_type": "markdown",
   "metadata": {},
   "source": [
    "\n",
    "- a line for a single feature\n",
    "- a plane when using two features\n",
    "- a hyperplane in higher dimensions (when using more features).\n",
    "\n"
   ]
  },
  {
   "cell_type": "markdown",
   "metadata": {},
   "source": [
    "Learning the parameters $w_0$ and $b$ on the one-dimensional wave dataset :"
   ]
  },
  {
   "cell_type": "code",
   "execution_count": 18,
   "metadata": {},
   "outputs": [
    {
     "name": "stdout",
     "output_type": "stream",
     "text": [
      "w[0]: 0.393906  b: -0.031804\n"
     ]
    },
    {
     "data": {
      "image/png": "[encoded data removed]",
      "text/plain": [
       "<Figure size 576x576 with 1 Axes>"
      ]
     },
     "metadata": {
      "needs_background": "light"
     },
     "output_type": "display_data"
    }
   ],
   "source": [
    "mglearn.plots.plot_linear_regression_wave()"
   ]
  },
  {
   "cell_type": "markdown",
   "metadata": {},
   "source": [
    "The slope should be around 0.4, the y-intercept should be slightly below zero which we can confirm visually in the plot. "
   ]
  },
  {
   "cell_type": "markdown",
   "metadata": {},
   "source": [
    "There are many different linear models for regression. \n",
    "\n",
    "The difference is in:\n",
    "- how the model parameters w and b are learned from the training data\n",
    "- how model complexity can be controlled. \n",
    "\n",
    "We will now take a look at the most popular linear models for regression."
   ]
  },
  {
   "cell_type": "markdown",
   "metadata": {},
   "source": [
    "## LINEAR REGRESSION (ORDINARY LEAST SQUARES)\n",
    "- simplest linear method for regression. \n",
    "- finds the parameters `w` and `b` that *minimize* the __mean squared error__ between $n$ predictions $\\hat{y_i}$ and the true regression targets, $y_i$, of the training set. \n",
    "- __mean squared error__ $ \\varepsilon = \\frac{1}{n}\\sum_{i=1}^{n}(y_i - \\hat{y_i})^2 $ <br>(sum of the squared differences between the predictions and the true values, divided by the number of samples). \n",
    "\n",
    "\n",
    "<p align=\"center\">\n",
    "  <img src=\"img/regression_errror.jpg\" alt=\"Drawing\" style=\"width: 300px;\"/>\n",
    "</p>\n",
    "\n"
   ]
  },
  {
   "cell_type": "code",
   "execution_count": 19,
   "metadata": {},
   "outputs": [],
   "source": [
    "from sklearn.linear_model import LinearRegression # 1. import model\n",
    "\n",
    "X, y = mglearn.datasets.make_wave(n_samples=60)   # 2. import data\n",
    "\n",
    "X_train, X_test, y_train, y_test = train_test_split(X, y, random_state=42) # 3. split into test and train data\n",
    "\n",
    "lr = LinearRegression().fit(X_train, y_train)     # 4. instantiate and fit model to train data "
   ]
  },
  {
   "cell_type": "markdown",
   "metadata": {},
   "source": [
    "__w__ : “slope” parameters / weights / coefficients --> stored in the `coef_` attribute.\n",
    "\n",
    "__b__ : offset / intercept --> stored in the `intercept_` attribute."
   ]
  },
  {
   "cell_type": "code",
   "execution_count": null,
   "metadata": {},
   "outputs": [],
   "source": [
    "print(\"lr.coef_:\", lr.coef_)\n",
    "print(\"lr.intercept_:\", lr.intercept_)"
   ]
  },
  {
   "cell_type": "markdown",
   "metadata": {},
   "source": [
    "#### Trailing underscore at the end of `coef_` and `intercept_`. \n",
    "`scikit-learn` always stores anything that is derived from the training data in attributes that end with a trailing underscore. \n",
    "\n",
    "That is to separate them from parameters that are set by the user."
   ]
  },
  {
   "cell_type": "markdown",
   "metadata": {},
   "source": [
    "`intercept_` attribute is always a single float number.\n",
    "\n",
    "`coef_` attribute is a NumPy array with one entry per input feature. \n",
    "\n",
    "The wave dataset has a single input feature --> `lr.coef_` only has a single entry.\n",
    "\n",
    "Let’s look at the training set and test set performance:"
   ]
  },
  {
   "cell_type": "code",
   "execution_count": 22,
   "metadata": {},
   "outputs": [
    {
     "name": "stdout",
     "output_type": "stream",
     "text": [
      "Training set score: 0.6700890315075756\n",
      "Test set score: 0.65933685968637\n"
     ]
    }
   ],
   "source": [
    "print(f\"Training set score: {lr.score(X_train, y_train)}\")\n",
    "print(f\"Test set score: {lr.score(X_test, y_test)}\")"
   ]
  },
  {
   "cell_type": "markdown",
   "metadata": {},
   "source": [
    "The default `score` evaluation criterion for regression problems is the $R^2$ value.\n",
    "\n",
    "$R^2$ : a statistical measure (0 to 1) that shows to what extent the variance of the independent variable(s) explains the variance of a dependent variable. \n",
    "\n",
    "If the $R^2$ of a model is 0.50, then approximately half of the variation in the output can be explained by the model's inputs.\n",
    "\n",
    "An accurate model has a high $R^2$ value. \n",
    "\n"
   ]
  },
  {
   "cell_type": "markdown",
   "metadata": {},
   "source": [
    "<br>\n",
    "\n",
    "$R^2 = 1 -$ [ratio of __sum of squares of residuals__ to __total sum of squares__]\n",
    "\n",
    "$ \\; \\; \\; \\; \\; = 1 - \\frac{SS_{res}}{SS_{tot}}$\n",
    "\n",
    "\n",
    "<br>\n",
    "\n",
    "\n",
    "\n",
    "__Sum of squares of residuals__<br> $SS_{res} =\\sum_{i=1}^{n}(y_i - \\hat{y})^2$\n",
    "\n",
    "\n",
    "__Total sum of squares__<br>(proportional to the variance of the data)<br> $SS_{tot} = \\sum_{i=1}^{n}(y_i - \\bar{y_i})^2$\n",
    "\n",
    "\n",
    "Mean of the trainig data<br>\n",
    "$\\bar{y} = \\frac{1}{n}\\sum_{i=1}^{n}y_i $"
   ]
  },
  {
   "cell_type": "markdown",
   "metadata": {},
   "source": [
    "$R^2$ of around 0.66 is not very good.\n",
    "\n",
    "But, we can see that there is very little difference between the scores on the training and test sets.\n",
    "\n",
    "##### What does this mean? \n",
    "\n",
    "This means we are likely underfitting, not overfitting...."
   ]
  },
  {
   "cell_type": "markdown",
   "metadata": {},
   "source": [
    "# Variance and Bias\n"
   ]
  },
  {
   "cell_type": "markdown",
   "metadata": {},
   "source": [
    "Let's come back to the idea of overfitting and underfitting and use linear regression as a way to explain this phenomenon. \n",
    "\n",
    "The model's:\n",
    "- complexity\n",
    "- over/under -fitting to the training data\n",
    "- generalization / accuracy on the test data\n",
    "are connected to the __prediction error__ of the machine learning algorithm."
   ]
  },
  {
   "cell_type": "markdown",
   "metadata": {},
   "source": [
    "The prediction error for any machine learning algorithm can be broken down into three parts:\n",
    "- __Bias Error__\n",
    "- __Variance Error__\n",
    "- __Irreducible Error__ : Cannot be reduced regardless of what algorithm is used. Error introduced from the chosen framing of the problem. Caused by factors such as unknown variables that influence the mapping of the input variables to the output variable."
   ]
  },
  {
   "cell_type": "markdown",
   "metadata": {},
   "source": [
    "### Bias Error\n",
    "\n",
    "__Bias__ : Simplifying assumptions made by a model to make the target function easier to learn.\n",
    "\n",
    "Example : A linear model (line, plane or hyperplane) fits poorly to data along a curve due to the inflexibility of a linear model. \n",
    "\n",
    "<p align=\"center\">\n",
    "  <img src=\"img/bias.png\" alt=\"Drawing\" style=\"width: 300px;\"/>\n",
    "</p>\n",
    "\n",
    "__Low Bias__: Less assumptions about the form of the target function, risk of overfitting.\n",
    "<br>Examples : k-Nearest Neighbors, Support Vector Machines, Decision Trees\n",
    "\n",
    "__High-Bias__: More assumptions about the form of the target function, risk of underfitting\n",
    "<br>Examples: Linear Models"
   ]
  },
  {
   "cell_type": "markdown",
   "metadata": {},
   "source": [
    "### Variance Error\n",
    "\n",
    "__Variance__: the amount that the estimate of the target function will change if different training data was used.\n",
    "\n",
    "The target function is estimated, so we should expect the algorithm to have some variance. \n",
    "\n",
    "However, ideally, it should not change much from one training dataset to the next\n",
    "<br> --> this means that the algorithm is good at idenitifying the hidden underlying mapping between the inputs and the output variables.\n",
    "\n",
    "<p align=\"center\">\n",
    "  <img src=\"img/variance.png\" alt=\"Drawing\" style=\"width: 300px;\"/>\n",
    "</p>\n",
    "\n",
    "__Low Variance__: Small changes to the estimate of the target function with changes to the training dataset.\n",
    "Examples : Linear Models\n",
    "\n",
    "__High Variance__: Suggests large changes to the estimate of the target function with changes to the training dataset (strongly influenced by the specifics of the training data).\n",
    "<br>Examples : k-Nearest Neighbors, Support Vector Machines, Decision Trees"
   ]
  },
  {
   "cell_type": "markdown",
   "metadata": {},
   "source": [
    "## Bias-Variance Trade-Off\n",
    "\n",
    "Models with *high bias* may perform __worse__ than those with *high variance* on the __training__ data set.\n",
    "\n",
    "BUT\n",
    "\n",
    "Models with *high bias* may __generalize__ better than those with *high variance* and consequently perform better on the __test__ data set.\n",
    "\n",
    "<p align=\"center\">\n",
    "  <img src=\"img/bias_variance_balance.png\" alt=\"Drawing\" style=\"width: 600px;\"/>\n",
    "</p>"
   ]
  },
  {
   "cell_type": "markdown",
   "metadata": {},
   "source": [
    "## Bias-Variance Trade-Off\n",
    "\n",
    "The goal of any supervised machine learning algorithm is to achieve:\n",
    "- low bias\n",
    "- low variance\n",
    "\n",
    "As a result, the algorithm should achieve good prediction performance.\n",
    "\n",
    "<p align=\"center\">\n",
    "  <img src=\"img/bias_variance_balance.png\" alt=\"Drawing\" style=\"width: 600px;\"/>\n",
    "</p>"
   ]
  },
  {
   "cell_type": "markdown",
   "metadata": {},
   "source": [
    "However, there is a trade-off at play. \n",
    "\n",
    "Increasing the bias will decrease the variance.\n",
    "Increasing the variance will decrease the bias.\n",
    "\n",
    "\n",
    "<p align=\"center\">\n",
    "  <img src=\"img/bias_variance_trade_off2.png\" alt=\"Drawing\" style=\"width: 400px;\"/>\n",
    "</p>\n",
    "\n",
    "\n",
    "The algorithms you choose and the way you choose to configure them lead to different balances in this trade-off for your problem"
   ]
  },
  {
   "cell_type": "markdown",
   "metadata": {},
   "source": [
    "__k-nearest neighbors (KNN)__\n",
    "<br>Low bias and high variance. <br>The trade-off can be changed by increasing the number of neighbors which increases the bias of the model.\n",
    "\n",
    "__Linear regression__\n",
    "<br>High bias and low variance. <br>No parameters : simple to use but no way to control model complexity.<br>*Regularization*<br>A form of regression to avoid overfitting. <br>Constrains/regularizes/shrinks the coefficient estimates towards zero to discourages learning a more complex model.<br>An example *Ridge Regression* is shown in the [10 MachineLearning 2 , Supplementary](10_MachineLearning2_SupervisedLearning_Supplementary.ipynb))"
   ]
  },
  {
   "cell_type": "markdown",
   "metadata": {},
   "source": [
    "In reality, we cannot calculate the real bias and variance error terms because we do not know the actual underlying target function. \n",
    "\n",
    "However, bias and variance help us to understand the behavior of machine learning algorithms."
   ]
  },
  {
   "cell_type": "markdown",
   "metadata": {},
   "source": [
    "Let's look again at the `wave` data set. \n",
    "\n",
    "The score is similar for the test and traning data.\n",
    "\n",
    "For this one-dimensional dataset, there is little danger of overfitting, as the model is very simple (or restricted). "
   ]
  },
  {
   "cell_type": "code",
   "execution_count": 29,
   "metadata": {},
   "outputs": [
    {
     "name": "stdout",
     "output_type": "stream",
     "text": [
      "w[0]: 0.393906  b: -0.031804\n",
      "Training set score: 0.6700890315075756\n",
      "Test set score: 0.65933685968637\n"
     ]
    },
    {
     "data": {
      "image/png": "[encoded data removed]",
      "text/plain": [
       "<Figure size 576x576 with 1 Axes>"
      ]
     },
     "metadata": {
      "needs_background": "light"
     },
     "output_type": "display_data"
    }
   ],
   "source": [
    "mglearn.plots.plot_linear_regression_wave()\n",
    "\n",
    "print(f\"Training set score: {lr.score(X_train, y_train)}\")\n",
    "print(f\"Test set score: {lr.score(X_test, y_test)}\")"
   ]
  },
  {
   "cell_type": "markdown",
   "metadata": {},
   "source": [
    "\n",
    "\n",
    "However, with higher-dimensional datasets (datasets with a large number of features), linear models become more powerful, and there is a higher chance of overfitting."
   ]
  },
  {
   "cell_type": "markdown",
   "metadata": {},
   "source": [
    "Let's see how `LinearRegression` performs on a more complex dataset: the Boston Housing dataset (506 samples, 104 derived features). "
   ]
  },
  {
   "cell_type": "code",
   "execution_count": 30,
   "metadata": {},
   "outputs": [],
   "source": [
    "X, y = mglearn.datasets.load_extended_boston()                               # 1. Load data\n",
    "\n",
    "X_train, X_test, y_train, y_test = train_test_split(X, y, random_state=0)    # 2. Split the data into testing and training data\n",
    "lr = LinearRegression().fit(X_train, y_train)                                # 3. Fit the model to the training data"
   ]
  },
  {
   "cell_type": "markdown",
   "metadata": {},
   "source": [
    "When comparing training set and test set scores, the R2 on the test set is much worse than on the training set:"
   ]
  },
  {
   "cell_type": "code",
   "execution_count": 31,
   "metadata": {},
   "outputs": [
    {
     "name": "stdout",
     "output_type": "stream",
     "text": [
      "Training set score: 0.952051960903273\n",
      "Test set score: 0.6074721959665863\n"
     ]
    }
   ],
   "source": [
    "print(f\"Training set score: {lr.score(X_train, y_train)}\")\n",
    "print(f\"Test set score: {lr.score(X_test, y_test)}\")"
   ]
  },
  {
   "cell_type": "markdown",
   "metadata": {},
   "source": [
    "The discrepancy between performance on the training set and the test set is a sign of overfitting.\n",
    "\n",
    "We should try to find a model that allows us to control complexity. \n",
    "\n",
    "One of the most commonly used alternatives to standard linear regression is *ridge regression*. \n",
    "\n",
    "An example Ridge Regression is shown in the [10 MachineLearning 2 , Supplementary](10_MachineLearning2_SupervisedLearning_Supplementary.ipynb))"
   ]
  },
  {
   "cell_type": "markdown",
   "metadata": {},
   "source": [
    "## LINEAR MODELS FOR CLASSIFICATION\n",
    "Linear models are also extensively used for classification. \n",
    "\n",
    "__Linear models for *regression*__\n",
    "<br>The *output, $\\hat{y}$*, is a linear function of the *features*: <br>(line, plane, or hyperplane) \n",
    "\n",
    "__Linear models for *classification*__\n",
    "<br>Separates two classes using a linear function of the *features*<br>(line, a plane, or a hyperplane) \n",
    "\n",
    "<p align=\"center\">\n",
    "  <img src=\"img/linear_classifier_2feature.png\" alt=\"Drawing\" style=\"width: 600px;\"/>\n",
    "</p>\n",
    "\n"
   ]
  },
  {
   "cell_type": "markdown",
   "metadata": {},
   "source": [
    "## LINEAR MODELS FOR CLASSIFICATION\n",
    "Linear models are also extensively used for classification. \n",
    "\n",
    "A __binary__ prediction is made using the following formula.\n",
    "\n",
    "The formula looks very similar to the one for linear regression.\n",
    "\n",
    "\\begin{align*}\n",
    "f &= \\mathbf{w}^T\\mathbf{x} + b \\\\\n",
    "  &= w_0x_0 + w_1x_1 + ... + w_px_p + b\\\\\n",
    "\\end{align*}\n",
    "\n",
    "\n",
    "\n",
    "But instead of just returning the weighted sum of the features, $f$, the outcome is used to classsify the data point as belonging to __one of two groups__, by comparing $f$ to some threshold value $T$.\n",
    "\n",
    "$$\\hat{y}= \n",
    "\\begin{cases}\n",
    "    1,& \\text{if } f\\geq T\\\\\n",
    "    0,& \\text{otherwise}\n",
    "\\end{cases}\n",
    "$$"
   ]
  },
  {
   "cell_type": "markdown",
   "metadata": {},
   "source": [
    "For a 1D classifier this simplifies to:\n",
    "\n",
    "$$f = w_0x_0 + b$$\n",
    "\n",
    "$$\\hat{y}= \n",
    "\\begin{cases}\n",
    "    1,& \\text{if } f\\geq T\\\\\n",
    "    0,& \\text{otherwise}\n",
    "\\end{cases}\n",
    "$$\n",
    "\n",
    "For example, deciding if a tumor is malignant or not based on a threshold size.\n",
    "\n",
    "<p align=\"center\">\n",
    "  <img src=\"img/malignant.png\" alt=\"Drawing\" style=\"width: 400px;\"/>\n",
    "</p>\n"
   ]
  },
  {
   "cell_type": "markdown",
   "metadata": {},
   "source": [
    "Writing this as one line:\n",
    "\n",
    "\\begin{align*}\n",
    "\\hat{y} &= w_0x_0 + w_1x_1 + ... + w_px_p + b \\geq T \\\\\n",
    "        &= w_0x_0 + w_1x_1 + ... + w_px_p + b - T \\geq 0\\\\\n",
    "        &= w_0x_0 + w_1x_1 + ... + w_px_p + b  \\geq 0\\\\\n",
    "\\end{align*}\n",
    "\n",
    "$\\hat{y}$ is a boolean `True`/`False` or `0`/`1` value"
   ]
  },
  {
   "cell_type": "markdown",
   "metadata": {},
   "source": [
    "<p align=\"center\">\n",
    "  <img src=\"img/linear_classifier_2feature.png\" alt=\"Drawing\" style=\"width: 600px;\"/>\n",
    "</p>"
   ]
  },
  {
   "cell_type": "markdown",
   "metadata": {},
   "source": [
    "The two most common linear classification algorithms are:\n",
    "- logistic regression (`linear_model.LogisticRegression`) [a classification algorithm, despite it's name!]\n",
    "- linear support vector machines (linear SVMs) `svm.LinearSVC` (SVC stands for support vector classifier). "
   ]
  },
  {
   "cell_type": "markdown",
   "metadata": {},
   "source": [
    "We can apply the LogisticRegression and LinearSVC models to the forge dataset, and visualize the decision boundary as found by the linear models.\n",
    "\n",
    "A `for` loop is used to loop through each of the two models:\n",
    "- fitting the data\n",
    "- plotting the output\n",
    "\n",
    "On the plot, the decision boundary is shown as a straight line."
   ]
  },
  {
   "cell_type": "code",
   "execution_count": 32,
   "metadata": {},
   "outputs": [
    {
     "name": "stderr",
     "output_type": "stream",
     "text": [
      "/opt/anaconda3/lib/python3.7/site-packages/sklearn/utils/deprecation.py:85: DeprecationWarning: Function make_blobs is deprecated; Please import make_blobs directly from scikit-learn\n",
      "  warnings.warn(msg, category=DeprecationWarning)\n",
      "/opt/anaconda3/lib/python3.7/site-packages/sklearn/svm/base.py:929: ConvergenceWarning: Liblinear failed to converge, increase the number of iterations.\n",
      "  \"the number of iterations.\", ConvergenceWarning)\n",
      "/opt/anaconda3/lib/python3.7/site-packages/sklearn/linear_model/logistic.py:432: FutureWarning: Default solver will be changed to 'lbfgs' in 0.22. Specify a solver to silence this warning.\n",
      "  FutureWarning)\n"
     ]
    },
    {
     "data": {
      "text/plain": [
       "<matplotlib.legend.Legend at 0x1c1a23a1d0>"
      ]
     },
     "execution_count": 32,
     "metadata": {},
     "output_type": "execute_result"
    },
    {
     "data": {
      "image/png": "[encoded data removed]",
      "text/plain": [
       "<Figure size 720x216 with 2 Axes>"
      ]
     },
     "metadata": {},
     "output_type": "display_data"
    }
   ],
   "source": [
    "from sklearn.linear_model import LogisticRegression\n",
    "from sklearn.svm import LinearSVC\n",
    "\n",
    "# 1. Import data\n",
    "X, y = mglearn.datasets.make_forge()            \n",
    "\n",
    "# figure\n",
    "fig, axes = plt.subplots(1, 2, figsize=(10, 3)) \n",
    "\n",
    "# for loop to fit the data to each\n",
    "for model, ax in zip([LinearSVC(), LogisticRegression()], axes): \n",
    "    \n",
    "    # 2. Fit model to data\n",
    "    clf = model.fit(X, y)                       \n",
    "    \n",
    "    mglearn.plots.plot_2d_separator(clf,        # fitted model     \n",
    "                                    X,          # data\n",
    "                                    fill=False, \n",
    "                                    eps=0.5,\n",
    "                                    ax=ax, \n",
    "                                    alpha=.7)\n",
    "    \n",
    "    mglearn.discrete_scatter(X[:, 0], X[:, 1], y, ax=ax)\n",
    "    ax.set_title(clf.__class__.__name__)\n",
    "    ax.set_xlabel(\"Feature 0\")\n",
    "    ax.set_ylabel(\"Feature 1\")\n",
    "axes[0].legend()"
   ]
  },
  {
   "cell_type": "markdown",
   "metadata": {},
   "source": [
    "The boundaries separate the area classified as class 1 on the top from the area classified as class 0 on the bottom. \n",
    "\n",
    "Any new data point that lies:\n",
    "- above the black line will be classified as class 1 \n",
    "- below the black line will be classified as class 0\n",
    "\n",
    "Note that both misclassify two of the points. "
   ]
  },
  {
   "cell_type": "markdown",
   "metadata": {},
   "source": [
    "The two models come up with similar decision boundaries. \n",
    "\n",
    "By default, both models apply an L2 regularization, in the same way that Ridge does for regression.\n",
    "\n",
    "Input parameter `C` determines the strength of the regularization: higher values correspond to less regularization. \n",
    "\n",
    "Higher `C` --> `LogisticRegression` / `LinearSVC` try to fit the training set as best as possible\n",
    "<br>Lower `C` --> The models put more emphasis on finding a coefficient vector (w) that is close to zero.\n",
    "\n",
    "Higher `C` --> stresses the importance that each individual data point be classified correctly. \n",
    "<br>Lower `C` --> algorithms try to adjust to the “majority” of data points"
   ]
  },
  {
   "cell_type": "markdown",
   "metadata": {},
   "source": [
    "## LINEAR MODELS FOR MULTICLASS CLASSIFICATION\n",
    "Many linear classification models are for binary classification only.\n",
    "<br>They don’t extend naturally to the multiclass case.\n",
    "<br>(exception : logistic regression). \n",
    "\n",
    "A common technique to extend a binary classification algorithm to a multiclass classification algorithm is the *__one-vs.-rest__* approach. \n",
    "\n",
    "##### one-vs.-rest\n",
    "- A binary model is learned for each class that tries to separate that class from all of the *other* classes.\n",
    "<br>This results in as many binary models as there are classes. \n",
    "\n",
    "- To make a prediction, all binary classifiers are run on a test data point. \n",
    "\n",
    "- The classifier that has the highest score on its single class “wins,” and this class label is returned as the prediction"
   ]
  },
  {
   "cell_type": "markdown",
   "metadata": {},
   "source": [
    "## Kernelized Support Vector Machines :  LINEAR MODELS AND NONLINEAR FEATURES\n",
    "\n",
    "We have seen __linear__ support vector machines for classification. \n",
    "\n",
    "Kernelized support vector machines (SVMs) allow for more complex models that are not defined simply by hyperplanes in the input space. \n",
    "\n",
    "There are support vector machines for classification and regression, we will restrict ourselves to the classification case using `SVC`. \n",
    "\n",
    "Similar concepts apply to support vector regression, using `SVR`.\n",
    "\n"
   ]
  },
  {
   "cell_type": "markdown",
   "metadata": {},
   "source": [
    "The mathematics behind kernelized support vector machines is quite involved, and is therefore beyond the scope of this course. \n",
    "\n",
    "We will study an overview of how the method works."
   ]
  },
  {
   "cell_type": "markdown",
   "metadata": {},
   "source": [
    "As we have seen, linear models can be limiting in low-dimensional spaces.\n",
    "\n",
    "Lines and hyperplanes have limited flexibility. \n",
    "\n",
    "One way to make a linear model more flexible is by adding more features.\n",
    "\n",
    "Example : adding interactions or polynomials of the input features."
   ]
  },
  {
   "cell_type": "markdown",
   "metadata": {},
   "source": [
    "Let's import a synthetic data set to demonstrate:"
   ]
  },
  {
   "cell_type": "code",
   "execution_count": 47,
   "metadata": {},
   "outputs": [
    {
     "data": {
      "text/plain": [
       "Text(0, 0.5, 'Feature 1')"
      ]
     },
     "execution_count": 47,
     "metadata": {},
     "output_type": "execute_result"
    },
    {
     "data": {
      "image/png": "[encoded data removed]",
      "text/plain": [
       "<Figure size 432x288 with 1 Axes>"
      ]
     },
     "metadata": {
      "needs_background": "light"
     },
     "output_type": "display_data"
    }
   ],
   "source": [
    "from sklearn.datasets import make_blobs  # generates a sample data set for testing clustering algorithms\n",
    "\n",
    "X, y = make_blobs(centers=4,             # number of clusters to detect\n",
    "                  random_state=8)        # random seed\n",
    "\n",
    "y = y % 2                                # remainder when divided by 2 : makes all data either class 0 or class 1\n",
    "\n",
    "mglearn.discrete_scatter(X[:, 0],  # x coordinate\n",
    "                         X[:, 1],  # y coordinate\n",
    "                         y)        # class\n",
    "plt.xlabel(\"Feature 0\")\n",
    "plt.ylabel(\"Feature 1\")"
   ]
  },
  {
   "cell_type": "markdown",
   "metadata": {},
   "source": [
    "A linear model for classification can only separate points using a line, and will not be able to do a very good job on this dataset"
   ]
  },
  {
   "cell_type": "code",
   "execution_count": 48,
   "metadata": {},
   "outputs": [
    {
     "name": "stderr",
     "output_type": "stream",
     "text": [
      "/opt/anaconda3/lib/python3.7/site-packages/sklearn/svm/base.py:929: ConvergenceWarning: Liblinear failed to converge, increase the number of iterations.\n",
      "  \"the number of iterations.\", ConvergenceWarning)\n"
     ]
    },
    {
     "data": {
      "image/png": "[encoded data removed]",
      "text/plain": [
       "<Figure size 432x288 with 1 Axes>"
      ]
     },
     "metadata": {},
     "output_type": "display_data"
    }
   ],
   "source": [
    "from sklearn.svm import LinearSVC\n",
    "\n",
    "# plot data as before\n",
    "mglearn.discrete_scatter(X[:, 0], X[:, 1], y)\n",
    "plt.xlabel(\"Feature 0\")\n",
    "plt.ylabel(\"Feature 1\")\n",
    "\n",
    "# fit SVC model to data\n",
    "linear_svm = LinearSVC().fit(X, y)\n",
    "mglearn.plots.plot_2d_separator(linear_svm, X)"
   ]
  },
  {
   "cell_type": "markdown",
   "metadata": {},
   "source": [
    "Now let’s expand the set of input features to include an additional feature.\n",
    "\n",
    "Additional feature : feature1$^2$\n",
    "\n",
    "Instead of representing each data point as a two-dimensional point, (feature0, feature1), we now represent it as a three-dimensional point, (feature0, feature1, feature1 ** 2)\n",
    "\n",
    "(Don't worry too much about the unfmailiarity of the code, it includes several things we've not studied).\n"
   ]
  },
  {
   "cell_type": "code",
   "execution_count": 50,
   "metadata": {},
   "outputs": [
    {
     "data": {
      "text/plain": [
       "Text(0.5, 0, 'feature1 ** 2')"
      ]
     },
     "execution_count": 50,
     "metadata": {},
     "output_type": "execute_result"
    },
    {
     "data": {
      "image/png": "[encoded data removed]",
      "text/plain": [
       "<Figure size 432x288 with 1 Axes>"
      ]
     },
     "metadata": {
      "needs_background": "light"
     },
     "output_type": "display_data"
    }
   ],
   "source": [
    "# add the squared second feature\n",
    "X_new = np.hstack([X, X[:, 1:] ** 2])\n",
    "\n",
    "from mpl_toolkits.mplot3d import Axes3D, axes3d\n",
    "figure = plt.figure()\n",
    "# visualize in 3D\n",
    "ax = Axes3D(figure, elev=-152, azim=-26)\n",
    "# plot first all the points with y == 0, then all with y == 1\n",
    "mask = y == 0\n",
    "ax.scatter(X_new[mask, 0], X_new[mask, 1], X_new[mask, 2], c='b',\n",
    "           cmap=mglearn.cm2, s=60, edgecolor='k')\n",
    "ax.scatter(X_new[~mask, 0], X_new[~mask, 1], X_new[~mask, 2], c='r', marker='^',\n",
    "           cmap=mglearn.cm2, s=60, edgecolor='k')\n",
    "\n",
    "ax.set_xlabel(\"feature0\")\n",
    "ax.set_ylabel(\"feature1\")\n",
    "ax.set_zlabel(\"feature1 ** 2\")"
   ]
  },
  {
   "cell_type": "markdown",
   "metadata": {},
   "source": [
    "In the new representation of the data, it is now indeed possible to separate the two classes using a linear model, a plane in three dimensions. We can confirm this by fitting a linear model to the augmented data (see Figure 2-39):"
   ]
  },
  {
   "cell_type": "code",
   "execution_count": 51,
   "metadata": {},
   "outputs": [
    {
     "name": "stderr",
     "output_type": "stream",
     "text": [
      "/opt/anaconda3/lib/python3.7/site-packages/sklearn/svm/base.py:929: ConvergenceWarning: Liblinear failed to converge, increase the number of iterations.\n",
      "  \"the number of iterations.\", ConvergenceWarning)\n"
     ]
    },
    {
     "data": {
      "text/plain": [
       "Text(0.5, 0, 'feature1 ** 2')"
      ]
     },
     "execution_count": 51,
     "metadata": {},
     "output_type": "execute_result"
    },
    {
     "data": {
      "image/png": "[encoded data removed]",
      "text/plain": [
       "<Figure size 432x288 with 1 Axes>"
      ]
     },
     "metadata": {
      "needs_background": "light"
     },
     "output_type": "display_data"
    }
   ],
   "source": [
    "linear_svm_3d = LinearSVC().fit(X_new, y)\n",
    "coef, intercept = linear_svm_3d.coef_.ravel(), linear_svm_3d.intercept_\n",
    "\n",
    "# show linear decision boundary\n",
    "figure = plt.figure()\n",
    "ax = Axes3D(figure, elev=-152, azim=-26)\n",
    "xx = np.linspace(X_new[:, 0].min() - 2, X_new[:, 0].max() + 2, 50)\n",
    "yy = np.linspace(X_new[:, 1].min() - 2, X_new[:, 1].max() + 2, 50)\n",
    "\n",
    "XX, YY = np.meshgrid(xx, yy)\n",
    "ZZ = (coef[0] * XX + coef[1] * YY + intercept) / -coef[2]\n",
    "ax.plot_surface(XX, YY, ZZ, rstride=8, cstride=8, alpha=0.3)\n",
    "ax.scatter(X_new[mask, 0], X_new[mask, 1], X_new[mask, 2], c='b',\n",
    "           cmap=mglearn.cm2, s=60, edgecolor='k')\n",
    "ax.scatter(X_new[~mask, 0], X_new[~mask, 1], X_new[~mask, 2], c='r', marker='^',\n",
    "           cmap=mglearn.cm2, s=60, edgecolor='k')\n",
    "\n",
    "ax.set_xlabel(\"feature0\")\n",
    "ax.set_ylabel(\"feature1\")\n",
    "ax.set_zlabel(\"feature1 ** 2\")"
   ]
  },
  {
   "cell_type": "markdown",
   "metadata": {},
   "source": [
    "As a function of the original features, the linear SVM model is not actually linear anymore. \n",
    "\n",
    "It is no longer a line, but more of an ellipse:"
   ]
  },
  {
   "cell_type": "code",
   "execution_count": 52,
   "metadata": {},
   "outputs": [
    {
     "data": {
      "text/plain": [
       "Text(0, 0.5, 'Feature 1')"
      ]
     },
     "execution_count": 52,
     "metadata": {},
     "output_type": "execute_result"
    },
    {
     "data": {
      "image/png": "[encoded data removed]",
      "text/plain": [
       "<Figure size 432x288 with 1 Axes>"
      ]
     },
     "metadata": {
      "needs_background": "light"
     },
     "output_type": "display_data"
    }
   ],
   "source": [
    "ZZ = YY ** 2\n",
    "dec = linear_svm_3d.decision_function(np.c_[XX.ravel(), YY.ravel(), ZZ.ravel()])\n",
    "plt.contourf(XX, YY, dec.reshape(XX.shape), levels=[dec.min(), 0, dec.max()],\n",
    "             cmap=mglearn.cm2, alpha=0.5)\n",
    "mglearn.discrete_scatter(X[:, 0], X[:, 1], y)\n",
    "plt.xlabel(\"Feature 0\")\n",
    "plt.ylabel(\"Feature 1\")"
   ]
  },
  {
   "cell_type": "markdown",
   "metadata": {},
   "source": [
    "# Decision Trees\n",
    "Decision trees are widely used models for classification and regression tasks. \n",
    "\n",
    "They learn a hierarchy of if/else questions, leading to a decision."
   ]
  },
  {
   "cell_type": "code",
   "execution_count": 91,
   "metadata": {},
   "outputs": [
    {
     "data": {
      "image/png": "[encoded data removed]",
      "text/plain": [
       "<Figure size 432x288 with 1 Axes>"
      ]
     },
     "metadata": {
      "needs_background": "light"
     },
     "output_type": "display_data"
    }
   ],
   "source": [
    "mglearn.plots.plot_animal_tree()"
   ]
  },
  {
   "cell_type": "markdown",
   "metadata": {},
   "source": [
    "Each node in the tree represents either:\n",
    "- a question\n",
    "- a terminal node (leaf) that contains the answer. \n",
    "\n",
    "The edges connect the answers to a question with the next question."
   ]
  },
  {
   "cell_type": "markdown",
   "metadata": {},
   "source": [
    "## BUILDING DECISION TREES\n",
    "Let’s go through the process of building a decision tree for the `two_moons` 2D classification dataset shown below. \n",
    "\n",
    "<p align=\"center\">\n",
    "  <img src=\"img/two_moons.png\" alt=\"Drawing\" style=\"width: 600px;\"/>\n",
    "</p>\n",
    "\n"
   ]
  },
  {
   "cell_type": "markdown",
   "metadata": {},
   "source": [
    "Usually data is not in the form of binary yes/no features as in the animal example. \n",
    "\n",
    "It is usually represented as continuous numerical features such as in the `two_moons` dataset.\n",
    "\n",
    "The tests that are used on continuous data are of the form __“Is feature i > a?”__"
   ]
  },
  {
   "cell_type": "markdown",
   "metadata": {},
   "source": [
    "Learning a decision tree means learning the sequence of if/else questions (tests) that gets us to the correct answer most quickly. \n",
    "\n",
    "The algorithm searches all possible tests and finds the one that is most informative about the target variable. "
   ]
  },
  {
   "cell_type": "markdown",
   "metadata": {},
   "source": [
    "The first test:\n",
    "\n",
    "<p align=\"center\">\n",
    "  <img src=\"img/2-24.png\" alt=\"Drawing\" style=\"width: 600px;\"/>\n",
    "</p>\n",
    "\n",
    "Splitting the dataset horizontally at `x[1]=0.0596` [feature 1=0.0596 ], (indicated by a black line), is the most effective seperator for dividing class 0 from class 1. \n",
    "\n",
    "The top node (root), represents the whole dataset (50 points class 0, 50 points class 1). \n",
    "\n",
    "`True` : data point is assigned to left node (2 points class 0, 32 points class 1). \n",
    "\n",
    "`False` : assigned to right node (48 points class 0, 18 points class 1). \n",
    "\n"
   ]
  },
  {
   "cell_type": "markdown",
   "metadata": {},
   "source": [
    "To build a more accurate model we repeat the process of looking for the most effective test in each region.\n",
    "\n",
    "Note : the test in each region can differ from each other.\n",
    "\n",
    "The second test is based on `x[0]` (feature 0).\n",
    "\n",
    "\n",
    "<p align=\"center\">\n",
    "  <img src=\"img/2-25.png\" alt=\"Drawing\" style=\"width: 600px;\"/>\n",
    "</p>"
   ]
  },
  {
   "cell_type": "markdown",
   "metadata": {},
   "source": [
    "This recursive process builds a binary tree of decisions, with each node containing a test. \n",
    "\n",
    "You can think of each test as splitting the part of the data that is currently being considered along one axis. \n",
    "\n",
    "Each test concerns only a single feature. \n",
    "\n",
    "This yields a view of the algorithm as building a hierarchical partition. \n",
    "\n",
    "The partitioning of the data is repeated until each region in the partition (each leaf in the tree) only contains a single target value:\n",
    "- a single class\n",
    "- a single regression value"
   ]
  },
  {
   "cell_type": "markdown",
   "metadata": {},
   "source": [
    "Final partitioning:\n",
    "\n",
    "<p align=\"center\">\n",
    "  <img src=\"img/2-26.png\" alt=\"Drawing\" style=\"width: 800px;\"/>\n",
    "</p>"
   ]
  },
  {
   "cell_type": "markdown",
   "metadata": {},
   "source": [
    "To make a prediction on a new data point:\n",
    "1. checking which region of the partition of the feature space the point lies in\n",
    "1. predicting the class in that is dominant in that region. \n",
    "\n",
    "The region is found by traversing the tree. \n",
    "\n"
   ]
  },
  {
   "cell_type": "markdown",
   "metadata": {},
   "source": [
    "### Regression Trees \n",
    "It is also possible to use trees for regression tasks, using exactly the same technique. \n",
    "\n",
    "The output for this data point is the mean target of the training points in this leaf.\n",
    "\n",
    "Example: \n",
    "<br>43.43 is the mean target value for inputs with Industry < 748 and Population < 190\n",
    "\n",
    "<p align=\"center\">\n",
    "  <img src=\"img/regression_tree.png\" alt=\"Drawing\" style=\"width: 600px;\"/>\n",
    "</p>"
   ]
  },
  {
   "cell_type": "markdown",
   "metadata": {},
   "source": [
    "CONTROLLING COMPLEXITY OF DECISION TREES\n",
    "\n",
    "Building a tree as described here typically leads to models that are very complex and highly overfit to the training data. \n",
    "\n",
    "The presence of \"pure leaves\" (containing a single class only) mean that a tree is 100% accurate on the training set.\n",
    "\n",
    "\n"
   ]
  },
  {
   "cell_type": "markdown",
   "metadata": {},
   "source": [
    "<p align=\"center\">\n",
    "  <img src=\"img/2-26.png\" alt=\"Drawing\" style=\"width: 600px;\"/>\n",
    "</p>\n",
    "\n",
    "Evidence of overfitting : \n",
    "<br>Small class 1 (red) region surrounded by class 0 (blue) regions. \n",
    "<br>Small strip class 0 (blue) around large class 1 (red) region on the right. \n",
    "\n",
    "This is not a typical decision boundary to look.\n",
    "\n",
    "\n"
   ]
  },
  {
   "cell_type": "markdown",
   "metadata": {},
   "source": [
    "There are two common strategies to prevent overfitting: \n",
    "- stopping the creation of the tree early (pre-pruning):\n",
    "    - limiting the maximum depth of the tree\n",
    "    - limiting the maximum number of leaves\n",
    "    - requiring a minimum number of points in a node to keep splitting it\n",
    "- building the tree but then removing or collapsing nodes that contain little information (post-pruning)"
   ]
  },
  {
   "cell_type": "markdown",
   "metadata": {},
   "source": [
    "Decision trees in `scikit-learn`:\n",
    "- `DecisionTreeRegressor`\n",
    "- `DecisionTreeClassifier`\n",
    "\n",
    "`scikit-learn` only implements pre-pruning, not post-pruning.\n",
    "\n"
   ]
  },
  {
   "cell_type": "markdown",
   "metadata": {},
   "source": [
    "Let’s look at the effect of pre-pruning in more detail on the Breast Cancer dataset. \n",
    "\n",
    "As always, we:\n",
    "1. import the dataset\n",
    "2. split it into a training and a test part.\n",
    "3. build a model using the default setting of fully developing the tree (growing the tree until all leaves are pure). "
   ]
  },
  {
   "cell_type": "code",
   "execution_count": 90,
   "metadata": {},
   "outputs": [
    {
     "name": "stdout",
     "output_type": "stream",
     "text": [
      "Accuracy on training set: 1.0\n",
      "Accuracy on test set: 0.9370629370629371\n"
     ]
    }
   ],
   "source": [
    "from sklearn.tree import DecisionTreeClassifier\n",
    "\n",
    "cancer = load_breast_cancer()      # 1. Load data\n",
    "\n",
    "X_train, X_test, y_train, y_test = train_test_split(cancer.data,     # 2. Split data\n",
    "                                                    cancer.target, \n",
    "                                                    stratify=cancer.target, \n",
    "                                                    random_state=42)\n",
    "\n",
    "tree = DecisionTreeClassifier(random_state=0)         # 3. Load model \n",
    "\n",
    "tree.fit(X_train, y_train) # 4. Fit model\n",
    "\n",
    "print(f\"Accuracy on training set: {tree.score(X_train, y_train)}\")\n",
    "print(f\"Accuracy on test set: {tree.score(X_test, y_test)}\")"
   ]
  },
  {
   "cell_type": "markdown",
   "metadata": {},
   "source": [
    "As expected:\n",
    "- accuracy on the training set is 100%—because the leaves are pure\n",
    "- accuracy on test set is slightly worse\n",
    "\n"
   ]
  },
  {
   "cell_type": "markdown",
   "metadata": {},
   "source": [
    "Now let’s apply pre-pruning to the tree, to stop the tree developing before we perfectly fit to the training data. \n",
    "\n",
    "Here we set max_depth=4, meaning only four consecutive questions can be asked.\n",
    "\n",
    "Limiting the depth of the tree decreases overfitting. \n",
    "\n",
    "This leads to a lower accuracy on the training set, but an improvement on the test set:"
   ]
  },
  {
   "cell_type": "code",
   "execution_count": 91,
   "metadata": {},
   "outputs": [
    {
     "name": "stdout",
     "output_type": "stream",
     "text": [
      "Accuracy on training set: 0.9882629107981221\n",
      "Accuracy on test set: 0.951048951048951\n"
     ]
    }
   ],
   "source": [
    "tree = DecisionTreeClassifier(max_depth=4, random_state=0)\n",
    "tree.fit(X_train, y_train)\n",
    "\n",
    "print(f\"Accuracy on training set: {tree.score(X_train, y_train)}\")\n",
    "print(f\"Accuracy on test set: {tree.score(X_test, y_test)}\")"
   ]
  },
  {
   "cell_type": "markdown",
   "metadata": {},
   "source": [
    "## ANALYZING DECISION TREES\n",
    "We can visualize the tree using the `export_graphviz` function from the `tree` module. \n",
    "\n",
    "This writes a file in the .dot file format, which is a text file format for storing graphs. \n",
    "\n",
    "We set an option to color the nodes to reflect the majority class in each node and pass the class and features names so the tree can be properly labeled:\n",
    "\n"
   ]
  },
  {
   "cell_type": "code",
   "execution_count": 92,
   "metadata": {},
   "outputs": [],
   "source": [
    "from sklearn.tree import export_graphviz\n",
    "\n",
    "export_graphviz(tree,                     # 1. fitted mode\n",
    "                out_file=\"img/tree.dot\",  # 2. output file name\n",
    "                class_names=[\"malignant\", \"benign\"],  # 3. pass class names for labelling\n",
    "                feature_names=cancer.feature_names,   # 4. pass feature names for labelling\n",
    "                impurity=False,                       # 5. Do not show impurity \n",
    "                filled=True                           # 6. color the nodes to reflect the majority class\n",
    "               )"
   ]
  },
  {
   "cell_type": "markdown",
   "metadata": {},
   "source": [
    "We can read this file and visualize it using the graphviz module \n",
    "<br>(or any program that can read .dot files):"
   ]
  },
  {
   "cell_type": "code",
   "execution_count": 93,
   "metadata": {},
   "outputs": [
    {
     "data": {
      "image/svg+xml": [
       "<?xml version=\"1.0\" encoding=\"UTF-8\" standalone=\"no\"?>\n",
       "<!DOCTYPE svg PUBLIC \"-//W3C//DTD SVG 1.1//EN\"\n",
       " \"http://www.w3.org/Graphics/SVG/1.1/DTD/svg11.dtd\">\n",
       "<!-- Generated by graphviz version 2.40.1 (20161225.0304)\n",
       " -->\n",
       "<!-- Title: Tree Pages: 1 -->\n",
       "<svg width=\"1039pt\" height=\"477pt\"\n",
       " viewBox=\"0.00 0.00 1039.00 477.00\" xmlns=\"http://www.w3.org/2000/svg\" xmlns:xlink=\"http://www.w3.org/1999/xlink\">\n",
       "<g id=\"graph0\" class=\"graph\" transform=\"scale(1 1) rotate(0) translate(4 473)\">\n",
       "<title>Tree</title>\n",
       "<polygon fill=\"#ffffff\" stroke=\"transparent\" points=\"-4,4 -4,-473 1035,-473 1035,4 -4,4\"/>\n",
       "<!-- 0 -->\n",
       "<g id=\"node1\" class=\"node\">\n",
       "<title>0</title>\n",
       "<polygon fill=\"#afd7f4\" stroke=\"#000000\" points=\"646,-469 499,-469 499,-401 646,-401 646,-469\"/>\n",
       "<text text-anchor=\"middle\" x=\"572.5\" y=\"-453.8\" font-family=\"Times,serif\" font-size=\"14.00\" fill=\"#000000\">worst radius &lt;= 16.795</text>\n",
       "<text text-anchor=\"middle\" x=\"572.5\" y=\"-438.8\" font-family=\"Times,serif\" font-size=\"14.00\" fill=\"#000000\">samples = 426</text>\n",
       "<text text-anchor=\"middle\" x=\"572.5\" y=\"-423.8\" font-family=\"Times,serif\" font-size=\"14.00\" fill=\"#000000\">value = [159, 267]</text>\n",
       "<text text-anchor=\"middle\" x=\"572.5\" y=\"-408.8\" font-family=\"Times,serif\" font-size=\"14.00\" fill=\"#000000\">class = benign</text>\n",
       "</g>\n",
       "<!-- 1 -->\n",
       "<g id=\"node2\" class=\"node\">\n",
       "<title>1</title>\n",
       "<polygon fill=\"#4ca6e8\" stroke=\"#000000\" points=\"555,-365 366,-365 366,-297 555,-297 555,-365\"/>\n",
       "<text text-anchor=\"middle\" x=\"460.5\" y=\"-349.8\" font-family=\"Times,serif\" font-size=\"14.00\" fill=\"#000000\">worst concave points &lt;= 0.136</text>\n",
       "<text text-anchor=\"middle\" x=\"460.5\" y=\"-334.8\" font-family=\"Times,serif\" font-size=\"14.00\" fill=\"#000000\">samples = 284</text>\n",
       "<text text-anchor=\"middle\" x=\"460.5\" y=\"-319.8\" font-family=\"Times,serif\" font-size=\"14.00\" fill=\"#000000\">value = [25, 259]</text>\n",
       "<text text-anchor=\"middle\" x=\"460.5\" y=\"-304.8\" font-family=\"Times,serif\" font-size=\"14.00\" fill=\"#000000\">class = benign</text>\n",
       "</g>\n",
       "<!-- 0&#45;&gt;1 -->\n",
       "<g id=\"edge1\" class=\"edge\">\n",
       "<title>0&#45;&gt;1</title>\n",
       "<path fill=\"none\" stroke=\"#000000\" d=\"M535.827,-400.9465C525.8677,-391.6986 514.9789,-381.5876 504.6532,-371.9994\"/>\n",
       "<polygon fill=\"#000000\" stroke=\"#000000\" points=\"506.9649,-369.3698 497.2554,-365.13 502.2018,-374.4993 506.9649,-369.3698\"/>\n",
       "<text text-anchor=\"middle\" x=\"498.1807\" y=\"-386.4129\" font-family=\"Times,serif\" font-size=\"14.00\" fill=\"#000000\">True</text>\n",
       "</g>\n",
       "<!-- 14 -->\n",
       "<g id=\"node15\" class=\"node\">\n",
       "<title>14</title>\n",
       "<polygon fill=\"#e78945\" stroke=\"#000000\" points=\"724.5,-365 584.5,-365 584.5,-297 724.5,-297 724.5,-365\"/>\n",
       "<text text-anchor=\"middle\" x=\"654.5\" y=\"-349.8\" font-family=\"Times,serif\" font-size=\"14.00\" fill=\"#000000\">texture error &lt;= 0.473</text>\n",
       "<text text-anchor=\"middle\" x=\"654.5\" y=\"-334.8\" font-family=\"Times,serif\" font-size=\"14.00\" fill=\"#000000\">samples = 142</text>\n",
       "<text text-anchor=\"middle\" x=\"654.5\" y=\"-319.8\" font-family=\"Times,serif\" font-size=\"14.00\" fill=\"#000000\">value = [134, 8]</text>\n",
       "<text text-anchor=\"middle\" x=\"654.5\" y=\"-304.8\" font-family=\"Times,serif\" font-size=\"14.00\" fill=\"#000000\">class = malignant</text>\n",
       "</g>\n",
       "<!-- 0&#45;&gt;14 -->\n",
       "<g id=\"edge14\" class=\"edge\">\n",
       "<title>0&#45;&gt;14</title>\n",
       "<path fill=\"none\" stroke=\"#000000\" d=\"M599.3499,-400.9465C606.3583,-392.0578 613.9955,-382.3716 621.291,-373.1188\"/>\n",
       "<polygon fill=\"#000000\" stroke=\"#000000\" points=\"624.1467,-375.1498 627.5898,-365.13 618.6498,-370.8157 624.1467,-375.1498\"/>\n",
       "<text text-anchor=\"middle\" x=\"630.5263\" y=\"-386.2569\" font-family=\"Times,serif\" font-size=\"14.00\" fill=\"#000000\">False</text>\n",
       "</g>\n",
       "<!-- 2 -->\n",
       "<g id=\"node3\" class=\"node\">\n",
       "<title>2</title>\n",
       "<polygon fill=\"#3c9fe5\" stroke=\"#000000\" points=\"357.5,-261 221.5,-261 221.5,-193 357.5,-193 357.5,-261\"/>\n",
       "<text text-anchor=\"middle\" x=\"289.5\" y=\"-245.8\" font-family=\"Times,serif\" font-size=\"14.00\" fill=\"#000000\">radius error &lt;= 1.048</text>\n",
       "<text text-anchor=\"middle\" x=\"289.5\" y=\"-230.8\" font-family=\"Times,serif\" font-size=\"14.00\" fill=\"#000000\">samples = 252</text>\n",
       "<text text-anchor=\"middle\" x=\"289.5\" y=\"-215.8\" font-family=\"Times,serif\" font-size=\"14.00\" fill=\"#000000\">value = [4, 248]</text>\n",
       "<text text-anchor=\"middle\" x=\"289.5\" y=\"-200.8\" font-family=\"Times,serif\" font-size=\"14.00\" fill=\"#000000\">class = benign</text>\n",
       "</g>\n",
       "<!-- 1&#45;&gt;2 -->\n",
       "<g id=\"edge2\" class=\"edge\">\n",
       "<title>1&#45;&gt;2</title>\n",
       "<path fill=\"none\" stroke=\"#000000\" d=\"M404.5082,-296.9465C388.4168,-287.1599 370.7359,-276.4066 354.1666,-266.3294\"/>\n",
       "<polygon fill=\"#000000\" stroke=\"#000000\" points=\"355.9802,-263.336 345.6176,-261.13 352.3428,-269.3167 355.9802,-263.336\"/>\n",
       "</g>\n",
       "<!-- 7 -->\n",
       "<g id=\"node8\" class=\"node\">\n",
       "<title>7</title>\n",
       "<polygon fill=\"#f3c3a1\" stroke=\"#000000\" points=\"532.5,-261 388.5,-261 388.5,-193 532.5,-193 532.5,-261\"/>\n",
       "<text text-anchor=\"middle\" x=\"460.5\" y=\"-245.8\" font-family=\"Times,serif\" font-size=\"14.00\" fill=\"#000000\">worst texture &lt;= 25.62</text>\n",
       "<text text-anchor=\"middle\" x=\"460.5\" y=\"-230.8\" font-family=\"Times,serif\" font-size=\"14.00\" fill=\"#000000\">samples = 32</text>\n",
       "<text text-anchor=\"middle\" x=\"460.5\" y=\"-215.8\" font-family=\"Times,serif\" font-size=\"14.00\" fill=\"#000000\">value = [21, 11]</text>\n",
       "<text text-anchor=\"middle\" x=\"460.5\" y=\"-200.8\" font-family=\"Times,serif\" font-size=\"14.00\" fill=\"#000000\">class = malignant</text>\n",
       "</g>\n",
       "<!-- 1&#45;&gt;7 -->\n",
       "<g id=\"edge7\" class=\"edge\">\n",
       "<title>1&#45;&gt;7</title>\n",
       "<path fill=\"none\" stroke=\"#000000\" d=\"M460.5,-296.9465C460.5,-288.776 460.5,-279.9318 460.5,-271.3697\"/>\n",
       "<polygon fill=\"#000000\" stroke=\"#000000\" points=\"464.0001,-271.13 460.5,-261.13 457.0001,-271.13 464.0001,-271.13\"/>\n",
       "</g>\n",
       "<!-- 3 -->\n",
       "<g id=\"node4\" class=\"node\">\n",
       "<title>3</title>\n",
       "<polygon fill=\"#3b9ee5\" stroke=\"#000000\" points=\"214,-157 47,-157 47,-89 214,-89 214,-157\"/>\n",
       "<text text-anchor=\"middle\" x=\"130.5\" y=\"-141.8\" font-family=\"Times,serif\" font-size=\"14.00\" fill=\"#000000\">smoothness error &lt;= 0.003</text>\n",
       "<text text-anchor=\"middle\" x=\"130.5\" y=\"-126.8\" font-family=\"Times,serif\" font-size=\"14.00\" fill=\"#000000\">samples = 251</text>\n",
       "<text text-anchor=\"middle\" x=\"130.5\" y=\"-111.8\" font-family=\"Times,serif\" font-size=\"14.00\" fill=\"#000000\">value = [3, 248]</text>\n",
       "<text text-anchor=\"middle\" x=\"130.5\" y=\"-96.8\" font-family=\"Times,serif\" font-size=\"14.00\" fill=\"#000000\">class = benign</text>\n",
       "</g>\n",
       "<!-- 2&#45;&gt;3 -->\n",
       "<g id=\"edge3\" class=\"edge\">\n",
       "<title>2&#45;&gt;3</title>\n",
       "<path fill=\"none\" stroke=\"#000000\" d=\"M237.4375,-192.9465C222.6125,-183.2497 206.3367,-172.6039 191.0529,-162.6069\"/>\n",
       "<polygon fill=\"#000000\" stroke=\"#000000\" points=\"192.9642,-159.6749 182.6795,-157.13 189.1324,-165.533 192.9642,-159.6749\"/>\n",
       "</g>\n",
       "<!-- 6 -->\n",
       "<g id=\"node7\" class=\"node\">\n",
       "<title>6</title>\n",
       "<polygon fill=\"#e58139\" stroke=\"#000000\" points=\"347,-149.5 232,-149.5 232,-96.5 347,-96.5 347,-149.5\"/>\n",
       "<text text-anchor=\"middle\" x=\"289.5\" y=\"-134.3\" font-family=\"Times,serif\" font-size=\"14.00\" fill=\"#000000\">samples = 1</text>\n",
       "<text text-anchor=\"middle\" x=\"289.5\" y=\"-119.3\" font-family=\"Times,serif\" font-size=\"14.00\" fill=\"#000000\">value = [1, 0]</text>\n",
       "<text text-anchor=\"middle\" x=\"289.5\" y=\"-104.3\" font-family=\"Times,serif\" font-size=\"14.00\" fill=\"#000000\">class = malignant</text>\n",
       "</g>\n",
       "<!-- 2&#45;&gt;6 -->\n",
       "<g id=\"edge6\" class=\"edge\">\n",
       "<title>2&#45;&gt;6</title>\n",
       "<path fill=\"none\" stroke=\"#000000\" d=\"M289.5,-192.9465C289.5,-182.2621 289.5,-170.4254 289.5,-159.5742\"/>\n",
       "<polygon fill=\"#000000\" stroke=\"#000000\" points=\"293.0001,-159.5421 289.5,-149.5422 286.0001,-159.5422 293.0001,-159.5421\"/>\n",
       "</g>\n",
       "<!-- 4 -->\n",
       "<g id=\"node5\" class=\"node\">\n",
       "<title>4</title>\n",
       "<polygon fill=\"#7bbeee\" stroke=\"#000000\" points=\"97,-53 0,-53 0,0 97,0 97,-53\"/>\n",
       "<text text-anchor=\"middle\" x=\"48.5\" y=\"-37.8\" font-family=\"Times,serif\" font-size=\"14.00\" fill=\"#000000\">samples = 4</text>\n",
       "<text text-anchor=\"middle\" x=\"48.5\" y=\"-22.8\" font-family=\"Times,serif\" font-size=\"14.00\" fill=\"#000000\">value = [1, 3]</text>\n",
       "<text text-anchor=\"middle\" x=\"48.5\" y=\"-7.8\" font-family=\"Times,serif\" font-size=\"14.00\" fill=\"#000000\">class = benign</text>\n",
       "</g>\n",
       "<!-- 3&#45;&gt;4 -->\n",
       "<g id=\"edge4\" class=\"edge\">\n",
       "<title>3&#45;&gt;4</title>\n",
       "<path fill=\"none\" stroke=\"#000000\" d=\"M101.5899,-88.9777C93.8866,-79.9123 85.5581,-70.111 77.8324,-61.0192\"/>\n",
       "<polygon fill=\"#000000\" stroke=\"#000000\" points=\"80.3718,-58.6025 71.2293,-53.2485 75.0375,-63.1352 80.3718,-58.6025\"/>\n",
       "</g>\n",
       "<!-- 5 -->\n",
       "<g id=\"node6\" class=\"node\">\n",
       "<title>5</title>\n",
       "<polygon fill=\"#3b9ee5\" stroke=\"#000000\" points=\"221.5,-53 115.5,-53 115.5,0 221.5,0 221.5,-53\"/>\n",
       "<text text-anchor=\"middle\" x=\"168.5\" y=\"-37.8\" font-family=\"Times,serif\" font-size=\"14.00\" fill=\"#000000\">samples = 247</text>\n",
       "<text text-anchor=\"middle\" x=\"168.5\" y=\"-22.8\" font-family=\"Times,serif\" font-size=\"14.00\" fill=\"#000000\">value = [2, 245]</text>\n",
       "<text text-anchor=\"middle\" x=\"168.5\" y=\"-7.8\" font-family=\"Times,serif\" font-size=\"14.00\" fill=\"#000000\">class = benign</text>\n",
       "</g>\n",
       "<!-- 3&#45;&gt;5 -->\n",
       "<g id=\"edge5\" class=\"edge\">\n",
       "<title>3&#45;&gt;5</title>\n",
       "<path fill=\"none\" stroke=\"#000000\" d=\"M143.8974,-88.9777C147.2508,-80.4617 150.86,-71.2963 154.253,-62.6798\"/>\n",
       "<polygon fill=\"#000000\" stroke=\"#000000\" points=\"157.5595,-63.8355 157.9669,-53.2485 151.0463,-61.2707 157.5595,-63.8355\"/>\n",
       "</g>\n",
       "<!-- 8 -->\n",
       "<g id=\"node9\" class=\"node\">\n",
       "<title>8</title>\n",
       "<polygon fill=\"#7bbeee\" stroke=\"#000000\" points=\"536,-157 365,-157 365,-89 536,-89 536,-157\"/>\n",
       "<text text-anchor=\"middle\" x=\"450.5\" y=\"-141.8\" font-family=\"Times,serif\" font-size=\"14.00\" fill=\"#000000\">worst smoothness &lt;= 0.179</text>\n",
       "<text text-anchor=\"middle\" x=\"450.5\" y=\"-126.8\" font-family=\"Times,serif\" font-size=\"14.00\" fill=\"#000000\">samples = 12</text>\n",
       "<text text-anchor=\"middle\" x=\"450.5\" y=\"-111.8\" font-family=\"Times,serif\" font-size=\"14.00\" fill=\"#000000\">value = [3, 9]</text>\n",
       "<text text-anchor=\"middle\" x=\"450.5\" y=\"-96.8\" font-family=\"Times,serif\" font-size=\"14.00\" fill=\"#000000\">class = benign</text>\n",
       "</g>\n",
       "<!-- 7&#45;&gt;8 -->\n",
       "<g id=\"edge8\" class=\"edge\">\n",
       "<title>7&#45;&gt;8</title>\n",
       "<path fill=\"none\" stroke=\"#000000\" d=\"M457.2256,-192.9465C456.4314,-184.6863 455.5709,-175.7374 454.7392,-167.0875\"/>\n",
       "<polygon fill=\"#000000\" stroke=\"#000000\" points=\"458.2229,-166.7491 453.7817,-157.13 451.255,-167.4191 458.2229,-166.7491\"/>\n",
       "</g>\n",
       "<!-- 11 -->\n",
       "<g id=\"node12\" class=\"node\">\n",
       "<title>11</title>\n",
       "<polygon fill=\"#e88f4f\" stroke=\"#000000\" points=\"715,-157 554,-157 554,-89 715,-89 715,-157\"/>\n",
       "<text text-anchor=\"middle\" x=\"634.5\" y=\"-141.8\" font-family=\"Times,serif\" font-size=\"14.00\" fill=\"#000000\">worst symmetry &lt;= 0.268</text>\n",
       "<text text-anchor=\"middle\" x=\"634.5\" y=\"-126.8\" font-family=\"Times,serif\" font-size=\"14.00\" fill=\"#000000\">samples = 20</text>\n",
       "<text text-anchor=\"middle\" x=\"634.5\" y=\"-111.8\" font-family=\"Times,serif\" font-size=\"14.00\" fill=\"#000000\">value = [18, 2]</text>\n",
       "<text text-anchor=\"middle\" x=\"634.5\" y=\"-96.8\" font-family=\"Times,serif\" font-size=\"14.00\" fill=\"#000000\">class = malignant</text>\n",
       "</g>\n",
       "<!-- 7&#45;&gt;11 -->\n",
       "<g id=\"edge11\" class=\"edge\">\n",
       "<title>7&#45;&gt;11</title>\n",
       "<path fill=\"none\" stroke=\"#000000\" d=\"M517.4741,-192.9465C533.8478,-183.1599 551.8389,-172.4066 568.6989,-162.3294\"/>\n",
       "<polygon fill=\"#000000\" stroke=\"#000000\" points=\"570.6099,-165.2648 577.3979,-157.13 567.0186,-159.2562 570.6099,-165.2648\"/>\n",
       "</g>\n",
       "<!-- 9 -->\n",
       "<g id=\"node10\" class=\"node\">\n",
       "<title>9</title>\n",
       "<polygon fill=\"#4fa8e8\" stroke=\"#000000\" points=\"375,-53 278,-53 278,0 375,0 375,-53\"/>\n",
       "<text text-anchor=\"middle\" x=\"326.5\" y=\"-37.8\" font-family=\"Times,serif\" font-size=\"14.00\" fill=\"#000000\">samples = 10</text>\n",
       "<text text-anchor=\"middle\" x=\"326.5\" y=\"-22.8\" font-family=\"Times,serif\" font-size=\"14.00\" fill=\"#000000\">value = [1, 9]</text>\n",
       "<text text-anchor=\"middle\" x=\"326.5\" y=\"-7.8\" font-family=\"Times,serif\" font-size=\"14.00\" fill=\"#000000\">class = benign</text>\n",
       "</g>\n",
       "<!-- 8&#45;&gt;9 -->\n",
       "<g id=\"edge9\" class=\"edge\">\n",
       "<title>8&#45;&gt;9</title>\n",
       "<path fill=\"none\" stroke=\"#000000\" d=\"M406.7822,-88.9777C394.5451,-79.4545 381.2645,-69.1191 369.0934,-59.6473\"/>\n",
       "<polygon fill=\"#000000\" stroke=\"#000000\" points=\"370.9125,-56.628 360.8711,-53.2485 366.6134,-62.1523 370.9125,-56.628\"/>\n",
       "</g>\n",
       "<!-- 10 -->\n",
       "<g id=\"node11\" class=\"node\">\n",
       "<title>10</title>\n",
       "<polygon fill=\"#e58139\" stroke=\"#000000\" points=\"508,-53 393,-53 393,0 508,0 508,-53\"/>\n",
       "<text text-anchor=\"middle\" x=\"450.5\" y=\"-37.8\" font-family=\"Times,serif\" font-size=\"14.00\" fill=\"#000000\">samples = 2</text>\n",
       "<text text-anchor=\"middle\" x=\"450.5\" y=\"-22.8\" font-family=\"Times,serif\" font-size=\"14.00\" fill=\"#000000\">value = [2, 0]</text>\n",
       "<text text-anchor=\"middle\" x=\"450.5\" y=\"-7.8\" font-family=\"Times,serif\" font-size=\"14.00\" fill=\"#000000\">class = malignant</text>\n",
       "</g>\n",
       "<!-- 8&#45;&gt;10 -->\n",
       "<g id=\"edge10\" class=\"edge\">\n",
       "<title>8&#45;&gt;10</title>\n",
       "<path fill=\"none\" stroke=\"#000000\" d=\"M450.5,-88.9777C450.5,-80.7364 450.5,-71.887 450.5,-63.5153\"/>\n",
       "<polygon fill=\"#000000\" stroke=\"#000000\" points=\"454.0001,-63.2484 450.5,-53.2485 447.0001,-63.2485 454.0001,-63.2484\"/>\n",
       "</g>\n",
       "<!-- 12 -->\n",
       "<g id=\"node13\" class=\"node\">\n",
       "<title>12</title>\n",
       "<polygon fill=\"#9ccef2\" stroke=\"#000000\" points=\"623,-53 526,-53 526,0 623,0 623,-53\"/>\n",
       "<text text-anchor=\"middle\" x=\"574.5\" y=\"-37.8\" font-family=\"Times,serif\" font-size=\"14.00\" fill=\"#000000\">samples = 3</text>\n",
       "<text text-anchor=\"middle\" x=\"574.5\" y=\"-22.8\" font-family=\"Times,serif\" font-size=\"14.00\" fill=\"#000000\">value = [1, 2]</text>\n",
       "<text text-anchor=\"middle\" x=\"574.5\" y=\"-7.8\" font-family=\"Times,serif\" font-size=\"14.00\" fill=\"#000000\">class = benign</text>\n",
       "</g>\n",
       "<!-- 11&#45;&gt;12 -->\n",
       "<g id=\"edge12\" class=\"edge\">\n",
       "<title>11&#45;&gt;12</title>\n",
       "<path fill=\"none\" stroke=\"#000000\" d=\"M613.3462,-88.9777C607.8805,-80.187 601.9846,-70.7044 596.4778,-61.8477\"/>\n",
       "<polygon fill=\"#000000\" stroke=\"#000000\" points=\"599.3837,-59.8927 591.1312,-53.2485 593.4391,-63.5889 599.3837,-59.8927\"/>\n",
       "</g>\n",
       "<!-- 13 -->\n",
       "<g id=\"node14\" class=\"node\">\n",
       "<title>13</title>\n",
       "<polygon fill=\"#e58139\" stroke=\"#000000\" points=\"756,-53 641,-53 641,0 756,0 756,-53\"/>\n",
       "<text text-anchor=\"middle\" x=\"698.5\" y=\"-37.8\" font-family=\"Times,serif\" font-size=\"14.00\" fill=\"#000000\">samples = 17</text>\n",
       "<text text-anchor=\"middle\" x=\"698.5\" y=\"-22.8\" font-family=\"Times,serif\" font-size=\"14.00\" fill=\"#000000\">value = [17, 0]</text>\n",
       "<text text-anchor=\"middle\" x=\"698.5\" y=\"-7.8\" font-family=\"Times,serif\" font-size=\"14.00\" fill=\"#000000\">class = malignant</text>\n",
       "</g>\n",
       "<!-- 11&#45;&gt;13 -->\n",
       "<g id=\"edge13\" class=\"edge\">\n",
       "<title>11&#45;&gt;13</title>\n",
       "<path fill=\"none\" stroke=\"#000000\" d=\"M657.064,-88.9777C662.8941,-80.187 669.1831,-70.7044 675.057,-61.8477\"/>\n",
       "<polygon fill=\"#000000\" stroke=\"#000000\" points=\"678.1498,-63.5167 680.7601,-53.2485 672.3162,-59.6478 678.1498,-63.5167\"/>\n",
       "</g>\n",
       "<!-- 15 -->\n",
       "<g id=\"node16\" class=\"node\">\n",
       "<title>15</title>\n",
       "<polygon fill=\"#399de5\" stroke=\"#000000\" points=\"703,-253.5 606,-253.5 606,-200.5 703,-200.5 703,-253.5\"/>\n",
       "<text text-anchor=\"middle\" x=\"654.5\" y=\"-238.3\" font-family=\"Times,serif\" font-size=\"14.00\" fill=\"#000000\">samples = 5</text>\n",
       "<text text-anchor=\"middle\" x=\"654.5\" y=\"-223.3\" font-family=\"Times,serif\" font-size=\"14.00\" fill=\"#000000\">value = [0, 5]</text>\n",
       "<text text-anchor=\"middle\" x=\"654.5\" y=\"-208.3\" font-family=\"Times,serif\" font-size=\"14.00\" fill=\"#000000\">class = benign</text>\n",
       "</g>\n",
       "<!-- 14&#45;&gt;15 -->\n",
       "<g id=\"edge15\" class=\"edge\">\n",
       "<title>14&#45;&gt;15</title>\n",
       "<path fill=\"none\" stroke=\"#000000\" d=\"M654.5,-296.9465C654.5,-286.2621 654.5,-274.4254 654.5,-263.5742\"/>\n",
       "<polygon fill=\"#000000\" stroke=\"#000000\" points=\"658.0001,-263.5421 654.5,-253.5422 651.0001,-263.5422 658.0001,-263.5421\"/>\n",
       "</g>\n",
       "<!-- 16 -->\n",
       "<g id=\"node17\" class=\"node\">\n",
       "<title>16</title>\n",
       "<polygon fill=\"#e6843d\" stroke=\"#000000\" points=\"902.5,-261 742.5,-261 742.5,-193 902.5,-193 902.5,-261\"/>\n",
       "<text text-anchor=\"middle\" x=\"822.5\" y=\"-245.8\" font-family=\"Times,serif\" font-size=\"14.00\" fill=\"#000000\">worst concavity &lt;= 0.191</text>\n",
       "<text text-anchor=\"middle\" x=\"822.5\" y=\"-230.8\" font-family=\"Times,serif\" font-size=\"14.00\" fill=\"#000000\">samples = 137</text>\n",
       "<text text-anchor=\"middle\" x=\"822.5\" y=\"-215.8\" font-family=\"Times,serif\" font-size=\"14.00\" fill=\"#000000\">value = [134, 3]</text>\n",
       "<text text-anchor=\"middle\" x=\"822.5\" y=\"-200.8\" font-family=\"Times,serif\" font-size=\"14.00\" fill=\"#000000\">class = malignant</text>\n",
       "</g>\n",
       "<!-- 14&#45;&gt;16 -->\n",
       "<g id=\"edge16\" class=\"edge\">\n",
       "<title>14&#45;&gt;16</title>\n",
       "<path fill=\"none\" stroke=\"#000000\" d=\"M709.5095,-296.9465C725.1736,-287.2497 742.3707,-276.6039 758.5196,-266.6069\"/>\n",
       "<polygon fill=\"#000000\" stroke=\"#000000\" points=\"760.7065,-269.3695 767.3669,-261.13 757.022,-263.4177 760.7065,-269.3695\"/>\n",
       "</g>\n",
       "<!-- 17 -->\n",
       "<g id=\"node18\" class=\"node\">\n",
       "<title>17</title>\n",
       "<polygon fill=\"#bddef6\" stroke=\"#000000\" points=\"898,-157 747,-157 747,-89 898,-89 898,-157\"/>\n",
       "<text text-anchor=\"middle\" x=\"822.5\" y=\"-141.8\" font-family=\"Times,serif\" font-size=\"14.00\" fill=\"#000000\">worst texture &lt;= 30.975</text>\n",
       "<text text-anchor=\"middle\" x=\"822.5\" y=\"-126.8\" font-family=\"Times,serif\" font-size=\"14.00\" fill=\"#000000\">samples = 5</text>\n",
       "<text text-anchor=\"middle\" x=\"822.5\" y=\"-111.8\" font-family=\"Times,serif\" font-size=\"14.00\" fill=\"#000000\">value = [2, 3]</text>\n",
       "<text text-anchor=\"middle\" x=\"822.5\" y=\"-96.8\" font-family=\"Times,serif\" font-size=\"14.00\" fill=\"#000000\">class = benign</text>\n",
       "</g>\n",
       "<!-- 16&#45;&gt;17 -->\n",
       "<g id=\"edge17\" class=\"edge\">\n",
       "<title>16&#45;&gt;17</title>\n",
       "<path fill=\"none\" stroke=\"#000000\" d=\"M822.5,-192.9465C822.5,-184.776 822.5,-175.9318 822.5,-167.3697\"/>\n",
       "<polygon fill=\"#000000\" stroke=\"#000000\" points=\"826.0001,-167.13 822.5,-157.13 819.0001,-167.13 826.0001,-167.13\"/>\n",
       "</g>\n",
       "<!-- 20 -->\n",
       "<g id=\"node21\" class=\"node\">\n",
       "<title>20</title>\n",
       "<polygon fill=\"#e58139\" stroke=\"#000000\" points=\"1031,-149.5 916,-149.5 916,-96.5 1031,-96.5 1031,-149.5\"/>\n",
       "<text text-anchor=\"middle\" x=\"973.5\" y=\"-134.3\" font-family=\"Times,serif\" font-size=\"14.00\" fill=\"#000000\">samples = 132</text>\n",
       "<text text-anchor=\"middle\" x=\"973.5\" y=\"-119.3\" font-family=\"Times,serif\" font-size=\"14.00\" fill=\"#000000\">value = [132, 0]</text>\n",
       "<text text-anchor=\"middle\" x=\"973.5\" y=\"-104.3\" font-family=\"Times,serif\" font-size=\"14.00\" fill=\"#000000\">class = malignant</text>\n",
       "</g>\n",
       "<!-- 16&#45;&gt;20 -->\n",
       "<g id=\"edge20\" class=\"edge\">\n",
       "<title>16&#45;&gt;20</title>\n",
       "<path fill=\"none\" stroke=\"#000000\" d=\"M871.943,-192.9465C889.5351,-180.8301 909.2785,-167.232 926.647,-155.2696\"/>\n",
       "<polygon fill=\"#000000\" stroke=\"#000000\" points=\"928.7125,-158.0969 934.9628,-149.5422 924.7419,-152.332 928.7125,-158.0969\"/>\n",
       "</g>\n",
       "<!-- 18 -->\n",
       "<g id=\"node19\" class=\"node\">\n",
       "<title>18</title>\n",
       "<polygon fill=\"#399de5\" stroke=\"#000000\" points=\"871,-53 774,-53 774,0 871,0 871,-53\"/>\n",
       "<text text-anchor=\"middle\" x=\"822.5\" y=\"-37.8\" font-family=\"Times,serif\" font-size=\"14.00\" fill=\"#000000\">samples = 3</text>\n",
       "<text text-anchor=\"middle\" x=\"822.5\" y=\"-22.8\" font-family=\"Times,serif\" font-size=\"14.00\" fill=\"#000000\">value = [0, 3]</text>\n",
       "<text text-anchor=\"middle\" x=\"822.5\" y=\"-7.8\" font-family=\"Times,serif\" font-size=\"14.00\" fill=\"#000000\">class = benign</text>\n",
       "</g>\n",
       "<!-- 17&#45;&gt;18 -->\n",
       "<g id=\"edge18\" class=\"edge\">\n",
       "<title>17&#45;&gt;18</title>\n",
       "<path fill=\"none\" stroke=\"#000000\" d=\"M822.5,-88.9777C822.5,-80.7364 822.5,-71.887 822.5,-63.5153\"/>\n",
       "<polygon fill=\"#000000\" stroke=\"#000000\" points=\"826.0001,-63.2484 822.5,-53.2485 819.0001,-63.2485 826.0001,-63.2484\"/>\n",
       "</g>\n",
       "<!-- 19 -->\n",
       "<g id=\"node20\" class=\"node\">\n",
       "<title>19</title>\n",
       "<polygon fill=\"#e58139\" stroke=\"#000000\" points=\"1004,-53 889,-53 889,0 1004,0 1004,-53\"/>\n",
       "<text text-anchor=\"middle\" x=\"946.5\" y=\"-37.8\" font-family=\"Times,serif\" font-size=\"14.00\" fill=\"#000000\">samples = 2</text>\n",
       "<text text-anchor=\"middle\" x=\"946.5\" y=\"-22.8\" font-family=\"Times,serif\" font-size=\"14.00\" fill=\"#000000\">value = [2, 0]</text>\n",
       "<text text-anchor=\"middle\" x=\"946.5\" y=\"-7.8\" font-family=\"Times,serif\" font-size=\"14.00\" fill=\"#000000\">class = malignant</text>\n",
       "</g>\n",
       "<!-- 17&#45;&gt;19 -->\n",
       "<g id=\"edge19\" class=\"edge\">\n",
       "<title>17&#45;&gt;19</title>\n",
       "<path fill=\"none\" stroke=\"#000000\" d=\"M866.2178,-88.9777C878.4549,-79.4545 891.7355,-69.1191 903.9066,-59.6473\"/>\n",
       "<polygon fill=\"#000000\" stroke=\"#000000\" points=\"906.3866,-62.1523 912.1289,-53.2485 902.0875,-56.628 906.3866,-62.1523\"/>\n",
       "</g>\n",
       "</g>\n",
       "</svg>\n"
      ],
      "text/plain": [
       "<graphviz.files.Source at 0x1c19bd6e90>"
      ]
     },
     "metadata": {},
     "output_type": "display_data"
    }
   ],
   "source": [
    "import graphviz\n",
    "\n",
    "with open(\"img/tree.dot\") as f:\n",
    "    dot_graph = f.read()\n",
    "    \n",
    "display(graphviz.Source(dot_graph))"
   ]
  },
  {
   "cell_type": "markdown",
   "metadata": {},
   "source": [
    "The visualization provides a good in-depth view of how the algorithm makes predictions.\n",
    "\n",
    "- __samples__ : the number of samples in that node.\n",
    "- __value__ :  the number of samples per class.\n",
    "\n",
    "However, even with a tree of depth four (as seen here) the tree can become a bit overwhelming. \n",
    "\n",
    "Deeper trees (a depth of 10 is not uncommon) are even harder to read. "
   ]
  },
  {
   "cell_type": "markdown",
   "metadata": {},
   "source": [
    "## FEATURE IMPORTANCE IN TREES\n",
    "\n",
    "A useful way to inspecting the tree is to find out which path most of the data actually takes. \n",
    "\n",
    "Following the branches to the right,  `worst radius > 16.795` creates a node that contains:\n",
    "- 8 benign\n",
    "- 134 malignant samples\n",
    "The rest of this side of the tree then uses some finer distinctions but of the 142 samples that went to the right in the initial split, nearly all of them (132) end up in __the leaf to the very right__.\n",
    "\n",
    "Following the branches to the left, `worst radius <= 16.795`  :\n",
    "- 25 malignant\n",
    "- 259 benign samples\n",
    "Nearly all of the benign samples end up in __the second leaf from the left__. \n",
    "\n",
    "This is useful information but it's difficult to see by looking at the whole tree. \n"
   ]
  },
  {
   "cell_type": "markdown",
   "metadata": {},
   "source": [
    "There are some useful properties that we can derive to summarize the workings of the tree. \n",
    "\n",
    "The most commonly used is __feature importance__ : a number between 0 and 1 for each feature\n",
    "- 0 = not used at all for decision making\n",
    "- 1 = perfectly predicts the target\n",
    "\n",
    "The feature importances always sum to 1"
   ]
  },
  {
   "cell_type": "code",
   "execution_count": 97,
   "metadata": {},
   "outputs": [
    {
     "name": "stdout",
     "output_type": "stream",
     "text": [
      "Feature importances:\n",
      "[0.         0.         0.         0.         0.         0.\n",
      " 0.         0.         0.         0.         0.01019737 0.04839825\n",
      " 0.         0.         0.0024156  0.         0.         0.\n",
      " 0.         0.         0.72682851 0.0458159  0.         0.\n",
      " 0.0141577  0.         0.018188   0.1221132  0.01188548 0.        ]\n"
     ]
    }
   ],
   "source": [
    "print(\"Feature importances:\")\n",
    "print(tree.feature_importances_)"
   ]
  },
  {
   "cell_type": "markdown",
   "metadata": {},
   "source": [
    "We can visualize the feature importances.  "
   ]
  },
  {
   "cell_type": "code",
   "execution_count": 98,
   "metadata": {},
   "outputs": [
    {
     "data": {
      "image/png": "[encoded data removed]",
      "text/plain": [
       "<Figure size 432x288 with 1 Axes>"
      ]
     },
     "metadata": {
      "needs_background": "light"
     },
     "output_type": "display_data"
    }
   ],
   "source": [
    "def plot_feature_importances_cancer(model):\n",
    "    n_features = cancer.data.shape[1]\n",
    "    plt.barh(np.arange(n_features), model.feature_importances_, align='center')\n",
    "    plt.yticks(np.arange(n_features), cancer.feature_names)\n",
    "    plt.xlabel(\"Feature importance\")\n",
    "    plt.ylabel(\"Feature\")\n",
    "    plt.ylim(-1, n_features)\n",
    "    \n",
    "plot_feature_importances_cancer(tree)"
   ]
  },
  {
   "cell_type": "markdown",
   "metadata": {},
   "source": [
    "The feature used in first test (`worst radius`) is the most important feature.\n",
    "\n",
    "This confirms our observations in analyzing that the first split separates the two classes fairly well. \n",
    "\n",
    "<p align=\"center\">\n",
    "  <img src=\"img/2-27.png\" alt=\"Drawing\" style=\"width: 600px;\"/>\n",
    "</p>\n",
    "\n"
   ]
  },
  {
   "cell_type": "markdown",
   "metadata": {},
   "source": [
    "Note : \n",
    "\n",
    "If a feature has a low value in feature_importance_, it doesn’t necessarily mean that this feature is uninformative. \n",
    "\n",
    "It only means that the feature was not picked by the tree.\n",
    "\n",
    "This is likely because another feature encodes the same information.\n",
    "\n"
   ]
  },
  {
   "cell_type": "markdown",
   "metadata": {},
   "source": [
    "In contrast to the coefficients in linear models, feature importances don’t encode which class a feature is indicative of. \n",
    "\n",
    "The feature importances tell us that “worst radius” is important, but not whether a high radius is indicative of a sample being benign or malignant. "
   ]
  },
  {
   "cell_type": "markdown",
   "metadata": {},
   "source": [
    "## STRENGTHS & WEAKNESSES\n",
    "\n",
    "\n",
    "Advantages over many of the algorithms we’ve discussed so far: \n",
    "- the resulting model can easily be visualized and understood by nonexperts (at least for smaller trees)\n",
    "- as each feature is processed separately, the algorithms do not require scaling/normalization/standardization of the data.\n",
    "- decision trees can work on features that are on completely different scales, or a mix of binary and continuous features.\n",
    "\n",
    "Disadvantages:\n",
    "- Even with the use of pre-pruning, the model tends to overfit and provide poor generalization performance. \n",
    "\n",
    "Solution : in most applications, __ensemble methods__ are used in place of a single decision tree."
   ]
  },
  {
   "cell_type": "markdown",
   "metadata": {},
   "source": [
    "## Ensembles of Decision Trees\n",
    "Ensembles are methods that combine multiple machine learning models to create more powerful models.\n",
    "\n",
    "We won't go into much detail on these, but study a short summary of the two most widely used methods. \n",
    "\n",
    "#### RANDOM FORESTS\n",
    "Random forests are one way to address the problem of overfitting. \n",
    "<br>A random forest is a collection of decision trees, where each tree:\n",
    "- is slightly different from the others\n",
    "- will and overfit in a different way from the others\n",
    "\n",
    "We can reduce the amount of overfitting by averaging the results. \n",
    "\n",
    "\n",
    "#### GRADIENT BOOSTED REGRESSION TREES (GRADIENT BOOSTING MACHINES)\n",
    "A gradient boosted regression tree is a collection of decision trees, where trees are arranged in serial to correct the mistakes of the previous one. \n"
   ]
  },
  {
   "cell_type": "markdown",
   "metadata": {},
   "source": [
    "## Bias and Variance Revisitied. \n",
    "You can see a general trend in the examples so far:\n",
    "\n",
    "__Linear machine learning algorithms__ often have a high bias but a low variance.\n",
    "\n",
    "__Nonlinear machine learning algorithms__ often have a low bias but a high variance.\n",
    "\n",
    "The parameterization of machine learning algorithms is used to balance bias and variance.\n",
    "\n"
   ]
  },
  {
   "cell_type": "markdown",
   "metadata": {},
   "source": [
    "Two examples of configuring the bias-variance trade-off for specific algorithms:\n",
    "\n",
    "\n",
    "__k-nearest neighbors (KNN)__\n",
    "<br>Low bias and high variance\n",
    "<br>Trade-off can be changed by increasing the value of k (number of neighbors) \n",
    "\n",
    "__Support vector machine (SVM)__\n",
    "<br>Low bias and high variance.\n",
    "<br>Trade-off can be changed by increasing the `C` parameter (influences the number of violations of the margin allowed in the training data) \n",
    "\n",
    "\n",
    "\n",
    "\n"
   ]
  },
  {
   "cell_type": "markdown",
   "metadata": {},
   "source": [
    "# Artificial Neural Networks (ANN, Deep Learning)\n",
    "Neural networks : a family of algorithms that has recently seen a revival under the name “deep learning.” \n",
    "\n",
    "ANN shows great promise in many machine learning applications.\n",
    "\n",
    "However deep learning algorithms are often tailored very carefully to a specific use case. \n",
    "\n",
    "We will discuss some relatively simple type of ANN: __multilayer perceptrons__ (MLPs / (vanilla) feed-forward neural networks / neural networks).\n",
    "\n",
    "Classification and regression."
   ]
  },
  {
   "cell_type": "markdown",
   "metadata": {
    "slideshow": {
     "slide_type": "slide"
    }
   },
   "source": [
    "<img src=\"img/machine_learning_AI.png\" alt=\"Drawing\" style=\"width: 300px;\"/>"
   ]
  },
  {
   "cell_type": "markdown",
   "metadata": {},
   "source": [
    "## THE NEURAL NETWORK MODEL\n",
    "MLPs can be viewed as generalizations of linear models that perform multiple stages of processing to come to a decision.\n",
    "\n",
    "Remember that the prediction by a linear regressor is given as:\n",
    "\n",
    "$$\\hat{y} = w_0x_0 + w_1x_1 + ... + w_px_p + b$$\n",
    "\n",
    "In words, $\\hat{y}$ is a weighted sum of the input features x_0 to x_p, weighted by the learned coefficients w_0 to w_p. \n",
    "\n",
    "We can also visualize this graphically..."
   ]
  },
  {
   "cell_type": "code",
   "execution_count": 46,
   "metadata": {},
   "outputs": [
    {
     "data": {
      "image/svg+xml": [
       "<?xml version=\"1.0\" encoding=\"UTF-8\" standalone=\"no\"?>\n",
       "<!DOCTYPE svg PUBLIC \"-//W3C//DTD SVG 1.1//EN\"\n",
       " \"http://www.w3.org/Graphics/SVG/1.1/DTD/svg11.dtd\">\n",
       "<!-- Generated by graphviz version 2.40.1 (20161225.0304)\n",
       " -->\n",
       "<!-- Title: %3 Pages: 1 -->\n",
       "<svg width=\"175pt\" height=\"261pt\"\n",
       " viewBox=\"0.00 0.00 175.00 261.00\" xmlns=\"http://www.w3.org/2000/svg\" xmlns:xlink=\"http://www.w3.org/1999/xlink\">\n",
       "<g id=\"graph0\" class=\"graph\" transform=\"scale(1 1) rotate(0) translate(4 257)\">\n",
       "<title>%3</title>\n",
       "<polygon fill=\"#ffffff\" stroke=\"transparent\" points=\"-4,4 -4,-257 171,-257 171,4 -4,4\"/>\n",
       "<g id=\"clust1\" class=\"cluster\">\n",
       "<title>cluster_0</title>\n",
       "<polygon fill=\"none\" stroke=\"#ffffff\" points=\"8,-8 8,-245 60,-245 60,-8 8,-8\"/>\n",
       "<text text-anchor=\"middle\" x=\"34\" y=\"-229.8\" font-family=\"Times,serif\" font-size=\"14.00\" fill=\"#000000\">inputs</text>\n",
       "</g>\n",
       "<g id=\"clust2\" class=\"cluster\">\n",
       "<title>cluster_2</title>\n",
       "<polygon fill=\"none\" stroke=\"#ffffff\" points=\"107,-89 107,-164 159,-164 159,-89 107,-89\"/>\n",
       "<text text-anchor=\"middle\" x=\"133\" y=\"-148.8\" font-family=\"Times,serif\" font-size=\"14.00\" fill=\"#000000\">output</text>\n",
       "</g>\n",
       "<!-- x[0] -->\n",
       "<g id=\"node1\" class=\"node\">\n",
       "<title>x[0]</title>\n",
       "<ellipse fill=\"none\" stroke=\"#000000\" cx=\"34\" cy=\"-196\" rx=\"18\" ry=\"18\"/>\n",
       "<text text-anchor=\"middle\" x=\"34\" y=\"-192.3\" font-family=\"Times,serif\" font-size=\"14.00\" fill=\"#000000\">x[0]</text>\n",
       "</g>\n",
       "<!-- y -->\n",
       "<g id=\"node5\" class=\"node\">\n",
       "<title>y</title>\n",
       "<ellipse fill=\"none\" stroke=\"#000000\" cx=\"133\" cy=\"-115\" rx=\"18\" ry=\"18\"/>\n",
       "<text text-anchor=\"middle\" x=\"133\" y=\"-111.3\" font-family=\"Times,serif\" font-size=\"14.00\" fill=\"#000000\">y</text>\n",
       "</g>\n",
       "<!-- x[0]&#45;&gt;y -->\n",
       "<g id=\"edge1\" class=\"edge\">\n",
       "<title>x[0]&#45;&gt;y</title>\n",
       "<path fill=\"none\" stroke=\"#000000\" d=\"M48.1843,-184.3947C64.5782,-170.9815 91.7557,-148.7454 110.921,-133.0647\"/>\n",
       "<polygon fill=\"#000000\" stroke=\"#000000\" points=\"113.3188,-135.6251 118.842,-126.5838 108.8861,-130.2074 113.3188,-135.6251\"/>\n",
       "<text text-anchor=\"middle\" x=\"83.5\" y=\"-171.8\" font-family=\"Times,serif\" font-size=\"14.00\" fill=\"#000000\">w[0]</text>\n",
       "</g>\n",
       "<!-- x[1] -->\n",
       "<g id=\"node2\" class=\"node\">\n",
       "<title>x[1]</title>\n",
       "<ellipse fill=\"none\" stroke=\"#000000\" cx=\"34\" cy=\"-142\" rx=\"18\" ry=\"18\"/>\n",
       "<text text-anchor=\"middle\" x=\"34\" y=\"-138.3\" font-family=\"Times,serif\" font-size=\"14.00\" fill=\"#000000\">x[1]</text>\n",
       "</g>\n",
       "<!-- x[1]&#45;&gt;y -->\n",
       "<g id=\"edge2\" class=\"edge\">\n",
       "<title>x[1]&#45;&gt;y</title>\n",
       "<path fill=\"none\" stroke=\"#000000\" d=\"M51.6992,-137.1729C66.622,-133.1031 88.2316,-127.2096 105.4214,-122.5214\"/>\n",
       "<polygon fill=\"#000000\" stroke=\"#000000\" points=\"106.7273,-125.7932 115.454,-119.7853 104.8854,-119.0398 106.7273,-125.7932\"/>\n",
       "<text text-anchor=\"middle\" x=\"83.5\" y=\"-134.8\" font-family=\"Times,serif\" font-size=\"14.00\" fill=\"#000000\">w[1]</text>\n",
       "</g>\n",
       "<!-- x[2] -->\n",
       "<g id=\"node3\" class=\"node\">\n",
       "<title>x[2]</title>\n",
       "<ellipse fill=\"none\" stroke=\"#000000\" cx=\"34\" cy=\"-88\" rx=\"18\" ry=\"18\"/>\n",
       "<text text-anchor=\"middle\" x=\"34\" y=\"-84.3\" font-family=\"Times,serif\" font-size=\"14.00\" fill=\"#000000\">x[2]</text>\n",
       "</g>\n",
       "<!-- x[2]&#45;&gt;y -->\n",
       "<g id=\"edge3\" class=\"edge\">\n",
       "<title>x[2]&#45;&gt;y</title>\n",
       "<path fill=\"none\" stroke=\"#000000\" d=\"M51.6992,-92.8271C66.622,-96.8969 88.2316,-102.7904 105.4214,-107.4786\"/>\n",
       "<polygon fill=\"#000000\" stroke=\"#000000\" points=\"104.8854,-110.9602 115.454,-110.2147 106.7273,-104.2068 104.8854,-110.9602\"/>\n",
       "<text text-anchor=\"middle\" x=\"83.5\" y=\"-107.8\" font-family=\"Times,serif\" font-size=\"14.00\" fill=\"#000000\">w[2]</text>\n",
       "</g>\n",
       "<!-- x[3] -->\n",
       "<g id=\"node4\" class=\"node\">\n",
       "<title>x[3]</title>\n",
       "<ellipse fill=\"none\" stroke=\"#000000\" cx=\"34\" cy=\"-34\" rx=\"18\" ry=\"18\"/>\n",
       "<text text-anchor=\"middle\" x=\"34\" y=\"-30.3\" font-family=\"Times,serif\" font-size=\"14.00\" fill=\"#000000\">x[3]</text>\n",
       "</g>\n",
       "<!-- x[3]&#45;&gt;y -->\n",
       "<g id=\"edge4\" class=\"edge\">\n",
       "<title>x[3]&#45;&gt;y</title>\n",
       "<path fill=\"none\" stroke=\"#000000\" d=\"M48.1843,-45.6053C64.5782,-59.0185 91.7557,-81.2546 110.921,-96.9353\"/>\n",
       "<polygon fill=\"#000000\" stroke=\"#000000\" points=\"108.8861,-99.7926 118.842,-103.4162 113.3188,-94.3749 108.8861,-99.7926\"/>\n",
       "<text text-anchor=\"middle\" x=\"83.5\" y=\"-82.8\" font-family=\"Times,serif\" font-size=\"14.00\" fill=\"#000000\">w[3]</text>\n",
       "</g>\n",
       "</g>\n",
       "</svg>\n"
      ],
      "text/plain": [
       "<graphviz.dot.Digraph at 0x1c20306e50>"
      ]
     },
     "metadata": {},
     "output_type": "display_data"
    }
   ],
   "source": [
    "display(mglearn.plots.plot_logistic_regression_graph())"
   ]
  },
  {
   "cell_type": "markdown",
   "metadata": {},
   "source": [
    "Each node on the left represents an input feature.\n",
    "\n",
    "The connecting lines represent the learned coefficients.\n",
    "\n",
    "The node on the right represents the output, which is a weighted sum of the inputs."
   ]
  },
  {
   "cell_type": "markdown",
   "metadata": {},
   "source": [
    "In an MLP the process of computing weighted sums is repeated multiple times.\n",
    "\n",
    "First hidden units are computed that represent an intermediate processing step.\n",
    "\n",
    "Then these are again combined using weighted sums to give the final result."
   ]
  },
  {
   "cell_type": "code",
   "execution_count": 47,
   "metadata": {},
   "outputs": [
    {
     "data": {
      "image/svg+xml": [
       "<?xml version=\"1.0\" encoding=\"UTF-8\" standalone=\"no\"?>\n",
       "<!DOCTYPE svg PUBLIC \"-//W3C//DTD SVG 1.1//EN\"\n",
       " \"http://www.w3.org/Graphics/SVG/1.1/DTD/svg11.dtd\">\n",
       "<!-- Generated by graphviz version 2.40.1 (20161225.0304)\n",
       " -->\n",
       "<!-- Title: %3 Pages: 1 -->\n",
       "<svg width=\"254pt\" height=\"261pt\"\n",
       " viewBox=\"0.00 0.00 254.00 261.00\" xmlns=\"http://www.w3.org/2000/svg\" xmlns:xlink=\"http://www.w3.org/1999/xlink\">\n",
       "<g id=\"graph0\" class=\"graph\" transform=\"scale(1 1) rotate(0) translate(4 257)\">\n",
       "<title>%3</title>\n",
       "<polygon fill=\"#ffffff\" stroke=\"transparent\" points=\"-4,4 -4,-257 250,-257 250,4 -4,4\"/>\n",
       "<g id=\"clust1\" class=\"cluster\">\n",
       "<title>cluster_0</title>\n",
       "<polygon fill=\"none\" stroke=\"#ffffff\" points=\"8,-8 8,-245 60,-245 60,-8 8,-8\"/>\n",
       "<text text-anchor=\"middle\" x=\"34\" y=\"-229.8\" font-family=\"Times,serif\" font-size=\"14.00\" fill=\"#000000\">inputs</text>\n",
       "</g>\n",
       "<g id=\"clust2\" class=\"cluster\">\n",
       "<title>cluster_1</title>\n",
       "<polygon fill=\"none\" stroke=\"#ffffff\" points=\"80,-35 80,-218 166,-218 166,-35 80,-35\"/>\n",
       "<text text-anchor=\"middle\" x=\"123\" y=\"-202.8\" font-family=\"Times,serif\" font-size=\"14.00\" fill=\"#000000\">hidden layer</text>\n",
       "</g>\n",
       "<g id=\"clust3\" class=\"cluster\">\n",
       "<title>cluster_2</title>\n",
       "<polygon fill=\"none\" stroke=\"#ffffff\" points=\"186,-89 186,-164 238,-164 238,-89 186,-89\"/>\n",
       "<text text-anchor=\"middle\" x=\"212\" y=\"-148.8\" font-family=\"Times,serif\" font-size=\"14.00\" fill=\"#000000\">output</text>\n",
       "</g>\n",
       "<!-- x[0] -->\n",
       "<g id=\"node1\" class=\"node\">\n",
       "<title>x[0]</title>\n",
       "<ellipse fill=\"none\" stroke=\"#000000\" cx=\"34\" cy=\"-196\" rx=\"18\" ry=\"18\"/>\n",
       "<text text-anchor=\"middle\" x=\"34\" y=\"-192.3\" font-family=\"Times,serif\" font-size=\"14.00\" fill=\"#000000\">x[0]</text>\n",
       "</g>\n",
       "<!-- h0 -->\n",
       "<g id=\"node5\" class=\"node\">\n",
       "<title>h0</title>\n",
       "<ellipse fill=\"none\" stroke=\"#000000\" cx=\"123\" cy=\"-61\" rx=\"18\" ry=\"18\"/>\n",
       "<text text-anchor=\"middle\" x=\"123\" y=\"-57.3\" font-family=\"Times,serif\" font-size=\"14.00\" fill=\"#000000\">h[0]</text>\n",
       "</g>\n",
       "<!-- x[0]&#45;&gt;h0 -->\n",
       "<g id=\"edge1\" class=\"edge\">\n",
       "<title>x[0]&#45;&gt;h0</title>\n",
       "<path fill=\"none\" stroke=\"#000000\" d=\"M44.0364,-180.7762C59.3935,-157.4817 88.8604,-112.7848 107.1327,-85.0684\"/>\n",
       "<polygon fill=\"#000000\" stroke=\"#000000\" points=\"110.2817,-86.6507 112.8637,-76.3753 104.4374,-82.7978 110.2817,-86.6507\"/>\n",
       "</g>\n",
       "<!-- h1 -->\n",
       "<g id=\"node6\" class=\"node\">\n",
       "<title>h1</title>\n",
       "<ellipse fill=\"none\" stroke=\"#000000\" cx=\"123\" cy=\"-169\" rx=\"18\" ry=\"18\"/>\n",
       "<text text-anchor=\"middle\" x=\"123\" y=\"-165.3\" font-family=\"Times,serif\" font-size=\"14.00\" fill=\"#000000\">h[1]</text>\n",
       "</g>\n",
       "<!-- x[0]&#45;&gt;h1 -->\n",
       "<g id=\"edge2\" class=\"edge\">\n",
       "<title>x[0]&#45;&gt;h1</title>\n",
       "<path fill=\"none\" stroke=\"#000000\" d=\"M51.5835,-190.6657C64.2205,-186.832 81.4963,-181.591 95.891,-177.2241\"/>\n",
       "<polygon fill=\"#000000\" stroke=\"#000000\" points=\"97.2026,-180.4838 105.7558,-174.2314 95.1704,-173.7852 97.2026,-180.4838\"/>\n",
       "</g>\n",
       "<!-- h2 -->\n",
       "<g id=\"node7\" class=\"node\">\n",
       "<title>h2</title>\n",
       "<ellipse fill=\"none\" stroke=\"#000000\" cx=\"123\" cy=\"-115\" rx=\"18\" ry=\"18\"/>\n",
       "<text text-anchor=\"middle\" x=\"123\" y=\"-111.3\" font-family=\"Times,serif\" font-size=\"14.00\" fill=\"#000000\">h[2]</text>\n",
       "</g>\n",
       "<!-- x[0]&#45;&gt;h2 -->\n",
       "<g id=\"edge3\" class=\"edge\">\n",
       "<title>x[0]&#45;&gt;h2</title>\n",
       "<path fill=\"none\" stroke=\"#000000\" d=\"M47.5172,-183.6978C61.9764,-170.5384 85.0993,-149.4939 101.9464,-134.1611\"/>\n",
       "<polygon fill=\"#000000\" stroke=\"#000000\" points=\"104.6074,-136.4719 109.6472,-127.1525 99.8957,-131.2949 104.6074,-136.4719\"/>\n",
       "</g>\n",
       "<!-- x[1] -->\n",
       "<g id=\"node2\" class=\"node\">\n",
       "<title>x[1]</title>\n",
       "<ellipse fill=\"none\" stroke=\"#000000\" cx=\"34\" cy=\"-142\" rx=\"18\" ry=\"18\"/>\n",
       "<text text-anchor=\"middle\" x=\"34\" y=\"-138.3\" font-family=\"Times,serif\" font-size=\"14.00\" fill=\"#000000\">x[1]</text>\n",
       "</g>\n",
       "<!-- x[1]&#45;&gt;h0 -->\n",
       "<g id=\"edge4\" class=\"edge\">\n",
       "<title>x[1]&#45;&gt;h0</title>\n",
       "<path fill=\"none\" stroke=\"#000000\" d=\"M47.5172,-129.6978C61.9764,-116.5384 85.0993,-95.4939 101.9464,-80.1611\"/>\n",
       "<polygon fill=\"#000000\" stroke=\"#000000\" points=\"104.6074,-82.4719 109.6472,-73.1525 99.8957,-77.2949 104.6074,-82.4719\"/>\n",
       "</g>\n",
       "<!-- x[1]&#45;&gt;h1 -->\n",
       "<g id=\"edge5\" class=\"edge\">\n",
       "<title>x[1]&#45;&gt;h1</title>\n",
       "<path fill=\"none\" stroke=\"#000000\" d=\"M51.5835,-147.3343C64.2205,-151.168 81.4963,-156.409 95.891,-160.7759\"/>\n",
       "<polygon fill=\"#000000\" stroke=\"#000000\" points=\"95.1704,-164.2148 105.7558,-163.7686 97.2026,-157.5162 95.1704,-164.2148\"/>\n",
       "</g>\n",
       "<!-- x[1]&#45;&gt;h2 -->\n",
       "<g id=\"edge6\" class=\"edge\">\n",
       "<title>x[1]&#45;&gt;h2</title>\n",
       "<path fill=\"none\" stroke=\"#000000\" d=\"M51.5835,-136.6657C64.2205,-132.832 81.4963,-127.591 95.891,-123.2241\"/>\n",
       "<polygon fill=\"#000000\" stroke=\"#000000\" points=\"97.2026,-126.4838 105.7558,-120.2314 95.1704,-119.7852 97.2026,-126.4838\"/>\n",
       "</g>\n",
       "<!-- x[2] -->\n",
       "<g id=\"node3\" class=\"node\">\n",
       "<title>x[2]</title>\n",
       "<ellipse fill=\"none\" stroke=\"#000000\" cx=\"34\" cy=\"-88\" rx=\"18\" ry=\"18\"/>\n",
       "<text text-anchor=\"middle\" x=\"34\" y=\"-84.3\" font-family=\"Times,serif\" font-size=\"14.00\" fill=\"#000000\">x[2]</text>\n",
       "</g>\n",
       "<!-- x[2]&#45;&gt;h0 -->\n",
       "<g id=\"edge7\" class=\"edge\">\n",
       "<title>x[2]&#45;&gt;h0</title>\n",
       "<path fill=\"none\" stroke=\"#000000\" d=\"M51.5835,-82.6657C64.2205,-78.832 81.4963,-73.591 95.891,-69.2241\"/>\n",
       "<polygon fill=\"#000000\" stroke=\"#000000\" points=\"97.2026,-72.4838 105.7558,-66.2314 95.1704,-65.7852 97.2026,-72.4838\"/>\n",
       "</g>\n",
       "<!-- x[2]&#45;&gt;h1 -->\n",
       "<g id=\"edge8\" class=\"edge\">\n",
       "<title>x[2]&#45;&gt;h1</title>\n",
       "<path fill=\"none\" stroke=\"#000000\" d=\"M47.5172,-100.3022C61.9764,-113.4616 85.0993,-134.5061 101.9464,-149.8389\"/>\n",
       "<polygon fill=\"#000000\" stroke=\"#000000\" points=\"99.8957,-152.7051 109.6472,-156.8475 104.6074,-147.5281 99.8957,-152.7051\"/>\n",
       "</g>\n",
       "<!-- x[2]&#45;&gt;h2 -->\n",
       "<g id=\"edge9\" class=\"edge\">\n",
       "<title>x[2]&#45;&gt;h2</title>\n",
       "<path fill=\"none\" stroke=\"#000000\" d=\"M51.5835,-93.3343C64.2205,-97.168 81.4963,-102.409 95.891,-106.7759\"/>\n",
       "<polygon fill=\"#000000\" stroke=\"#000000\" points=\"95.1704,-110.2148 105.7558,-109.7686 97.2026,-103.5162 95.1704,-110.2148\"/>\n",
       "</g>\n",
       "<!-- x[3] -->\n",
       "<g id=\"node4\" class=\"node\">\n",
       "<title>x[3]</title>\n",
       "<ellipse fill=\"none\" stroke=\"#000000\" cx=\"34\" cy=\"-34\" rx=\"18\" ry=\"18\"/>\n",
       "<text text-anchor=\"middle\" x=\"34\" y=\"-30.3\" font-family=\"Times,serif\" font-size=\"14.00\" fill=\"#000000\">x[3]</text>\n",
       "</g>\n",
       "<!-- x[3]&#45;&gt;h0 -->\n",
       "<g id=\"edge10\" class=\"edge\">\n",
       "<title>x[3]&#45;&gt;h0</title>\n",
       "<path fill=\"none\" stroke=\"#000000\" d=\"M51.5835,-39.3343C64.2205,-43.168 81.4963,-48.409 95.891,-52.7759\"/>\n",
       "<polygon fill=\"#000000\" stroke=\"#000000\" points=\"95.1704,-56.2148 105.7558,-55.7686 97.2026,-49.5162 95.1704,-56.2148\"/>\n",
       "</g>\n",
       "<!-- x[3]&#45;&gt;h1 -->\n",
       "<g id=\"edge11\" class=\"edge\">\n",
       "<title>x[3]&#45;&gt;h1</title>\n",
       "<path fill=\"none\" stroke=\"#000000\" d=\"M44.0364,-49.2238C59.3935,-72.5183 88.8604,-117.2152 107.1327,-144.9316\"/>\n",
       "<polygon fill=\"#000000\" stroke=\"#000000\" points=\"104.4374,-147.2022 112.8637,-153.6247 110.2817,-143.3493 104.4374,-147.2022\"/>\n",
       "</g>\n",
       "<!-- x[3]&#45;&gt;h2 -->\n",
       "<g id=\"edge12\" class=\"edge\">\n",
       "<title>x[3]&#45;&gt;h2</title>\n",
       "<path fill=\"none\" stroke=\"#000000\" d=\"M47.5172,-46.3022C61.9764,-59.4616 85.0993,-80.5061 101.9464,-95.8389\"/>\n",
       "<polygon fill=\"#000000\" stroke=\"#000000\" points=\"99.8957,-98.7051 109.6472,-102.8475 104.6074,-93.5281 99.8957,-98.7051\"/>\n",
       "</g>\n",
       "<!-- y -->\n",
       "<g id=\"node8\" class=\"node\">\n",
       "<title>y</title>\n",
       "<ellipse fill=\"none\" stroke=\"#000000\" cx=\"212\" cy=\"-115\" rx=\"18\" ry=\"18\"/>\n",
       "<text text-anchor=\"middle\" x=\"212\" y=\"-111.3\" font-family=\"Times,serif\" font-size=\"14.00\" fill=\"#000000\">y</text>\n",
       "</g>\n",
       "<!-- h0&#45;&gt;y -->\n",
       "<g id=\"edge13\" class=\"edge\">\n",
       "<title>h0&#45;&gt;y</title>\n",
       "<path fill=\"none\" stroke=\"#000000\" d=\"M138.5026,-70.4061C152.0747,-78.6408 172.0207,-90.7429 187.7106,-100.2626\"/>\n",
       "<polygon fill=\"#000000\" stroke=\"#000000\" points=\"186.0114,-103.3255 196.3764,-105.5205 189.6426,-97.3409 186.0114,-103.3255\"/>\n",
       "</g>\n",
       "<!-- h1&#45;&gt;y -->\n",
       "<g id=\"edge14\" class=\"edge\">\n",
       "<title>h1&#45;&gt;y</title>\n",
       "<path fill=\"none\" stroke=\"#000000\" d=\"M138.5026,-159.5939C152.0747,-151.3592 172.0207,-139.2571 187.7106,-129.7374\"/>\n",
       "<polygon fill=\"#000000\" stroke=\"#000000\" points=\"189.6426,-132.6591 196.3764,-124.4795 186.0114,-126.6745 189.6426,-132.6591\"/>\n",
       "</g>\n",
       "<!-- h2&#45;&gt;y -->\n",
       "<g id=\"edge15\" class=\"edge\">\n",
       "<title>h2&#45;&gt;y</title>\n",
       "<path fill=\"none\" stroke=\"#000000\" d=\"M141.0105,-115C153.2342,-115 169.6505,-115 183.6176,-115\"/>\n",
       "<polygon fill=\"#000000\" stroke=\"#000000\" points=\"183.7109,-118.5001 193.7108,-115 183.7108,-111.5001 183.7109,-118.5001\"/>\n",
       "</g>\n",
       "</g>\n",
       "</svg>\n"
      ],
      "text/plain": [
       "<graphviz.dot.Digraph at 0x1c20321310>"
      ]
     },
     "metadata": {},
     "output_type": "display_data"
    }
   ],
   "source": [
    "display(mglearn.plots.plot_single_hidden_layer_graph())"
   ]
  },
  {
   "cell_type": "markdown",
   "metadata": {},
   "source": [
    "This model has a lot more coefficients (also called weights) to learn.\n",
    "\n",
    "There is:\n",
    "- one between every input and every hidden unit (which make up the hidden layer)\n",
    "- one between every unit in the hidden layer and the output.\n",
    "\n",
    "Computing a series of weighted sums is mathematically the same as computing just one weighted sum.\n",
    "\n"
   ]
  },
  {
   "cell_type": "markdown",
   "metadata": {},
   "source": [
    "To make this model truly more powerful than a linear model, we need an additional feature. \n",
    "\n",
    "After computing a weighted sum for each *hidden* unit, a *nonlinear* function is applied to the result.\n",
    "\n",
    "The result of this function is then used in the weighted sum that computes the output, $\\hat{y}$.\n",
    "\n"
   ]
  },
  {
   "cell_type": "markdown",
   "metadata": {},
   "source": [
    "This function is usually either:\n",
    "- __rectifying nonlinearity__ (rectified linear unit or relu) : cuts off values below zero\n",
    "- __hyperbolic tangent__ (tanh) : saturates to –1 for low input values and +1 for high input values\n",
    "\n",
    "Using either nonlinear function allows the neural network to learn much more complicated functions than a linear model could. "
   ]
  },
  {
   "cell_type": "code",
   "execution_count": 48,
   "metadata": {},
   "outputs": [
    {
     "data": {
      "text/plain": [
       "Text(0, 0.5, 'relu(x), tanh(x)')"
      ]
     },
     "execution_count": 48,
     "metadata": {},
     "output_type": "execute_result"
    },
    {
     "data": {
      "image/png": "[encoded data removed]",
      "text/plain": [
       "<Figure size 432x288 with 1 Axes>"
      ]
     },
     "metadata": {
      "needs_background": "light"
     },
     "output_type": "display_data"
    }
   ],
   "source": [
    "line = np.linspace(-3, 3, 100)\n",
    "plt.plot(line, np.tanh(line), label=\"tanh\")\n",
    "plt.plot(line, np.maximum(line, 0), label=\"relu\")\n",
    "plt.legend(loc=\"best\")\n",
    "plt.xlabel(\"x\")\n",
    "plt.ylabel(\"relu(x), tanh(x)\")"
   ]
  },
  {
   "cell_type": "markdown",
   "metadata": {},
   "source": [
    "<img src=\"img/ANN.png\" alt=\"Drawing\" style=\"width: 300px;\"/>\n",
    "\n",
    "The full formula for computing $\\hat{y}$ , for the small neural network pictured, in the case of regression (using tanh nonlinearity):\n",
    "\n",
    "$$h_0 = tanh(\\; \\; w_{0,0}x_0 + w_{1,0}x_1 + w_{2,0}x_2 + w_{3,0}x_3 + b_0 \\; \\;)$$\n",
    "$$h_1 = tanh(\\; \\; w_{0,1}x_0 + w_{1,1}x_1 + w_{2,1}x_2 + w_{3,1}x_3 + b_1 \\; \\;)$$\n",
    "$$h_2 = tanh(\\; \\; w_{0,2}x_0 + w_{1,2}x_1 + w_{2,2}x_2 + w_{3,2}x_3 + b_2 \\; \\;)$$\n",
    "\n",
    "$$\\hat{y} = v_0h_0 + v_1h_1 + v_2h_2 + b$$"
   ]
  },
  {
   "cell_type": "markdown",
   "metadata": {},
   "source": [
    "$x$ : input features\n",
    "\n",
    "$\\hat{y}$ : the computed output\n",
    "\n",
    "Weights $v$ and $w$ : learned from data\n",
    ">$w$ : weights between the input $x$ and the hidden layer $h$.<br>\n",
    ">$v$ : weights between the hidden layer $h$ and the output $\\hat{y}$. \n",
    "\n",
    "$h$ : intermediate computations. \n",
    "\n"
   ]
  },
  {
   "cell_type": "markdown",
   "metadata": {},
   "source": [
    "An important parameter that needs to be set by the user is the __number of nodes in the hidden layer__. \n",
    "\n",
    "This may be as small as 10 (small or simple datasets) and as big as 10,000 (very complex data). \n",
    "\n",
    "It is also possible to add additional hidden layers:"
   ]
  },
  {
   "cell_type": "code",
   "execution_count": 49,
   "metadata": {},
   "outputs": [
    {
     "data": {
      "image/svg+xml": [
       "<?xml version=\"1.0\" encoding=\"UTF-8\" standalone=\"no\"?>\n",
       "<!DOCTYPE svg PUBLIC \"-//W3C//DTD SVG 1.1//EN\"\n",
       " \"http://www.w3.org/Graphics/SVG/1.1/DTD/svg11.dtd\">\n",
       "<!-- Generated by graphviz version 2.40.1 (20161225.0304)\n",
       " -->\n",
       "<!-- Title: %3 Pages: 1 -->\n",
       "<svg width=\"382pt\" height=\"261pt\"\n",
       " viewBox=\"0.00 0.00 382.00 261.00\" xmlns=\"http://www.w3.org/2000/svg\" xmlns:xlink=\"http://www.w3.org/1999/xlink\">\n",
       "<g id=\"graph0\" class=\"graph\" transform=\"scale(1 1) rotate(0) translate(4 257)\">\n",
       "<title>%3</title>\n",
       "<polygon fill=\"#ffffff\" stroke=\"transparent\" points=\"-4,4 -4,-257 378,-257 378,4 -4,4\"/>\n",
       "<g id=\"clust1\" class=\"cluster\">\n",
       "<title>cluster_0</title>\n",
       "<polygon fill=\"none\" stroke=\"#ffffff\" points=\"8,-8 8,-245 60,-245 60,-8 8,-8\"/>\n",
       "<text text-anchor=\"middle\" x=\"34\" y=\"-229.8\" font-family=\"Times,serif\" font-size=\"14.00\" fill=\"#000000\">inputs</text>\n",
       "</g>\n",
       "<g id=\"clust2\" class=\"cluster\">\n",
       "<title>cluster_1</title>\n",
       "<polygon fill=\"none\" stroke=\"#ffffff\" points=\"80,-35 80,-218 177,-218 177,-35 80,-35\"/>\n",
       "<text text-anchor=\"middle\" x=\"128.5\" y=\"-202.8\" font-family=\"Times,serif\" font-size=\"14.00\" fill=\"#000000\">hidden layer 1</text>\n",
       "</g>\n",
       "<g id=\"clust3\" class=\"cluster\">\n",
       "<title>cluster_2</title>\n",
       "<polygon fill=\"none\" stroke=\"#ffffff\" points=\"197,-35 197,-218 294,-218 294,-35 197,-35\"/>\n",
       "<text text-anchor=\"middle\" x=\"245.5\" y=\"-202.8\" font-family=\"Times,serif\" font-size=\"14.00\" fill=\"#000000\">hidden layer 2</text>\n",
       "</g>\n",
       "<g id=\"clust4\" class=\"cluster\">\n",
       "<title>cluster_3</title>\n",
       "<polygon fill=\"none\" stroke=\"#ffffff\" points=\"314,-89 314,-164 366,-164 366,-89 314,-89\"/>\n",
       "<text text-anchor=\"middle\" x=\"340\" y=\"-148.8\" font-family=\"Times,serif\" font-size=\"14.00\" fill=\"#000000\">output</text>\n",
       "</g>\n",
       "<!-- x[0] -->\n",
       "<g id=\"node1\" class=\"node\">\n",
       "<title>x[0]</title>\n",
       "<ellipse fill=\"none\" stroke=\"#000000\" cx=\"34\" cy=\"-196\" rx=\"18\" ry=\"18\"/>\n",
       "<text text-anchor=\"middle\" x=\"34\" y=\"-192.3\" font-family=\"Times,serif\" font-size=\"14.00\" fill=\"#000000\">x[0]</text>\n",
       "</g>\n",
       "<!-- h1[0] -->\n",
       "<g id=\"node5\" class=\"node\">\n",
       "<title>h1[0]</title>\n",
       "<ellipse fill=\"none\" stroke=\"#000000\" cx=\"128\" cy=\"-61\" rx=\"18\" ry=\"18\"/>\n",
       "<text text-anchor=\"middle\" x=\"128\" y=\"-57.3\" font-family=\"Times,serif\" font-size=\"14.00\" fill=\"#000000\">h1[0]</text>\n",
       "</g>\n",
       "<!-- x[0]&#45;&gt;h1[0] -->\n",
       "<g id=\"edge1\" class=\"edge\">\n",
       "<title>x[0]&#45;&gt;h1[0]</title>\n",
       "<path fill=\"none\" stroke=\"#000000\" d=\"M44.4188,-181.0368C60.723,-157.6212 92.3974,-112.1314 111.7274,-84.3702\"/>\n",
       "<polygon fill=\"#000000\" stroke=\"#000000\" points=\"114.6926,-86.2368 117.5345,-76.0302 108.948,-82.2368 114.6926,-86.2368\"/>\n",
       "</g>\n",
       "<!-- h1[1] -->\n",
       "<g id=\"node6\" class=\"node\">\n",
       "<title>h1[1]</title>\n",
       "<ellipse fill=\"none\" stroke=\"#000000\" cx=\"128\" cy=\"-169\" rx=\"18\" ry=\"18\"/>\n",
       "<text text-anchor=\"middle\" x=\"128\" y=\"-165.3\" font-family=\"Times,serif\" font-size=\"14.00\" fill=\"#000000\">h1[1]</text>\n",
       "</g>\n",
       "<!-- x[0]&#45;&gt;h1[1] -->\n",
       "<g id=\"edge2\" class=\"edge\">\n",
       "<title>x[0]&#45;&gt;h1[1]</title>\n",
       "<path fill=\"none\" stroke=\"#000000\" d=\"M51.6807,-190.9215C65.4666,-186.9617 84.8559,-181.3924 100.6411,-176.8584\"/>\n",
       "<polygon fill=\"#000000\" stroke=\"#000000\" points=\"101.7535,-180.1805 110.3986,-174.0557 99.8209,-173.4525 101.7535,-180.1805\"/>\n",
       "</g>\n",
       "<!-- h1[2] -->\n",
       "<g id=\"node7\" class=\"node\">\n",
       "<title>h1[2]</title>\n",
       "<ellipse fill=\"none\" stroke=\"#000000\" cx=\"128\" cy=\"-115\" rx=\"18\" ry=\"18\"/>\n",
       "<text text-anchor=\"middle\" x=\"128\" y=\"-111.3\" font-family=\"Times,serif\" font-size=\"14.00\" fill=\"#000000\">h1[2]</text>\n",
       "</g>\n",
       "<!-- x[0]&#45;&gt;h1[2] -->\n",
       "<g id=\"edge3\" class=\"edge\">\n",
       "<title>x[0]&#45;&gt;h1[2]</title>\n",
       "<path fill=\"none\" stroke=\"#000000\" d=\"M47.87,-184.0482C63.2819,-170.7677 88.3638,-149.1546 106.3622,-133.6453\"/>\n",
       "<polygon fill=\"#000000\" stroke=\"#000000\" points=\"108.7823,-136.1801 114.0731,-127.0009 104.2128,-130.8773 108.7823,-136.1801\"/>\n",
       "</g>\n",
       "<!-- x[1] -->\n",
       "<g id=\"node2\" class=\"node\">\n",
       "<title>x[1]</title>\n",
       "<ellipse fill=\"none\" stroke=\"#000000\" cx=\"34\" cy=\"-142\" rx=\"18\" ry=\"18\"/>\n",
       "<text text-anchor=\"middle\" x=\"34\" y=\"-138.3\" font-family=\"Times,serif\" font-size=\"14.00\" fill=\"#000000\">x[1]</text>\n",
       "</g>\n",
       "<!-- x[1]&#45;&gt;h1[0] -->\n",
       "<g id=\"edge4\" class=\"edge\">\n",
       "<title>x[1]&#45;&gt;h1[0]</title>\n",
       "<path fill=\"none\" stroke=\"#000000\" d=\"M47.87,-130.0482C63.2819,-116.7677 88.3638,-95.1546 106.3622,-79.6453\"/>\n",
       "<polygon fill=\"#000000\" stroke=\"#000000\" points=\"108.7823,-82.1801 114.0731,-73.0009 104.2128,-76.8773 108.7823,-82.1801\"/>\n",
       "</g>\n",
       "<!-- x[1]&#45;&gt;h1[1] -->\n",
       "<g id=\"edge5\" class=\"edge\">\n",
       "<title>x[1]&#45;&gt;h1[1]</title>\n",
       "<path fill=\"none\" stroke=\"#000000\" d=\"M51.6807,-147.0785C65.4666,-151.0383 84.8559,-156.6076 100.6411,-161.1416\"/>\n",
       "<polygon fill=\"#000000\" stroke=\"#000000\" points=\"99.8209,-164.5475 110.3986,-163.9443 101.7535,-157.8195 99.8209,-164.5475\"/>\n",
       "</g>\n",
       "<!-- x[1]&#45;&gt;h1[2] -->\n",
       "<g id=\"edge6\" class=\"edge\">\n",
       "<title>x[1]&#45;&gt;h1[2]</title>\n",
       "<path fill=\"none\" stroke=\"#000000\" d=\"M51.6807,-136.9215C65.4666,-132.9617 84.8559,-127.3924 100.6411,-122.8584\"/>\n",
       "<polygon fill=\"#000000\" stroke=\"#000000\" points=\"101.7535,-126.1805 110.3986,-120.0557 99.8209,-119.4525 101.7535,-126.1805\"/>\n",
       "</g>\n",
       "<!-- x[2] -->\n",
       "<g id=\"node3\" class=\"node\">\n",
       "<title>x[2]</title>\n",
       "<ellipse fill=\"none\" stroke=\"#000000\" cx=\"34\" cy=\"-88\" rx=\"18\" ry=\"18\"/>\n",
       "<text text-anchor=\"middle\" x=\"34\" y=\"-84.3\" font-family=\"Times,serif\" font-size=\"14.00\" fill=\"#000000\">x[2]</text>\n",
       "</g>\n",
       "<!-- x[2]&#45;&gt;h1[0] -->\n",
       "<g id=\"edge7\" class=\"edge\">\n",
       "<title>x[2]&#45;&gt;h1[0]</title>\n",
       "<path fill=\"none\" stroke=\"#000000\" d=\"M51.6807,-82.9215C65.4666,-78.9617 84.8559,-73.3924 100.6411,-68.8584\"/>\n",
       "<polygon fill=\"#000000\" stroke=\"#000000\" points=\"101.7535,-72.1805 110.3986,-66.0557 99.8209,-65.4525 101.7535,-72.1805\"/>\n",
       "</g>\n",
       "<!-- x[2]&#45;&gt;h1[1] -->\n",
       "<g id=\"edge8\" class=\"edge\">\n",
       "<title>x[2]&#45;&gt;h1[1]</title>\n",
       "<path fill=\"none\" stroke=\"#000000\" d=\"M47.87,-99.9518C63.2819,-113.2323 88.3638,-134.8454 106.3622,-150.3547\"/>\n",
       "<polygon fill=\"#000000\" stroke=\"#000000\" points=\"104.2128,-153.1227 114.0731,-156.9991 108.7823,-147.8199 104.2128,-153.1227\"/>\n",
       "</g>\n",
       "<!-- x[2]&#45;&gt;h1[2] -->\n",
       "<g id=\"edge9\" class=\"edge\">\n",
       "<title>x[2]&#45;&gt;h1[2]</title>\n",
       "<path fill=\"none\" stroke=\"#000000\" d=\"M51.6807,-93.0785C65.4666,-97.0383 84.8559,-102.6076 100.6411,-107.1416\"/>\n",
       "<polygon fill=\"#000000\" stroke=\"#000000\" points=\"99.8209,-110.5475 110.3986,-109.9443 101.7535,-103.8195 99.8209,-110.5475\"/>\n",
       "</g>\n",
       "<!-- x[3] -->\n",
       "<g id=\"node4\" class=\"node\">\n",
       "<title>x[3]</title>\n",
       "<ellipse fill=\"none\" stroke=\"#000000\" cx=\"34\" cy=\"-34\" rx=\"18\" ry=\"18\"/>\n",
       "<text text-anchor=\"middle\" x=\"34\" y=\"-30.3\" font-family=\"Times,serif\" font-size=\"14.00\" fill=\"#000000\">x[3]</text>\n",
       "</g>\n",
       "<!-- x[3]&#45;&gt;h1[0] -->\n",
       "<g id=\"edge10\" class=\"edge\">\n",
       "<title>x[3]&#45;&gt;h1[0]</title>\n",
       "<path fill=\"none\" stroke=\"#000000\" d=\"M51.6807,-39.0785C65.4666,-43.0383 84.8559,-48.6076 100.6411,-53.1416\"/>\n",
       "<polygon fill=\"#000000\" stroke=\"#000000\" points=\"99.8209,-56.5475 110.3986,-55.9443 101.7535,-49.8195 99.8209,-56.5475\"/>\n",
       "</g>\n",
       "<!-- x[3]&#45;&gt;h1[1] -->\n",
       "<g id=\"edge11\" class=\"edge\">\n",
       "<title>x[3]&#45;&gt;h1[1]</title>\n",
       "<path fill=\"none\" stroke=\"#000000\" d=\"M44.4188,-48.9632C60.723,-72.3788 92.3974,-117.8686 111.7274,-145.6298\"/>\n",
       "<polygon fill=\"#000000\" stroke=\"#000000\" points=\"108.948,-147.7632 117.5345,-153.9698 114.6926,-143.7632 108.948,-147.7632\"/>\n",
       "</g>\n",
       "<!-- x[3]&#45;&gt;h1[2] -->\n",
       "<g id=\"edge12\" class=\"edge\">\n",
       "<title>x[3]&#45;&gt;h1[2]</title>\n",
       "<path fill=\"none\" stroke=\"#000000\" d=\"M47.87,-45.9518C63.2819,-59.2323 88.3638,-80.8454 106.3622,-96.3547\"/>\n",
       "<polygon fill=\"#000000\" stroke=\"#000000\" points=\"104.2128,-99.1227 114.0731,-102.9991 108.7823,-93.8199 104.2128,-99.1227\"/>\n",
       "</g>\n",
       "<!-- h2[0] -->\n",
       "<g id=\"node8\" class=\"node\">\n",
       "<title>h2[0]</title>\n",
       "<ellipse fill=\"none\" stroke=\"#000000\" cx=\"245\" cy=\"-61\" rx=\"18\" ry=\"18\"/>\n",
       "<text text-anchor=\"middle\" x=\"245\" y=\"-57.3\" font-family=\"Times,serif\" font-size=\"14.00\" fill=\"#000000\">h2[0]</text>\n",
       "</g>\n",
       "<!-- h1[0]&#45;&gt;h2[0] -->\n",
       "<g id=\"edge13\" class=\"edge\">\n",
       "<title>h1[0]&#45;&gt;h2[0]</title>\n",
       "<path fill=\"none\" stroke=\"#000000\" d=\"M146.0248,-61C164.8644,-61 194.6888,-61 216.6787,-61\"/>\n",
       "<polygon fill=\"#000000\" stroke=\"#000000\" points=\"216.7619,-64.5001 226.7619,-61 216.7619,-57.5001 216.7619,-64.5001\"/>\n",
       "</g>\n",
       "<!-- h2[1] -->\n",
       "<g id=\"node9\" class=\"node\">\n",
       "<title>h2[1]</title>\n",
       "<ellipse fill=\"none\" stroke=\"#000000\" cx=\"245\" cy=\"-169\" rx=\"18\" ry=\"18\"/>\n",
       "<text text-anchor=\"middle\" x=\"245\" y=\"-165.3\" font-family=\"Times,serif\" font-size=\"14.00\" fill=\"#000000\">h2[1]</text>\n",
       "</g>\n",
       "<!-- h1[0]&#45;&gt;h2[1] -->\n",
       "<g id=\"edge14\" class=\"edge\">\n",
       "<title>h1[0]&#45;&gt;h2[1]</title>\n",
       "<path fill=\"none\" stroke=\"#000000\" d=\"M141.4214,-73.389C161.6981,-92.106 200.3082,-127.7461 224.2324,-149.8299\"/>\n",
       "<polygon fill=\"#000000\" stroke=\"#000000\" points=\"222.0131,-152.5445 231.7351,-156.7555 226.7611,-147.4009 222.0131,-152.5445\"/>\n",
       "</g>\n",
       "<!-- h2[2] -->\n",
       "<g id=\"node10\" class=\"node\">\n",
       "<title>h2[2]</title>\n",
       "<ellipse fill=\"none\" stroke=\"#000000\" cx=\"245\" cy=\"-115\" rx=\"18\" ry=\"18\"/>\n",
       "<text text-anchor=\"middle\" x=\"245\" y=\"-111.3\" font-family=\"Times,serif\" font-size=\"14.00\" fill=\"#000000\">h2[2]</text>\n",
       "</g>\n",
       "<!-- h1[0]&#45;&gt;h2[2] -->\n",
       "<g id=\"edge15\" class=\"edge\">\n",
       "<title>h1[0]&#45;&gt;h2[2]</title>\n",
       "<path fill=\"none\" stroke=\"#000000\" d=\"M144.5151,-68.6224C164.0264,-77.6276 196.7074,-92.7111 219.4821,-103.2225\"/>\n",
       "<polygon fill=\"#000000\" stroke=\"#000000\" points=\"218.0226,-106.4036 228.5689,-107.4164 220.956,-100.0479 218.0226,-106.4036\"/>\n",
       "</g>\n",
       "<!-- h1[1]&#45;&gt;h2[0] -->\n",
       "<g id=\"edge16\" class=\"edge\">\n",
       "<title>h1[1]&#45;&gt;h2[0]</title>\n",
       "<path fill=\"none\" stroke=\"#000000\" d=\"M141.4214,-156.611C161.6981,-137.894 200.3082,-102.2539 224.2324,-80.1701\"/>\n",
       "<polygon fill=\"#000000\" stroke=\"#000000\" points=\"226.7611,-82.5991 231.7351,-73.2445 222.0131,-77.4555 226.7611,-82.5991\"/>\n",
       "</g>\n",
       "<!-- h1[1]&#45;&gt;h2[1] -->\n",
       "<g id=\"edge17\" class=\"edge\">\n",
       "<title>h1[1]&#45;&gt;h2[1]</title>\n",
       "<path fill=\"none\" stroke=\"#000000\" d=\"M146.0248,-169C164.8644,-169 194.6888,-169 216.6787,-169\"/>\n",
       "<polygon fill=\"#000000\" stroke=\"#000000\" points=\"216.7619,-172.5001 226.7619,-169 216.7619,-165.5001 216.7619,-172.5001\"/>\n",
       "</g>\n",
       "<!-- h1[1]&#45;&gt;h2[2] -->\n",
       "<g id=\"edge18\" class=\"edge\">\n",
       "<title>h1[1]&#45;&gt;h2[2]</title>\n",
       "<path fill=\"none\" stroke=\"#000000\" d=\"M144.5151,-161.3776C164.0264,-152.3724 196.7074,-137.2889 219.4821,-126.7775\"/>\n",
       "<polygon fill=\"#000000\" stroke=\"#000000\" points=\"220.956,-129.9521 228.5689,-122.5836 218.0226,-123.5964 220.956,-129.9521\"/>\n",
       "</g>\n",
       "<!-- h1[2]&#45;&gt;h2[0] -->\n",
       "<g id=\"edge19\" class=\"edge\">\n",
       "<title>h1[2]&#45;&gt;h2[0]</title>\n",
       "<path fill=\"none\" stroke=\"#000000\" d=\"M144.5151,-107.3776C164.0264,-98.3724 196.7074,-83.2889 219.4821,-72.7775\"/>\n",
       "<polygon fill=\"#000000\" stroke=\"#000000\" points=\"220.956,-75.9521 228.5689,-68.5836 218.0226,-69.5964 220.956,-75.9521\"/>\n",
       "</g>\n",
       "<!-- h1[2]&#45;&gt;h2[1] -->\n",
       "<g id=\"edge20\" class=\"edge\">\n",
       "<title>h1[2]&#45;&gt;h2[1]</title>\n",
       "<path fill=\"none\" stroke=\"#000000\" d=\"M144.5151,-122.6224C164.0264,-131.6276 196.7074,-146.7111 219.4821,-157.2225\"/>\n",
       "<polygon fill=\"#000000\" stroke=\"#000000\" points=\"218.0226,-160.4036 228.5689,-161.4164 220.956,-154.0479 218.0226,-160.4036\"/>\n",
       "</g>\n",
       "<!-- h1[2]&#45;&gt;h2[2] -->\n",
       "<g id=\"edge21\" class=\"edge\">\n",
       "<title>h1[2]&#45;&gt;h2[2]</title>\n",
       "<path fill=\"none\" stroke=\"#000000\" d=\"M146.0248,-115C164.8644,-115 194.6888,-115 216.6787,-115\"/>\n",
       "<polygon fill=\"#000000\" stroke=\"#000000\" points=\"216.7619,-118.5001 226.7619,-115 216.7619,-111.5001 216.7619,-118.5001\"/>\n",
       "</g>\n",
       "<!-- y -->\n",
       "<g id=\"node11\" class=\"node\">\n",
       "<title>y</title>\n",
       "<ellipse fill=\"none\" stroke=\"#000000\" cx=\"340\" cy=\"-115\" rx=\"18\" ry=\"18\"/>\n",
       "<text text-anchor=\"middle\" x=\"340\" y=\"-111.3\" font-family=\"Times,serif\" font-size=\"14.00\" fill=\"#000000\">y</text>\n",
       "</g>\n",
       "<!-- h2[0]&#45;&gt;y -->\n",
       "<g id=\"edge22\" class=\"edge\">\n",
       "<title>h2[0]&#45;&gt;y</title>\n",
       "<path fill=\"none\" stroke=\"#000000\" d=\"M260.6873,-69.917C275.539,-78.359 298.0698,-91.166 315.3269,-100.9753\"/>\n",
       "<polygon fill=\"#000000\" stroke=\"#000000\" points=\"313.8661,-104.1708 324.2894,-106.0698 317.3253,-98.0852 313.8661,-104.1708\"/>\n",
       "</g>\n",
       "<!-- h2[1]&#45;&gt;y -->\n",
       "<g id=\"edge23\" class=\"edge\">\n",
       "<title>h2[1]&#45;&gt;y</title>\n",
       "<path fill=\"none\" stroke=\"#000000\" d=\"M260.6873,-160.083C275.539,-151.641 298.0698,-138.834 315.3269,-129.0247\"/>\n",
       "<polygon fill=\"#000000\" stroke=\"#000000\" points=\"317.3253,-131.9148 324.2894,-123.9302 313.8661,-125.8292 317.3253,-131.9148\"/>\n",
       "</g>\n",
       "<!-- h2[2]&#45;&gt;y -->\n",
       "<g id=\"edge24\" class=\"edge\">\n",
       "<title>h2[2]&#45;&gt;y</title>\n",
       "<path fill=\"none\" stroke=\"#000000\" d=\"M263.317,-115C276.9851,-115 295.9167,-115 311.5492,-115\"/>\n",
       "<polygon fill=\"#000000\" stroke=\"#000000\" points=\"311.7393,-118.5001 321.7393,-115 311.7392,-111.5001 311.7393,-118.5001\"/>\n",
       "</g>\n",
       "</g>\n",
       "</svg>\n"
      ],
      "text/plain": [
       "<graphviz.dot.Digraph at 0x1c20b1de50>"
      ]
     },
     "execution_count": 49,
     "metadata": {},
     "output_type": "execute_result"
    }
   ],
   "source": [
    "mglearn.plots.plot_two_hidden_layer_graph()"
   ]
  },
  {
   "cell_type": "markdown",
   "metadata": {},
   "source": [
    "Having large neural networks made up of many of these layers of computation is what inspired the term “deep learning.”"
   ]
  },
  {
   "cell_type": "markdown",
   "metadata": {},
   "source": [
    "## TUNING NEURAL NETWORKS\n",
    "Let’s see how a MLP workds by applying the `MLPClassifier` to the `two_moons` dataset from earlier:"
   ]
  },
  {
   "cell_type": "code",
   "execution_count": 99,
   "metadata": {},
   "outputs": [
    {
     "data": {
      "text/plain": [
       "Text(0, 0.5, 'Feature 1')"
      ]
     },
     "execution_count": 99,
     "metadata": {},
     "output_type": "execute_result"
    },
    {
     "data": {
      "image/png": "[encoded data removed]",
      "text/plain": [
       "<Figure size 432x288 with 1 Axes>"
      ]
     },
     "metadata": {},
     "output_type": "display_data"
    }
   ],
   "source": [
    "from sklearn.neural_network import MLPClassifier\n",
    "from sklearn.datasets import make_moons\n",
    "\n",
    "\n",
    "X, y = make_moons(n_samples=100,  # 1. import data\n",
    "                  noise=0.25, \n",
    "                  random_state=3) \n",
    "\n",
    "\n",
    "X_train, X_test, y_train, y_test = train_test_split(X,  # 2. split data\n",
    "                                                    y, \n",
    "                                                    stratify=y,\n",
    "                                                    random_state=42)\n",
    "\n",
    "\n",
    "mlp = MLPClassifier(solver='lbfgs', random_state=0).fit(X_train, y_train) # 3. train model\n",
    "\n",
    "\n",
    "mglearn.plots.plot_2d_separator(mlp,       # 4. Plot boundary line\n",
    "                                X_train, \n",
    "                                fill=True, \n",
    "                                alpha=.3)\n",
    "\n",
    "\n",
    "mglearn.discrete_scatter(X_train[:, 0], X_train[:, 1], y_train) # 5. Plot data points\n",
    "\n",
    "\n",
    "plt.xlabel(\"Feature 0\")\n",
    "plt.ylabel(\"Feature 1\")"
   ]
  },
  {
   "cell_type": "markdown",
   "metadata": {},
   "source": [
    "The neural network learned a very nonlinear but relatively smooth decision boundary. \n",
    "\n",
    "We used solver='lbfgs':\n",
    "\n",
    "```\n",
    "mlp = MLPClassifier(solver='lbfgs', random_state=0).fit(X_train, y_train)\n",
    "```\n",
    "\n",
    "We will discuss tihs further later."
   ]
  },
  {
   "cell_type": "markdown",
   "metadata": {},
   "source": [
    "By default, the MLP uses 100 hidden nodes.\n",
    "\n",
    "This is quite a lot for this small dataset. \n",
    "\n",
    "We can reduce the number (which reduces the complexity of the model) and still get a good result."
   ]
  },
  {
   "cell_type": "code",
   "execution_count": 101,
   "metadata": {},
   "outputs": [
    {
     "data": {
      "text/plain": [
       "Text(0, 0.5, 'Feature 1')"
      ]
     },
     "execution_count": 101,
     "metadata": {},
     "output_type": "execute_result"
    },
    {
     "data": {
      "image/png": "[encoded data removed]",
      "text/plain": [
       "<Figure size 432x288 with 1 Axes>"
      ]
     },
     "metadata": {},
     "output_type": "display_data"
    }
   ],
   "source": [
    "mlp = MLPClassifier(solver='lbfgs', \n",
    "                    random_state=0, \n",
    "                    hidden_layer_sizes=[10]) # 1 hidden layer with 10 nodes\n",
    "\n",
    "mlp.fit(X_train, y_train)\n",
    "\n",
    "mglearn.plots.plot_2d_separator(mlp, X_train, fill=True, alpha=.3)\n",
    "\n",
    "mglearn.discrete_scatter(X_train[:, 0], X_train[:, 1], y_train)\n",
    "\n",
    "plt.xlabel(\"Feature 0\")\n",
    "plt.ylabel(\"Feature 1\")"
   ]
  },
  {
   "cell_type": "markdown",
   "metadata": {},
   "source": [
    "With only 10 hidden units, the decision boundary is less smooth. \n",
    "\n",
    "The default nonlinearity is relu. \n",
    "\n",
    "With a single hidden layer, this means the decision function will be made up of 10 straight line segments. \n",
    "\n"
   ]
  },
  {
   "cell_type": "markdown",
   "metadata": {},
   "source": [
    "If we want a smoother decision boundary, we can:\n",
    "- add more hidden units \n",
    "- add a second hidden layer\n",
    "- use the tanh nonlinearity "
   ]
  },
  {
   "cell_type": "code",
   "execution_count": 103,
   "metadata": {},
   "outputs": [
    {
     "data": {
      "text/plain": [
       "Text(0, 0.5, 'Feature 1')"
      ]
     },
     "execution_count": 103,
     "metadata": {},
     "output_type": "execute_result"
    },
    {
     "data": {
      "image/png": "[encoded data removed]",
      "text/plain": [
       "<Figure size 432x288 with 1 Axes>"
      ]
     },
     "metadata": {},
     "output_type": "display_data"
    }
   ],
   "source": [
    "mlp = MLPClassifier(solver='lbfgs', random_state=0,\n",
    "                    hidden_layer_sizes=[10, 10]) # two hidden layers, with 10 units each\n",
    "\n",
    "mlp.fit(X_train, y_train)\n",
    "mglearn.plots.plot_2d_separator(mlp, X_train, fill=True, alpha=.3)\n",
    "mglearn.discrete_scatter(X_train[:, 0], X_train[:, 1], y_train)\n",
    "plt.xlabel(\"Feature 0\")\n",
    "plt.ylabel(\"Feature 1\")"
   ]
  },
  {
   "cell_type": "code",
   "execution_count": null,
   "metadata": {},
   "outputs": [],
   "source": [
    "mlp = MLPClassifier(solver='lbfgs', \n",
    "                    activation='tanh', # tanh nonlinearity\n",
    "                    random_state=0, \n",
    "                    hidden_layer_sizes=[10, 10]) # two hidden layers, with 10 units each\n",
    "\n",
    "mlp.fit(X_train, y_train)\n",
    "mglearn.plots.plot_2d_separator(mlp, X_train, fill=True, alpha=.3)\n",
    "mglearn.discrete_scatter(X_train[:, 0], X_train[:, 1], y_train)\n",
    "plt.xlabel(\"Feature 0\")\n",
    "plt.ylabel(\"Feature 1\")"
   ]
  },
  {
   "cell_type": "markdown",
   "metadata": {},
   "source": [
    "As you can see there are many ways to control the complexity of a neural network: \n",
    "- number of hidden layers\n",
    "- number of units in each hidden layer\n",
    "... there are actually several more (e.g. regularization)\n",
    "\n",
    "An important property of neural networks is that their weights are set randomly before learning is started, and this random initialization affects the model that is learned. That means that even when using exactly the same parameters, we can obtain very different models when using different random seeds. If the networks are large, and their complexity is chosen properly, this should not affect accuracy too much, but it is worth keeping in mind (particularly for smaller networks). Figure 2-53 shows plots of several models, all learned with the same settings of the parameters:"
   ]
  },
  {
   "cell_type": "code",
   "execution_count": 52,
   "metadata": {},
   "outputs": [
    {
     "data": {
      "image/png": "[encoded data removed]",
      "text/plain": [
       "<Figure size 1440x576 with 8 Axes>"
      ]
     },
     "metadata": {},
     "output_type": "display_data"
    }
   ],
   "source": [
    "fig, axes = plt.subplots(2, 4, figsize=(20, 8))\n",
    "for i, ax in enumerate(axes.ravel()):\n",
    "    mlp = MLPClassifier(solver='lbfgs', random_state=i,\n",
    "                        hidden_layer_sizes=[100, 100])\n",
    "    mlp.fit(X_train, y_train)\n",
    "    mglearn.plots.plot_2d_separator(mlp, X_train, fill=True, alpha=.3, ax=ax)\n",
    "    mglearn.discrete_scatter(X_train[:, 0], X_train[:, 1], y_train, ax=ax)"
   ]
  },
  {
   "cell_type": "markdown",
   "metadata": {},
   "source": [
    "To get a better understanding of neural networks on real-world data,let’s apply the MLPClassifier to the Breast Cancer dataset. We startwith the default parameters:"
   ]
  },
  {
   "cell_type": "code",
   "execution_count": null,
   "metadata": {},
   "outputs": [],
   "source": [
    "print(\"Cancer data per-feature maxima:\\n{}\".format(cancer.data.max(axis=0)))"
   ]
  },
  {
   "cell_type": "code",
   "execution_count": null,
   "metadata": {},
   "outputs": [],
   "source": [
    "X_train, X_test, y_train, y_test = train_test_split(\n",
    "    cancer.data, cancer.target, random_state=0)\n",
    "\n",
    "mlp = MLPClassifier(random_state=42)\n",
    "mlp.fit(X_train, y_train)\n",
    "\n",
    "print(\"Accuracy on training set: {:.2f}\".format(mlp.score(X_train, y_train)))\n",
    "print(\"Accuracy on test set: {:.2f}\".format(mlp.score(X_test, y_test)))"
   ]
  },
  {
   "cell_type": "markdown",
   "metadata": {},
   "source": [
    "The accuracy of the MLP is quite good, but not as good as the other models. As in the earlier SVC example, this is likely due to scaling of the data. Neural networks also expect all input features to vary in a similar way, and ideally to have a mean of 0, and a variance of 1. We must rescale our data so that it fulfills these requirements. Again, we will do this by hand here, but we’ll introduce the StandardScaler to do this automatically in Chapter 3:"
   ]
  },
  {
   "cell_type": "code",
   "execution_count": null,
   "metadata": {},
   "outputs": [],
   "source": [
    "# compute the mean value per feature on the training set\n",
    "mean_on_train = X_train.mean(axis=0)\n",
    "# compute the standard deviation of each feature on the training set\n",
    "std_on_train = X_train.std(axis=0)\n",
    "\n",
    "# subtract the mean, and scale by inverse standard deviation\n",
    "# afterward, mean=0 and std=1\n",
    "X_train_scaled = (X_train - mean_on_train) / std_on_train\n",
    "# use THE SAME transformation (using training mean and std) on the test set\n",
    "X_test_scaled = (X_test - mean_on_train) / std_on_train\n",
    "\n",
    "mlp = MLPClassifier(random_state=0)\n",
    "mlp.fit(X_train_scaled, y_train)\n",
    "\n",
    "print(\"Accuracy on training set: {:.3f}\".format(\n",
    "    mlp.score(X_train_scaled, y_train)))\n",
    "print(\"Accuracy on test set: {:.3f}\".format(mlp.score(X_test_scaled, y_test)))"
   ]
  },
  {
   "cell_type": "markdown",
   "metadata": {},
   "source": [
    "The results are much better after scaling, and already quite competitive. We got a warning from the model, though, that tells us that the maximum number of iterations has been reached. This is part of the adam algorithm for learning the model, and tells us that we should increase the number of iterations:"
   ]
  },
  {
   "cell_type": "code",
   "execution_count": null,
   "metadata": {},
   "outputs": [],
   "source": [
    "mlp = MLPClassifier(max_iter=1000, random_state=0)\n",
    "mlp.fit(X_train_scaled, y_train)\n",
    "\n",
    "print(\"Accuracy on training set: {:.3f}\".format(\n",
    "    mlp.score(X_train_scaled, y_train)))\n",
    "print(\"Accuracy on test set: {:.3f}\".format(mlp.score(X_test_scaled, y_test)))"
   ]
  },
  {
   "cell_type": "markdown",
   "metadata": {},
   "source": [
    "Increasing the number of iterations only increased the training set performance, not the generalization performance. Still, the model is performing quite well. As there is some gap between the training and the test performance, we might try to decrease the model’s complexity to get better generalization performance. Here, we choose to increase the alpha parameter (quite aggressively, from 0.0001 to 1) to add stronger regularization of the weights:"
   ]
  },
  {
   "cell_type": "code",
   "execution_count": null,
   "metadata": {},
   "outputs": [],
   "source": [
    "mlp = MLPClassifier(max_iter=1000, alpha=1, random_state=0)\n",
    "mlp.fit(X_train_scaled, y_train)\n",
    "\n",
    "print(\"Accuracy on training set: {:.3f}\".format(\n",
    "    mlp.score(X_train_scaled, y_train)))\n",
    "print(\"Accuracy on test set: {:.3f}\".format(mlp.score(X_test_scaled, y_test)))"
   ]
  },
  {
   "cell_type": "markdown",
   "metadata": {},
   "source": [
    "This leads to a performance on par with the best models so far.12\n",
    "\n",
    "While it is possible to analyze what a neural network has learned, this is usually much trickier than analyzing a linear model or a tree-based model. One way to inspect what was learned is to look at the weights in the model. You can see an example of this in the scikit-learn example gallery. For the Breast Cancer dataset, this might be a bit hard to understand. The following plot (Figure 2-54) shows the weights that were learned connecting the input to the first hidden layer. The rows in this plot correspond to the 30 input features, while the columns correspond to the 100 hidden units. Light colors represent large positive values, while dark colors represent negative values:"
   ]
  },
  {
   "cell_type": "code",
   "execution_count": null,
   "metadata": {},
   "outputs": [],
   "source": [
    "plt.figure(figsize=(20, 5))\n",
    "plt.imshow(mlp.coefs_[0], interpolation='none', cmap='viridis')\n",
    "plt.yticks(range(30), cancer.feature_names)\n",
    "plt.xlabel(\"Columns in weight matrix\")\n",
    "plt.ylabel(\"Input feature\")\n",
    "plt.colorbar()"
   ]
  },
  {
   "cell_type": "markdown",
   "metadata": {},
   "source": [
    "While the MLPClassifier and MLPRegressor provide easy-to-use interfaces for the most common neural network architectures, they only capture a small subset of what is possible with neural networks. If you are interested in working with more flexible or larger models, we encourage you to look beyond scikit-learn into the fantastic deep learning libraries that are out there. For Python users, the most well-established are keras, lasagna, and tensor-flow. lasagna builds on the theano library, while keras can use either tensor-flow or theano. These libraries provide a much more flexible interface to build neural networks and track the rapid progress in deep learning research. All of the popular deep learning libraries also allow the use of high-performance graphics processing units (GPUs), which scikit-learn does not support. Using GPUs allows us to accelerate computations by factors of 10x to 100x, and they are essential for applying deep learning methods to large-scale datasets."
   ]
  },
  {
   "cell_type": "markdown",
   "metadata": {},
   "source": [
    "STRENGTHS, WEAKNESSES, AND PARAMETERS\n",
    "Neural networks have reemerged as state-of-the-art models in many applications of machine learning. One of their main advantages is that they are able to capture information contained in large amounts of data and build incredibly complex models. Given enough computation time, data, and careful tuning of the parameters, neural networks often beat other machine learning algorithms (for classification and regression tasks).\n",
    "\n",
    "This brings us to the downsides. Neural networks—particularly the large and powerful ones—often take a long time to train. They also require careful preprocessing of the data, as we saw here. Similarly to SVMs, they work best with “homogeneous” data, where all the features have similar meanings. For data that has very different kinds of features, tree-based models might work better. Tuning neural network parameters is also an art unto itself. In our experiments, we barely scratched the surface of possible ways to adjust neural network models and how to train them."
   ]
  },
  {
   "cell_type": "markdown",
   "metadata": {},
   "source": [
    "Estimating complexity in neural networks\n",
    "The most important parameters are the number of layers and the number of hidden units per layer. You should start with one or two hidden layers, and possibly expand from there. The number of nodes per hidden layer is often similar to the number of input features, but rarely higher than in the low to mid-thousands.\n",
    "\n",
    "A helpful measure when thinking about the model complexity of a neural network is the number of weights or coefficients that are learned. If you have a binary classification dataset with 100 features, and you have 100 hidden units, then there are 100 * 100 = 10,000 weights between the input and the first hidden layer. There are also 100 * 1 = 100 weights between the hidden layer and the output layer, for a total of around 10,100 weights. If you add a second hidden layer with 100 hidden units, there will be another 100 * 100 = 10,000 weights from the first hidden layer to the second hidden layer, resulting in a total of 20,100 weights. If instead you use one layer with 1,000 hidden units, you are learning 100 * 1,000 = 100,000 weights from the input to the hidden layer and 1,000 * 1 weights from the hidden layer to the output layer, for a total of 101,000. If you add a second hidden layer you add 1,000 * 1,000 = 1,000,000 weights, for a whopping total of 1,101,000—50 times larger than the model with two hidden layers of size 100.\n",
    "\n",
    "A common way to adjust parameters in a neural network is to first create a network that is large enough to overfit, making sure that the task can actually be learned by the network. Then, once you know the training data can be learned, either shrink the network or increase alpha to add regularization, which will improve generalization performance."
   ]
  },
  {
   "cell_type": "markdown",
   "metadata": {},
   "source": [
    "2.5 Summary and Outlook\n",
    "We started this chapter with a discussion of model complexity, then discussed generalization, or learning a model that is able to perform well on new, previously unseen data. This led us to the concepts of underfitting, which describes a model that cannot capture the variations present in the training data, and overfitting, which describes a model that focuses too much on the training data and is not able to generalize to new data very well.\n",
    "\n",
    "We then discussed a wide array of machine learning models for classification and regression, what their advantages and disadvantages are, and how to control model complexity for each of them. We saw that for many of the algorithms, setting the right parameters is important for good performance. Some of the algorithms are also sensitive to how we represent the input data, and in particular to how the features are scaled. Therefore, blindly applying an algorithm to a dataset without understanding the assumptions the model makes and the meanings of the parameter settings will rarely lead to an accurate model.\n",
    "\n",
    "This chapter contains a lot of information about the algorithms, and it is not necessary for you to remember all of these details for the following chapters. However, some knowledge of the models described here—and which to use in a specific situation—is important for successfully applying machine learning in practice. Here is a quick summary of when to use each model:\n",
    "\n",
    "Nearest neighbors\n",
    "For small datasets, good as a baseline, easy to explain.\n",
    "\n",
    "Linear models\n",
    "Go-to as a first algorithm to try, good for very large datasets, good for very high-dimensional data.\n",
    "\n",
    "Naive Bayes\n",
    "Only for classification. Even faster than linear models, good for very large datasets and high-dimensional data. Often less accurate than linear models.\n",
    "\n",
    "Decision trees\n",
    "Very fast, don’t need scaling of the data, can be visualized and easily explained.\n",
    "\n",
    "Random forests\n",
    "Nearly always perform better than a single decision tree, very robust and powerful. Don’t need scaling of data. Not good for very high-dimensional sparse data.\n",
    "\n",
    "Gradient boosted decision trees\n",
    "Often slightly more accurate than random forests. Slower to train but faster to predict than random forests, and smaller in memory. Need more parameter tuning than random forests.\n",
    "\n",
    "Support vector machines\n",
    "Powerful for medium-sized datasets of features with similar meaning. Require scaling of data, sensitive to parameters.\n",
    "\n",
    "Neural networks\n",
    "Can build very complex models, particularly for large datasets. Sensitive to scaling of the data and to the choice of parameters. Large models need a long time to train.\n",
    "\n",
    "When working with a new dataset, it is in general a good idea to start with a simple model, such as a linear model or a naive Bayes or nearest neighbors classifier, and see how far you can get. After understanding more about the data, you can consider moving to an algorithm that can build more complex models, such as random forests, gradient boosted decision trees, SVMs, or neural networks."
   ]
  },
  {
   "cell_type": "code",
   "execution_count": null,
   "metadata": {},
   "outputs": [],
   "source": []
  }
 ],
 "metadata": {
  "kernelspec": {
   "display_name": "Python 3",
   "language": "python",
   "name": "python3"
  },
  "language_info": {
   "codemirror_mode": {
    "name": "ipython",
    "version": 3
   },
   "file_extension": ".py",
   "mimetype": "text/x-python",
   "name": "python",
   "nbconvert_exporter": "python",
   "pygments_lexer": "ipython3",
   "version": "3.7.4"
  }
 },
 "nbformat": 4,
 "nbformat_minor": 2
}
