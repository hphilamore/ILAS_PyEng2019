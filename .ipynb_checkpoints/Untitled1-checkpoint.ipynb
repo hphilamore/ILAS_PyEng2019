{
 "cells": [
  {
   "cell_type": "code",
   "execution_count": 3,
   "metadata": {},
   "outputs": [],
   "source": [
    "import numpy as np\n",
    "import imageio\n",
    "\n",
    "# Cell States\n",
    "# 0 = Clear, 1 = Fuel, 2 = Fire\n",
    "\n",
    "prob = .6                # probability of a cell being fuel\n",
    "timesteps = 300         # simulation time\n",
    "height = 100\n",
    "width = 100\n",
    "#terrain_size = [100,100] # grid dimensions: 10000 cells\n",
    "\n",
    "C = np.array([139,69,19]) # Clear\n",
    "F = np.array([0,255,0]) # Fuel\n",
    "B = np.array([255,0,0])   # Burning"
   ]
  },
  {
   "cell_type": "code",
   "execution_count": 4,
   "metadata": {},
   "outputs": [],
   "source": [
    "# array : grid at each timestep\n",
    "#states = np.zeros((total_time,*terrain_size)) \n",
    "\n",
    "# # array : grid at each timestep\n",
    "states = np.zeros((timesteps, height, width, 3), dtype=np.uint8) \n",
    "\n",
    "init = np.random.choice([0,1],             # possible cell value\n",
    "                        size=[height, width], # size of array\n",
    "                        p=[1-prob,prob])   # probability of each value\n",
    "\n",
    "init = init.reshape(height, width, 1)\n",
    "\n",
    "states[0] = np.where(init == 1, F, C)\n",
    "\n",
    "states[0,height//2, width//2] = B\n",
    "\n",
    "for t in range(1,timesteps):\n",
    "    \n",
    "    states[t] = states[t-1].copy()\n",
    "    \n",
    "    for x in range(1,height-1):\n",
    "        \n",
    "        for y in range(1,width-1):\n",
    "            \n",
    "            if np.array_equal(states[t-1,x,y], B):\n",
    "                \n",
    "                states[t,x,y] = C    # ... clear cell                        \n",
    "\n",
    "                if np.array_equal(states[t-1,x+1,y], F):\n",
    "                                states[t,x+1,y] = B\n",
    "\n",
    "                if np.array_equal(states[t-1,x-1,y], F):\n",
    "                                states[t,x-1,y] = B    \n",
    "\n",
    "                if np.array_equal(states[t-1,x,y+1], F):\n",
    "                                states[t,x,y+1] = B    \n",
    "\n",
    "                if np.array_equal(states[t-1,x,y-1], F):\n",
    "                                states[t,x,y-1] = B   \n",
    "                                \n",
    "# # Crop\n",
    "cropped = states[:200, 1:height-1, 1:width-1]\n",
    "\n",
    "imageio.mimsave('./video___.gif', cropped)"
   ]
  },
  {
   "cell_type": "code",
   "execution_count": null,
   "metadata": {},
   "outputs": [],
   "source": []
  }
 ],
 "metadata": {
  "kernelspec": {
   "display_name": "Python 3",
   "language": "python",
   "name": "python3"
  },
  "language_info": {
   "codemirror_mode": {
    "name": "ipython",
    "version": 3
   },
   "file_extension": ".py",
   "mimetype": "text/x-python",
   "name": "python",
   "nbconvert_exporter": "python",
   "pygments_lexer": "ipython3",
   "version": "3.7.4"
  }
 },
 "nbformat": 4,
 "nbformat_minor": 2
}
