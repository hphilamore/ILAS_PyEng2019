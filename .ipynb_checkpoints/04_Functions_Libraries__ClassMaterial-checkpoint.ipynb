{
 "cells": [
  {
   "cell_type": "markdown",
   "metadata": {
    "collapsed": true,
    "slideshow": {
     "slide_type": "slide"
    }
   },
   "source": [
    "# 04 Functions and Libraries\n",
    "## CLASS MATERIAL\n",
    "\n",
    "<br> <a href='#Function'>1. What is a Function?</a>\n",
    "<br> <a href='#AnatomyFunction'>2. The Anatomy of a Function</a> \n",
    "<br> <a href='#FunctionChecklist'>3. Function Checklist</a> \n",
    "<br> <a href='#WhyUseFunctions'>4. Why Use Functions</a> \n",
    "<br><a href='#return'>5. `return`</a> \n",
    "<br><a href='#Scope'>6. Scope</a> \n",
    "<br><a href='#StoringFunctionsVariables'>7. Storing Functions and Variables</a>\n",
    "<br><a href='#WritingOwnLibrary'>8. Writing your own Library</a>\n",
    "<br><a href='#Namespaces'>9. Namespaces</a>\n",
    "<br><a href='#VariableScope'>10. Variable Scope</a>\n",
    "<br><a href='#RulesInputtingArguments'>11. Rules for Inputting Arguments</a>\n",
    "<br><a href='#Vectorization'>12. Vectorization of a Function</a>\n",
    "<br><a href='#ReviewExercises'>13. Review Exercises</a>"
   ]
  },
  {
   "cell_type": "markdown",
   "metadata": {
    "slideshow": {
     "slide_type": "slide"
    }
   },
   "source": [
    "# Download the new class notes.\n",
    "__Navigate to the directory where your files are stored.__\n",
    "\n",
    "__Update the course notes by downloading the changes__"
   ]
  },
  {
   "cell_type": "markdown",
   "metadata": {
    "slideshow": {
     "slide_type": "slide"
    }
   },
   "source": [
    "\n",
    "\n",
    "\n",
    "##### Windows\n",
    "Search for __Git Bash__ in the programs menu.\n",
    "\n",
    "Select __Git Bash__, a terminal will open.\n",
    "\n",
    "Use `cd` to navigate to *inside* the __ILAS_PyEng2019__ repository you downloaded. \n",
    "\n",
    "Run the command:\n",
    ">`./automerge`\n",
    "\n",
    "\n",
    "\n",
    "##### Mac\n",
    "Open a terminal. \n",
    "\n",
    "Use `cd` to navigate to *inside* the __ILAS_PyEng2019__ repository you downloaded. \n",
    "\n",
    "Run the command:\n",
    ">`sudo ./automerge`\n",
    "\n",
    "Enter your password when prompted. "
   ]
  },
  {
   "cell_type": "markdown",
   "metadata": {
    "slideshow": {
     "slide_type": "slide"
    }
   },
   "source": [
    "### Lesson Goal\n",
    "\n",
    "1. Write your own functions.\n",
    "1. Store functions and variable that you have written in external files and import them to your programs.\n",
    "\n",
    "\n",
    "### Fundamental programming concepts\n",
    " - Function generation\n",
    " - File hierarchy\n",
    " - Making your code more readable by storing it in multiple files\n",
    " - Using specific function constructs to write code more efficiently"
   ]
  },
  {
   "cell_type": "markdown",
   "metadata": {
    "slideshow": {
     "slide_type": "slide"
    }
   },
   "source": [
    "<a id='Summary'></a>\n",
    "# Primer Summary\n",
    "\n",
    "\n",
    "\n",
    " - Functions are defined using the `def` keyword.\n",
    " - Functions contain indented statements to execute when the function is called.\n",
    " - Global variables can be used eveywhere.\n",
    " - Local variables can be used within the function in which they are defined.\n",
    " - Function arguments (inputs) are declared between () parentheses, seperated by commas.\n",
    " - Function arguments muct be specified each time a function is called. \n",
    " - Default arguments do not need to be specified when a function is called unless different values are to be used. \n",
    " - The keyword used to define the function outputs is `return`"
   ]
  },
  {
   "cell_type": "markdown",
   "metadata": {
    "slideshow": {
     "slide_type": "slide"
    }
   },
   "source": [
    "<a id='Function'></a>\n",
    "## 1. What is a Function?\n",
    "\n",
    "Functions are one of the most important concepts in programming.\n",
    "\n",
    "__Function__: A named section of a code that performs a specific task."
   ]
  },
  {
   "cell_type": "markdown",
   "metadata": {
    "slideshow": {
     "slide_type": "slide"
    }
   },
   "source": [
    "In mathematics, a function is a relation between __inputs__ and a set of permissible __outputs__.\n",
    "\n",
    "Example: The *function* relating $t$ to $t^2$ is:\n",
    "$$ \n",
    "f(t) = t \\times t\n",
    "$$"
   ]
  },
  {
   "cell_type": "markdown",
   "metadata": {
    "slideshow": {
     "slide_type": "slide"
    }
   },
   "source": [
    "In programming, a function behaves in a similar way. \n",
    "\n",
    "A function can take data as __input(s)__ and return __output(s)__.\n",
    "\n",
    "A simple function example:\n",
    " - Inputs: the coordinates of the vertices of a triangle.\n",
    " - Output: the area of the triangle. "
   ]
  },
  {
   "cell_type": "markdown",
   "metadata": {
    "slideshow": {
     "slide_type": "slide"
    }
   },
   "source": [
    "Note : Not all functions take inputs and not all functions return outputs as we will see...\n",
    "\n",
    " \n"
   ]
  },
  {
   "cell_type": "markdown",
   "metadata": {
    "slideshow": {
     "slide_type": "slide"
    }
   },
   "source": [
    "You are already familiar with some *built in* Python functions..."
   ]
  },
  {
   "cell_type": "markdown",
   "metadata": {
    "collapsed": true,
    "slideshow": {
     "slide_type": "slide"
    }
   },
   "source": [
    "`print()` \n",
    " \n",
    " __Input:__ a value or variable name specified within the parentheses\n",
    " \n",
    " __Output:__ a visible representation\n",
    "  "
   ]
  },
  {
   "cell_type": "code",
   "execution_count": 2,
   "metadata": {},
   "outputs": [
    {
     "name": "stdout",
     "output_type": "stream",
     "text": [
      "Today we will learn about functions\n"
     ]
    }
   ],
   "source": [
    "print(\"Today we will learn about functions\")"
   ]
  },
  {
   "cell_type": "markdown",
   "metadata": {
    "collapsed": true,
    "slideshow": {
     "slide_type": "slide"
    }
   },
   "source": [
    "`len()` \n",
    "  \n",
    "__Input:__ a data structure or variable name (asigned to a data structure) specified within the parentheses.\n",
    "\n",
    "__Output:__ the number of items in the data structure (in one dimension).\n",
    "  "
   ]
  },
  {
   "cell_type": "code",
   "execution_count": 3,
   "metadata": {},
   "outputs": [
    {
     "name": "stdout",
     "output_type": "stream",
     "text": [
      "35\n"
     ]
    }
   ],
   "source": [
    "print(len(\"Today we will learn about functions\"))"
   ]
  },
  {
   "cell_type": "markdown",
   "metadata": {
    "slideshow": {
     "slide_type": "slide"
    }
   },
   "source": [
    "`sorted()` \n",
    "\n",
    "__Input:__ a data structure or variable name (asigned to a data structure) specified within the parentheses. \n",
    "\n",
    "__Output:__ the data structure sorted by a rule determined by the data type.\n",
    "   "
   ]
  },
  {
   "cell_type": "code",
   "execution_count": 4,
   "metadata": {},
   "outputs": [
    {
     "name": "stdout",
     "output_type": "stream",
     "text": [
      "[' ', ' ', ' ', ' ', ' ', 'T', 'a', 'a', 'a', 'b', 'c', 'd', 'e', 'e', 'f', 'i', 'i', 'l', 'l', 'l', 'n', 'n', 'n', 'o', 'o', 'o', 'r', 's', 't', 't', 'u', 'u', 'w', 'w', 'y']\n"
     ]
    }
   ],
   "source": [
    "print(sorted(\"Today we will learn about functions\"))"
   ]
  },
  {
   "cell_type": "markdown",
   "metadata": {
    "slideshow": {
     "slide_type": "slide"
    }
   },
   "source": [
    "Most Python programs contain a number of *custom functions*. \n",
    "\n",
    "These are functions, created by the programmer (you!) to perform a specific task."
   ]
  },
  {
   "cell_type": "markdown",
   "metadata": {
    "slideshow": {
     "slide_type": "slide"
    }
   },
   "source": [
    "<a id='AnatomyFunction'></a>\n",
    "## 2. The Anatomy of a Function\n",
    "\n",
    "\n",
    "\n",
    "\n",
    "\n",
    "Here is a python function:\n",
    "```python\n",
    "def sum_and_increment(a, b):    \n",
    "    c = a + b + 1\n",
    "    return c\n",
    "```\n",
    "            \n",
    "\n"
   ]
  },
  {
   "cell_type": "markdown",
   "metadata": {
    "slideshow": {
     "slide_type": "slide"
    }
   },
   "source": [
    "<a id='FunctionChecklist'></a>\n",
    "## 3. Function Checklist\n",
    "\n",
    "A function is __declared__ using:\n",
    "1. The definition keyword, __`def`__.\n",
    "1. A __function name__ of your choice.\n",
    "1. __() parentheses__ which optionally contain __arguments__ (the *inputs* to the function)\n",
    "1. __: a colon__ character\n",
    "1. A __documentation string__ that says what the function does.\n",
    "1. The __body code__ to be executed when the function is *called*.\n",
    "1. An optional __return__ statement (the *output* of the function)\n",
    "\n",
    "<img src=\"img/function_anotated.png\" alt=\"Drawing\" style=\"width: 600px;\"/>\n"
   ]
  },
  {
   "cell_type": "markdown",
   "metadata": {
    "slideshow": {
     "slide_type": "slide"
    }
   },
   "source": [
    "<img src=\"img/function_anotated.png\" alt=\"Drawing\" style=\"width: 600px;\"/>"
   ]
  },
  {
   "cell_type": "code",
   "execution_count": 5,
   "metadata": {
    "slideshow": {
     "slide_type": "-"
    }
   },
   "outputs": [],
   "source": [
    "def sum_and_increment(a, b): \n",
    "    \"\"\"\"\n",
    "    Return the sum of a and b, plus 1\n",
    "    \"\"\"\n",
    "    c = a + b + 1\n",
    "    return c\n",
    "\n",
    "d =sum_and_increment(2, 3)"
   ]
  },
  {
   "cell_type": "markdown",
   "metadata": {
    "slideshow": {
     "slide_type": "slide"
    }
   },
   "source": [
    "To execute (*call*) the function, type:\n",
    " - a variable to store the output if the function `return`s a value\n",
    " - the function name\n",
    " - any arguments \n",
    " \n",
    " ```d =sum_and_increment(2, 3)```"
   ]
  },
  {
   "cell_type": "markdown",
   "metadata": {
    "slideshow": {
     "slide_type": "slide"
    }
   },
   "source": [
    "A function does not necessarily:\n",
    "- take input arguments\n",
    "- return output variables\n",
    "\n"
   ]
  },
  {
   "cell_type": "markdown",
   "metadata": {
    "slideshow": {
     "slide_type": "slide"
    }
   },
   "source": [
    "__Example__\n",
    "<br>A function with:\n",
    "- no input arguments - empty () parentheses\n",
    "- no output variables - no `return` statement "
   ]
  },
  {
   "cell_type": "code",
   "execution_count": 6,
   "metadata": {},
   "outputs": [
    {
     "name": "stdout",
     "output_type": "stream",
     "text": [
      "The function 'print_message' has been called.\n"
     ]
    }
   ],
   "source": [
    "def print_message():\n",
    "    print(\"The function 'print_message' has been called.\")\n",
    "\n",
    "print_message()"
   ]
  },
  {
   "cell_type": "markdown",
   "metadata": {
    "slideshow": {
     "slide_type": "slide"
    }
   },
   "source": [
    "<a id='WhyUseFunctions'></a>\n",
    "## 4. Why use Functions?\n",
    "\n",
    "There are two main reasons for using functions:\n",
    "\n",
    "1. To make the code more easy-to-read/understand\n",
    "1. To avoid repetition"
   ]
  },
  {
   "cell_type": "markdown",
   "metadata": {
    "slideshow": {
     "slide_type": "slide"
    }
   },
   "source": [
    "<a id='WritingFunctionsCodeReadable'></a>\n",
    "### Writing Functions to Make Code More Readable\n",
    "\n",
    "Writing functions allows us to group lines of code that belong to a single operation.\n",
    "\n",
    "\n",
    "\n"
   ]
  },
  {
   "cell_type": "markdown",
   "metadata": {
    "slideshow": {
     "slide_type": "slide"
    }
   },
   "source": [
    "As you begin to write longer code, the benefit of using functions becomes more apparent.\n",
    "\n",
    "In the seminar on Control Flow we studied `if` and `else`..."
   ]
  },
  {
   "cell_type": "markdown",
   "metadata": {
    "slideshow": {
     "slide_type": "slide"
    }
   },
   "source": [
    "In the example below, the program repeats the series of `if-elif-else` statements for values in the range 0 to 3."
   ]
  },
  {
   "cell_type": "code",
   "execution_count": 7,
   "metadata": {},
   "outputs": [
    {
     "name": "stdout",
     "output_type": "stream",
     "text": [
      "0\n",
      "1\n",
      "8\n"
     ]
    }
   ],
   "source": [
    "for x in range(3):   \n",
    "    if x > 10:\n",
    "        print(0)\n",
    "    elif x > 5:\n",
    "        print(x*x)\n",
    "    elif x > 0:\n",
    "        print(x**3)\n",
    "    else:\n",
    "        print(x)"
   ]
  },
  {
   "cell_type": "markdown",
   "metadata": {
    "slideshow": {
     "slide_type": "slide"
    }
   },
   "source": [
    "We can encapsulate the code that we want to repeat in a function"
   ]
  },
  {
   "cell_type": "code",
   "execution_count": 8,
   "metadata": {},
   "outputs": [],
   "source": [
    "def process_value(x):\n",
    "    \"Return a value that depends on the input value x \"\n",
    "    if x > 10:\n",
    "        print(0)\n",
    "    elif x > 5:\n",
    "        print(x*x)\n",
    "    elif x > 0:\n",
    "        print(x**3)\n",
    "    else:\n",
    "        print(x)"
   ]
  },
  {
   "cell_type": "markdown",
   "metadata": {
    "slideshow": {
     "slide_type": "slide"
    }
   },
   "source": [
    "\n",
    "\n",
    "To call the function\n",
    "<br>e.g. for the input argument 3"
   ]
  },
  {
   "cell_type": "code",
   "execution_count": 9,
   "metadata": {},
   "outputs": [
    {
     "name": "stdout",
     "output_type": "stream",
     "text": [
      "125\n"
     ]
    }
   ],
   "source": [
    "process_value(5)"
   ]
  },
  {
   "cell_type": "markdown",
   "metadata": {
    "slideshow": {
     "slide_type": "slide"
    }
   },
   "source": [
    "... which makes our original code that applies the `if-elif-else` statements to all values in the range 0 to 3: shorter and much more readable:"
   ]
  },
  {
   "cell_type": "code",
   "execution_count": 10,
   "metadata": {},
   "outputs": [
    {
     "name": "stdout",
     "output_type": "stream",
     "text": [
      "0\n",
      "1\n",
      "8\n"
     ]
    }
   ],
   "source": [
    "# calling the function within a for loop...\n",
    "for x in range(3):\n",
    "    process_value(x)"
   ]
  },
  {
   "cell_type": "markdown",
   "metadata": {
    "slideshow": {
     "slide_type": "slide"
    }
   },
   "source": [
    "The section of the code that the name refers to is stored elsewhereso the main body of the code is neater and easier to read. "
   ]
  },
  {
   "cell_type": "markdown",
   "metadata": {
    "slideshow": {
     "slide_type": "slide"
    }
   },
   "source": [
    "Computer code can be re-used multiple times, sometimes with different input data. \n",
    "\n",
    "Re-using code reduces the risk of making mistakes or errors. "
   ]
  },
  {
   "cell_type": "markdown",
   "metadata": {
    "slideshow": {
     "slide_type": "slide"
    }
   },
   "source": [
    "The benefit of using a function is more obvious where it removes the need to write out code multiple times.\n",
    "\n",
    "e.g. repeating the `if-elif-else` statement every time we want to use it. \n",
    "\n"
   ]
  },
  {
   "cell_type": "code",
   "execution_count": 18,
   "metadata": {
    "slideshow": {
     "slide_type": "-"
    }
   },
   "outputs": [
    {
     "name": "stdout",
     "output_type": "stream",
     "text": [
      "8\n",
      "0\n"
     ]
    }
   ],
   "source": [
    "x = 2\n",
    "\n",
    "if x > 10:\n",
    "    print(0)\n",
    "elif x > 5:\n",
    "    print(x*x)\n",
    "elif x > 0:\n",
    "    print(x**3)\n",
    "else:\n",
    "    print(x)\n",
    "    \n",
    "x *= 6\n",
    "\n",
    "if x > 10:\n",
    "    print(0)\n",
    "elif x > 5:\n",
    "    print(x*x)\n",
    "elif x > 0:\n",
    "    print(x**3)\n",
    "else:\n",
    "    print(x)"
   ]
  },
  {
   "cell_type": "markdown",
   "metadata": {
    "slideshow": {
     "slide_type": "slide"
    }
   },
   "source": [
    "<a id='WritingFunctionsAvoidRepetition'></a>\n",
    "\n",
    "### Writing Functions to Avoid Repetition\n",
    "\n",
    "\n",
    "\n",
    "    \n",
    "    \n",
    "As you begin to write longer code, the benefit of using functions becomes more apparent.\n",
    "\n",
    "In the seminar on Control Flow we studied `if` and `else`..."
   ]
  },
  {
   "cell_type": "markdown",
   "metadata": {
    "slideshow": {
     "slide_type": "slide"
    }
   },
   "source": [
    "In the example below, the program repeats the series of `if-elif-else` statements for values in the range 0 to 3."
   ]
  },
  {
   "cell_type": "code",
   "execution_count": 11,
   "metadata": {},
   "outputs": [
    {
     "name": "stdout",
     "output_type": "stream",
     "text": [
      "6\n",
      "6\n",
      "11\n"
     ]
    }
   ],
   "source": [
    "print(sum_and_increment(2, 3))\n",
    "print(sum_and_increment(1, 4))\n",
    "print(sum_and_increment(3, 7))"
   ]
  },
  {
   "cell_type": "code",
   "execution_count": 12,
   "metadata": {
    "slideshow": {
     "slide_type": "slide"
    }
   },
   "outputs": [
    {
     "name": "stdout",
     "output_type": "stream",
     "text": [
      "8\n",
      "21\n",
      "12\n"
     ]
    }
   ],
   "source": [
    "m = sum_and_increment(3, 4)\n",
    "print(m)  # Expect 8\n",
    "\n",
    "m = 10\n",
    "n = sum_and_increment(m, m)\n",
    "print(n)  # Expect 21\n",
    "\n",
    "l = 5\n",
    "m = 6\n",
    "n = sum_and_increment(m, l)\n",
    "print(n) # Expect 12"
   ]
  },
  {
   "cell_type": "code",
   "execution_count": 19,
   "metadata": {
    "slideshow": {
     "slide_type": "slide"
    }
   },
   "outputs": [
    {
     "name": "stdout",
     "output_type": "stream",
     "text": [
      "8\n",
      "0\n"
     ]
    }
   ],
   "source": [
    "x = 2\n",
    "\n",
    "process_value(x)\n",
    "    \n",
    "x *= 6\n",
    "\n",
    "process_value(x)"
   ]
  },
  {
   "cell_type": "markdown",
   "metadata": {
    "slideshow": {
     "slide_type": "slide"
    }
   },
   "source": [
    "<a id='return'></a>\n",
    "# `return`\n",
    "\n",
    "Example : A function that:\n",
    " - takes three values (`x0, x1, x2`)\n",
    " - returns the maximum, the minimum and the mean"
   ]
  },
  {
   "cell_type": "code",
   "execution_count": 26,
   "metadata": {
    "slideshow": {
     "slide_type": "slide"
    }
   },
   "outputs": [
    {
     "name": "stdout",
     "output_type": "stream",
     "text": [
      "-20 0.5 -6.466666666666666\n"
     ]
    }
   ],
   "source": [
    "def compute_max_min_mean(x0, x1, x2):\n",
    "    \"Return maximum, minimum and mean values\"\n",
    "    \n",
    "    x_min = x0\n",
    "    if x1 < x_min:\n",
    "        x_min = x1\n",
    "    if x2 < x_min:\n",
    "        x_min = x2\n",
    "\n",
    "    x_max = x0\n",
    "    if x1 > x_max:\n",
    "        x_max = x1\n",
    "    if x2 > x_max:\n",
    "        x_max = x2\n",
    "\n",
    "    x_mean = (x0 + x1 + x2)/3    \n",
    "        \n",
    "    return x_min, x_max, x_mean\n",
    "\n",
    "\n",
    "xmin, xmax, xmean = compute_max_min_mean(0.5, 0.1, -20)\n",
    "\n",
    "print(xmin, xmax, xmean)"
   ]
  },
  {
   "cell_type": "markdown",
   "metadata": {
    "slideshow": {
     "slide_type": "slide"
    }
   },
   "source": [
    "The __`return`__ keyword works a bit like the __`break`__ statement does in a loop.\n",
    "\n",
    "It returns the value and then exits the function before running the rest of the code."
   ]
  },
  {
   "cell_type": "markdown",
   "metadata": {
    "slideshow": {
     "slide_type": "slide"
    }
   },
   "source": [
    "Any code following the `return` statement will not be run."
   ]
  },
  {
   "cell_type": "code",
   "execution_count": 5,
   "metadata": {},
   "outputs": [
    {
     "name": "stdout",
     "output_type": "stream",
     "text": [
      "11 > 10\n",
      "6 > 5\n",
      "1 > 0\n"
     ]
    }
   ],
   "source": [
    "x = 1\n",
    "\n",
    "def process_value(X):\n",
    "    \"Returns a value that depends on the input value x \"\n",
    "    \n",
    "    if X > 10:\n",
    "        return str(X) + \" > 10\"\n",
    "    elif X > 5:\n",
    "        return str(X) + \" > 5\"\n",
    "    elif X > 0:\n",
    "        return str(X) + \" > 0\"\n",
    "    else:\n",
    "        return str(X)\n",
    "    \n",
    "\n",
    "print(process_value(11))\n",
    "print(process_value(6))\n",
    "print(process_value(1))"
   ]
  },
  {
   "cell_type": "markdown",
   "metadata": {
    "slideshow": {
     "slide_type": "slide"
    }
   },
   "source": [
    "In this example, the code to increase x by 1 comes after the return statement. "
   ]
  },
  {
   "cell_type": "code",
   "execution_count": 27,
   "metadata": {
    "slideshow": {
     "slide_type": "slide"
    }
   },
   "outputs": [
    {
     "name": "stdout",
     "output_type": "stream",
     "text": [
      "1 > 0\n",
      "1 > 0\n",
      "1 > 0\n"
     ]
    }
   ],
   "source": [
    "x = 1\n",
    "\n",
    "def process_value(X):\n",
    "    \"Returns a value that depends on the input value x \"\n",
    "    \n",
    "    if X > 10:\n",
    "        return str(X) + \" > 10\"\n",
    "    elif X > 5:\n",
    "        return str(X) + \" > 5\"\n",
    "    elif X > 0:\n",
    "        return str(X) + \" > 0\"\n",
    "    else:\n",
    "        return str(X)\n",
    "    \n",
    "    # Increment global x by +1\n",
    "    global x\n",
    "    x = X + 1 \n",
    "    \n",
    "print(process_value(x))\n",
    "print(process_value(x))\n",
    "print(process_value(x))"
   ]
  },
  {
   "cell_type": "markdown",
   "metadata": {
    "slideshow": {
     "slide_type": "slide"
    }
   },
   "source": [
    "The return statement must come last."
   ]
  },
  {
   "cell_type": "code",
   "execution_count": 21,
   "metadata": {},
   "outputs": [
    {
     "name": "stdout",
     "output_type": "stream",
     "text": [
      "1 > 0\n",
      "2 > 0\n",
      "3 > 0\n"
     ]
    }
   ],
   "source": [
    "x = 1\n",
    "\n",
    "def process_value(X):\n",
    "    \"Returns a value that depends on the input value x \"\n",
    "    \n",
    "    #Increment global x by +1 \n",
    "    global x\n",
    "    x = X + 1 \n",
    "    \n",
    "    if x > 10:\n",
    "        return str(X) + \" > 10\"\n",
    "    elif x > 5:\n",
    "        return str(X) + \" > 5\"\n",
    "    elif x > 0:\n",
    "        return str(X) + \" > 0\"\n",
    "    else:\n",
    "        return str(X)    \n",
    "    \n",
    "print(process_value(x))\n",
    "print(process_value(x))\n",
    "print(process_value(x))"
   ]
  },
  {
   "cell_type": "markdown",
   "metadata": {
    "slideshow": {
     "slide_type": "slide"
    }
   },
   "source": [
    "It may be more appropriate to store the return item as a varable if multiple items are to be returned...\n",
    "<br> "
   ]
  },
  {
   "cell_type": "code",
   "execution_count": 8,
   "metadata": {
    "slideshow": {
     "slide_type": "-"
    }
   },
   "outputs": [
    {
     "name": "stdout",
     "output_type": "stream",
     "text": [
      "('5 > 1', '5 < 10')\n"
     ]
    }
   ],
   "source": [
    "x = -3\n",
    "\n",
    "def process_value(X):    \n",
    "    \"Returns two values that depend on the input value x \"\n",
    "    if X > 5:\n",
    "        i = (str(X) + \" > 5\")\n",
    "    elif X > 1:\n",
    "        i = (str(X) + \" > 1\")\n",
    "    else:\n",
    "        i = None\n",
    "        \n",
    "    if X < 0:\n",
    "        j = (str(X) + \" < 0\")\n",
    "    elif X < 10:\n",
    "        j = (str(X) + \" < 10\")\n",
    "    else:\n",
    "        j = None\n",
    "    \n",
    "    return i, j\n",
    "\n",
    "print(process_value(5))"
   ]
  },
  {
   "cell_type": "markdown",
   "metadata": {
    "slideshow": {
     "slide_type": "slide"
    }
   },
   "source": [
    "<a id='Scope'></a>\n",
    "# 6. Scope \n",
    "\n",
    "\n",
    "\n",
    "The area of your program in which a variable can be used is referred to as scope. \n",
    "\n",
    "Variables have global (throughout whole program) or local (within a function) scope depending on where they are defined.\n",
    "\n",
    "For further explanation, refer to the primer for this class. \n",
    "\n",
    "We are now going to study an example demonstrating the difference between local and global scope. \n"
   ]
  },
  {
   "cell_type": "markdown",
   "metadata": {
    "slideshow": {
     "slide_type": "slide"
    }
   },
   "source": [
    "#### Example: Global Variables\n",
    "Global variables are accessible anywhere"
   ]
  },
  {
   "cell_type": "code",
   "execution_count": 16,
   "metadata": {
    "slideshow": {
     "slide_type": "-"
    }
   },
   "outputs": [
    {
     "name": "stdout",
     "output_type": "stream",
     "text": [
      "Global variable\n"
     ]
    }
   ],
   "source": [
    "# global variable\n",
    "global_var = \"Global variable\"\n",
    "\n",
    "# define function\n",
    "def my_func():\n",
    "    \"\"\"\n",
    "    Prints a global variable \n",
    "    \"\"\"\n",
    "    # the function can access the global variable\n",
    "    print(global_var)    \n",
    "    \n",
    "\n",
    "\n",
    "# call function\n",
    "my_func()        "
   ]
  },
  {
   "cell_type": "markdown",
   "metadata": {
    "slideshow": {
     "slide_type": "slide"
    }
   },
   "source": [
    "The global variable may be created *after* the function is __defined__,\n",
    "<br>*but must* be created *before* the function is __called__."
   ]
  },
  {
   "cell_type": "code",
   "execution_count": null,
   "metadata": {
    "slideshow": {
     "slide_type": "-"
    }
   },
   "outputs": [],
   "source": [
    "# define function\n",
    "def my_func():\n",
    "    \"\"\"\n",
    "    Prints a global variable \n",
    "    \"\"\"\n",
    "    # the function can access the global variable\n",
    "    print(global_var)  \n",
    "    \n",
    "    \n",
    "    \n",
    "# global variable\n",
    "global_var = \"Global variable\"\n",
    "\n",
    "\n",
    "# call function\n",
    "my_func()        "
   ]
  },
  {
   "cell_type": "markdown",
   "metadata": {
    "slideshow": {
     "slide_type": "slide"
    }
   },
   "source": [
    "#### Example: Local Variables\n",
    "Local variables only accessible within the function in which they are defined"
   ]
  },
  {
   "cell_type": "code",
   "execution_count": 29,
   "metadata": {
    "slideshow": {
     "slide_type": "-"
    }
   },
   "outputs": [
    {
     "name": "stdout",
     "output_type": "stream",
     "text": [
      "Local variable\n"
     ]
    },
    {
     "ename": "NameError",
     "evalue": "name 'local_var' is not defined",
     "output_type": "error",
     "traceback": [
      "\u001b[0;31m---------------------------------------------------------------------------\u001b[0m",
      "\u001b[0;31mNameError\u001b[0m                                 Traceback (most recent call last)",
      "\u001b[0;32m<ipython-input-29-4cbcfc9b5e40>\u001b[0m in \u001b[0;36m<module>\u001b[0;34m()\u001b[0m\n\u001b[1;32m     15\u001b[0m \u001b[0;34m\u001b[0m\u001b[0m\n\u001b[1;32m     16\u001b[0m \u001b[0;31m# try to print local variable\u001b[0m\u001b[0;34m\u001b[0m\u001b[0;34m\u001b[0m\u001b[0m\n\u001b[0;32m---> 17\u001b[0;31m \u001b[0mprint\u001b[0m\u001b[0;34m(\u001b[0m\u001b[0mlocal_var\u001b[0m\u001b[0;34m)\u001b[0m\u001b[0;34m\u001b[0m\u001b[0m\n\u001b[0m",
      "\u001b[0;31mNameError\u001b[0m: name 'local_var' is not defined"
     ]
    }
   ],
   "source": [
    "# define function\n",
    "def my_func():\n",
    "    \"\"\"\n",
    "    Prints a local variable \n",
    "    \"\"\"  \n",
    "    \n",
    "    # global variable\n",
    "    local_var = \"Local variable\"\n",
    "    print(local_var)\n",
    "    \n",
    "    \n",
    "# call function\n",
    "my_func()\n",
    "\n",
    "\n",
    "# try to print local variable\n",
    "# print(local_var)"
   ]
  },
  {
   "cell_type": "markdown",
   "metadata": {
    "slideshow": {
     "slide_type": "slide"
    }
   },
   "source": [
    "A global variable can be __created__ *inside* a function using the `global` keyword:"
   ]
  },
  {
   "cell_type": "code",
   "execution_count": 17,
   "metadata": {},
   "outputs": [
    {
     "name": "stdout",
     "output_type": "stream",
     "text": [
      "Locally assigned global variable\n"
     ]
    }
   ],
   "source": [
    "def my_func():\n",
    "     \n",
    "    # Locally assigned global variable\n",
    "    global var\n",
    "    var = \"Locally assigned global variable\"\n",
    "    \n",
    "\n",
    "# global variable does not exit before function call\n",
    "# print(var)\n",
    "\n",
    "my_func()\n",
    "\n",
    "print(var)"
   ]
  },
  {
   "cell_type": "markdown",
   "metadata": {
    "slideshow": {
     "slide_type": "slide"
    }
   },
   "source": [
    "An exisiting global variable can be __accessed__ *inside* a function using the `global` keyword:"
   ]
  },
  {
   "cell_type": "code",
   "execution_count": 11,
   "metadata": {},
   "outputs": [
    {
     "name": "stdout",
     "output_type": "stream",
     "text": [
      "Global variable\n",
      "Locally assigned global variable\n"
     ]
    }
   ],
   "source": [
    "global_var = \"Global variable\" \n",
    "\n",
    "print(global_var) \n",
    "\n",
    "def my_func():\n",
    "     \n",
    "    # Locally assigned global variable\n",
    "    global global_var\n",
    "    global_var = \"Locally assigned global variable\"\n",
    "\n",
    "my_func()\n",
    "\n",
    "print(global_var) "
   ]
  },
  {
   "cell_type": "markdown",
   "metadata": {
    "slideshow": {
     "slide_type": "slide"
    }
   },
   "source": [
    "<a id='StoringFunctionsVariables'></a>\n",
    "# 7. Storing Functions and Variables.\n",
    "\n",
    "\n",
    "\n",
    "    \n",
    "    \n",
    "Python function definitions, variables, and constants can be stored in one or more separate files.\n",
    "\n",
    "This keeps things tidy and allows the functions to be used in multiple programs without re-writing the code.  \n",
    "\n"
   ]
  },
  {
   "cell_type": "markdown",
   "metadata": {
    "slideshow": {
     "slide_type": "slide"
    }
   },
   "source": [
    "The file containing the function definitions is called a “module”.\n",
    "\n",
    "The module name is the file name without the “.py” extension.\n",
    "\n"
   ]
  },
  {
   "cell_type": "markdown",
   "metadata": {
    "slideshow": {
     "slide_type": "slide"
    }
   },
   "source": [
    "These are saved to you computer when you install a module e.g. numpy.\n",
    "<br>(Note: Many widely used packages are automatically installed with Anaconda)."
   ]
  },
  {
   "cell_type": "markdown",
   "metadata": {
    "slideshow": {
     "slide_type": "slide"
    }
   },
   "source": [
    "For example, the functions of the numpy library are stored as a system of:\n",
    "- __sub-packages__ (sub-folders)\n",
    "- __modules__ (.py files).\n",
    "\n",
    " <img src=\"img/directory_tree_numpy.png\" alt=\"Drawing\" style=\"width: 400px;\"/>"
   ]
  },
  {
   "cell_type": "markdown",
   "metadata": {
    "slideshow": {
     "slide_type": "slide"
    }
   },
   "source": [
    "By writing:\n",
    "\n",
    "    `scipy.interpolate.interp1d(x, y, 'linear')`\n",
    "\n",
    "We are telling the computer to use:\n",
    " - the function `interp1d`...\n",
    " - ...from the module `interpolate`...\n",
    " - ...from the package `scipy`"
   ]
  },
  {
   "cell_type": "markdown",
   "metadata": {
    "slideshow": {
     "slide_type": "slide"
    }
   },
   "source": [
    "A directory should contain a file called `__init__.py` for Python to treat the Python files within it as packages.\n",
    "\n",
    "(However, the examples in this notebook should work without the `__init__.py file`.)\n",
    "\n",
    "<img src=\"img/directory_tree__init__.png\" alt=\"Drawing\" style=\"width: 200px;\"/>"
   ]
  },
  {
   "cell_type": "markdown",
   "metadata": {
    "slideshow": {
     "slide_type": "slide"
    }
   },
   "source": [
    "In the simplest case, `__init__.py` can just be an empty file\n",
    "\n",
    "It can also execute initialization code for a package.\n",
    "\n",
    "We will learn about the role of this file later in today's class."
   ]
  },
  {
   "cell_type": "markdown",
   "metadata": {
    "slideshow": {
     "slide_type": "slide"
    }
   },
   "source": [
    "<a id='WritingOwnLibrary'></a>\n",
    "# 8. Writing Your Own Library\n",
    "\n",
    "It can be useful to store the functions that you write as multiple files.\n",
    "\n"
   ]
  },
  {
   "cell_type": "markdown",
   "metadata": {
    "slideshow": {
     "slide_type": "slide"
    }
   },
   "source": [
    "Typically, you will have one main program into which the other modules are imported.\n",
    "\n",
    "<img src=\"img/importing_packages.png\" alt=\"Drawing\" style=\"width: 700px;\"/>"
   ]
  },
  {
   "cell_type": "markdown",
   "metadata": {
    "slideshow": {
     "slide_type": "slide"
    }
   },
   "source": [
    "This allows you to:\n",
    "- keep your code readable and tidy\n",
    "- re-use functions in multiple programs without re-writing the code"
   ]
  },
  {
   "cell_type": "markdown",
   "metadata": {
    "slideshow": {
     "slide_type": "slide"
    }
   },
   "source": [
    "Like other libraries, user-defined modules are made available within a program using the Python `import` keyword. \n",
    "\n",
    "Example\n",
    "\n",
    ">`import numpy as np`\n",
    "\n",
    "It is general practise to place all import statements at the beginning of the program."
   ]
  },
  {
   "cell_type": "markdown",
   "metadata": {
    "slideshow": {
     "slide_type": "slide"
    }
   },
   "source": [
    "As we hae already studied, imported functions or variables can be called using the module name followed by the function name.\n",
    "\n",
    "Example\n",
    "\n",
    ">`print(np.pi)`"
   ]
  },
  {
   "cell_type": "markdown",
   "metadata": {
    "slideshow": {
     "slide_type": "slide"
    }
   },
   "source": [
    "Let's learnt to import code from a user-defined library...\n",
    "\n",
    "Open Spyder.\n",
    "\n",
    "Create two new files with the names:\n",
    "- `file_A.py`\n",
    "- `file_B.py`\n",
    "\n",
    "Save them in a new folder called `functions_example`.\n",
    "\n",
    "<img src=\"img/fileA_fileB.png\" alt=\"Drawing\" style=\"width: 500px;\"/>"
   ]
  },
  {
   "cell_type": "markdown",
   "metadata": {
    "slideshow": {
     "slide_type": "slide"
    }
   },
   "source": [
    "Copy and paste the code from the cell below into `file_B.py`"
   ]
  },
  {
   "cell_type": "code",
   "execution_count": 23,
   "metadata": {},
   "outputs": [],
   "source": [
    "number_B = 2\n",
    "\n",
    "def print_a_number():\n",
    "    print(number_B)    \n",
    "    \n",
    "def type_interrogate(data):\n",
    "    print(type(data))"
   ]
  },
  {
   "cell_type": "markdown",
   "metadata": {
    "slideshow": {
     "slide_type": "slide"
    }
   },
   "source": [
    "Save the file :\n",
    "\n",
    "File >> Save"
   ]
  },
  {
   "cell_type": "markdown",
   "metadata": {
    "slideshow": {
     "slide_type": "slide"
    }
   },
   "source": [
    "In File_A:\n",
    "- import file_B.py\n",
    "\n",
    "        import file_B\n",
    "\n",
    "- call the two functions\n",
    "\n",
    "        file_B.print_a_number()\n",
    "        \n",
    "        file_B.type_interrogate('hello')\n",
    "        \n",
    "        print(file_B.number_B)\n",
    "\n"
   ]
  },
  {
   "cell_type": "markdown",
   "metadata": {
    "slideshow": {
     "slide_type": "slide"
    }
   },
   "source": [
    "*What happens if `print_a_number` is called without an argument?*\n",
    "\n"
   ]
  },
  {
   "cell_type": "markdown",
   "metadata": {
    "slideshow": {
     "slide_type": "slide"
    }
   },
   "source": [
    "*What happpens if `type_interrogate` is called without an argument? *"
   ]
  },
  {
   "cell_type": "markdown",
   "metadata": {
    "collapsed": true,
    "slideshow": {
     "slide_type": "slide"
    }
   },
   "source": [
    "<a id='Namespaces'></a>\n",
    "## 9. Namespaces\n",
    "\n",
    "\n",
    "<br> <a href='#LocalNamespace'>9.1. The Local Namespace</a>\n",
    "<br> <a href='#ModuleSearchPath'>9.2 The Module Search Path</a> \n",
    "<br> <a href='#FilesLocatedSameDirectory'>9.3 Files Located in the Same Directory</a> \n",
    "\n",
    "We prefix `print_a_number`, `type_interrogate` and `number_B` with the __namespace__,  `file_B`.\n",
    "\n",
    "This shows which package we want to import the functions from.\n",
    "\n",
    "\n",
    "\n"
   ]
  },
  {
   "cell_type": "markdown",
   "metadata": {
    "slideshow": {
     "slide_type": "slide"
    }
   },
   "source": [
    "For example, when using the function `np.cos()`, we use the name space `np`:"
   ]
  },
  {
   "cell_type": "code",
   "execution_count": 24,
   "metadata": {},
   "outputs": [
    {
     "data": {
      "text/plain": [
       "-1.0"
      ]
     },
     "execution_count": 24,
     "metadata": {},
     "output_type": "execute_result"
    }
   ],
   "source": [
    "import numpy as np\n",
    "\n",
    "np.cos(np.pi)"
   ]
  },
  {
   "cell_type": "markdown",
   "metadata": {
    "slideshow": {
     "slide_type": "slide"
    }
   },
   "source": [
    "The __namespace__ shows we want to use the `cos` function from the `numpy` package.\n",
    "\n",
    "If `cos` appears in more than one package we import, then there will be more than one `cos` function available.\n",
    "\n",
    "We must make it clear which `cos` we want to use. \n",
    "\n",
    "\n"
   ]
  },
  {
   "cell_type": "markdown",
   "metadata": {
    "slideshow": {
     "slide_type": "slide"
    }
   },
   "source": [
    "#### Example: Square Root\n",
    "\n",
    "Below are two functions, both named `sqrt`. \n",
    "\n",
    "Both functions compute the square root of the input.\n",
    "\n",
    " - `math.sqrt`, from the package, `math`, gives an error if the input is a negative number. It does not support complex numbers.\n",
    " - `cmath.sqrt`, from the package, `cmath`, supports complex numbers.\n"
   ]
  },
  {
   "cell_type": "code",
   "execution_count": 25,
   "metadata": {
    "slideshow": {
     "slide_type": "-"
    }
   },
   "outputs": [
    {
     "name": "stdout",
     "output_type": "stream",
     "text": [
      "2.0\n"
     ]
    }
   ],
   "source": [
    "import math\n",
    "import cmath\n",
    "print(math.sqrt(4))\n",
    "#print(math.sqrt(-5))\n",
    "#print(cmath.sqrt(-5))"
   ]
  },
  {
   "cell_type": "markdown",
   "metadata": {
    "slideshow": {
     "slide_type": "slide"
    }
   },
   "source": [
    "Two people collaborating on the same program might choose the same name for two functions that perform similar tasks. \n",
    "\n",
    "If these functions are in different modules, there will be no name clash since the module name provides a 'namespace'. "
   ]
  },
  {
   "cell_type": "markdown",
   "metadata": {
    "slideshow": {
     "slide_type": "slide"
    }
   },
   "source": [
    "<a id='LocalNamespace'></a>\n",
    "\n",
    "## 9.1 The Local Namespace\n",
    "Internally, each Python module and program has its own local namespace.\n",
    "\n",
    "The local namesapce is a “symbol table” which contains the names of all functions and variables that you don't have to prepend with a namespace."
   ]
  },
  {
   "cell_type": "markdown",
   "metadata": {
    "slideshow": {
     "slide_type": "slide"
    }
   },
   "source": [
    "When you import a module with an import statement, only the module’s name gets added to the local namespace – <br>(i.e. the imported module’s local namespace does not get added.)\n",
    "\n",
    "This is to avoid possible conflicts due to functions with the same name appearing in multiple imported modules. \n",
    "\n",
    "This is why you must prefix the function name with the module name. "
   ]
  },
  {
   "cell_type": "markdown",
   "metadata": {
    "slideshow": {
     "slide_type": "slide"
    }
   },
   "source": [
    "You can change the module name in the local namespace.\n",
    "\n",
    "In file_A.py, you can change the line:\n",
    "\n",
    "    import file_B\n",
    "\n",
    "to \n",
    "\n",
    "    import file_B as fb\n",
    "    \n"
   ]
  },
  {
   "cell_type": "markdown",
   "metadata": {
    "slideshow": {
     "slide_type": "slide"
    }
   },
   "source": [
    "We can now call a function using a shortened version of the module name\n",
    "\n",
    "    file_B.print_a_number()\n",
    "    \n",
    "to\n",
    "\n",
    "    fb.print_a_number()"
   ]
  },
  {
   "cell_type": "markdown",
   "metadata": {
    "slideshow": {
     "slide_type": "slide"
    }
   },
   "source": [
    "You can import *individual functions* and remove the need for the module name altogether:\n",
    "\n",
    "        import file_B as fb\n",
    "        from file_B import print_a_number\n",
    "\n",
    "        print_a_number()\n",
    "        \n",
    "        fb.interrogate_type('hello')\n"
   ]
  },
  {
   "cell_type": "markdown",
   "metadata": {
    "slideshow": {
     "slide_type": "slide"
    }
   },
   "source": [
    "To import *all functions* and varibales from a module, and remove the need for the module name altogether:\n",
    "\n",
    "        from file_B import *\n",
    "\n",
    "        print_a_number()\n",
    "\n",
    "        interrogate_type('hello')"
   ]
  },
  {
   "cell_type": "markdown",
   "metadata": {
    "slideshow": {
     "slide_type": "slide"
    }
   },
   "source": [
    "It is inadvisable to use `from ... import *` where you do not know the full content of a module e.g. a library such as numpy.\n",
    "\n",
    "It may be appropraite to use * with a small, *specific*, user-defined module. "
   ]
  },
  {
   "cell_type": "markdown",
   "metadata": {
    "slideshow": {
     "slide_type": "slide"
    }
   },
   "source": [
    "<a id='ModuleSearchPath'></a>\n",
    "## 9.2 The Module Search Path\n",
    "\n",
    "\n",
    "When a module is imported, the Python interpreter searches a collection of directories for a module with that name. \n",
    "\n",
    "The collection of directories is called the Python path.\n",
    "\n",
    "It is stored as a list of strings. \n",
    "\n"
   ]
  },
  {
   "cell_type": "markdown",
   "metadata": {
    "slideshow": {
     "slide_type": "slide"
    }
   },
   "source": [
    "You can display the Python path for your computer by running:"
   ]
  },
  {
   "cell_type": "code",
   "execution_count": 26,
   "metadata": {},
   "outputs": [
    {
     "name": "stdout",
     "output_type": "stream",
     "text": [
      "['', '/anaconda3/lib/python36.zip', '/anaconda3/lib/python3.6', '/anaconda3/lib/python3.6/lib-dynload', '/anaconda3/lib/python3.6/site-packages', '/anaconda3/lib/python3.6/site-packages/aeosa', '/anaconda3/lib/python3.6/site-packages/IPython/extensions', '/Users/hemma/.ipython']\n"
     ]
    }
   ],
   "source": [
    "import sys\n",
    "print(sys.path)"
   ]
  },
  {
   "cell_type": "markdown",
   "metadata": {
    "slideshow": {
     "slide_type": "slide"
    }
   },
   "source": [
    "`sys` is a module with useful functions for accessing your computer system."
   ]
  },
  {
   "cell_type": "markdown",
   "metadata": {
    "slideshow": {
     "slide_type": "slide"
    }
   },
   "source": [
    "For a module to be available for import, it must feature in the Python path. \n",
    "\n",
    "When you *install* a python module, the action you are doing is adding the module location to the python path.\n",
    "\n"
   ]
  },
  {
   "cell_type": "markdown",
   "metadata": {
    "slideshow": {
     "slide_type": "slide"
    }
   },
   "source": [
    "There are multiple ways to add a module to the search path.\n",
    "\n",
    "Today we will focus on the simplest, (and arguably the most useful) ways to import modules.  \n",
    "\n",
    "\n",
    "\n",
    "\n",
    "\n"
   ]
  },
  {
   "cell_type": "markdown",
   "metadata": {
    "slideshow": {
     "slide_type": "slide"
    }
   },
   "source": [
    "<a id='FilesLocatedSameDirectory'></a>\n",
    "\n",
    "## 9.3 Files Located in the Same Directory\n"
   ]
  },
  {
   "cell_type": "markdown",
   "metadata": {
    "slideshow": {
     "slide_type": "slide"
    }
   },
   "source": [
    "file_A and file_B are in the same folder.\n",
    "\n",
    "<img src=\"img/fileA_fileB.png\" alt=\"Drawing\" style=\"width: 600px;\"/>"
   ]
  },
  {
   "cell_type": "markdown",
   "metadata": {
    "slideshow": {
     "slide_type": "slide"
    }
   },
   "source": [
    "We therefore refer to them as 'sibling' files.\n",
    "\n",
    "The file can 'see' it's siblings.\n",
    "\n",
    "We can import code just by using the `import` keyword.\n",
    "\n"
   ]
  },
  {
   "cell_type": "markdown",
   "metadata": {
    "collapsed": true,
    "slideshow": {
     "slide_type": "slide"
    }
   },
   "source": [
    "The file can also 'see' folders in the same directory.\n",
    "\n",
    "Create a new folder, called `sibling_folder`, in the same directory as file_A.py and file_B.py.\n",
    "\n",
    "Within this folder, use spyder to create a new file called `file_C.py`. \n",
    "\n",
    "<img src=\"img/sibling_folder.png\" alt=\"Drawing\" style=\"width: 600px;\"/>"
   ]
  },
  {
   "cell_type": "markdown",
   "metadata": {
    "slideshow": {
     "slide_type": "slide"
    }
   },
   "source": [
    "Copy and paste the code from the cell below into file_C.py\n",
    "\n",
    "Save the file."
   ]
  },
  {
   "cell_type": "code",
   "execution_count": 27,
   "metadata": {},
   "outputs": [],
   "source": [
    "def subtract_and_increment(a, b):\n",
    "    \"\"\"\"\n",
    "    Return a minus b, plus 1\n",
    "    \"\"\"\n",
    "    c = a - b + 1\n",
    "    return c"
   ]
  },
  {
   "cell_type": "markdown",
   "metadata": {
    "slideshow": {
     "slide_type": "slide"
    }
   },
   "source": [
    "### `__init__.py`\n",
    "<a id='__init__.py'></a>\n",
    "\n",
    "The Python interpreter will only check directories that contain a file with the name `__init__.py`.\n",
    "\n",
    "You should create an empty file with the name `__init__.py` within any directory you wish to import.\n",
    "\n",
    "The purpose of this is to prevent other python files with the same name (e.g. other projects) from being mistakenly imported. "
   ]
  },
  {
   "cell_type": "markdown",
   "metadata": {
    "slideshow": {
     "slide_type": "slide"
    }
   },
   "source": [
    "As mentioned earlier, the examples in this tutorial will probably work without `__init__.py`.\n",
    "\n",
    "It is best practise to use `__init__.py`.\n",
    "\n",
    "Create an empty file with the name `__init__.py` in folders:\n",
    "- `functions_example`\n",
    "- `sibling_folder`"
   ]
  },
  {
   "cell_type": "markdown",
   "metadata": {
    "collapsed": true,
    "slideshow": {
     "slide_type": "slide"
    }
   },
   "source": [
    "__Importing file_C to file_A __\n",
    "\n",
    "In `file_A.py`:\n",
    "\n",
    "```python\n",
    "import sibling_folder.file_C\n",
    "print(sibling_folder.file_C.subtract_and_increment(8, 10))\n",
    "```"
   ]
  },
  {
   "cell_type": "markdown",
   "metadata": {
    "slideshow": {
     "slide_type": "slide"
    }
   },
   "source": [
    "__Importing all code from file_C to file_A __\n",
    "\n",
    "In `file_A.py`:\n",
    "\n",
    "```python\n",
    "from sibling_folder.file_C import *\n",
    "print(subtract_and_increment(8, 10))\n",
    "```"
   ]
  },
  {
   "cell_type": "markdown",
   "metadata": {
    "slideshow": {
     "slide_type": "slide"
    }
   },
   "source": [
    "If a file is located one level or more higher than a program, it cannot automatically be seen by the program. \n",
    "\n",
    "To import the file we need to add its location to the Python path. \n",
    "<br>(the places the Python interpreter looks for modules).\n",
    "\n",
    "The easiest way to do this is using the module `sys`."
   ]
  },
  {
   "cell_type": "markdown",
   "metadata": {
    "slideshow": {
     "slide_type": "slide"
    }
   },
   "source": [
    "Use spyder to create a new file in the same folder as `file_C.py`.\n",
    "\n",
    "Call it `file_D.py`.\n",
    "\n",
    "<img src=\"img/fileD.png\" alt=\"Drawing\" style=\"width: 600px;\"/>"
   ]
  },
  {
   "cell_type": "markdown",
   "metadata": {
    "slideshow": {
     "slide_type": "slide"
    }
   },
   "source": [
    "Copy and paste the following code to `file_D.py`\n",
    "\n",
    "The code `append`s (adds) the directory one level up (`../`) to the python path list.\n"
   ]
  },
  {
   "cell_type": "code",
   "execution_count": 28,
   "metadata": {},
   "outputs": [
    {
     "ename": "ModuleNotFoundError",
     "evalue": "No module named 'file_B'",
     "output_type": "error",
     "traceback": [
      "\u001b[0;31m---------------------------------------------------------------------------\u001b[0m",
      "\u001b[0;31mModuleNotFoundError\u001b[0m                       Traceback (most recent call last)",
      "\u001b[0;32m<ipython-input-28-612d870a2143>\u001b[0m in \u001b[0;36m<module>\u001b[0;34m()\u001b[0m\n\u001b[1;32m      1\u001b[0m \u001b[0;32mimport\u001b[0m \u001b[0msys\u001b[0m\u001b[0;34m\u001b[0m\u001b[0m\n\u001b[1;32m      2\u001b[0m \u001b[0msys\u001b[0m\u001b[0;34m.\u001b[0m\u001b[0mpath\u001b[0m\u001b[0;34m.\u001b[0m\u001b[0mappend\u001b[0m\u001b[0;34m(\u001b[0m\u001b[0;34m'../'\u001b[0m\u001b[0;34m)\u001b[0m\u001b[0;34m\u001b[0m\u001b[0m\n\u001b[0;32m----> 3\u001b[0;31m \u001b[0;32mimport\u001b[0m \u001b[0mfile_B\u001b[0m\u001b[0;34m\u001b[0m\u001b[0m\n\u001b[0m",
      "\u001b[0;31mModuleNotFoundError\u001b[0m: No module named 'file_B'"
     ]
    }
   ],
   "source": [
    "import sys\n",
    "sys.path.append('../')\n",
    "import file_B"
   ]
  },
  {
   "cell_type": "markdown",
   "metadata": {
    "slideshow": {
     "slide_type": "slide"
    }
   },
   "source": [
    "The functions from `file_B.py` can now be used within `file_D.py`\n",
    "\n",
    "e.g.\n",
    "\n",
    "    file_B.print_a_number()"
   ]
  },
  {
   "cell_type": "markdown",
   "metadata": {
    "slideshow": {
     "slide_type": "slide"
    }
   },
   "source": [
    "Notice the addition to the list when we append a directory to the path"
   ]
  },
  {
   "cell_type": "code",
   "execution_count": 30,
   "metadata": {},
   "outputs": [
    {
     "name": "stdout",
     "output_type": "stream",
     "text": [
      "['', '/anaconda3/lib/python36.zip', '/anaconda3/lib/python3.6', '/anaconda3/lib/python3.6/lib-dynload', '/anaconda3/lib/python3.6/site-packages', '/anaconda3/lib/python3.6/site-packages/aeosa', '/anaconda3/lib/python3.6/site-packages/IPython/extensions', '/Users/hemma/.ipython']\n",
      "\n",
      "['', '/anaconda3/lib/python36.zip', '/anaconda3/lib/python3.6', '/anaconda3/lib/python3.6/lib-dynload', '/anaconda3/lib/python3.6/site-packages', '/anaconda3/lib/python3.6/site-packages/aeosa', '/anaconda3/lib/python3.6/site-packages/IPython/extensions', '/Users/hemma/.ipython', '../']\n",
      "\n",
      "['', '/anaconda3/lib/python36.zip', '/anaconda3/lib/python3.6', '/anaconda3/lib/python3.6/lib-dynload', '/anaconda3/lib/python3.6/site-packages', '/anaconda3/lib/python3.6/site-packages/aeosa', '/anaconda3/lib/python3.6/site-packages/IPython/extensions', '/Users/hemma/.ipython']\n"
     ]
    }
   ],
   "source": [
    "import sys\n",
    "\n",
    "print(sys.path, end=\"\\n\\n\")\n",
    "\n",
    "# # Add a directory\n",
    "sys.path.append('../')\n",
    "print(sys.path, end=\"\\n\\n\")\n",
    "\n",
    "# Remove a directory\n",
    "sys.path.remove('../')\n",
    "print(sys.path)"
   ]
  },
  {
   "cell_type": "markdown",
   "metadata": {
    "slideshow": {
     "slide_type": "slide"
    }
   },
   "source": [
    "The path allows us to import code located anywhere on the compter.\n",
    "\n",
    "<img src=\"img/fileEFG.png\" alt=\"Drawing\" style=\"width: 700px;\"/>\n",
    "\n",
    "\n",
    "- to import code from file_E.py to file_C.py, <br>in file_C.py:\n",
    "> `sys.path.append('../../another_example')`\n"
   ]
  },
  {
   "cell_type": "markdown",
   "metadata": {
    "slideshow": {
     "slide_type": "slide"
    }
   },
   "source": [
    "<img src=\"img/fileEFG.png\" alt=\"Drawing\" style=\"width: 700px;\"/>\n",
    "\n",
    "\n",
    "\n",
    "- to import code from file_G.py to file_B.py, <br>in file_B.p:\n",
    "> `sys.path.append('../thesis)`"
   ]
  },
  {
   "cell_type": "markdown",
   "metadata": {
    "slideshow": {
     "slide_type": "slide"
    }
   },
   "source": [
    "Another way to add a location to the Python path is to use the __full file path__.\n",
    "\n",
    "__Full file path :__ The path to the file you want to use from your computers Home directory."
   ]
  },
  {
   "cell_type": "markdown",
   "metadata": {
    "slideshow": {
     "slide_type": "slide"
    }
   },
   "source": [
    "##### Windows computer \n",
    "\n",
    "The full file path usually begins with the letter name of the drive.\n",
    "\n",
    "e.g.\n",
    "\n",
    ">`C:\\Desktop\\my_folder\\my_sub_folder`\n",
    "\n",
    "Folder `my_sub_folder` is on the `C` drive.\n",
    "\n",
    "We can import this location to a program using:\n",
    "\n",
    "`sys.path.append('C:\\Desktop\\my_folder\\my_sub_folder')`"
   ]
  },
  {
   "cell_type": "markdown",
   "metadata": {
    "slideshow": {
     "slide_type": "slide"
    }
   },
   "source": [
    "You can find the path by right clicking on the file and choosing:\n",
    "    \n",
    ">`Properties`\n",
    "\n",
    "<img src=\"img/properties1.jpg\" alt=\"Drawing\" style=\"width: 200px;\"/>\n",
    "\n",
    "\n",
    "\n"
   ]
  },
  {
   "cell_type": "markdown",
   "metadata": {
    "slideshow": {
     "slide_type": "slide"
    }
   },
   "source": [
    "Then copy and paste the file `Location`\n",
    "\n",
    "<img src=\"img/properties2.jpg\" alt=\"Drawing\" style=\"width: 600px;\"/>"
   ]
  },
  {
   "cell_type": "markdown",
   "metadata": {
    "slideshow": {
     "slide_type": "slide"
    }
   },
   "source": [
    "Or you can press + hold 'Shift' *and* right click on the file and choose:\n",
    "\n",
    ">`Copy as path`\n",
    "\n",
    "<img src=\"img/copyaspath.jpg\" alt=\"Drawing\" style=\"width: 400px;\"/>"
   ]
  },
  {
   "cell_type": "markdown",
   "metadata": {
    "slideshow": {
     "slide_type": "slide"
    }
   },
   "source": [
    "##### Mac \n",
    "\n",
    "\n",
    "The full file path usually begins at the `Users` directory.\n",
    "\n",
    "e.g.\n",
    "\n",
    ">`/Users/Hemma/Desktop/my_folder/my_sub_folder`\n",
    "\n",
    "Folder `my_sub_folder` belongs to the user, `Hemma`.\n",
    "\n",
    "\n",
    "We can import this location to a program using:\n",
    "\n",
    "`sys.path.append('/Users/Hemma/Desktop/my_folder/my_sub_folder')`"
   ]
  },
  {
   "cell_type": "markdown",
   "metadata": {
    "slideshow": {
     "slide_type": "slide"
    }
   },
   "source": [
    "You can find the path by right clicking on the file and choosing:\n",
    "    \n",
    ">`Get info`\n",
    "\n",
    "<img src=\"img/getinfo.jpeg\" alt=\"Drawing\" style=\"width: 600px;\"/>\n",
    "\n",
    "\n",
    "\n"
   ]
  },
  {
   "cell_type": "markdown",
   "metadata": {
    "slideshow": {
     "slide_type": "slide"
    }
   },
   "source": [
    "Then copy and paste the file `Where`\n",
    "\n",
    "<img src=\"img/where.jpg\" alt=\"Drawing\" style=\"width: 600px;\"/>"
   ]
  },
  {
   "cell_type": "markdown",
   "metadata": {
    "slideshow": {
     "slide_type": "slide"
    }
   },
   "source": [
    "Or you can drag the file into a terminal and the path will appear.\n",
    "\n",
    "\n",
    "<img src=\"img/dragterm.jpg\" alt=\"Drawing\" style=\"width: 400px;\"/>"
   ]
  },
  {
   "cell_type": "markdown",
   "metadata": {
    "slideshow": {
     "slide_type": "slide"
    }
   },
   "source": [
    "### Adding Modules to the 'site-packages'.\n",
    "<a id='AddingModulessite-packages'></a>\n",
    "\n",
    "`site-packages` is the name of the directory of manually insalled python packages. \n",
    "\n",
    "You can find the location of `site-packages` by running:\n",
    ">`print(sys.path)`\n",
    "\n",
    "...and choosing the location that ends with `site-packages`.\n",
    "\n",
    "Installed packages such as `numpy` are found here.\n",
    "\n",
    "\n",
    "\n"
   ]
  },
  {
   "cell_type": "code",
   "execution_count": 13,
   "metadata": {},
   "outputs": [
    {
     "name": "stdout",
     "output_type": "stream",
     "text": [
      "['', '/anaconda3/lib/python36.zip', '/anaconda3/lib/python3.6', '/anaconda3/lib/python3.6/lib-dynload', '/anaconda3/lib/python3.6/site-packages', '/anaconda3/lib/python3.6/site-packages/aeosa', '/anaconda3/lib/python3.6/site-packages/IPython/extensions', '/Users/hemma/.ipython']\n"
     ]
    }
   ],
   "source": [
    "print(sys.path)"
   ]
  },
  {
   "cell_type": "markdown",
   "metadata": {
    "slideshow": {
     "slide_type": "slide"
    }
   },
   "source": [
    "If you add a module to this directory, it will be universally accessible within the home directory of your computer system.\n",
    "\n",
    "i.e. You can call it from anywhere by using `import` just as for Pygame or any other installed package. "
   ]
  },
  {
   "cell_type": "markdown",
   "metadata": {
    "slideshow": {
     "slide_type": "slide"
    }
   },
   "source": [
    "# 10. Variable Scope\n",
    "<a id='VariableScope'></a>\n",
    "\n",
    "\n",
    "    \n",
    "    \n",
    "In Python, global variables are global *within a module, not across all modules*.\n",
    "<br>This can cause problems..."
   ]
  },
  {
   "cell_type": "markdown",
   "metadata": {
    "slideshow": {
     "slide_type": "slide"
    }
   },
   "source": [
    "For example, import a global varibale from file_B.py to file_A.py and change its value:\n",
    "\n",
    "```python\n",
    "from file_B import number_B\n",
    "number_B = 0\n",
    "```\n",
    "<br>\n",
    "\n",
    "The value of `number_B` in file_A.py :\n",
    "```python\n",
    "print(number_B);\n",
    "```\n",
    "__`>> 0`__\n",
    "\n",
    "<br>\n",
    "\n",
    "The value of `number_B` in file_B.py :\n",
    "```python\n",
    "print(number_B);\n",
    "```\n",
    "__`>> 2`__ (the original value)\n",
    "\n",
    "<br>\n",
    "\n",
    "In other words, the global variable does *not* update across all files. "
   ]
  },
  {
   "cell_type": "markdown",
   "metadata": {
    "slideshow": {
     "slide_type": "slide"
    }
   },
   "source": [
    "###### The most common way to share global variables across different modules. \n",
    "\n",
    "One module (.py file) is used to store the global variables.\n",
    "\n",
    "This module is imported to __all__ other modules (that need to access the global varoables).\n",
    "\n",
    "Let's look at the same example again. Notice the slight difference in how we import `number_B` from `file_B.py`..."
   ]
  },
  {
   "cell_type": "markdown",
   "metadata": {
    "slideshow": {
     "slide_type": "slide"
    }
   },
   "source": [
    "Let's edit our files : `file_A.py`, `file_B.py` and `file_C.py` such that:\n",
    "- `file_A.py` : main program\n",
    "- `file_B.py` : all functions\n",
    "- `file_C.py` : all variables"
   ]
  },
  {
   "cell_type": "markdown",
   "metadata": {
    "slideshow": {
     "slide_type": "slide"
    }
   },
   "source": [
    "__`file_C.py`__\n",
    "\n",
    "```python\n",
    "number_B = 2\n",
    "```"
   ]
  },
  {
   "cell_type": "markdown",
   "metadata": {
    "slideshow": {
     "slide_type": "slide"
    }
   },
   "source": [
    "__`file_B.py`__\n",
    "\n",
    "```python\n",
    "import sibling_folder.file_C as file_C\n",
    "\n",
    "def print_a_number():\n",
    "    # print(number_B)  \n",
    "    print(file_C.number_B)    \n",
    "    \n",
    "def type_interrogate(data):\n",
    "    print(type(data))\n",
    "\n",
    "```"
   ]
  },
  {
   "cell_type": "markdown",
   "metadata": {
    "slideshow": {
     "slide_type": "slide"
    }
   },
   "source": [
    "__`file_A.py`__\n",
    "\n",
    "```python\n",
    "import sibling_folder.file_C as file_C\n",
    "import file_B\n",
    "\n",
    "file_B.print_a_number()\n",
    "\n",
    "file_C.number_B = 0\n",
    "\n",
    "print(file_C.number_B)\n",
    "        \n",
    "file_B.print_a_number()\n",
    "\n",
    "```\n",
    "\n"
   ]
  },
  {
   "cell_type": "markdown",
   "metadata": {
    "slideshow": {
     "slide_type": "slide"
    }
   },
   "source": [
    "When we run `file_A.py` we see that when we change the value of `file_C.number_B` in `file_A.py`, the variable is updateed in:\n",
    "\n",
    "file_C.py :\n",
    "```python\n",
    "print(file_C.number_B)\n",
    "```\n",
    "__`>> 0`__\n",
    "\n",
    "<br>\n",
    "\n",
    "file_B.py :\n",
    "```python\n",
    "file_B.print_a_number()\n",
    "```\n",
    "__`>> 0`__ \n",
    "\n",
    "<br>\n",
    "\n",
    "This time, the global variable updates across all files. "
   ]
  },
  {
   "cell_type": "markdown",
   "metadata": {
    "slideshow": {
     "slide_type": "slide"
    }
   },
   "source": [
    "The module that contains the global variables (in this case `file_C`) is called the __configuration module__.\n",
    "\n",
    "When changing the variable or using the variable, it is *always* prefixed with the configuration module name.\n",
    "\n",
    "The prefixed variable can be accessed and updated by all other modules.\n",
    "\n",
    "To identify which is the configuration module and remind us to import it, it is often called `config.py` or `cfg.py`.\n",
    "\n"
   ]
  },
  {
   "cell_type": "markdown",
   "metadata": {
    "slideshow": {
     "slide_type": "slide"
    }
   },
   "source": [
    "#### Remember... \n",
    "*Do not* use a `from ... import` *unless* the variable is intended to be a constant (i.e. it's value will not change during the program). \n",
    "\n",
    "__Example:__\n",
    "`from file_C import number_B` in file_A.py creates a new global variable with scope within file_A.py only.  "
   ]
  },
  {
   "cell_type": "markdown",
   "metadata": {
    "slideshow": {
     "slide_type": "slide"
    }
   },
   "source": [
    "<a id='RulesInputtingArguments'></a>\n",
    "# 11 Rules for Inputting Arguments\n",
    "\n",
    "\n",
    "\n",
    "\n"
   ]
  },
  {
   "cell_type": "markdown",
   "metadata": {
    "slideshow": {
     "slide_type": "slide"
    }
   },
   "source": [
    "It is important input arguments in the correct order.  "
   ]
  },
  {
   "cell_type": "code",
   "execution_count": null,
   "metadata": {
    "slideshow": {
     "slide_type": "slide"
    }
   },
   "outputs": [],
   "source": [
    "def sum_and_increment(a, b):\n",
    "    \"\"\"\"\n",
    "    Return the sum of a and b, plus 1\n",
    "    \"\"\"\n",
    "    c = a + b + 1\n",
    "    return c"
   ]
  },
  {
   "cell_type": "markdown",
   "metadata": {
    "slideshow": {
     "slide_type": "-"
    }
   },
   "source": [
    "The function `sum_and_increment` finds the sum of:\n",
    " - the first argument, `a`\n",
    " - the second argument `b`\n",
    " - 1\n",
    " \n",
    "If the order of a and b is switched, the result is the same.\n"
   ]
  },
  {
   "cell_type": "code",
   "execution_count": 11,
   "metadata": {},
   "outputs": [
    {
     "name": "stdout",
     "output_type": "stream",
     "text": [
      "8\n",
      "8\n"
     ]
    }
   ],
   "source": [
    "print(sum_and_increment(3,4))\n",
    "print(sum_and_increment(4,3))"
   ]
  },
  {
   "cell_type": "markdown",
   "metadata": {
    "slideshow": {
     "slide_type": "slide"
    }
   },
   "source": [
    "However, if we subtract one argument from the other, the result depends on the input order: "
   ]
  },
  {
   "cell_type": "code",
   "execution_count": 12,
   "metadata": {},
   "outputs": [
    {
     "name": "stdout",
     "output_type": "stream",
     "text": [
      "0\n",
      "2\n"
     ]
    }
   ],
   "source": [
    "def subtract_and_increment(a, b):\n",
    "    \"\"\"\"\n",
    "    Return a minus b, plus 1\n",
    "    \"\"\"\n",
    "    c = a - b + 1\n",
    "    return c\n",
    "\n",
    "print(subtract_and_increment(3,4))\n",
    "print(subtract_and_increment(4,3))"
   ]
  },
  {
   "cell_type": "markdown",
   "metadata": {
    "slideshow": {
     "slide_type": "slide"
    }
   },
   "source": [
    "<a id='NamedArguments'></a>\n",
    "## 11.1 Named Arguments\n",
    "\n",
    "<br> &emsp;&emsp; <a href='#NamedArguments'>11.1 Named Arguments</a>\n",
    "<br> &emsp;&emsp; <a href='#DefaultKeywordArguments'>11.2 Default / Keyword Arguments</a>\n",
    "<br> &emsp;&emsp; <a href='#ForcingDefaultArguments'>11.3 Forcing Default Arguments</a>\n",
    "\n",
    "\n",
    "\n",
    "It can be easy to make a mistake in the input order, leading to incorrect output.  \n",
    "\n",
    "We can reduce this risk by giving inputs as *named* arguments. \n",
    "\n",
    "When we use named arguments, the order of input does not matter.  "
   ]
  },
  {
   "cell_type": "code",
   "execution_count": 16,
   "metadata": {
    "slideshow": {
     "slide_type": "-"
    }
   },
   "outputs": [
    {
     "name": "stdout",
     "output_type": "stream",
     "text": [
      "0\n",
      "0\n"
     ]
    }
   ],
   "source": [
    "def subtract_and_increment(a, b):\n",
    "    \"Return a minus b, plus 1\"\n",
    "    c = a - b + 1\n",
    "    return c\n",
    "\n",
    "alpha = 3\n",
    "beta = 4\n",
    "\n",
    "print(subtract_and_increment(a=alpha, b=beta))\n",
    "print(subtract_and_increment(b=beta, a=alpha))  "
   ]
  },
  {
   "cell_type": "markdown",
   "metadata": {
    "slideshow": {
     "slide_type": "slide"
    }
   },
   "source": [
    "<a id='DefaultKeywordArguments'></a>\n",
    "## 11.2 Default / Keyword Arguments\n",
    "\n",
    "\n",
    "\n",
    "\n",
    "\n",
    "DefaultKeywordArguments\n",
    "\n",
    "\n",
    "\n",
    "'Default' or 'keyword' arguments have a default initial value.\n",
    "\n",
    "The default value can be overridden when the function is called. \n",
    "\n",
    "In some cases it just saves the programmer effort - they can write less code. \n",
    "\n",
    "In other cases default arguments allow a function to be applied to a wider range of problems. \n",
    "\n"
   ]
  },
  {
   "cell_type": "markdown",
   "metadata": {
    "slideshow": {
     "slide_type": "slide"
    }
   },
   "source": [
    "####  Example: A ball falling with constant acceleration.\n",
    "<br>\n",
    "Find the position $r$ of a ball, relative to the datum $r=0$, at time, $t$  when:\n",
    " - initial position $r_{0}$ \n",
    " - initial velocity $v_{0}$\n",
    " - constant acceleration $a$. \n",
    "\n",
    "From the equations of motion under constant acceleration, $r_{t}$ the position of the ball at time $t$ is given by:  \n",
    "\n",
    "$$\n",
    "r_{t} = r_{0} + v_{0} t + \\frac{1}{2} a t^{2}\n",
    "$$\n",
    "\n"
   ]
  },
  {
   "cell_type": "markdown",
   "metadata": {
    "slideshow": {
     "slide_type": "slide"
    }
   },
   "source": [
    "__A particle moving with constant acceleration.__\n",
    "<br>Example: An object falling from rest at $r(0)$, under constant acceleration due to gravity. \n",
    "<br>(*particle*: neglect air resistance)\n",
    "\n",
    "<img src=\"img/gravity_falling.png\" alt=\"Drawing\" style=\"width: 250px;\"/> \n",
    "\n"
   ]
  },
  {
   "cell_type": "markdown",
   "metadata": {
    "slideshow": {
     "slide_type": "slide"
    }
   },
   "source": [
    " - $a = g = -9.81ms^{-2}$ is sufficiently accurate *in most cases*. \n",
    " - $v_{0} = 0$ *in every case*: \"...falling from rest...\"\n",
    " - $r_{0} =$ the height from which the object falls. \n",
    " - $t = $ the time at which we want to find the objects position.\n",
    " \n",
    "We can use keyword arguments for the velocity `v0` and the acceleration `a`:"
   ]
  },
  {
   "cell_type": "code",
   "execution_count": 17,
   "metadata": {},
   "outputs": [],
   "source": [
    "def position(t, r0, v0=0.0, a=-9.81):\n",
    "    \"\"\"\n",
    "    Computes position of a particle at time t when falling from rest at initial height r0.\n",
    "    \"\"\"\n",
    "    return r0 + (v0 * t) + (0.5 * a * t**2)"
   ]
  },
  {
   "cell_type": "markdown",
   "metadata": {
    "slideshow": {
     "slide_type": "slide"
    }
   },
   "source": [
    "The function can take *up to* four arguments.\n",
    "\n",
    "However, we only need to enter the *first two arguments* (`t, r0`), if using the default values (`v0=0.0, a=-9.81`). \n"
   ]
  },
  {
   "cell_type": "code",
   "execution_count": 18,
   "metadata": {},
   "outputs": [
    {
     "name": "stdout",
     "output_type": "stream",
     "text": [
      "height = 0.8038 m\n"
     ]
    }
   ],
   "source": [
    "# Position at t = 0.2s, when dropped from r0 = 1m\n",
    "p = position(0.2, 1.0)\n",
    "\n",
    "print(\"height =\", p, \"m\")"
   ]
  },
  {
   "cell_type": "markdown",
   "metadata": {
    "slideshow": {
     "slide_type": "slide"
    }
   },
   "source": [
    "At the equator, the acceleration due to gravity is lower, $a= g = -9.78$ m s$^{-2}$\n",
    "\n",
    "For some calculations, this makes a significant difference. \n",
    "\n",
    "In this case, we simply override the default value for acceleration:  "
   ]
  },
  {
   "cell_type": "code",
   "execution_count": 19,
   "metadata": {
    "slideshow": {
     "slide_type": "-"
    }
   },
   "outputs": [
    {
     "name": "stdout",
     "output_type": "stream",
     "text": [
      "height = 0.8038 m\n",
      "height = 0.8044 m\n"
     ]
    }
   ],
   "source": [
    "# Position at t = 0.2s, when dropped from r0 = 1m\n",
    "p = position(0.2, 1.0)\n",
    "print(\"height =\", p, \"m\")\n",
    "\n",
    "\n",
    "# Position at t = 0.2s, when dropped from r0 = 1m at the equator\n",
    "p = position(0.2, 1, 0.0, -9.78)\n",
    "print(\"height =\", p, \"m\")"
   ]
  },
  {
   "cell_type": "markdown",
   "metadata": {
    "slideshow": {
     "slide_type": "slide"
    }
   },
   "source": [
    "__Note__ that we have *also* entered the initial velocity, `v`.\n",
    "\n",
    "As the value to overide is the 4th argument, the 3rd argument must also be input. \n",
    "\n",
    "The function interprets:\n",
    "\n",
    "    p = position(0.2, 1, -9.78)\n",
    "    \n",
    "as\n",
    "\n",
    "    p = position(0.2, 1, -9.78 -9.81)\n",
    "    \n",
    "\n"
   ]
  },
  {
   "cell_type": "markdown",
   "metadata": {
    "slideshow": {
     "slide_type": "slide"
    }
   },
   "source": [
    "Manually inputting an argument, `v0` when we want to use its default is a potential source of error.  \n",
    "\n",
    "We may accidentally input the default value of `v0` incorrectly, causing a bug in our program. \n",
    "\n",
    "A more robust solution is to specify the acceleration by using a __named argument__. "
   ]
  },
  {
   "cell_type": "code",
   "execution_count": 20,
   "metadata": {
    "slideshow": {
     "slide_type": "-"
    }
   },
   "outputs": [
    {
     "name": "stdout",
     "output_type": "stream",
     "text": [
      "height = 0.8044 m\n"
     ]
    }
   ],
   "source": [
    "# Position at t = 0.2s, when dropped from r0 = 1m at the equator\n",
    "p = position(0.2, 1, a=-9.78)\n",
    "\n",
    "print(\"height =\", p, \"m\")"
   ]
  },
  {
   "cell_type": "markdown",
   "metadata": {
    "collapsed": true
   },
   "source": [
    "The program overwrites the correct default value.\n",
    "\n",
    "We do not have to specify `v`. "
   ]
  },
  {
   "cell_type": "markdown",
   "metadata": {
    "slideshow": {
     "slide_type": "slide"
    }
   },
   "source": [
    "<a id='ForcingDefaultArguments'></a>\n",
    "## 11.3 Forcing Default Arguments\n",
    "\n",
    "\n",
    "\n",
    "As an additional safety measure, you can force arguments to be entered as named arguments by preceding them with a * star in the function definition.\n",
    "\n",
    "All arguments after the star must be entered as named arguments.\n",
    "\n",
    "Below is an example:"
   ]
  },
  {
   "cell_type": "code",
   "execution_count": 21,
   "metadata": {},
   "outputs": [],
   "source": [
    "# redefine position function, forcing keyword arguments\n",
    "def position(t, r0, *, v0=0.0, a=-9.81):\n",
    "    \"\"\"\n",
    "    Computes position of an accelerating particle.\n",
    "    \"\"\"\n",
    "    return r0 + (v0 * t) + (0.5 * a * t**2)\n",
    "\n",
    "# Position at t = 0.2s, when dropped from r0 = 1m at the equator\n",
    "#p = position(0.2, 1, 0.0, -9.78)\n",
    "p = position(0.2, 1, a=-9.78)"
   ]
  },
  {
   "cell_type": "markdown",
   "metadata": {
    "slideshow": {
     "slide_type": "slide"
    }
   },
   "source": [
    "Learning about function arguments can help you to understand the documentation of imoprted functions.\n",
    "\n",
    "<img src=\"img/numpy_cos.png\" alt=\"Drawing\" style=\"width: 500px;\"/> \n",
    "\n",
    ">numpy.cos(<font color='blue'>x</font>, /, <font color='red'>out=None</font>, *, <font color='green'>where=True, casting='same_kind', order='K', dtype=None, subok=True</font> [, <font color='purple'>signature, extobj</font> ]) \n",
    "\n",
    "In the () parentheses following the function name are:\n",
    "- <font color='blue'>*positional* arguments (required)</font>\n",
    "- <font color='red'>*keyword* arguments (with a default value, optionally set). (Listed after the `/` slash.)</font>\n",
    "- <font color='green'>__forced__ keyword arguments. (Listed after the `*` star.)</font> \n",
    "  <br><font color='purple'>(including arguments without a default value.  Listed in `[]` brackets.)</font>\n",
    "\n"
   ]
  },
  {
   "cell_type": "markdown",
   "metadata": {
    "slideshow": {
     "slide_type": "slide"
    }
   },
   "source": [
    "Check if really need to make a variable global. It may be that you only use it within one file.\n",
    "\n",
    "If that is the case, you do not need to make it global across all files. "
   ]
  },
  {
   "cell_type": "markdown",
   "metadata": {},
   "source": [
    "<a id='Vectorization'></a>\n",
    "# 12 Vectorization of a function\n",
    "Not all functions can be called with an array of values as input argument. \n",
    "\n",
    "For example, the function `func` below doesn't work with an array of `x` values. \n",
    "\n",
    "In the cell below, remove the `#` and run the cell to observe this. Then put the `#` back"
   ]
  },
  {
   "cell_type": "code",
   "execution_count": 1,
   "metadata": {},
   "outputs": [
    {
     "ename": "NameError",
     "evalue": "name 'np' is not defined",
     "output_type": "error",
     "traceback": [
      "\u001b[0;31m---------------------------------------------------------------------------\u001b[0m",
      "\u001b[0;31mNameError\u001b[0m                                 Traceback (most recent call last)",
      "\u001b[0;32m<ipython-input-1-ee8e6ea10adb>\u001b[0m in \u001b[0;36m<module>\u001b[0;34m()\u001b[0m\n\u001b[1;32m      5\u001b[0m         \u001b[0mf\u001b[0m \u001b[0;34m=\u001b[0m \u001b[0mnp\u001b[0m\u001b[0;34m.\u001b[0m\u001b[0mexp\u001b[0m\u001b[0;34m(\u001b[0m\u001b[0;34m-\u001b[0m\u001b[0mx\u001b[0m\u001b[0;34m)\u001b[0m\u001b[0;34m\u001b[0m\u001b[0m\n\u001b[1;32m      6\u001b[0m     \u001b[0;32mreturn\u001b[0m \u001b[0mf\u001b[0m\u001b[0;34m\u001b[0m\u001b[0m\n\u001b[0;32m----> 7\u001b[0;31m \u001b[0mx\u001b[0m \u001b[0;34m=\u001b[0m \u001b[0mnp\u001b[0m\u001b[0;34m.\u001b[0m\u001b[0mlinspace\u001b[0m\u001b[0;34m(\u001b[0m\u001b[0;34m-\u001b[0m\u001b[0;36m6\u001b[0m\u001b[0;34m,\u001b[0m \u001b[0;36m6\u001b[0m\u001b[0;34m,\u001b[0m \u001b[0;36m100\u001b[0m\u001b[0;34m)\u001b[0m\u001b[0;34m\u001b[0m\u001b[0m\n\u001b[0m\u001b[1;32m      8\u001b[0m \u001b[0;31m#y = func(x) # Run this line after removing the # to see the error that occurs. Then put the # back\u001b[0m\u001b[0;34m\u001b[0m\u001b[0;34m\u001b[0m\u001b[0m\n",
      "\u001b[0;31mNameError\u001b[0m: name 'np' is not defined"
     ]
    }
   ],
   "source": [
    "def func(x):\n",
    "    if x < 0:\n",
    "        f = np.cos(x)\n",
    "    else:\n",
    "        f = np.exp(-x)\n",
    "    return f\n",
    "x = np.linspace(-6, 6, 100)\n",
    "#y = func(x) # Run this line after removing the # to see the error that occurs. Then put the # back"
   ]
  },
  {
   "cell_type": "markdown",
   "metadata": {},
   "source": [
    "The reason this doesn't work is that Python doesn't know what to do with the line \n",
    "\n",
    "`if x < 0` \n",
    "\n",
    "when `x` contains many values. Hence the error message: \n",
    "\n",
    "````\n",
    "The truth value of an array with more than one element is ambiguous\n",
    "```` \n",
    "\n",
    "For some values of `x` the `if` statement may be `True`, for others it may be `False`. \n",
    "\n",
    "A simple way around this problem is to vectorize the function. \n",
    "\n",
    "That means we create a new function, let's call it `funcvec`, that is a vectorized form of `func` and can be called with an array as an argument (this is by far the easiest but not necessarily the computationally fastest way to make sure a function can be called with an array as an argument)"
   ]
  },
  {
   "cell_type": "code",
   "execution_count": 2,
   "metadata": {
    "scrolled": true
   },
   "outputs": [
    {
     "ename": "NameError",
     "evalue": "name 'np' is not defined",
     "output_type": "error",
     "traceback": [
      "\u001b[0;31m---------------------------------------------------------------------------\u001b[0m",
      "\u001b[0;31mNameError\u001b[0m                                 Traceback (most recent call last)",
      "\u001b[0;32m<ipython-input-2-e61cfb0838ad>\u001b[0m in \u001b[0;36m<module>\u001b[0;34m()\u001b[0m\n\u001b[0;32m----> 1\u001b[0;31m \u001b[0mfuncvec\u001b[0m \u001b[0;34m=\u001b[0m \u001b[0mnp\u001b[0m\u001b[0;34m.\u001b[0m\u001b[0mvectorize\u001b[0m\u001b[0;34m(\u001b[0m\u001b[0mfunc\u001b[0m\u001b[0;34m)\u001b[0m\u001b[0;34m\u001b[0m\u001b[0m\n\u001b[0m\u001b[1;32m      2\u001b[0m \u001b[0mx\u001b[0m \u001b[0;34m=\u001b[0m \u001b[0mnp\u001b[0m\u001b[0;34m.\u001b[0m\u001b[0mlinspace\u001b[0m\u001b[0;34m(\u001b[0m\u001b[0;34m-\u001b[0m\u001b[0;36m6\u001b[0m\u001b[0;34m,\u001b[0m \u001b[0;36m6\u001b[0m\u001b[0;34m,\u001b[0m \u001b[0;36m100\u001b[0m\u001b[0;34m)\u001b[0m\u001b[0;34m\u001b[0m\u001b[0m\n\u001b[1;32m      3\u001b[0m \u001b[0my\u001b[0m \u001b[0;34m=\u001b[0m \u001b[0mfuncvec\u001b[0m\u001b[0;34m(\u001b[0m\u001b[0mx\u001b[0m\u001b[0;34m)\u001b[0m\u001b[0;34m\u001b[0m\u001b[0m\n\u001b[1;32m      4\u001b[0m \u001b[0mplt\u001b[0m\u001b[0;34m.\u001b[0m\u001b[0mplot\u001b[0m\u001b[0;34m(\u001b[0m\u001b[0mx\u001b[0m\u001b[0;34m,\u001b[0m \u001b[0my\u001b[0m\u001b[0;34m)\u001b[0m\u001b[0;34m;\u001b[0m\u001b[0;34m\u001b[0m\u001b[0m\n",
      "\u001b[0;31mNameError\u001b[0m: name 'np' is not defined"
     ]
    }
   ],
   "source": [
    "funcvec = np.vectorize(func)\n",
    "x = np.linspace(-6, 6, 100)\n",
    "y = funcvec(x)\n",
    "plt.plot(x, y);"
   ]
  },
  {
   "cell_type": "markdown",
   "metadata": {
    "collapsed": true,
    "slideshow": {
     "slide_type": "slide"
    }
   },
   "source": [
    "# Summary\n",
    "<a id='Summary'></a>\n",
    "- Storing functions and variables in seperate files and importing them for use can keep your program organised and tidy.\n",
    "- The keyword `import` is used to call functions and variables from other files in your program.\n",
    "- Files in the same directory can be 'seen' by the file and imported directly.\n",
    "- Files in other directories must be added to the Python path. \n",
    "- An un-named function can be created using the `lamda` keyword."
   ]
  },
  {
   "cell_type": "markdown",
   "metadata": {
    "slideshow": {
     "slide_type": "slide"
    }
   },
   "source": [
    "<a id='ReviewExercises'></a>\n",
    "# 13. Review Exercises\n",
    "\n",
    "\n",
    "\n",
    "\n",
    "Complete the exercises below."
   ]
  },
  {
   "cell_type": "markdown",
   "metadata": {
    "slideshow": {
     "slide_type": "slide"
    }
   },
   "source": [
    "### Review Exercise1 : Simple function\n",
    "\n",
    "In the cell below, write a function called `is_even` that determines if a number is even by running:\n",
    "\n",
    "```python\n",
    "is_even(n)\n",
    "```\n",
    "\n",
    "Input: `n` (an integer). \n",
    "\n",
    "Expected Output: \n",
    " - `True` if the argument is even\n",
    " - `False` if the argument is not even"
   ]
  },
  {
   "cell_type": "code",
   "execution_count": 22,
   "metadata": {},
   "outputs": [],
   "source": [
    "# Review Exercise 1 : Simple function"
   ]
  },
  {
   "cell_type": "code",
   "execution_count": 2,
   "metadata": {},
   "outputs": [
    {
     "data": {
      "text/plain": [
       "False"
      ]
     },
     "execution_count": 2,
     "metadata": {},
     "output_type": "execute_result"
    }
   ],
   "source": [
    "# Review Exercise 1 : Simple function\n",
    "# Example Solution\n",
    "\n",
    "def is_even(n):\n",
    "    if n % 2 == 0:\n",
    "        return True\n",
    "    else:\n",
    "        return False\n",
    "    \n",
    "is_even(3)"
   ]
  },
  {
   "cell_type": "markdown",
   "metadata": {},
   "source": [
    "### Review Exercise 2: Using Data Structures as Function Arguments - Counter\n",
    "In the cell below write a function called `counter`:\n",
    "\n",
    "Input: A list. e.g. `[\"fizz\", \"buzz\", \"buzz\", \"fizz\", \"fizz\", \"fizz\"]`\n",
    "\n",
    "Output: Returns the numer of times \"fizz\" appears in a list.\n",
    "\n",
    "Demonstrate that your function works by inputting a list.\n",
    "\n",
    "*Hint 1:* Create a local variable, `count`, within your function.\n",
    "<br>Increment the count by one for each instance of `fizz`.\n",
    "\n",
    "*Hint 2:* Use a `for` loop to iterate over the list to count the number of times `fizz` appears.\n",
    "\n",
    "\n",
    "\n",
    "<br>\n",
    "<br>\n",
    "__NOTE__ This task is for practise only. A built-in python function `count` exists to do this (example below):\n",
    "\n",
    "\n",
    "`my_list = [\"fizz\", \"buzz\", \"buzz\", \"fizz\", \"fizz\", \"fizz\"]`\n",
    "\n",
    "`my_list.count(\"buzz\")`\n",
    "\n",
    "> __`>> 2`__\n"
   ]
  },
  {
   "cell_type": "code",
   "execution_count": 23,
   "metadata": {},
   "outputs": [],
   "source": [
    "# Review Exercise 2: Using Data Structures as Function Arguments "
   ]
  },
  {
   "cell_type": "code",
   "execution_count": 7,
   "metadata": {},
   "outputs": [
    {
     "data": {
      "text/plain": [
       "1"
      ]
     },
     "execution_count": 7,
     "metadata": {},
     "output_type": "execute_result"
    }
   ],
   "source": [
    "# Review Exercise 2: Using Data Structures as Function Arguments \n",
    "# Example Solution\n",
    "\n",
    "def counter(L):\n",
    "    count = 0\n",
    "    for l in L:\n",
    "        if l == 'fizz':\n",
    "            count += 1\n",
    "    return count\n",
    "\n",
    "    #return len([f for f in L if f=='fizz'])\n",
    " \n",
    "counter(['fizz', 'fuzz', 'fozz'])"
   ]
  },
  {
   "cell_type": "markdown",
   "metadata": {},
   "source": [
    "### Review Exercise 3: Using Functions as Function Arguments, Default Arguments. \n",
    "Copy and paste your function `is_even` from __Review Exercise 1__ in the cell below.\n",
    "\n",
    "1. Edit `is_even` to:\n",
    "- take two input arguments:\n",
    " - a numeric variable, `n`\n",
    " - a function to square `n`\n",
    "2. Edit `is_even` to return:\n",
    " - `True` if the square root of n is even\n",
    " - `False` if the square root of n is not even\n",
    "3. Make the function you chose the __default__ value of the function argument.\n",
    "4.  Print the output ofthe function `is_even` for the first 25 natural numbers (the positive integers  1, 2, 3, etc..)"
   ]
  },
  {
   "cell_type": "code",
   "execution_count": 24,
   "metadata": {},
   "outputs": [],
   "source": [
    "# Review Exercise 3: Using Functions as Function Arguments, Default Arguments. "
   ]
  },
  {
   "cell_type": "code",
   "execution_count": 13,
   "metadata": {},
   "outputs": [
    {
     "name": "stdout",
     "output_type": "stream",
     "text": [
      "False\n",
      "True\n"
     ]
    }
   ],
   "source": [
    "# Review Exercise 3: Using Functions as Function Arguments, Default Arguments. \n",
    "# Example Solution\n",
    "\n",
    "import numpy as np\n",
    "\n",
    "def is_even(n, f=np.sqrt):\n",
    "    if f(n)%2 == 0:\n",
    "        return True\n",
    "    else:\n",
    "        return False\n",
    "    \n",
    "print(is_even(3, np.sqrt))\n",
    "\n",
    "print(is_even(4))"
   ]
  },
  {
   "cell_type": "markdown",
   "metadata": {
    "slideshow": {
     "slide_type": "subslide"
    }
   },
   "source": [
    "### Review Exercise 4: Writing Functions (Hydrostatic Pressure 静水圧)\n",
    "\n",
    "The hydrostatic pressure $P$ is the pressure on a submerged object due to the overlying fluid).\n",
    "(units Pascals, Pa = Nm$^{-2}$ = kg m$^{-1}$s$^{-2}$)\n",
    "\n",
    "$$\n",
    "P = \\rho g h\n",
    "$$\n",
    "\n",
    "$g$ = acceleration due to gravity, m s$^{-2}$\n",
    "<br> $\\rho $ = fluid density, kg m$^{-3}$\n",
    "<br> $h$ = height of the fluid above the object, m. \n",
    "\n",
    "<img src=\"img/HydrostaticPressure.png\" alt=\"Drawing\" style=\"width: 200px;\"/>\n",
    "\n",
    "Write a function:\n",
    "<br>__Iput arguments__ : \n",
    "- $\\rho$\n",
    "- $g$\n",
    "- $h$ \n",
    "    \n",
    "__Returns:__$P$\n",
    "\n",
    "Use keyword arguments for `g=9.81` and `rho=1000` ($\\rho_w$) in your function.\n",
    "\n",
    "Force `rho` to be a keyword argument keyword argument.  \n"
   ]
  },
  {
   "cell_type": "code",
   "execution_count": 25,
   "metadata": {},
   "outputs": [],
   "source": [
    "# Review Exercise 7: Writing Functions\n"
   ]
  },
  {
   "cell_type": "code",
   "execution_count": 15,
   "metadata": {},
   "outputs": [
    {
     "name": "stdout",
     "output_type": "stream",
     "text": [
      "98100.0\n",
      "100258.2\n",
      "99951.6\n"
     ]
    }
   ],
   "source": [
    "# Review Exercise 7: Writing Functions\n",
    "# Example Solution\n",
    "\n",
    "# part 1\n",
    "def HP(rho, g, h):\n",
    "    \"\"\"\n",
    "    Computes hydrostatic pressure.\n",
    "    \"\"\"\n",
    "    return rho * g * h\n",
    "\n",
    "# part 2\n",
    "def HP(h, g=9.81, rho=1000):\n",
    "    \"\"\"\n",
    "    Computes hydrostatic pressure.\n",
    "    \"\"\"\n",
    "    return rho * g * h\n",
    "\n",
    "\n",
    "# part 3\n",
    "def HP(h, g=9.81, * ,rho=1000):\n",
    "    \"\"\"\n",
    "    Computes hydrostatic pressure.\n",
    "    \"\"\"\n",
    "    return rho * g * h\n",
    "\n",
    "\n",
    "# part 4\n",
    "# a\n",
    "print(HP(10))\n",
    "\n",
    "# b\n",
    "print(HP(10, rho=1022))\n",
    "\n",
    "# c\n",
    "print(HP(10, g=9.78, rho=1022))"
   ]
  },
  {
   "cell_type": "code",
   "execution_count": null,
   "metadata": {},
   "outputs": [],
   "source": []
  }
 ],
 "metadata": {
  "celltoolbar": "Slideshow",
  "kernelspec": {
   "display_name": "Python 3",
   "language": "python",
   "name": "python3"
  },
  "language_info": {
   "codemirror_mode": {
    "name": "ipython",
    "version": 3
   },
   "file_extension": ".py",
   "mimetype": "text/x-python",
   "name": "python",
   "nbconvert_exporter": "python",
   "pygments_lexer": "ipython3",
   "version": "3.6.5"
  }
 },
 "nbformat": 4,
 "nbformat_minor": 2
}
