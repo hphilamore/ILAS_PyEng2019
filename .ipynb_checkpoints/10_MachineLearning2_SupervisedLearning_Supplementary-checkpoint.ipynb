{
 "cells": [
  {
   "cell_type": "code",
   "execution_count": 2,
   "metadata": {},
   "outputs": [
    {
     "name": "stdout",
     "output_type": "stream",
     "text": [
      "Python version: 3.7.4 (default, Aug 13 2019, 15:17:50) \n",
      "[Clang 4.0.1 (tags/RELEASE_401/final)]\n",
      "pandas version: 0.25.1\n",
      "matplotlib version: 3.1.1\n",
      "NumPy version: 1.17.2\n",
      "SciPy version: 1.3.1\n",
      "IPython version: 7.8.0\n",
      "scikit-learn version: 0.21.3\n",
      "mglearn version: 0.1.7\n"
     ]
    },
    {
     "name": "stderr",
     "output_type": "stream",
     "text": [
      "/opt/anaconda3/lib/python3.7/site-packages/sklearn/externals/six.py:31: DeprecationWarning: The module is deprecated in version 0.21 and will be removed in version 0.23 since we've dropped support for Python 2.7. Please rely on the official version of six (https://pypi.org/project/six/).\n",
      "  \"(https://pypi.org/project/six/).\", DeprecationWarning)\n",
      "/opt/anaconda3/lib/python3.7/site-packages/sklearn/externals/joblib/__init__.py:15: DeprecationWarning: sklearn.externals.joblib is deprecated in 0.21 and will be removed in 0.23. Please import this functionality directly from joblib, which can be installed with: pip install joblib. If this warning is raised when loading pickled models, you may need to re-serialize those models with scikit-learn 0.21+.\n",
      "  warnings.warn(msg, category=DeprecationWarning)\n"
     ]
    }
   ],
   "source": [
    "import sys\n",
    "print(\"Python version:\", sys.version)\n",
    "\n",
    "import pandas as pd\n",
    "print(\"pandas version:\", pd.__version__)\n",
    "\n",
    "import matplotlib\n",
    "print(\"matplotlib version:\", matplotlib.__version__)\n",
    "import matplotlib.pyplot as plt\n",
    "\n",
    "import numpy as np\n",
    "print(\"NumPy version:\", np.__version__)\n",
    "\n",
    "import scipy as sp\n",
    "print(\"SciPy version:\", sp.__version__)\n",
    "\n",
    "import IPython\n",
    "print(\"IPython version:\", IPython.__version__)\n",
    "\n",
    "import sklearn\n",
    "print(\"scikit-learn version:\", sklearn.__version__)\n",
    "\n",
    "import mglearn\n",
    "print(\"mglearn version:\", mglearn.__version__)\n",
    "\n"
   ]
  },
  {
   "cell_type": "code",
   "execution_count": 4,
   "metadata": {},
   "outputs": [],
   "source": [
    "from sklearn.model_selection import train_test_split"
   ]
  },
  {
   "cell_type": "code",
   "execution_count": 5,
   "metadata": {},
   "outputs": [
    {
     "name": "stdout",
     "output_type": "stream",
     "text": [
      "Data shape: (506, 13)\n"
     ]
    }
   ],
   "source": [
    "from sklearn.datasets import load_boston\n",
    "\n",
    "boston = load_boston()\n",
    "\n",
    "print(\"Data shape:\", boston.data.shape)\n",
    "\n",
    "X, y = mglearn.datasets.load_extended_boston()                               # 1. Load data\n",
    "\n",
    "X_train, X_test, y_train, y_test = train_test_split(X, y, random_state=0)    # 2. Split the data into testing and training datafrom sklearn.model_selection import train_test_split"
   ]
  },
  {
   "cell_type": "markdown",
   "metadata": {},
   "source": [
    "## RIDGE REGRESSION\n",
    "Ridge regression is also a linear model for regression\n",
    "\n",
    "The formula it uses to make predictions is the same one used for ordinary least squares. \n",
    "\n",
    "In ridge regression, though, the coefficients (w) are chosen not only so that they predict well on the training data, but also to fit an additional constraint...\n",
    "\n"
   ]
  },
  {
   "cell_type": "markdown",
   "metadata": {},
   "source": [
    "### Regularization\n",
    "\n",
    "We also want the *magnitude* of coefficients to be as small as possible.\n",
    "\n",
    "In other words, all coefficients should be close to zero. \n",
    "\n",
    "Intuitively, this means each feature should have as little effect on the outcome as possible (which translates to having a small slope), while still predicting well. \n",
    "\n",
    "This constraint is an example of what is called regularization. \n",
    "\n",
    "Regularization means explicitly restricting a model to avoid overfitting. \n",
    "\n",
    "The particular kind used by ridge regression is known as L2 regularization."
   ]
  },
  {
   "cell_type": "code",
   "execution_count": 6,
   "metadata": {},
   "outputs": [
    {
     "name": "stdout",
     "output_type": "stream",
     "text": [
      "Training set score: 0.8857966585170941\n",
      "Test set score: 0.7527683481744755\n"
     ]
    }
   ],
   "source": [
    "from sklearn.linear_model import Ridge\n",
    "\n",
    "ridge = Ridge().fit(X_train, y_train)\n",
    "print(f\"Training set score: {ridge.score(X_train, y_train)}\")\n",
    "print(f\"Test set score: {ridge.score(X_test, y_test)}\")"
   ]
  },
  {
   "cell_type": "markdown",
   "metadata": {},
   "source": [
    "The training set score of Ridge is lower than for LinearRegression.\n",
    "\n",
    "The test set score is higher. \n",
    "\n",
    "With linear regression, we were overfitting our data. \n",
    "\n",
    "`Ridge` is a more restricted model, so we are less likely to overfit. \n",
    "\n",
    "A less complex model means worse performance on the training set, but better generalization. \n",
    "\n",
    "As we are only interested in generalization performance, we should choose the Ridge model over the LinearRegression model."
   ]
  },
  {
   "cell_type": "markdown",
   "metadata": {},
   "source": [
    "The Ridge model makes a trade-off between the simplicity of the model (near-zero coefficients) and its performance on the training set. \n",
    "\n",
    "How much importance the model places on simplicity versus training set performance can be specified by the user, using the alpha parameter. \n",
    "\n",
    "Increasing alpha forces coefficients to move more toward zero, which decreases training set performance but may help generalization.\n",
    "\n",
    "In the previous example, we used the default parameter alpha=1.0. \n",
    "\n",
    "There is no reason why this will give us the best trade-off, though. \n",
    "\n",
    "The optimum setting of alpha depends on the particular dataset we are using. "
   ]
  },
  {
   "cell_type": "code",
   "execution_count": 7,
   "metadata": {},
   "outputs": [
    {
     "name": "stdout",
     "output_type": "stream",
     "text": [
      "Training set score: 0.7882787115369614\n",
      "Test set score: 0.6359411489177311\n"
     ]
    }
   ],
   "source": [
    "ridge10 = Ridge(alpha=10).fit(X_train, y_train)\n",
    "print(f\"Training set score: {ridge10.score(X_train, y_train)}\")\n",
    "print(f\"Test set score: {ridge10.score(X_test, y_test)}\")"
   ]
  },
  {
   "cell_type": "markdown",
   "metadata": {},
   "source": [
    "Decreasing alpha allows the coefficients to be less restricted.\n",
    "\n",
    "For very small values of alpha, the coefficients are barely restricted at all, and we end up with a model that resembles LinearRegression."
   ]
  },
  {
   "cell_type": "code",
   "execution_count": 8,
   "metadata": {},
   "outputs": [
    {
     "name": "stdout",
     "output_type": "stream",
     "text": [
      "Training set score: 0.9282273685001987\n",
      "Test set score: 0.7722067936479814\n"
     ]
    }
   ],
   "source": [
    "ridge01 = Ridge(alpha=0.1).fit(X_train, y_train)\n",
    "print(f\"Training set score: {ridge01.score(X_train, y_train)}\")\n",
    "print(f\"Test set score: {ridge01.score(X_test, y_test)}\")"
   ]
  },
  {
   "cell_type": "markdown",
   "metadata": {},
   "source": [
    "Here, alpha=0.1 seems to be working well. \n",
    "\n",
    "We could try decreasing alpha even more to improve generalization. \n",
    "\n",
    "Later, we will discuss methods to properly select parameters."
   ]
  },
  {
   "cell_type": "markdown",
   "metadata": {},
   "source": [
    "Another way to understand the influence of regularization is to fix a value of alpha but vary the amount of training data available. \n",
    "\n",
    "For example, observe what happens if we we subsample the Boston Housing dataset and evaluated LinearRegression and Ridge(alpha=1) on subsets of increasing size.\n",
    "<br>(plots that show model performance as a function of dataset size are called learning curves):"
   ]
  },
  {
   "cell_type": "code",
   "execution_count": 9,
   "metadata": {},
   "outputs": [
    {
     "data": {
      "image/png": "[encoded data removed]",
      "text/plain": [
       "<Figure size 432x288 with 1 Axes>"
      ]
     },
     "metadata": {
      "needs_background": "light"
     },
     "output_type": "display_data"
    }
   ],
   "source": [
    "mglearn.plots.plot_ridge_n_samples()"
   ]
  },
  {
   "cell_type": "markdown",
   "metadata": {},
   "source": [
    "The training score is higher than the test score for all dataset sizes, for both ridge and linear regression. \n",
    "\n",
    "Because ridge is regularized, the training score of ridge is consistently lower than the training score for linear regression. \n",
    "\n",
    "However, the test score for ridge is better, particularly for small subsets of the data. \n",
    "\n",
    "For less than 400 data points, linear regression is not able to learn anything. \n",
    "\n",
    "As more and more data becomes available to the model, both models improve, and linear regression eventually catches up with ridge. "
   ]
  },
  {
   "cell_type": "markdown",
   "metadata": {},
   "source": [
    "The lesson here is that with enough training data, regularization becomes less important.\n",
    "\n",
    "Given enough data, ridge and linear regression will have the same performance.  \n",
    "\n",
    "Another interesting feature is the decrease in training performance for linear regression. \n",
    "<br>If more data is added, it becomes harder for a model to overfit, or memorize the data"
   ]
  },
  {
   "cell_type": "markdown",
   "metadata": {},
   "source": [
    "## RIDGE REGRESSION\n",
    "Ridge regression is also a linear model for regression\n",
    "\n",
    "The formula it uses to make predictions is the same one used for ordinary least squares. \n",
    "\n",
    "In ridge regression, though, the coefficients (w) are chosen not only so that they predict well on the training data, but also to fit an additional constraint...\n",
    "\n"
   ]
  },
  {
   "cell_type": "markdown",
   "metadata": {},
   "source": [
    "### Regularization\n",
    "\n",
    "We also want the *magnitude* of coefficients to be as small as possible.\n",
    "\n",
    "In other words, all coefficients should be close to zero. \n",
    "\n",
    "Intuitively, this means each feature should have as little effect on the outcome as possible (which translates to having a small slope), while still predicting well. \n",
    "\n",
    "This constraint is an example of what is called regularization. \n",
    "\n",
    "Regularization means explicitly restricting a model to avoid overfitting. \n",
    "\n",
    "The particular kind used by ridge regression is known as L2 regularization."
   ]
  },
  {
   "cell_type": "code",
   "execution_count": 10,
   "metadata": {},
   "outputs": [
    {
     "name": "stdout",
     "output_type": "stream",
     "text": [
      "Training set score: 0.8857966585170941\n",
      "Test set score: 0.7527683481744755\n"
     ]
    }
   ],
   "source": [
    "from sklearn.linear_model import Ridge\n",
    "\n",
    "ridge = Ridge().fit(X_train, y_train)\n",
    "print(f\"Training set score: {ridge.score(X_train, y_train)}\")\n",
    "print(f\"Test set score: {ridge.score(X_test, y_test)}\")"
   ]
  },
  {
   "cell_type": "markdown",
   "metadata": {},
   "source": [
    "The training set score of Ridge is lower than for LinearRegression.\n",
    "\n",
    "The test set score is higher. \n",
    "\n",
    "With linear regression, we were overfitting our data. \n",
    "\n",
    "`Ridge` is a more restricted model, so we are less likely to overfit. \n",
    "\n",
    "A less complex model means worse performance on the training set, but better generalization. \n",
    "\n",
    "As we are only interested in generalization performance, we should choose the Ridge model over the LinearRegression model."
   ]
  },
  {
   "cell_type": "markdown",
   "metadata": {},
   "source": [
    "The Ridge model makes a trade-off between the simplicity of the model (near-zero coefficients) and its performance on the training set. \n",
    "\n",
    "How much importance the model places on simplicity versus training set performance can be specified by the user, using the alpha parameter. \n",
    "\n",
    "Increasing alpha forces coefficients to move more toward zero, which decreases training set performance but may help generalization.\n",
    "\n",
    "In the previous example, we used the default parameter alpha=1.0. \n",
    "\n",
    "There is no reason why this will give us the best trade-off, though. \n",
    "\n",
    "The optimum setting of alpha depends on the particular dataset we are using. "
   ]
  },
  {
   "cell_type": "code",
   "execution_count": 11,
   "metadata": {},
   "outputs": [
    {
     "name": "stdout",
     "output_type": "stream",
     "text": [
      "Training set score: 0.7882787115369614\n",
      "Test set score: 0.6359411489177311\n"
     ]
    }
   ],
   "source": [
    "ridge10 = Ridge(alpha=10).fit(X_train, y_train)\n",
    "print(f\"Training set score: {ridge10.score(X_train, y_train)}\")\n",
    "print(f\"Test set score: {ridge10.score(X_test, y_test)}\")"
   ]
  },
  {
   "cell_type": "markdown",
   "metadata": {},
   "source": [
    "Decreasing alpha allows the coefficients to be less restricted.\n",
    "\n",
    "For very small values of alpha, the coefficients are barely restricted at all, and we end up with a model that resembles LinearRegression."
   ]
  },
  {
   "cell_type": "code",
   "execution_count": 12,
   "metadata": {},
   "outputs": [
    {
     "name": "stdout",
     "output_type": "stream",
     "text": [
      "Training set score: 0.9282273685001987\n",
      "Test set score: 0.7722067936479814\n"
     ]
    }
   ],
   "source": [
    "ridge01 = Ridge(alpha=0.1).fit(X_train, y_train)\n",
    "print(f\"Training set score: {ridge01.score(X_train, y_train)}\")\n",
    "print(f\"Test set score: {ridge01.score(X_test, y_test)}\")"
   ]
  },
  {
   "cell_type": "markdown",
   "metadata": {},
   "source": [
    "Here, alpha=0.1 seems to be working well. \n",
    "\n",
    "We could try decreasing alpha even more to improve generalization. \n",
    "\n",
    "Later, we will discuss methods to properly select parameters."
   ]
  },
  {
   "cell_type": "markdown",
   "metadata": {},
   "source": [
    "Another way to understand the influence of regularization is to fix a value of alpha but vary the amount of training data available. \n",
    "\n",
    "For example, observe what happens if we we subsample the Boston Housing dataset and evaluated LinearRegression and Ridge(alpha=1) on subsets of increasing size.\n",
    "<br>(plots that show model performance as a function of dataset size are called learning curves):"
   ]
  },
  {
   "cell_type": "code",
   "execution_count": 13,
   "metadata": {},
   "outputs": [
    {
     "data": {
      "image/png": "[encoded data removed]",
      "text/plain": [
       "<Figure size 432x288 with 1 Axes>"
      ]
     },
     "metadata": {
      "needs_background": "light"
     },
     "output_type": "display_data"
    }
   ],
   "source": [
    "mglearn.plots.plot_ridge_n_samples()"
   ]
  },
  {
   "cell_type": "markdown",
   "metadata": {},
   "source": [
    "The training score is higher than the test score for all dataset sizes, for both ridge and linear regression. \n",
    "\n",
    "Because ridge is regularized, the training score of ridge is consistently lower than the training score for linear regression. \n",
    "\n",
    "However, the test score for ridge is better, particularly for small subsets of the data. \n",
    "\n",
    "For less than 400 data points, linear regression is not able to learn anything. \n",
    "\n",
    "As more and more data becomes available to the model, both models improve, and linear regression eventually catches up with ridge. "
   ]
  },
  {
   "cell_type": "markdown",
   "metadata": {},
   "source": [
    "The lesson here is that with enough training data, regularization becomes less important.\n",
    "\n",
    "Given enough data, ridge and linear regression will have the same performance.  \n",
    "\n",
    "Another interesting feature is the decrease in training performance for linear regression. \n",
    "<br>If more data is added, it becomes harder for a model to overfit, or memorize the data"
   ]
  },
  {
   "cell_type": "code",
   "execution_count": null,
   "metadata": {},
   "outputs": [],
   "source": []
  },
  {
   "cell_type": "code",
   "execution_count": null,
   "metadata": {},
   "outputs": [],
   "source": []
  }
 ],
 "metadata": {
  "kernelspec": {
   "display_name": "Python 3",
   "language": "python",
   "name": "python3"
  },
  "language_info": {
   "codemirror_mode": {
    "name": "ipython",
    "version": 3
   },
   "file_extension": ".py",
   "mimetype": "text/x-python",
   "name": "python",
   "nbconvert_exporter": "python",
   "pygments_lexer": "ipython3",
   "version": "3.7.4"
  }
 },
 "nbformat": 4,
 "nbformat_minor": 2
}
