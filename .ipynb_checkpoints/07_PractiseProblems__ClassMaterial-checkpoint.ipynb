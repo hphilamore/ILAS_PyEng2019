{
 "cells": [
  {
   "cell_type": "markdown",
   "metadata": {
    "collapsed": true,
    "slideshow": {
     "slide_type": "slide"
    }
   },
   "source": [
    "# 07 Practise Problems  \n",
    "## CLASS MATERIAL"
   ]
  },
  {
   "cell_type": "markdown",
   "metadata": {
    "slideshow": {
     "slide_type": "slide"
    }
   },
   "source": [
    "# Download the new class notes.\n",
    "__Navigate to the directory where your files are stored.__\n",
    "\n",
    "__Update the course notes by downloading the changes__"
   ]
  },
  {
   "cell_type": "markdown",
   "metadata": {
    "slideshow": {
     "slide_type": "slide"
    }
   },
   "source": [
    "\n",
    "\n",
    "\n",
    "##### Windows\n",
    "Search for __Git Bash__ in the programs menu.\n",
    "\n",
    "Select __Git Bash__, a terminal will open.\n",
    "\n",
    "Use `cd` to navigate to *inside* the __ILAS_PyEng2019__ repository you downloaded. \n",
    "\n",
    "Run the command:\n",
    ">`./automerge`\n",
    "\n",
    "\n",
    "\n",
    "##### Mac\n",
    "Open a terminal. \n",
    "\n",
    "Use `cd` to navigate to *inside* the __ILAS_PyEng2019__ repository you downloaded. \n",
    "\n",
    "Run the command:\n",
    ">`sudo ./automerge`\n",
    "\n",
    "Enter your password when prompted. "
   ]
  },
  {
   "cell_type": "markdown",
   "metadata": {
    "slideshow": {
     "slide_type": "slide"
    }
   },
   "source": [
    "### Lesson Goal\n",
    "\n",
    "This lesson is a series of practise problems to test your understanding before we move onto the __Applications of Programming__ section of the course.\n",
    "\n",
    "Submit your answers to each question by emailing them to:\n",
    "<br>philamore.hemma.5s@kyoto-u.ac.jp\n",
    "\n",
    "\n",
    "### Fundamental programming concepts\n",
    " \n",
    "To solve the problems you must apply what you have learnt knowledge from the __Fundamentals of Programming__ section of the course."
   ]
  },
  {
   "cell_type": "markdown",
   "metadata": {
    "slideshow": {
     "slide_type": "slide"
    }
   },
   "source": [
    "<a id='Differentiation'></a>\n",
    "# 1. Plotting Data\n",
    "\n",
    "Import the data from the file `temperature_data.csv`.\n",
    "\n",
    "The file contains the mean temperature (°C) of London, Philadelphia, and Hong Kong recorded during some months of the year.\n",
    "\n",
    "Plot the temperature for each city against the number of the month (starting with 1 for January) as a single plot.\n",
    "\n",
    "Label the axes. \n",
    "\n",
    "Add a figure legend showing which line on the grpah represents London, Philadelphia, and Hong Kong respectively.\n",
    "\n",
    "Interpolate to estimate the temperature data for the missing months for each city.  \n",
    "\n",
    "Plot the interpolated data. \n",
    "\n",
    "*Extension : Change the x-axis tick labels from the number of the month to the name of the month (e.g. change 1 to January)*"
   ]
  },
  {
   "cell_type": "code",
   "execution_count": null,
   "metadata": {},
   "outputs": [],
   "source": []
  },
  {
   "cell_type": "markdown",
   "metadata": {
    "slideshow": {
     "slide_type": "slide"
    }
   },
   "source": [
    "<a id='SymbolicMathematics'></a>\n",
    "# 2. Curve Fitting\n",
    "Import the data from the file `sample_data/air_temperature.dat`.\n",
    "\n",
    "The file contains the air temperature (°C) recorded every 2 hours during a 24 hour period.\n",
    "\n",
    "Plot the data as a scatter plot and label the axes. \n",
    "\n",
    "Look at the shape of the plot. Based on your observation, approximate a continuous function that describes the data by curve fitting. \n",
    "\n",
    "Plot the function as a line on the same graph as the original data. \n",
    "\n",
    "Calculate the root mean sqaured error between your fitted function and the original data. "
   ]
  },
  {
   "cell_type": "code",
   "execution_count": null,
   "metadata": {},
   "outputs": [],
   "source": []
  },
  {
   "cell_type": "markdown",
   "metadata": {},
   "source": [
    "<a id='Symbolic_Differentiation'></a>\n",
    "# 3. Functions and Libraries\n",
    "Write a Python function for the following function:\n",
    "\n",
    "$f(x)=e^{\\frac{-K x}{50}}\\sin(x)$\n",
    "\n",
    "The function should:\n",
    "- take `x` and `K` as input arguments\n",
    "- return the value of the function\n",
    "- have a dcoumentation string \n",
    "\n",
    "Store your function in a seperate file called `my_functions` and import it to your main program. \n",
    "\n",
    "In your main program, import the data from the file `sample_data/air_temperature.dat`.\n",
    "\n",
    "For each data point, make a plot of `f` vs. `x` where:\n",
    "\n",
    "`K` = the value of the imported data point \n",
    "\n",
    "`x` = integers in the range [0 , 15]  \n",
    "\n",
    "Add a legend. "
   ]
  },
  {
   "cell_type": "code",
   "execution_count": null,
   "metadata": {},
   "outputs": [],
   "source": []
  },
  {
   "cell_type": "markdown",
   "metadata": {},
   "source": [
    "# 4. Systems of Equations  \n",
    "\n",
    "The following four measurements of the quantity $g$ were made at time $t_0, t_1, t_2, t_3$ : \n",
    "\n",
    "$(t_0,g_0)=(0,3)$\n",
    "\n",
    "$(t_1,g1)=(0.25,1)$\n",
    "\n",
    "$(t_2,g_2)=(0.5,-3)$\n",
    "\n",
    "$(t_3,g_3)=(0.75,1)$. \n",
    "\n",
    "The measurements lie on a wave function that may be expresssed as: \n",
    "\n",
    "$g = a\\cos(\\pi t) + b\\cos(2\\pi t) + c\\cos(3\\pi t) + d\\cos(4\\pi t)$\n",
    "\n",
    "where $a$, $b$, $c$, and $d$ are constants. \n",
    "\n",
    "Solve for the four constants by arranging them as a system of four linear equations.\n",
    "\n",
    "Plot of the wave for $t$ in the range [0, 1].\n",
    "\n",
    "Indicate the four measurements by ploting them as dots."
   ]
  },
  {
   "cell_type": "code",
   "execution_count": null,
   "metadata": {},
   "outputs": [],
   "source": []
  },
  {
   "cell_type": "markdown",
   "metadata": {
    "slideshow": {
     "slide_type": "slide"
    }
   },
   "source": [
    "<a id='Symbolic_Differentiation'></a>\n",
    "# 5. Numerical Integration \n",
    " \n",
    "__(a)__ *Analytically* show that the integral of the function <br> $f(x)=\\text{e}^{-x}$ <br>  for $x$ in the range [1, 5] is equal to $-\\text{e}^{-5} + \\text{e}^{-1}$.  \n",
    "\n",
    "<br>\n",
    "\n",
    "<br>\n",
    "\n",
    "__(b)__ Show that the following integral is equal to 0.218236 (6 s.f.):\n",
    "\n",
    "$$\\int_1^5 \\frac{\\text{e}^{-x}}{x}\\text{d}x$$  \n",
    "\n",
    "Perform the integration numerically. "
   ]
  },
  {
   "cell_type": "code",
   "execution_count": null,
   "metadata": {},
   "outputs": [],
   "source": []
  },
  {
   "cell_type": "markdown",
   "metadata": {
    "slideshow": {
     "slide_type": "slide"
    }
   },
   "source": [
    "<a id='Symbolic_Differentiation'></a>\n",
    "# 6. Predator Prey  \n",
    "Also known as Lotka-Volterra equations, the predator-prey equations are a pair of first-order non-linear ordinary differential equations. \n",
    "\n",
    "They represent a simplified model of the change in populations of two or more species which interact via predation.  \n",
    "\n",
    "Let $x$ represent the population of predators and  $y$  represent the population of prey.\n",
    "\n",
    "The rate of change of each population can be represented by two first order differential equations. \n",
    "\n",
    "$$\\frac{dx}{dt} = x (a - by)$$ \n",
    "\n",
    "$$\\frac{dy}{dt} = y (dx - c)$$ \n",
    "\n",
    "$a ,  b ,  c$  and  $d$  are parameters, which are assumed to be positive.\n",
    "\n",
    "$a$ : growth of prey population <br>\n",
    "$b$ : decay of prey population due to predation<br>\n",
    "$c$ : growth of predator population <br>\n",
    "$d$ : decay of predator population due to natural death <br>\n",
    "\n",
    "Let $a = b = c = d = 1$\n",
    "\n",
    "__(a)__ Find the numerical solution to the system of equations for $x$ and $y$, for time, $t$, in the range [0, 12].\n",
    "\n",
    "__(b)__ Plot $x$ and $y$, against $t$ =  range [0, 12]."
   ]
  },
  {
   "cell_type": "code",
   "execution_count": null,
   "metadata": {},
   "outputs": [],
   "source": []
  },
  {
   "cell_type": "code",
   "execution_count": null,
   "metadata": {},
   "outputs": [],
   "source": []
  }
 ],
 "metadata": {
  "celltoolbar": "Slideshow",
  "kernelspec": {
   "display_name": "Python 3",
   "language": "python",
   "name": "python3"
  },
  "language_info": {
   "codemirror_mode": {
    "name": "ipython",
    "version": 3
   },
   "file_extension": ".py",
   "mimetype": "text/x-python",
   "name": "python",
   "nbconvert_exporter": "python",
   "pygments_lexer": "ipython3",
   "version": "3.6.5"
  }
 },
 "nbformat": 4,
 "nbformat_minor": 2
}
