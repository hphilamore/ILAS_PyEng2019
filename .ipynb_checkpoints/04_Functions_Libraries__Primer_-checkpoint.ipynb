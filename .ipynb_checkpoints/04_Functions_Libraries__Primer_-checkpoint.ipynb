{
 "cells": [
  {
   "cell_type": "markdown",
   "metadata": {
    "collapsed": true,
    "slideshow": {
     "slide_type": "slide"
    }
   },
   "source": [
    "# 04 Functions and Libraries\n",
    "## PRIMER\n",
    "\n",
    "<br> <a href='#AnatomyFunction'>1. The Anatomy of a Function</a> \n",
    "<br> <a href='#FunctionChecklist'>2. Function Checklist</a>\n",
    "<br> <a href='#DocumentationString'>3. The Documentation String</a> \n",
    "<br> <a href='#FunctionArguments'>4. Function Arguments</a>  \n",
    "<a href='#Scope'>5. Scope</a> \n",
    "<br><a href='#return'>6. `return`</a>\n",
    "<br><a href='#LambdaFunctions'>7. Lambda Functions</a>\n",
    "<br><a href='#RecursiveFunctions'>8. Lambda Functions</a>"
   ]
  },
  {
   "cell_type": "markdown",
   "metadata": {},
   "source": [
    "# Download the new class notes.\n",
    "__Navigate to the directory where your files are stored.__\n",
    "\n",
    "__Update the course notes by downloading the changes__"
   ]
  },
  {
   "cell_type": "markdown",
   "metadata": {
    "slideshow": {
     "slide_type": "slide"
    }
   },
   "source": [
    "# 1. The Anatomy of a Function\n",
    "<a id='AnatomyFunction'></a>\n",
    "\n",
    "A function is just a piece of code that we can use in our program by typing its name. \n",
    "\n",
    "\n",
    "\n",
    "Here is a python function:\n",
    "```python\n",
    "def sum_and_increment(a, b):    \n",
    "    c = a + b + 1\n",
    "    return c\n",
    "```\n",
    "\n",
    "Its name is `sum_and_increment`.\n",
    "            \n",
    "           \n",
    "\n"
   ]
  },
  {
   "cell_type": "markdown",
   "metadata": {
    "slideshow": {
     "slide_type": "slide"
    }
   },
   "source": [
    "# 2.  Function Checklist\n",
    "<a id='FunctionChecklist'></a>\n",
    "A custom function is __declared__ using:\n",
    "1. The definition keyword, __`def`__.\n",
    "1. A __function name__ of your choice.\n",
    "1. __() parentheses__ which optionally contain __arguments__ (the *inputs* to the function)\n",
    "1. __: a colon__ character\n",
    "1. A __documentation string__ that says what the function does.\n",
    "1. The __body code__ to be executed when the function is *called*.\n",
    "1. An optional __return__ statement (the *output* of the function)\n",
    "\n",
    "<img src=\"img/function_anotated.png\" alt=\"Drawing\" style=\"width: 600px;\"/>\n"
   ]
  },
  {
   "cell_type": "code",
   "execution_count": 3,
   "metadata": {},
   "outputs": [
    {
     "name": "stdout",
     "output_type": "stream",
     "text": [
      "6\n",
      "6\n"
     ]
    }
   ],
   "source": [
    "def sum_and_increment(a, b): \n",
    "    \"\"\"\"\n",
    "    Return the sum of a and b, plus 1\n",
    "    \"\"\"\n",
    "    c = a + b + 1\n",
    "    return c\n",
    "\n",
    "d =sum_and_increment(2, 3)"
   ]
  },
  {
   "cell_type": "markdown",
   "metadata": {
    "slideshow": {
     "slide_type": "slide"
    }
   },
   "source": [
    "__Function name:__  `sum_and_increment`\n",
    "\n",
    "__Arguments:__ \n",
    "<br>`a` and `b`\n",
    "<br> Function inputs are placed within () parentheses.\n",
    "<br> Function inputs are variables to be used within (\"parsed to\") the function.\n",
    "\n",
    "  ```python\n",
    "  def sum_and_increment(a, b): \n",
    "  \n",
    "  ```\n",
    " \n",
    "\n"
   ]
  },
  {
   "cell_type": "markdown",
   "metadata": {
    "slideshow": {
     "slide_type": "slide"
    }
   },
   "source": [
    "__Body:__ \n",
    "<br>The code to be executed when the function is called. \n",
    "<br>Indented (typically four spaces, automatic).  \n",
    "\n",
    "  ```python\n",
    "    def sum_and_increment(a, b): \n",
    "          c = a + b + 1\n",
    "\n",
    "  ```"
   ]
  },
  {
   "cell_type": "markdown",
   "metadata": {
    "slideshow": {
     "slide_type": "slide"
    }
   },
   "source": [
    "__`return`__ statement: \n",
    "<br>Defines the output of the function.\n",
    "<br>Often placed at the end of a function.\n",
    "\n",
    "\n",
    "  ```python\n",
    "    def sum_and_increment(a, b): \n",
    "          c = a + b + 1\n",
    "          return c\n",
    "    \n",
    "  ```"
   ]
  },
  {
   "cell_type": "markdown",
   "metadata": {
    "slideshow": {
     "slide_type": "slide"
    }
   },
   "source": [
    "To execute (*call*) the function, type:\n",
    " - a variable to store the output if the function `return`s a value\n",
    " - the function name\n",
    " - any arguments "
   ]
  },
  {
   "cell_type": "code",
   "execution_count": 21,
   "metadata": {},
   "outputs": [
    {
     "name": "stdout",
     "output_type": "stream",
     "text": [
      "8\n"
     ]
    }
   ],
   "source": [
    "m = sum_and_increment(3, 4)\n",
    "print(m)  # Expect 8"
   ]
  },
  {
   "cell_type": "code",
   "execution_count": 22,
   "metadata": {
    "slideshow": {
     "slide_type": "-"
    }
   },
   "outputs": [
    {
     "name": "stdout",
     "output_type": "stream",
     "text": [
      "21\n"
     ]
    }
   ],
   "source": [
    "m = 10\n",
    "n = sum_and_increment(m, m)\n",
    "print(n)  # Expect 21"
   ]
  },
  {
   "cell_type": "code",
   "execution_count": 23,
   "metadata": {
    "slideshow": {
     "slide_type": "subslide"
    }
   },
   "outputs": [
    {
     "name": "stdout",
     "output_type": "stream",
     "text": [
      "12\n"
     ]
    }
   ],
   "source": [
    "l = 5\n",
    "m = 6\n",
    "n = sum_and_increment(m, l)\n",
    "print(n) "
   ]
  },
  {
   "cell_type": "markdown",
   "metadata": {
    "slideshow": {
     "slide_type": "slide"
    }
   },
   "source": [
    "<a id='DocumentationString'></a>\n",
    "# 3. The Documentation String\n",
    "It is best practise to include a *documentation string* (\"docstring\").\n",
    " - Describes __in words__ what the function does.\n",
    " - Begins and end with `\"\"\"`.\n",
    " - *Optional* - however it makes your code much more understandadble. "
   ]
  },
  {
   "cell_type": "code",
   "execution_count": 24,
   "metadata": {
    "slideshow": {
     "slide_type": "slide"
    }
   },
   "outputs": [],
   "source": [
    "def sum_and_increment(a, b):\n",
    "    \"\"\"\n",
    "    Return the sum of a and b, plus 1\n",
    "    \"\"\"\n",
    "    c = a + b + 1\n",
    "    return c\n"
   ]
  },
  {
   "cell_type": "markdown",
   "metadata": {
    "slideshow": {
     "slide_type": "slide"
    }
   },
   "source": [
    "A function does not necessarily:\n",
    "- take input arguments\n",
    "- return output variables\n",
    "\n",
    "__Example__\n",
    "<br>A function with:\n",
    "- no input arguments - empty () parentheses\n",
    "- no output variables - no `return` statement "
   ]
  },
  {
   "cell_type": "code",
   "execution_count": 25,
   "metadata": {},
   "outputs": [
    {
     "name": "stdout",
     "output_type": "stream",
     "text": [
      "The function 'print_message' has been called.\n"
     ]
    }
   ],
   "source": [
    "def print_message():\n",
    "    print(\"The function 'print_message' has been called.\")\n",
    "\n",
    "print_message()"
   ]
  },
  {
   "cell_type": "markdown",
   "metadata": {
    "slideshow": {
     "slide_type": "slide"
    }
   },
   "source": [
    "# 4. Function Arguments\n",
    "<a id='FunctionArguments'></a>\n",
    "\n",
    "<br> <a href='#SingleVariablesFunctionArguments'>4.1 Single Variables as Function Arguments</a> \n",
    "<br> <a href='#DataStructuresFunctionArguments'>4.2 Data Structures as Function Arguments</a>\n",
    "<br> <a href='#FunctionsFunctionArguments'>4.3 Functions as Function Arguments</a> \n",
    "<br> <a href='#RulesInputtingArguments'>4.4 Rules for Inputting Arguments</a>  \n",
    "<a href='#NamedArguments'>4.5 Named Arguments</a> \n",
    "<br><a href='#DefaultKeywordArguments'>4.6 Default / Keyword Arguments</a>\n",
    "<br><a href='#ForcingDefaultArguments'>4.7 Forcing Default Arguments</a>\n",
    "<br><a href='#*args**kwargs'>4.8 Optional Advanced Topic : `args*` and `kwargs**`</a>"
   ]
  },
  {
   "cell_type": "markdown",
   "metadata": {
    "slideshow": {
     "slide_type": "slide"
    }
   },
   "source": [
    "### What can be passed as a function argument?\n",
    "\n",
    "*Object* types that can be passed as arguments to functions include:\n",
    "- single variables (`int`, `float`...)\n",
    "- data structures (`list`, `array`...)\n",
    "- other functions \n",
    "\n"
   ]
  },
  {
   "cell_type": "markdown",
   "metadata": {
    "slideshow": {
     "slide_type": "slide"
    }
   },
   "source": [
    "<a id='SingleVariablesFunctionArguments'></a>\n",
    "## 4.1 Single Variables as Function Arguments \n",
    "\n"
   ]
  },
  {
   "cell_type": "code",
   "execution_count": 19,
   "metadata": {},
   "outputs": [],
   "source": [
    "def process_value(x):\n",
    "    \"Return a value that depends on the input value x \"\n",
    "    if x > 10:\n",
    "        print(0)\n",
    "    elif x > 5:\n",
    "        print(x*x)\n",
    "    elif x > 0:\n",
    "        print(x**3)\n",
    "    else:\n",
    "        print(x)"
   ]
  },
  {
   "cell_type": "markdown",
   "metadata": {
    "slideshow": {
     "slide_type": "slide"
    }
   },
   "source": [
    "\n",
    "\n",
    "To call the function\n",
    "<br>e.g. for the input argument 3"
   ]
  },
  {
   "cell_type": "code",
   "execution_count": 21,
   "metadata": {},
   "outputs": [
    {
     "name": "stdout",
     "output_type": "stream",
     "text": [
      "125\n"
     ]
    }
   ],
   "source": [
    "process_value(5)"
   ]
  },
  {
   "cell_type": "markdown",
   "metadata": {
    "slideshow": {
     "slide_type": "slide"
    }
   },
   "source": [
    "<a id='DataStructuresFunctionArguments'></a>\n",
    "## 4.2 Data Structures as Function Arguments\n",
    "\n",
    "\n",
    "\n",
    "We can also write a function that accepts a data structure as an argument\n",
    "\n",
    "__Indexing__ can be useful when data structures are used as function arguments."
   ]
  },
  {
   "cell_type": "markdown",
   "metadata": {
    "slideshow": {
     "slide_type": "slide"
    }
   },
   "source": [
    "__Example: Area of a Triangle__ \n",
    "The coordinates of the vertices of a triangle are $(x_0, y_0)$, $(x_1, y_1)$ and $(x_2, y_2)$.\n",
    "\n",
    "<img src=\"img/triangle_annotated.png\" alt=\"Drawing\" style=\"width: 300px;\"/> \n",
    "\n",
    "The area $A$ of the triangle is given by:\n",
    "\n",
    "$$\n",
    "A = \\left| \\frac{x_0(y_1  - y_2) + x_1(y_2 - y_0) + x_2(y_0 - y_1)}{2} \\right|\n",
    "$$"
   ]
  },
  {
   "cell_type": "markdown",
   "metadata": {
    "slideshow": {
     "slide_type": "slide"
    }
   },
   "source": [
    "One way to represent this as a function is:"
   ]
  },
  {
   "cell_type": "code",
   "execution_count": 24,
   "metadata": {},
   "outputs": [
    {
     "name": "stdout",
     "output_type": "stream",
     "text": [
      "7.0\n"
     ]
    }
   ],
   "source": [
    "def triangle_area(x0, y0, x1, y1, x2, y2):\n",
    "    \n",
    "    A = abs( (x0 * (y1 - y2) +\n",
    "              x1 * (y2 - y0) +\n",
    "              x2 * (y0 - y1)) / 2 )\n",
    "    \n",
    "    return A\n",
    "\n",
    "print(triangle_area(0, 0, 1, 4, 4, 2))"
   ]
  },
  {
   "cell_type": "markdown",
   "metadata": {
    "slideshow": {
     "slide_type": "slide"
    }
   },
   "source": [
    "Another way is to group the x and y coordinates in their pairs.\n",
    "\n",
    "Representing the coordinate pairs as __lists__ can help to reduce the risk of confusing the order in which they are input.  "
   ]
  },
  {
   "cell_type": "code",
   "execution_count": 25,
   "metadata": {
    "slideshow": {
     "slide_type": "slide"
    }
   },
   "outputs": [
    {
     "name": "stdout",
     "output_type": "stream",
     "text": [
      "7.0\n"
     ]
    }
   ],
   "source": [
    "vtex0 = [0, 0]   #(x, y) coordinates of vertex 0\n",
    "vtex1 = [1, 4]   #(x, y) coordinates of vertex 1\n",
    "vtex2 = [4, 2]   #(x, y) coordinates of vertex 2\n",
    "\n",
    "def triangle_area(v0, v1, v2):\n",
    "    \n",
    "    A = abs( (v0[0] * (v1[1] - v2[1]) +\n",
    "              v1[0] * (v2[1] - v0[1]) +\n",
    "              v2[0] * (v0[1] - v1[1])) / 2 )\n",
    "    \n",
    "    return A\n",
    "\n",
    "print(triangle_area(vtex0, vtex1, vtex2))"
   ]
  },
  {
   "cell_type": "markdown",
   "metadata": {
    "slideshow": {
     "slide_type": "slide"
    }
   },
   "source": [
    "This time the function `triangle_area` takes three arguments:\n",
    " - a __list__ containig the coordinates of vertex 0\n",
    " - a __list__ containig the coordinates of vertex 1\n",
    " - a __list__ containig the coordinates of vertex 2\n",
    " \n",
    "\n",
    "The individual elements of the lists are referenced within the function by *indexing*. "
   ]
  },
  {
   "cell_type": "markdown",
   "metadata": {
    "slideshow": {
     "slide_type": "slide"
    }
   },
   "source": [
    "<a id='FunctionsFunctionArguments'></a>\n",
    "## 4.3 Functions as Function Arguments\n",
    "\n",
    "\n",
    "\n",
    "\n",
    "Consider the two functions.\n",
    "<br>The docstring of each function explains what it does."
   ]
  },
  {
   "cell_type": "code",
   "execution_count": 8,
   "metadata": {},
   "outputs": [
    {
     "name": "stdout",
     "output_type": "stream",
     "text": [
      "-1\n",
      "True\n"
     ]
    }
   ],
   "source": [
    "# Function A\n",
    "def f0(y):\n",
    "    \"Computes y^2 - 10\"\n",
    "    return y*y - 10\n",
    "\n",
    "# Function B\n",
    "def is_positive(x):\n",
    "    \"Checks if x is positive\"\n",
    "    return x > 0\n",
    "\n",
    "print(f0(3))\n",
    "print(is_positive(3))"
   ]
  },
  {
   "cell_type": "markdown",
   "metadata": {
    "slideshow": {
     "slide_type": "slide"
    }
   },
   "source": [
    "Let's say we want to test if $y^2 - 1$ (*Function A*) is positive (*Function B*).\n",
    "\n",
    "We can nest one function within another function:"
   ]
  },
  {
   "cell_type": "code",
   "execution_count": null,
   "metadata": {},
   "outputs": [],
   "source": [
    "print(is_positive( f0(3) ))"
   ]
  },
  {
   "cell_type": "markdown",
   "metadata": {
    "slideshow": {
     "slide_type": "slide"
    }
   },
   "source": [
    "Alternatively we can re-write Function B to take a function and a variable as *seperate* input arguments: "
   ]
  },
  {
   "cell_type": "code",
   "execution_count": null,
   "metadata": {},
   "outputs": [],
   "source": [
    "# Function A\n",
    "def f0(y):\n",
    "    \"Computes y^2 - 1\"\n",
    "    return y*y - 10\n",
    "\n",
    "# Function B\n",
    "\n",
    "# def is_positive(x):\n",
    "#     \"Checks if x is positive\"\n",
    "#     return x > 0\n",
    "\n",
    "def is_positive(f, x):\n",
    "    \"Checks if the function value f(x) is positive\"\n",
    "    return f(x) > 0\n",
    "\n",
    "print(is_positive(f0, 3))\n",
    "    \n"
   ]
  },
  {
   "cell_type": "markdown",
   "metadata": {
    "slideshow": {
     "slide_type": "slide"
    }
   },
   "source": [
    "This is useful, for example, where the use of the function depends on the input value.\n",
    "\n",
    "This time *Function B* includes `if-else`:"
   ]
  },
  {
   "cell_type": "code",
   "execution_count": 9,
   "metadata": {},
   "outputs": [
    {
     "name": "stdout",
     "output_type": "stream",
     "text": [
      "True\n",
      "False\n"
     ]
    }
   ],
   "source": [
    "# Function B\n",
    "def is_positive(f, x):\n",
    "    \"Checks if the function value f(x) is positive\"\n",
    "    # odd\n",
    "    if x%2:\n",
    "        return f(x) > 0\n",
    "    # even\n",
    "    else:\n",
    "        return x > 0\n",
    "\n",
    "print(is_positive(f0, 2))\n",
    "print(is_positive(f0, 3))"
   ]
  },
  {
   "cell_type": "markdown",
   "metadata": {
    "slideshow": {
     "slide_type": "slide"
    }
   },
   "source": [
    "Multiple functions can be input as arguments."
   ]
  },
  {
   "cell_type": "code",
   "execution_count": 10,
   "metadata": {},
   "outputs": [
    {
     "name": "stdout",
     "output_type": "stream",
     "text": [
      "False\n",
      "False\n"
     ]
    }
   ],
   "source": [
    "# Function A\n",
    "def f0(y):\n",
    "    \"Computes y^2 - 1\"\n",
    "    return y*y - 10\n",
    "\n",
    "\n",
    "# Function A'\n",
    "def f1(y):\n",
    "    \"Computes y^2 - 1\"\n",
    "    return y*y*y - 10\n",
    "\n",
    "\n",
    "# Function B\n",
    "def is_positive(x, f_0, f_1):\n",
    "    \"Checks if the function value f(x) is positive\"\n",
    "    if x%2:\n",
    "        return f_0(x) > 0\n",
    "    else:\n",
    "        return f_1(x) > 0\n",
    "    \n",
    "    \n",
    "print(is_positive(2, f0, f1))\n",
    "print(is_positive(3, f0, f1))"
   ]
  },
  {
   "cell_type": "markdown",
   "metadata": {
    "slideshow": {
     "slide_type": "slide"
    }
   },
   "source": [
    "## 4.4 Rules for Inputting Arguments\n",
    "<a id='RulesInputtingArguments'></a>\n",
    "\n"
   ]
  },
  {
   "cell_type": "markdown",
   "metadata": {
    "slideshow": {
     "slide_type": "slide"
    }
   },
   "source": [
    "It is important input arguments in the correct order.  "
   ]
  },
  {
   "cell_type": "code",
   "execution_count": null,
   "metadata": {
    "slideshow": {
     "slide_type": "slide"
    }
   },
   "outputs": [],
   "source": [
    "def sum_and_increment(a, b):\n",
    "    \"\"\"\"\n",
    "    Return the sum of a and b, plus 1\n",
    "    \"\"\"\n",
    "    c = a + b + 1\n",
    "    return c"
   ]
  },
  {
   "cell_type": "markdown",
   "metadata": {
    "slideshow": {
     "slide_type": "-"
    }
   },
   "source": [
    "The function `sum_and_increment` finds the sum of:\n",
    " - the first argument, `a`\n",
    " - the second argument `b`\n",
    " - 1\n",
    " \n",
    "If the order of a and b is switched, the result is the same.\n"
   ]
  },
  {
   "cell_type": "code",
   "execution_count": 11,
   "metadata": {},
   "outputs": [
    {
     "name": "stdout",
     "output_type": "stream",
     "text": [
      "8\n",
      "8\n"
     ]
    }
   ],
   "source": [
    "print(sum_and_increment(3,4))\n",
    "print(sum_and_increment(4,3))"
   ]
  },
  {
   "cell_type": "markdown",
   "metadata": {
    "slideshow": {
     "slide_type": "slide"
    }
   },
   "source": [
    "However, if we subtract one argument from the other, the result depends on the input order: "
   ]
  },
  {
   "cell_type": "code",
   "execution_count": 12,
   "metadata": {},
   "outputs": [
    {
     "name": "stdout",
     "output_type": "stream",
     "text": [
      "0\n",
      "2\n"
     ]
    }
   ],
   "source": [
    "def subtract_and_increment(a, b):\n",
    "    \"\"\"\"\n",
    "    Return a minus b, plus 1\n",
    "    \"\"\"\n",
    "    c = a - b + 1\n",
    "    return c\n",
    "\n",
    "print(subtract_and_increment(3,4))\n",
    "print(subtract_and_increment(4,3))"
   ]
  },
  {
   "cell_type": "markdown",
   "metadata": {
    "slideshow": {
     "slide_type": "slide"
    }
   },
   "source": [
    "## 4.5 Named Arguments\n",
    "<a id='NamedArguments'></a>\n",
    "\n",
    "\n",
    "\n",
    "It can be easy to make a mistake in the input order, leading to incorrect output.  \n",
    "\n",
    "We can reduce this risk by giving inputs as *named* arguments. \n",
    "\n",
    "When we use named arguments, the order of input does not matter.  "
   ]
  },
  {
   "cell_type": "code",
   "execution_count": 14,
   "metadata": {
    "slideshow": {
     "slide_type": "-"
    }
   },
   "outputs": [
    {
     "name": "stdout",
     "output_type": "stream",
     "text": [
      "0\n",
      "2\n"
     ]
    }
   ],
   "source": [
    "def subtract_and_increment(a, b):\n",
    "    \"Return a minus b, plus 1\"\n",
    "    c = a - b + 1\n",
    "    return c\n",
    "\n",
    "alpha = 3\n",
    "beta = 4\n",
    "\n",
    "print(subtract_and_increment(a=alpha, b=beta))\n",
    "print(subtract_and_increment(b=beta, a=alpha))  "
   ]
  },
  {
   "cell_type": "markdown",
   "metadata": {
    "slideshow": {
     "slide_type": "slide"
    }
   },
   "source": [
    "<a id='DefaultKeywordArguments'></a>\n",
    "## 4.6 Default / Keyword Arguments\n",
    "\n",
    "\n",
    "\n",
    "DefaultKeywordArguments\n",
    "\n",
    "\n",
    "\n",
    "'Default' or 'keyword' arguments have a default initial value.\n",
    "\n",
    "The default value can be overridden when the function is called. \n",
    "\n",
    "In some cases it just saves the programmer effort - they can write less code. \n",
    "\n",
    "In other cases default arguments allow a function to be applied to a wider range of problems. \n",
    "\n"
   ]
  },
  {
   "cell_type": "markdown",
   "metadata": {
    "slideshow": {
     "slide_type": "slide"
    }
   },
   "source": [
    "####  Example: A particle moving with constant acceleration.\n",
    "<br>\n",
    "Find the position $r$ of a particle, relative to the datum $r=0$, at time, $t$  when:\n",
    " - initial position $r_{0}$ \n",
    " - initial velocity $v_{0}$\n",
    " - constant acceleration $a$. \n",
    "\n",
    "From the equations of motion, the position $r$ at time $t$ is given by:  \n",
    "\n",
    "$$\n",
    "r(t) = r(0) + v(0) t + \\frac{1}{2} a t^{2}\n",
    "$$\n",
    "\n"
   ]
  },
  {
   "cell_type": "markdown",
   "metadata": {
    "slideshow": {
     "slide_type": "slide"
    }
   },
   "source": [
    "__A particle moving with constant acceleration.__\n",
    "<br>Example: An object falling from rest at $r(0)$, under constant acceleration due to gravity. \n",
    "<br>(*particle*: neglect air resistance)\n",
    "\n",
    "<img src=\"img/gravity_falling.png\" alt=\"Drawing\" style=\"width: 250px;\"/> \n",
    "\n"
   ]
  },
  {
   "cell_type": "markdown",
   "metadata": {
    "slideshow": {
     "slide_type": "slide"
    }
   },
   "source": [
    " - $a = g = -9.81$ m s$^{-2}$ is sufficiently accurate *in most cases*. \n",
    " - $v(0) = 0$ *in every case*: \"...falling from rest...\"\n",
    " - $r(0) =$ the height from which the object falls. \n",
    " - $t = $ the time at which we want to find the objects position.\n",
    " \n",
    "We can use keyword arguments for the velocity `v0` and the acceleration `a`:"
   ]
  },
  {
   "cell_type": "code",
   "execution_count": 35,
   "metadata": {},
   "outputs": [],
   "source": [
    "def position(t, r0, v0=0.0, a=-9.81):\n",
    "    \"\"\"\n",
    "    Computes position of a particle at time t when falling from rest at initial height r0.\n",
    "    \"\"\"\n",
    "    return r0 + (v0 * t) + (0.5 * a * t**2)"
   ]
  },
  {
   "cell_type": "markdown",
   "metadata": {
    "slideshow": {
     "slide_type": "slide"
    }
   },
   "source": [
    "The function can take *up to* four arguments.\n",
    "\n",
    "However, we only need to enter the *first two arguments* (`t, r0`), if using the default values (`v0=0.0, a=-9.81`). \n"
   ]
  },
  {
   "cell_type": "code",
   "execution_count": 36,
   "metadata": {},
   "outputs": [
    {
     "name": "stdout",
     "output_type": "stream",
     "text": [
      "height = 0.8038 m\n"
     ]
    }
   ],
   "source": [
    "# Position at t = 0.2s, when dropped from r0 = 1m\n",
    "p = position(0.2, 1.0)\n",
    "\n",
    "print(\"height =\", p, \"m\")"
   ]
  },
  {
   "cell_type": "markdown",
   "metadata": {
    "slideshow": {
     "slide_type": "slide"
    }
   },
   "source": [
    "At the equator, the acceleration due to gravity is lower, $a= g = -9.78$ m s$^{-2}$\n",
    "\n",
    "For some calculations, this makes a significant difference. \n",
    "\n",
    "In this case, we simply override the default value for acceleration:  "
   ]
  },
  {
   "cell_type": "code",
   "execution_count": 37,
   "metadata": {
    "slideshow": {
     "slide_type": "-"
    }
   },
   "outputs": [
    {
     "name": "stdout",
     "output_type": "stream",
     "text": [
      "height = 0.8038 m\n",
      "height = 0.8044 m\n"
     ]
    }
   ],
   "source": [
    "# Position at t = 0.2s, when dropped from r0 = 1m\n",
    "p = position(0.2, 1.0)\n",
    "print(\"height =\", p, \"m\")\n",
    "\n",
    "\n",
    "# Position at t = 0.2s, when dropped from r0 = 1m at the equator\n",
    "p = position(0.2, 1, 0.0, -9.78)\n",
    "print(\"height =\", p, \"m\")"
   ]
  },
  {
   "cell_type": "markdown",
   "metadata": {
    "slideshow": {
     "slide_type": "slide"
    }
   },
   "source": [
    "__Note__ that we have *also* entered the initial velocity, `v`.\n",
    "\n",
    "As the value to overide is the 4th argument, the 3rd argument must also be input. \n",
    "\n",
    "The function interprets:\n",
    "\n",
    "    p = position(0.2, 1, -9.78)\n",
    "    \n",
    "as\n",
    "\n",
    "    p = position(0.2, 1, -9.78 -9.81)\n",
    "    \n",
    "\n"
   ]
  },
  {
   "cell_type": "markdown",
   "metadata": {
    "slideshow": {
     "slide_type": "slide"
    }
   },
   "source": [
    "Manually inputting an argument, `v0` when we want to use its default is a potential source of error.  \n",
    "\n",
    "We may accidentally input the default value of `v0` incorrectly, causing a bug in our program. \n",
    "\n",
    "A more robust solution is to specify the acceleration by using a __named argument__. "
   ]
  },
  {
   "cell_type": "code",
   "execution_count": 38,
   "metadata": {
    "slideshow": {
     "slide_type": "-"
    }
   },
   "outputs": [
    {
     "name": "stdout",
     "output_type": "stream",
     "text": [
      "height = 0.8044 m\n"
     ]
    }
   ],
   "source": [
    "# Position at t = 0.2s, when dropped from r0 = 1m at the equator\n",
    "p = position(0.2, 1, a=-9.78)\n",
    "\n",
    "print(\"height =\", p, \"m\")"
   ]
  },
  {
   "cell_type": "markdown",
   "metadata": {
    "collapsed": true
   },
   "source": [
    "The program overwrites the correct default value.\n",
    "\n",
    "We do not have to specify `v`. "
   ]
  },
  {
   "cell_type": "markdown",
   "metadata": {
    "slideshow": {
     "slide_type": "slide"
    }
   },
   "source": [
    "## 4.7 Forcing Default Arguments\n",
    "<a id='ForcingDefaultArguments'></a>\n",
    "\n",
    "\n",
    "\n",
    "\n",
    "As an additional safety measure, you can force arguments to be entered as named arguments by preceding them with a * star in the function definition.\n",
    "\n",
    "All arguments after the star must be entered as named arguments.\n",
    "\n",
    "Below is an example:"
   ]
  },
  {
   "cell_type": "code",
   "execution_count": 23,
   "metadata": {},
   "outputs": [],
   "source": [
    "# redefine position function, forcing keyword arguments\n",
    "def position(t, r0, *, v0=0.0, a=-9.81):\n",
    "    \"\"\"\n",
    "    Computes position of an accelerating particle.\n",
    "    \"\"\"\n",
    "    return r0 + (v0 * t) + (0.5 * a * t**2)\n",
    "\n",
    "# Position at t = 0.2s, when dropped from r0 = 1m at the equator\n",
    "#p = position(0.2, 1, 0.0, -9.78)\n",
    "p = position(0.2, 1, a=-9.78)"
   ]
  },
  {
   "cell_type": "markdown",
   "metadata": {
    "slideshow": {
     "slide_type": "slide"
    }
   },
   "source": [
    "Learning about function arguments can help you to understand the documentation of imoprted functions.\n",
    "\n",
    "<img src=\"img/numpy_cos.png\" alt=\"Drawing\" style=\"width: 500px;\"/> \n",
    "\n",
    ">numpy.cos(<font color='blue'>x</font>, /, <font color='red'>out=None</font>, *, <font color='green'>where=True, casting='same_kind', order='K', dtype=None, subok=True</font> [, <font color='purple'>signature, extobj</font> ]) \n",
    "\n",
    "In the () parentheses following the function name are:\n",
    "- <font color='blue'>*positional* arguments (required)</font>\n",
    "- <font color='red'>*keyword* arguments (with a default value, optionally set). (Listed after the `/` slash.)</font>\n",
    "- <font color='green'>__forced__ keyword arguments. (Listed after the `*` star.)</font> \n",
    "  <br><font color='purple'>(including arguments without a default value.  Listed in `[]` brackets.)</font>\n",
    "\n"
   ]
  },
  {
   "cell_type": "markdown",
   "metadata": {
    "slideshow": {
     "slide_type": "slide"
    }
   },
   "source": [
    "## 4.8 Optional Advanced Topic : `args*` and `kwargs**`\n",
    "<a id='*args**kwargs'></a>\n",
    "\n",
    "\n",
    "\n",
    "\n",
    "`*args` and `**kwargs` can be used when we don't know the exact number of arguments we want to pass to the function.\n",
    "\n",
    "`*args` lets us pass any number of *arguments*.\n",
    "\n",
    "`**kwargs` lets us pass any number of *keyword arguments*. \n",
    "\n",
    "(Actually, `*` and `**` are the only required code. The names `args` and `kwargs` are widely accepted convention)."
   ]
  },
  {
   "cell_type": "markdown",
   "metadata": {
    "slideshow": {
     "slide_type": "slide"
    }
   },
   "source": [
    "### Packing: `*args` and `**kwargs in function definitions`\n",
    "In a function definition, `*args` must appear before `**kwargs`."
   ]
  },
  {
   "cell_type": "markdown",
   "metadata": {
    "slideshow": {
     "slide_type": "slide"
    }
   },
   "source": [
    "### Packing `*args`\n",
    "Sometimes we want the number of arguments we can pass to a function to be flexible.\n",
    "\n",
    "Consider the example below: "
   ]
  },
  {
   "cell_type": "code",
   "execution_count": 40,
   "metadata": {
    "slideshow": {
     "slide_type": "-"
    }
   },
   "outputs": [
    {
     "data": {
      "text/plain": [
       "[1, 2, 3]"
      ]
     },
     "execution_count": 40,
     "metadata": {},
     "output_type": "execute_result"
    }
   ],
   "source": [
    "def vector_3D(x, y=0.0, z=0.0):\n",
    "    \"\"\"\n",
    "    Expresses 1D, 2D or 3D vector in 3D coordinates, as a list.\n",
    "    \"\"\"\n",
    "    return [x, y, z]\n",
    "\n",
    "vector_3D(1, 2, 3)"
   ]
  },
  {
   "cell_type": "markdown",
   "metadata": {
    "slideshow": {
     "slide_type": "slide"
    }
   },
   "source": [
    "While there is some flexibility in how many arguments we can input, the function:\n",
    "- is still limited to a maximum of *three* inputs.\n",
    "- always outputs a list of three elements. "
   ]
  },
  {
   "cell_type": "markdown",
   "metadata": {
    "slideshow": {
     "slide_type": "slide"
    }
   },
   "source": [
    "Sometimes it can be convenient to allow any number of inputs. \n",
    " \n",
    "This is called *packing*.\n",
    "\n",
    "By allowing the function to take any number of `*args`, we make it more __flexible__."
   ]
  },
  {
   "cell_type": "code",
   "execution_count": 26,
   "metadata": {
    "slideshow": {
     "slide_type": "slide"
    }
   },
   "outputs": [
    {
     "data": {
      "text/plain": [
       "[4, 5]"
      ]
     },
     "execution_count": 26,
     "metadata": {},
     "output_type": "execute_result"
    }
   ],
   "source": [
    "def var_to_list(*args):\n",
    "    \"\"\"\n",
    "    Expresses any number of inputs as a list. \n",
    "    \"\"\"\n",
    "    var_list = []\n",
    "    \n",
    "    for a in args:\n",
    "        var_list.append(a)\n",
    "        \n",
    "    return var_list\n",
    "\n",
    "var_to_list(4,5)"
   ]
  },
  {
   "cell_type": "markdown",
   "metadata": {
    "slideshow": {
     "slide_type": "slide"
    }
   },
   "source": [
    "Arguments must be listed before keyword arguments as usual."
   ]
  },
  {
   "cell_type": "code",
   "execution_count": 42,
   "metadata": {
    "slideshow": {
     "slide_type": "-"
    }
   },
   "outputs": [
    {
     "name": "stdout",
     "output_type": "stream",
     "text": [
      "[1, 2, 3, 4, 5]\n",
      "[1, 2, 3, 4]\n"
     ]
    }
   ],
   "source": [
    "def var_to_list(*args, extra=2):\n",
    "    \"\"\"\n",
    "    Expresses a vector of any length as a list. \n",
    "    \"\"\"\n",
    "    var_list = []\n",
    "    \n",
    "    for a in args:\n",
    "        var_list.append(a)\n",
    "        \n",
    "    return var_list\n",
    "\n",
    "\n",
    "print(var_to_list(1, 2, 3, 4, 5))\n",
    "\n",
    "print(var_to_list(1, 2, 3, 4, extra=5))"
   ]
  },
  {
   "cell_type": "markdown",
   "metadata": {
    "slideshow": {
     "slide_type": "slide"
    }
   },
   "source": [
    "### Packing `**kwargs`\n",
    "`**` allows multiple keyword-variable pairs to be entered which it stores in the form of a dictionary.\n",
    "\n",
    "A dictionary is another type of *data structure* that stores variable name - value pairs in the format shown below:"
   ]
  },
  {
   "cell_type": "code",
   "execution_count": 27,
   "metadata": {},
   "outputs": [
    {
     "name": "stdout",
     "output_type": "stream",
     "text": [
      "12\n"
     ]
    }
   ],
   "source": [
    "dictionary = {\"second\": 12, \"fourth\": 14, \"third\": 13}\n",
    "print(dictionary[\"second\"])"
   ]
  },
  {
   "cell_type": "markdown",
   "metadata": {
    "slideshow": {
     "slide_type": "slide"
    }
   },
   "source": [
    "This is useful as we can access the keyword and the variables seperately using the method, `.items()`."
   ]
  },
  {
   "cell_type": "code",
   "execution_count": 44,
   "metadata": {},
   "outputs": [
    {
     "name": "stdout",
     "output_type": "stream",
     "text": [
      "second\n",
      "fourth\n",
      "third\n",
      "\n",
      "('second', 12)\n",
      "('fourth', 14)\n",
      "('third', 13)\n",
      "\n",
      "second : 12\n",
      "fourth : 14\n",
      "third : 13\n",
      "\n"
     ]
    }
   ],
   "source": [
    "for name in dictionary:\n",
    "    print(f\"{name}\")\n",
    "print()\n",
    "\n",
    "\n",
    "for name in dictionary.items():\n",
    "    print(f\"{name}\")\n",
    "print()\n",
    "\n",
    "\n",
    "for name, value in dictionary.items():\n",
    "    print(f\"{name} : {value}\")\n",
    "print()"
   ]
  },
  {
   "cell_type": "markdown",
   "metadata": {
    "slideshow": {
     "slide_type": "slide"
    }
   },
   "source": [
    "For example, when packing **kwargs:"
   ]
  },
  {
   "cell_type": "code",
   "execution_count": 45,
   "metadata": {
    "slideshow": {
     "slide_type": "-"
    }
   },
   "outputs": [
    {
     "name": "stdout",
     "output_type": "stream",
     "text": [
      "thing1 : robot\n",
      "thing2 : melon\n"
     ]
    }
   ],
   "source": [
    "def table_things(**kwargs):\n",
    "    \"Prints key-value pairs seperated by a colon\"\n",
    "    \n",
    "    for name, value in kwargs.items():\n",
    "        print(f\"{name} : {value}\")\n",
    "\n",
    "table_things(thing1 = 'robot', \n",
    "             thing2 = 'melon')   "
   ]
  },
  {
   "cell_type": "markdown",
   "metadata": {
    "slideshow": {
     "slide_type": "slide"
    }
   },
   "source": [
    "Packing can make your code more efficient by skipping unecessary sections."
   ]
  },
  {
   "cell_type": "code",
   "execution_count": 46,
   "metadata": {
    "slideshow": {
     "slide_type": "-"
    }
   },
   "outputs": [
    {
     "name": "stdout",
     "output_type": "stream",
     "text": [
      "(1,1)\n",
      "(4,3)\n"
     ]
    }
   ],
   "source": [
    "x = 1\n",
    "y = 1\n",
    "\n",
    "def position(**kwargs):\n",
    "    \"Prints x, y coordinates of current position\"\n",
    "    \n",
    "    if \"new_pos\" in kwargs:\n",
    "        global x, y \n",
    "        x = kwargs[\"new_pos\"][1]\n",
    "        y = kwargs[\"new_pos\"][0]\n",
    "        \n",
    "    print(f\"({x},{y})\")    \n",
    "\n",
    "pos_update = position()\n",
    "\n",
    "pos_update = position(new_pos=[3,4])"
   ]
  },
  {
   "cell_type": "markdown",
   "metadata": {
    "slideshow": {
     "slide_type": "slide"
    }
   },
   "source": [
    "So in function documentation, for example, __`**kwargs`__refers to a series of keyword arguments of which you may enter as few or as many as you wish to set. \n",
    "\n",
    "<img src=\"img/numpy_cos.png\" alt=\"Drawing\" style=\"width: 500px;\"/> \n",
    "\n",
    "<img src=\"img/numpy_cos_params.png\" alt=\"Drawing\" style=\"width: 500px;\"/> \n",
    "\n"
   ]
  },
  {
   "cell_type": "markdown",
   "metadata": {
    "slideshow": {
     "slide_type": "slide"
    }
   },
   "source": [
    "### Unpacking: `*args` and `**kwargs when calling functions`\n",
    "\n",
    "Sometimes it can be convenient to do the opposite:\n",
    " - enter a __single data structure__; all the functin arguments packed up somewhere earlier in the program.\n",
    " - have the function unpack the list for us into __multiple containers__; the individual function arguments. \n",
    "\n",
    "<br>This reverse process to packing is known as *unpacking*.\n",
    "\n",
    "By packing the arguments as a single input, calling the function can become more __efficient__. "
   ]
  },
  {
   "cell_type": "markdown",
   "metadata": {
    "slideshow": {
     "slide_type": "subslide"
    }
   },
   "source": [
    "### Unpacking `*args`\n",
    "A single data structure e.g. a list, unpacks as the function arguments in the order they appear.\n",
    "<br>Therefore the data structure should be the *same* length as the number of arguments it is being used to input.\n",
    "<br>In other words, unlike packing, the number of arguments is now fixed."
   ]
  },
  {
   "cell_type": "code",
   "execution_count": 7,
   "metadata": {
    "slideshow": {
     "slide_type": "subslide"
    }
   },
   "outputs": [
    {
     "name": "stdout",
     "output_type": "stream",
     "text": [
      "1 4 5 6\n",
      "1 2 4 5\n"
     ]
    }
   ],
   "source": [
    "def test_args_func(first, second, third, fourth):\n",
    "    \"Prints each argument of the function\"\n",
    "    print(first, second, third, fourth)\n",
    "    \n",
    "to_unpack = [4, 5, 6]\n",
    "\n",
    "# the number of input values should be the same as the number of function arguments...\n",
    "test_args_func(1, *to_unpack)\n",
    "\n",
    "# ...however, excess values will be skipped without effecting function operation...\n",
    "test_args_func(1, 2, *to_unpack[:2])\n",
    "\n",
    "# ...too few values on the other hand will generate an error (uncomment code below)\n",
    "# test_args_func(*to_unpack)"
   ]
  },
  {
   "cell_type": "markdown",
   "metadata": {
    "slideshow": {
     "slide_type": "subslide"
    }
   },
   "source": [
    "### Unpacking `**kwargs`\n",
    "Values in the dictionary are adddressed using the function arguments as keywords.\n",
    "\n",
    "This means that the arguments can appear in the dictionary in any order.\n",
    "\n",
    "However, the dictionary should be the *same* length as the number of arguments it is being used to input *and* the dictionary entried should have the same names."
   ]
  },
  {
   "cell_type": "code",
   "execution_count": 48,
   "metadata": {
    "slideshow": {
     "slide_type": "subslide"
    }
   },
   "outputs": [
    {
     "name": "stdout",
     "output_type": "stream",
     "text": [
      "1 12 13 14\n"
     ]
    }
   ],
   "source": [
    "def test_args_func(first, second, third, fourth):\n",
    "    \"Prints each argument of the function\"\n",
    "    print(first, second, third, fourth)\n",
    "    \n",
    "dictionary = {\"second\": 12, \"fourth\": 14, \"third\": 13}\n",
    "\n",
    "test_args_func(1, **dictionary)"
   ]
  },
  {
   "cell_type": "markdown",
   "metadata": {
    "slideshow": {
     "slide_type": "slide"
    }
   },
   "source": [
    "# 5. Scope\n",
    "<a id='Scope'></a>\n",
    "__Global variables:__ Variable that are *declared* __outside__ of a function *can* be used __inside__ of the function. <br>\n",
    "They have *global scope*. \n",
    "\n",
    "__Local variables:__ Variables that are *declared* __inside__ of a function *can not* be used __outside__ of the function. \n",
    "<br>\n",
    "They have *local scope*. "
   ]
  },
  {
   "cell_type": "markdown",
   "metadata": {},
   "source": [
    "#### Example: Global Variables\n",
    "Global variables are accessible anywhere"
   ]
  },
  {
   "cell_type": "code",
   "execution_count": 16,
   "metadata": {
    "slideshow": {
     "slide_type": "slide"
    }
   },
   "outputs": [
    {
     "name": "stdout",
     "output_type": "stream",
     "text": [
      "Global variable\n"
     ]
    }
   ],
   "source": [
    "# global variable\n",
    "global_var = \"Global variable\"\n",
    "\n",
    "# define function\n",
    "def my_func():\n",
    "    \"\"\"\n",
    "    Prints a global variable \n",
    "    \"\"\"\n",
    "    # the function can access the global variable\n",
    "    print(global_var)    \n",
    "    \n",
    "\n",
    "\n",
    "# call function\n",
    "my_func()        "
   ]
  },
  {
   "cell_type": "markdown",
   "metadata": {},
   "source": [
    "The global variable may be created *after* the function is __defined__,\n",
    "<br>*but must* be created *before* the function is __called__."
   ]
  },
  {
   "cell_type": "code",
   "execution_count": null,
   "metadata": {
    "slideshow": {
     "slide_type": "slide"
    }
   },
   "outputs": [],
   "source": [
    "# define function\n",
    "def my_func():\n",
    "    \"\"\"\n",
    "    Prints a global variable \n",
    "    \"\"\"\n",
    "    # the function can access the global variable\n",
    "    print(global_var)  \n",
    "    \n",
    "    \n",
    "    \n",
    "# global variable\n",
    "global_var = \"Global variable\"\n",
    "\n",
    "\n",
    "# call function\n",
    "my_func()        "
   ]
  },
  {
   "cell_type": "markdown",
   "metadata": {
    "slideshow": {
     "slide_type": "subslide"
    }
   },
   "source": [
    "A global variable can be __created__ *inside* a function using the `global` keyword:"
   ]
  },
  {
   "cell_type": "code",
   "execution_count": 17,
   "metadata": {},
   "outputs": [
    {
     "name": "stdout",
     "output_type": "stream",
     "text": [
      "Locally assigned global variable\n"
     ]
    }
   ],
   "source": [
    "def my_func():\n",
    "     \n",
    "    # Locally assigned global variable\n",
    "    global var\n",
    "    var = \"Locally assigned global variable\"\n",
    "    \n",
    "\n",
    "# global variable does not exit before function call\n",
    "# print(var)\n",
    "\n",
    "my_func()\n",
    "\n",
    "print(var)"
   ]
  },
  {
   "cell_type": "markdown",
   "metadata": {
    "slideshow": {
     "slide_type": "slide"
    }
   },
   "source": [
    "#### Example: Local Variables\n",
    "Local variables only accessible within the function in which they are defined"
   ]
  },
  {
   "cell_type": "code",
   "execution_count": 19,
   "metadata": {
    "slideshow": {
     "slide_type": "-"
    }
   },
   "outputs": [
    {
     "name": "stdout",
     "output_type": "stream",
     "text": [
      "Local variable\n"
     ]
    },
    {
     "ename": "NameError",
     "evalue": "name 'local_var' is not defined",
     "output_type": "error",
     "traceback": [
      "\u001b[0;31m---------------------------------------------------------------------------\u001b[0m",
      "\u001b[0;31mNameError\u001b[0m                                 Traceback (most recent call last)",
      "\u001b[0;32m<ipython-input-19-4cbcfc9b5e40>\u001b[0m in \u001b[0;36m<module>\u001b[0;34m()\u001b[0m\n\u001b[1;32m     15\u001b[0m \u001b[0;34m\u001b[0m\u001b[0m\n\u001b[1;32m     16\u001b[0m \u001b[0;31m# try to print local variable\u001b[0m\u001b[0;34m\u001b[0m\u001b[0;34m\u001b[0m\u001b[0m\n\u001b[0;32m---> 17\u001b[0;31m \u001b[0mprint\u001b[0m\u001b[0;34m(\u001b[0m\u001b[0mlocal_var\u001b[0m\u001b[0;34m)\u001b[0m\u001b[0;34m\u001b[0m\u001b[0m\n\u001b[0m",
      "\u001b[0;31mNameError\u001b[0m: name 'local_var' is not defined"
     ]
    }
   ],
   "source": [
    "# define function\n",
    "def my_func():\n",
    "    \"\"\"\n",
    "    Prints a local variable \n",
    "    \"\"\"  \n",
    "    \n",
    "    # global variable\n",
    "    local_var = \"Local variable\"\n",
    "    print(local_var)\n",
    "    \n",
    "    \n",
    "# call function\n",
    "my_func()\n",
    "\n",
    "\n",
    "# try to print local variable\n",
    "# print(local_var)"
   ]
  },
  {
   "cell_type": "markdown",
   "metadata": {
    "slideshow": {
     "slide_type": "subslide"
    }
   },
   "source": [
    "__Readability:__ \n",
    "\n",
    "The limited scope of local variables can be useful。\n",
    "\n",
    "For example, some variable names can be useful for different tasks in our program. \n",
    "\n",
    "We may not want to \"use them up\" on a single task."
   ]
  },
  {
   "cell_type": "markdown",
   "metadata": {
    "slideshow": {
     "slide_type": "slide"
    }
   },
   "source": [
    "Due to scope, variables with the *same name* can appear globally and locally without conflict. \n",
    "\n",
    "This prevents variables declared inside a function from unexpectedly affecting other parts of a program. \n",
    "\n"
   ]
  },
  {
   "cell_type": "markdown",
   "metadata": {
    "slideshow": {
     "slide_type": "slide"
    }
   },
   "source": [
    "Where a local and global variable have the same name, the program will use the __local__ version.\n",
    "\n",
    "Let's modify our function `my_func` so now both the local and global varibale have the same name...\n",
    "\n",
    "This time the first `print(var)` raises an error.\n",
    "\n",
    "The local variable overrides the global variable, \n",
    "<br>however the local variable has not yet been assigned a value."
   ]
  },
  {
   "cell_type": "code",
   "execution_count": null,
   "metadata": {
    "slideshow": {
     "slide_type": "slide"
    }
   },
   "outputs": [],
   "source": [
    "# global variable\n",
    "var = \"Global variable\"\n",
    "\n",
    "\n",
    "def my_func():\n",
    "    # notice what happens this time if we try to access the global variable within the function\n",
    "    print(var)    \n",
    "     \n",
    "    # local variable of the same name\n",
    "    var = \"Local variable\"\n",
    "    print(var)\n",
    "\n",
    "    \n",
    "# Call the function.\n",
    "# print(my_func())"
   ]
  },
  {
   "cell_type": "code",
   "execution_count": null,
   "metadata": {},
   "outputs": [],
   "source": []
  },
  {
   "cell_type": "markdown",
   "metadata": {
    "slideshow": {
     "slide_type": "slide"
    }
   },
   "source": [
    "\n",
    "\n",
    "The global variable `var` is unaffected by the local variable `var`."
   ]
  },
  {
   "cell_type": "code",
   "execution_count": null,
   "metadata": {},
   "outputs": [],
   "source": [
    "# global variable\n",
    "var = \"Global variable\"\n",
    "\n",
    "def my_func():\n",
    "     \n",
    "    # local variable of the same name\n",
    "    var = \"Local variable\"\n",
    "    return var\n",
    "\n",
    "\n",
    "# Call the function.\n",
    "print(my_func())\n",
    "\n",
    "\n",
    "# The global variable is unaffected by the local variable\n",
    "print(var)\n",
    "\n",
    "\n",
    "# We can overwrite the global varibale with the returned value\n",
    "var = my_func()\n",
    "print(var)"
   ]
  },
  {
   "cell_type": "markdown",
   "metadata": {
    "slideshow": {
     "slide_type": "slide"
    }
   },
   "source": [
    "If we *really* want to use a global variable and a local variable:\n",
    "- with the same name \n",
    "- within the same function\n",
    "\n",
    "we can input use the global variable as a __function argument__.  \n",
    "\n",
    "By inputting it as an argument we rename the global variable for use within the function...."
   ]
  },
  {
   "cell_type": "code",
   "execution_count": null,
   "metadata": {
    "slideshow": {
     "slide_type": "slide"
    }
   },
   "outputs": [],
   "source": [
    "# Global \n",
    "var = \"Global variable\"\n",
    "\n",
    "\n",
    "def my_func(input_var):\n",
    "    # The global variable is renameed for use within a function with a local variable with the same name\n",
    "    print(input_var)    \n",
    "     \n",
    "    # Local\n",
    "    var = \"Local variable\"\n",
    "    print(var)\n",
    "    \n",
    "    return (input_var + \" \" + var)\n",
    "\n",
    "\n",
    "# Run the function, giving the global variable as an argument\n",
    "print(my_func(var))"
   ]
  },
  {
   "cell_type": "markdown",
   "metadata": {
    "slideshow": {
     "slide_type": "slide"
    }
   },
   "source": [
    "The global variable is unaffected by the function"
   ]
  },
  {
   "cell_type": "code",
   "execution_count": null,
   "metadata": {},
   "outputs": [],
   "source": [
    "print(var)"
   ]
  },
  {
   "cell_type": "markdown",
   "metadata": {
    "slideshow": {
     "slide_type": "slide"
    }
   },
   "source": [
    "...unless we overwrite the value of the global variable."
   ]
  },
  {
   "cell_type": "code",
   "execution_count": null,
   "metadata": {},
   "outputs": [],
   "source": [
    "print(var)\n",
    "\n",
    "var = my_func(var)\n",
    "\n",
    "print(var)"
   ]
  },
  {
   "cell_type": "markdown",
   "metadata": {
    "slideshow": {
     "slide_type": "subslide"
    }
   },
   "source": [
    "__Try it yourself__\n",
    "In the cell below:\n",
    "1. Create a global variable called `my_var`, with a numeric value\n",
    "1. Create a function, called `my_func`, that:\n",
    "    - takes a single argument, `input_var` \n",
    "    - creates a local variable called `my_var` (same name as global variable).\n",
    "    - returns the sum of the function argument and the local variable: `input_var + my_var`.<br><br>\n",
    "1. Print the output when the function `my_func` is called, giving the global varable `my_var` as the input agument.\n",
    "1. print the global variable `my_var`.\n",
    "1. Add a docstring to say what your function does"
   ]
  },
  {
   "cell_type": "markdown",
   "metadata": {
    "slideshow": {
     "slide_type": "slide"
    }
   },
   "source": [
    "A global variable can be __modified__ from *inside* a function using the `global` keyword:\n",
    "1. Use Python `global` keyword. Give the variable a name.\n",
    "```python\n",
    "global var\n",
    "```\n",
    "1. Assign the variable a value.\n",
    "```python\n",
    "var = 10\n",
    "```"
   ]
  },
  {
   "cell_type": "code",
   "execution_count": null,
   "metadata": {
    "slideshow": {
     "slide_type": "-"
    }
   },
   "outputs": [],
   "source": [
    "# global variable\n",
    "var = \"Global variable\"\n",
    "\n",
    "\n",
    "def my_func():\n",
    "     \n",
    "    # Locally assigned global variable\n",
    "    global var\n",
    "    var = \"Locally assigned global variable\"\n",
    "    \n",
    "\n",
    "    \n",
    "print(\"Before function call, var =\", var)\n",
    "\n",
    "\n",
    "# Call the function.\n",
    "my_func()\n",
    "\n",
    "\n",
    "print(\"After function call, var =\", var)"
   ]
  },
  {
   "cell_type": "markdown",
   "metadata": {
    "slideshow": {
     "slide_type": "subslide"
    }
   },
   "source": [
    "__Try it yourself__\n",
    "\n",
    "In the cell below:\n",
    "1. Copy and paste your code from the previous exercise.\n",
    "1. Edit your code so that:\n",
    " - The function `my_func` takes no input arguments. \n",
    " - The global variable `my_var` is overwritten within the function using the prefix `global`.  \n",
    "1. Print the global variable before and after calling the function to check your code. \n",
    "1. Modify the docstring as necessary."
   ]
  },
  {
   "cell_type": "code",
   "execution_count": null,
   "metadata": {},
   "outputs": [],
   "source": [
    "# Copy and paste code here:"
   ]
  },
  {
   "cell_type": "code",
   "execution_count": null,
   "metadata": {},
   "outputs": [],
   "source": [
    "# Global and local scope"
   ]
  },
  {
   "cell_type": "markdown",
   "metadata": {
    "slideshow": {
     "slide_type": "subslide"
    }
   },
   "source": [
    "As we have seen, a *local variable* can be accessed from outside the function by *returning* it. "
   ]
  },
  {
   "cell_type": "markdown",
   "metadata": {
    "slideshow": {
     "slide_type": "slide"
    }
   },
   "source": [
    "# 6. `return` \n",
    "<a id='return'></a>\n",
    "The `return` keyword defines the outputs of the function.\n",
    "\n",
    "A __single__ Python function can return:\n",
    "- no values\n",
    "- a single value \n",
    "- multiple return values"
   ]
  },
  {
   "cell_type": "markdown",
   "metadata": {
    "slideshow": {
     "slide_type": "slide"
    }
   },
   "source": [
    "For example, we could have a function that:\n",
    " - takes three values (`x0, x1, x2`)\n",
    " - returns the maximum, the minimum and the mean"
   ]
  },
  {
   "cell_type": "code",
   "execution_count": 24,
   "metadata": {
    "slideshow": {
     "slide_type": "slide"
    }
   },
   "outputs": [
    {
     "name": "stdout",
     "output_type": "stream",
     "text": [
      "(-20, 0.5, -6.466666666666666)\n",
      "-6.466666666666666\n"
     ]
    }
   ],
   "source": [
    "def compute_max_min_mean(x0, x1, x2):\n",
    "    \"Return maximum, minimum and mean values\"\n",
    "    \n",
    "    x_min = x0\n",
    "    if x1 < x_min:\n",
    "        x_min = x1\n",
    "    if x2 < x_min:\n",
    "        x_min = x2\n",
    "\n",
    "    x_max = x0\n",
    "    if x1 > x_max:\n",
    "        x_max = x1\n",
    "    if x2 > x_max:\n",
    "        x_max = x2\n",
    "\n",
    "    x_mean = (x0 + x1 + x2)/3    \n",
    "        \n",
    "    return x_min, x_max, x_mean\n",
    "\n",
    "\n",
    "Xmin, Xmax, Xmean = compute_max_min_mean(0.5, 0.1, -20)\n",
    "\n",
    "X = compute_max_min_mean(0.5, 0.1, -20)\n",
    "\n",
    "#print(Xmin, Xmax, Xmean)\n",
    "print(X)\n",
    "print(X[2])"
   ]
  },
  {
   "cell_type": "markdown",
   "metadata": {
    "slideshow": {
     "slide_type": "slide"
    }
   },
   "source": [
    "The __`return`__ keyword works a bit like the __`break`__ statement does in a loop.\n",
    "\n",
    "It returns the value and then exits the function before running the rest of the code."
   ]
  },
  {
   "cell_type": "markdown",
   "metadata": {
    "slideshow": {
     "slide_type": "slide"
    }
   },
   "source": [
    "Any code following the `return` statement will not be run.\n",
    "\n",
    "In this example, the code to increase x by 1 comes after the return statement. "
   ]
  },
  {
   "cell_type": "code",
   "execution_count": 25,
   "metadata": {
    "slideshow": {
     "slide_type": "slide"
    }
   },
   "outputs": [
    {
     "name": "stdout",
     "output_type": "stream",
     "text": [
      "1 > 0\n",
      "1 > 0\n",
      "1 > 0\n"
     ]
    }
   ],
   "source": [
    "x = 1\n",
    "\n",
    "def process_value(X):\n",
    "    \"Returns a value that depends on the input value x \"\n",
    "    \n",
    "    if X > 10:\n",
    "        return str(X) + \" > 10\"\n",
    "    elif X > 5:\n",
    "        return str(X) + \" > 5\"\n",
    "    elif X > 0:\n",
    "        return str(X) + \" > 0\"\n",
    "    else:\n",
    "        return str(X)\n",
    "    \n",
    "    # Increment global x by +1\n",
    "    global x\n",
    "    x = X + 1 \n",
    "    \n",
    "print(process_value(x))\n",
    "print(process_value(x))\n",
    "print(process_value(x))"
   ]
  },
  {
   "cell_type": "markdown",
   "metadata": {
    "slideshow": {
     "slide_type": "slide"
    }
   },
   "source": [
    "The return statement must come last."
   ]
  },
  {
   "cell_type": "code",
   "execution_count": 26,
   "metadata": {},
   "outputs": [
    {
     "name": "stdout",
     "output_type": "stream",
     "text": [
      "1 > 0\n",
      "2 > 0\n",
      "3 > 0\n"
     ]
    }
   ],
   "source": [
    "x = 1\n",
    "\n",
    "def process_value(X):\n",
    "    \"Returns a value that depends on the input value x \"\n",
    "    \n",
    "    #Increment global x by +1 \n",
    "    global x\n",
    "    x = X + 1 \n",
    "    \n",
    "    if x > 10:\n",
    "        return str(X) + \" > 10\"\n",
    "    elif x > 5:\n",
    "        return str(X) + \" > 5\"\n",
    "    elif x > 0:\n",
    "        return str(X) + \" > 0\"\n",
    "    else:\n",
    "        return str(X)    \n",
    "    \n",
    "print(process_value(x))\n",
    "print(process_value(x))\n",
    "print(process_value(x))"
   ]
  },
  {
   "cell_type": "markdown",
   "metadata": {
    "slideshow": {
     "slide_type": "slide"
    }
   },
   "source": [
    "It may be more appropriate to store the return item as a varable if multiple items are to be returned...\n",
    "<br> "
   ]
  },
  {
   "cell_type": "code",
   "execution_count": null,
   "metadata": {
    "slideshow": {
     "slide_type": "-"
    }
   },
   "outputs": [],
   "source": [
    "x = -3\n",
    "\n",
    "def process_value(X):    \n",
    "    \"Returns two values that depend on the input value x \"\n",
    "    if X > 10:\n",
    "        i = (str(X) + \" > 10\")\n",
    "    elif X > 0:\n",
    "        i = (str(X) + \" > 0\")\n",
    "    else:\n",
    "        i = None\n",
    "        \n",
    "    if X < 0:\n",
    "        j = (str(X) + \" < 0\")\n",
    "    elif X < 10:\n",
    "        j = (str(X) + \" < 10\")\n",
    "    else:\n",
    "        j = None\n",
    "    \n",
    "    global x\n",
    "    x = X + 1 \n",
    "    \n",
    "    return i, j\n",
    "\n",
    "\n",
    "#     if i and j:    \n",
    "#         return i, j  \n",
    "#     elif i:\n",
    "#         return (i,)\n",
    "#     else:\n",
    "#         return (j,)\n",
    "\n",
    "\n",
    "for k in range(14):\n",
    "    print(process_value(x))"
   ]
  },
  {
   "cell_type": "markdown",
   "metadata": {
    "slideshow": {
     "slide_type": "slide"
    }
   },
   "source": [
    "# 7. Lambda Functions\n",
    "<a id='LambdaFunctions'></a>\n",
    "\n",
    "When we create a function using the `def` keyword we assign it to a function name. \n",
    "\n",
    "```python\n",
    "def sum_and_increment():\n",
    "```\n",
    "\n"
   ]
  },
  {
   "cell_type": "markdown",
   "metadata": {
    "slideshow": {
     "slide_type": "slide"
    }
   },
   "source": [
    "We can also create an un-named function using the `lambda` keyword.\n",
    "\n",
    "A lambda function: \n",
    " - may contain a single expression, only\n",
    " - must always return a value\n",
    " \n",
    "\n",
    "```python\n",
    "output = lambda input_arg(s) : output_arg(s)\n",
    "```"
   ]
  },
  {
   "cell_type": "markdown",
   "metadata": {
    "slideshow": {
     "slide_type": "slide"
    }
   },
   "source": [
    "The next example shows the definition of a function and a lambda function.\n",
    "<br> Both perform exactly the same task; computing the value of `x`$^2$.\n",
    "\n",
    "Both can be called using:\n",
    "```python\n",
    "square(5)\n",
    "```\n",
    "with the number in brackets being the value that you want to square. "
   ]
  },
  {
   "cell_type": "code",
   "execution_count": null,
   "metadata": {},
   "outputs": [],
   "source": [
    "# function definition expressed on two lines\n",
    "# def square(x):\n",
    "#    return x ** 2\n",
    "\n",
    "# function definition expressed on one line\n",
    "def square(x) :  return x ** 2\n",
    "\n",
    "print(square(5))\n",
    "\n",
    "# un-named function\n",
    "square = lambda x : x ** 2\n",
    "    \n",
    "print(square(5))"
   ]
  },
  {
   "cell_type": "markdown",
   "metadata": {
    "slideshow": {
     "slide_type": "slide"
    }
   },
   "source": [
    "Lambda functions can have multiple inputs and outputs.\n",
    "\n",
    "Input arguments are seperated by commas. \n",
    "\n",
    "Output arguments are returned as a data structure (e.g. list)."
   ]
  },
  {
   "cell_type": "code",
   "execution_count": 34,
   "metadata": {},
   "outputs": [
    {
     "name": "stdout",
     "output_type": "stream",
     "text": [
      "[3, 1]\n"
     ]
    }
   ],
   "source": [
    "lam_func = lambda x, y: [x+y, x-y]\n",
    "\n",
    "print(lam_func(2, 1))"
   ]
  },
  {
   "cell_type": "markdown",
   "metadata": {
    "collapsed": true,
    "slideshow": {
     "slide_type": "slide"
    }
   },
   "source": [
    "So what is the point of the un-defined function? "
   ]
  },
  {
   "cell_type": "markdown",
   "metadata": {
    "slideshow": {
     "slide_type": "slide"
    }
   },
   "source": [
    "\n",
    "- Short functions can be written more concisely.\n",
    "- Functions can be embedded within main body of the code, for example within a list or another function.\n",
    "- This is not possible with a regular function...\n"
   ]
  },
  {
   "cell_type": "code",
   "execution_count": 45,
   "metadata": {
    "slideshow": {
     "slide_type": "slide"
    }
   },
   "outputs": [
    {
     "name": "stdout",
     "output_type": "stream",
     "text": [
      "25\n",
      "125\n",
      "625\n"
     ]
    }
   ],
   "source": [
    "# Regular function definition\n",
    "\n",
    "# 1. Define functions\n",
    "def function1(x): return x ** 2\n",
    "def function2(x): return x ** 3\n",
    "def function3(x): return x ** 4\n",
    "\n",
    "# 2. Compile list\n",
    "funcs = [function1, function2, function3]\n",
    "\n",
    "# 3. Call each function\n",
    "for function in funcs:\n",
    "    print(function(5))"
   ]
  },
  {
   "cell_type": "code",
   "execution_count": 46,
   "metadata": {
    "scrolled": true,
    "slideshow": {
     "slide_type": "slide"
    }
   },
   "outputs": [
    {
     "name": "stdout",
     "output_type": "stream",
     "text": [
      "25\n",
      "125\n",
      "625\n"
     ]
    }
   ],
   "source": [
    "# Lambda function\n",
    "\n",
    "# 1. Define lamda functions within list\n",
    "callbacks = [lambda x : x ** 2, lambda x : x ** 3, lambda x : x ** 4]\n",
    "\n",
    "# 3. Call each function\n",
    "for function in callbacks:\n",
    "    print(function(5))"
   ]
  },
  {
   "cell_type": "markdown",
   "metadata": {},
   "source": [
    "###### Example : Using `lambda` functions for conditionals"
   ]
  },
  {
   "cell_type": "code",
   "execution_count": 59,
   "metadata": {},
   "outputs": [
    {
     "name": "stdout",
     "output_type": "stream",
     "text": [
      "203,217,224,231,238,252,259,266,273,287,294,301,308,"
     ]
    }
   ],
   "source": [
    "for i in range(200, 320): \n",
    "    condition = lambda x: (x%7 == 0) and (x%5 != 0)\n",
    "    if (condition(i)):\n",
    "        print(i, end=\",\")"
   ]
  },
  {
   "cell_type": "markdown",
   "metadata": {},
   "source": [
    "###### Example : Using `lambda` functions as arguments of other functions\n",
    "To plot data (dependent variable, independent variable pairs), we often need to sort the data so that the independent variable is in ascending order.\n",
    "\n",
    "We use the `sorted` function to sort:\n",
    "- list y, using ascending numercial order of list x : `tmp = sorted(zip(x, y)) `\n",
    "- list x, using ascending numercial order of list y : `tmp = sorted(zip(y, x)) `\n",
    "\n",
    "`sorted` takes an argument, `key` that determines \n",
    "\n",
    "We can use a lambda function to sort:\n",
    "- list y, using ascending numercial order of list x : `tmp = sorted(zip(x, y), key=lambda x: x[0]) `\n",
    "- list x, using ascending numercial order of list y : `tmp = sorted(zip(x, y), key=lambda x: x[1]) `"
   ]
  },
  {
   "cell_type": "markdown",
   "metadata": {},
   "source": [
    "The next example is based on a previous class, where we learnt about comparing polynomial functions fitted to experimental data. \n",
    "\n",
    "The following cells include a lot of repetition as we compare polynomial functions.\n",
    "\n",
    "Let's see how we can optimise this process using functions and lambda functions.\n",
    "\n",
    "First let's look at the version of the code without functions:"
   ]
  },
  {
   "cell_type": "code",
   "execution_count": 47,
   "metadata": {
    "slideshow": {
     "slide_type": "slide"
    }
   },
   "outputs": [],
   "source": [
    "import numpy as np\n",
    "import matplotlib.pyplot as plt\n",
    "%matplotlib inline\n",
    "\n",
    "x = [0.000000000000000000e+00, 1.052631578947368363e+00, 2.105263157894736725e+00, 3.157894736842105310e+00,4.210526315789473450e+00, 5.263157894736841591e+00, 6.315789473684210620e+00,7.368421052631578760e+00,8.421052631578946901e+00,9.473684210526315042e+00,1.052631578947368318e+01,1.157894736842105132e+01,1.263157894736842124e+01,1.368421052631578938e+01,1.473684210526315752e+01, 1.578947368421052566e+01,1.684210526315789380e+01,1.789473684210526372e+01,1.894736842105263008e+01,2.000000000000000000e+01]\n",
    "y = [7.445192947240600745e+01, 4.834835792411828947e+01, 6.873305436340778840e+01, 5.979576407972768948e+01,6.404530772390434379e+01,6.090548420541189500e+01, 7.157546008677115879e+01, 8.620253336570679892e+01, 1.138154622045899913e+02, 8.493639813028174501e+01, 9.783457330550828601e+01, 1.082064229481453594e+02, 1.063876210674365979e+02, 1.001971993955305038e+02, 1.061496321788094832e+02, 1.279575585921491836e+02, 1.556956405962417875e+02, 1.584164804859289859e+02, 1.753888794716459358e+02, 1.980941276403034124e+02]\n",
    "# convert to numpy array to allow elementwise operations\n",
    "x = np.array(x)\n",
    "y = np.array(y)\n",
    "\n",
    "\n",
    "# 1st order polynomial\n",
    "a = np.polyfit(x, y, 1)\n",
    "\n",
    "# 2nd order polynomial\n",
    "b = np.polyfit(x, y, 2)\n",
    "\n",
    "# 3rd order polynomial \n",
    "c = np.polyfit(x, y, 3)\n",
    "\n",
    "# 4th order polynomial\n",
    "d = np.polyfit(x, y, 4)"
   ]
  },
  {
   "cell_type": "code",
   "execution_count": 48,
   "metadata": {},
   "outputs": [],
   "source": [
    "# sort x and y values so that x values are in ascending order\n",
    "tmp = sorted(zip(x, y)) \n",
    "x = [t[0] for t in tmp]\n",
    "y = [t[1] for t in tmp]\n",
    "\n",
    "# convert x and y to numpy array \n",
    "x = np.asarray(x)\n",
    "y = np.asarray(y)"
   ]
  },
  {
   "cell_type": "code",
   "execution_count": 49,
   "metadata": {
    "slideshow": {
     "slide_type": "-"
    }
   },
   "outputs": [],
   "source": [
    "# Fit polynomials of increasing order to the data\n",
    "\n",
    "# 1st order polynomial\n",
    "yfit1 = np.poly1d(a)(x)\n",
    "\n",
    "# 2nd order polynomial\n",
    "yfit2 = np.poly1d(b)(x)\n",
    "\n",
    "# 3rd order polynomial \n",
    "yfit3 = np.poly1d(c)(x)\n",
    "\n",
    "# 4th order polynomial\n",
    "yfit4 = np.poly1d(d)(x)\n",
    "\n"
   ]
  },
  {
   "cell_type": "code",
   "execution_count": 50,
   "metadata": {},
   "outputs": [
    {
     "name": "stdout",
     "output_type": "stream",
     "text": [
      "[16.528304147234387, 11.635756403462358, 11.062527387809336, 9.616664122733985]\n",
      "The 4 order polynomial gives the lowest error\n"
     ]
    },
    {
     "data": {
      "image/png": "[encoded data removed]",
      "text/plain": [
       "<Figure size 432x288 with 1 Axes>"
      ]
     },
     "metadata": {},
     "output_type": "display_data"
    }
   ],
   "source": [
    "# Find the root mean squared error (RMSE) of each polynomial\n",
    "RMSE = []\n",
    "\n",
    "for yfit in [yfit1, yfit2, yfit3, yfit4]:\n",
    "    # error\n",
    "    e = (yfit - y)\n",
    "\n",
    "    # RMSE\n",
    "    RMSE.append(np.sqrt(np.sum(e**2)/ len(y)))\n",
    "    \n",
    "print(RMSE)\n",
    "\n",
    "print(f\"The {np.argmin(RMSE) + 1} order polynomial gives the lowest error\")\n",
    "\n",
    "#print(list(enumerate(RMSE, 1)))\n",
    "\n",
    "\n",
    "# plot a scatter plot of raw data\n",
    "plt.plot(x, y, 'o', label='experiment data')\n",
    "\n",
    "\n",
    "# plot the fitted linear function \n",
    "# the argument 'label' is used to print the equation of the line on the plot \n",
    "plt.plot(x, yfit1, label=f'RMSE = {round(RMSE[0], 3)}');\n",
    "plt.plot(x, yfit2, label=f'RMSE = {round(RMSE[1], 3)}');\n",
    "plt.plot(x, yfit3, label=f'RMSE = {round(RMSE[2], 3)}');\n",
    "plt.plot(x, yfit4, label=f'RMSE = {round(RMSE[3], 3)}');\n",
    "\n",
    "\n",
    "# display the label \n",
    "# anchor the upper left corner of the legend to the point (1,1)\n",
    "# 1 represents the height and width of the plot respectively\n",
    "plt.legend(bbox_to_anchor=(1,1), loc=\"upper left\")\n",
    "\n",
    "\n",
    "# label the axes\n",
    "plt.xlabel('x')\n",
    "plt.ylabel('y')\n",
    "\n",
    "\n",
    "# add a title \n",
    "plt.title('Relationship between x and y');"
   ]
  },
  {
   "cell_type": "markdown",
   "metadata": {
    "slideshow": {
     "slide_type": "slide"
    }
   },
   "source": [
    "To avoid repeating the code to compute the RMSE, we can write a function."
   ]
  },
  {
   "cell_type": "code",
   "execution_count": 51,
   "metadata": {
    "slideshow": {
     "slide_type": "slide"
    }
   },
   "outputs": [
    {
     "name": "stdout",
     "output_type": "stream",
     "text": [
      "11.635756403462358\n"
     ]
    }
   ],
   "source": [
    "# ORIGINAL CODE\n",
    "# e = (yfit - y) # error\n",
    "# rmse = np.sqrt(np.sum(e**2)/ len(y)) # RMSE\n",
    "\n",
    "def RMSE(raw, fitted):\n",
    "    e = (fitted - raw)\n",
    "    return np.sqrt(np.sum(e**2)/ len(y))\n",
    "\n",
    "\n",
    "# Example : RMSE of second order polynomial function\n",
    "print(RMSE(y, yfit2))"
   ]
  },
  {
   "cell_type": "markdown",
   "metadata": {},
   "source": [
    "Let's look at a complete example:"
   ]
  },
  {
   "cell_type": "code",
   "execution_count": 52,
   "metadata": {},
   "outputs": [
    {
     "data": {
      "text/plain": [
       "<matplotlib.legend.Legend at 0x118506cc0>"
      ]
     },
     "execution_count": 52,
     "metadata": {},
     "output_type": "execute_result"
    },
    {
     "data": {
      "image/png": "[encoded data removed]",
      "text/plain": [
       "<Figure size 432x288 with 1 Axes>"
      ]
     },
     "metadata": {},
     "output_type": "display_data"
    }
   ],
   "source": [
    "# plot raw data\n",
    "plt.plot(x, y, 'o', label='experiment data')\n",
    "\n",
    "\n",
    "def fit_and_eval(order):\n",
    "    \"\"\" \n",
    "    Fits a polynomial of input order.\n",
    "    Plots the polynomial.\n",
    "    Labels the polynomial with RMSE\n",
    "    \"\"\"\n",
    "    coeffs = np.polyfit(x, y, order)\n",
    "    yfit = np.poly1d(coeffs)(x)\n",
    "    rmse = RMSE(y, yfit)\n",
    "    plt.plot(x, yfit, label=f'RMSE = {round(rmse,3)}');\n",
    "    \n",
    "\n",
    "# A list of polynomials to investigate\n",
    "poly_order = list(range(1,5)) # 1, 2, 3, 4\n",
    "    \n",
    "for o in poly_order:\n",
    "    fit_and_eval(o)\n",
    "    \n",
    "plt.legend()"
   ]
  },
  {
   "cell_type": "markdown",
   "metadata": {},
   "source": [
    "Notice that the function `RMSE` is used within the function `fit_and_eval`. \n",
    "\n",
    "`RMSE` is a short funtion so it can be conveniantly defined as a lambda function to keep things neat and tidy:"
   ]
  },
  {
   "cell_type": "code",
   "execution_count": 53,
   "metadata": {
    "slideshow": {
     "slide_type": "-"
    }
   },
   "outputs": [],
   "source": [
    "RMSE_lam = lambda raw, fitted : np.sqrt(np.sum((fitted - raw)**2)/ len(y))"
   ]
  },
  {
   "cell_type": "markdown",
   "metadata": {
    "slideshow": {
     "slide_type": "slide"
    }
   },
   "source": [
    "The same answer is produced by the regular and lambda functions:"
   ]
  },
  {
   "cell_type": "code",
   "execution_count": 54,
   "metadata": {},
   "outputs": [
    {
     "name": "stdout",
     "output_type": "stream",
     "text": [
      "11.635756403462358 11.635756403462358\n"
     ]
    }
   ],
   "source": [
    "print(RMSE(y, yfit2),   RMSE_lam(y, yfit2))"
   ]
  },
  {
   "cell_type": "markdown",
   "metadata": {},
   "source": [
    "Here is the new version of `fit_and_eval` using the lamda function :"
   ]
  },
  {
   "cell_type": "code",
   "execution_count": 55,
   "metadata": {},
   "outputs": [],
   "source": [
    "def fit_and_eval(order):\n",
    "    \"\"\" \n",
    "    Fits a polynomial of input order.\n",
    "    Plots the polynomial.\n",
    "    Labels the polynomial with RMSE\n",
    "    \"\"\"\n",
    "    coeffs = np.polyfit(x, y, order)\n",
    "    yfit = np.poly1d(coeffs)(x)\n",
    "    rmse = lambda y, y_fit : np.sqrt(np.sum((y_fit - y)**2)/ len(y))\n",
    "    plt.plot(x, yfit, label=f'RMSE = {round(rmse,3)}');"
   ]
  },
  {
   "cell_type": "markdown",
   "metadata": {
    "slideshow": {
     "slide_type": "slide"
    }
   },
   "source": [
    "# 8. Recursive Functions\n",
    "<a id='RecursiveFunctions'></a>\n",
    "A recursive function is a function that makes calls to itself.\n",
    "\n",
    "Let's consider a well-known example, the Fibonacci series of numbers."
   ]
  },
  {
   "cell_type": "markdown",
   "metadata": {
    "slideshow": {
     "slide_type": "slide"
    }
   },
   "source": [
    "### The Fibonacci Sequence\n",
    "<a id='FibonacciSequence'></a>\n",
    "An integer sequence characterised by the fact that every number (after the first two) is the sum of the two preceding numbers. \n",
    "\n",
    "i.e. the $n$th term $f(n)$ is computed from the preceding terms $f(n-1)$ and $f(n-2)$. \n",
    "\n",
    "$$\n",
    "f(n) = f(n-1) + f(n-2)\n",
    "$$\n",
    "\n",
    "for $n > 1$\n",
    "\n",
    "$f(0) = 0$ and $f(1) = 1$. \n",
    "\n",
    "Due to this dependency on previous terms, we say the series is defined __recursively__.\n",
    "\n",
    "\n",
    "\n",
    "\n",
    "\n",
    "\n",
    "\n"
   ]
  },
  {
   "cell_type": "markdown",
   "metadata": {
    "slideshow": {
     "slide_type": "slide"
    }
   },
   "source": [
    "The number sequence appears in many natural geometric arrangements: \n",
    "\n",
    "<img src=\"img/FibonacciSpiral.png\" alt=\"Drawing\" style=\"width: 200px;\"/> \n",
    "<img src=\"img/fibonacci-whelk.jpg\" alt=\"Drawing\" style=\"width: 200px;\"/>"
   ]
  },
  {
   "cell_type": "markdown",
   "metadata": {
    "slideshow": {
     "slide_type": "slide"
    }
   },
   "source": [
    "Below is a function that computes the $n$th number in the Fibonacci sequence using a `for` loop inside the function."
   ]
  },
  {
   "cell_type": "code",
   "execution_count": null,
   "metadata": {
    "slideshow": {
     "slide_type": "slide"
    }
   },
   "outputs": [],
   "source": [
    "def fib(n):\n",
    "    \"Compute the nth Fibonacci number\"\n",
    "    # Starting values for f0 and f1\n",
    "    f0, f1 = 0, 1\n",
    "\n",
    "    # Handle cases n==0 and n==1\n",
    "    if n == 0:\n",
    "        return 0\n",
    "    elif n == 1:\n",
    "        return 1\n",
    "    \n",
    "    # Start loop (from n = 2)    \n",
    "    for i in range(2, n + 1):\n",
    "        \n",
    "        # Compute next term in sequence\n",
    "        f = f1 + f0\n",
    "\n",
    "        # Update f0 and f1    \n",
    "        f0 = f1\n",
    "        f1 = f\n",
    "        \n",
    "    # Return Fibonacci number\n",
    "    return f\n",
    "\n",
    "print(fib(10))\n",
    "\n",
    "\n"
   ]
  },
  {
   "cell_type": "markdown",
   "metadata": {
    "slideshow": {
     "slide_type": "slide"
    }
   },
   "source": [
    "The __recursive function__ below return the same result.\n",
    "\n",
    "It is simpler and has a more \"mathematical\" structure."
   ]
  },
  {
   "cell_type": "code",
   "execution_count": 37,
   "metadata": {
    "slideshow": {
     "slide_type": "slide"
    }
   },
   "outputs": [
    {
     "name": "stdout",
     "output_type": "stream",
     "text": [
      "55\n"
     ]
    }
   ],
   "source": [
    "def f(n): \n",
    "    \"Compute the nth Fibonacci number using recursion\"\n",
    "    if n == 0:\n",
    "        return 0  # This doesn't call f, so it breaks out of the recursion loop\n",
    "    elif n == 1:\n",
    "        return 1  # This doesn't call f, so it breaks out of the recursion loop\n",
    "    else:\n",
    "        return f(n - 1) + f(n - 2)  # This calls f for n-1 and n-2 (recursion), and returns the sum \n",
    "\n",
    "print(f(10))\n",
    "\n"
   ]
  },
  {
   "cell_type": "markdown",
   "metadata": {
    "slideshow": {
     "slide_type": "slide"
    }
   },
   "source": [
    "Care needs to be taken when using recursion that a program does not enter an infinite recursion loop. \n",
    "\n",
    "There must be a mechanism to 'break out' of the recursion cycle. "
   ]
  },
  {
   "cell_type": "markdown",
   "metadata": {
    "collapsed": true,
    "slideshow": {
     "slide_type": "slide"
    }
   },
   "source": [
    "# Summary\n",
    "<a id='Summary'></a>\n",
    " - Functions are defined using the `def` keyword.\n",
    " - Functions contain indented statements to execute when the function is called.\n",
    " - Global variables can be used eveywhere.\n",
    " - Local variables can be used within the function in which they are defined.\n",
    " - Function arguments (inputs) are declared between () parentheses, seperated by commas.\n",
    " - Function arguments muct be specified each time a function is called. \n",
    " - Default arguments do not need to be specified when a function is called unless different values are to be used. \n",
    " - The keyword used to define the function outputs is `return`\n"
   ]
  }
 ],
 "metadata": {
  "kernelspec": {
   "display_name": "Python 3",
   "language": "python",
   "name": "python3"
  },
  "language_info": {
   "codemirror_mode": {
    "name": "ipython",
    "version": 3
   },
   "file_extension": ".py",
   "mimetype": "text/x-python",
   "name": "python",
   "nbconvert_exporter": "python",
   "pygments_lexer": "ipython3",
   "version": "3.6.5"
  }
 },
 "nbformat": 4,
 "nbformat_minor": 2
}
