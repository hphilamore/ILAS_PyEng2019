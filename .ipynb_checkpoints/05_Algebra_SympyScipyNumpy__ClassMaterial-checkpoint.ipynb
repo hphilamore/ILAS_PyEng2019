{
 "cells": [
  {
   "cell_type": "markdown",
   "metadata": {
    "collapsed": true,
    "slideshow": {
     "slide_type": "slide"
    }
   },
   "source": [
    "# 05 Algebra with Sympy, Scipy and Numpy \n",
    "## CLASS MATERIAL\n",
    "\n",
    "<br> <a href='#FindingRootsPolynomials'>1. Finding Roots of Polynomials</a>\n",
    "<br> <a href='#RootFindingInitialEstimate'>2. Root Finding using an Initial Estimate</a> \n",
    "<br> <a href='#SystemsCoupledEquations'>3. Systems of Coupled Equations</a> \n",
    "<br> <a href='#SymbolicMathematics'>4. Symbolic Mathematics</a> \n",
    "<br><a href='#ReviewExercises'>5. Review Exercises</a>\n",
    "\n"
   ]
  },
  {
   "cell_type": "markdown",
   "metadata": {
    "slideshow": {
     "slide_type": "slide"
    }
   },
   "source": [
    "# Update the class notes.\n",
    "\n",
    "```\n",
    "./automerge\n",
    "```"
   ]
  },
  {
   "cell_type": "markdown",
   "metadata": {
    "slideshow": {
     "slide_type": "slide"
    }
   },
   "source": [
    "### Lesson Goal\n",
    "\n",
    "In this class we will learn some useful techniques for making common algebraic operations faster and easier by solving them computationally. \n",
    "\n",
    "This can help you to:\n",
    "1. Quickly solve time-consuming mathematical problems \n",
    "1. Solve \"messy\" problems (e.g. experimental data)\n",
    "1. Check your answers to problems solved using hand calculations\n",
    "\n",
    "\n",
    "### Fundamental programming concepts\n",
    " - Python `sympy`, `numpy` and `scipy` libraries\n",
    " - Manipulating arrays to use within functions\n"
   ]
  },
  {
   "cell_type": "code",
   "execution_count": 1,
   "metadata": {},
   "outputs": [],
   "source": [
    "import numpy as np\n",
    "import random \n",
    "import matplotlib.pyplot as plt\n",
    "%matplotlib inline"
   ]
  },
  {
   "cell_type": "markdown",
   "metadata": {
    "slideshow": {
     "slide_type": "slide"
    }
   },
   "source": [
    "<a id='FindingRootsPolynomials'></a>\n",
    "\n",
    "## 1. Finding Roots of Polynomials\n",
    "\n",
    "\n",
    "Many applications involve finding the roots of a function $f(x)$.\n",
    "\n",
    "That is, we want to find a value or values for $x$ such that $f(x)=0$.\n",
    "\n",
    "Finding the roots of a function is one of the most fundamental mathematical tasks in engineering."
   ]
  },
  {
   "cell_type": "markdown",
   "metadata": {},
   "source": [
    "For example, __optimization__ is one of the most important and common tasks in engineering. \n",
    "\n",
    "__Optimization__ : Finding the maximal or minimal value of a dependent variable with respect to some independent variable(s). \n",
    "\n",
    "To find the maxima and minima of some function:\n",
    "- take the derivative(s) of the function with respect to the independent variable(s)\n",
    "- find values of the function for which the derivative(s) are equal to zero"
   ]
  },
  {
   "cell_type": "markdown",
   "metadata": {
    "slideshow": {
     "slide_type": "slide"
    }
   },
   "source": [
    "Last week, we studied how to fit a polynimal function through a series of data points. \n",
    "\n",
    "Often, we want to find the roots/zeros of a polynomial. \n",
    "\n",
    "For some functions, the roots are easy to find analytically:\n",
    "\n",
    "$f(x) = 2x^3 - 8x^2 - 96x$\n",
    "\n",
    "As each term is divisible by $2x$, we can easily factorise this function to:\n",
    "\n",
    "$f(x)=(2x)(x + 4)(x - 8)$\n",
    "\n",
    "The roots are 0, -4, and 8."
   ]
  },
  {
   "cell_type": "markdown",
   "metadata": {
    "slideshow": {
     "slide_type": "slide"
    }
   },
   "source": [
    "When working with real data, root finding is often not so straighforward. \n",
    "\n",
    "- noisy experimental data\n",
    "- higher order polynomials "
   ]
  },
  {
   "cell_type": "code",
   "execution_count": 6,
   "metadata": {
    "slideshow": {
     "slide_type": "-"
    }
   },
   "outputs": [],
   "source": [
    "# Example data \n",
    "x = np.linspace(-6, 10, 100) # 100 equally spaced points between -6 and 10\n",
    "\n",
    "y = (2*x**3 - 8*x**2 - 96*x) # function y = 2x^3 - 8x^2 - 96x\n",
    "\n",
    "\n",
    "\n",
    "\n"
   ]
  },
  {
   "cell_type": "markdown",
   "metadata": {
    "slideshow": {
     "slide_type": "slide"
    }
   },
   "source": [
    "We can use pseudo-random number generators to make the data more \"messy\" i.e. more like real experimental data.\n",
    "\n",
    "This is an example of scope. \n",
    "\n",
    "Notice that two random number libraries are used:\n",
    "\n",
    "- `np.random` e.g. `np.random.random` : generates rando number in range [0.0, 1.0)\n",
    "- `random` e.g `random.sample` : selects a random sample from data given"
   ]
  },
  {
   "cell_type": "code",
   "execution_count": 7,
   "metadata": {},
   "outputs": [],
   "source": [
    "# add noise : multiply each y value by random number\n",
    "y_n = y * np.random.random(size=x.shape) \n",
    "\n",
    "# Choose a random sample of 50 data points\n",
    "x_e, y_e = zip(*random.sample(list(zip(x, y_n)), 50))\n",
    "\n",
    "# sort into x-ascending order \n",
    "tmp = sorted(zip(x_e, y_e))\n",
    "x_e = [t[0] for t in tmp]\n",
    "y_e = [t[1] for t in tmp]"
   ]
  },
  {
   "cell_type": "code",
   "execution_count": 8,
   "metadata": {
    "slideshow": {
     "slide_type": "slide"
    }
   },
   "outputs": [],
   "source": [
    "# Fit a polynomial of order 3 to the data\n",
    "coeffs = np.polyfit(x_e, y_e, 3)\n",
    "yfit = np.poly1d(coeffs)(x_e)\n",
    "\n",
    "# Round all coefficients to 3d.p.\n",
    "coeffs = [round(c,3) for c in coeffs]"
   ]
  },
  {
   "cell_type": "code",
   "execution_count": 9,
   "metadata": {},
   "outputs": [
    {
     "data": {
      "text/plain": [
       "<matplotlib.legend.Legend at 0x11aa376a0>"
      ]
     },
     "execution_count": 9,
     "metadata": {},
     "output_type": "execute_result"
    },
    {
     "data": {
      "image/png": "[encoded data removed]",
      "text/plain": [
       "<Figure size 432x288 with 1 Axes>"
      ]
     },
     "metadata": {},
     "output_type": "display_data"
    }
   ],
   "source": [
    "# Plot the data\n",
    "plt.plot(x, y,  label=f'2x^3 - 8x^2 - 96')      # orignal data\n",
    "plt.plot(x_e, y_e, 'ro')                        # \"experimental\" data\n",
    "plt.plot(x_e, yfit, label=f'{coeffs[0]}x^3 + ({coeffs[1]})x^2 + ({coeffs[2]})x + ({coeffs[3]})')      # fitted data\n",
    "\n",
    "plt.legend(bbox_to_anchor=(1,1), loc=\"upper left\")"
   ]
  },
  {
   "cell_type": "markdown",
   "metadata": {
    "slideshow": {
     "slide_type": "slide"
    }
   },
   "source": [
    "We can see that the fitted polynomial does not factorise so cleanly. \n",
    "\n",
    "This makes it difficult to solve the equation *analytically*. \n",
    "\n",
    "- __Analytical solution__ : frames the problem in a well-understood form. An exact solution can be found.\n",
    "- __Numerical solution__ :  iteratively guesses at the solution until the answer is good enough enough to stop."
   ]
  },
  {
   "cell_type": "markdown",
   "metadata": {
    "slideshow": {
     "slide_type": "slide"
    }
   },
   "source": [
    "We can solve the problem numerically, for example using the bisection method. \n",
    "<img src=\"img/bisection_method.png\" alt=\"Drawing\" style=\"width: 300px;\"/>\n",
    "__Biscetion method__:\n",
    "For a given function F(x):\n",
    "1. two values a and b are chosen for which F(a) > 0 and F(b) < 0 (or the other way around)\n",
    "1. interval halving: a midpoint x=c is calculated as the arithmetic mean between a and b, c = (a + b) / 2\n",
    "1. F(c) is evaluated at c\n",
    "1. if F(c) = 0 the root of the function is c\n",
    "1. if F(c) ≠ 0, check the sign of F(c):\n",
    "    - if F(c) has the same sign as F(a), replace a with c (b stays the same)\n",
    "    - if F(c) has the same sign as F(b), replace b with c (a stays the same)\n",
    "1. go back to step 2.\n",
    "\n",
    "The algorithm ends when the values of F(c) is less than a defined tolerance (e.g. 0.001). "
   ]
  },
  {
   "cell_type": "markdown",
   "metadata": {
    "slideshow": {
     "slide_type": "slide"
    }
   },
   "source": [
    "When we import a Python function, a computer algorithm runs this or a similar numerical solver. \n",
    "\n",
    "We can use the functions `roots` to find the roots of a polynomial function.\n",
    "\n",
    "Appreciably, this is much faster than finding the roots numericlaly by hand or by writing the algorithm ourselves. "
   ]
  },
  {
   "cell_type": "code",
   "execution_count": 10,
   "metadata": {},
   "outputs": [
    {
     "name": "stdout",
     "output_type": "stream",
     "text": [
      "[ 8.88863569 -5.45165022 -0.3333914 ]\n"
     ]
    }
   ],
   "source": [
    "r = np.roots(coeffs)\n",
    "print(r)\n"
   ]
  },
  {
   "cell_type": "markdown",
   "metadata": {
    "slideshow": {
     "slide_type": "slide"
    }
   },
   "source": [
    "We can plot the polynomial equation and the roots to check the solution:"
   ]
  },
  {
   "cell_type": "code",
   "execution_count": 11,
   "metadata": {},
   "outputs": [
    {
     "data": {
      "text/plain": [
       "[<matplotlib.lines.Line2D at 0x11abba748>]"
      ]
     },
     "execution_count": 11,
     "metadata": {},
     "output_type": "execute_result"
    },
    {
     "data": {
      "image/png": "[encoded data removed]",
      "text/plain": [
       "<Figure size 432x288 with 1 Axes>"
      ]
     },
     "metadata": {},
     "output_type": "display_data"
    }
   ],
   "source": [
    "plt.plot(x_e, yfit)                   # fitted data\n",
    "plt.axhline(0, color='black', lw=0.5) # y=0 axis\n",
    "\n",
    "z = np.zeros(len(r))                  # array of zeros  \n",
    "plt.plot(r, z, 'ks')                  # roots"
   ]
  },
  {
   "cell_type": "markdown",
   "metadata": {
    "slideshow": {
     "slide_type": "slide"
    }
   },
   "source": [
    "For a polynomial function, we know that there will be as many roots as the order of the function.\n",
    "<br>e.g. the cubic function above will have three roots.\n",
    "\n",
    "It is easy to verify this:\n",
    "1. visually from the plot above.\n",
    "1. in code:"
   ]
  },
  {
   "cell_type": "code",
   "execution_count": 12,
   "metadata": {
    "scrolled": true
   },
   "outputs": [
    {
     "name": "stdout",
     "output_type": "stream",
     "text": [
      "number of roots = 3\n"
     ]
    }
   ],
   "source": [
    "print(f'number of roots = {len(r)}')"
   ]
  },
  {
   "cell_type": "markdown",
   "metadata": {
    "slideshow": {
     "slide_type": "slide"
    }
   },
   "source": [
    "Another example showing the full process:"
   ]
  },
  {
   "cell_type": "code",
   "execution_count": 13,
   "metadata": {},
   "outputs": [
    {
     "data": {
      "text/plain": [
       "[<matplotlib.lines.Line2D at 0x11ac94ef0>]"
      ]
     },
     "execution_count": 13,
     "metadata": {},
     "output_type": "execute_result"
    },
    {
     "data": {
      "image/png": "[encoded data removed]",
      "text/plain": [
       "<Figure size 432x288 with 1 Axes>"
      ]
     },
     "metadata": {},
     "output_type": "display_data"
    }
   ],
   "source": [
    "X = np.linspace(-4, 4)       # x data\n",
    "coeffs = [1, -1, -6, 0, 0]   # coefficients of polynomial\n",
    "Y = np.poly1d(coeffs)(X)     # y data\n",
    "R = np.roots(coeffs)         # roots\n",
    "\n",
    "# plot\n",
    "plt.axhline(0, color='black', lw=0.5) \n",
    "plt.plot(X, Y)               # x,y data   \n",
    "Z = np.zeros(len(R))                  \n",
    "plt.plot(R, Z, 'ks')         # roots"
   ]
  },
  {
   "cell_type": "markdown",
   "metadata": {
    "slideshow": {
     "slide_type": "slide"
    }
   },
   "source": [
    "<a id='RootFindingInitialEstimate'></a>\n",
    "# 2. Root Finding using an Initial Estimate\n",
    "\n",
    "\n",
    "\n",
    "`roots` ony works for polynomials.\n",
    "\n",
    "There are other python functions available for finding the roots of other functions.\n",
    "\n",
    "For a polynomial function, we know that there will be as many roots as the order of the function.\n",
    "\n",
    "For other functions, the number of roots may be:\n",
    "\n",
    "- initially unknown\n",
    "- infinite\n",
    "<img src=\"img/cos_graph.png\" alt=\"Drawing\" style=\"width: 300px;\"/> "
   ]
  },
  {
   "cell_type": "markdown",
   "metadata": {
    "slideshow": {
     "slide_type": "slide"
    }
   },
   "source": [
    "The function `fsolve` finds the roots of a function, given a starting estimate."
   ]
  },
  {
   "cell_type": "code",
   "execution_count": 14,
   "metadata": {},
   "outputs": [],
   "source": [
    "from scipy.optimize import fsolve"
   ]
  },
  {
   "cell_type": "code",
   "execution_count": 15,
   "metadata": {},
   "outputs": [
    {
     "name": "stdout",
     "output_type": "stream",
     "text": [
      "[2.]\n"
     ]
    }
   ],
   "source": [
    "# the function must be a python function\n",
    "def f(t):\n",
    "    return t**2 - 4\n",
    "\n",
    "starting_guess = 3\n",
    "\n",
    "print(fsolve(f, starting_guess))"
   ]
  },
  {
   "cell_type": "markdown",
   "metadata": {
    "slideshow": {
     "slide_type": "slide"
    }
   },
   "source": [
    "We can plot the data to check that there is a root at 2."
   ]
  },
  {
   "cell_type": "code",
   "execution_count": 16,
   "metadata": {
    "scrolled": true
   },
   "outputs": [
    {
     "data": {
      "text/plain": [
       "<matplotlib.lines.Line2D at 0x101c1ac390>"
      ]
     },
     "execution_count": 16,
     "metadata": {},
     "output_type": "execute_result"
    },
    {
     "data": {
      "image/png": "[encoded data removed]",
      "text/plain": [
       "<Figure size 432x288 with 1 Axes>"
      ]
     },
     "metadata": {},
     "output_type": "display_data"
    }
   ],
   "source": [
    "plt.plot(range(4), [f(r) for r in (range(4))])\n",
    "plt.axhline(0, color='black', lw=0.5)"
   ]
  },
  {
   "cell_type": "markdown",
   "metadata": {
    "slideshow": {
     "slide_type": "slide"
    }
   },
   "source": [
    "A `lambda` function can be used to make the code shorter as we do not need to create a function definition with `def`."
   ]
  },
  {
   "cell_type": "code",
   "execution_count": 17,
   "metadata": {},
   "outputs": [
    {
     "name": "stdout",
     "output_type": "stream",
     "text": [
      "[2.]\n"
     ]
    }
   ],
   "source": [
    "starting_guess = 3\n",
    "\n",
    "print(fsolve(lambda t: t**2 - 4, starting_guess))"
   ]
  },
  {
   "cell_type": "markdown",
   "metadata": {
    "slideshow": {
     "slide_type": "slide"
    }
   },
   "source": [
    "Let's plot the experimental data from earlier. "
   ]
  },
  {
   "cell_type": "code",
   "execution_count": 18,
   "metadata": {},
   "outputs": [
    {
     "data": {
      "text/plain": [
       "<matplotlib.lines.Line2D at 0x101c291e10>"
      ]
     },
     "execution_count": 18,
     "metadata": {},
     "output_type": "execute_result"
    },
    {
     "data": {
      "image/png": "[encoded data removed]",
      "text/plain": [
       "<Figure size 432x288 with 1 Axes>"
      ]
     },
     "metadata": {},
     "output_type": "display_data"
    }
   ],
   "source": [
    "plt.plot( x_e, y_e, 'ro')  # \"experimental\" data\n",
    "plt.plot( x_e, yfit )      # fitted data\n",
    "plt.axhline(0, color='black', lw=0.5) "
   ]
  },
  {
   "cell_type": "markdown",
   "metadata": {
    "slideshow": {
     "slide_type": "slide"
    }
   },
   "source": [
    "We can see that there are roots close to -6, 0 and 10"
   ]
  },
  {
   "cell_type": "code",
   "execution_count": 19,
   "metadata": {},
   "outputs": [],
   "source": [
    "# Fit a polynomial of order 3 to the data\n",
    "coeffs = np.polyfit(x_e, y_e, 3)"
   ]
  },
  {
   "cell_type": "code",
   "execution_count": 20,
   "metadata": {},
   "outputs": [
    {
     "name": "stdout",
     "output_type": "stream",
     "text": [
      "[-5.45132822]\n",
      "[-0.33338409]\n",
      "[8.88749303]\n"
     ]
    }
   ],
   "source": [
    "print(fsolve(lambda t: np.poly1d(coeffs)(t), -6))\n",
    "print(fsolve(lambda t: np.poly1d(coeffs)(t), 0))\n",
    "print(fsolve(lambda t: np.poly1d(coeffs)(t), 10))"
   ]
  },
  {
   "cell_type": "markdown",
   "metadata": {},
   "source": [
    "These are the same as the roots we found earlier."
   ]
  },
  {
   "cell_type": "markdown",
   "metadata": {
    "slideshow": {
     "slide_type": "slide"
    }
   },
   "source": [
    "It is possible to automate this search by setting a tolerance for the proximity of a value to 0 at which the computer should check for a root. \n",
    "\n",
    "As this depends on the resolution of your y data, it is advisable to plot the data in order to check your solution.\n",
    "\n"
   ]
  },
  {
   "cell_type": "code",
   "execution_count": 21,
   "metadata": {},
   "outputs": [
    {
     "name": "stdout",
     "output_type": "stream",
     "text": [
      "tolerance = 0.1\n",
      "\n",
      "tolerance = 1\n",
      "[-0.33338409]\n",
      "\n",
      "tolerance = 10\n",
      "[-5.45132822]\n",
      "[8.88749303]\n",
      "[-0.33338409]\n",
      "[-5.45132822]\n",
      "\n",
      "tolerance = 11\n",
      "[-5.45132822]\n",
      "[8.88749303]\n",
      "[-0.33338409]\n",
      "[-5.45132822]\n",
      "\n",
      "tolerance = 20\n",
      "[-5.45132822]\n",
      "[8.88749303]\n",
      "[8.88749303]\n",
      "[-0.33338409]\n",
      "[-5.45132822]\n",
      "\n"
     ]
    }
   ],
   "source": [
    "def all_roots(tolerance):\n",
    "    \"\"\"\n",
    "    Uses fsolve to find a root close a y value if the y value is within a given tolerance of the x axis\n",
    "    \"\"\"\n",
    "    print(f'tolerance = {tolerance}')\n",
    "    for guess in np.poly1d(coeffs)(x_e):\n",
    "        if abs(guess) < tolerance:\n",
    "            print(fsolve(lambda t: np.poly1d(coeffs)(t), guess))\n",
    "    print()\n",
    "    \n",
    "\n",
    "all_roots(0.1)\n",
    "all_roots(1)\n",
    "all_roots(10)\n",
    "all_roots(11)\n",
    "all_roots(20)"
   ]
  },
  {
   "cell_type": "markdown",
   "metadata": {
    "slideshow": {
     "slide_type": "slide"
    }
   },
   "source": [
    "<a id='SystemsCoupledEquations'></a>\n",
    "# 3. Systems of Coupled Equations\n",
    "\n",
    "<br> <a href='#SystemsLinearEquations'>3.1 Systems of Linear Equations</a>\n",
    "<br> <a href='#SystemsNonLinearEquations'>3.2. Systems of Non-Linear Equations</a> \n",
    "\n",
    "\n",
    "\n",
    "\n",
    "<a id='SystemsLinearEquations'></a>\n",
    "### 3.1 Systems of Linear Equations\n",
    "\n",
    "\n",
    "A system of linear equations (or linear system) is a collection of two or more linear equations involving the same set of variables. "
   ]
  },
  {
   "cell_type": "markdown",
   "metadata": {
    "slideshow": {
     "slide_type": "-"
    }
   },
   "source": [
    "__Example :__ Given the equations below, find $x_1$, $x_2$ and $x_3$.\n",
    "\n",
    "\\begin{align*}\n",
    "x_1 - x_2 + x_3 &= 0\\\\\n",
    "10x_2 + 25x_3 &= 90\\\\\n",
    "20x_1 + 10x_2 &= 80\\\\\n",
    "\\end{align*}\n",
    "\n"
   ]
  },
  {
   "cell_type": "markdown",
   "metadata": {
    "slideshow": {
     "slide_type": "slide"
    }
   },
   "source": [
    "We have three equations and three unknown values so we can solve the equations by hand, for example using substitution or elimitaion.\n",
    "\n",
    "As the number of variables or the number of equations increases, the calculation time and difficulty in finding the solution may also increase. \n",
    "\n"
   ]
  },
  {
   "cell_type": "markdown",
   "metadata": {},
   "source": [
    "We can use the function `solve` from the Numpy linear algebra module.\n",
    "\n",
    "`solve` solves equations of the form `ax = b` for x\n",
    "\n",
    "To put the system of equations into this form, we must represent the system using matrices, and in code, `numpy array`s. "
   ]
  },
  {
   "cell_type": "markdown",
   "metadata": {
    "slideshow": {
     "slide_type": "slide"
    }
   },
   "source": [
    "First, arrange the values from the right-hand-side and the coefficients from the left-hand-side as Numpy arrays.\n",
    "\n"
   ]
  },
  {
   "cell_type": "code",
   "execution_count": 22,
   "metadata": {},
   "outputs": [],
   "source": [
    "A = np.array([[1, -1, 1],\n",
    "              [0, 10, 25],\n",
    "              [20, 10, 0]])\n",
    "\n",
    "B = np.array([0, 90, 80])"
   ]
  },
  {
   "cell_type": "markdown",
   "metadata": {
    "slideshow": {
     "slide_type": "slide"
    }
   },
   "source": [
    "If you are familiar with matrices, this is equivalent to expressing the form: "
   ]
  },
  {
   "cell_type": "markdown",
   "metadata": {
    "slideshow": {
     "slide_type": "-"
    }
   },
   "source": [
    "\\begin{equation*}\n",
    "\\underbrace{\n",
    "\\begin{bmatrix}\n",
    "1 & -1 & 1  \\\\\n",
    "0 & 10 & 25 \\\\\n",
    "20 & 10 & 0 \\\\\n",
    "\\end{bmatrix}\n",
    "}_{\\mathbf{A}}\n",
    "\\cdot\n",
    "\\underbrace{\n",
    "\\begin{bmatrix}\n",
    "x_1 \\\\\n",
    "x_2 \\\\\n",
    "x_3 \\\\\n",
    "\\end{bmatrix}\n",
    "}_{\\mathbf{x}}\n",
    "=\\underbrace{\n",
    "\\begin{bmatrix}\n",
    "0 \\\\\n",
    "90 \\\\\n",
    "80 \\\\\n",
    "\\end{bmatrix}\n",
    "}_{\\mathbf{B}}\n",
    "\\end{equation*}"
   ]
  },
  {
   "cell_type": "markdown",
   "metadata": {
    "slideshow": {
     "slide_type": "slide"
    }
   },
   "source": [
    "Notice that B appears in code as a horizontal array.\n",
    "\n",
    "In Python, 1D arrays are ALWAYS represented horizontally. \n",
    "\n",
    "The array is treated as a row or column vector depending on the equation in which it appears."
   ]
  },
  {
   "cell_type": "code",
   "execution_count": 23,
   "metadata": {
    "scrolled": true
   },
   "outputs": [
    {
     "name": "stdout",
     "output_type": "stream",
     "text": [
      "[2. 4. 2.]\n"
     ]
    }
   ],
   "source": [
    "x = np.linalg.solve(A, B)\n",
    "print(x)\n"
   ]
  },
  {
   "cell_type": "markdown",
   "metadata": {
    "slideshow": {
     "slide_type": "slide"
    }
   },
   "source": [
    "$x_1 = 2$\n",
    "<br>$x_2 = 4$\n",
    "<br>$x_3 = 2$\n",
    "\n",
    "To verify that this is correct, we can find the matrix product or dot product of $\\mathbf{A}$ and $\\mathbf{x}$. "
   ]
  },
  {
   "cell_type": "code",
   "execution_count": 24,
   "metadata": {},
   "outputs": [
    {
     "name": "stdout",
     "output_type": "stream",
     "text": [
      "[ 0. 90. 80.]\n"
     ]
    }
   ],
   "source": [
    "print(np.dot(A,x))\n"
   ]
  },
  {
   "cell_type": "markdown",
   "metadata": {
    "slideshow": {
     "slide_type": "slide"
    }
   },
   "source": [
    "The solution matches the original equation, which we can confim in code:"
   ]
  },
  {
   "cell_type": "code",
   "execution_count": 25,
   "metadata": {},
   "outputs": [
    {
     "name": "stdout",
     "output_type": "stream",
     "text": [
      "[ True  True  True]\n"
     ]
    }
   ],
   "source": [
    "print(np.dot(A,x) == B)"
   ]
  },
  {
   "cell_type": "markdown",
   "metadata": {
    "slideshow": {
     "slide_type": "slide"
    }
   },
   "source": [
    "### Example Engineering Application: Statically Determinate Truss\n",
    "A common problem in statics is the analysis of a statically determinate planar truss. \n",
    "\n",
    "Trusses are characterized by linear members (beams) which are pinned together at their ends. \n",
    "<br>The pinned connections provide no resistance to rotation so there are no moments around the joints. \n",
    "<br>A planer truss is a truss arranged in a single plane; we consider forces in 2 dimensions only. \n",
    "\n",
    "\n",
    "<img src=\"img/truss.gif\" alt=\"Drawing\" style=\"width: 600px;\"/> "
   ]
  },
  {
   "cell_type": "markdown",
   "metadata": {
    "slideshow": {
     "slide_type": "slide"
    }
   },
   "source": [
    "### Example Engineering Application: Statically Determinate Truss\n",
    "\n",
    "A truss is said to be statically determinate if all:\n",
    "- support reactions\n",
    "- forces in each member\n",
    "\n",
    "can be calculated using only the *equations of static equalibrium*. \n",
    "\n",
    "\n",
    "<img src=\"img/truss.png\" alt=\"Drawing\" style=\"width: 300px;\"/> "
   ]
  },
  {
   "cell_type": "markdown",
   "metadata": {
    "slideshow": {
     "slide_type": "slide"
    }
   },
   "source": [
    "#### Static Equilibrium\n",
    "There is one force in each member. \n",
    "\n",
    "The forces acting on each joint sum to zero. \n",
    "\n",
    "The forces are resolved in the vertical and horizontal directions. \n",
    "\n",
    "Therefore there are (number of joints x 2) equations of static equalibrium for a given truss. \n",
    "\n",
    "<img src=\"img/truss_nodes.png\" alt=\"Drawing\" style=\"width: 300px;\"/> \n"
   ]
  },
  {
   "cell_type": "markdown",
   "metadata": {
    "slideshow": {
     "slide_type": "slide"
    }
   },
   "source": [
    "A truss is statically determinate if:\n",
    "> number of members + number of support reactions <= number of joints x 2\n",
    "\n",
    "in other words:\n",
    "> number of unknowns values <= number of equations"
   ]
  },
  {
   "cell_type": "markdown",
   "metadata": {
    "slideshow": {
     "slide_type": "slide"
    }
   },
   "source": [
    "Consider a truss with:\n",
    "- 5 members\n",
    "- 4 joints\n",
    "- 3 support reactions\n",
    "- 1 external force \n",
    "\n",
    "A truss is statically determinate if:\n",
    "<br>members + support reactions <= joints x 2\n",
    "<br>5 + 3 = 8\n",
    "\n",
    "The truss is statically determinate.\n",
    "\n",
    "__Assumption__ : Members 1, 2, 4, 5 are of equal length. \n",
    "\n",
    "<img src=\"img/truss.png\" alt=\"Drawing\" style=\"width: 300px;\"/> "
   ]
  },
  {
   "cell_type": "markdown",
   "metadata": {
    "slideshow": {
     "slide_type": "slide"
    }
   },
   "source": [
    " \n",
    "\n",
    "__Question : Find the support reaction forces R1-R3 and the forces in each member F1-F5__\n",
    "\n",
    "<img src=\"img/truss.png\" alt=\"Drawing\" style=\"width: 300px;\"/> "
   ]
  },
  {
   "cell_type": "markdown",
   "metadata": {
    "slideshow": {
     "slide_type": "slide"
    }
   },
   "source": [
    "#### Static Equilibrium\n",
    "\n",
    "The sum of the forces at each node must equal zero.\n",
    "\n",
    "There are two equations for each point, the horizontal equation and the vertical equation. \n",
    "\n",
    "<img src=\"img/truss_nodes.png\" alt=\"Drawing\" style=\"width: 300px;\"/> "
   ]
  },
  {
   "cell_type": "markdown",
   "metadata": {
    "slideshow": {
     "slide_type": "slide"
    }
   },
   "source": [
    "<img src=\"img/truss_nodes.png\" alt=\"Drawing\" style=\"width: 200px;\"/> \n",
    "\n",
    "Let's find the horizontal (H) and vertical (V) equilibrium equation for each node:\n",
    "\n",
    "<br>1H : $ -F_1 - E = 0$\n",
    "\n",
    "<br>1V : $ -F_5 = 0$\n",
    "\n",
    "<br>2H : $ F_1 + cos \\frac{\\pi}{4}F_3 = 0$\n",
    "\n",
    "<br>2V : $ -F_2 - sin \\frac{\\pi}{4}F_3 = 0$\n",
    "\n",
    "<br>3H : $ F_4 = 0$\n",
    "\n",
    "<br>3V : $ F_2 + R_1 = 0$\n",
    "\n",
    "<br>4H : $ -cos \\frac{\\pi}{4}F_3 - F_4 + R_3 = 0$\n",
    "\n",
    "<br>4V : $ sin \\frac{\\pi}{4}F_3 + F_5 + R_2 = 0$\n"
   ]
  },
  {
   "cell_type": "markdown",
   "metadata": {
    "slideshow": {
     "slide_type": "slide"
    }
   },
   "source": [
    "The equations above can be rewritten in matrix notation.  <br>Notice  external force, $E$ is moved to the right hand sode of the equation so it's sign is changed. \n",
    "\n",
    "\n",
    "\\begin{equation*}\n",
    "\\underbrace{\n",
    "\\begin{bmatrix}\n",
    "-1  & 0   & 0    & 0   & 0    & 0   & 0  & 0  \\\\\n",
    "0   & 0   & 0    & 0   & -1   & 0   & 0  & 0  \\\\\n",
    " 1  & 0   & \\frac{\\sqrt{2}}{2}      & 0  & 0    & 0   & 0  & 0  \\\\\n",
    "0   & -1  & -\\frac{\\sqrt{2}}{2}     & 0  & 0    & 0   & 0  & 0  \\\\\n",
    "0   & 0   & 0    & 1   & 0    & 0   & 0  & 0  \\\\\n",
    "0   & 1   & 0    & 0   & 0    & 1   & 0  & 0  \\\\\n",
    "0   & 0   & -\\frac{\\sqrt{2}}{2}     & 0  & 0    & 0   & 0  & 0  \\\\\n",
    "-1  & 0   & \\frac{\\sqrt{2}}{2}      & 0  & 1    & 0   & 1  & 0  \\\\\n",
    "\\end{bmatrix}\n",
    "}_{\\mathbf{coeffs}}\n",
    "\\cdot\n",
    "\\underbrace{\n",
    "\\begin{bmatrix}\n",
    "F_1 \\\\\n",
    "F_2 \\\\\n",
    "F_3 \\\\\n",
    "F_4 \\\\\n",
    "F_5 \\\\\n",
    "R_1 \\\\\n",
    "R_2 \\\\\n",
    "R_3 \\\\\n",
    "\\end{bmatrix}\n",
    "}_{\\mathbf{u}}\n",
    "=\\underbrace{\n",
    "\\begin{bmatrix}\n",
    "1000 \\\\\n",
    "0 \\\\\n",
    "0 \\\\\n",
    "0 \\\\\n",
    "0 \\\\\n",
    "0 \\\\\n",
    "0 \\\\\n",
    "0 \\\\\n",
    "\\end{bmatrix}\n",
    "}_{\\mathbf{k}}\n",
    "\\end{equation*}"
   ]
  },
  {
   "cell_type": "code",
   "execution_count": 26,
   "metadata": {
    "slideshow": {
     "slide_type": "slide"
    }
   },
   "outputs": [
    {
     "name": "stdout",
     "output_type": "stream",
     "text": [
      "[-1000.         -1000.          1414.21356237     0.\n",
      "    -0.          1000.         -1000.          1000.        ]\n"
     ]
    }
   ],
   "source": [
    "# And create an array for the coefficents and known variables\n",
    "coeffs = np.array([[-1,  0,   0,             0,   0,  0,   0,   0 ],\n",
    "                   [ 0,  0,   0,             0,  -1,  0,   0,   0 ],\n",
    "                   [ 1,  0,   2**(1/2)/2,    0,   0,  0,   0,   0 ], \n",
    "                   [ 0, -1,  -(2**(1/2)/2),  0,   0,  0,   0,   0 ],\n",
    "                   [ 0,  0,   0,             1,   0,  0,   0,   0 ],    \n",
    "                   [ 0,  1,   0,             0,   0,  1,   0,   0 ],     \n",
    "                   [ 0,  0,  -(2**(1/2)/2), -1,   0,  0,   0,   1 ],\n",
    "                   [ 0,  0,  2**(1/2)/2,     0,   1,  0,   1,   0 ]])\n",
    "\n",
    "k = np.array([1000, 0, 0, 0, 0, 0, 0, 0])\n",
    "\n",
    "u = np.linalg.solve(coeffs, k)\n",
    "print(u)"
   ]
  },
  {
   "cell_type": "markdown",
   "metadata": {
    "slideshow": {
     "slide_type": "slide"
    }
   },
   "source": [
    "Check your solution.\n",
    "<br>The `@` symbol can be used as shorthand for `np.dot` to find the dot product. "
   ]
  },
  {
   "cell_type": "code",
   "execution_count": 27,
   "metadata": {
    "slideshow": {
     "slide_type": "-"
    }
   },
   "outputs": [
    {
     "name": "stdout",
     "output_type": "stream",
     "text": [
      "[ 1.00000000e+03  0.00000000e+00  0.00000000e+00  0.00000000e+00\n",
      "  0.00000000e+00  0.00000000e+00  0.00000000e+00 -5.54631438e-14]\n",
      "[1000.    0.    0.    0.    0.    0.    0.   -0.]\n"
     ]
    }
   ],
   "source": [
    "print(coeffs @ u)\n",
    "\n",
    "print(np.around(coeffs @ u, 2))\n"
   ]
  },
  {
   "cell_type": "markdown",
   "metadata": {
    "slideshow": {
     "slide_type": "slide"
    }
   },
   "source": [
    "This process is a fast and simple way to solve simultaneous linear equations, for example when compared to eilimination methods. "
   ]
  },
  {
   "cell_type": "markdown",
   "metadata": {
    "slideshow": {
     "slide_type": "slide"
    }
   },
   "source": [
    "##### Alternative Solution\n",
    "We can find $\\mathbf{u}$ by matrix multiplication:\n",
    "\\begin{align*}\n",
    "\\mathbf{coeffs}\\cdot\\mathbf{u}&=\\mathbf{k}\\\\\n",
    "\\end{align*}\n",
    "\n",
    "but we have to rearrange the equation.\n",
    "\n",
    "\\begin{align*}\n",
    "\\mathbf{u}  &=\\frac{\\mathbf{k}}{\\mathbf{coeffs}}\\\\\n",
    "            &=\\mathbf{coeffs^{-1}}\\cdot\\mathbf{k}\\\\\n",
    "\\end{align*}\n",
    "\n"
   ]
  },
  {
   "cell_type": "markdown",
   "metadata": {
    "slideshow": {
     "slide_type": "slide"
    }
   },
   "source": [
    "The Numpy linear algebra module can be used to find the inverse of matrix $\\mathbf{k}$."
   ]
  },
  {
   "cell_type": "code",
   "execution_count": 28,
   "metadata": {
    "scrolled": true,
    "slideshow": {
     "slide_type": "-"
    }
   },
   "outputs": [
    {
     "name": "stdout",
     "output_type": "stream",
     "text": [
      "[-1000.         -1000.          1414.21356237     0.\n",
      "     0.          1000.         -1000.          1000.        ]\n"
     ]
    }
   ],
   "source": [
    "coeffs_i = np.linalg.inv(coeffs)\n",
    "\n",
    "u = np.dot(coeffs_i, k)\n",
    "\n",
    "print(u)\n"
   ]
  },
  {
   "cell_type": "markdown",
   "metadata": {
    "slideshow": {
     "slide_type": "slide"
    }
   },
   "source": [
    "### Example Engineering Application: An Electrical Circuit\n",
    "<a id='ExampleElectricalCircuit'></a>\n",
    "\n",
    "#### Kirchhoff's Voltage Law\n",
    "For a closed loop series path the algebraic sum of all the *voltages* and *voltage drops* around any closed loop in a circuit is equal to zero.\n",
    "\n",
    "$\\sum E - \\sum V = 0 $\n",
    "\n",
    "<img src=\"img/kirchhoffVoltageLaw.png\" alt=\"Drawing\" style=\"width: 200px;\"/> \n"
   ]
  },
  {
   "cell_type": "markdown",
   "metadata": {
    "slideshow": {
     "slide_type": "slide"
    }
   },
   "source": [
    "#### Electrical Elements Obey Ohm's Law \n",
    "The current through a conductor (I, units amps) is the voltage measured across the conductor (V, units volts) divided by the resistance (R, units Ohms).\n",
    "\n",
    "$$V = IR$$\n"
   ]
  },
  {
   "cell_type": "markdown",
   "metadata": {
    "slideshow": {
     "slide_type": "slide"
    }
   },
   "source": [
    "Consider a three loop current network with five resistors and\n",
    "two voltage sources.\n",
    "\n",
    "Here we have three loops, hence we can write three equations\n",
    "to use resitances R1, R2, R3, R4, R5 and voltages v1, v2, to solve for the three unknowns, the currents: i1, i2, i3.\n",
    "\n",
    "<img src=\"img/circuit.png\" alt=\"Drawing\" style=\"width: 400px;\"/> \n",
    "\n",
    "\n"
   ]
  },
  {
   "cell_type": "markdown",
   "metadata": {
    "slideshow": {
     "slide_type": "slide"
    }
   },
   "source": [
    "We can use Kirchoff's voltage law to equate the voltage and voltage drop in each loop: \n",
    "<br>$\\sum V = \\sum E$ \n",
    "\n",
    "and Ohm's law : $V=IR$ \n",
    "\n",
    "__Loop 1:__ &nbsp; $ (R_1 + R_2) i_1 + i_2 R_2 = v_1$\n",
    "\n",
    "__Loop 2:__ &nbsp; $ -R_2 i_1 + (R_2 + R_3 + R_4)i_2 - R_4 i_3 = 0$\n",
    "\n",
    "__Loop 3:__ &nbsp; $ -R_4 i_2 + (R_4 + R_5) i_3 = -v_2$<br>"
   ]
  },
  {
   "cell_type": "markdown",
   "metadata": {
    "slideshow": {
     "slide_type": "slide"
    }
   },
   "source": [
    "Putting the equations in matrix form:\n",
    "\n",
    "\n",
    "\\begin{equation*}\n",
    "\\underbrace{\n",
    "\\begin{bmatrix}\n",
    "(R_1 + R_2) & -R_2 & 0  \\\\\n",
    "-R_2        & (R_2 + R_3 + R_4)  & -R_4  \\\\\n",
    "0           & -R_4               & (R_4 + R_5)  \\\\\n",
    "\\end{bmatrix}\n",
    "}_{\\mathbf{R}}\n",
    "\\cdot\n",
    "\\underbrace{\n",
    "\\begin{bmatrix}\n",
    "i_1 \\\\\n",
    "i_2 \\\\\n",
    "i_3 \\\\\n",
    "\\end{bmatrix}\n",
    "}_{\\mathbf{I}}\n",
    "=\\underbrace{\n",
    "\\begin{bmatrix}\n",
    "v_1 \\\\\n",
    "0 \\\\\n",
    "-v_2 \\\\\n",
    "\\end{bmatrix}\n",
    "}_{\\mathbf{V}}\n",
    "\\end{equation*}"
   ]
  },
  {
   "cell_type": "markdown",
   "metadata": {
    "slideshow": {
     "slide_type": "slide"
    }
   },
   "source": [
    "<a id='SystemsNonLinearEquations'></a>\n",
    "## 3.2 Systems of Non-Linear Equations\n",
    "\n",
    "\n",
    "The examples so far have been systems of linear equations.\n",
    "\n",
    "We can also use `fsolve` to solve systems of non-linear equations.\n",
    "\n",
    "__Example application__ : finding the coefficients of a quadratic polynomial function, using three points that lie on the curve of the function.\n",
    "\n",
    "The equation for a parabola is $y=ax^2+bx+c$\n",
    "\n",
    "The equation of a parabola can be fully defined using three points that lie on the curve (provided the curve is not a  straight line). "
   ]
  },
  {
   "cell_type": "markdown",
   "metadata": {
    "slideshow": {
     "slide_type": "slide"
    }
   },
   "source": [
    "Given three points $(x_1,y_1)$, $(x_2,y_2)$, $(x_3,y_3)$,\n",
    "<br>three simultaneous equation may be written: \n",
    "\n",
    "$$\n",
    "\\begin{split}\n",
    "ax_1^2+bx_1+c&=y_1 \\\\\n",
    "ax_2^2+bx_2+c&=y_2 \\\\\n",
    "ax_3^2+bx_3+c&=y_3 \\\\\n",
    "\\end{split}\n",
    "$$\n",
    "\n"
   ]
  },
  {
   "cell_type": "markdown",
   "metadata": {
    "slideshow": {
     "slide_type": "slide"
    }
   },
   "source": [
    "__Example__\n",
    "\n",
    "Given that:\n",
    "<br>$(x_1,y_1)=(-2,2)$ \n",
    "<br>$(x_2,y_2)=(1,-1)$ \n",
    "<br>$(x_3,y_3)=(4,4)$\n",
    "\n",
    "find $a$,$b$ and $c$."
   ]
  },
  {
   "cell_type": "markdown",
   "metadata": {
    "collapsed": true,
    "slideshow": {
     "slide_type": "slide"
    }
   },
   "source": [
    "\\begin{equation*}\n",
    "\\underbrace{\n",
    "\\begin{bmatrix}\n",
    "x_1^2 & x_1 & 1 \\\\\n",
    "x_2^2 & x_2 & 1 \\\\\n",
    "x_3^2 & x_3 & 1 \\\\\n",
    "\\end{bmatrix}\n",
    "}_{\\mathbf{x}}\n",
    "\\cdot\n",
    "\\begin{bmatrix}\n",
    "a \\\\\n",
    "b \\\\\n",
    "c \\\\\n",
    "\\end{bmatrix}\n",
    "=\\underbrace{\n",
    "\\begin{bmatrix}\n",
    "y_1 \\\\\n",
    "y_2 \\\\\n",
    "y_3 \\\\\n",
    "\\end{bmatrix}\n",
    "}_{\\mathbf{y}}\n",
    "\\end{equation*}"
   ]
  },
  {
   "cell_type": "markdown",
   "metadata": {
    "collapsed": true,
    "slideshow": {
     "slide_type": "-"
    }
   },
   "source": [
    "\n",
    "\\begin{equation*}\n",
    "\\underbrace{\n",
    "\\begin{bmatrix}\n",
    "-2^2 & -2 & 1  \\\\\n",
    "1^2 & 1 & 1 \\\\\n",
    "4^2 & 4 & 1 \\\\\n",
    "\\end{bmatrix}\n",
    "}_{\\mathbf{x}}\n",
    "\\cdot\n",
    "\\begin{bmatrix}\n",
    "a \\\\\n",
    "b \\\\\n",
    "c \\\\\n",
    "\\end{bmatrix}\n",
    "=\\underbrace{\n",
    "\\begin{bmatrix}\n",
    "2 \\\\\n",
    "-1 \\\\\n",
    "4 \\\\\n",
    "\\end{bmatrix}\n",
    "}_{\\mathbf{y}}\n",
    "\\end{equation*}"
   ]
  },
  {
   "cell_type": "code",
   "execution_count": 29,
   "metadata": {
    "slideshow": {
     "slide_type": "-"
    }
   },
   "outputs": [
    {
     "name": "stdout",
     "output_type": "stream",
     "text": [
      "[ 0.8        -2.33333333  0.53333333]\n"
     ]
    }
   ],
   "source": [
    "# 1D array, y\n",
    "y = np.array([2, -1, 4])\n",
    "\n",
    "# 2D array, x\n",
    "x = np.array([[(-2**2), -2, 1],\n",
    "              [(1**2),   1, 1],\n",
    "              [(4**2),   4, 1]])\n",
    "\n",
    "abc = np.linalg.solve(x, y)\n",
    "print(abc)"
   ]
  },
  {
   "cell_type": "markdown",
   "metadata": {
    "slideshow": {
     "slide_type": "slide"
    }
   },
   "source": [
    "Another way to create matrix x without writing it out explicitly is to use:\n",
    "- broadcasting\n",
    "- the numpy function, `power()` (raises first argument to power of second)\n"
   ]
  },
  {
   "cell_type": "code",
   "execution_count": 30,
   "metadata": {
    "scrolled": true,
    "slideshow": {
     "slide_type": "-"
    }
   },
   "outputs": [
    {
     "name": "stdout",
     "output_type": "stream",
     "text": [
      "[-2  1  4]\n",
      "\n",
      "[[-2]\n",
      " [ 1]\n",
      " [ 4]]\n",
      "\n",
      "[[ 4 -2  1]\n",
      " [ 1  1  1]\n",
      " [16  4  1]]\n",
      "\n"
     ]
    }
   ],
   "source": [
    "# array\n",
    "xs = np.array([-2, 1, 4])\n",
    "print(xs, end='\\n\\n')\n",
    "\n",
    "#vertical 3x1\n",
    "xs = xs.reshape((3,1))\n",
    "print(xs, end='\\n\\n')\n",
    "\n",
    "# horizontal array 1x3\n",
    "power = np.array([2, 1, 0])\n",
    "\n",
    "# 3x3\n",
    "x = np.power(xs, power)\n",
    "print(x, end='\\n\\n')"
   ]
  },
  {
   "cell_type": "markdown",
   "metadata": {
    "slideshow": {
     "slide_type": "slide"
    }
   },
   "source": [
    "<a id='SymbolicMathematics'></a>\n",
    "# 4. Symbolic Mathematics\n",
    "\n",
    "\n",
    "<br> <a href='#SymbolicRepresentation'>4.1 Symbolic Representation</a>\n",
    "<br> <a href='#Re-arangingSymbolicMathematics'>4.2 Re-aranging using Symbolic Mathematics</a> \n",
    "\n",
    "\n",
    "\n",
    "\n",
    "Sometimes we want to express the solution in the form of a symbolic expression (rather than an exact solution).\n",
    "\n",
    "The `Sympy` package is designed for symbolic mathematics. "
   ]
  },
  {
   "cell_type": "code",
   "execution_count": 31,
   "metadata": {},
   "outputs": [],
   "source": [
    "import sympy \n",
    "from sympy import solve, symbols, Symbol, Function, Eq, pprint "
   ]
  },
  {
   "cell_type": "markdown",
   "metadata": {
    "slideshow": {
     "slide_type": "slide"
    }
   },
   "source": [
    "<a id='SymbolicRepresentation'></a>\n",
    "## 4.1 Symbolic Representation\n",
    "To write a symbolic equation, we first create variables to store the symbols we want to use:"
   ]
  },
  {
   "cell_type": "code",
   "execution_count": 32,
   "metadata": {},
   "outputs": [],
   "source": [
    "a, b, c, x = symbols('a, b, c, x')"
   ]
  },
  {
   "cell_type": "markdown",
   "metadata": {
    "slideshow": {
     "slide_type": "slide"
    }
   },
   "source": [
    "We then write an equation, using the variable names.\n",
    "\n",
    "$$f(x) = ax^2 + bx + c$$"
   ]
  },
  {
   "cell_type": "code",
   "execution_count": 33,
   "metadata": {},
   "outputs": [],
   "source": [
    "f = a*x**2 + b*x + c"
   ]
  },
  {
   "cell_type": "markdown",
   "metadata": {
    "slideshow": {
     "slide_type": "slide"
    }
   },
   "source": [
    "Let's *symbolically* find the roots of the function $f(x)$.\n",
    "\n",
    "`sympy.solve()` works in the same way as `numpy.linalg.solve()` but for symbolic mathematics."
   ]
  },
  {
   "cell_type": "code",
   "execution_count": 34,
   "metadata": {
    "scrolled": true,
    "slideshow": {
     "slide_type": "-"
    }
   },
   "outputs": [
    {
     "name": "stdout",
     "output_type": "stream",
     "text": [
      "[(-b + sqrt(-4*a*c + b**2))/(2*a), -(b + sqrt(-4*a*c + b**2))/(2*a)]\n"
     ]
    }
   ],
   "source": [
    "solution = solve(f, x)\n",
    "\n",
    "print(solution)"
   ]
  },
  {
   "cell_type": "markdown",
   "metadata": {
    "slideshow": {
     "slide_type": "slide"
    }
   },
   "source": [
    "This equation takes the familar form of the __quadratic formula__ $$\\frac{-b \\pm \\sqrt{b^2-4ac}}{2a}$$\n",
    "\n",
    "However, it is difficult to tell from the way it is written.\n",
    "\n"
   ]
  },
  {
   "cell_type": "markdown",
   "metadata": {
    "slideshow": {
     "slide_type": "slide"
    }
   },
   "source": [
    "`sympy.pprint` (pretty print) makes the solution more readable:"
   ]
  },
  {
   "cell_type": "code",
   "execution_count": 35,
   "metadata": {
    "scrolled": false
   },
   "outputs": [
    {
     "name": "stdout",
     "output_type": "stream",
     "text": [
      "⎡        _____________   ⎛       _____________⎞ ⎤\n",
      "⎢       ╱           2    ⎜      ╱           2 ⎟ ⎥\n",
      "⎢-b + ╲╱  -4⋅a⋅c + b    -⎝b + ╲╱  -4⋅a⋅c + b  ⎠ ⎥\n",
      "⎢─────────────────────, ────────────────────────⎥\n",
      "⎣         2⋅a                     2⋅a           ⎦\n",
      "[(-b + sqrt(-4*a*c + b**2))/(2*a), -(b + sqrt(-4*a*c + b**2))/(2*a)]\n"
     ]
    }
   ],
   "source": [
    "from sympy import pprint\n",
    "\n",
    "pprint(solution)\n",
    "print(solution)"
   ]
  },
  {
   "cell_type": "markdown",
   "metadata": {
    "slideshow": {
     "slide_type": "slide"
    }
   },
   "source": [
    "We can use `subs` to substitute in numerical values for the symbolic variables in the solution.\n",
    "\n",
    "In this case, there are two solutions (returned as a list) so we address each index of the list by index:"
   ]
  },
  {
   "cell_type": "code",
   "execution_count": 36,
   "metadata": {},
   "outputs": [
    {
     "data": {
      "text/plain": [
       "-1"
      ]
     },
     "metadata": {},
     "output_type": "display_data"
    },
    {
     "data": {
      "text/plain": [
       "3"
      ]
     },
     "metadata": {},
     "output_type": "display_data"
    }
   ],
   "source": [
    "A, B, C = -1, 2, 3\n",
    "\n",
    "x0 = solution[0].subs([(a, A), \n",
    "                       (b, B), \n",
    "                       (c, C)])\n",
    "\n",
    "x1 = solution[1].subs([(a, A), \n",
    "                       (b, B), \n",
    "                       (c, C)])\n",
    "\n",
    "display(x0, x1) "
   ]
  },
  {
   "cell_type": "markdown",
   "metadata": {
    "slideshow": {
     "slide_type": "slide"
    }
   },
   "source": [
    "<a id='Re-arangingSymbolicMathematics'></a>\n",
    "## 4.2 Re-aranging using Symbolic Mathematics\n",
    "It can be useful to change the subject of an equation by rearranging. \n",
    "\n",
    "Example, change the subject of the following equation to $P$."
   ]
  },
  {
   "cell_type": "code",
   "execution_count": 37,
   "metadata": {},
   "outputs": [
    {
     "name": "stdout",
     "output_type": "stream",
     "text": [
      "              3 ⎛                bf⋅(v + 1)⎞\n",
      "          P⋅af ⋅⎜bf⋅(-2⋅v + 1) + ──────────⎟\n",
      "                ⎝                    2     ⎠\n",
      "bf = bi + ──────────────────────────────────\n",
      "                     ⎛    3     3⎞          \n",
      "                   E⋅⎝- af  + bf ⎠          \n",
      "        ⎛  3        3        4     3   ⎞\n",
      "    2⋅E⋅⎝af ⋅bf - af ⋅bi - bf  + bf ⋅bi⎠\n",
      "P = ────────────────────────────────────\n",
      "                  3                     \n",
      "              3⋅af ⋅bf⋅(v - 1)          \n"
     ]
    },
    {
     "data": {
      "text/plain": [
       "1.15917924528302e-5"
      ]
     },
     "execution_count": 37,
     "metadata": {},
     "output_type": "execute_result"
    }
   ],
   "source": [
    "ai, af, bi, bf, v , E , P , P_= sympy.symbols('ai, af, bi, bf, v , E , P, P_')\n",
    "\n",
    "\n",
    "bf_expr = (af**3 / (bf**3 - af**3)) * ( (1 - 2*v) * bf + (1 + v) * bf**3 / (2*bf**2) ) * (P/E) + bi\n",
    "bf_eq = sympy.Eq(bf, bf_expr)\n",
    "sympy.pprint(bf_eq)\n",
    "\n",
    "\n",
    "# re-arrange for P using solve\n",
    "P_expr = sympy.solve(bf_eq, P)[0]\n",
    "P_eq = sympy.Eq(P, P_expr)\n",
    "sympy.pprint(P_eq)\n",
    "\n",
    "# substitute in numerical values\n",
    "P_expr.subs(E, 3.48e-6).subs(ai,12700).subs(bi, 8031).subs(bf, 3).subs(v, 1000+273).subs(af, 2)"
   ]
  },
  {
   "cell_type": "markdown",
   "metadata": {
    "slideshow": {
     "slide_type": "slide"
    }
   },
   "source": [
    "<a id='Summary'></a>\n",
    "# Summary\n",
    "- `numpy.roots()` finds all roots of a polynomial function.\n",
    "- `scipy.optimize.fsolve()` finds a root of a function, given a starting estimate.\n",
    "- `numpy.linalg.solve()` solves equations of the form `ax = b` (including matrices representing systems of equations e.g coupled linear and non-linear equations) for x\n",
    "- `scipy.optimize.fsolve()` can also be used to solve couple nonlinear equations.\n",
    "- `Sympy` package is designed for symbolic mathematics\n",
    "- `sympy.solve()` works in the same way as `numpy.linalg.solve()` but for symbolic mathematics. It can also be used for re-arranging equations."
   ]
  },
  {
   "cell_type": "markdown",
   "metadata": {},
   "source": [
    "<a id='ReviewExercises'></a>\n",
    "# Review Exercises\n",
    "\n",
    "Compete the exercises below.\n",
    "\n",
    "Save your answers as .py files and email them to:\n",
    "<br>philamore.hemma.5s@kyoto-u.ac.jp"
   ]
  },
  {
   "cell_type": "markdown",
   "metadata": {},
   "source": [
    "## Review Exercise 1: Fitting a function (Plotting and Analysing revision question)\n",
    "\n",
    "Fit a polynomial function to the data below.\n",
    "\n",
    "Find the roots of the fitted polynomial. "
   ]
  },
  {
   "cell_type": "code",
   "execution_count": 38,
   "metadata": {},
   "outputs": [],
   "source": [
    "# Review Exercise 1: Fitting a function\n",
    "x = [-6.0, -5.555555555555555, -5.444444444444445, -5.333333333333333, -5.0, -4.777777777777778, -4.555555555555555, -4.333333333333334, -4.111111111111111, -3.555555555555556, -3.3333333333333335, -3.2222222222222223, -2.2222222222222223, -1.8888888888888893, -1.7777777777777777, -1.5555555555555554, -1.4444444444444446, -1.333333333333334, -1.2222222222222223, -1.1111111111111116, -0.7777777777777777, -0.5555555555555562, -0.3333333333333339, -0.22222222222222232, 0.33333333333333304, 0.5555555555555554, 0.6666666666666661, 0.8888888888888884, 1.0, 1.2222222222222214, 1.333333333333333, 1.4444444444444438, 1.666666666666666, 1.7777777777777777, 2.1111111111111107, 2.333333333333332, 2.5555555555555554, 2.777777777777777, 2.8888888888888893, 3.1111111111111107, 3.2222222222222214, 3.5555555555555554, 3.777777777777777, 4.0, 4.111111111111111, 4.222222222222221, 4.333333333333332, 4.444444444444445, 4.8888888888888875, 5.0]\n",
    "y = [-306.0670724099247, -273.4252575751447, -236.35910170243054, -2.147806809067588, -162.88428946693543, -72.0539258242078, -49.64195238514043, -75.05934686306523, -49.40805793483066, -15.803160491117433, -20.408192287721462, -34.04243919689319, -2.6008654388252075, -0.33819910212586596, 0.5967691522163541, 1.955165125544544, 0.754741501848223, 3.1485956879192134, 0.2736824650635393, 2.535463038423905, 2.0383401626385638, 0.8371085078493934, 0.27326740330999844, -0.14152399821562134, -0.15792222719404883, -1.357836647665497, -4.064496618469092, -2.2060777524379893, -6.716174537753252, -2.381049714701943, -0.8951333867263299, -3.703956978393335, -5.121504730336851, -1.4824097773484555, -0.0658532580151797, 2.5527247901789907, 9.310234512028755, 7.839090794578473, 0.8239015424106111, 27.801254862532222, 33.099581728518, 17.182186572769048, 63.28883410018085, 38.47325866392358, 74.26392095969987, 100.73153613329536, 119.19508682705471, 46.85235728093459, 175.63882495054517, 118.62483544333234]"
   ]
  },
  {
   "cell_type": "markdown",
   "metadata": {},
   "source": [
    "## Review Exercise 2: Fitting a function \n",
    "The following four points lie on the line:\n",
    "$y(t) = a\\cos(\\pi t) + b\\cos(2\\pi t) + c\\cos(3\\pi t) + d\\cos(4\\pi t)$\n",
    "\n",
    "<br>$(t_0,y_0)=(0,3)$\n",
    "<br>$(t_1,y_1)=(0.25,1)$\n",
    "<br>$(t_2,y_2)=(0.5,-3)$\n",
    "<br>$(t_3,y_3)=(0.75,1)$. \n",
    "\n",
    "Find $a, b, c, d$ as a system of equations. \n",
    "\n",
    "Plot y(t) for $t=(0, 1)$.\n",
    "\n",
    "Plot the four points to check they lie on the line."
   ]
  },
  {
   "cell_type": "code",
   "execution_count": 50,
   "metadata": {},
   "outputs": [],
   "source": [
    "# Review Exercise 2: Fitting a function "
   ]
  },
  {
   "cell_type": "code",
   "execution_count": null,
   "metadata": {},
   "outputs": [],
   "source": []
  },
  {
   "cell_type": "code",
   "execution_count": null,
   "metadata": {},
   "outputs": [],
   "source": []
  }
 ],
 "metadata": {
  "celltoolbar": "Slideshow",
  "kernelspec": {
   "display_name": "Python 3",
   "language": "python",
   "name": "python3"
  },
  "language_info": {
   "codemirror_mode": {
    "name": "ipython",
    "version": 3
   },
   "file_extension": ".py",
   "mimetype": "text/x-python",
   "name": "python",
   "nbconvert_exporter": "python",
   "pygments_lexer": "ipython3",
   "version": "3.6.5"
  }
 },
 "nbformat": 4,
 "nbformat_minor": 2
}
