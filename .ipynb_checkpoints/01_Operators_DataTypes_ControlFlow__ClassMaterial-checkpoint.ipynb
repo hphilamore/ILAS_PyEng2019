{
 "cells": [
  {
   "cell_type": "markdown",
   "metadata": {},
   "source": [
    "# 01 Operators, Data Types & Control Flow\n",
    "## CLASS MATERIAL\n",
    "\n",
    "\n",
    "<br> <a href='#ArithmeticOperators'>__1. Arithmetic Operators__</a>\n",
    "<br> <a href='#BooleanOperators'>__2. Boolean Operators__</a>\n",
    "<br> <a href='#ControlStatements'>__3. Control Statements__</a>\n",
    "<br> <a href='#Loops'>__4. Loops__</a>\n",
    "<br> <a href='#ReviewExercises'>__5. Review Exercises__</a> "
   ]
  },
  {
   "cell_type": "markdown",
   "metadata": {
    "collapsed": true,
    "slideshow": {
     "slide_type": "slide"
    }
   },
   "source": [
    "<a id='Summary'></a>\n",
    "# Primer Summary \n",
    "For more information refer to the Primer Notebooks for this class:\n",
    "- 01a_Operators_DataTypes__Primer.ipynb\n",
    "- 01b_ControlFlow__Primer.ipynb\n",
    "\n",
    "###### Arithmetic Operators\n",
    " - We can perform simple *arithmetic operations* in Python (+, -, $\\times$, $\\div$.....)\n",
    " \n",
    "###### Boolean Operators\n",
    " - *Comparison operators* (==, !=, <, >....) compare two __variables__.\n",
    " - The outcome of a comparison is a *Boolean* (True or False) value.\n",
    " - *Logical operators* (`and`, `or`) compares the outcomes of two __comparison operations__.\n",
    " - The outcome of a logical operation is a *Boolean* (True or False) value.\n",
    " - The logical `not` operator returns the inverse Boolean value of a comparison.\n",
    " \n"
   ]
  },
  {
   "cell_type": "markdown",
   "metadata": {
    "slideshow": {
     "slide_type": "slide"
    }
   },
   "source": [
    "###### Data Types\n",
    " - We can *assign* values to variables.\n",
    " - Every variable has a type (`int`, `float`, `string`....).\n",
    " - A type is automatically assigned when a variable is created. \n",
    " - Python's `type()` function can be used to determine the type of a variable.\n",
    " - The data type of a variable can be converted by casting (`int()`, `float()`....) "
   ]
  },
  {
   "cell_type": "markdown",
   "metadata": {},
   "source": [
    "###### Control Flow\n",
    "[*McGrath, Python in easy steps, 2013*]\n",
    "\n",
    " - The Python `if` keyword performs a conditional test on an expression for a Boolean value of True or False.\n",
    " - Alternatives to an `if` test are provided using `elif` and `else` tests.\n",
    " - A `while` loop repeats until a test expression returns `False`.\n",
    " - A `for`...`in`... loop iterates over each item in a specified data structure (or string).\n",
    " - The `range()` function generates a numerical sequence that can be used to specify the length of the `for` loop.\n",
    " - The `break` and `continue` keywords interrupt loop iterations."
   ]
  },
  {
   "cell_type": "markdown",
   "metadata": {
    "collapsed": true,
    "slideshow": {
     "slide_type": "slide"
    }
   },
   "source": [
    "### Fundamental programming concepts\n",
    " - Using logic to direct the flow of a program.\n",
    " - Performing basic calculations.\n",
    " - Types of data storage.\n",
    "\n"
   ]
  },
  {
   "cell_type": "markdown",
   "metadata": {
    "slideshow": {
     "slide_type": "slide"
    }
   },
   "source": [
    "<a id='ArithmeticOperators'></a>\n",
    "# 1. Arithmetic Operators\n",
    "\n",
    "Let's do some examples using arithmetic operators to perform simple calculations in Python:\n"
   ]
  },
  {
   "cell_type": "markdown",
   "metadata": {
    "slideshow": {
     "slide_type": "subslide"
    }
   },
   "source": [
    "## Volume of a Cone\n",
    "The volume of a cone is:\n",
    "$$\n",
    "V = \\frac{Ah}{3}\n",
    "$$\n",
    "\n",
    "where:\n",
    "<br>$A=$ base area\n",
    "<br>$h=$ perpendicular height\n",
    "\n",
    "![title](img/cone.png)\n",
    "\n",
    "Find the internal volume of a cone of internal dimensions:\n",
    "<br>$r = 5\\textrm{cm}$ (base radius)\n",
    "<br>$h = 15 \\textrm{cm} $"
   ]
  },
  {
   "cell_type": "code",
   "execution_count": 7,
   "metadata": {},
   "outputs": [
    {
     "name": "stdout",
     "output_type": "stream",
     "text": [
      "392.75\n"
     ]
    }
   ],
   "source": [
    "pi = 3.142\n",
    "r = 5\n",
    "h = 15\n",
    "\n",
    "A = pi * r**2\n",
    "V = A * h / 3\n",
    "\n",
    "print(V) # Print V measured in cm3"
   ]
  },
  {
   "cell_type": "markdown",
   "metadata": {
    "collapsed": true,
    "slideshow": {
     "slide_type": "subslide"
    }
   },
   "source": [
    "## Gravitational Potential Energy\n",
    "Potential energy is energy that is stored in a system. \n",
    "<br>Any two objects with mass are attracted to each other by gravity. \n",
    "<br>In space, it is possible to find the potential energy of gravity between two objects separated by a distance. \n",
    "\n"
   ]
  },
  {
   "cell_type": "markdown",
   "metadata": {},
   "source": [
    "\n",
    "The gravitational potential energy, $U$ between object 1 and object 2:\n",
    "\n",
    "$$\n",
    "U = \\frac{G M m}{r}\n",
    "$$\n",
    "\n",
    "\n",
    "$M_1=$mass of object 1\n",
    "<br>$M_2=$mass of object 2\n",
    "<br>$r=$distance between objects 1 and 2\n",
    "<br>$G$ = *gravitational constant* = $6.673 \\times 10^{-11}             (\\textrm{Nm}^{2}\\textrm{kg}^{-2})$.\n",
    "\n",
    "\n",
    "```python\n",
    "                                    U = (G * M * m) / r\n",
    "```\n",
    "\n"
   ]
  },
  {
   "cell_type": "markdown",
   "metadata": {},
   "source": [
    "Find, $U$ when:\n",
    "\n",
    "<br>$M_1 = 1.65 \\times 10^{12}\\textrm{kg}$\n",
    "<br>$M_2 = 6.1 \\times 10^2\\textrm{kg}$\n",
    "<br>$r = 7 \\textrm{km}$\n",
    "\n",
    "Before solving, assign values to variables representing $G, M_1, M_2, r$. \n",
    "<br>Express the numbers using __scientific notation__."
   ]
  },
  {
   "cell_type": "code",
   "execution_count": 8,
   "metadata": {},
   "outputs": [
    {
     "name": "stdout",
     "output_type": "stream",
     "text": [
      "U =959.6258571428574 Joules\n",
      "U = 959.6258571428574 Joules\n"
     ]
    }
   ],
   "source": [
    "G = 6.674 * 10e-11\n",
    "M1 = 1.65 * 10e12\n",
    "M2 = 6.1 * 10e2\n",
    "r = 7 * 10e3\n",
    "\n",
    "V = (G * M1 * M2) / r\n",
    "\n",
    "\n",
    "print(\"U =\" + str(V) + \" Joules\")\n",
    "\n",
    "print(f\"U = {V} Joules\")"
   ]
  },
  {
   "cell_type": "code",
   "execution_count": 9,
   "metadata": {
    "scrolled": true
   },
   "outputs": [
    {
     "name": "stdout",
     "output_type": "stream",
     "text": [
      "U = 959.626 Joules\n"
     ]
    }
   ],
   "source": [
    "print(f\"U = {round(V,3)} Joules\")"
   ]
  },
  {
   "cell_type": "markdown",
   "metadata": {
    "slideshow": {
     "slide_type": "slide"
    }
   },
   "source": [
    "<a id='BooleanOperators'></a>\n",
    "# 2. Boolean Operators\n",
    "\n",
    "Let's do some examples using boolean operators to make decisions in Python:\n",
    "\n",
    "__Commonly used comparison operators:__\n",
    "\n",
    "$==$   &nbsp; &nbsp; &nbsp; &nbsp; &nbsp;         Equality <br>\n",
    "$!=$   &nbsp; &nbsp; &nbsp; &nbsp; &nbsp;         Inequality <br>\n",
    "$>$    &nbsp; &nbsp; &nbsp; &nbsp; &nbsp; &nbsp;  Greater than <br>\n",
    "$<$    &nbsp; &nbsp; &nbsp; &nbsp; &nbsp; &nbsp;  Less than <br>\n",
    "$>=$   &nbsp; &nbsp; &nbsp; &nbsp;         Greater than or equal to <br>\n",
    "$<=$   &nbsp; &nbsp; &nbsp; &nbsp;         Less than or equal to <br>\n"
   ]
  },
  {
   "cell_type": "markdown",
   "metadata": {
    "slideshow": {
     "slide_type": "slide"
    }
   },
   "source": [
    "<a id='TimeTelling'></a>\n",
    "## Time-telling Example\n",
    "\n",
    "Let's write a simple computer program that uses these comparison and logical operators.\n",
    "\n",
    "Based on the current time of day, the program will answer two questions:\n",
    "\n",
    ">__Is it lunchtime?__\n",
    "\n",
    ">`True`\n",
    "\n",
    "if it is lunch time.\n",
    "\n",
    "<br>\n",
    "\n",
    ">__Is it time for work?__\n",
    "\n",
    ">`True`\n",
    "\n",
    "if it is `not`:\n",
    "- before work (`time < work_starts`)\n",
    "- after work (`time > work_ends `)\n",
    "- lunchtime (the previous question assigns the value `True` or `False` to variable `lunchtime`)."
   ]
  },
  {
   "cell_type": "code",
   "execution_count": 10,
   "metadata": {
    "slideshow": {
     "slide_type": "slide"
    }
   },
   "outputs": [
    {
     "name": "stdout",
     "output_type": "stream",
     "text": [
      "Is it work time?\n",
      "Is it lunchtime?\n"
     ]
    }
   ],
   "source": [
    "# Example : Time-telling program\n",
    "\n",
    "time = 9.00          # current time\n",
    "\n",
    "work_starts = 8.00    # time work starts \n",
    "work_ends =  17.00    # time work ends\n",
    "\n",
    "lunch_starts = 13.00  # time lunch starts\n",
    "lunch_ends =   14.00  # time lunch ends\n",
    "\n",
    "# lunchtime if the time is between the start and end of lunchtime\n",
    "\n",
    "\n",
    "# work_time if the time is not...\n",
    "# ... before work\n",
    "# ... or after work\n",
    "# ... or lunchtime            \n",
    "                 \n",
    "\n",
    "print(\"Is it work time?\")\n",
    "\n",
    "\n",
    "print(\"Is it lunchtime?\")\n",
    "\n"
   ]
  },
  {
   "cell_type": "code",
   "execution_count": 11,
   "metadata": {},
   "outputs": [
    {
     "name": "stdout",
     "output_type": "stream",
     "text": [
      "Is it lunchtime?\n",
      "True\n",
      "Is it work time?\n",
      "False\n"
     ]
    }
   ],
   "source": [
    "# Example : Time-telling program\n",
    "# Example solution\n",
    "\n",
    "time = 13.05          # current time\n",
    "\n",
    "work_starts = 8.00    # time work starts \n",
    "work_ends =  17.00    # time work ends\n",
    "\n",
    "lunch_starts = 13.00  # time lunch starts\n",
    "lunch_ends =   14.00  # time lunch ends\n",
    "\n",
    "# lunchtime if the time is between the start and end of lunchtime\n",
    "lunchtime = time >= lunch_starts and time < lunch_ends\n",
    "\n",
    "# work_time if the time is not...  \n",
    "work_time = not (   time < work_starts     # ... before work\n",
    "                 or time > work_ends       # ... or after work\n",
    "                 or lunchtime)             # ... or lunchtime\n",
    "                 \n",
    "\n",
    "print(\"Is it lunchtime?\")\n",
    "print(lunchtime)\n",
    "\n",
    "print(\"Is it work time?\")\n",
    "print(work_time)\n"
   ]
  },
  {
   "cell_type": "markdown",
   "metadata": {
    "slideshow": {
     "slide_type": "slide"
    }
   },
   "source": [
    "If we change the value of `time`, the program output changes. "
   ]
  },
  {
   "cell_type": "markdown",
   "metadata": {
    "slideshow": {
     "slide_type": "subslide"
    }
   },
   "source": [
    "Note that the comparison operators (`>=`, `<=`, `<` and `>`) are evaluated before the Boolean operators (`and`, `or`).\n",
    "<a id='OperatorPrecedence'></a>\n",
    "### Operator Precedence\n",
    "\n",
    "\n",
    "> 1. Parentheses\n",
    "1. Exponents \n",
    "1. Multiplication, Division, Floor Division and Modulo (left to right)\n",
    "1. Addition and Subtraction (left to right)\n",
    "1. Comparison Operators (left to right)\n",
    "1. Boolean not\n",
    "1. Boolean and\n",
    "1. Boolean or"
   ]
  },
  {
   "cell_type": "code",
   "execution_count": 12,
   "metadata": {
    "slideshow": {
     "slide_type": "subslide"
    }
   },
   "outputs": [],
   "source": [
    "a = 3 + 1 < 4 or 3 * 1 < 4\n",
    "\n",
    "a = ((3 + 1) < 4) or ((3 * 1) < 4)"
   ]
  },
  {
   "cell_type": "markdown",
   "metadata": {},
   "source": [
    "Both expressions show the same equation but the second is more __readable__.  "
   ]
  },
  {
   "cell_type": "markdown",
   "metadata": {
    "slideshow": {
     "slide_type": "slide"
    }
   },
   "source": [
    "<a id='StackingBooleanOperators'></a>\n",
    "###  Stacking Boolean Operators\n",
    "\n",
    "\n",
    "Extract from time-telling program:\n",
    "\n",
    "```python\n",
    "\n",
    "time = 13.05          # current time\n",
    "lunch_starts = 13.00  # time lunch starts\n",
    "lunch_ends =   14.00  # time lunch ends\n",
    "\n",
    "lunchtime = time >= lunch_starts and time < lunch_ends\n",
    "\n",
    "print(\"Is it lunchtime?\")\n",
    "print(lunchtime)\n",
    "\n",
    "```\n",
    "\n",
    "We can rewrite the line: `lunchtime = time >= lunch_starts and time <= lunch_ends` \n",
    "<br> to *stack* the logical operations.  "
   ]
  },
  {
   "cell_type": "markdown",
   "metadata": {
    "slideshow": {
     "slide_type": "slide"
    }
   },
   "source": [
    "<a id='ControlStatements'></a>\n",
    "# 3. Control Statements\n",
    "\n",
    " \n",
    "\n",
    "What is a *__control statement__*?\n",
    "\n",
    "Let's start with an example you are already familiar with..."
   ]
  },
  {
   "cell_type": "markdown",
   "metadata": {
    "slideshow": {
     "slide_type": "slide"
    }
   },
   "source": [
    "\n",
    "Considerthe time-telling computer program that returned Boolean (True or False) variables... \n",
    "\n"
   ]
  },
  {
   "cell_type": "markdown",
   "metadata": {
    "slideshow": {
     "slide_type": "slide"
    }
   },
   "source": [
    "### Time-telling program\n",
    "\n",
    "Based on the current time of day, the program answers two questions:\n",
    "\n",
    ">__Is it lunchtime?__\n",
    "\n",
    ">`True`\n",
    "\n",
    "if it is lunch time.\n",
    "\n",
    "<br>\n",
    "\n",
    ">__Is it time for work?__\n",
    "\n",
    ">`True`\n",
    "\n",
    "if it is `not`:\n",
    "- before work (`time < work_starts`)\n",
    "- after work (`time > work_ends `)\n",
    "- lunchtime (the previous question assigns the value `True` or `False` to variable `lunchtime`)."
   ]
  },
  {
   "cell_type": "code",
   "execution_count": 13,
   "metadata": {
    "slideshow": {
     "slide_type": "slide"
    }
   },
   "outputs": [
    {
     "name": "stdout",
     "output_type": "stream",
     "text": [
      "Is it work time? False\n",
      "Is it lunchtime? True\n"
     ]
    }
   ],
   "source": [
    "# Time-telling program\n",
    "\n",
    "time = 13.05          # current time\n",
    "\n",
    "work_starts = 8.00    # time work starts \n",
    "work_ends =  17.00    # time work ends\n",
    "\n",
    "lunch_starts = 13.00  # time lunch starts\n",
    "lunch_ends =   14.00  # time lunch ends\n",
    "\n",
    "# lunchtime if the time is between the start and end of lunchtime\n",
    "lunchtime = time >= lunch_starts and time < lunch_ends\n",
    "\n",
    "# work_time if the time is not...  \n",
    "work_time = not (   time < work_starts     # ... before work\n",
    "                 or time > work_ends       # ... or after work\n",
    "                 or lunchtime)             # ... or lunchtime\n",
    "                 \n",
    "\n",
    "print(f\"Is it work time? {work_time}\")\n",
    "print(f\"Is it lunchtime? {lunchtime}\")"
   ]
  },
  {
   "cell_type": "markdown",
   "metadata": {
    "slideshow": {
     "slide_type": "slide"
    }
   },
   "source": [
    "What if we now want our computer program to do something based on these answers?\n",
    "\n",
    "To do this, we need to use *control statements*.\n",
    "\n",
    "Control statements allow us to make decisions in a program.\n",
    "\n",
    "This decision making is known as *control flow*. \n",
    "\n",
    "Control statements are a fundamental part of programming."
   ]
  },
  {
   "cell_type": "markdown",
   "metadata": {
    "slideshow": {
     "slide_type": "slide"
    }
   },
   "source": [
    "Here is a control statement in pseudo code:\n",
    "\n",
    "This is an `if` statement.\n",
    "\n",
    "    if A is true    \n",
    "        Perform task X\n",
    "        \n",
    "For example \n",
    "\n",
    "    if lunchtime is true    \n",
    "        Eat lunch\n",
    "\n",
    "<p align=\"center\">\n",
    "  <img src=\"img/flow_diag_if_lunctime.png\" alt=\"Drawing\" style=\"width: 300px;\"/>\n",
    "</p>"
   ]
  },
  {
   "cell_type": "markdown",
   "metadata": {
    "slideshow": {
     "slide_type": "slide"
    }
   },
   "source": [
    "We can check if an alternative to the `if` statement is true using an `else if` statement.\n",
    "\n",
    "\n",
    "    if A is true\n",
    "        Perform task X (only)\n",
    "        \n",
    "    else if B is true\n",
    "        Perform task Y (only)\n",
    "        "
   ]
  },
  {
   "cell_type": "markdown",
   "metadata": {
    "slideshow": {
     "slide_type": "slide"
    }
   },
   "source": [
    "Example:\n",
    "\n",
    "    if lunchtime is true\n",
    "        Eat lunch\n",
    "        \n",
    "    else if work_time is true\n",
    "        Do work\n",
    "        \n",
    "<p align=\"center\">\n",
    "  <img src=\"img/flow_diag_if_lunctime_elif_work.png\" alt=\"Drawing\" style=\"width: 300px;\"/>\n",
    "</p>"
   ]
  },
  {
   "cell_type": "markdown",
   "metadata": {
    "slideshow": {
     "slide_type": "slide"
    }
   },
   "source": [
    "Often it is useful to include an `else` statement.\n",
    "\n",
    "If none of the `if` and `else if` statements are satisfied, the code following the `else` statement will be executed.\n",
    "\n",
    "    if A is true\n",
    "        Perform task X (only)\n",
    "        \n",
    "    else if B is true\n",
    "        Perform task Y (only)\n",
    "        \n",
    "    else   \n",
    "        Perform task Z (only)\n",
    "        \n",
    "\n",
    "\n",
    "\n"
   ]
  },
  {
   "cell_type": "markdown",
   "metadata": {
    "slideshow": {
     "slide_type": "slide"
    }
   },
   "source": [
    "    if lunchtime is true\n",
    "        Eat lunch\n",
    "        \n",
    "    else if work_time is true\n",
    "        Do work\n",
    "        \n",
    "    else   \n",
    "        Go home\n",
    "        \n",
    "<p align=\"center\">\n",
    "  <img src=\"img/flow_diag_if_lunctime_elif_work_else_home.png\" alt=\"Drawing\" style=\"width: 400px;\"/>\n",
    "</p>"
   ]
  },
  {
   "cell_type": "markdown",
   "metadata": {
    "slideshow": {
     "slide_type": "slide"
    }
   },
   "source": [
    "Let's get a better understanding of control flow statements by completing some examples. "
   ]
  },
  {
   "cell_type": "markdown",
   "metadata": {
    "collapsed": true,
    "slideshow": {
     "slide_type": "slide"
    }
   },
   "source": [
    "<a id='ifelse'></a>\n",
    "# `if` and `else` statements\n",
    "\n",
    "Here is what these control statements look like if we include them in the time-telling program...\n",
    "\n",
    "__Note:__ In Python, \"else if\" is written: `elif`"
   ]
  },
  {
   "cell_type": "code",
   "execution_count": 14,
   "metadata": {
    "slideshow": {
     "slide_type": "slide"
    }
   },
   "outputs": [
    {
     "name": "stdout",
     "output_type": "stream",
     "text": [
      "Eat lunch\n"
     ]
    }
   ],
   "source": [
    "# Time-telling program\n",
    "\n",
    "time = 13.05          # current time\n",
    "\n",
    "work_starts = 8.00    # time work starts \n",
    "work_ends =  17.00    # time work ends\n",
    "\n",
    "lunch_starts = 13.00  # time lunch starts\n",
    "lunch_ends =   14.00  # time lunch ends\n",
    "\n",
    "# variable lunchtime is True if the time is between the start and end of lunchtime\n",
    "lunchtime = time >= lunch_starts and time < lunch_ends\n",
    "\n",
    "# variable work_time is True if the time is not...  \n",
    "work_time = not (   time < work_starts     # ... before work\n",
    "                 or time > work_ends       # ... or after work\n",
    "                 or lunchtime)             # ... or lunchtime\n",
    "\n",
    "if lunchtime:  \n",
    "    print(\"Eat lunch\")\n",
    "        \n",
    "elif work_time: \n",
    "    print(\"Do work\")\n",
    "        \n",
    "else:   \n",
    "    print(\"Go home\")\n"
   ]
  },
  {
   "cell_type": "markdown",
   "metadata": {
    "slideshow": {
     "slide_type": "slide"
    }
   },
   "source": [
    "Here is another example, using algebraic operators to modify the value of an initial variable, `x`. \n",
    "\n",
    "The __modification of `x`__ and the __message printed__ depend on the initial value of `x`.\n",
    "\n",
    "<p align=\"center\">\n",
    "  <img src=\"img/flow_diag_x_modify.png\" alt=\"Drawing\" style=\"width: 400px;\"/>\n",
    "</p>"
   ]
  },
  {
   "cell_type": "code",
   "execution_count": 15,
   "metadata": {
    "slideshow": {
     "slide_type": "slide"
    }
   },
   "outputs": [
    {
     "name": "stdout",
     "output_type": "stream",
     "text": [
      "Modified x =  -10.0\n"
     ]
    }
   ],
   "source": [
    "#Example : Modify input variable, `x`.\n",
    "\n",
    "x = -10.0  # Initial x value\n",
    "\n",
    "\n",
    "# x is greater than zero\n",
    "\n",
    "\n",
    "# x is less than zero\n",
    "\n",
    "\n",
    "# x is not less than zero and not greater than zero, therefore it must be zero\n",
    "\n",
    "print(\"Modified x = \", x)\n",
    "\n"
   ]
  },
  {
   "cell_type": "code",
   "execution_count": 16,
   "metadata": {
    "slideshow": {
     "slide_type": "slide"
    }
   },
   "outputs": [
    {
     "name": "stdout",
     "output_type": "stream",
     "text": [
      "Modified x =  11.0\n"
     ]
    }
   ],
   "source": [
    "# Example solution\n",
    "# Example : Modify input variable, `x`.\n",
    "\n",
    "x = -10.0  # Initial x value\n",
    "\n",
    "\n",
    "# x is greater than zero\n",
    "if x > 0:\n",
    "    x -= 20\n",
    "\n",
    "\n",
    "# x is less than zero\n",
    "elif x < 0:\n",
    "    x += 21\n",
    "\n",
    "\n",
    "# x is not less than zero and not greater than zero, therefore it must be zero\n",
    "else:\n",
    "    x *= 2.5\n",
    "\n",
    "print(\"Modified x = \", x)\n",
    "\n"
   ]
  },
  {
   "cell_type": "markdown",
   "metadata": {},
   "source": [
    "(Solution in 01b_ControlFlow_SOLS.ipynb)"
   ]
  },
  {
   "cell_type": "markdown",
   "metadata": {
    "slideshow": {
     "slide_type": "slide"
    }
   },
   "source": [
    "\n",
    "\n",
    "__Note:__ A full explanation of shortcut operators is given in 01a_BasicOperators_DataTypes"
   ]
  },
  {
   "cell_type": "markdown",
   "metadata": {
    "slideshow": {
     "slide_type": "subslide"
    }
   },
   "source": [
    "__Try it yourself__\n",
    "\n",
    "In the cell code cell above, try:\n",
    "\n",
    "- changing the operations performed on `x`\n",
    "\n",
    "- changing the value of `x` a few times.\n",
    "\n",
    "Re-run the cell to see the different paths the program can follow."
   ]
  },
  {
   "cell_type": "markdown",
   "metadata": {
    "slideshow": {
     "slide_type": "slide"
    }
   },
   "source": [
    "### Look carefully at the structure of the `if`, `elif`, `else`, control statement:\n",
    "\n",
    "\n",
    "__The control statement begins with an `if`__, followed by the expression to check.  <br> \n",
    " At the end of the `if` statement you must put a colon (`:`) <br> \n",
    "````python\n",
    "if x > 0.0:    \n",
    "````"
   ]
  },
  {
   "cell_type": "markdown",
   "metadata": {
    "slideshow": {
     "slide_type": "slide"
    }
   },
   "source": [
    "After the `if` statement, indent the code to be run in the case that the `if` statement is `True`. <br>\n",
    "\n",
    "\n",
    " To end the code to be run, simply stop indenting:\n",
    " \n",
    "````python\n",
    "if x > 0.0:\n",
    "    print('Initial x is greater than zero')\n",
    "    x -= 20.0\n",
    "````"
   ]
  },
  {
   "cell_type": "markdown",
   "metadata": {
    "slideshow": {
     "slide_type": "slide"
    }
   },
   "source": [
    "The indent can be any number of spaces.\n",
    "\n",
    "The number of spaces must be the same for all lines of code to be run if the `if` statement is True.\n",
    "\n",
    "Jupyter Notebooks automatically indent 4 spaces.\n",
    "\n",
    "This is considered best practise. "
   ]
  },
  {
   "cell_type": "markdown",
   "metadata": {
    "slideshow": {
     "slide_type": "subslide"
    }
   },
   "source": [
    " `if x > 0.0` is:\n",
    " - `True`:\n",
    "    - The indented code is executed.\n",
    "    - The control block is exited.\n",
    "    - The program moves past any subsequent `elif` or `else` statements.\n",
    "    <br>    \n",
    "    \n",
    "    \n",
    "  - `False`:\n",
    "  the program moves past the inented code to the next (non-indented) part of the program... <br>"
   ]
  },
  {
   "cell_type": "markdown",
   "metadata": {
    "slideshow": {
     "slide_type": "subslide"
    }
   },
   "source": [
    "In this the next (non-indented) part of the program is `elif` (else if).\n",
    "\n",
    "The elif statement is evaluated.\n",
    "\n",
    "(Notice that the code is structured in the same way as the `if` statement.):\n",
    "\n",
    "```python\n",
    "if x > 0.0:\n",
    "    print('Initial x is greater than zero')\n",
    "    x -= 20.0\n",
    "    \n",
    "elif x < 0.0:\n",
    "    print('Initial x is less than zero')\n",
    "    x += 21.0\n",
    "```  "
   ]
  },
  {
   "cell_type": "markdown",
   "metadata": {
    "slideshow": {
     "slide_type": "subslide"
    }
   },
   "source": [
    "`elif x < 0.0`:\n",
    "\n",
    "- `True`:\n",
    "    - The indented code is executed.\n",
    "    - The control block is exited. \n",
    "    - The program moves past any subsequent `elif` or `else` statements.\n",
    "    \n",
    "    \n",
    "- `False`:\n",
    "  the program moves past the indented code to the next (non-indented) part of the program. <br>\n",
    " \n",
    "\n",
    " "
   ]
  },
  {
   "cell_type": "markdown",
   "metadata": {
    "slideshow": {
     "slide_type": "subslide"
    }
   },
   "source": [
    "If none of the preceding `if` or `elif` stements are true.\n",
    "<br> e.g. in this example:\n",
    " - `x > 0.0` is `False` \n",
    " - `x < 0.0` is `False`\n",
    "\n",
    "the code following the `else` statement is executed.\n",
    "\n",
    "```python\n",
    "if x > 0.0:\n",
    "    print('Initial x is greater than zero')\n",
    "    x -= 20.0\n",
    "\n",
    "elif x < 0.0:\n",
    "    print('Initial x is less than zero')\n",
    "    x += 21.0\n",
    "\n",
    "else:\n",
    "    print('Initial x is not less than zero and not greater than zero, therefore it must be zero')\n",
    "```"
   ]
  },
  {
   "cell_type": "markdown",
   "metadata": {
    "slideshow": {
     "slide_type": "slide"
    }
   },
   "source": [
    "__Remember:__ The program assigns the variables lunchtime and work_time the values `True` or `False`.\n",
    "\n",
    "Therefore when we type: \n",
    "<br>`if lunchtime`\n",
    "\n",
    "<br>the meaning is the same as: \n",
    "<br>`if lunchtime == True`"
   ]
  },
  {
   "cell_type": "markdown",
   "metadata": {
    "slideshow": {
     "slide_type": "slide"
    }
   },
   "source": [
    "<a id='Loops'></a>\n",
    "# 4. Loops \n",
    "\n",
    "\n",
    "<br> <a href='#forLoops'>4.1 `for` loops</a> \n",
    "<br> <a href='#whileLoops'>4.2 `while` loops</a> \n",
    "<br> <a href='#breakcontinue'>4.3 `break` and `continue`</a>\n",
    "    <br> &emsp;&emsp; <a href='#break'>4.3.1 `break`</a>\n",
    "    <br> &emsp;&emsp; <a href='#forelsewhileelse'>4.3.2  `for-else` and `while-else`</a>\n",
    "    <br> &emsp;&emsp; <a href='#continue'>4.3.3 `continue`</a>\n",
    "\n",
    "*Loops* are used to execute a command repeatedly.\n",
    "<br>\n",
    "A loop is a block that repeats an operation a specified number of times (loops).\n",
    "\n",
    "There are two main types of loops in Python:\n",
    " - `for` loops  : repeat a certain number of times\n",
    " - `while` loops : repeat until something happens (e.g. user presses 'exit') \n",
    " \n",
    "\n",
    "\n"
   ]
  },
  {
   "cell_type": "markdown",
   "metadata": {
    "slideshow": {
     "slide_type": "slide"
    }
   },
   "source": [
    "Examples:\n",
    "- __`for` loop__ : print the health of each player in a game. (\"Print health `for` each player\")\n",
    "- __`while` loop__ : play a game until a user hits the exit button (\"`while` the exit button is not pressed, play the game.\")"
   ]
  },
  {
   "cell_type": "markdown",
   "metadata": {
    "slideshow": {
     "slide_type": "slide"
    }
   },
   "source": [
    "<a id='forLoops'></a>\n",
    "# 4.1 `for` loops"
   ]
  },
  {
   "cell_type": "markdown",
   "metadata": {
    "slideshow": {
     "slide_type": "-"
    }
   },
   "source": [
    "The statement \n",
    "```python\n",
    "for i in range(0, 5):   # Print numbers 0 to 4\n",
    "    print(i)   \n",
    "```\n",
    "\n",
    "\n",
    "<p align=\"center\">\n",
    "  <img src=\"img/flow_diag_for_loop.png\" alt=\"Drawing\" style=\"width: 400px;\"/>\n",
    "</p>"
   ]
  },
  {
   "cell_type": "code",
   "execution_count": 17,
   "metadata": {
    "slideshow": {
     "slide_type": "slide"
    }
   },
   "outputs": [
    {
     "name": "stdout",
     "output_type": "stream",
     "text": [
      "0\n",
      "1\n",
      "2\n",
      "3\n",
      "4\n"
     ]
    }
   ],
   "source": [
    "for i in range(0, 5):   # Print numbers 0 to 4\n",
    "    print(i) "
   ]
  },
  {
   "cell_type": "markdown",
   "metadata": {
    "slideshow": {
     "slide_type": "subslide"
    }
   },
   "source": [
    "\n",
    "Each time the code loops the value `i` moves to the next value in the range (0, 1, 2, 3, 4) until the last time when its value is 4. "
   ]
  },
  {
   "cell_type": "markdown",
   "metadata": {
    "slideshow": {
     "slide_type": "slide"
    }
   },
   "source": [
    "The structure is similar to the `if` statement:\n",
    " - `for` is followed by the condition being checked.\n",
    " - : colon at the end of the `for` statement.   \n",
    " - The indented code that follows is run each time the code loops.  <br>\n",
    " (The __same of spaces__ should be used for all indents) \n",
    " <br> \n",
    " - To end the `for` loop, simply stop indenting. "
   ]
  },
  {
   "cell_type": "code",
   "execution_count": 18,
   "metadata": {
    "slideshow": {
     "slide_type": "-"
    }
   },
   "outputs": [
    {
     "name": "stdout",
     "output_type": "stream",
     "text": [
      "-2\n",
      "-1\n",
      "0\n",
      "1\n",
      "2\n",
      "The end of the loop\n"
     ]
    }
   ],
   "source": [
    "for i in range(-2, 3):\n",
    "    print(i)\n",
    "print('The end of the loop')"
   ]
  },
  {
   "cell_type": "markdown",
   "metadata": {
    "slideshow": {
     "slide_type": "subslide"
    }
   },
   "source": [
    "The above loop starts from -2 and executes the indented code for each value of i in the range (-2, -1, 0, 1, 2).\n",
    "<br>\n",
    "When the loop has executed the code for the final value `i = 2`, it moves on to the next unindented line of code."
   ]
  },
  {
   "cell_type": "markdown",
   "metadata": {
    "slideshow": {
     "slide_type": "slide"
    }
   },
   "source": [
    "<a id='ExampleConversionTable'></a>\n",
    "### Example: Conversion table from degrees Fahrenheit to degrees Celsius\n",
    "\n",
    "We can use a `for` loop to create a conversion table from degrees Fahrenheit ($Tf$) to degrees Celsius ($Tc$).\n",
    "\n",
    "Conversion formula:\n",
    "\n",
    "$$\n",
    "T_c = 5(T_f - 32)/9\n",
    "$$\n",
    "\n"
   ]
  },
  {
   "cell_type": "markdown",
   "metadata": {
    "slideshow": {
     "slide_type": "slide"
    }
   },
   "source": [
    "__Conversion table : Fahrenheit ($Tf$) to degrees Celsius ($Tc$)__\n",
    "<br>-100 F to 200 F\n",
    "<br>Steps of 20 F (not including 200 F):\n",
    "\n",
    "<p align=\"center\">\n",
    "  <img src=\"img/flow_diag_for_loop_temperature.png\" alt=\"Drawing\" style=\"width: 300px;\"/>\n",
    "</p>"
   ]
  },
  {
   "cell_type": "code",
   "execution_count": 19,
   "metadata": {
    "scrolled": true,
    "slideshow": {
     "slide_type": "slide"
    }
   },
   "outputs": [
    {
     "name": "stdout",
     "output_type": "stream",
     "text": [
      "Tf \t Tc\n",
      "-----------------\n",
      "-100 \t -73.333\n",
      "-80 \t -62.222\n",
      "-60 \t -51.111\n",
      "-40 \t -40.0\n",
      "-20 \t -28.889\n",
      "0 \t -17.778\n",
      "20 \t -6.667\n",
      "40 \t 4.444\n",
      "60 \t 15.556\n",
      "80 \t 26.667\n",
      "100 \t 37.778\n",
      "120 \t 48.889\n",
      "140 \t 60.0\n",
      "160 \t 71.111\n",
      "180 \t 82.222\n"
     ]
    }
   ],
   "source": [
    "# print heading\n",
    "print(\"Tf \\t Tc\")\n",
    "print(\"-----------------\")\n",
    "\n",
    "# convert all items in range\n",
    "for Tf in range(-100, 200, 20):\n",
    "    Tc = ((Tf -32) * 5 / 9)\n",
    "    Tc = round(Tc, 3)\n",
    "    print(f\"{Tf} \\t {Tc}\")\n"
   ]
  },
  {
   "cell_type": "markdown",
   "metadata": {
    "slideshow": {
     "slide_type": "slide"
    }
   },
   "source": [
    "For loops are are useful for repeated operations.\n",
    "\n",
    "This includes:\n",
    "\n",
    "- generating repeated patterns, e.g. generating a \"board\" to play on.\n",
    "- checking a series of items, e.g. the \"health\" of each player in a game. \n"
   ]
  },
  {
   "cell_type": "markdown",
   "metadata": {
    "slideshow": {
     "slide_type": "slide"
    }
   },
   "source": [
    "<a id='whileLoops'></a>\n",
    "# 4.2 `while` loops\n",
    "\n",
    "A __`for`__ loop performs an operation a specified number of times. \n",
    "\n",
    "```python \n",
    "for x in range(5):\n",
    "    print(x)\n",
    "```   \n",
    "\n",
    "A __`while`__ loop performs a task *while* a specified statement is true. \n",
    "\n",
    "```python\n",
    "x = 0\n",
    "while x < 5:\n",
    "    print(x)\n",
    "```\n",
    "\n",
    "<p align=\"center\">\n",
    "  <img src=\"img/flow_diag_while_loop.png\" alt=\"Drawing\" style=\"width: 400px;\"/>\n",
    "</p>"
   ]
  },
  {
   "cell_type": "markdown",
   "metadata": {
    "slideshow": {
     "slide_type": "slide"
    }
   },
   "source": [
    "We use the same structure as for `for` loops and `if-elif-else`:\n",
    "- `while` is followed by the condition being checked.\n",
    "- : colon at the end of the `while` statement.   \n",
    "- The indented code that follows is repeatedly executed until the `while` statement (e.g. `x < 5`) is `False`.  <br>\n",
    "\n",
    " "
   ]
  },
  {
   "cell_type": "markdown",
   "metadata": {
    "slideshow": {
     "slide_type": "slide"
    }
   },
   "source": [
    "It can be quite easy to crash your computer using a `while` loop. \n",
    "\n",
    "e.g. if we don't modify the value of x each time the code loops:\n",
    "```python\n",
    "x = 0\n",
    "while x < 5:\n",
    "    print(x)\n",
    "    # x += 1  \n",
    "```\n",
    "will continue indefinitely since `x < 5 == False`  will never be satisfied.\n",
    "\n",
    "This is called an *infinite loop*.\n",
    "\n"
   ]
  },
  {
   "cell_type": "markdown",
   "metadata": {
    "slideshow": {
     "slide_type": "slide"
    }
   },
   "source": [
    "To perform the same function as the `for` loop we need to increment the value of `x` within the loop:"
   ]
  },
  {
   "cell_type": "code",
   "execution_count": 20,
   "metadata": {
    "slideshow": {
     "slide_type": "-"
    }
   },
   "outputs": [
    {
     "name": "stdout",
     "output_type": "stream",
     "text": [
      "Start of while statement\n",
      "0\n",
      "1\n",
      "2\n",
      "3\n",
      "4\n",
      "End of while statement\n"
     ]
    }
   ],
   "source": [
    "x = 0\n",
    "\n",
    "print(\"Start of while statement\")\n",
    "\n",
    "while x < 5:\n",
    "    print(x)\n",
    "    x += 1  # Increment x\n",
    "    \n",
    "print(\"End of while statement\")"
   ]
  },
  {
   "cell_type": "markdown",
   "metadata": {
    "slideshow": {
     "slide_type": "slide"
    }
   },
   "source": [
    "`for` loops are often safer when performing an operation on a set range of values."
   ]
  },
  {
   "cell_type": "code",
   "execution_count": 21,
   "metadata": {
    "scrolled": true,
    "slideshow": {
     "slide_type": "-"
    }
   },
   "outputs": [
    {
     "name": "stdout",
     "output_type": "stream",
     "text": [
      "Start of for loop\n",
      "-2\n",
      "-1\n",
      "0\n",
      "1\n",
      "2\n",
      "3\n",
      "4\n",
      "End of for loop\n"
     ]
    }
   ],
   "source": [
    "x = -2\n",
    "\n",
    "print(\"Start of for loop\")\n",
    "\n",
    "for y in range(x,5):\n",
    "    print(y)\n",
    "    \n",
    "print(\"End of for loop\")"
   ]
  },
  {
   "cell_type": "markdown",
   "metadata": {
    "slideshow": {
     "slide_type": "slide"
    }
   },
   "source": [
    "`While` loops are more appropriate when the number of loops required is not known beforehand (e.g. before `x > 0.001` becomes false).\n",
    "\n"
   ]
  },
  {
   "cell_type": "markdown",
   "metadata": {
    "slideshow": {
     "slide_type": "slide"
    }
   },
   "source": [
    "__Note:__ In this example, if we use an initial value of $x \\ge 1$, an infinite loop will be generated. \n",
    "\n",
    "e.g. \n",
    "```python\n",
    "x = 2\n",
    "\n",
    "while x > 0.001:\n",
    "    x = x * x\n",
    "    print(x)\n",
    "```\n",
    "\n",
    "`x` will increase with each loop, meaning `x` will always be greater than 0.001."
   ]
  },
  {
   "cell_type": "markdown",
   "metadata": {
    "slideshow": {
     "slide_type": "subslide"
    }
   },
   "source": [
    "To avoid errors, it is good practice to check that $x < 1$ before entering the `while` loop e.g."
   ]
  },
  {
   "cell_type": "code",
   "execution_count": 22,
   "metadata": {},
   "outputs": [
    {
     "name": "stdout",
     "output_type": "stream",
     "text": [
      "0.81\n",
      "0.6561\n",
      "0.430467\n",
      "0.185302\n",
      "0.034337\n",
      "0.001179\n",
      "1e-06\n"
     ]
    }
   ],
   "source": [
    "x = 0.9\n",
    "\n",
    "if x < 1:\n",
    "\n",
    "    while x > 0.001:\n",
    "        # Square x (shortcut x *= x)\n",
    "        x = x * x\n",
    "        print(round(x, 6))\n",
    "        \n",
    "else:\n",
    "    print(\"x is greater than one, infinite loop avoided\")"
   ]
  },
  {
   "cell_type": "markdown",
   "metadata": {
    "collapsed": true,
    "slideshow": {
     "slide_type": "subslide"
    }
   },
   "source": [
    "__Try it for yourself:__\n",
    "\n",
    "In the cell above change the value of x to above or below 1.\n",
    "\n",
    "Observe the output.\n"
   ]
  },
  {
   "cell_type": "markdown",
   "metadata": {
    "slideshow": {
     "slide_type": "subslide"
    }
   },
   "source": [
    "__Try it for yourself:__\n",
    "\n",
    "In the cell below:\n",
    " - Create a variable,`x`, with the initial value 50\n",
    " - Each loop:\n",
    "  1. print x\n",
    "  1. reduce the value of x by half\n",
    " - Exit the loop when `x` < 3"
   ]
  },
  {
   "cell_type": "code",
   "execution_count": 23,
   "metadata": {},
   "outputs": [],
   "source": [
    "# While loop"
   ]
  },
  {
   "cell_type": "code",
   "execution_count": 24,
   "metadata": {},
   "outputs": [
    {
     "name": "stdout",
     "output_type": "stream",
     "text": [
      "0.81\n",
      "0.6561\n",
      "0.430467\n",
      "0.185302\n",
      "0.034337\n",
      "0.001179\n",
      "1e-06\n"
     ]
    }
   ],
   "source": [
    "x = 0.9\n",
    "\n",
    "while x > 0.001:\n",
    "    # Square x (shortcut x *= x)\n",
    "    x = x * x\n",
    "    print(round(x, 6))"
   ]
  },
  {
   "cell_type": "markdown",
   "metadata": {
    "slideshow": {
     "slide_type": "slide"
    }
   },
   "source": [
    "<a id='breakcontinue'></a>\n",
    "# 4.3 `break` and `continue`"
   ]
  },
  {
   "cell_type": "markdown",
   "metadata": {
    "slideshow": {
     "slide_type": "slide"
    }
   },
   "source": [
    "<a id='break'></a>\n",
    "## 4.3.1 `break`\n",
    "\n",
    "Sometimes we want to exit a `for` or `while` loop prematurely. \n",
    "\n",
    "<img src=\"img/algorithm-break-statement.jpg\" alt=\"Drawing\" style=\"width: 300px;\"/>"
   ]
  },
  {
   "cell_type": "markdown",
   "metadata": {
    "slideshow": {
     "slide_type": "slide"
    }
   },
   "source": [
    "<p align=\"center\">\n",
    "  <img src=\"img/flow_diag_break.png\" alt=\"Drawing\" style=\"width: 300px;\"/>\n",
    "</p>"
   ]
  },
  {
   "cell_type": "markdown",
   "metadata": {
    "slideshow": {
     "slide_type": "slide"
    }
   },
   "source": [
    "Let's look at how we can use this in a program...\n"
   ]
  },
  {
   "cell_type": "markdown",
   "metadata": {
    "slideshow": {
     "slide_type": "slide"
    }
   },
   "source": [
    "<a id='ExamplePrimeNumbers'></a>\n",
    "### Example: Prime Numbers\n",
    "We are going to look at a program to __find prime numbers__.\n",
    "\n",
    ">__Prime number:__ A positive integer, greater than 1, that has no positive divisors other than 1 and itself (2, 3, 5, 11, 13, 17....)\n",
    "\n",
    "The program checks (integer) numbers, up to a limit `N`, and prints the prime numbers. \n",
    "\n",
    "We will first look at an inefficient solution.\n",
    "\n",
    "We will then write an improved solution using `break`. \n",
    "\n",
    "\n"
   ]
  },
  {
   "cell_type": "markdown",
   "metadata": {
    "slideshow": {
     "slide_type": "slide"
    }
   },
   "source": [
    "We can determine in `n` is a prime nunber by dividing it by every number in the range 2 to `n`.\n",
    "\n",
    "If any of these calculations has a remainder equal to zero, n is *not* a prime number.\n",
    "\n",
    "<p align=\"center\">\n",
    "  <img src=\"img/flow_diag_prime_numbers_.png\" alt=\"Drawing\" style=\"width: 800px;\"/>\n",
    "</p>"
   ]
  },
  {
   "cell_type": "code",
   "execution_count": 25,
   "metadata": {
    "slideshow": {
     "slide_type": "slide"
    }
   },
   "outputs": [
    {
     "name": "stdout",
     "output_type": "stream",
     "text": [
      "2\n",
      "3\n",
      "5\n",
      "7\n",
      "11\n",
      "13\n",
      "17\n",
      "19\n",
      "23\n",
      "29\n",
      "31\n",
      "37\n",
      "41\n",
      "43\n",
      "47\n"
     ]
    }
   ],
   "source": [
    "N = 50  \n",
    "\n",
    "# for loop 1\n",
    "for n in range(2, N):    \n",
    "    n_is_prime = True\n",
    "\n",
    "    # for loop 2\n",
    "    for m in range(2, n): \n",
    "        if not(n % m):           # if remainder == 0...\n",
    "            n_is_prime = False\n",
    "            \n",
    "    if n_is_prime:\n",
    "        print(n)"
   ]
  },
  {
   "cell_type": "code",
   "execution_count": 26,
   "metadata": {
    "slideshow": {
     "slide_type": "subslide"
    }
   },
   "outputs": [
    {
     "name": "stdout",
     "output_type": "stream",
     "text": [
      "2\n",
      "3\n",
      "5\n",
      "7\n",
      "11\n",
      "13\n",
      "17\n",
      "19\n",
      "23\n",
      "29\n",
      "31\n",
      "37\n",
      "41\n",
      "43\n",
      "47\n"
     ]
    }
   ],
   "source": [
    "# Here is the same code with comments to explain each part\n",
    "\n",
    "N = 50  # Check numbers up 50 for primes (excludes 50)\n",
    "\n",
    "# Loop over all numbers from 2 to 50 (excluding 50)\n",
    "for n in range(2, N):\n",
    "\n",
    "    # Assume that n is prime\n",
    "    n_is_prime = True\n",
    "\n",
    "    # Check if n divided by (any number in the range 2 to n) returns a remainder equal to 0 \n",
    "    for m in range(2, n):\n",
    "        \n",
    "        # If the remainder is zero, n is not a prime number\n",
    "        if not(n % m): \n",
    "            n_is_prime = False\n",
    "\n",
    "    #  If n is prime, print to screen        \n",
    "    if n_is_prime:\n",
    "        print(n)"
   ]
  },
  {
   "cell_type": "markdown",
   "metadata": {
    "slideshow": {
     "slide_type": "slide"
    }
   },
   "source": [
    "Notice that our program contains a second `for` loop. \n",
    "\n",
    "For each value of n, it loops through incrementing values of m in the range (2 to n):\n",
    "\n",
    "```python\n",
    "# Check if n can be divided by m\n",
    "# m ranges from 2 to n (excluding n)\n",
    "for m in range(2, n):\n",
    "```\n",
    "before incrementing to the next value of n.\n",
    "\n",
    "We call this a *nested* loop.\n",
    "\n",
    "The indents in the code show where loops are nested."
   ]
  },
  {
   "cell_type": "markdown",
   "metadata": {
    "slideshow": {
     "slide_type": "slide"
    }
   },
   "source": [
    "As n gets larger, dividing it by *every* number in the range (2, n) becomes more and more inefficient. \n",
    "<br>\n",
    "<br>\n",
    "\n",
    "\n",
    "__Using a `break` statement to make code more efficient__\n",
    "<br>A `break` statement exits the loop as soon as a remainder equal to zero is returned <br>(indicating that n is not a prime number). \n",
    "\n"
   ]
  },
  {
   "cell_type": "markdown",
   "metadata": {
    "slideshow": {
     "slide_type": "slide"
    }
   },
   "source": [
    "As soon as a number is found to be not prime, the program:\n",
    "- breaks out of loop 2\n",
    "- goes to the next value of n in loop 1.\n",
    "\n",
    "<p align=\"center\">\n",
    "  <img src=\"img/flow_diag_prime_numbers_break_.png\" alt=\"Drawing\" style=\"width: 800px;\"/>\n",
    "</p>"
   ]
  },
  {
   "cell_type": "code",
   "execution_count": 27,
   "metadata": {
    "slideshow": {
     "slide_type": "slide"
    }
   },
   "outputs": [
    {
     "name": "stdout",
     "output_type": "stream",
     "text": [
      "2\n",
      "3\n",
      "5\n",
      "7\n",
      "11\n",
      "13\n",
      "17\n",
      "19\n",
      "23\n",
      "29\n",
      "31\n",
      "37\n",
      "41\n",
      "43\n",
      "47\n"
     ]
    }
   ],
   "source": [
    "# Example : Prime numbers\n",
    "# Modify the original program (below) to use break\n",
    "\n",
    "N = 50  \n",
    "\n",
    "# for loop 1\n",
    "for n in range(2, N):    \n",
    "    n_is_prime = True\n",
    "\n",
    "    # for loop 2\n",
    "    for m in range(2, n): \n",
    "        if not(n % m):           # if remainder == 0...\n",
    "            #n_is_prime = False\n",
    "            break\n",
    "\n",
    "            \n",
    "    #if n_is_prime:\n",
    "    else:\n",
    "        print(n)"
   ]
  },
  {
   "cell_type": "markdown",
   "metadata": {},
   "source": [
    "(Solution in 01b_ControlFlow_SOLS.ipynb)"
   ]
  },
  {
   "cell_type": "markdown",
   "metadata": {
    "slideshow": {
     "slide_type": "subslide"
    }
   },
   "source": [
    "\n",
    "<a id='forelsewhileelse'></a>\n",
    "## 4.3.2 `for-else` and `while-else`\n",
    "\n",
    "This is an example of the `for-else` construction...\n",
    "\n",
    "`for-else` and `while-else` are similar to `if-else`:\n",
    "- The `for` / `while` loop is executed.\n",
    "- *If* the loop is not exited due to the `break` the `else` will be executed. \n",
    "\n",
    "\n",
    "By placing `else` *one level up* from `if` the program will iterate through all values of m before printing n if n is prime. "
   ]
  },
  {
   "cell_type": "markdown",
   "metadata": {
    "collapsed": true,
    "slideshow": {
     "slide_type": "slide"
    }
   },
   "source": [
    "<a id='continue'></a>\n",
    "## 4.3.3 `continue`\n",
    "\n",
    "Sometimes, instead of *skipping all remaining values*, we want to skip *just one value* in a loop. \n",
    "\n",
    "For this we use `continue`. \n",
    "\n",
    "<p align=\"center\">\n",
    "  <img src=\"img/flow_diag_continue.png\" alt=\"Drawing\" style=\"width: 300px;\"/>\n",
    "</p>\n",
    "\n"
   ]
  },
  {
   "cell_type": "markdown",
   "metadata": {
    "slideshow": {
     "slide_type": "slide"
    }
   },
   "source": [
    "<img src=\"img/algorithm-continue-statement.jpg\" alt=\"Drawing\" style=\"width: 300px;\"/>"
   ]
  },
  {
   "cell_type": "markdown",
   "metadata": {
    "slideshow": {
     "slide_type": "slide"
    }
   },
   "source": [
    "Let's compare break and continue..."
   ]
  },
  {
   "cell_type": "markdown",
   "metadata": {
    "slideshow": {
     "slide_type": "slide"
    }
   },
   "source": [
    "\n",
    "This program loops through numbers in the range 0 to 19.\n",
    "\n",
    "It prints a message about each number.\n",
    "\n",
    "It *stops* when it reaches a number that is not a multiple of 4."
   ]
  },
  {
   "cell_type": "code",
   "execution_count": 28,
   "metadata": {
    "slideshow": {
     "slide_type": "-"
    }
   },
   "outputs": [
    {
     "name": "stdout",
     "output_type": "stream",
     "text": [
      "1 is not a multiple of 4\n",
      "2 is not a multiple of 4\n",
      "3 is not a multiple of 4\n"
     ]
    }
   ],
   "source": [
    "for j in range(1, 20):\n",
    "    \n",
    "    if j % 4 == 0:  # Check remainer of j/4\n",
    "        break    # continue to next value of j\n",
    "        \n",
    "    print(j, \"is not a multiple of 4\")"
   ]
  },
  {
   "cell_type": "markdown",
   "metadata": {
    "slideshow": {
     "slide_type": "slide"
    }
   },
   "source": [
    "This program loops through numbers in the range 0 to 19.\n",
    "\n",
    "It prints a message about each number.\n",
    "\n",
    "It *skips* this operation whenever it reaches a number that is not a multiple of 4.\n",
    "\n",
    "If the number is divisible by 4 it *continues* to the next value in the loop, without printing."
   ]
  },
  {
   "cell_type": "code",
   "execution_count": 29,
   "metadata": {
    "slideshow": {
     "slide_type": "-"
    }
   },
   "outputs": [
    {
     "name": "stdout",
     "output_type": "stream",
     "text": [
      "1 is not a multiple of 4\n",
      "2 is not a multiple of 4\n",
      "3 is not a multiple of 4\n",
      "5 is not a multiple of 4\n",
      "6 is not a multiple of 4\n",
      "7 is not a multiple of 4\n",
      "9 is not a multiple of 4\n",
      "10 is not a multiple of 4\n",
      "11 is not a multiple of 4\n",
      "13 is not a multiple of 4\n",
      "14 is not a multiple of 4\n",
      "15 is not a multiple of 4\n",
      "17 is not a multiple of 4\n",
      "18 is not a multiple of 4\n",
      "19 is not a multiple of 4\n"
     ]
    }
   ],
   "source": [
    "for j in range(1, 20):\n",
    "    \n",
    "    if j % 4 == 0:  # Check remainer of j/4\n",
    "        continue    # continue to next value of j\n",
    "        \n",
    "    print(j, \"is not a multiple of 4\")"
   ]
  },
  {
   "cell_type": "markdown",
   "metadata": {
    "slideshow": {
     "slide_type": "subslide"
    }
   },
   "source": [
    "__Try it yourself__\n",
    "We can use a `for` loop to perform an operation on each character of a string.\n",
    "\n",
    "```Python\n",
    "string = \"string\"\n",
    "\n",
    "for i in range(len(sting)):\n",
    "    print(sting[i])\n",
    "```"
   ]
  },
  {
   "cell_type": "markdown",
   "metadata": {
    "slideshow": {
     "slide_type": "subslide"
    }
   },
   "source": [
    "In the cell below, loop through the characters of the string.\n",
    "Use `continue` to only print the letters of the word *sting*."
   ]
  },
  {
   "cell_type": "code",
   "execution_count": 30,
   "metadata": {},
   "outputs": [],
   "source": [
    "# Print the letters of the word sting\n",
    "string = \"string\""
   ]
  },
  {
   "cell_type": "markdown",
   "metadata": {
    "slideshow": {
     "slide_type": "slide"
    }
   },
   "source": [
    "<a id='Summary'></a>\n",
    "# Summary\n",
    "\n",
    "[*McGrath, Python in easy steps, 2013*]\n",
    "\n",
    " - The Python `if` keyword performs a conditional test on an expression for a Boolean value of True or False.\n",
    " - Alternatives to an `if` test are provided using `elif` and `else` tests.\n",
    " - A `while` loop repeats until a test expression returns `False`.\n",
    " - A `for`...`in`... loop iterates over each item in a specified data structure (or string).\n",
    " - The `range()` function generates a numerical sequence that can be used to specify the length of the `for` loop.\n",
    " - The `break` and `continue` keywords interrupt loop iterations."
   ]
  },
  {
   "cell_type": "markdown",
   "metadata": {
    "slideshow": {
     "slide_type": "slide"
    }
   },
   "source": [
    "<a id='UpdatingClassNotes'></a>\n",
    "# Updating your Class Notes\n",
    "\n",
    "To add the examples that we covered in class today...\n",
    "\n",
    "In the terminal:\n",
    "\n",
    "1.Navigate to *inside* of the ILAS_python_for_engineers folder on your computer.\n",
    "\n",
    "2.Type:\n",
    ">`git add -A`\n",
    "\n",
    ">`git commit -m \"commit\"`\n",
    "\n",
    ">`git fetch upstream`\n",
    "\n",
    ">`git merge -X theirs upstream/master`\n",
    "  "
   ]
  },
  {
   "cell_type": "markdown",
   "metadata": {
    "slideshow": {
     "slide_type": "slide"
    }
   },
   "source": [
    "<a id='ReviewExercises'></a>\n",
    "# 5. Review Exercises\n",
    "\n",
    "Compete the exercises below.\n",
    "\n",
    "Save your answers as .py files and email them to:\n",
    "<br>philamore.hemma.5s@kyoto-u.ac.jp\n",
    "\n"
   ]
  },
  {
   "cell_type": "markdown",
   "metadata": {},
   "source": [
    "## Review Exercise 1: Temperature conversion\n",
    "    \n",
    "Write a Python program to convert 45 degrees fahrenheit to celcius and print the answer. \n",
    "\n",
    "Formula : $c = 5(f-32)/9 $\n",
    "\n",
    "[ where $c$ = temperature in celsius and $f$ = temperature in fahrenheit ]\n",
    "\n",
    "Expected Output :\n",
    "```\n",
    "45 degrees Fahrenheit is 7.222°C\n",
    "```"
   ]
  },
  {
   "cell_type": "code",
   "execution_count": 31,
   "metadata": {},
   "outputs": [],
   "source": [
    "# Review Exercise 1: Temperature conversion"
   ]
  },
  {
   "cell_type": "markdown",
   "metadata": {
    "slideshow": {
     "slide_type": "slide"
    }
   },
   "source": [
    "### Review Exercise 2: `continue`\n",
    "Write a Python program that prints all the numbers from 0 to 6 except 3 and 6.\n",
    "\n",
    "Note : Use 'continue' statement.\n",
    "\n",
    "Expected Output : ` 1 2 4 5`"
   ]
  },
  {
   "cell_type": "code",
   "execution_count": 33,
   "metadata": {
    "slideshow": {
     "slide_type": "subslide"
    }
   },
   "outputs": [
    {
     "name": "stdout",
     "output_type": "stream",
     "text": [
      "0 1 2 4 5 \n",
      "\n"
     ]
    }
   ],
   "source": [
    "# Review Exercise 2: `continue`\n",
    "# Example Solution\n",
    "for x in range(6):\n",
    "    if (x == 3 or x==6):\n",
    "        continue\n",
    "    print(x,end=' ')\n",
    "print(\"\\n\")"
   ]
  },
  {
   "cell_type": "markdown",
   "metadata": {
    "slideshow": {
     "slide_type": "slide"
    }
   },
   "source": [
    "### Review Exercise 3 : Currency Trading 両替\n",
    "\n",
    "$JPY = $ amount paid in Japanese yen \n",
    "\n",
    "$multiplier$ is shown in the table (it depends on $JPY$)\n",
    "\n",
    "$market\\:rate$ : 1 JPY = 0.0091 USD.\n",
    "\n",
    "\n",
    "\n",
    "|Amount (JPY)                                |Multiplier               |\n",
    "|--------------------------------------------|-------------------------|\n",
    "| $ < 10,000$                                | 0.9                     |   \n",
    "| $\\geq 10,000$ and $ < 100,000$             | 0.925                   |   \n",
    "| $\\geq 100,000$ and $ < 1,000,000$          | 0.95                    |   \n",
    "| $\\geq 1,000,000$ and $ < 10,000,000$       | 0.97                    |   \n",
    "| $\\geq 10,000,000$                          | 0.98                    |    \n",
    "\n",
    "\n",
    "\n",
    "USD received by customer = `JPY * multiplier * market_rate `"
   ]
  },
  {
   "cell_type": "markdown",
   "metadata": {},
   "source": [
    "<p align=\"center\">\n",
    "  <img src=\"img/flow_diag_currency_trading.png\" alt=\"Drawing\" style=\"width: 600px;\"/>\n",
    "</p>"
   ]
  },
  {
   "cell_type": "markdown",
   "metadata": {
    "collapsed": true,
    "slideshow": {
     "slide_type": "subslide"
    }
   },
   "source": [
    "\n",
    "Use the flow diagram to write a program using `if`, `elif` and `else`. \n",
    "<br>Your program should:\n",
    "- calculate the amount (USD) received by a customer for a given sum paid in JPY.\n",
    "- print the amount paid by the customer (JPY).\n",
    "- print the amount received by the customer (USD).\n",
    "- print the *effective rate* = $\\frac{USD}{JPY}$.\n",
    "\n",
    "Use your prgram to calculate the amount in USD for 100,000 JPY.\n",
    "\n",
    "\n",
    "\n"
   ]
  },
  {
   "cell_type": "code",
   "execution_count": 34,
   "metadata": {
    "slideshow": {
     "slide_type": "subslide"
    }
   },
   "outputs": [],
   "source": [
    "# Review Exercise 3 : Currency Trading 両替"
   ]
  },
  {
   "cell_type": "markdown",
   "metadata": {
    "slideshow": {
     "slide_type": "subslide"
    }
   },
   "source": [
    " __Note: Readability:__ <br>Underscores `_` *can be* placed in long numbers to make them easier to read.\n",
    " \n",
    " > `1_000_000` = 1,000,000 <br>\n",
    " > `6_000_000_000` = 6,000,000,000\n",
    "\n",
    "\n",
    "\n",
    " \n"
   ]
  },
  {
   "cell_type": "code",
   "execution_count": null,
   "metadata": {},
   "outputs": [],
   "source": []
  }
 ],
 "metadata": {
  "celltoolbar": "Slideshow",
  "kernelspec": {
   "display_name": "Python 3",
   "language": "python",
   "name": "python3"
  },
  "language_info": {
   "codemirror_mode": {
    "name": "ipython",
    "version": 3
   },
   "file_extension": ".py",
   "mimetype": "text/x-python",
   "name": "python",
   "nbconvert_exporter": "python",
   "pygments_lexer": "ipython3",
   "version": "3.6.5"
  }
 },
 "nbformat": 4,
 "nbformat_minor": 2
}
