{
 "cells": [
  {
   "cell_type": "markdown",
   "metadata": {
    "slideshow": {
     "slide_type": "slide"
    }
   },
   "source": [
    "# Please download the new class notes.\n",
    "### Step 1 : Navigate to the directory where your files are stored.  \n",
    "Open a terminal. \n",
    "\n",
    "Using `cd`, navigate to *inside* the ILAS_Python_for_everyone folder on your computer. \n",
    "\n",
    "### Step 3 : Update the course notes by downloading the changes\n",
    "In the terminal type:\n",
    "\n",
    ">`git add -A`\n",
    "\n",
    ">`git commit -m \"commit\"`\n",
    "\n",
    ">`git fetch upstream`\n",
    "\n",
    ">`git merge -X theirs upstream/master`\n"
   ]
  },
  {
   "cell_type": "markdown",
   "metadata": {
    "collapsed": true,
    "slideshow": {
     "slide_type": "slide"
    }
   },
   "source": [
    "# Introduction to Data Structures and Imported Libraries (Pygame)\n",
    "\n",
    "<br> <a href='#DataStructures'>Data Structures</a>\n",
    "<br> <a href='#Lists'>Lists</a> \n",
    "\t<br> &emsp;&emsp; <a href='#Indexing'>__Indexing__</a> \n",
    "    <br> &emsp;&emsp; <a href='#MutipleUserInputs'>Multiple User Inputs</a> \n",
    "\t<br> &emsp;&emsp; <a href='#ManipulatingLists'>Manipulating Lists</a> \n",
    "\t<br> &emsp;&emsp; &emsp;&emsp; <a href='#FindingLengthList'>FindingLengthList</a> \n",
    "    <br> &emsp;&emsp; &emsp;&emsp; <a href='#SortingLists'>SortingLists</a> \n",
    "    <br> &emsp;&emsp; &emsp;&emsp; <a href='#RemovingItemList'>Removing an Item from a List</a> \n",
    "    <br> &emsp;&emsp; &emsp;&emsp; <a href='#AddingItemList'>Adding an Item to a List</a> \n",
    "    <br> &emsp;&emsp; &emsp;&emsp; <a href='#ChangingListEntry'>Changing a List Entry</a> \n",
    "\t<br> &emsp;&emsp; <a href='#NestedDataStructures'>__Nested Data Structures__</a> \n",
    "\t<br> &emsp;&emsp; <a href='#IteratingLists'>__Iterating over Lists__</a> \n",
    "    <br> &emsp;&emsp; <a href='#IndexingIterating'>__Indexing when Iterating over Lists__</a> \n",
    "\t<br> &emsp;&emsp; <a href='#enumerate'>`enumerate`</a> \n",
    "    <br> &emsp;&emsp; <a href='#zip'>__`zip`__</a> \n",
    "\t<br> &emsp;&emsp; <a href='#ExampleChangingPosition'>__Example: Changing Position__ </a> \n",
    "<br> <a href='#Libraries'>Libraries</a> \n",
    "    <br> &emsp;&emsp; <a href='#StandardLibrary'>__The Standard Library__</a> \n",
    "\t<br> &emsp;&emsp; <a href='#Packages'>__Packages__ </a> \n",
    "        <br> &emsp;&emsp; &emsp;&emsp; <a href='#ImportingPackage'>__Importing a Package__</a> \n",
    "        <br> &emsp;&emsp; &emsp;&emsp; <a href='#PackageFunctions'>__Using Package Functions__</a> \n",
    "        <br> &emsp;&emsp; &emsp;&emsp; <a href='#ReadingFunctionDocumentation'>__Reading Function Documentation__</a> \n",
    "        <br> &emsp;&emsp; &emsp;&emsp; <a href='#Examplemathpow'>__Example: `math.pow`__</a> \n",
    "        <br> &emsp;&emsp; &emsp;&emsp; <a href='#Namespaces'>Namespaces</a> \n",
    "        <br> &emsp;&emsp; &emsp;&emsp; <a href='#ImportingFunction'>__Importing a Function__</a> \n",
    "    <br> &emsp;&emsp; <a href='#Optimise'>__Using Package Functions to Optimise your Code__</a> \n",
    "     <br> &emsp;&emsp; <a href='#DataStructuresFunctionArguments'>__Data Structures as Function Arguments__</a> \n",
    "<br> <a href='#StackingFunctions'>__Stacking Functions__</a>\n",
    "<br> <a href='#StackingFunctions'>__Installing Pygame__</a>\n",
    "<br> <a href='#Summary'>Summary</a> \n",
    "<br> <a href='#Test-YourselfExercises'>Test-Yourself Exercises</a> \n",
    "<br> <a href='#ReviewExercises'>Review Exercises</a> \n",
    "\n",
    "\n",
    "\n",
    "\n"
   ]
  },
  {
   "cell_type": "markdown",
   "metadata": {},
   "source": [
    "<a id='Summary'></a>\n",
    "# Summary of Information Needed to Understand Today's Examples\n",
    "For more information refer to the Primer Notebooks for this class __02ClassMaterial__DataStructures_Libraries.ipynb__\n",
    "\n",
    "\n",
    "###### Data Structures\n",
    "\n",
    "- Python has an extensive __standard library__ of built-in functions. \n",
    "- More specialised libraries of functions and constants are available. We call these __packages__. \n",
    "- Packages are imported using the keyword `import`\n",
    "- The function documentation tells is what it does and how to use it.\n",
    "- When calling a library function it must be prefixed with a __namespace__ is used to show from which package it should be called.  \n",
    "- The magic function `%timeit` can be used to time the execution of a function. \n",
    "\n"
   ]
  },
  {
   "cell_type": "markdown",
   "metadata": {},
   "source": [
    "###### Libraries\n",
    "- Python has an extensive __standard library__ of built-in functions. \n",
    "- More specialised libraries of functions and constants are available. We call these __packages__. \n",
    "- Packages are imported using the keyword `import`\n",
    "- The function documentation tells is what it does and how to use it.\n",
    "- When calling a library function it must be prefixed with a __namespace__ is used to show from which package it should be called.  \n",
    "- The magic function `%timeit` can be used to time the execution of a function. "
   ]
  },
  {
   "cell_type": "markdown",
   "metadata": {
    "slideshow": {
     "slide_type": "slide"
    }
   },
   "source": [
    "\n",
    "\n",
    "\n",
    "### Fundamental programming concepts\n",
    " - Importing existing code to use in your program\n",
    " - Storing and representing data e.g. a grid with 0 and X in each grid cell"
   ]
  },
  {
   "cell_type": "markdown",
   "metadata": {
    "slideshow": {
     "slide_type": "slide"
    }
   },
   "source": [
    "<a id='DataStructures'></a>\n",
    "## Data Structures\n",
    "\n",
    "In the last seminar we learnt to generate a range of numbers for use in control flow of  a program, using the function `range()`:\n",
    "\n",
    "\n",
    "       for j in range(20):\n",
    "           ...\n",
    "    \n",
    "        \n",
    "Often we want to manipulate data that is more meaningful than ranges of numbers.\n",
    "\n",
    "These collections of variables might include:\n",
    " - the results of an experiment\n",
    " - a list of names\n",
    " - the components of a vector\n",
    " - a telephone directory with names and associated numbers.\n",
    "    "
   ]
  },
  {
   "cell_type": "markdown",
   "metadata": {
    "slideshow": {
     "slide_type": "slide"
    }
   },
   "source": [
    "Python has different __data structures__ that can be used to store and manipulate these values.\n",
    "\n",
    "Like variable types (`string`, `int`,`float`...) different data structures behave in different ways.\n",
    "\n",
    "Today we will learn to use `list`s "
   ]
  },
  {
   "cell_type": "markdown",
   "metadata": {
    "collapsed": true,
    "slideshow": {
     "slide_type": "slide"
    }
   },
   "source": [
    "A list is a container with compartments in which we can store data:\n",
    "<p align=\"center\">\n",
    "  <img src=\"img/ice_cube_tray.png\" alt=\"Drawing\" style=\"width: 500px;\"/>\n",
    "</p>"
   ]
  },
  {
   "cell_type": "markdown",
   "metadata": {
    "slideshow": {
     "slide_type": "slide"
    }
   },
   "source": [
    "Example\n",
    "\n",
    "If we want to store the names of students in a laboratory group, \n",
    "rather than representing each students using an individual string variable, we could use a list of names. \n",
    "\n"
   ]
  },
  {
   "cell_type": "code",
   "execution_count": 1,
   "metadata": {},
   "outputs": [
    {
     "name": "stdout",
     "output_type": "stream",
     "text": [
      "['Sarah', 'John', 'Joe', 'Emily']\n",
      "['Roger', 'Rachel', 'Amer', 'Caroline', 'Colin']\n"
     ]
    }
   ],
   "source": [
    "lab_group0 = [\"Yukari\", \"Sajid\", \"Hemma\", \"Ayako\"]\n",
    "lab_group1 = [\"Sara\", \"Mari\", \"Quang\", \"Sam\", \"Ryo\", \"Nao\", \"Takashi\"]\n",
    "\n",
    "print(lab_group0)\n",
    "print(lab_group1)"
   ]
  },
  {
   "cell_type": "markdown",
   "metadata": {
    "slideshow": {
     "slide_type": "slide"
    }
   },
   "source": [
    "This is useful because we can perform operations on lists such as:\n",
    " - checking its length (number of students in a lab group)\n",
    " - sorting the names in the list into alphabetical order\n",
    " - making a list of lists (we call this a *nested list*):\n"
   ]
  },
  {
   "cell_type": "code",
   "execution_count": 2,
   "metadata": {
    "collapsed": true
   },
   "outputs": [],
   "source": [
    "lab_groups = [lab_group0, lab_group1]"
   ]
  },
  {
   "cell_type": "markdown",
   "metadata": {
    "slideshow": {
     "slide_type": "slide"
    }
   },
   "source": [
    "<a id='ExampleChangePosition'></a>\n",
    "### Example: Change in Position: (Representing Vectors using Lists)\n",
    "\n",
    "__Vector:__ A quantity with magnitude and direction."
   ]
  },
  {
   "cell_type": "markdown",
   "metadata": {
    "slideshow": {
     "slide_type": "slide"
    }
   },
   "source": [
    "The position of a point in 2D space (e.g. the position of a character in a game), can be expressed in terms of horizontal (x) and vertical (y) conrdinates. \n",
    "\n",
    "The movement to a new position can be expressed as a change in x and y. \n",
    "\n",
    "This change is known as the velocity with which the point moves. \n",
    "\n",
    "<img src=\"img/schiffman_velocity_vector.png\" alt=\"Drawing\" style=\"width: 700px;\"/>\n",
    "\n",
    "[Daniel Schiffman, The Nature of Code]\n"
   ]
  },
  {
   "cell_type": "markdown",
   "metadata": {
    "slideshow": {
     "slide_type": "slide"
    }
   },
   "source": [
    "We can conveniently express the position $\\mathbf{r}$ in matrix (or basis vector) form using the coefficients $x$ and  $y$: \n",
    "$$\n",
    "\\mathbf{r} = [r_x, r_y]\n",
    "$$\n",
    "\n",
    "\n",
    "__...which looks a lot like a Python list!__\n"
   ]
  },
  {
   "cell_type": "markdown",
   "metadata": {
    "slideshow": {
     "slide_type": "slide"
    }
   },
   "source": [
    "When we move a character in a game, we change it's position. \n",
    "<br>The change in position with each time-step is the __velocity__ of the character.\n",
    "\n",
    "$$\n",
    "\\mathbf{v} = [v_x, v_y]\n",
    "$$\n",
    "\n"
   ]
  },
  {
   "cell_type": "markdown",
   "metadata": {
    "slideshow": {
     "slide_type": "slide"
    }
   },
   "source": [
    "To get the position at the next time step we simply add the x and y component of the veclocity to the x and y component of the initial position vector:\n",
    "\n",
    " <img src=\"img/schiffman_vector.png\" alt=\"Drawing\" style=\"width: 800px;\"/>\n",
    " \n",
    "\n",
    "\n",
    "\\begin{align}\n",
    "      {\\displaystyle {\\begin{aligned}\\ \n",
    "      \\mathbf{r}(t=t+1)\n",
    "      &=\\mathbf{r} + \\mathbf{v}\\\\\n",
    "      &=[(r_x(t)+v_x),\\;\\;   (r_y(t)+v_y)] \\\\ \\end{aligned}}} \n",
    "\\end{align}\n",
    "\n"
   ]
  },
  {
   "cell_type": "markdown",
   "metadata": {
    "slideshow": {
     "slide_type": "slide"
    }
   },
   "source": [
    "For example, let's find the position at the next timestep where:\n",
    " - initial position,  $\\mathbf{r} = [5, 2]$\n",
    " - velocity,  $\\mathbf{v} = [3, 4]$\n",
    " \n",
    " <img src=\"img/schiffman_vector.png\" alt=\"Drawing\" style=\"width: 500px;\"/>\n",
    " \n",
    " [Daniel Schiffman, The Nature of Code]"
   ]
  },
  {
   "cell_type": "code",
   "execution_count": 2,
   "metadata": {},
   "outputs": [],
   "source": [
    "# Example: Change in Position\n"
   ]
  },
  {
   "cell_type": "code",
   "execution_count": 1,
   "metadata": {},
   "outputs": [
    {
     "name": "stdout",
     "output_type": "stream",
     "text": [
      "[8, 6]\n"
     ]
    }
   ],
   "source": [
    "# Example Solution: Change in Position\n",
    "\n",
    "r = [5, 2]\n",
    "v = [3, 4]\n",
    "\n",
    "r = [r[0] + v[0], \n",
    "     r[1] + v[1]]\n",
    "\n",
    "print(r)"
   ]
  },
  {
   "cell_type": "markdown",
   "metadata": {},
   "source": [
    "(Solution in 02_DataStructures_LibraryFunctions_SOLS.ipynb)"
   ]
  },
  {
   "cell_type": "markdown",
   "metadata": {
    "slideshow": {
     "slide_type": "slide"
    }
   },
   "source": [
    "Arranging the code on seperate lines:\n",
    " - makes the code more readable\n",
    " - does not effect how the code works\n",
    " \n",
    "Line breaks can only be used within code that is enclosed by at elast one set of brackets (), []. "
   ]
  },
  {
   "cell_type": "markdown",
   "metadata": {
    "slideshow": {
     "slide_type": "slide"
    }
   },
   "source": [
    "<a id='ExampleDotProduct'></a>\n",
    "### Example: The Dot Product (Representing Vectors using Lists)\n",
    "\n",
    "__Vector:__ A quantity with magnitude and direction."
   ]
  },
  {
   "cell_type": "markdown",
   "metadata": {
    "slideshow": {
     "slide_type": "slide"
    }
   },
   "source": [
    "The position vector $\\mathbf{r}$ indicates the position of a point in 3D space.\n",
    "$\\mathbf{r}$ can be expressed in terms of x,y, and z-directions.\n",
    "\n",
    "$$\n",
    "\\mathbf{r} = x\\mathbf{i} + y\\mathbf{j} + z\\mathbf{k}\n",
    "$$\n",
    "\n",
    "$\\mathbf{i}$ is the displacement one unit in the x-direction<br>\n",
    "$\\mathbf{j}$ is the displacement one unit in the y-direction<br>\n",
    "$\\mathbf{k}$ is the displacement one unit in the z-direction\n",
    "\n",
    "<img src=\"img/3d_position_vector.png\" alt=\"Drawing\" style=\"width: 500px;\"/>\n",
    "\n"
   ]
  },
  {
   "cell_type": "markdown",
   "metadata": {
    "slideshow": {
     "slide_type": "slide"
    }
   },
   "source": [
    "We can conveniently express $\\mathbf{r}$ in matrix (or basis vector) form using the coefficients $x, y$ and $z$: \n",
    "$$\n",
    "\\mathbf{r} = [x, y, z]\n",
    "$$\n",
    "\n",
    "__...which looks a lot like a Python list!__\n"
   ]
  },
  {
   "cell_type": "markdown",
   "metadata": {
    "slideshow": {
     "slide_type": "subslide"
    }
   },
   "source": [
    "You will encounter 3D vectors a lot in your engineering studies.\n",
    "\n",
    "They are used to describe many physical quantities, e.g. force."
   ]
  },
  {
   "cell_type": "markdown",
   "metadata": {
    "slideshow": {
     "slide_type": "slide"
    }
   },
   "source": [
    "The __dot product__ is a really useful algebraic operation.\n",
    "\n",
    "It takes two equal-length *sequences of numbers* (often coordinate vectors) and returns a single number. \n",
    " "
   ]
  },
  {
   "cell_type": "markdown",
   "metadata": {
    "slideshow": {
     "slide_type": "slide"
    }
   },
   "source": [
    "__ALGEBRAIC REPRESENTATION OF THE DOT PRODUCT__\n",
    "\n",
    "The dot product of two $n$-length-vectors:\n",
    "<br> $ \\mathbf{A} = [A_1, A_2, ... A_n]$\n",
    "<br> $ \\mathbf{B} = [B_1, B_2, ... B_n]$\n",
    "\n",
    "\\begin{align}\n",
    "\\mathbf{A} \\cdot \\mathbf{B} = \\sum_{i=1}^n A_i B_i\n",
    "\\end{align}\n",
    "\n"
   ]
  },
  {
   "cell_type": "markdown",
   "metadata": {
    "slideshow": {
     "slide_type": "slide"
    }
   },
   "source": [
    "So the dot product of two 3D vectors:\n",
    "<br> $ \\mathbf{A} = [A_x, A_y, A_z]$\n",
    "<br> $ \\mathbf{B} = [B_x, B_y, B_z]$\n",
    "\n",
    "\n",
    "\\begin{align}\n",
    "\\mathbf{A} \\cdot \\mathbf{B} &= \\sum_{i=1}^n A_i B_i \\\\\n",
    "&= A_x B_x + A_y B_y + A_z B_z\n",
    "\\end{align}\n",
    "\n"
   ]
  },
  {
   "cell_type": "markdown",
   "metadata": {
    "slideshow": {
     "slide_type": "slide"
    }
   },
   "source": [
    "__Example : Dot Product__\n",
    "\n",
    "Let's write a program to solve this using a Python `for` loop.\n",
    "\n",
    "1. We initailise a variable, `dot_product` with a value = 0.0.\n",
    "\n",
    "1. With each iteration of the loop:\n",
    "<br>`dot_product +=` the product of `a` and `b`.  \n",
    "\n",
    "<p align=\"center\">\n",
    "  <img src=\"img/flow_diag_for_loop_dot_product.png\" alt=\"Drawing\" style=\"width: 400px;\"/>\n",
    "</p>"
   ]
  },
  {
   "cell_type": "code",
   "execution_count": 1,
   "metadata": {
    "slideshow": {
     "slide_type": "slide"
    }
   },
   "outputs": [
    {
     "name": "stdout",
     "output_type": "stream",
     "text": [
      "3.0\n"
     ]
    }
   ],
   "source": [
    "# Example : Dot Product\n",
    "\n",
    "A = [1.0, 3.0, -5.0]\n",
    "B = [4.0, -2.0, -1.0]\n",
    "\n",
    "# Create a variable called dot_product with value, 0.0\n",
    "dot_product = 0.0\n",
    "\n",
    "# Update the value each time the code loops\n",
    "for a , b in zip(A, B):\n",
    "    dot_product += a * b\n",
    "\n",
    "# Print the solution\n",
    "print(dot_product)"
   ]
  },
  {
   "cell_type": "markdown",
   "metadata": {},
   "source": [
    "(Solution in 02_DataStructures_LibraryFunctions_SOLS.ipynb)"
   ]
  },
  {
   "cell_type": "markdown",
   "metadata": {
    "slideshow": {
     "slide_type": "slide"
    }
   },
   "source": [
    "__Check Your Solution:__ \n",
    "\n",
    "The dot product $\\mathbf{A} \\cdot \\mathbf{B}$:\n",
    "<br> $ \\mathbf{A} = [1, 3, −5]$\n",
    "<br> $ \\mathbf{B} = [4, −2, −1]$\n",
    "\n",
    "\n",
    "\n",
    "\\begin{align}\n",
    "      {\\displaystyle {\\begin{aligned}\\ [1,3,-5]\\cdot [4,-2,-1]&=(1)(4)+(3)(-2)+(-5)(-1)\\\\& = 4 \\qquad - 6 \\qquad + 5 \\\\&=3\\end{aligned}}} \n",
    "\\end{align}"
   ]
  },
  {
   "cell_type": "markdown",
   "metadata": {
    "slideshow": {
     "slide_type": "slide"
    }
   },
   "source": [
    "__Check Your Solution:__ \n",
    "\n",
    "\n",
    "$ \\mathbf{r} = [5, 2]$\n",
    "<br> $ \\mathbf{v} = [3, 4]$\n",
    "\n",
    "\n",
    "\\begin{align}\n",
    "      {\\displaystyle {\\begin{aligned}\\ \n",
    "      \\mathbf{r} + \\mathbf{v}\n",
    "      &=[5, 2]+ [3, 4]\\\\\n",
    "      &=[(5+3), \\quad (2+4)] \\\\\n",
    "      & = [8, 6] \\end{aligned}}} \n",
    "\\end{align}"
   ]
  },
  {
   "cell_type": "markdown",
   "metadata": {
    "slideshow": {
     "slide_type": "slide"
    }
   },
   "source": [
    "<a id='Libraries'></a>\n",
    "## Libraries\n",
    "\n",
    "One of the most important concepts in good programming is to reuse code and avoid repetitions.\n",
    "\n",
    "Python, like other modern programming languages, has an extensive *library* of built-in functions. \n",
    "\n",
    "These functions are designed, tested and optimised by the developers of the Python langauge.  \n",
    "\n",
    "We can use these functions to make our code shorter, faster and more reliable.\n",
    "\n",
    "   "
   ]
  },
  {
   "cell_type": "markdown",
   "metadata": {
    "slideshow": {
     "slide_type": "slide"
    }
   },
   "source": [
    "<a id='StandardLibrary'></a>\n",
    "## The Standard Library\n",
    "\n",
    "Python has a large standard library. \n",
    "\n",
    "e.g. `print()` takes the __input__ in the parentheses and __outputs__ a visible representation.\n",
    "\n",
    "They are listed on the Python website:\n",
    "https://docs.python.org/3/library/functions.html"
   ]
  },
  {
   "cell_type": "markdown",
   "metadata": {
    "collapsed": true,
    "slideshow": {
     "slide_type": "slide"
    }
   },
   "source": [
    "We could write our own code to find the minimum of a group of numbers\n",
    "\n",
    "\n"
   ]
  },
  {
   "cell_type": "code",
   "execution_count": 41,
   "metadata": {},
   "outputs": [
    {
     "name": "stdout",
     "output_type": "stream",
     "text": [
      "1\n"
     ]
    }
   ],
   "source": [
    "x0 = 1\n",
    "x1 = 2\n",
    "x2 = 4\n",
    "\n",
    "x_min = x0\n",
    "if x1 < x_min:\n",
    "    x_min = x1\n",
    "if x2 < x_min:\n",
    "    x_min = x2\n",
    "        \n",
    "print(x_min)"
   ]
  },
  {
   "cell_type": "markdown",
   "metadata": {
    "slideshow": {
     "slide_type": "slide"
    }
   },
   "source": [
    "However, it is much faster to use the build in function:"
   ]
  },
  {
   "cell_type": "code",
   "execution_count": 42,
   "metadata": {},
   "outputs": [
    {
     "name": "stdout",
     "output_type": "stream",
     "text": [
      "1\n"
     ]
    }
   ],
   "source": [
    "print(min(1,2,4))"
   ]
  },
  {
   "cell_type": "markdown",
   "metadata": {
    "slideshow": {
     "slide_type": "slide"
    }
   },
   "source": [
    "The built-in functions can be found in (.py) files called 'modules'.\n",
    "\n",
    "The files are neatly arranged into a system of __sub-packages__ (sub-folders) and __modules__ (files).\n",
    "\n",
    "These files are stored on the computer you are using."
   ]
  },
  {
   "cell_type": "markdown",
   "metadata": {
    "slideshow": {
     "slide_type": "slide"
    }
   },
   "source": [
    "A quick google search for \"python function to sum all the numbers in a list\"...\n",
    "\n",
    "https://www.google.co.jp/search?q=python+function+to+sum+all+the+numbers+in+a+list&rlz=1C5CHFA_enJP751JP751&oq=python+function+to+sum+&aqs=chrome.0.0j69i57j0l4.7962j0j7&sourceid=chrome&ie=UTF-8\n",
    "\n",
    "...returns the function `sum()`."
   ]
  },
  {
   "cell_type": "markdown",
   "metadata": {
    "slideshow": {
     "slide_type": "slide"
    }
   },
   "source": [
    "`sum()` finds the sum of the values in a data structure.\n",
    "\n",
    "\n",
    "\n"
   ]
  },
  {
   "cell_type": "code",
   "execution_count": 43,
   "metadata": {
    "slideshow": {
     "slide_type": "slide"
    }
   },
   "outputs": [
    {
     "name": "stdout",
     "output_type": "stream",
     "text": [
      "15\n",
      "15\n",
      "15\n"
     ]
    }
   ],
   "source": [
    "print(sum([1,2,3,4,5]))\n",
    "\n",
    "print(sum((1,2,3,4,5)))\n",
    "\n",
    "a = [1,2,3,4,5]\n",
    "print(sum(a))"
   ]
  },
  {
   "cell_type": "markdown",
   "metadata": {
    "slideshow": {
     "slide_type": "slide"
    }
   },
   "source": [
    "The function `max()` finds the maximum value in data structure."
   ]
  },
  {
   "cell_type": "markdown",
   "metadata": {
    "slideshow": {
     "slide_type": "slide"
    }
   },
   "source": [
    "<a id='Packages'></a>\n",
    "## Packages\n",
    "\n",
    "The standard library tools are available in any Python environment.\n",
    "\n",
    "More specialised libraries, called packages, are available for more specific tasks \n",
    "<br>e.g. solving trigonometric functions.\n",
    "\n",
    "Packages contain functions and constants.  \n",
    "\n",
    "We install the packages to use them.   \n",
    "\n"
   ]
  },
  {
   "cell_type": "markdown",
   "metadata": {
    "slideshow": {
     "slide_type": "slide"
    }
   },
   "source": [
    "Two widely used packages for mathematics, science and engineeirng are `NumPy` and `SciPy`.\n",
    "\n",
    "These are already installed as part of Anaconda.\n",
    "\n",
    "A package is a collection of Python modules: \n",
    "- a __module__ is a single Python file\n",
    "- a __package__ is a directory of Python modules.<br>(It contains an __init__.py file, to distinguish it from folders that are not libraries)."
   ]
  },
  {
   "cell_type": "markdown",
   "metadata": {
    "slideshow": {
     "slide_type": "slide"
    }
   },
   "source": [
    "The files that are stored on your computer when Pygame is installed:\n",
    "<br>https://github.com/pygame/pygame"
   ]
  },
  {
   "cell_type": "markdown",
   "metadata": {
    "slideshow": {
     "slide_type": "slide"
    }
   },
   "source": [
    "The `import` statement must appear before the use of the package in the code.  \n",
    "\n",
    "        import numpy \n",
    "\n",
    "After this, any function in `numpy` can be called as:\n",
    "\n",
    "        `numpy.function()`\n",
    "        \n",
    "and, any constant in `numpy` can be called as:\n",
    "\n",
    "        `numpy.constant`.\n",
    "\n",
    "There are a many mathematical functions available. <br>\n",
    "https://docs.scipy.org/doc/numpy-1.13.0/reference/routines.math.html"
   ]
  },
  {
   "cell_type": "markdown",
   "metadata": {
    "slideshow": {
     "slide_type": "slide"
    }
   },
   "source": [
    "We can change the name of a package e.g. to keep our code short and neat.\n",
    "\n",
    "Using the __`as`__ keyword:"
   ]
  },
  {
   "cell_type": "code",
   "execution_count": 138,
   "metadata": {
    "slideshow": {
     "slide_type": "-"
    }
   },
   "outputs": [
    {
     "name": "stdout",
     "output_type": "stream",
     "text": [
      "3.141592653589793\n"
     ]
    }
   ],
   "source": [
    "import numpy as np\n",
    "print(np.pi)"
   ]
  },
  {
   "cell_type": "markdown",
   "metadata": {
    "slideshow": {
     "slide_type": "subslide"
    }
   },
   "source": [
    "We only need to import a package once, at the start of the program or notebook."
   ]
  },
  {
   "cell_type": "markdown",
   "metadata": {
    "slideshow": {
     "slide_type": "slide"
    }
   },
   "source": [
    "<a id='UsingPackageFunctions'></a>\n",
    "## Using Package Functions. \n",
    "\n",
    "Let's learn to use `numpy` functions in our programs. \n",
    "\n",
    "\n",
    "\n"
   ]
  },
  {
   "cell_type": "code",
   "execution_count": 139,
   "metadata": {
    "slideshow": {
     "slide_type": "slide"
    }
   },
   "outputs": [
    {
     "name": "stdout",
     "output_type": "stream",
     "text": [
      "0.841470984808\n",
      "1.55740772465\n",
      "0.785398163397\n"
     ]
    }
   ],
   "source": [
    "# Some examples Numpy functions with their definitions (as given in the documentation)\n",
    "\n",
    "x = 1\n",
    "\n",
    "# Trigonometric sine\n",
    "print(np.sin(x))\n",
    "\n",
    "# Compute tangent \n",
    "print(np.tan(x))\n",
    "\n",
    "# Trigonometric inverse tangent\n",
    "print(np.arctan(x))\n",
    "\n"
   ]
  },
  {
   "cell_type": "code",
   "execution_count": 140,
   "metadata": {
    "slideshow": {
     "slide_type": "slide"
    }
   },
   "outputs": [
    {
     "name": "stdout",
     "output_type": "stream",
     "text": [
      "57.2957795131\n",
      "1.0\n"
     ]
    }
   ],
   "source": [
    "x = 1\n",
    "\n",
    "# Convert angles from radians to degrees\n",
    "degrees = np.degrees(x)\n",
    "print(degrees)\n",
    "\n",
    "# Convert angles from degrees to radians\n",
    "radians = np.radians(degrees)\n",
    "print(radians)   "
   ]
  },
  {
   "cell_type": "markdown",
   "metadata": {
    "slideshow": {
     "slide_type": "slide"
    }
   },
   "source": [
    "<a id='ReadingFunctionDocumentation'></a>\n",
    "## Reading Function Documentation\n",
    "\n",
    "Online documentation can be used to find out: \n",
    "- what to include in the () parentheses\n",
    "- allowable data types to use as arguments\n",
    "- the order in which arguments should be given \n"
   ]
  },
  {
   "cell_type": "markdown",
   "metadata": {
    "slideshow": {
     "slide_type": "slide"
    }
   },
   "source": [
    "A google search for 'numpy functions' returns:\n",
    "\n",
    "https://docs.scipy.org/doc/numpy-1.13.0/reference/routines.math.html\n",
    "\n",
    "(this list is not exhaustive). "
   ]
  },
  {
   "cell_type": "markdown",
   "metadata": {
    "slideshow": {
     "slide_type": "subslide"
    }
   },
   "source": [
    "__Try it yourself:__\n",
    "<br> Find a function in the Python Numpy documentation that matches the function definition and use it to solve the following problem:   \n",
    "\n",
    "Find the hypotenuse of a right angle triangle if the lengths of the other two sides are 3 and 6. "
   ]
  },
  {
   "cell_type": "code",
   "execution_count": 141,
   "metadata": {
    "collapsed": true
   },
   "outputs": [],
   "source": [
    "# The “legs” of a right angle triangle are 6 units and 3 units, \n",
    "# Return its hypotenuse in units."
   ]
  },
  {
   "cell_type": "markdown",
   "metadata": {
    "slideshow": {
     "slide_type": "slide"
    }
   },
   "source": [
    "<a id='Examplenumpycos'></a>\n",
    "### Example : numpy.cos\n",
    "Documentation : https://docs.scipy.org/doc/numpy-1.13.0/reference/routines.math.html \n",
    "\n",
    "The documentation tells us the following information...\n",
    "\n",
    "##### What the function does.\n",
    "\"Cosine element-wise.\"\n",
    "\n"
   ]
  },
  {
   "cell_type": "markdown",
   "metadata": {
    "slideshow": {
     "slide_type": "slide"
    }
   },
   "source": [
    "##### All possible function arguments (parameters)\n",
    "\n",
    "<img src=\"img/numpy_cos.png\" alt=\"Drawing\" style=\"width: 500px;\"/> \n",
    "\n",
    ">numpy.cos(<font color='blue'>x</font>, /, <font color='red'>out=None</font>, *, <font color='green'>where=True, casting='same_kind', order='K', dtype=None, subok=True</font> [, <font color='purple'>signature, extobj</font> ]) \n",
    "\n",
    "In the () parentheses following the function name are:\n",
    "- <font color='blue'>*positional* arguments (required)</font>\n",
    "- <font color='red'>*keyword* arguments (with a default value, optionally set). Listed after the `/` slash.</font>\n",
    "- <font color='green'>arguments that must be explicitly named. Listed after the `*` star.</font> \n",
    "  <br><font color='purple'>(including arguments without a default value.  Listed in `[]` brackets.)</font>\n",
    "\n"
   ]
  },
  {
   "cell_type": "markdown",
   "metadata": {
    "slideshow": {
     "slide_type": "slide"
    }
   },
   "source": [
    "##### Function argument definitions and acceptable forms.  \n",
    "\n",
    "<img src=\"img/numpy_cos_params.png\" alt=\"Drawing\" style=\"width: 500px;\"/> \n",
    "\n",
    "x : array_like *(it can be an `int`, `float`, `list` or `tuple`)*\n",
    "\n",
    "out : ndarray, None, or tuple of ndarray and None, optional\n",
    "\n",
    "where : array_like, optional \n",
    "\n"
   ]
  },
  {
   "cell_type": "markdown",
   "metadata": {
    "slideshow": {
     "slide_type": "slide"
    }
   },
   "source": [
    "##### What the function returns\n",
    "__y__ : ndarray<br>\n",
    "&nbsp; &nbsp; &nbsp; &nbsp; The corresponding cosine values."
   ]
  },
  {
   "cell_type": "markdown",
   "metadata": {
    "slideshow": {
     "slide_type": "slide"
    }
   },
   "source": [
    "Let's look at the function numpy.degrees:\n",
    "https://docs.scipy.org/doc/numpy-1.13.0/reference/generated/numpy.degrees.html\n",
    "\n",
    "What does the function do?\n",
    "\n",
    "What __arguments__ does it take (and are there any default arguments)? \n",
    "\n",
    "How would we __write__ the function when __calling__ it (accept defaults)?\n",
    "\n",
    "What __data type__ should our input be? "
   ]
  },
  {
   "cell_type": "markdown",
   "metadata": {
    "collapsed": true,
    "slideshow": {
     "slide_type": "subslide"
    }
   },
   "source": [
    "<a id='Namespaces'></a>\n",
    "## Namespaces\n",
    "<br>By prefixing `cos` with `np`, we are using a *namespace* (which in this case is `np`).\n",
    "\n"
   ]
  },
  {
   "cell_type": "markdown",
   "metadata": {
    "slideshow": {
     "slide_type": "subslide"
    }
   },
   "source": [
    "The namespace shows we want to use the `cos` function from the Numpy package.\n",
    "\n",
    "If `cos` appears in more than one package we import, then there will be more than one `cos` function available.\n",
    "\n",
    "We must make it clear which `cos` we want to use. \n",
    "\n",
    "\n"
   ]
  },
  {
   "cell_type": "markdown",
   "metadata": {
    "slideshow": {
     "slide_type": "subslide"
    }
   },
   "source": [
    "Often, functions with the same name, from different packages, will use a different algorithms for performing the same or similar operation. \n",
    "\n",
    "They may vary in speed and accuracy. \n",
    "\n",
    "In some applications we might need an accurate method for computing the square root, for example, and the speed of the program may not be important. For other applications we might need speed with an allowable compromise on accuracy.\n"
   ]
  },
  {
   "cell_type": "markdown",
   "metadata": {
    "slideshow": {
     "slide_type": "subslide"
    }
   },
   "source": [
    "Below are two functions, both named `sqrt`. \n",
    "\n",
    "Both functions compute the square root of the input.\n",
    "\n",
    " - `math.sqrt`, from the package, `math`, gives an error if the input is a negative number. It does not support complex numbers.\n",
    " - `cmath.sqrt`, from the package, `cmath`, supports complex numbers.\n"
   ]
  },
  {
   "cell_type": "code",
   "execution_count": 142,
   "metadata": {
    "slideshow": {
     "slide_type": "subslide"
    }
   },
   "outputs": [
    {
     "name": "stdout",
     "output_type": "stream",
     "text": [
      "2.0\n"
     ]
    }
   ],
   "source": [
    "import math\n",
    "import cmath\n",
    "print(math.sqrt(4))\n",
    "#print(math.sqrt-5)\n",
    "#print(cmath.sqrt(-5))"
   ]
  },
  {
   "cell_type": "markdown",
   "metadata": {
    "slideshow": {
     "slide_type": "subslide"
    }
   },
   "source": [
    "Two developers collaborating on the same program might choose the same name for two functions that perform similar tasks. \n",
    "\n",
    "If these functions are in different modules, there will be no name clash since the module name provides a 'namespace'. "
   ]
  },
  {
   "cell_type": "markdown",
   "metadata": {
    "slideshow": {
     "slide_type": "subslide"
    }
   },
   "source": [
    "<a id='ImportingFunction'></a>\n",
    "## Importing a Function\n",
    "Single functions can be imported without importing the entire package e.g. use:\n",
    "\n",
    "        from numpy import cos\n",
    "\n",
    "instead of:\n",
    "\n",
    "        import numpy \n",
    "\n",
    "After this you call the function without the numpy prefix: "
   ]
  },
  {
   "cell_type": "code",
   "execution_count": 143,
   "metadata": {
    "slideshow": {
     "slide_type": "-"
    }
   },
   "outputs": [
    {
     "data": {
      "text/plain": [
       "0.54030230586813977"
      ]
     },
     "execution_count": 143,
     "metadata": {},
     "output_type": "execute_result"
    }
   ],
   "source": [
    "from numpy import cos\n",
    "\n",
    "cos(x)"
   ]
  },
  {
   "cell_type": "markdown",
   "metadata": {
    "slideshow": {
     "slide_type": "subslide"
    }
   },
   "source": [
    "Be careful when doing this as there can be only one definition of each function.\n",
    "In the case that a function name is already defined, it will be overwritten by a more recent definition. "
   ]
  },
  {
   "cell_type": "code",
   "execution_count": 144,
   "metadata": {
    "slideshow": {
     "slide_type": "-"
    }
   },
   "outputs": [
    {
     "name": "stdout",
     "output_type": "stream",
     "text": [
      "1j\n"
     ]
    }
   ],
   "source": [
    "from cmath import sqrt\n",
    "print(sqrt(-1))\n",
    "from math import sqrt\n",
    "#print(sqrt(-1))"
   ]
  },
  {
   "cell_type": "markdown",
   "metadata": {
    "slideshow": {
     "slide_type": "subslide"
    }
   },
   "source": [
    "A potential solution to this is to rename individual functions or constants when we import them:"
   ]
  },
  {
   "cell_type": "code",
   "execution_count": 145,
   "metadata": {
    "slideshow": {
     "slide_type": "-"
    }
   },
   "outputs": [
    {
     "data": {
      "text/plain": [
       "0.54030230586813977"
      ]
     },
     "execution_count": 145,
     "metadata": {},
     "output_type": "execute_result"
    }
   ],
   "source": [
    "from numpy import cos as cosine\n",
    "\n",
    "cosine(x)"
   ]
  },
  {
   "cell_type": "code",
   "execution_count": 146,
   "metadata": {},
   "outputs": [
    {
     "data": {
      "text/plain": [
       "3.141592653589793"
      ]
     },
     "execution_count": 146,
     "metadata": {},
     "output_type": "execute_result"
    }
   ],
   "source": [
    "from numpy import pi as pi\n",
    "pi"
   ]
  },
  {
   "cell_type": "markdown",
   "metadata": {
    "slideshow": {
     "slide_type": "subslide"
    }
   },
   "source": [
    "This can be useful when importing functions from different modules:"
   ]
  },
  {
   "cell_type": "code",
   "execution_count": 147,
   "metadata": {},
   "outputs": [
    {
     "name": "stdout",
     "output_type": "stream",
     "text": [
      "2.0\n",
      "1j\n"
     ]
    }
   ],
   "source": [
    "from math import sqrt as square_root\n",
    "from cmath import sqrt as complex_square_root\n",
    "\n",
    "print(square_root(4))\n",
    "print(complex_square_root(-1))"
   ]
  },
  {
   "cell_type": "markdown",
   "metadata": {
    "slideshow": {
     "slide_type": "subslide"
    }
   },
   "source": [
    "Function names should be chosen wisely.\n",
    " - relevant\n",
    " - concise"
   ]
  },
  {
   "cell_type": "markdown",
   "metadata": {
    "slideshow": {
     "slide_type": "slide"
    }
   },
   "source": [
    "<a id='Optimise'></a>\n",
    "## Using Package Functions to Optimise your Code\n",
    "\n",
    "Let's look at some examples of where Numpy functions can make your code shorter and neater."
   ]
  },
  {
   "cell_type": "markdown",
   "metadata": {
    "slideshow": {
     "slide_type": "slide"
    }
   },
   "source": [
    "The mean of a group of numbers"
   ]
  },
  {
   "cell_type": "code",
   "execution_count": 149,
   "metadata": {
    "collapsed": true
   },
   "outputs": [],
   "source": [
    "x_mean = (1 + 2 + 3)/3   "
   ]
  },
  {
   "cell_type": "markdown",
   "metadata": {},
   "source": [
    "Using Numpy:"
   ]
  },
  {
   "cell_type": "code",
   "execution_count": 150,
   "metadata": {
    "collapsed": true
   },
   "outputs": [],
   "source": [
    "x_mean = np.mean([1, 2, 3])"
   ]
  },
  {
   "cell_type": "markdown",
   "metadata": {
    "slideshow": {
     "slide_type": "slide"
    }
   },
   "source": [
    "<a id='DataStructuresFunctionArguments'></a>\n",
    "## Data Structures as Function Arguments. \n",
    "\n",
    "Notice that the Numpy function `mean` take a lists as its argument.\n",
    "\n",
    "The list data structure is required for the function to work. "
   ]
  },
  {
   "cell_type": "code",
   "execution_count": 151,
   "metadata": {
    "collapsed": true
   },
   "outputs": [],
   "source": [
    "ls = [1, 2, 3]\n",
    "x_mean = np.mean(ls)"
   ]
  },
  {
   "cell_type": "markdown",
   "metadata": {
    "slideshow": {
     "slide_type": "slide"
    }
   },
   "source": [
    "<a id='ElementwiseFunctions'></a>\n",
    "### Elementwise Functions\n",
    "Numpy functions often operate *elementwise*. \n",
    "<br> This means if the argument is a list, they will perform the same function on each element of the list.\n",
    "\n",
    "For example, to find the square root of each number in a list, we can use:"
   ]
  },
  {
   "cell_type": "code",
   "execution_count": 152,
   "metadata": {},
   "outputs": [
    {
     "name": "stdout",
     "output_type": "stream",
     "text": [
      "[ 3.  5.  6.]\n"
     ]
    }
   ],
   "source": [
    "a = [9, 25, 36]\n",
    "print(np.sqrt(a))"
   ]
  },
  {
   "cell_type": "markdown",
   "metadata": {
    "slideshow": {
     "slide_type": "slide"
    }
   },
   "source": [
    "Elementwise operation can be particularly important when performing basic mathematical operations:"
   ]
  },
  {
   "cell_type": "code",
   "execution_count": 153,
   "metadata": {},
   "outputs": [
    {
     "name": "stdout",
     "output_type": "stream",
     "text": [
      "[1, 2, 3, 4, 5, 6]\n",
      "[5 7 9]\n"
     ]
    }
   ],
   "source": [
    "a = [1, 2, 3]\n",
    "b = [4, 5, 6]\n",
    "import numpy as np\n",
    "\n",
    "print(a + b)\n",
    "print(np.add(a,b))"
   ]
  },
  {
   "cell_type": "markdown",
   "metadata": {
    "collapsed": true
   },
   "source": [
    "Numpy has its own data structure that is more suitable for handling numerical data."
   ]
  },
  {
   "cell_type": "markdown",
   "metadata": {
    "slideshow": {
     "slide_type": "slide"
    }
   },
   "source": [
    "You can now use the imported data as a regular Numpy array.\n",
    "\n"
   ]
  },
  {
   "cell_type": "markdown",
   "metadata": {
    "collapsed": true,
    "slideshow": {
     "slide_type": "slide"
    }
   },
   "source": [
    "<a id='Summary'></a>\n",
    "# Summary\n",
    "\n",
    "- Python has an extensive __standard library__ of built-in functions. \n",
    "- More specialised libraries of functions and constants are available. We call these __packages__. \n",
    "- Packages are imported using the keyword `import`\n",
    "- The function documentation tells is what it does and how to use it.\n",
    "- When calling a library function it must be prefixed with a __namespace__ is used to show from which package it should be called.  \n",
    "- The magic function `%timeit` can be used to time the execution of a function. \n",
    "\n",
    "\n"
   ]
  },
  {
   "cell_type": "markdown",
   "metadata": {
    "slideshow": {
     "slide_type": "slide"
    }
   },
   "source": [
    "<a id='TestYourselfExercises'></a>\n",
    "# Review Exercises\n",
    "\n",
    "Compete the Test-Youself exercises below.\n",
    "\n",
    "Save your answers as .py files and email them to:\n",
    "<br>philamore.hemma.5s@kyoto-u.ac.jp"
   ]
  },
  {
   "cell_type": "markdown",
   "metadata": {},
   "source": [
    "## Review Exercise 1 : The Dot Product\n",
    "__(A)__\n",
    "<br>Earlier, we found the dot product of two vectors: \n",
    "\n",
    "$\\mathbf{A} \\cdot \\mathbf{B} = \\sum_{i=1}^n A_i B_i = A_x B_x + A_y B_y + A_z B_z$\n",
    "\n",
    "to find the sum of two vectors:\n",
    "<br>$ \\mathbf{A} = [A_x, A_y, A_z]$\n",
    "<br>$ \\mathbf{B} = [B_x, B_y, B_z]$\n",
    "\n",
    "Numpy has a dedicated function to compute the dot product.\n",
    "<br>Search for the function online and use it to compute the dot product of two 3D position vectors, expressed as lists `C` and `D`."
   ]
  },
  {
   "cell_type": "code",
   "execution_count": null,
   "metadata": {
    "collapsed": true
   },
   "outputs": [],
   "source": [
    "# Find the dot product of C and D\n",
    "C = [-1, 2, 6]\n",
    "D = [4, 3, 3]\n",
    "\n"
   ]
  },
  {
   "cell_type": "code",
   "execution_count": null,
   "metadata": {},
   "outputs": [],
   "source": [
    "# Find the dot product of C and D\n",
    "# Example Solution\n",
    "\n",
    "import numpy as np\n",
    "C = [-1, 2, 6]\n",
    "D = [4, 3, 3]\n",
    "\n",
    "np.dot(C, D)"
   ]
  },
  {
   "cell_type": "markdown",
   "metadata": {
    "slideshow": {
     "slide_type": "slide"
    }
   },
   "source": [
    "The dot product has an alternative representation: \n",
    "\n",
    "\\begin{align}\n",
    "\\mathbf{A} \\cdot \\mathbf{B} = |\\mathbf{A}| |\\mathbf{B}| cos(\\theta)\n",
    "\\end{align}\n",
    "\n",
    "Where:\n",
    "\n",
    "<br>$\\theta$ is the angle between the two vectors. $|\\mathbf{A}|$ and $|\\mathbf{B}|$ are the *magnitudes* of vectors $\\mathbf{A}$ and $\\mathbf{B}$respectively.\n",
    "\n"
   ]
  },
  {
   "cell_type": "markdown",
   "metadata": {
    "slideshow": {
     "slide_type": "slide"
    }
   },
   "source": [
    "The magnitude of an $n$-length vector $ \\mathbf{A} = [A_1, ..., A_n]$ is:\n",
    "\n",
    "$|\\mathbf{A}| = \\sqrt{A_1^2 + ... + A_n^2}$\n",
    "\n",
    "\n",
    "\n",
    "<br>The magnitude of __2D position__ vector, $\\mathbf{r} = [x, y]$:\n",
    "<br>$|\\mathbf{r}| = \\sqrt{x^2 + y^2}$\n",
    "\n",
    "<br>The magnitude of __3D position__ vector, $\\mathbf{r} = [x, y, z]$:\n",
    "<br>$|\\mathbf{r}| = \\sqrt{x^2 + y^2 + z^2}$\n",
    "\n",
    "\n",
    "\n",
    "\n"
   ]
  },
  {
   "cell_type": "markdown",
   "metadata": {
    "slideshow": {
     "slide_type": "subslide"
    }
   },
   "source": [
    "__(B)__\n",
    "<br>If the dot product is known, the angle between two vectors can be found (from its cosine).\n",
    "\n",
    "Search online to find a numpy function that computes *magnitude*.\n",
    "\n",
    "Search online to find a numpy function for the *inverse cosine*.\n",
    "\n",
    "Find the angle between the vectors expressed as lists `C` and `D` in part __(A)__.\n",
    "\n",
    "\n",
    "\n"
   ]
  },
  {
   "cell_type": "code",
   "execution_count": null,
   "metadata": {
    "collapsed": true
   },
   "outputs": [],
   "source": [
    "# Find the angle between C and D\n",
    "C = [-1, 2, 6]\n",
    "D = [4, 3, 3]\n",
    "\n",
    "\n"
   ]
  },
  {
   "cell_type": "code",
   "execution_count": null,
   "metadata": {},
   "outputs": [],
   "source": [
    "# Find the angle between C and D\n",
    "# Example Solution\n",
    "\n",
    "C = [-1, 2, 6]\n",
    "D = [4, 3, 3]\n",
    "\n",
    "dotCD = np.dot(C, D)\n",
    "magC = np.linalg.norm(C)\n",
    "magD = np.linalg.norm(D)\n",
    "\n",
    "theta =  np.arccos(dotCD / (magC * magD))\n",
    "\n",
    "print(theta)"
   ]
  },
  {
   "cell_type": "markdown",
   "metadata": {
    "collapsed": true,
    "slideshow": {
     "slide_type": "subslide"
    }
   },
   "source": [
    "__(C)__\n",
    "\n",
    "The dot product also indicates if the angle between two vectors is:\n",
    "   - acute ($\\mathbf{C} \\cdot \\mathbf{D}>0$)\n",
    "   - obtuse ($\\mathbf{C} \\cdot \\mathbf{D}<0$)\n",
    "   - right angle ($\\mathbf{C} \\cdot \\mathbf{D}==0$)\n",
    "\n",
    "Using `if`, `elif` and `else`, classify the angle between `C` and `D` as acute, obtuse or right angle."
   ]
  },
  {
   "cell_type": "code",
   "execution_count": null,
   "metadata": {
    "collapsed": true
   },
   "outputs": [],
   "source": [
    "# Angle between C and D is obtuse, acute or right angle? \n",
    "\n",
    "C = [-1, 2, 6]\n",
    "D = [4, 3, 3]\n",
    "\n"
   ]
  },
  {
   "cell_type": "code",
   "execution_count": null,
   "metadata": {},
   "outputs": [],
   "source": [
    "# Angle between C and D is obtuse, acute or right angle? \n",
    "# Example Solution\n",
    "\n",
    "C = [-1, 2, 6]\n",
    "D = [4, 3, 3]\n",
    "\n",
    "dotCD = np.dot(C, D)\n",
    "\n",
    "if dotCD > 0:\n",
    "    print(\"theta is acute\")\n",
    "elif dotCD < 0:\n",
    "    print(\"theta is obtuse\")\n",
    "else:\n",
    "    print(\"theta is right angle\")"
   ]
  },
  {
   "cell_type": "markdown",
   "metadata": {},
   "source": [
    "## Review Exercise 2: Importing .csv Data and Working with Arrays\n",
    "__(A) Importing Data__\n",
    "<br>We can work with data stored in .csv files by importing it to a numpy array.\n",
    "<br>The file `douglas_data.csv` contains a data set of recorded parameters for a sample of wooden beams.   \n",
    "\n",
    "<br>\n",
    "Import `douglas_data.csv` from the `sample_data` folder in the `ILAS_python_for_engineers` directory. \n",
    "\n",
    "<br>\n",
    "To import the data without errors, first try setting:\n",
    " - delimiter = `\"\\t\"` (tab)\n",
    " - data type = `str` (string)\n",
    " \n",
    "<br>\n",
    "__*What are the delimiters used in the data?*__\n",
    "\n",
    "__*Which rows and columns contain non-numerical data?*__\n",
    "\n",
    "<br>\n",
    "Now import the data as a Numpy array of floating point values.\n",
    "<br>Exclude the rows and columns containing non-numeric data.\n",
    "\n",
    "\n",
    "<br>\n",
    "*Remember : The use of scientific notation can be surpressed by:*\n",
    "\n",
    "        np.set_printoptions(suppress=True)"
   ]
  },
  {
   "cell_type": "code",
   "execution_count": null,
   "metadata": {},
   "outputs": [],
   "source": [
    "# Importing Data"
   ]
  },
  {
   "cell_type": "code",
   "execution_count": null,
   "metadata": {},
   "outputs": [],
   "source": [
    "# Importing Data\n",
    "# Example Solution\n",
    "\n",
    "import numpy as np\n",
    "\n",
    "A = np.loadtxt('sample_data/douglas_data.csv', delimiter=\"\\t\", dtype=str)\n",
    "\n",
    "print(A)\n",
    "\n",
    "A = np.loadtxt('sample_data/douglas_data.csv', delimiter=\",\", dtype=float, skiprows=2, usecols=(1,2,3,4,5,6,7,8))\n",
    "\n",
    "print(A)"
   ]
  },
  {
   "cell_type": "markdown",
   "metadata": {},
   "source": [
    "__(B) Manipulating Data__\n",
    "<br>Select the first 10 rows of the array to create a new array.\n",
    "\n",
    "The column furthest to the right is the bending strength (`bstrength`), measured in units of $\\mathrm{N/mm}^2$.\n",
    "<br>Convert the data in this column to units $\\mathrm{N/m}^2$.\n",
    "\n",
    "Each beam has the same cross sectional area = $100\\mathrm{cm}^2$.\n",
    "<br>Add a new column to the array that contains mass of the beam (kg) using the columns `density` and `beamheight`.\n",
    "\n",
    "\n",
    "\n",
    "\n"
   ]
  },
  {
   "cell_type": "code",
   "execution_count": null,
   "metadata": {},
   "outputs": [],
   "source": [
    "# Manipulating Data"
   ]
  },
  {
   "cell_type": "code",
   "execution_count": 12,
   "metadata": {},
   "outputs": [
    {
     "name": "stdout",
     "output_type": "stream",
     "text": [
      "[[6.8175e+00 1.3300e+01 4.0000e-02 3.0000e+00 1.4053e+04 6.7500e+02\n",
      "  1.0100e+02 1.5452e+04 5.8400e+25]\n",
      " [4.7400e+00 1.2000e+01 1.6000e-01 2.5000e+00 2.0611e+04 4.7400e+02\n",
      "  1.0000e+02 1.7272e+04 7.4350e+25]\n",
      " [5.9004e+00 1.2800e+01 1.4000e-01 3.8800e+00 1.8846e+04 5.9600e+02\n",
      "  9.9000e+01 1.8456e+04 4.9820e+25]\n",
      " [5.8200e+00 1.1700e+01 1.3000e-01 2.0200e+00 1.8587e+04 5.8200e+02\n",
      "  1.0000e+02 1.8940e+04 7.8520e+25]\n",
      " [6.7800e+00 1.2000e+01 1.6000e-01 2.1300e+00 1.9299e+04 6.7800e+02\n",
      "  1.0000e+02 1.6864e+04 7.9310e+25]\n",
      " [5.9500e+00 1.2400e+01 4.0000e-02 2.9800e+00 2.1695e+04 5.9500e+02\n",
      "  1.0000e+02 1.9440e+04 6.4340e+25]\n",
      " [5.9200e+00 1.2500e+01 3.2000e-01 3.6700e+00 1.6523e+04 5.9200e+02\n",
      "  1.0000e+02 1.6152e+04 5.8190e+25]\n",
      " [6.4034e+00 1.1500e+01 7.0000e-02 3.6700e+00 1.8333e+04 6.3400e+02\n",
      "  1.0100e+02 1.8480e+04 8.8390e+25]\n",
      " [5.9792e+00 1.3100e+01 1.9000e-01 2.4400e+00 1.8628e+04 5.9200e+02\n",
      "  1.0100e+02 1.4604e+04 3.3020e+25]\n",
      " [5.4540e+00 1.1700e+01 2.5000e-01 3.0000e+00 1.5683e+04 5.4000e+02\n",
      "  1.0100e+02 1.6628e+04 6.0280e+25]]\n"
     ]
    }
   ],
   "source": [
    "# Manipulating Data\n",
    "# Example Solution\n",
    "\n",
    "B = A[:10, :]\n",
    "\n",
    "B[:,7] *= 1000000\n",
    "B[:,-1] *= 1000000\n",
    "\n",
    "area = 0.01 # m2\n",
    "\n",
    "height = B[:,5] /100 # m\n",
    "\n",
    "density = B[:,4]  #kg/m3\n",
    "\n",
    "mass = area * density * height\n",
    "\n",
    "# Insert column, mass, at horizontal position -1\n",
    "B = np.insert(B, 0, mass, axis=1)\n",
    "\n",
    "print(B)"
   ]
  },
  {
   "cell_type": "markdown",
   "metadata": {},
   "source": [
    "__(C) Displaying Data__\n",
    "<br>Print the mass of the 1st beam in the array.\n",
    "<br>Print a string to indicate what this value means e.g.\n",
    "                \n",
    "       The mass of beam 1 is ...\n",
    "       \n",
    "<br>Print the data in odd numbered columns of row 5. \n"
   ]
  },
  {
   "cell_type": "code",
   "execution_count": 14,
   "metadata": {},
   "outputs": [
    {
     "name": "stdout",
     "output_type": "stream",
     "text": [
      "The mass of beam 1 is {B[0,0]} kg\n"
     ]
    }
   ],
   "source": [
    "# Displaying Data"
   ]
  },
  {
   "cell_type": "code",
   "execution_count": 15,
   "metadata": {},
   "outputs": [
    {
     "name": "stdout",
     "output_type": "stream",
     "text": [
      "The mass of beam 1 is {B[0,0]} kg\n",
      "[1.240e+01 2.980e+00 5.950e+02 1.944e+04]\n"
     ]
    }
   ],
   "source": [
    "# Displaying Data\n",
    "# Example Solution\n",
    "\n",
    "print(\"The mass of beam 1 is {B[0,0]} kg\")\n",
    "print(B[5,1::2])"
   ]
  },
  {
   "cell_type": "markdown",
   "metadata": {
    "slideshow": {
     "slide_type": "subslide"
    }
   },
   "source": [
    "## Review Exercise 3: Numpy Package Functions. \n",
    "Find a function in the Python Numpy documentation that matches the function definition and use it to solve the problems below:"
   ]
  },
  {
   "cell_type": "markdown",
   "metadata": {},
   "source": [
    "__(A)__ Definition: *Calculates the exponential function, $y= e^x$ for all elements in the input array.*\n",
    "\n",
    "Print a list where each element is the exponential function of the corresponding element in list `a = [0.1, 0, 10]`"
   ]
  },
  {
   "cell_type": "code",
   "execution_count": null,
   "metadata": {
    "collapsed": true
   },
   "outputs": [],
   "source": [
    "# Print a list where each element is the exponential of the corresponding element in list a"
   ]
  },
  {
   "cell_type": "markdown",
   "metadata": {},
   "source": [
    "__(B)__ Definition: *Converts angles from degrees to radians.*\n",
    "\n",
    "Convert angle `theta`, expressed in degrees, to radians:\n",
    "<br>`theta` = 47"
   ]
  },
  {
   "cell_type": "code",
   "execution_count": null,
   "metadata": {
    "collapsed": true
   },
   "outputs": [],
   "source": [
    "# convert angle `theta`, expressed in degrees, to radians"
   ]
  },
  {
   "cell_type": "markdown",
   "metadata": {},
   "source": [
    "__(C)__ Definition: *Return the positive square-root of an array, element-wise.*\n",
    "\n",
    "Print a list where each element is the square root of the corresponding element in list `a = [4, 16, 81]`"
   ]
  },
  {
   "cell_type": "code",
   "execution_count": null,
   "metadata": {
    "collapsed": true
   },
   "outputs": [],
   "source": [
    "# Print a list where each element is the square root of the corresponding element in list a"
   ]
  },
  {
   "cell_type": "markdown",
   "metadata": {},
   "source": [
    "## Review Exercise 4:  Data structures.\n",
    "\n",
    "__(A)__ In the cell below, use Python to identify the type of data structure, C?\n",
    "\n",
    "__(B)__ Write a line of code that checks whether 3 exists within the data structure.\n",
    "\n",
    "__(C)__ Write a line of code that checks whether 3.0 exists within the data structure.\n",
    "\n",
    "__(D)__ Write a line of code that checks whether \"3\" exists within the data structure.\n"
   ]
  },
  {
   "cell_type": "code",
   "execution_count": null,
   "metadata": {
    "collapsed": true
   },
   "outputs": [],
   "source": [
    "C = [2, 3, 5, 6, 1, \"hello\"]"
   ]
  },
  {
   "cell_type": "markdown",
   "metadata": {},
   "source": [
    "## Review Exercise 5:  Using a single list with a `for` loop.\n",
    "In the cell below, use a `for` loop to print the first letter of each month in the list.\n",
    "\n",
    "Jump to <a href='#Indexing'>Indexing</a> for how to pick out individual letters of a string.\n",
    "\n",
    "Jump to <a href='#IteratingLists'>Iterating over lists</a> for how to loop through each element of a list.\n",
    "\n"
   ]
  },
  {
   "cell_type": "code",
   "execution_count": null,
   "metadata": {
    "collapsed": true
   },
   "outputs": [],
   "source": [
    "# Print the first letter of each month in the list\n",
    "\n",
    "months = [\"January\",\n",
    "         \"February\",\n",
    "         \"March\",\n",
    "         \"April\",\n",
    "         \"May\",\n",
    "         \"June\",\n",
    "         \"July\",\n",
    "         \"August\",\n",
    "         \"September\",\n",
    "         \"October\",\n",
    "         \"November\",\n",
    "         \"December\"]"
   ]
  },
  {
   "cell_type": "markdown",
   "metadata": {
    "slideshow": {
     "slide_type": "slide"
    }
   },
   "source": [
    " - A data structure is used to assign a collection of values to a single collection name.\n",
    " - A Python list can store multiple items of data in sequentially numbered elements (numbering starts at zero)\n",
    " - Data stored in a list element can be referenced using the list name can be referenced using the list name followed by an index number in [] square brackets.\n",
    " - The `len()` function returns the length of a specified list.\n"
   ]
  }
 ],
 "metadata": {
  "celltoolbar": "Slideshow",
  "kernelspec": {
   "display_name": "Python 3",
   "language": "python",
   "name": "python3"
  },
  "language_info": {
   "codemirror_mode": {
    "name": "ipython",
    "version": 3
   },
   "file_extension": ".py",
   "mimetype": "text/x-python",
   "name": "python",
   "nbconvert_exporter": "python",
   "pygments_lexer": "ipython3",
   "version": "3.6.5"
  }
 },
 "nbformat": 4,
 "nbformat_minor": 2
}
