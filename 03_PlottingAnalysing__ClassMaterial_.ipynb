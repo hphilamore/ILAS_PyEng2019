{
 "cells": [
  {
   "cell_type": "markdown",
   "metadata": {
    "slideshow": {
     "slide_type": "slide"
    }
   },
   "source": [
    "## Please download the new class notes.\n",
    "### Step 1 : Navigate to the directory where your files are stored.  \n",
    "Open a terminal. \n",
    "<br>Using `cd`, navigate to *inside* the ILAS_Python_for_engineers folder on your computer. \n",
    "### Step 3 : Update the course notes by downloading the changes\n",
    "In the terminal type:\n",
    "\n",
    ">`git add -A\n",
    "git commit -m \"commit\"\n",
    "git fetch upstream\n",
    "git merge -X theirs upstream/master`\n"
   ]
  },
  {
   "cell_type": "markdown",
   "metadata": {
    "collapsed": true,
    "slideshow": {
     "slide_type": "slide"
    }
   },
   "source": [
    "# Plotting and Analysing Plotted Data\n",
    "\n",
    "<br> <a href='#Matplotlib'>Matplotlib</a>\n",
    "<br> <a href='#Scipy'>Scipy</a> \n",
    "<br> <a href='#LineScatterPlots'>Line and Scatter Plots</a> \n",
    "\t<br> &emsp;&emsp; <a href='#AddingLabelsLegendTitle'>Adding Labels, Legend and Title</a> \n",
    "    <br> &emsp;&emsp; <a href='#SettingAxisLimits'>Setting the Axis Limits</a> \n",
    "<br> <a href='#MultiplePlots'>Multiple Plots</a> \n",
    "<br> <a href='#SavingPlot'>Saving a Plot</a> \n",
    "<br> <a href='#ImportingDataDelimitedFiles'>Importing Data from Delimited Files</a> \n",
    "<br> <a href='#CurveFitting'>Curve Fitting</a> \n",
    "    <br> &emsp;&emsp; <a href='#FittingLinearFunction'>Fitting a Linear Function</a>\n",
    "     <br> &emsp;&emsp; <a href='#RootMeanSquareError'>Root Mean Square Error</a>\n",
    "     <br> &emsp;&emsp; <a href='#FittingPolynomialFunction'>Fitting a Polynomial Function</a>\n",
    "     <br> &emsp;&emsp; <a href='#FittingArbitraryFunction'>Fitting an Arbitrary Function</a>    \n",
    "<a href='#Interpolation'>Interpolation</a>\n",
    "    <br> &emsp;&emsp; <a href='#LinearInterpolation'>Linear Interpolation</a> \n",
    "    <br> &emsp;&emsp; <a href='#ImprovedInterpolation'>Improved Interpolation?</a> \n",
    "<br> <a href='#BarChartsHistograms'>Bar Charts and Histograms</a> \n",
    "     <br> &emsp;&emsp; <a href='#BarCharts'>Bar Charts</a> \n",
    "     <br> &emsp;&emsp; <a href='#Histograms'>Histograms</a> \n",
    "<br> <a href='#Visualising2DArrays'>Visualising 2D Arrays</a>\n",
    "<br> <a href='#3DPlotting'>3D Plotting</a> \n",
    "<br> <a href='#Summary'>Summary</a> \n",
    "<br> <a href='#TestYourselfExercises'>Test-Yourself Exercises</a>\n",
    "<br> <a href='#ReviewExercises'>Review Exercises</a>"
   ]
  },
  {
   "cell_type": "markdown",
   "metadata": {
    "slideshow": {
     "slide_type": "slide"
    }
   },
   "source": [
    "### Lesson Goal\n",
    "\n",
    "1. Plot data imported from a file \n",
    "2. Perform analysis to file a curve to experimental data.   \n",
    "\n",
    "### Fundamental programming concepts\n",
    " - Working with multiple file types\n",
    " - Exploiting computational analysis techniques"
   ]
  },
  {
   "cell_type": "markdown",
   "metadata": {
    "slideshow": {
     "slide_type": "slide"
    }
   },
   "source": [
    "## Matplotlib\n",
    "<a id='Matplotlib'></a>\n",
    "Matplotlib is the most widely used Python package for plotting.\n",
    "\n",
    "It's functionality is huge.\n",
    "\n",
    "Today's seminar will introduce the core functionality of Matplotlib.\n",
    "\n",
    "\n",
    "\n"
   ]
  },
  {
   "cell_type": "code",
   "execution_count": 3,
   "metadata": {
    "slideshow": {
     "slide_type": "slide"
    }
   },
   "outputs": [],
   "source": [
    "import numpy as np\n",
    "\n",
    "# plotting\n",
    "import matplotlib.pyplot as plt\n",
    "\n",
    "# colours\n",
    "import matplotlib.cm as cm\n",
    "\n",
    "# Plotting in 3D\n",
    "from mpl_toolkits.mplot3d import axes3d"
   ]
  },
  {
   "cell_type": "markdown",
   "metadata": {
    "slideshow": {
     "slide_type": "slide"
    }
   },
   "source": [
    "## SciPy\n",
    "<a id='SciPy'></a>\n",
    "Both Numpy and Matplotlib are part of SciPy; a Python package for mathematics, science, and engineering related computing.\n",
    "\n",
    "Today we will also be importing functions from the SciPy package."
   ]
  },
  {
   "cell_type": "markdown",
   "metadata": {
    "slideshow": {
     "slide_type": "slide"
    }
   },
   "source": [
    "To display plots in Jupyter Notebook, we must also have the following line in the notebook *before* generating the plot:"
   ]
  },
  {
   "cell_type": "code",
   "execution_count": 4,
   "metadata": {
    "slideshow": {
     "slide_type": "-"
    }
   },
   "outputs": [],
   "source": [
    "%matplotlib inline\n"
   ]
  },
  {
   "cell_type": "markdown",
   "metadata": {
    "slideshow": {
     "slide_type": "slide"
    }
   },
   "source": [
    "To display plots when running a .py file (e.g. in Spyder, we must also have the following line in the notebook *after* generating the plot:"
   ]
  },
  {
   "cell_type": "code",
   "execution_count": 5,
   "metadata": {
    "slideshow": {
     "slide_type": "-"
    }
   },
   "outputs": [],
   "source": [
    "plt.show()"
   ]
  },
  {
   "cell_type": "markdown",
   "metadata": {},
   "source": [
    "Online resources for more Matplotlib functionality:\n",
    " - Matplotlib Gallery (http://matplotlib.org/gallery.html)\n",
    " - Github (http://gree2.github.io/python/2015/04/10/python-matplotlib-plotting-examples-and-exercises)\n",
    " \n",
    " "
   ]
  },
  {
   "cell_type": "markdown",
   "metadata": {
    "collapsed": true,
    "slideshow": {
     "slide_type": "slide"
    }
   },
   "source": [
    "## Importing Data from Delimited Text Files\n",
    "<a id='ImportingDataDelimitedTextFiles'></a>\n",
    "In 02_DataStructures_LibraryFunctions.ipynb, we learnt to use the function `numpy.load.txt` to import and manipulate data from files e.g. .csv files."
   ]
  },
  {
   "cell_type": "markdown",
   "metadata": {
    "slideshow": {
     "slide_type": "slide"
    }
   },
   "source": [
    "__Remember__\n",
    "<br>The file to be loaded must be in the same directory as your python program.\n",
    "<br>Otherwise you must specify the the full path to the data file using / to seperate directory names. \n",
    "<br>The filename (or path plus filename) needs to be between \"\" quotation marks. "
   ]
  },
  {
   "cell_type": "markdown",
   "metadata": {
    "slideshow": {
     "slide_type": "slide"
    }
   },
   "source": [
    "To import the data from `sample_data/data.dat`:\n",
    ">`0.000 1.053 2.105 3.158 4.211\n",
    "74.452 48.348 68.733 59.796 54.123`\n"
   ]
  },
  {
   "cell_type": "code",
   "execution_count": 6,
   "metadata": {
    "slideshow": {
     "slide_type": "slide"
    }
   },
   "outputs": [
    {
     "name": "stdout",
     "output_type": "stream",
     "text": [
      "[[ 1.053  2.105  3.158  4.211  6.065]\n",
      " [48.348 68.733 59.796 54.123 74.452]]\n",
      "<class 'numpy.ndarray'>\n",
      "2.105\n"
     ]
    }
   ],
   "source": [
    "A = np.loadtxt('sample_data/sample_data.dat')\n",
    "print(A)\n",
    "print(type(A))\n",
    "print(A[0][1])"
   ]
  },
  {
   "cell_type": "markdown",
   "metadata": {
    "slideshow": {
     "slide_type": "slide"
    }
   },
   "source": [
    "The __delimiter__ should (sometimes) be specified.\n",
    "\n",
    "This tells Python how to separate the data into the individual elements of an array. \n",
    "\n",
    "The default delimiter is a space.\n",
    "\n",
    "(Data separated by spaces will be automatically be assigned different indices)."
   ]
  },
  {
   "cell_type": "markdown",
   "metadata": {
    "slideshow": {
     "slide_type": "slide"
    }
   },
   "source": [
    "The __data type__ should (sometimes) be specified.\n",
    "\n",
    "This tells Python how to separate the data into the individual elements of an array. \n",
    "\n",
    "The default data type is `float`.\n",
    "\n",
    "If your data contains items that cannot be expressed as a float, importing it will cause an error unless the data-type is specified.\n",
    "\n",
    "Mixed data types can be imported as `string` values. "
   ]
  },
  {
   "cell_type": "markdown",
   "metadata": {
    "slideshow": {
     "slide_type": "slide"
    }
   },
   "source": [
    "Data in `sample_data/sample_student_data.txt`:\n",
    "- __delimiter__ : tab (`/t`) \n",
    "- __data type__ : string (float in some columns)\n",
    "\n",
    "```Python\n",
    "Subject\tSex\tDOB\tHeight\tWeight\tBP\n",
    "(ID)\tM/F\tdd/mm/yy\tm\tkg\tmmHg\n",
    "JW-1\tM\t19/12/1995\t1.82\t92.4\t119/76\n",
    "JW-2\tM\t11/01/1996\t1.77\t80.9\t114/73\n",
    "JW-3\tF\t02/10/1995\t1.68\t69.7\t124/79\n",
    "JW-6\tM\t06/07/1995\t1.72\t75.5\t110/60\n",
    "JW-7\tF\t28/03/1996\t1.66\t72.4\t-\n",
    "JW-9\tF\t11/12/1995\t1.78\t82.1\t115/75\n",
    "JW-10\tF\t07/04/1996\t1.6\t45\t-/-\n",
    "JW-11\tM\t22/08/1995\t1.72\t77.2\t97/63\n",
    "JW-12\tM\t23/05/1996\t1.83\t88.9\t105/70\n",
    "JW-14\tF\t12/01/1996\t1.56\t56.3\t108/72\n",
    "JW-15\tF\t01/06/1996\t1.64\t65\t99/67\n",
    "JW-16\tM\t10/09/1995\t1.63\t73\t131/84\n",
    "JW-17\tM\t17/02/1996\t1.67\t89.8\t101/76\n",
    "JW-18\tM\t31/07/1996\t1.66\t75.1\t-/-\n",
    "JW-19\tF\t30/10/1995\t1.59\t67.3\t103/69\n",
    "JW-22\tF\t09/03/1996\t1.7\t45\t119/80\n",
    "JW-23\tM\t15/05/1995\t1.97\t89.2\t124/82\n",
    "JW-24\tF\t01/12/1995\t1.66\t63.8\t100/78\n",
    "JW-25\tF\t25/10/1995\t1.63\t64.4\t-/-\n",
    "JW-26\tM\t17/04/1996\t1.69\t55\t121/82\n",
    "```"
   ]
  },
  {
   "cell_type": "code",
   "execution_count": 7,
   "metadata": {
    "slideshow": {
     "slide_type": "slide"
    }
   },
   "outputs": [
    {
     "data": {
      "text/plain": [
       "array([['Student', 'Sex', 'DOB', 'Height', 'Weight', 'BP'],\n",
       "       ['(ID)', 'M/F', 'dd/mm/yy', 'm', 'kg', 'mmHg'],\n",
       "       ['JW-1', 'M', '19/12/1995', '1.82', '92.4', '119/76'],\n",
       "       ['JW-2', 'M', '11/01/1996', '1.77', '80.9', '114/73'],\n",
       "       ['JW-3', 'F', '02/10/1995', '1.68', '69.7', '124/79'],\n",
       "       ['JW-4', 'M', '11/01/1996', '1.77', '80.9', '114/73'],\n",
       "       ['JW-5', 'F', '02/10/1995', '1.68', '69.7', '124/79'],\n",
       "       ['JW-6', 'M', '06/07/1995', '1.72', '75.5', '110/60'],\n",
       "       ['JW-7', 'F', '28/03/1996', '1.66', '72.4', '-'],\n",
       "       ['JW-9', 'F', '11/12/1995', '1.78', '82.1', '115/75'],\n",
       "       ['JW-10', 'F', '07/04/1996', '1.6', '45', '-/-'],\n",
       "       ['JW-11', 'M', '22/08/1995', '1.72', '77.2', '97/63'],\n",
       "       ['JW-12', 'M', '23/05/1996', '1.83', '88.9', '105/70'],\n",
       "       ['JW-14', 'F', '12/01/1996', '1.56', '56.3', '108/72'],\n",
       "       ['JW-15', 'F', '01/06/1996', '1.64', '65', '99/67'],\n",
       "       ['JW-16', 'M', '10/09/1995', '1.63', '73', '131/84'],\n",
       "       ['JW-17', 'M', '17/02/1996', '1.67', '89.8', '101/76'],\n",
       "       ['JW-18', 'M', '31/07/1996', '1.66', '75.1', '-/-'],\n",
       "       ['JW-19', 'F', '30/10/1995', '1.59', '67.3', '103/69'],\n",
       "       ['JW-22', 'F', '09/03/1996', '1.7', '45', '119/80'],\n",
       "       ['JW-23', 'M', '15/05/1995', '1.97', '89.2', '124/82'],\n",
       "       ['JW-24', 'F', '01/12/1995', '1.66', '63.8', '100/78'],\n",
       "       ['JW-25', 'F', '25/10/1995', '1.63', '64.4', '-/-'],\n",
       "       ['JW-26', 'M', '17/04/1996', '1.69', '55', '121/82']], dtype='<U10')"
      ]
     },
     "execution_count": 7,
     "metadata": {},
     "output_type": "execute_result"
    }
   ],
   "source": [
    "np.loadtxt('sample_data/sample_student_data.txt', delimiter=\"\\t\", dtype=str)"
   ]
  },
  {
   "cell_type": "markdown",
   "metadata": {
    "slideshow": {
     "slide_type": "slide"
    }
   },
   "source": [
    "Regions can be selected, for example to select only numerical data. \n",
    "\n",
    "`skiprows` skips the first n lines. \n",
    "\n",
    "`usecols` specifies which columns to read, with 0 being the first. \n",
    "\n",
    "`usecols = (1, 4, 5)` : extracts the 2nd, 5th and 6th columns.\n",
    "<br>`usecols = (3, 4)` : extracts the 4th and 5th columns (height and weight data)."
   ]
  },
  {
   "cell_type": "code",
   "execution_count": 8,
   "metadata": {
    "slideshow": {
     "slide_type": "slide"
    }
   },
   "outputs": [
    {
     "name": "stdout",
     "output_type": "stream",
     "text": [
      "[[ 1.78 82.1 ]\n",
      " [ 1.6  45.  ]\n",
      " [ 1.72 77.2 ]\n",
      " [ 1.83 88.9 ]\n",
      " [ 1.56 56.3 ]\n",
      " [ 1.64 65.  ]\n",
      " [ 1.63 73.  ]\n",
      " [ 1.67 89.8 ]\n",
      " [ 1.66 75.1 ]\n",
      " [ 1.59 67.3 ]\n",
      " [ 1.7  45.  ]\n",
      " [ 1.97 89.2 ]\n",
      " [ 1.66 63.8 ]\n",
      " [ 1.63 64.4 ]\n",
      " [ 1.69 55.  ]]\n"
     ]
    }
   ],
   "source": [
    "students = np.loadtxt('sample_data/sample_student_data.txt', dtype=float, skiprows=9, usecols=(3,4))\n",
    "print(students)"
   ]
  },
  {
   "cell_type": "markdown",
   "metadata": {
    "slideshow": {
     "slide_type": "slide"
    }
   },
   "source": [
    "You can now use the imported data as a regular Numpy array.\n",
    "\n"
   ]
  },
  {
   "cell_type": "code",
   "execution_count": 9,
   "metadata": {
    "slideshow": {
     "slide_type": "slide"
    }
   },
   "outputs": [
    {
     "data": {
      "image/png": "[encoded data removed]",
      "text/plain": [
       "<Figure size 432x288 with 1 Axes>"
      ]
     },
     "metadata": {},
     "output_type": "display_data"
    }
   ],
   "source": [
    "# Use indexing to select which ROWS and which COLUMNS to plot\n",
    "plt.plot(students[:, 0], students[:, 1], 'rx', label=\"students\")\n",
    "\n",
    "# Legend\n",
    "plt.legend(loc='best', fontsize=12)\n",
    "\n",
    "# Axes labels\n",
    "plt.xlabel('Height (m)', fontsize=12)\n",
    "plt.ylabel('Weight (kg)', fontsize=12)\n",
    "\n",
    "# Title\n",
    "plt.title(\"Height to weight relationship for students in class A\", fontsize=18);"
   ]
  },
  {
   "cell_type": "markdown",
   "metadata": {
    "slideshow": {
     "slide_type": "slide"
    }
   },
   "source": [
    "## Curve Fitting\n",
    "<a id='CurveFitting'></a>\n",
    "It can be useful to define a relationship between two variables e.g. x and y values. \n",
    "\n",
    "For example, we often want to 'fit' a function to a set of data points such as experimental data.\n",
    "\n",
    "Python has several tools for finding relationships in a set of data."
   ]
  },
  {
   "cell_type": "markdown",
   "metadata": {
    "slideshow": {
     "slide_type": "slide"
    }
   },
   "source": [
    "<a id='FittingLinearFunction'></a>\n",
    "### Linear Regression\n",
    "Linear regression calculates a __linear function__ that minimizes the distance between the fitted line and all of the data points. \n",
    "\n",
    "A __linear function__ has the form:\n",
    "$$\n",
    "y = mx + c\n",
    "$$\n",
    "\n",
    "<img src=\"img/linear_regression.png\" alt=\"Drawing\" style=\"width: 300px;\"/>\n",
    "\n",
    "Such a linear function can be fitted to a data set using the `linregress` function from `scipy.stats`. \n",
    "\n"
   ]
  },
  {
   "cell_type": "markdown",
   "metadata": {
    "slideshow": {
     "slide_type": "slide"
    }
   },
   "source": [
    "<a id='FittingPolynomialFunction'></a>\n",
    "### Fitting a polynomial Function\n",
    "\n",
    ">*__Polynomial function__: a function involving only non-negative integer powers of x.*\n",
    "\n",
    "__1st order polynomial function__ (linear function)\n",
    "$$y = \\mathbf{a}x^1 + \\mathbf{b}x^0$$\n",
    "\n",
    "__2nd order polynomial function__\n",
    "$$y = \\mathbf{c}x^2 + \\mathbf{d}x^1 + \\mathbf{e}x^0$$\n",
    "\n",
    "__3rd order polynomial function__\n",
    "$$y = \\mathbf{f}x^3 + \\mathbf{g}x^2 + \\mathbf{h}x^1 + \\mathbf{i}x^0$$\n",
    "\n"
   ]
  },
  {
   "cell_type": "markdown",
   "metadata": {},
   "source": [
    "A polynomial curve can be fitted through a data set using the `polyfit` function from `numpy`. \n",
    "\n",
    "The function arguments are:\n",
    "- independent variables \n",
    "- dependent variables \n",
    "- order of the polynomial \n",
    "\n",
    "The `polyfit` function returns the coefficients of each term of the polynomial."
   ]
  },
  {
   "cell_type": "code",
   "execution_count": 131,
   "metadata": {
    "slideshow": {
     "slide_type": "slide"
    }
   },
   "outputs": [
    {
     "name": "stdout",
     "output_type": "stream",
     "text": [
      "6.077443700312607 42.582457358775194\n",
      "0.35757289708419016 -1.0740142413711886 65.16600875356613\n",
      "0.35757289708419016 -1.0740142413711886 65.16600875356613\n"
     ]
    }
   ],
   "source": [
    "x = [0.000000000000000000e+00, 1.052631578947368363e+00, 2.105263157894736725e+00, 3.157894736842105310e+00,4.210526315789473450e+00, 5.263157894736841591e+00, 6.315789473684210620e+00,7.368421052631578760e+00,8.421052631578946901e+00,9.473684210526315042e+00,1.052631578947368318e+01,1.157894736842105132e+01,1.263157894736842124e+01,1.368421052631578938e+01,1.473684210526315752e+01, 1.578947368421052566e+01,1.684210526315789380e+01,1.789473684210526372e+01,1.894736842105263008e+01,2.000000000000000000e+01]\n",
    "y = [7.445192947240600745e+01, 4.834835792411828947e+01, 6.873305436340778840e+01, 5.979576407972768948e+01,6.404530772390434379e+01,6.090548420541189500e+01, 7.157546008677115879e+01, 8.620253336570679892e+01, 1.138154622045899913e+02, 8.493639813028174501e+01, 9.783457330550828601e+01, 1.082064229481453594e+02, 1.063876210674365979e+02, 1.001971993955305038e+02, 1.061496321788094832e+02, 1.279575585921491836e+02, 1.556956405962417875e+02, 1.584164804859289859e+02, 1.753888794716459358e+02, 1.980941276403034124e+02]\n",
    "# convert to numpy array to allow elementwise operations\n",
    "x = np.array(x)\n",
    "y = np.array(y)\n",
    "\n",
    "\n",
    "a, b = np.polyfit(x, y, 1)\n",
    "\n",
    "c, d, e = np.polyfit(x, y, 2)\n",
    "\n",
    "coeffs = np.polyfit(x, y, 2)\n",
    "\n",
    "\n",
    "print(a, b)\n",
    "print(c, d, e)\n",
    "print(coeffs[0], coeffs[1], coeffs[2])"
   ]
  },
  {
   "cell_type": "markdown",
   "metadata": {},
   "source": [
    "Notice, the first order polynomial coefficients fitted by `polyfit` are the same as the coefficients found in the primer for this class using `linregress`.\n",
    "\n",
    "```python\n",
    "a, b = np.polyfit(x, y, 1)\n",
    "```\n",
    "\n",
    "__`>> 6.077443700312607 42.582457358775194`__"
   ]
  },
  {
   "cell_type": "code",
   "execution_count": 132,
   "metadata": {
    "slideshow": {
     "slide_type": "slide"
    }
   },
   "outputs": [],
   "source": [
    "# 1st order polynomial\n",
    "# 2 coefficients\n",
    "a = np.polyfit(x, y, 1)\n",
    "\n",
    "# 2nd order polynomial\n",
    "# 3 coefficients\n",
    "b = np.polyfit(x, y, 2)\n",
    "\n",
    "# 3rd order polynomial \n",
    "# 4 coefficients\n",
    "c = np.polyfit(x, y, 3)\n",
    "\n",
    "# 4th order polynomial\n",
    "# 5 coefficients\n",
    "d = np.polyfit(x, y, 4)"
   ]
  },
  {
   "cell_type": "markdown",
   "metadata": {
    "slideshow": {
     "slide_type": "slide"
    }
   },
   "source": [
    "#### Generating the Fitted Polynomial Function\n",
    "To produce a polynomial function using the generated coeffients, we can use the function `poly1D`.  "
   ]
  },
  {
   "cell_type": "code",
   "execution_count": 144,
   "metadata": {},
   "outputs": [
    {
     "name": "stdout",
     "output_type": "stream",
     "text": [
      "[0.0, 1.0526315789473684, 2.1052631578947367, 3.1578947368421053, 4.2105263157894735]\n",
      "[74.45192947240601, 48.34835792411829, 68.73305436340779, 59.79576407972769, 64.04530772390434]\n",
      "\n",
      "[0.0, 1.0526315789473684, 2.1052631578947367, 3.1578947368421053, 4.2105263157894735]\n",
      "[74.45192947240601, 48.34835792411829, 68.73305436340779, 59.79576407972769, 64.04530772390434]\n"
     ]
    }
   ],
   "source": [
    "# sort x and y values so that x values are in ascending order\n",
    "print(x[:5])\n",
    "print(y[:5], end = '\\n\\n')\n",
    "\n",
    "\n",
    "tmp = sorted(zip(x, y)) #,key=lambda x: x[0]) i.e. to sort using second list in zip\n",
    "x = [t[0] for t in tmp]\n",
    "y = [t[1] for t in tmp]\n",
    "\n",
    "\n",
    "print(x[:5])\n",
    "print(y[:5])\n",
    "\n",
    "\n",
    "# convert x and y to numpy array \n",
    "x = np.asarray(x)\n",
    "y = np.asarray(y)"
   ]
  },
  {
   "cell_type": "code",
   "execution_count": 145,
   "metadata": {
    "slideshow": {
     "slide_type": "-"
    }
   },
   "outputs": [],
   "source": [
    "# 2nd order polynomial\n",
    "yfit1 = np.poly1d(a)(x)\n",
    "\n",
    "# 2nd order polynomial\n",
    "yfit2 = np.poly1d(b)(x)\n",
    "\n",
    "# 3rd order polynomial \n",
    "yfit3 = np.poly1d(c)(x)\n",
    "\n",
    "# 4th order polynomial\n",
    "yfit4 = np.poly1d(d)(x)"
   ]
  },
  {
   "cell_type": "markdown",
   "metadata": {
    "slideshow": {
     "slide_type": "slide"
    }
   },
   "source": [
    "Note, that this produces the same output as:"
   ]
  },
  {
   "cell_type": "code",
   "execution_count": 146,
   "metadata": {},
   "outputs": [],
   "source": [
    "yfit1 = a[0]*x + a[1]\n",
    "yfit2 = b[0]*x**2 + b[1]*x + b[2]\n",
    "yfit3 = c[0]*x**3 + c[1]*x**2 + c[2]*x + c[3]\n",
    "yfit4 = d[0]*x**4 + d[1]*x**3 + d[2]*x**2 + d[3]*x + d[4]"
   ]
  },
  {
   "cell_type": "code",
   "execution_count": 147,
   "metadata": {},
   "outputs": [
    {
     "data": {
      "image/png": "[encoded data removed]",
      "text/plain": [
       "<Figure size 432x288 with 1 Axes>"
      ]
     },
     "metadata": {},
     "output_type": "display_data"
    }
   ],
   "source": [
    "# plot a scatter plot of raw data\n",
    "plt.plot(x, y, 'o', label='experiment data')\n",
    "\n",
    "\n",
    "# plot the fitted linear function \n",
    "# the argument 'label' is used to print the equation of the line on the plot \n",
    "plt.plot(x, yfit1, label=f'{round(a[0],2)}*x + {round(a[1],2)}');\n",
    "plt.plot(x, yfit2, label=f'{round(b[0],2)}*x**2 + {round(b[1],2)}*x**1 + {round(b[2],2)}');\n",
    "plt.plot(x, yfit3, label=f'{round(c[0],2)}*x**3 + {round(c[1],2)}*x**2 + {round(c[2],2)}*x + {round(c[3],2)}');\n",
    "plt.plot(x, yfit4, label=f'{round(d[0],2)}*x**4 + {round(d[1],2)}*x**3 + {round(d[2],2)}*x**2 + {round(d[3],2)}*x + {round(d[4],2)}');\n",
    "\n",
    "\n",
    "# display the label \n",
    "# anchor the upper left corner of the legend to the point (1,1)\n",
    "# 1 represents the height and width of the plot respectively\n",
    "plt.legend(bbox_to_anchor=(1,1), loc=\"upper left\")\n",
    "\n",
    "\n",
    "# label the axes\n",
    "plt.xlabel('x')\n",
    "plt.ylabel('y')\n",
    "\n",
    "\n",
    "# add a title \n",
    "plt.title('Relationship between x and y');"
   ]
  },
  {
   "cell_type": "markdown",
   "metadata": {
    "slideshow": {
     "slide_type": "slide"
    }
   },
   "source": [
    "<a id='RMSE'></a>\n",
    "We need a metric to assess the \"goodness of fit\". \n",
    "\n",
    "\n",
    "We will use the __root mean square error__.\n",
    "\n",
    "\n",
    "\n"
   ]
  },
  {
   "cell_type": "markdown",
   "metadata": {
    "slideshow": {
     "slide_type": "slide"
    }
   },
   "source": [
    "### Root Mean Square Error (RMSE)\n",
    "<a id='RootMeanSquareError'></a>\n",
    "A frequently used measure of the differences between values predicted by a model or relationship and the real values. \n",
    "\n",
    "__Error/residual:__ the difference between:\n",
    "- the observed value $y(x_i)$ at $x$ \n",
    "- the fitted value $a(x_i)$ at $x$\n",
    "\n",
    "$$\n",
    "\\varepsilon_i = a(x_i) - y(x_i)\n",
    "$$"
   ]
  },
  {
   "cell_type": "markdown",
   "metadata": {
    "slideshow": {
     "slide_type": "slide"
    }
   },
   "source": [
    "For $N$ data points, the *sum* of the squared errors is \n",
    "\n",
    "$$S = \\sum_{i=1}^{N}\\varepsilon_i^2$$\n",
    "\n",
    "The RMSE is computed as\n",
    "\n",
    "$$RMSE=\\sqrt{\\frac{1}{N}S}=\\sqrt{\\frac{1}{N}\\sum_{i=1}^{N}{\\varepsilon_i^2}}$$"
   ]
  },
  {
   "cell_type": "markdown",
   "metadata": {
    "slideshow": {
     "slide_type": "slide"
    }
   },
   "source": [
    "Smaller RMSE indictes a better fit between raw and fitted data. \n",
    "\n",
    "We can optimise the fitted function by minimising the RMSE (sum of the squared errors).\n",
    "\n",
    "Therefore, this optimisation approach is often referred to as the *least squares* approach. "
   ]
  },
  {
   "cell_type": "markdown",
   "metadata": {
    "slideshow": {
     "slide_type": "slide"
    }
   },
   "source": [
    "To find the RMSE of the example above:\n",
    "\n",
    "Error, $\\varepsilon_i = a(x_i) - y_i$\n",
    "\n",
    "RMSE, $E=\\sqrt{\\frac{1}{N}\\sum{\\varepsilon_i^2}}$"
   ]
  },
  {
   "cell_type": "code",
   "execution_count": 141,
   "metadata": {
    "slideshow": {
     "slide_type": "slide"
    }
   },
   "outputs": [],
   "source": [
    "# error\n",
    "e = (yfit - y)\n",
    "\n",
    "# RMSE\n",
    "rmse = np.sqrt(np.sum(e**2)/ len(y))"
   ]
  },
  {
   "cell_type": "markdown",
   "metadata": {},
   "source": [
    "Let's compare the RMSE of each fitted line. "
   ]
  },
  {
   "cell_type": "code",
   "execution_count": 157,
   "metadata": {},
   "outputs": [
    {
     "name": "stdout",
     "output_type": "stream",
     "text": [
      "[16.528, 11.636, 11.063, 9.617]\n",
      "The 4 order polynomial gives the lowest error\n"
     ]
    }
   ],
   "source": [
    "RMSE = []\n",
    "\n",
    "for yfit in [yfit1, yfit2, yfit3, yfit4]:\n",
    "    # error\n",
    "    e = (yfit - y)\n",
    "    \n",
    "    # rmse\n",
    "    rmse = np.sqrt(np.sum(e**2)/ len(y))\n",
    "\n",
    "    # RMSE\n",
    "    RMSE.append(round(rmse, 3))\n",
    "    \n",
    "print(RMSE)\n",
    "\n",
    "print(f\"The {np.argmin(RMSE) + 1} order polynomial gives the lowest error\")\n",
    "\n",
    "#print(list(enumerate(RMSE, 1)))"
   ]
  },
  {
   "cell_type": "markdown",
   "metadata": {
    "slideshow": {
     "slide_type": "slide"
    }
   },
   "source": [
    "To compare our solutions to the raw data, for *each polynomial* we need to:\n",
    "1. Found coefficients for 1st, 2nd, 3rd... order polynomials\n",
    "1. Estimated y values using polynomials\n",
    "1. Found RMSE for each polynomial\n",
    "1. Compare RMSE values to determine fitted relationship with lowest error"
   ]
  },
  {
   "cell_type": "markdown",
   "metadata": {},
   "source": [
    "We can use __format__ to change how a string is displayed..."
   ]
  },
  {
   "cell_type": "code",
   "execution_count": 33,
   "metadata": {
    "slideshow": {
     "slide_type": "slide"
    }
   },
   "outputs": [
    {
     "name": "stdout",
     "output_type": "stream",
     "text": [
      "0.0123456\n",
      "0.0123456\n",
      "0.0123456\n",
      "1.234560E-02\n",
      "1.23E-02, 2.3E-01\n"
     ]
    }
   ],
   "source": [
    "r = 0.0123456\n",
    "s = 0.2345678\n",
    "\n",
    "# cast as a string\n",
    "print(str(r))\n",
    "print('%s' % r)\n",
    "print('{}'.format(r))\n",
    "\n",
    "# cast as a string, scientific notation\n",
    "print('%E' % r)\n",
    "\n",
    "# specify number of significant figures displayed\n",
    "print('%.2E, %.1E' % (r, s))\n"
   ]
  },
  {
   "cell_type": "markdown",
   "metadata": {
    "collapsed": true,
    "slideshow": {
     "slide_type": "slide"
    }
   },
   "source": [
    "__Note:__ \n",
    "- Matplot lib automatically changes the colour of the line each time you plot. \n",
    "- This is much shorter than repeatedly writig out the code to plot each line of the figure."
   ]
  },
  {
   "cell_type": "markdown",
   "metadata": {
    "slideshow": {
     "slide_type": "slide"
    }
   },
   "source": [
    "<a id='FittingArbitraryFunction'></a>\n",
    "### Fitting an Arbitrary Function\n",
    "\n",
    "Curve fitted is not limited to polynomial functions. \n",
    "\n",
    "We can fit any function with unknown constants to the data using the function `curve_fit`.\n",
    "\n"
   ]
  },
  {
   "cell_type": "code",
   "execution_count": 34,
   "metadata": {
    "slideshow": {
     "slide_type": "slide"
    }
   },
   "outputs": [
    {
     "data": {
      "text/plain": [
       "Text(0,0.5,'y')"
      ]
     },
     "execution_count": 34,
     "metadata": {},
     "output_type": "execute_result"
    },
    {
     "data": {
      "image/png": "[encoded data removed]",
      "text/plain": [
       "<Figure size 432x288 with 1 Axes>"
      ]
     },
     "metadata": {},
     "output_type": "display_data"
    }
   ],
   "source": [
    "x = [0.000000000000000000e+00, 1.052631578947368363e+00, 2.105263157894736725e+00, 3.157894736842105310e+00,4.210526315789473450e+00, 5.263157894736841591e+00, 6.315789473684210620e+00,7.368421052631578760e+00,8.421052631578946901e+00,9.473684210526315042e+00,1.052631578947368318e+01,1.157894736842105132e+01,1.263157894736842124e+01,1.368421052631578938e+01,1.473684210526315752e+01, 1.578947368421052566e+01,1.684210526315789380e+01,1.789473684210526372e+01,1.894736842105263008e+01,2.000000000000000000e+01]\n",
    "y = [7.445192947240600745e+01, 4.834835792411828947e+01, 6.873305436340778840e+01, 5.979576407972768948e+01,6.404530772390434379e+01,6.090548420541189500e+01, 7.157546008677115879e+01, 8.620253336570679892e+01, 1.138154622045899913e+02, 8.493639813028174501e+01, 9.783457330550828601e+01, 1.082064229481453594e+02, 1.063876210674365979e+02, 1.001971993955305038e+02, 1.061496321788094832e+02, 1.279575585921491836e+02, 1.556956405962417875e+02, 1.584164804859289859e+02, 1.753888794716459358e+02, 1.980941276403034124e+02]\n",
    "x = np.array(x)\n",
    "y = np.array(y)\n",
    "\n",
    "plt.plot(x, y, 'o')\n",
    "plt.xlabel('x')\n",
    "plt.ylabel('y')"
   ]
  },
  {
   "cell_type": "markdown",
   "metadata": {
    "slideshow": {
     "slide_type": "slide"
    }
   },
   "source": [
    "There are many Python functions for curve fitting. \n",
    "\n",
    "The function `curve_fit` can be used to fit a user-defined fuction. \n",
    "\n",
    "We first define a function that we want to fit e.g.\n",
    "$$y = a e^{bx}$$"
   ]
  },
  {
   "cell_type": "markdown",
   "metadata": {
    "slideshow": {
     "slide_type": "subslide"
    }
   },
   "source": [
    "\n",
    "We write the function in the following format. \n",
    "\n",
    "We will learn more about this format when we study user-defined functions. "
   ]
  },
  {
   "cell_type": "code",
   "execution_count": 159,
   "metadata": {
    "slideshow": {
     "slide_type": "slide"
    }
   },
   "outputs": [],
   "source": [
    "def exponential(x, a, b): # function name and inputs\n",
    "    y = a * np.exp(b*x)   # function\n",
    "    return y              # output"
   ]
  },
  {
   "cell_type": "markdown",
   "metadata": {
    "slideshow": {
     "slide_type": "slide"
    }
   },
   "source": [
    "`curve_fit` takes three input arguments:\n",
    " - the function to fit (in the format above)\n",
    " - the independent variable\n",
    " - the dependent variable\n",
    " \n",
    "<br>\n",
    "`curve_fit` returns two arguments:\n",
    " - an array with the optimised parameters\n",
    " - the covariance of the parameters (a statistical measure of accuracy)"
   ]
  },
  {
   "cell_type": "code",
   "execution_count": 165,
   "metadata": {},
   "outputs": [
    {
     "name": "stdout",
     "output_type": "stream",
     "text": [
      "RMSE = 12.647\n"
     ]
    }
   ],
   "source": [
    "from scipy.optimize import curve_fit\n",
    "\n",
    "opt, cov = curve_fit(exponential, x, y)\n",
    "\n",
    "# fitted data, any number of parameters is allowable\n",
    "yfit = exponential(x, *opt)\n",
    "\n",
    "\n",
    "# error\n",
    "e = (yfit - y)\n",
    "\n",
    "\n",
    "# RMSE\n",
    "rmse = np.sqrt(np.sum(e**2)/ len(y))\n",
    "\n",
    "\n",
    "# show the optimised parameters\n",
    "print(f'RMSE = {round(rmse,3)}')"
   ]
  },
  {
   "cell_type": "code",
   "execution_count": 166,
   "metadata": {
    "slideshow": {
     "slide_type": "slide"
    }
   },
   "outputs": [
    {
     "data": {
      "image/png": "[encoded data removed]",
      "text/plain": [
       "<Figure size 432x288 with 1 Axes>"
      ]
     },
     "metadata": {},
     "output_type": "display_data"
    }
   ],
   "source": [
    "plt.plot(x, y,     'o', label='raw data')\n",
    "plt.plot(x, y_fit, 'r', label= f'y = {round(opt[0],3)} * e**({round(opt[1],3)}*x)')\n",
    "\n",
    "# display the label \n",
    "plt.legend(bbox_to_anchor=(1,1), loc=\"upper left\")\n",
    "\n",
    "\n",
    "# label the axes\n",
    "plt.xlabel('x')\n",
    "plt.ylabel('y')\n",
    "\n",
    "\n",
    "# add a title \n",
    "plt.title('Relationship between x and y');"
   ]
  },
  {
   "cell_type": "markdown",
   "metadata": {
    "slideshow": {
     "slide_type": "slide"
    }
   },
   "source": [
    "## Interpolation\n",
    "<a id='Interpolation'></a>\n",
    ">*Interpolation: <br>A method of constructing new data points within the range of a discrete set of known data points.*\n",
    "\n",
    "For example, in a lab experiment, parameter is recorded at time=1 and time=2.\n",
    "\n",
    "We can *interpolate* to find the value at time=1.2.  "
   ]
  },
  {
   "cell_type": "markdown",
   "metadata": {
    "slideshow": {
     "slide_type": "slide"
    }
   },
   "source": [
    "Methods of interpolation include linear interpolation and polynomial, or spline curves.\n",
    "\n",
    "Sometimes we can use the trendline of the data.\n",
    "\n",
    "In other situations (e.g. where the data is not easily desribed by a function) it can be more accurate to interpolate between two data points. \n",
    "\n"
   ]
  },
  {
   "cell_type": "markdown",
   "metadata": {
    "slideshow": {
     "slide_type": "slide"
    }
   },
   "source": [
    "By generating (and plotting) the interpolated solutions computationally, we can assess the accuracy of the solution."
   ]
  },
  {
   "cell_type": "markdown",
   "metadata": {
    "slideshow": {
     "slide_type": "slide"
    }
   },
   "source": [
    "Suppose we have some data that describes the value of $y$ for a given  $x$.\n",
    "\n",
    "\n"
   ]
  },
  {
   "cell_type": "code",
   "execution_count": 264,
   "metadata": {
    "slideshow": {
     "slide_type": "-"
    }
   },
   "outputs": [
    {
     "data": {
      "text/plain": [
       "Text(0,0.5,'y')"
      ]
     },
     "execution_count": 264,
     "metadata": {},
     "output_type": "execute_result"
    },
    {
     "data": {
      "image/png": "[encoded data removed]",
      "text/plain": [
       "<Figure size 432x288 with 1 Axes>"
      ]
     },
     "metadata": {},
     "output_type": "display_data"
    }
   ],
   "source": [
    "x = np.array([0.5,1,3,4])\n",
    "y = np.array([1.648,  2.718, 20.086, 54.598])\n",
    "plt.plot(x, y, 'ko')\n",
    "plt.xlabel('x')\n",
    "plt.ylabel('y')\n"
   ]
  },
  {
   "cell_type": "markdown",
   "metadata": {
    "slideshow": {
     "slide_type": "slide"
    }
   },
   "source": [
    "Estimate the value of $y$ at $x=2$.\n",
    "\n",
    "This is a simple interpolation problem."
   ]
  },
  {
   "cell_type": "code",
   "execution_count": 265,
   "metadata": {},
   "outputs": [],
   "source": [
    "from scipy.interpolate import interp1d"
   ]
  },
  {
   "cell_type": "markdown",
   "metadata": {
    "slideshow": {
     "slide_type": "slide"
    }
   },
   "source": [
    "### Linear Interpolation\n",
    "<a id='LinearInterpolation'></a>"
   ]
  },
  {
   "cell_type": "markdown",
   "metadata": {
    "slideshow": {
     "slide_type": "slide"
    }
   },
   "source": [
    "The default mode for `scipy.interpolate.interp1d` is *linear* interpolation. \n",
    "\n",
    "If the two known points are given by the coordinates $(x_{0},y_{0})$ and  $(x_{1},y_{1})$ the linear interpolant is the straight line between these points. \n",
    "\n",
    " \n",
    "\n",
    "<img src=\"img/LinearInterpolation.svg\" alt=\"Drawing\" style=\"width: 200px;\"/>\n",
    "\n",
    "\n"
   ]
  },
  {
   "cell_type": "markdown",
   "metadata": {
    "slideshow": {
     "slide_type": "slide"
    }
   },
   "source": [
    "For a value x in the interval $(x_{0},x_{1})$, the value y along the straight line connecting the two known points is found from the equation for the gradient of the straight line:\n",
    "\n",
    "$$\\frac{y - y_0}{x - x_0} = \\frac{y_1 - y_0}{x_1 - x_0}$$\n",
    "\n",
    "Re-arranging gives:\n",
    "\n",
    "$$y = \\frac{y_0 (x_1 - x) + y_1(x - x_0)}{x_1 - x_0}$$"
   ]
  },
  {
   "cell_type": "markdown",
   "metadata": {},
   "source": [
    "We will investigate two methods of interpolation using python:\n",
    "\n",
    "- Method 1 : `interp1d`\n",
    "- Method 2 : `splrep` and `splev` \n",
    "\n",
    "<br>Requirement : the independent variable must be *monotonically increasing*."
   ]
  },
  {
   "cell_type": "code",
   "execution_count": 277,
   "metadata": {},
   "outputs": [],
   "source": [
    "x = np.array([0.5,1,3,4])\n",
    "y = np.array([1.648,  2.718, 20.086, 54.598])"
   ]
  },
  {
   "cell_type": "code",
   "execution_count": 278,
   "metadata": {
    "slideshow": {
     "slide_type": "slide"
    }
   },
   "outputs": [],
   "source": [
    "# Method 1 : Linear Interpolation\n",
    "from scipy.interpolate import interp1d\n",
    "interp = interp1d(x, y, 'linear') # type = ‘linear’, ‘nearest’, ‘zero’, ‘cubic’...\n",
    "\n",
    "\n",
    "# Method 2 : Ploynomial Interpolation\n",
    "# from scipy.interpolate import splrep\n",
    "# from scipy.interpolate import splev\n",
    "# order_poly = 3\n",
    "# interp = splrep(x, y, k=order_poly)\n"
   ]
  },
  {
   "cell_type": "code",
   "execution_count": 279,
   "metadata": {
    "slideshow": {
     "slide_type": "slide"
    }
   },
   "outputs": [
    {
     "data": {
      "text/plain": [
       "<matplotlib.legend.Legend at 0x1a25f01a20>"
      ]
     },
     "execution_count": 279,
     "metadata": {},
     "output_type": "execute_result"
    },
    {
     "data": {
      "image/png": "[encoded data removed]",
      "text/plain": [
       "<Figure size 432x288 with 1 Axes>"
      ]
     },
     "metadata": {},
     "output_type": "display_data"
    }
   ],
   "source": [
    "# plot the original data \n",
    "plt.plot(x, y, 'ko', label='original data')\n",
    "\n",
    "# interpolated x data\n",
    "x_i = np.linspace(0.5, 4, 200)   # create a finer range : start value, end value, no. of samples\n",
    "\n",
    "# plot the interpolated data\n",
    "plt.plot(x_i, interp(x_i), 'r--', label='interpolated function') # Method 1 : Linear Interpolation\n",
    "#plt.plot(x_i, splev(x_i, interp), 'r--', label='interpolation') # Method 2 : Polynomail interpolation\n",
    "\n",
    "\n",
    "plt.xlabel('X')\n",
    "plt.ylabel('Y')\n",
    "plt.legend()\n"
   ]
  },
  {
   "cell_type": "markdown",
   "metadata": {
    "slideshow": {
     "slide_type": "-"
    }
   },
   "source": [
    "The function we sample above is actually:\n",
    "\n",
    "$y(x) = e^x$ \n",
    "\n",
    "The linearly interpolated example is not very accurate."
   ]
  },
  {
   "cell_type": "markdown",
   "metadata": {
    "slideshow": {
     "slide_type": "slide"
    }
   },
   "source": [
    "Let's plot the actual function against the interpolated function to see how they compare:"
   ]
  },
  {
   "cell_type": "code",
   "execution_count": 280,
   "metadata": {
    "scrolled": false,
    "slideshow": {
     "slide_type": "slide"
    }
   },
   "outputs": [
    {
     "data": {
      "text/plain": [
       "<matplotlib.legend.Legend at 0x1a25d63c88>"
      ]
     },
     "execution_count": 280,
     "metadata": {},
     "output_type": "execute_result"
    },
    {
     "data": {
      "image/png": "[encoded data removed]",
      "text/plain": [
       "<Figure size 432x288 with 1 Axes>"
      ]
     },
     "metadata": {},
     "output_type": "display_data"
    }
   ],
   "source": [
    "# plot the original data \n",
    "plt.plot(x, y, 'ko', label='original data')\n",
    "\n",
    "# plot the interpolated data\n",
    "plt.plot(x_i, interp(x_i), 'r--', label='interpolated ') # Method 1 : Linear Interpolation\n",
    "\n",
    "# function data\n",
    "plt.plot(x_i, np.exp(x_i), 'k--', label='y = e^x')\n",
    "\n",
    "plt.legend()"
   ]
  },
  {
   "cell_type": "markdown",
   "metadata": {},
   "source": [
    "We can improve the fit by changing the *type* of interpolation specified as an argument when calling the `interp1d` function. "
   ]
  },
  {
   "cell_type": "markdown",
   "metadata": {},
   "source": [
    "Here is the data fitted with a cubic function using Method 1:"
   ]
  },
  {
   "cell_type": "code",
   "execution_count": 281,
   "metadata": {
    "slideshow": {
     "slide_type": "slide"
    }
   },
   "outputs": [],
   "source": [
    "# Method 1 : Linear Interpolation\n",
    "from scipy.interpolate import interp1d\n",
    "interp = interp1d(x, y, 'cubic') # type = ‘linear’, ‘nearest’, ‘zero’, ‘cubic’...\n",
    "\n",
    "\n",
    "# # Method 2 : Ploynomial Interpolation\n",
    "# from scipy.interpolate import splrep\n",
    "# from scipy.interpolate import splev\n",
    "# order_poly = 3\n",
    "# interp = splrep(x, y, k=order_poly)\n"
   ]
  },
  {
   "cell_type": "code",
   "execution_count": 282,
   "metadata": {
    "scrolled": true,
    "slideshow": {
     "slide_type": "slide"
    }
   },
   "outputs": [
    {
     "data": {
      "text/plain": [
       "<matplotlib.legend.Legend at 0x1a2648a0b8>"
      ]
     },
     "execution_count": 282,
     "metadata": {},
     "output_type": "execute_result"
    },
    {
     "data": {
      "image/png": "[encoded data removed]",
      "text/plain": [
       "<Figure size 432x288 with 1 Axes>"
      ]
     },
     "metadata": {},
     "output_type": "display_data"
    }
   ],
   "source": [
    "# plot the original data \n",
    "plt.plot(x, y, 'ko', label='original data')\n",
    "\n",
    "# interpolated x data\n",
    "x_i = np.linspace(0.5, 4, 200)   # create a finer range : start value, end value, no. of samples\n",
    "\n",
    "# plot the interpolated data\n",
    "plt.plot(x_i, interp(x_i), 'r--', label='interpolated function') # Method 1 : Linear Interpolation\n",
    "#plt.plot(x_i, splev(x_i, interp), 'r--', label='interpolation') # Method 2 : Polynomial interpolation\n",
    "\n",
    "\n",
    "plt.xlabel('X')\n",
    "plt.ylabel('Y')\n",
    "plt.legend()\n"
   ]
  },
  {
   "cell_type": "code",
   "execution_count": 283,
   "metadata": {},
   "outputs": [
    {
     "name": "stdout",
     "output_type": "stream",
     "text": [
      "7.38905609893065\n",
      "6.216514285714284\n"
     ]
    }
   ],
   "source": [
    "# actual function\n",
    "print(np.exp(2))\n",
    "\n",
    "#interpolation\n",
    "print(interp(2))"
   ]
  },
  {
   "cell_type": "markdown",
   "metadata": {
    "slideshow": {
     "slide_type": "slide"
    }
   },
   "source": [
    "### The Inverse Question\n",
    "<a id='TheInverseQuestion'></a>\n",
    "It is easy to interpolate a new value of y given a value of x. \n",
    "\n",
    "What if we want to know the value of x at which y=3? \n",
    "\n",
    "We can switch the order of the interpolation to solve this problem. \n",
    "\n"
   ]
  },
  {
   "cell_type": "markdown",
   "metadata": {
    "slideshow": {
     "slide_type": "slide"
    }
   },
   "source": [
    "__Note__\n",
    "<br>One requirement is that the independent variable must be *monotonically increasing*.\n",
    "\n",
    "This means that simply switching the order of x and y will generates an error *if* y does not increase monotonically with x. "
   ]
  },
  {
   "cell_type": "code",
   "execution_count": 292,
   "metadata": {},
   "outputs": [],
   "source": [
    "tmp = sorted(zip(y, x)) \n",
    "y = [t[0] for t in tmp]\n",
    "x = [t[1] for t in tmp]\n",
    "\n",
    "# convert x and y to numpy array \n",
    "x = np.asarray(x)\n",
    "y = np.asarray(y)"
   ]
  },
  {
   "cell_type": "code",
   "execution_count": 293,
   "metadata": {
    "slideshow": {
     "slide_type": "slide"
    }
   },
   "outputs": [],
   "source": [
    "# Method 1 : Linear Interpolation\n",
    "from scipy.interpolate import interp1d\n",
    "interp = interp1d(y, x, 'linear') # type = ‘linear’, ‘nearest’, ‘zero’, ‘cubic’...\n",
    "\n",
    "\n",
    "# # Method 2 : Ploynomial Interpolation\n",
    "# from scipy.interpolate import splrep\n",
    "# from scipy.interpolate import splev\n",
    "# order_poly = 2\n",
    "# interp = splrep(y, x, k=order_poly)\n"
   ]
  },
  {
   "cell_type": "code",
   "execution_count": 298,
   "metadata": {
    "slideshow": {
     "slide_type": "slide"
    }
   },
   "outputs": [
    {
     "data": {
      "text/plain": [
       "<matplotlib.legend.Legend at 0x1a26d23b38>"
      ]
     },
     "execution_count": 298,
     "metadata": {},
     "output_type": "execute_result"
    },
    {
     "data": {
      "image/png": "[encoded data removed]",
      "text/plain": [
       "<Figure size 432x288 with 1 Axes>"
      ]
     },
     "metadata": {},
     "output_type": "display_data"
    }
   ],
   "source": [
    "# plot the original data \n",
    "plt.plot(y, x, 'ko', label='original data')\n",
    "\n",
    "# interpolated x data\n",
    "y_i = np.linspace(2, 50, 200)   # create a finer range : start value, end value, no. of samples\n",
    "\n",
    "# plot the interpolated data\n",
    "plt.plot(y_i, interp(y_i), 'r--', label='interpolated function') # Method 1 : Linear Interpolation\n",
    "#plt.plot(y_i, splev(y_i, interp), 'r--', label='interpolation') # Method 2 : Polynomail interpolation\n",
    "\n",
    "\n",
    "plt.xlabel('Y')\n",
    "plt.ylabel('X')\n",
    "plt.legend()"
   ]
  },
  {
   "cell_type": "code",
   "execution_count": 299,
   "metadata": {
    "slideshow": {
     "slide_type": "slide"
    }
   },
   "outputs": [
    {
     "name": "stdout",
     "output_type": "stream",
     "text": [
      "1.0986122886681098\n"
     ]
    },
    {
     "data": {
      "text/plain": [
       "array(1.03247351)"
      ]
     },
     "execution_count": 299,
     "metadata": {},
     "output_type": "execute_result"
    }
   ],
   "source": [
    "# actual function\n",
    "print(np.log(3))\n",
    "\n",
    "#interpolation\n",
    "interp(3)\n",
    "# func = splrep(y, x, k=2)\n",
    "# print(splev(3, func))\n"
   ]
  },
  {
   "cell_type": "markdown",
   "metadata": {
    "slideshow": {
     "slide_type": "slide"
    }
   },
   "source": [
    "### Polynomial Spline Curve Interpolation\n",
    "<a id='ImprovedInterpolation'></a>\n",
    "\n",
    "__Method 2__ : A piecewise curve of a polynomial function is fitted over neighbouring points. \n",
    "\n",
    "Using this method, we can:\n",
    "- specify the order of the polynomial.\n",
    "- return the piecewise coefficients and transition points of the polynomial. "
   ]
  },
  {
   "cell_type": "markdown",
   "metadata": {},
   "source": [
    "`splrep` : Returns polynomial functions.   \n",
    "\n",
    "`splev` : Coordinates defining the polynomial curve."
   ]
  },
  {
   "cell_type": "code",
   "execution_count": 300,
   "metadata": {},
   "outputs": [],
   "source": [
    "x = [0.000000000000000000e+00, 1.052631578947368363e+00, 2.105263157894736725e+00, 3.157894736842105310e+00,4.210526315789473450e+00, 5.263157894736841591e+00, 6.315789473684210620e+00,7.368421052631578760e+00,8.421052631578946901e+00,9.473684210526315042e+00,1.052631578947368318e+01,1.157894736842105132e+01,1.263157894736842124e+01,1.368421052631578938e+01,1.473684210526315752e+01, 1.578947368421052566e+01,1.684210526315789380e+01,1.789473684210526372e+01,1.894736842105263008e+01,2.000000000000000000e+01]\n",
    "y = [7.445192947240600745e+01, 4.834835792411828947e+01, 6.873305436340778840e+01, 5.979576407972768948e+01,6.404530772390434379e+01,6.090548420541189500e+01, 7.157546008677115879e+01, 8.620253336570679892e+01, 1.138154622045899913e+02, 8.493639813028174501e+01, 9.783457330550828601e+01, 1.082064229481453594e+02, 1.063876210674365979e+02, 1.001971993955305038e+02, 1.061496321788094832e+02, 1.279575585921491836e+02, 1.556956405962417875e+02, 1.584164804859289859e+02, 1.753888794716459358e+02, 1.980941276403034124e+02]"
   ]
  },
  {
   "cell_type": "code",
   "execution_count": 301,
   "metadata": {
    "slideshow": {
     "slide_type": "slide"
    }
   },
   "outputs": [],
   "source": [
    "# Method 1 : Linear Interpolation\n",
    "# from scipy.interpolate import interp1d\n",
    "# interp = interp1d(x, y, 'linear') # type = ‘linear’, ‘nearest’, ‘zero’, ‘cubic’...\n",
    "\n",
    "\n",
    "# Method 2 : Ploynomial Interpolation\n",
    "from scipy.interpolate import splrep\n",
    "from scipy.interpolate import splev\n",
    "order_poly = 3\n",
    "interp = splrep(x, y, k=order_poly)\n"
   ]
  },
  {
   "cell_type": "code",
   "execution_count": 302,
   "metadata": {
    "slideshow": {
     "slide_type": "slide"
    }
   },
   "outputs": [
    {
     "data": {
      "text/plain": [
       "<matplotlib.legend.Legend at 0x1a26df1c50>"
      ]
     },
     "execution_count": 302,
     "metadata": {},
     "output_type": "execute_result"
    },
    {
     "data": {
      "image/png": "[encoded data removed]",
      "text/plain": [
       "<Figure size 432x288 with 1 Axes>"
      ]
     },
     "metadata": {},
     "output_type": "display_data"
    }
   ],
   "source": [
    "# plot the original data \n",
    "plt.plot(x, y, 'ko', label='original data')\n",
    "\n",
    "# interpolated x data\n",
    "x_i = np.linspace(0, 20, 200)   # create a finer range : start value, end value, no. of samples\n",
    "\n",
    "# plot the interpolated data\n",
    "#plt.plot(x_i, interp(x_i), 'r--', label='interpolated function') # Method 1 : Linear Interpolation\n",
    "plt.plot(x_i, splev(x_i, interp), 'r--', label='interpolation') # Method 2 : Polynomail interpolation\n",
    "\n",
    "\n",
    "plt.xlabel('X')\n",
    "plt.ylabel('Y')\n",
    "plt.legend()\n"
   ]
  },
  {
   "cell_type": "markdown",
   "metadata": {},
   "source": [
    "The coefficients deifning the polynomial curve:"
   ]
  },
  {
   "cell_type": "code",
   "execution_count": 303,
   "metadata": {},
   "outputs": [
    {
     "name": "stdout",
     "output_type": "stream",
     "text": [
      "[[-1.61590279e+01 -1.61590279e+01 -1.61590279e+01 -1.61590279e+01\n",
      "   1.57973222e+01 -1.05842610e+01  8.89820116e+00 -6.83290826e+00\n",
      "   9.98597151e+00 -2.53699462e+01  3.19252431e+01 -1.80774433e+01\n",
      "   2.39976127e+00  1.92446747e-01  3.53429408e+00 -1.70525692e-01\n",
      "   3.30932704e-01 -9.66294182e+00  1.17873095e+01 -3.81820768e+00\n",
      "  -3.81820768e+00 -3.81820768e+00 -3.81820768e+00]\n",
      " [ 7.20063400e+01  7.20063400e+01  7.20063400e+01  7.20063400e+01\n",
      "  -3.00506781e+01  1.98356026e+01 -1.35883794e+01  1.45112033e+01\n",
      "  -7.06640178e+00  2.44682451e+01 -5.56473746e+01  4.51691826e+01\n",
      "  -1.19174805e+01 -4.33928702e+00 -3.73156045e+00  7.42936821e+00\n",
      "   6.89086603e+00  7.93591667e+00 -2.25786365e+01  1.46444461e+01\n",
      "  -9.47054974e+00 -9.47054974e+00 -9.47054974e+00]\n",
      " [-8.26898003e+01 -8.26898003e+01 -8.26898003e+01 -8.26898003e+01\n",
      "   5.63790886e+00 -5.11480225e+00  1.46122221e+00  2.43261578e+00\n",
      "   1.02692489e+01  2.85869787e+01 -4.23315766e+00 -1.52628335e+01\n",
      "   1.97389582e+01  2.62657136e+00 -5.86905754e+00 -1.97662831e+00\n",
      "   1.30973025e+01  2.87044422e+01  1.32910529e+01  4.93927361e+00\n",
      "   1.58316871e+01  1.58316871e+01  1.58316871e+01]\n",
      " [ 7.44519295e+01  7.44519295e+01  7.44519295e+01  7.44519295e+01\n",
      "   6.87330544e+01  5.97957641e+01  6.40453077e+01  6.09054842e+01\n",
      "   7.15754601e+01  8.62025334e+01  1.13815462e+02  8.49363981e+01\n",
      "   9.78345733e+01  1.08206423e+02  1.06387621e+02  1.00197199e+02\n",
      "   1.06149632e+02  1.27957559e+02  1.55695641e+02  1.58416480e+02\n",
      "   1.98094128e+02  1.98094128e+02  1.98094128e+02]]\n"
     ]
    }
   ],
   "source": [
    "# coefficients that define ppolynomial curve\n",
    "F   = scipy.interpolate.PPoly.from_spline(interp)\n",
    "# break points or knots\n",
    "#print(F.x)\n",
    "# coefficients at breakpoints\n",
    "print(F.c)"
   ]
  },
  {
   "cell_type": "markdown",
   "metadata": {},
   "source": [
    "Individual values on the interpolated curve can be found:"
   ]
  },
  {
   "cell_type": "code",
   "execution_count": 307,
   "metadata": {},
   "outputs": [
    {
     "name": "stdout",
     "output_type": "stream",
     "text": [
      "61.035695728163816\n"
     ]
    }
   ],
   "source": [
    "# find the interpolated value at x = 3\n",
    "print(splev(3, interp))"
   ]
  },
  {
   "cell_type": "markdown",
   "metadata": {
    "slideshow": {
     "slide_type": "slide"
    }
   },
   "source": [
    "The index `[::-1]` steps through an array in reverse order.\n",
    "\n",
    "Pseudocode:\n",
    "\n",
    "        [start : end : step-size=-1]"
   ]
  },
  {
   "cell_type": "code",
   "execution_count": 48,
   "metadata": {
    "slideshow": {
     "slide_type": "slide"
    }
   },
   "outputs": [
    {
     "name": "stdout",
     "output_type": "stream",
     "text": [
      "[1 2 3 4 5 6 7 8 9]\n"
     ]
    }
   ],
   "source": [
    "A = np.array([9,8,7,6,5,4,3,2,1])\n",
    "\n",
    "print(A[::-1])"
   ]
  },
  {
   "cell_type": "markdown",
   "metadata": {
    "slideshow": {
     "slide_type": "slide"
    }
   },
   "source": [
    "## Bar Charts and Histograms\n",
    "<a id='BarChartsHistograms'></a>\n",
    "### Bar Charts\n",
    "<a id='BarCharts'></a>\n",
    "To represent data as a bar chart, for example, the number of students in each year of a degree program:\n",
    "```python\n",
    "year_groups = ('B1', 'B2', 'B3', 'M1', 'M2')\n",
    "num_students = (500, 332, 425, 300, 200)\n",
    "```\n",
    "1. Create an array of the position of each bar along the x-axis\n",
    "1. Produce bar plot of data vs position on x axis \n",
    "1. Replace the x ticks with the field name\n",
    "1. Add axis labels "
   ]
  },
  {
   "cell_type": "code",
   "execution_count": 308,
   "metadata": {},
   "outputs": [],
   "source": [
    "year_groups = ('B1', 'B2', 'B3', 'M1', 'M2')\n",
    "num_students = (500, 332, 425, 300, 200)"
   ]
  },
  {
   "cell_type": "code",
   "execution_count": 309,
   "metadata": {
    "slideshow": {
     "slide_type": "slide"
    }
   },
   "outputs": [
    {
     "data": {
      "image/png": "[encoded data removed]",
      "text/plain": [
       "<Figure size 432x288 with 1 Axes>"
      ]
     },
     "metadata": {},
     "output_type": "display_data"
    }
   ],
   "source": [
    "# Create an array with the position of each bar along the x-axis\n",
    "x_pos = np.arange(len(year_groups))\n",
    "\n",
    "# Produce bar plot\n",
    "plt.bar(x_pos, num_students);\n",
    "\n",
    "# Replace the x ticks with the year group name\n",
    "# Rotate labels 30 degrees\n",
    "plt.xticks(x_pos, year_groups, rotation=30);\n",
    "\n",
    "# Add axis labels \n",
    "plt.xlabel('year group');\n",
    "plt.ylabel('number of students');\n"
   ]
  },
  {
   "cell_type": "markdown",
   "metadata": {
    "slideshow": {
     "slide_type": "slide"
    }
   },
   "source": [
    "## Histograms\n",
    "<a id='Histograms'></a>\n",
    "We can visualise the distribution of the values using a histogram.\n",
    "\n",
    "In a histogram, data is sorted into intervals (bins) along the horizontal axis. \n",
    "\n",
    "The number of values that fall within a 'bin' is then displayed on the vertical axis."
   ]
  },
  {
   "cell_type": "markdown",
   "metadata": {
    "slideshow": {
     "slide_type": "slide"
    }
   },
   "source": [
    "To create a histogram we first need a data set. \n",
    "\n",
    "For example we can use Numpy to generate a data set with:\n",
    "- 4000 random values\n",
    "- a mean value of zero \n",
    "- a standard deviation of 1\n",
    "- a __normal__ (Gaussian) distribution (bell curve with 68% percent of values within one standard deviation of the mean)\n",
    "\n"
   ]
  },
  {
   "cell_type": "code",
   "execution_count": 51,
   "metadata": {
    "slideshow": {
     "slide_type": "-"
    }
   },
   "outputs": [],
   "source": [
    "# loc=mean, scale=stddev, size=num samples\n",
    "x = np.random.normal(loc=0.0, scale=1.0, size=4000)  \n"
   ]
  },
  {
   "cell_type": "markdown",
   "metadata": {
    "slideshow": {
     "slide_type": "slide"
    }
   },
   "source": [
    "We can visualise how `x` is distributed, using 20 bins. \n",
    "\n",
    "Matplotlib creates 20 bins of equal width, and computes the number of entries in each bin. "
   ]
  },
  {
   "cell_type": "code",
   "execution_count": 52,
   "metadata": {},
   "outputs": [
    {
     "data": {
      "text/plain": [
       "Text(0,0.5,'frequency')"
      ]
     },
     "execution_count": 52,
     "metadata": {},
     "output_type": "execute_result"
    },
    {
     "data": {
      "image/png": "[encoded data removed]",
      "text/plain": [
       "<Figure size 432x288 with 1 Axes>"
      ]
     },
     "metadata": {},
     "output_type": "display_data"
    }
   ],
   "source": [
    "# Produce histogram with 20 bins\n",
    "n, bins, patches = plt.hist(x, 20, facecolor='green');\n",
    "\n",
    "# Add label\n",
    "plt.xlabel('value')\n",
    "plt.ylabel('frequency')\n",
    "\n"
   ]
  },
  {
   "cell_type": "markdown",
   "metadata": {
    "slideshow": {
     "slide_type": "slide"
    }
   },
   "source": [
    "To view a list of:\n",
    "- the bin intervals\n",
    "- the number of values in each bin. "
   ]
  },
  {
   "cell_type": "code",
   "execution_count": 53,
   "metadata": {
    "slideshow": {
     "slide_type": "slide"
    }
   },
   "outputs": [
    {
     "name": "stdout",
     "output_type": "stream",
     "text": [
      "[-4.05120964 -3.67385735 -3.29650506 -2.91915277 -2.54180048 -2.16444819\n",
      " -1.7870959  -1.40974361 -1.03239132 -0.65503903 -0.27768674  0.09966555\n",
      "  0.47701784  0.85437013  1.23172242  1.6090747   1.98642699  2.36377928\n",
      "  2.74113157  3.11848386  3.49583615]\n"
     ]
    }
   ],
   "source": [
    "print(bins)\n"
   ]
  },
  {
   "cell_type": "markdown",
   "metadata": {
    "slideshow": {
     "slide_type": "slide"
    }
   },
   "source": [
    "__Try it yourself__\n",
    "<br>In the example above try changing the number of bins and run the cells again to see the change in the bin intervals and number of values in ech bin. "
   ]
  },
  {
   "cell_type": "markdown",
   "metadata": {
    "slideshow": {
     "slide_type": "slide"
    }
   },
   "source": [
    "# Summary\n",
    "<a id='Summary'></a>\n",
    "- Matplotlib can be used to produce a wide range of styles of figures and plots of your data.\n",
    "- The matplotlib library can be used to quicky produce simple plots to visualise and check your solutions to mathematical problems.\n",
    "- This includes fitting a curve or a relationship to data imported from a delimted text file.\n",
    "- Simple line and scatter plots can be customised using a `formatstring`\n",
    "- Additional features such as a figure legend and axis labels can be set as arguments when creating plots.\n"
   ]
  },
  {
   "cell_type": "markdown",
   "metadata": {
    "slideshow": {
     "slide_type": "slide"
    }
   },
   "source": [
    "<a id='TestYourselfExercises'></a>\n",
    "# Review Exercises\n",
    "\n",
    "Compete the exercises below.\n",
    "\n",
    "Save your answers as .py files and email them to:\n",
    "<br>philamore.hemma.5s@kyoto-u.ac.jp"
   ]
  },
  {
   "cell_type": "markdown",
   "metadata": {
    "collapsed": true,
    "slideshow": {
     "slide_type": "subslide"
    }
   },
   "source": [
    "### Review Exercise 1: Curve Fitting\n",
    "\n",
    "The experimental data in `sample_data/signal_data.csv` resembles the function:\n",
    "\n",
    "$$y = a \\sin(x +b)$$\n",
    "\n",
    "where $a$ and $b$ are two unknown constants.\n",
    "\n",
    "1. Import the data from the file `sample_data/signal_data.csv`\n",
    "1. Determine contants $a$ and $b$ that give a good fit of the function to the data.\n",
    "1. Plot the raw data and the fitted data on the same graph. Label the data and include a legend.\n",
    "1. Calculate the root mean square error of the fitted data and show the computed value as the plot title. \n",
    "1. Print the equation of the fitted line.\n",
    "1. Save the figure in the sample_data folder as a .pdf file.\n",
    "\n",
    "__Use comments in your code to explain what each part does.__\n"
   ]
  },
  {
   "cell_type": "code",
   "execution_count": 64,
   "metadata": {},
   "outputs": [],
   "source": [
    "# Test-Yourself Exercise: Curve Fitting"
   ]
  },
  {
   "cell_type": "code",
   "execution_count": 65,
   "metadata": {},
   "outputs": [
    {
     "name": "stdout",
     "output_type": "stream",
     "text": [
      "y = 5.082535937794273 * e**(1.083182109981093*x)\n"
     ]
    },
    {
     "data": {
      "image/png": "[encoded data removed]",
      "text/plain": [
       "<Figure size 432x288 with 1 Axes>"
      ]
     },
     "metadata": {},
     "output_type": "display_data"
    }
   ],
   "source": [
    "# Example Solution\n",
    "\n",
    "from scipy.optimize import curve_fit\n",
    "\n",
    "# function to fit to data (find values of a and b with closest fit)\n",
    "def sin_func(x, a, b):\n",
    "    y = a * np.sin(x + b) \n",
    "    return y\n",
    "\n",
    "# function to compute RMSE\n",
    "def RMSE(raw, fitted):\n",
    "    e = (fitted - raw)\n",
    "    return np.sqrt(np.sum(e**2)/ len(y))\n",
    "\n",
    "# import data\n",
    "s = np.loadtxt('sample_data/signal_data.csv', dtype=float, delimiter=',')\n",
    "\n",
    "x = s[0]\n",
    "\n",
    "y = s[1]\n",
    "\n",
    "# plot data with label\n",
    "plt.plot(x, y,     'o',     label='raw data')\n",
    "\n",
    "# find optimised values of a and b\n",
    "opt = curve_fit(sin_func, x, y)[0]\n",
    "\n",
    "# generate fitted data\n",
    "y_fit = sin_func(x, *opt)\n",
    "\n",
    "# find RMSE\n",
    "rmse = RMSE(y_fit, y)\n",
    "\n",
    "# plot the fitted data as a line with label\n",
    "# plt.plot(x, y,     'o',     label='raw data')\n",
    "plt.plot(x, y_fit, 'r',    label='fit')\n",
    "\n",
    "# plot legend\n",
    "plt.legend(loc='best')\n",
    "\n",
    "# plot title with RMSE\n",
    "plt.title(f'RMSE: {rmse}')\n",
    "\n",
    "# print the optimised parameters\n",
    "print(f\"y = {opt[0]} * e**({opt[1]}*x)\")\n",
    "\n",
    "# save the plot\n",
    "plt.savefig(\"sample_data/my-plot.pdf\")"
   ]
  },
  {
   "cell_type": "markdown",
   "metadata": {
    "collapsed": true,
    "slideshow": {
     "slide_type": "subslide"
    }
   },
   "source": [
    "### Review Exercise 2: Interpolation\n",
    "\n",
    "The experimental data in the table shows the temperature recorded at 1m depth intervals in a lake.\n",
    "\n",
    "A sudden temperature change is observed between 7m and 8m.\n",
    "\n",
    "Use first order polynomial interpolation (also called linear interpolation), to estimate the temperature at 7.5m.\n",
    "\n",
    "Use second order polynomial interpolation (also called quadratic interpolation), to estimate the temperature at 7.5m.\n",
    "\n",
    "By plotting your solutions, decide which solution fits the data better.\n",
    "\n",
    "\n",
    "|Temperature (degrees C) |Depth (m)|\n",
    "|------------------------|---------|\n",
    "|19.1                    |        0|        \n",
    "|19.1                    |       -1|         \n",
    "|19                      |       -2|          \n",
    "|18.8                    |       -3|          \n",
    "|18.7                    |       -4|          \n",
    "|18.3                    |       -5|             \n",
    "|18.2                    |       -6|          \n",
    "|17.6                    |       -7|          \n",
    "|11.7                    |       -8|          \n",
    "|9.9                     |       -9|             \n",
    "|9.1                     |      -10|          \n",
    "\n",
    "\n",
    "__Use comments in your code to explain what each part does.__\n"
   ]
  },
  {
   "cell_type": "code",
   "execution_count": 66,
   "metadata": {},
   "outputs": [],
   "source": [
    "# Test-yourself Exercise: Interpolation"
   ]
  },
  {
   "cell_type": "code",
   "execution_count": 67,
   "metadata": {},
   "outputs": [
    {
     "name": "stdout",
     "output_type": "stream",
     "text": [
      "depth = - 7.5, temperature = 14.65 : 1 order polynomial\n",
      "depth = - 7.5, temperature = 14.743075639255014 : 2 order polynomial\n"
     ]
    },
    {
     "data": {
      "text/plain": [
       "Text(0,0.5,'temperature')"
      ]
     },
     "execution_count": 67,
     "metadata": {},
     "output_type": "execute_result"
    },
    {
     "data": {
      "image/png": "[encoded data removed]",
      "text/plain": [
       "<Figure size 432x288 with 1 Axes>"
      ]
     },
     "metadata": {},
     "output_type": "display_data"
    }
   ],
   "source": [
    "# Example Solution\n",
    "import numpy as np\n",
    "import matplotlib.pyplot as plt\n",
    "\n",
    "from scipy.interpolate import splrep\n",
    "from scipy.interpolate import splev\n",
    "import scipy.interpolate\n",
    "\n",
    "# original data\n",
    "y = [19.1, 19.1, 19, 18.8, 18.7, 18.3, 18.2, 17.6, 11.7, 9.9, 9.1][::-1]\n",
    "x = [0, -1, -2, -3, -4, -5, -6, -7, -8, -9, -10][::-1]\n",
    "\n",
    "plt.plot(x, y, 'ko')\n",
    "\n",
    "# range of values for x axis\n",
    "interval = 0.1\n",
    "x_int = np.arange(x[0], x[-1]+interval, interval)\n",
    "\n",
    "# # interpolated data\n",
    "order_poly = 1\n",
    "func = splrep(x, y, k=order_poly)\n",
    "y_int = splev(x_int, func)\n",
    "plt.plot(x_int, y_int, '--', label=f'polynomial order {order_poly}')\n",
    "T = splev(-7.5, func)\n",
    "print(f'depth = - 7.5, temperature = {T} : {order_poly} order polynomial')\n",
    "\n",
    "# # interpolated data\n",
    "order_poly = 2\n",
    "func = splrep(x, y, k=order_poly)\n",
    "y_int = splev(x_int, func)\n",
    "plt.plot(x_int, y_int, '--', label=f'polynomial order {order_poly}')\n",
    "T = splev(-7.5, func)\n",
    "print(f'depth = - 7.5, temperature = {T} : {order_poly} order polynomial')\n",
    "\n",
    "# # plot labels and legend\n",
    "plt.legend()\n",
    "plt.xlabel('depth')\n",
    "plt.ylabel('temperature')\n",
    "#plt.show()\n",
    "\n"
   ]
  }
 ],
 "metadata": {
  "celltoolbar": "Slideshow",
  "kernelspec": {
   "display_name": "Python 3",
   "language": "python",
   "name": "python3"
  },
  "language_info": {
   "codemirror_mode": {
    "name": "ipython",
    "version": 3
   },
   "file_extension": ".py",
   "mimetype": "text/x-python",
   "name": "python",
   "nbconvert_exporter": "python",
   "pygments_lexer": "ipython3",
   "version": "3.6.5"
  }
 },
 "nbformat": 4,
 "nbformat_minor": 2
}
