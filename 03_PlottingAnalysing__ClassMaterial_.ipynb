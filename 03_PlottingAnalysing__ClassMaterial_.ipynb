{
 "cells": [
  {
   "cell_type": "markdown",
   "metadata": {
    "collapsed": true,
    "slideshow": {
     "slide_type": "slide"
    }
   },
   "source": [
    "# 03 Plotting and Analysing\n",
    "## CLASS MATERIAL\n",
    "\n",
    "<br> <a href='#Matplotlib'>1. Matplotlib</a>\n",
    "<br> <a href='#Scipy'>2. Scipy</a> \n",
    "<br> <a href='#ImportingDataDelimitedFiles'>3. Importing Data from Delimited Files</a> \n",
    "<br> <a href='#CurveFitting'>4. Curve Fitting</a> \n",
    "<br><a href='#Interpolation'>5. Interpolation</a>\n",
    "<br> <a href='#BarChartsHistograms'>6. Bar Charts and Histograms</a> \n",
    "<br> <a href='#ReviewExercises'>7. Review Exercises</a>"
   ]
  },
  {
   "cell_type": "markdown",
   "metadata": {
    "slideshow": {
     "slide_type": "slide"
    }
   },
   "source": [
    "# Download the new class notes.\n",
    "__Navigate to the directory where your files are stored.__\n",
    "\n",
    "__Update the course notes by downloading the changes__"
   ]
  },
  {
   "cell_type": "markdown",
   "metadata": {
    "slideshow": {
     "slide_type": "slide"
    }
   },
   "source": [
    "\n",
    "\n",
    "\n",
    "##### Windows\n",
    "Search for __Git Bash__ in the programs menu.\n",
    "\n",
    "Select __Git Bash__, a terminal will open.\n",
    "\n",
    "Use `cd` to navigate to *inside* the __ILAS_PyEng2019__ repository you downloaded. \n",
    "\n",
    "Run the command:\n",
    ">`./automerge`\n",
    "\n",
    "\n",
    "\n",
    "##### Mac\n",
    "Open a terminal. \n",
    "\n",
    "Use `cd` to navigate to *inside* the __ILAS_PyEng2019__ repository you downloaded. \n",
    "\n",
    "Run the command:\n",
    ">`sudo ./automerge`\n",
    "\n",
    "Enter your password when prompted. "
   ]
  },
  {
   "cell_type": "markdown",
   "metadata": {
    "slideshow": {
     "slide_type": "slide"
    }
   },
   "source": [
    "### Lesson Goal\n",
    "\n",
    "1. Plot data imported from a file \n",
    "2. Perform analysis to fit a curve to experimental data.   \n",
    "\n",
    "### Fundamental programming concepts\n",
    " - Importing data from different file types file types\n",
    " - Using the python `matplotlib` library\n",
    " - Exploiting computational analysis techniques"
   ]
  },
  {
   "cell_type": "markdown",
   "metadata": {
    "slideshow": {
     "slide_type": "slide"
    }
   },
   "source": [
    "<a id='Matplotlib'></a>\n",
    "# 1. Matplotlib\n",
    "\n",
    "Matplotlib is the most widely used Python package for plotting.\n",
    "\n",
    "It's functionality is huge.\n",
    "\n",
    "Today's seminar will introduce the core functionality of Matplotlib."
   ]
  },
  {
   "cell_type": "code",
   "execution_count": 2,
   "metadata": {
    "slideshow": {
     "slide_type": "slide"
    }
   },
   "outputs": [],
   "source": [
    "import numpy as np\n",
    "\n",
    "# plotting\n",
    "import matplotlib.pyplot as plt\n",
    "\n",
    "# colours\n",
    "import matplotlib.cm as cm\n",
    "\n",
    "# Plotting in 3D\n",
    "from mpl_toolkits.mplot3d import axes3d"
   ]
  },
  {
   "cell_type": "markdown",
   "metadata": {
    "slideshow": {
     "slide_type": "slide"
    }
   },
   "source": [
    "<a id='LineScatterPlots'></a>\n",
    "## Line and Scatter Plots\n",
    "\n",
    "Matplotlib can be used to produce basic line and scatter plots.\n",
    "\n",
    "You can manipulate the appearance of these plots in code."
   ]
  },
  {
   "cell_type": "markdown",
   "metadata": {
    "slideshow": {
     "slide_type": "subslide"
    }
   },
   "source": [
    "For a sample data set of values of $x$ and corresponding values of $f$:"
   ]
  },
  {
   "cell_type": "code",
   "execution_count": 4,
   "metadata": {},
   "outputs": [],
   "source": [
    "x = [-1, 3, 4, 8 , 10]\n",
    "f = [-1, -2, 7, 13 , 1]\n",
    "\n"
   ]
  },
  {
   "cell_type": "markdown",
   "metadata": {},
   "source": [
    "We can produce a line plot.."
   ]
  },
  {
   "cell_type": "code",
   "execution_count": 6,
   "metadata": {
    "slideshow": {
     "slide_type": "slide"
    }
   },
   "outputs": [
    {
     "data": {
      "text/plain": [
       "[<matplotlib.lines.Line2D at 0x119791b70>]"
      ]
     },
     "execution_count": 6,
     "metadata": {},
     "output_type": "execute_result"
    },
    {
     "data": {
      "image/png": "[encoded data removed]",
      "text/plain": [
       "<Figure size 432x288 with 1 Axes>"
      ]
     },
     "metadata": {},
     "output_type": "display_data"
    }
   ],
   "source": [
    "plt.plot(x, f)\n"
   ]
  },
  {
   "cell_type": "markdown",
   "metadata": {
    "slideshow": {
     "slide_type": "slide"
    }
   },
   "source": [
    "Notice the statement `[<matplotlib.lines.Line2D at 0x30990b0>]` appears each time (the numbers on your computer may look different). \n",
    "\n",
    "This is a handle to the line that is created with the last command in the code block (in this case `plt.plot(x, y)`). \n",
    "\n",
    "You can avoid printing this by putting a semicolon after the last command in the code block (so type `plot(x, y);`). "
   ]
  },
  {
   "cell_type": "markdown",
   "metadata": {
    "slideshow": {
     "slide_type": "slide"
    }
   },
   "source": [
    "The `plot` function can take many arguments.\n",
    "\n",
    "Summary so far: `plot` can take:\n",
    " - One argument `plot(y)`, which plots `y` values along the vertical axis and enumerates the horizontal axis starting at 0.<br>\n",
    " - Two arguments, `plot(x, y)`, which plots `x` vs `y`.<br>\n",
    " - Three arguments `plot(x, y, formatstring)`, which plots `x` vs `y` using colors and markers defined in `formatstring`.\n",
    " \n",
    " "
   ]
  },
  {
   "cell_type": "markdown",
   "metadata": {
    "slideshow": {
     "slide_type": "slide"
    }
   },
   "source": [
    "The optional __format string__ is a convenient way for defining basic formatting:\n",
    "\n",
    "Using the `formatstring` argument we can chnage:\n",
    " - the colour of the plot (e.g. `r` = red, `k`= black)\n",
    " - the style of the markers (e.g. `o` = points, `*` = stars)\n",
    " - the style of the line (e.g. `--` = dashes, `.` = dots)"
   ]
  },
  {
   "cell_type": "markdown",
   "metadata": {
    "slideshow": {
     "slide_type": "slide"
    }
   },
   "source": [
    "In the example below:\n",
    " - `r` makes the plot red\n",
    " - `x` makes the markers crosses\n",
    " - `-` makes the line solid"
   ]
  },
  {
   "cell_type": "code",
   "execution_count": 7,
   "metadata": {
    "slideshow": {
     "slide_type": "slide"
    }
   },
   "outputs": [
    {
     "data": {
      "image/png": "[encoded data removed]",
      "text/plain": [
       "<Figure size 432x288 with 1 Axes>"
      ]
     },
     "metadata": {},
     "output_type": "display_data"
    }
   ],
   "source": [
    "plt.plot(x, f, '-xr');"
   ]
  },
  {
   "cell_type": "markdown",
   "metadata": {
    "slideshow": {
     "slide_type": "slide"
    }
   },
   "source": [
    "Note the semi-colon when calling the `plot` function."
   ]
  },
  {
   "cell_type": "code",
   "execution_count": 7,
   "metadata": {
    "slideshow": {
     "slide_type": "slide"
    }
   },
   "outputs": [
    {
     "data": {
      "text/plain": [
       "[<matplotlib.lines.Line2D at 0x11074cd68>]"
      ]
     },
     "execution_count": 7,
     "metadata": {},
     "output_type": "execute_result"
    },
    {
     "data": {
      "image/png": "[encoded data removed]",
      "text/plain": [
       "<Figure size 432x288 with 1 Axes>"
      ]
     },
     "metadata": {},
     "output_type": "display_data"
    }
   ],
   "source": [
    "#plt.plot(x, f, '--og')  \n",
    "plt.plot(x, f, 'og--')  \n",
    "plt.plot(x, f, 'or--') \n",
    "plt.plot(x, f, 'k.') "
   ]
  },
  {
   "cell_type": "markdown",
   "metadata": {
    "slideshow": {
     "slide_type": "slide"
    }
   },
   "source": [
    "Available colours, maker styles and line styles can be found in the matplotlib documentation. \n",
    " - Colour: https://matplotlib.org/2.0.2/api/colors_api.html\n",
    " - Marker style: https://matplotlib.org/api/markers_api.html\n",
    " - Line style: https://matplotlib.org/devdocs/gallery/lines_bars_and_markers/line_styles_reference.html"
   ]
  },
  {
   "cell_type": "markdown",
   "metadata": {
    "slideshow": {
     "slide_type": "slide"
    }
   },
   "source": [
    "<a id='SciPy'></a>\n",
    "# 2. SciPy\n",
    "\n",
    "Both Numpy and Matplotlib are part of SciPy; a Python package for mathematics, science, and engineering related computing.\n",
    "\n",
    "Today we will also be importing functions from the SciPy package."
   ]
  },
  {
   "cell_type": "markdown",
   "metadata": {
    "slideshow": {
     "slide_type": "slide"
    }
   },
   "source": [
    "To display plots in Jupyter Notebook, we must also have the following line in the notebook *before* generating the plot:"
   ]
  },
  {
   "cell_type": "code",
   "execution_count": 8,
   "metadata": {
    "slideshow": {
     "slide_type": "-"
    }
   },
   "outputs": [],
   "source": [
    "%matplotlib inline\n"
   ]
  },
  {
   "cell_type": "markdown",
   "metadata": {
    "slideshow": {
     "slide_type": "slide"
    }
   },
   "source": [
    "To display plots when running a .py file (e.g. in Spyder, we must also have the following line in the notebook *after* generating the plot:"
   ]
  },
  {
   "cell_type": "code",
   "execution_count": 9,
   "metadata": {
    "slideshow": {
     "slide_type": "-"
    }
   },
   "outputs": [],
   "source": [
    "plt.show()"
   ]
  },
  {
   "cell_type": "markdown",
   "metadata": {},
   "source": [
    "Online resources for more Matplotlib functionality:\n",
    " - Matplotlib Gallery (http://matplotlib.org/gallery.html)\n",
    " - Github (http://gree2.github.io/python/2015/04/10/python-matplotlib-plotting-examples-and-exercises)\n",
    " \n",
    " "
   ]
  },
  {
   "cell_type": "markdown",
   "metadata": {
    "collapsed": true,
    "slideshow": {
     "slide_type": "slide"
    }
   },
   "source": [
    "<a id='ImportingDataDelimitedFiles'></a>\n",
    "# 3. Importing Data from Delimited Files"
   ]
  },
  {
   "cell_type": "markdown",
   "metadata": {
    "slideshow": {
     "slide_type": "slide"
    }
   },
   "source": [
    "To import the data from `sample_data/data.dat`:\n",
    ">`0.000 1.053 2.105 3.158 4.211\n",
    "74.452 48.348 68.733 59.796 54.123`\n"
   ]
  },
  {
   "cell_type": "code",
   "execution_count": 10,
   "metadata": {
    "slideshow": {
     "slide_type": "slide"
    }
   },
   "outputs": [
    {
     "name": "stdout",
     "output_type": "stream",
     "text": [
      "[[ 1.053  2.105  3.158  4.211  6.065]\n",
      " [48.348 68.733 59.796 54.123 74.452]]\n",
      "<class 'numpy.ndarray'>\n",
      "2.105\n"
     ]
    }
   ],
   "source": [
    "A = np.loadtxt('sample_data/sample_data.dat')\n",
    "print(A)\n",
    "print(type(A))\n",
    "print(A[0][1])"
   ]
  },
  {
   "cell_type": "markdown",
   "metadata": {
    "slideshow": {
     "slide_type": "slide"
    }
   },
   "source": [
    "The file to be loaded must be in the same directory as your python program.\n",
    "\n",
    "Otherwise you must specify the the full path to the data file using / to seperate directory names. \n",
    "\n",
    "The filename (or path plus filename) needs to be between \"...\" or '...' quotation marks. "
   ]
  },
  {
   "cell_type": "markdown",
   "metadata": {
    "slideshow": {
     "slide_type": "slide"
    }
   },
   "source": [
    "The __delimiter__ should (sometimes) be specified.\n",
    "\n",
    "This tells Python how to separate the data into the individual elements of an array used to store it. \n",
    "\n",
    "The default delimiter is a space.\n",
    "\n",
    "(Data separated by spaces will be automatically be assigned different indices)."
   ]
  },
  {
   "cell_type": "markdown",
   "metadata": {
    "slideshow": {
     "slide_type": "slide"
    }
   },
   "source": [
    "The __data type__ should (sometimes) be specified.\n",
    "\n",
    "\n",
    "The default data type is `float`.\n",
    "\n",
    "If your data contains items that cannot be expressed as a float, importing it will cause an error unless the data-type is specified.\n",
    "\n",
    "Mixed data types can be imported as `string` values. "
   ]
  },
  {
   "cell_type": "markdown",
   "metadata": {
    "slideshow": {
     "slide_type": "slide"
    }
   },
   "source": [
    "Data in `sample_data/sample_student_data.txt`:\n",
    "- __delimiter__ : tab (`/t`) \n",
    "- __data type__ : string (float in some columns)\n",
    "\n",
    "```Python\n",
    "Subject\tSex\tDOB\tHeight\tWeight\tBP\n",
    "(ID)\tM/F\tdd/mm/yy\tm\tkg\tmmHg\n",
    "JW-1\tM\t19/12/1995\t1.82\t92.4\t119/76\n",
    "JW-2\tM\t11/01/1996\t1.77\t80.9\t114/73\n",
    "JW-3\tF\t02/10/1995\t1.68\t69.7\t124/79\n",
    "JW-6\tM\t06/07/1995\t1.72\t75.5\t110/60\n",
    "JW-7\tF\t28/03/1996\t1.66\t72.4\t-\n",
    "JW-9\tF\t11/12/1995\t1.78\t82.1\t115/75\n",
    "JW-10\tF\t07/04/1996\t1.6\t45\t-/-\n",
    "JW-11\tM\t22/08/1995\t1.72\t77.2\t97/63\n",
    "JW-12\tM\t23/05/1996\t1.83\t88.9\t105/70\n",
    "JW-14\tF\t12/01/1996\t1.56\t56.3\t108/72\n",
    "JW-15\tF\t01/06/1996\t1.64\t65\t99/67\n",
    "JW-16\tM\t10/09/1995\t1.63\t73\t131/84\n",
    "JW-17\tM\t17/02/1996\t1.67\t89.8\t101/76\n",
    "JW-18\tM\t31/07/1996\t1.66\t75.1\t-/-\n",
    "JW-19\tF\t30/10/1995\t1.59\t67.3\t103/69\n",
    "JW-22\tF\t09/03/1996\t1.7\t45\t119/80\n",
    "JW-23\tM\t15/05/1995\t1.97\t89.2\t124/82\n",
    "JW-24\tF\t01/12/1995\t1.66\t63.8\t100/78\n",
    "JW-25\tF\t25/10/1995\t1.63\t64.4\t-/-\n",
    "JW-26\tM\t17/04/1996\t1.69\t55\t121/82\n",
    "```"
   ]
  },
  {
   "cell_type": "code",
   "execution_count": 11,
   "metadata": {
    "slideshow": {
     "slide_type": "slide"
    }
   },
   "outputs": [
    {
     "data": {
      "text/plain": [
       "array([['Student', 'Sex', 'DOB', 'Height', 'Weight', 'BP'],\n",
       "       ['(ID)', 'M/F', 'dd/mm/yy', 'm', 'kg', 'mmHg'],\n",
       "       ['JW-1', 'M', '19/12/1995', '1.82', '92.4', '119/76'],\n",
       "       ['JW-2', 'M', '11/01/1996', '1.77', '80.9', '114/73'],\n",
       "       ['JW-3', 'F', '02/10/1995', '1.68', '69.7', '124/79'],\n",
       "       ['JW-4', 'M', '11/01/1996', '1.77', '80.9', '114/73'],\n",
       "       ['JW-5', 'F', '02/10/1995', '1.68', '69.7', '124/79'],\n",
       "       ['JW-6', 'M', '06/07/1995', '1.72', '75.5', '110/60'],\n",
       "       ['JW-7', 'F', '28/03/1996', '1.66', '72.4', '-'],\n",
       "       ['JW-9', 'F', '11/12/1995', '1.78', '82.1', '115/75'],\n",
       "       ['JW-10', 'F', '07/04/1996', '1.6', '45', '-/-'],\n",
       "       ['JW-11', 'M', '22/08/1995', '1.72', '77.2', '97/63'],\n",
       "       ['JW-12', 'M', '23/05/1996', '1.83', '88.9', '105/70'],\n",
       "       ['JW-14', 'F', '12/01/1996', '1.56', '56.3', '108/72'],\n",
       "       ['JW-15', 'F', '01/06/1996', '1.64', '65', '99/67'],\n",
       "       ['JW-16', 'M', '10/09/1995', '1.63', '73', '131/84'],\n",
       "       ['JW-17', 'M', '17/02/1996', '1.67', '89.8', '101/76'],\n",
       "       ['JW-18', 'M', '31/07/1996', '1.66', '75.1', '-/-'],\n",
       "       ['JW-19', 'F', '30/10/1995', '1.59', '67.3', '103/69'],\n",
       "       ['JW-22', 'F', '09/03/1996', '1.7', '45', '119/80'],\n",
       "       ['JW-23', 'M', '15/05/1995', '1.97', '89.2', '124/82'],\n",
       "       ['JW-24', 'F', '01/12/1995', '1.66', '63.8', '100/78'],\n",
       "       ['JW-25', 'F', '25/10/1995', '1.63', '64.4', '-/-'],\n",
       "       ['JW-26', 'M', '17/04/1996', '1.69', '55', '121/82']], dtype='<U10')"
      ]
     },
     "execution_count": 11,
     "metadata": {},
     "output_type": "execute_result"
    }
   ],
   "source": [
    "np.loadtxt('sample_data/sample_student_data.txt', delimiter=\"\\t\", dtype=str)"
   ]
  },
  {
   "cell_type": "markdown",
   "metadata": {
    "slideshow": {
     "slide_type": "slide"
    }
   },
   "source": [
    "Regions can be selected, for example to select only numerical data. \n",
    "\n",
    "`skiprows` skips the first n lines. \n",
    "\n",
    "`usecols` specifies which columns to read, with 0 being the first. \n",
    "\n",
    "`usecols = (1, 4, 5)` : extracts the 2nd, 5th and 6th columns.\n",
    "<br>`usecols = (3, 4)` : extracts the 4th and 5th columns (height and weight data)."
   ]
  },
  {
   "cell_type": "code",
   "execution_count": 12,
   "metadata": {
    "slideshow": {
     "slide_type": "slide"
    }
   },
   "outputs": [
    {
     "name": "stdout",
     "output_type": "stream",
     "text": [
      "[[ 1.78 82.1 ]\n",
      " [ 1.6  45.  ]\n",
      " [ 1.72 77.2 ]\n",
      " [ 1.83 88.9 ]\n",
      " [ 1.56 56.3 ]\n",
      " [ 1.64 65.  ]\n",
      " [ 1.63 73.  ]\n",
      " [ 1.67 89.8 ]\n",
      " [ 1.66 75.1 ]\n",
      " [ 1.59 67.3 ]\n",
      " [ 1.7  45.  ]\n",
      " [ 1.97 89.2 ]\n",
      " [ 1.66 63.8 ]\n",
      " [ 1.63 64.4 ]\n",
      " [ 1.69 55.  ]]\n"
     ]
    }
   ],
   "source": [
    "students = np.loadtxt('sample_data/sample_student_data.txt', dtype=float, skiprows=9, usecols=(3,4))\n",
    "print(students)"
   ]
  },
  {
   "cell_type": "markdown",
   "metadata": {
    "slideshow": {
     "slide_type": "slide"
    }
   },
   "source": [
    "You can now use the imported data as a regular Numpy array of numerical values.\n",
    "\n"
   ]
  },
  {
   "cell_type": "code",
   "execution_count": 13,
   "metadata": {
    "slideshow": {
     "slide_type": "slide"
    }
   },
   "outputs": [
    {
     "data": {
      "image/png": "[encoded data removed]",
      "text/plain": [
       "<Figure size 432x288 with 1 Axes>"
      ]
     },
     "metadata": {},
     "output_type": "display_data"
    }
   ],
   "source": [
    "# Use indexing to select which ROWS and which COLUMNS to plot\n",
    "plt.plot(students[:, 0], students[:, 1], 'rx', label=\"students\")\n",
    "\n",
    "# Legend\n",
    "plt.legend(loc='best', fontsize=12)\n",
    "\n",
    "# Axes labels\n",
    "plt.xlabel('Height (m)', fontsize=12)\n",
    "plt.ylabel('Weight (kg)', fontsize=12)\n",
    "\n",
    "# Title\n",
    "plt.title(\"Height to weight relationship for students in class A\", fontsize=18);"
   ]
  },
  {
   "cell_type": "markdown",
   "metadata": {
    "slideshow": {
     "slide_type": "slide"
    }
   },
   "source": [
    "<a id='CurveFitting'></a>\n",
    "# 4. Curve Fitting\n",
    "\n",
    "\n",
    "\n",
    "<br> &emsp;&emsp; <a href='#LinearRegression'>4.1 Linear Regression</a>\n",
    "<br> &emsp;&emsp; <a href='#FittingPolynomialFunction'>4.2 Fitting a Polynomial Function</a>\n",
    "<br> &emsp;&emsp; <a href='#RootMeanSquareError'>4.3 Root Mean Square Error</a>\n",
    "<br> &emsp;&emsp; <a href='#FittingArbitraryFunction'>4.4 Fitting an Arbitrary Function</a> \n",
    "\n",
    "\n"
   ]
  },
  {
   "cell_type": "markdown",
   "metadata": {
    "slideshow": {
     "slide_type": "slide"
    }
   },
   "source": [
    "It can be useful to define a relationship between two variables, x and y. \n",
    "\n",
    "For example, we often want to 'fit' a function to a set of data points (e.g. experimental data).\n",
    "\n",
    "Python has several tools for finding relationships in a set of data."
   ]
  },
  {
   "cell_type": "markdown",
   "metadata": {
    "slideshow": {
     "slide_type": "slide"
    }
   },
   "source": [
    "<a id='LinearRegression'></a>\n",
    "## 4.1 Linear Regression\n",
    "Linear regression calculates a __linear function__ that minimizes the combined distance between the fitted line and the data points. \n",
    "\n",
    "<img src=\"img/linear_regression.png\" alt=\"Drawing\" style=\"width: 300px;\"/>"
   ]
  },
  {
   "cell_type": "markdown",
   "metadata": {
    "slideshow": {
     "slide_type": "slide"
    }
   },
   "source": [
    "A __linear function__ has the form:\n",
    "$$\n",
    "y = mx + c\n",
    "$$"
   ]
  },
  {
   "cell_type": "markdown",
   "metadata": {
    "slideshow": {
     "slide_type": "slide"
    }
   },
   "source": [
    "<a id='FittingPolynomialFunction'></a>\n",
    "## 4.2 Fitting a polynomial Function\n",
    "\n",
    ">*__Polynomial function__: a function involving only non-negative integer powers of x.*\n",
    "\n",
    "__1st order polynomial function__ (linear function)\n",
    "$$y = \\mathbf{a}x^1 + \\mathbf{b}x^0$$\n",
    "\n",
    "__2nd order polynomial function__\n",
    "$$y = \\mathbf{c}x^2 + \\mathbf{d}x^1 + \\mathbf{e}x^0$$\n",
    "\n",
    "__3rd order polynomial function__\n",
    "$$y = \\mathbf{f}x^3 + \\mathbf{g}x^2 + \\mathbf{h}x^1 + \\mathbf{i}x^0$$\n",
    "\n"
   ]
  },
  {
   "cell_type": "markdown",
   "metadata": {
    "slideshow": {
     "slide_type": "slide"
    }
   },
   "source": [
    "A polynomial curve can be fitted through a data set using the `polyfit` function from `numpy`. \n",
    "\n",
    "The function arguments are:\n",
    "- independent variables \n",
    "- dependent variables \n",
    "- order of the polynomial \n",
    "\n",
    "The `polyfit` function returns the coefficients of each term of the polynomial."
   ]
  },
  {
   "cell_type": "code",
   "execution_count": 8,
   "metadata": {
    "slideshow": {
     "slide_type": "slide"
    }
   },
   "outputs": [
    {
     "name": "stdout",
     "output_type": "stream",
     "text": [
      "6.077443700312607 42.582457358775194\n",
      "0.35757289708419016 -1.0740142413711886 65.16600875356613\n",
      "[ 0.3575729  -1.07401424 65.16600875]\n",
      "0.35757289708419016 -1.0740142413711886 65.16600875356613\n"
     ]
    }
   ],
   "source": [
    "x = [0.000000000000000000e+00, 1.052631578947368363e+00, 2.105263157894736725e+00, 3.157894736842105310e+00,4.210526315789473450e+00, 5.263157894736841591e+00, 6.315789473684210620e+00,7.368421052631578760e+00,8.421052631578946901e+00,9.473684210526315042e+00,1.052631578947368318e+01,1.157894736842105132e+01,1.263157894736842124e+01,1.368421052631578938e+01,1.473684210526315752e+01, 1.578947368421052566e+01,1.684210526315789380e+01,1.789473684210526372e+01,1.894736842105263008e+01,2.000000000000000000e+01]\n",
    "y = [7.445192947240600745e+01, 4.834835792411828947e+01, 6.873305436340778840e+01, 5.979576407972768948e+01,6.404530772390434379e+01,6.090548420541189500e+01, 7.157546008677115879e+01, 8.620253336570679892e+01, 1.138154622045899913e+02, 8.493639813028174501e+01, 9.783457330550828601e+01, 1.082064229481453594e+02, 1.063876210674365979e+02, 1.001971993955305038e+02, 1.061496321788094832e+02, 1.279575585921491836e+02, 1.556956405962417875e+02, 1.584164804859289859e+02, 1.753888794716459358e+02, 1.980941276403034124e+02]\n",
    "\n",
    "# convert to numpy array to allow elementwise operations\n",
    "x = np.array(x)\n",
    "y = np.array(y)\n",
    "\n",
    "\n",
    "a, b = np.polyfit(x, y, 1)\n",
    "\n",
    "c, d, e = np.polyfit(x, y, 2)\n",
    "\n",
    "coeffs = np.polyfit(x, y, 2)\n",
    "\n",
    "\n",
    "print(a, b)\n",
    "print(c, d, e)\n",
    "print(coeffs)\n",
    "print(coeffs[0], coeffs[1], coeffs[2])"
   ]
  },
  {
   "cell_type": "code",
   "execution_count": 18,
   "metadata": {
    "slideshow": {
     "slide_type": "slide"
    }
   },
   "outputs": [],
   "source": [
    "# 1st order polynomial\n",
    "# 2 coefficients\n",
    "a = np.polyfit(x, y, 1)\n",
    "\n",
    "# 2nd order polynomial\n",
    "# 3 coefficients\n",
    "b = np.polyfit(x, y, 2)\n",
    "\n",
    "# 3rd order polynomial \n",
    "# 4 coefficients\n",
    "c = np.polyfit(x, y, 3)\n",
    "\n",
    "# 4th order polynomial\n",
    "# 5 coefficients\n",
    "d = np.polyfit(x, y, 4)"
   ]
  },
  {
   "cell_type": "markdown",
   "metadata": {
    "slideshow": {
     "slide_type": "slide"
    }
   },
   "source": [
    "#### Generating the Fitted Polynomial Function\n",
    "To produce a polynomial function using the generated coeffients, we can use the function `poly1D`.  "
   ]
  },
  {
   "cell_type": "code",
   "execution_count": 11,
   "metadata": {},
   "outputs": [
    {
     "name": "stdout",
     "output_type": "stream",
     "text": [
      "[(0.0, 74.45192947240601), (1.0526315789473684, 48.34835792411829), (2.1052631578947367, 68.73305436340779), (3.1578947368421053, 59.79576407972769), (4.2105263157894735, 64.04530772390434), (5.263157894736842, 60.905484205411895), (6.315789473684211, 71.57546008677116), (7.368421052631579, 86.2025333657068), (8.421052631578947, 113.81546220458999), (9.473684210526315, 84.93639813028175), (10.526315789473683, 97.83457330550829), (11.578947368421051, 108.20642294814536), (12.631578947368421, 106.3876210674366), (13.68421052631579, 100.1971993955305), (14.736842105263158, 106.14963217880948), (15.789473684210526, 127.95755859214918), (16.842105263157894, 155.6956405962418), (17.894736842105264, 158.416480485929), (18.94736842105263, 175.38887947164594), (20.0, 198.0941276403034)]\n",
      "[0.0, 1.0526315789473684, 2.1052631578947367, 3.1578947368421053, 4.2105263157894735]\n",
      "[74.45192947240601, 48.34835792411829, 68.73305436340779, 59.79576407972769, 64.04530772390434]\n"
     ]
    }
   ],
   "source": [
    "# print(x[:5])\n",
    "# print(y[:5], end = '\\n\\n')\n",
    "\n",
    "# sort x and y values so that x (first argumant) values are in ascending order\n",
    "# sorted retrns list of tuples : [(x_0, y_0), (x_1, y_1), ... (x_n, y_n)]\n",
    "tmp = sorted(zip(x, y)) #,key=lambda x: x[0]) i.e. to sort using second list in zip\n",
    "\n",
    "x = []\n",
    "y = []\n",
    "\n",
    "for t in tmp:\n",
    "    x.append(t[0])\n",
    "    y.append(t[1])\n",
    "\n",
    "print(tmp)\n",
    "# We can also write this: \n",
    "x = [t[0] for t in tmp]\n",
    "y = [t[1] for t in tmp]\n",
    "\n",
    "print(x[:5])\n",
    "print(y[:5])\n",
    "\n",
    "\n",
    "# convert x and y to numpy array \n",
    "x = np.asarray(x)\n",
    "y = np.asarray(y)"
   ]
  },
  {
   "cell_type": "code",
   "execution_count": 13,
   "metadata": {
    "slideshow": {
     "slide_type": "slide"
    }
   },
   "outputs": [],
   "source": [
    "# 1st order polynomial\n",
    "yfit1 = np.poly1d(a)(x)\n",
    "\n",
    "# 2nd order polynomial\n",
    "yfit2 = np.poly1d(b)(x)\n",
    "\n",
    "# 3rd order polynomial \n",
    "yfit3 = np.poly1d(c)(x)\n",
    "\n",
    "# 4th order polynomial\n",
    "yfit4 = np.poly1d(d)(x)"
   ]
  },
  {
   "cell_type": "markdown",
   "metadata": {
    "slideshow": {
     "slide_type": "slide"
    }
   },
   "source": [
    "Note, that this produces the same output as:"
   ]
  },
  {
   "cell_type": "code",
   "execution_count": 146,
   "metadata": {},
   "outputs": [],
   "source": [
    "yfit1 = a[0]*x + a[1]\n",
    "\n",
    "yfit2 = b[0]*x**2 + b[1]*x + b[2]\n",
    "\n",
    "yfit3 = c[0]*x**3 + c[1]*x**2 + c[2]*x + c[3]\n",
    "\n",
    "yfit4 = d[0]*x**4 + d[1]*x**3 + d[2]*x**2 + d[3]*x + d[4]"
   ]
  },
  {
   "cell_type": "code",
   "execution_count": 147,
   "metadata": {
    "slideshow": {
     "slide_type": "slide"
    }
   },
   "outputs": [
    {
     "data": {
      "image/png": "[encoded data removed]",
      "text/plain": [
       "<Figure size 432x288 with 1 Axes>"
      ]
     },
     "metadata": {},
     "output_type": "display_data"
    }
   ],
   "source": [
    "# plot a scatter plot of raw data\n",
    "plt.plot(x, y, 'o', label='experiment data')\n",
    "\n",
    "\n",
    "# plot the fitted linear function \n",
    "# the argument 'label' is used to print the equation of the line on the plot \n",
    "plt.plot(x, yfit1, label=f'{round(a[0],2)}*x + {round(a[1],2)}');\n",
    "plt.plot(x, yfit2, label=f'{round(b[0],2)}*x**2 + {round(b[1],2)}*x**1 + {round(b[2],2)}');\n",
    "plt.plot(x, yfit3, label=f'{round(c[0],2)}*x**3 + {round(c[1],2)}*x**2 + {round(c[2],2)}*x + {round(c[3],2)}');\n",
    "plt.plot(x, yfit4, label=f'{round(d[0],2)}*x**4 + {round(d[1],2)}*x**3 + {round(d[2],2)}*x**2 + {round(d[3],2)}*x + {round(d[4],2)}');\n",
    "\n",
    "\n",
    "# display the label \n",
    "# anchor the upper left corner of the legend to the point (1,1)\n",
    "# 1 represents the height and width of the plot respectively\n",
    "plt.legend(bbox_to_anchor=(1,1), loc=\"upper left\")\n",
    "\n",
    "\n",
    "# label the axes\n",
    "plt.xlabel('x')\n",
    "plt.ylabel('y')\n",
    "\n",
    "\n",
    "# add a title \n",
    "plt.title('Relationship between x and y');"
   ]
  },
  {
   "cell_type": "markdown",
   "metadata": {
    "slideshow": {
     "slide_type": "slide"
    }
   },
   "source": [
    "<a id='RMSE'></a>\n",
    "We need a metric to assess the \"goodness of fit\". \n",
    "\n",
    "\n",
    "We will use the __root mean square error__.\n",
    "\n",
    "\n",
    "\n"
   ]
  },
  {
   "cell_type": "markdown",
   "metadata": {
    "slideshow": {
     "slide_type": "slide"
    }
   },
   "source": [
    "<a id='RootMeanSquareError'></a>\n",
    "## 4.3 Root Mean Square Error (RMSE)\n",
    "\n",
    "A frequently used measure of the differences between values predicted by a model or relationship and the real values. \n",
    "\n",
    "__Error/residual:__ the difference between:\n",
    "- the observed value $y(x)$ at $x$ \n",
    "- the fitted value $a(x)$ at $x$\n",
    "\n",
    "$$\n",
    "\\varepsilon_i = a(x_i) - y(x_i)\n",
    "$$"
   ]
  },
  {
   "cell_type": "markdown",
   "metadata": {
    "slideshow": {
     "slide_type": "slide"
    }
   },
   "source": [
    "For $N$ data points, the *sum* of the squared errors is \n",
    "\n",
    "$$S = \\sum_{i=1}^{N}\\varepsilon_i^2$$\n",
    "\n",
    "The RMSE is computed as\n",
    "\n",
    "$$RMSE=\\sqrt{\\frac{1}{N}S}=\\sqrt{\\frac{1}{N}\\sum_{i=1}^{N}{\\varepsilon_i^2}}$$"
   ]
  },
  {
   "cell_type": "markdown",
   "metadata": {
    "slideshow": {
     "slide_type": "slide"
    }
   },
   "source": [
    "Smaller RMSE indictes a better fit between raw and fitted data. \n",
    "\n",
    "We can optimise the fitted function by minimising the RMSE (sum of the squared errors).\n",
    "\n",
    "Therefore, this optimisation approach is often referred to as the *least squares* approach. "
   ]
  },
  {
   "cell_type": "markdown",
   "metadata": {
    "slideshow": {
     "slide_type": "slide"
    }
   },
   "source": [
    "To find the RMSE of the example above:\n",
    "\n",
    "Error, $\\varepsilon_i = a(x_i) - y_i$\n",
    "\n",
    "RMSE, $E=\\sqrt{\\frac{1}{N}\\sum{\\varepsilon_i^2}}$"
   ]
  },
  {
   "cell_type": "code",
   "execution_count": 141,
   "metadata": {
    "slideshow": {
     "slide_type": "slide"
    }
   },
   "outputs": [],
   "source": [
    "# error\n",
    "e = (yfit - y)\n",
    "\n",
    "# RMSE\n",
    "rmse = np.sqrt(np.sum(e**2)/ len(y))"
   ]
  },
  {
   "cell_type": "markdown",
   "metadata": {
    "slideshow": {
     "slide_type": "slide"
    }
   },
   "source": [
    "Let's compare the RMSE of each fitted line. "
   ]
  },
  {
   "cell_type": "code",
   "execution_count": 14,
   "metadata": {},
   "outputs": [
    {
     "name": "stdout",
     "output_type": "stream",
     "text": [
      "[105.343, 72.99, 110.647, 111.981]\n",
      "The 2 order polynomial gives the lowest error\n"
     ]
    },
    {
     "data": {
      "text/plain": [
       "1"
      ]
     },
     "execution_count": 14,
     "metadata": {},
     "output_type": "execute_result"
    }
   ],
   "source": [
    "RMSE = []\n",
    "\n",
    "\n",
    "for yfit in [yfit1, yfit2, yfit3, yfit4]:\n",
    "    # error\n",
    "    e = (yfit - y)\n",
    "    \n",
    "    # rmse\n",
    "    rmse = np.sqrt(np.sum(e**2)/ len(y))\n",
    "\n",
    "    # RMSE\n",
    "    RMSE.append(round(rmse, 3))\n",
    "\n",
    "    \n",
    "print(RMSE)\n",
    "\n",
    "print(f\"The {np.argmin(RMSE) + 1} order polynomial gives the lowest error\")\n",
    "\n",
    "np.argmin(RMSE)\n",
    "#print(list(enumerate(RMSE, 1)))"
   ]
  },
  {
   "cell_type": "markdown",
   "metadata": {
    "slideshow": {
     "slide_type": "slide"
    }
   },
   "source": [
    "To compare our solutions to the raw data, for *each polynomial* we need to have:\n",
    "1. Found coefficients \n",
    "1. Estimated y values \n",
    "1. Found RMSE \n",
    "1. Compare RMSE values to determine fitted relationship with lowest error"
   ]
  },
  {
   "cell_type": "markdown",
   "metadata": {},
   "source": [
    "We can use __format__ to change how a string is displayed..."
   ]
  },
  {
   "cell_type": "code",
   "execution_count": 33,
   "metadata": {
    "slideshow": {
     "slide_type": "slide"
    }
   },
   "outputs": [
    {
     "name": "stdout",
     "output_type": "stream",
     "text": [
      "0.0123456\n",
      "0.0123456\n",
      "0.0123456\n",
      "1.234560E-02\n",
      "1.23E-02, 2.3E-01\n"
     ]
    }
   ],
   "source": [
    "r = 0.0123456\n",
    "s = 0.2345678\n",
    "\n",
    "# cast as a string\n",
    "print(str(r))\n",
    "print('%s' % r)\n",
    "print('{}'.format(r))\n",
    "\n",
    "# cast as a string, scientific notation\n",
    "print('%E' % r)\n",
    "\n",
    "# specify number of significant figures displayed\n",
    "print('%.2E, %.1E' % (r, s))\n"
   ]
  },
  {
   "cell_type": "markdown",
   "metadata": {
    "collapsed": true,
    "slideshow": {
     "slide_type": "slide"
    }
   },
   "source": [
    "__Note:__ \n",
    "- Matplot lib automatically changes the colour of the line each time you plot. \n",
    "- This is much shorter than repeatedly writig out the code to plot each line of the figure."
   ]
  },
  {
   "cell_type": "markdown",
   "metadata": {
    "slideshow": {
     "slide_type": "slide"
    }
   },
   "source": [
    "<a id='FittingArbitraryFunction'></a>\n",
    "## 4.4 Fitting an Arbitrary Function\n",
    "\n",
    "Curve fitted is not limited to polynomial functions. \n",
    "\n",
    "We can fit any function with unknown constants to the data using the function `curve_fit`.\n",
    "\n"
   ]
  },
  {
   "cell_type": "code",
   "execution_count": 16,
   "metadata": {
    "slideshow": {
     "slide_type": "slide"
    }
   },
   "outputs": [
    {
     "data": {
      "text/plain": [
       "Text(0,0.5,'y')"
      ]
     },
     "execution_count": 16,
     "metadata": {},
     "output_type": "execute_result"
    },
    {
     "data": {
      "image/png": "[encoded data removed]",
      "text/plain": [
       "<Figure size 432x288 with 1 Axes>"
      ]
     },
     "metadata": {},
     "output_type": "display_data"
    }
   ],
   "source": [
    "x = [0.000000000000000000e+00, 1.052631578947368363e+00, 2.105263157894736725e+00, 3.157894736842105310e+00,4.210526315789473450e+00, 5.263157894736841591e+00, 6.315789473684210620e+00,7.368421052631578760e+00,8.421052631578946901e+00,9.473684210526315042e+00,1.052631578947368318e+01,1.157894736842105132e+01,1.263157894736842124e+01,1.368421052631578938e+01,1.473684210526315752e+01, 1.578947368421052566e+01,1.684210526315789380e+01,1.789473684210526372e+01,1.894736842105263008e+01,2.000000000000000000e+01]\n",
    "y = [7.445192947240600745e+01, 4.834835792411828947e+01, 6.873305436340778840e+01, 5.979576407972768948e+01,6.404530772390434379e+01,6.090548420541189500e+01, 7.157546008677115879e+01, 8.620253336570679892e+01, 1.138154622045899913e+02, 8.493639813028174501e+01, 9.783457330550828601e+01, 1.082064229481453594e+02, 1.063876210674365979e+02, 1.001971993955305038e+02, 1.061496321788094832e+02, 1.279575585921491836e+02, 1.556956405962417875e+02, 1.584164804859289859e+02, 1.753888794716459358e+02, 1.980941276403034124e+02]\n",
    "x = np.array(x)\n",
    "y = np.array(y)\n",
    "\n",
    "plt.plot(x, y, 'o')\n",
    "plt.xlabel('x')\n",
    "plt.ylabel('y')"
   ]
  },
  {
   "cell_type": "markdown",
   "metadata": {
    "slideshow": {
     "slide_type": "slide"
    }
   },
   "source": [
    "There are many Python functions for curve fitting. \n",
    "\n",
    "The function `curve_fit` can be used to fit a user-defined fuction. \n",
    "\n",
    "We first define a function that we want to fit e.g.\n",
    "$$y = a e^{bx}$$"
   ]
  },
  {
   "cell_type": "markdown",
   "metadata": {
    "slideshow": {
     "slide_type": "slide"
    }
   },
   "source": [
    "\n",
    "We write the function in the following format. \n",
    "\n",
    "We will learn more about this format when we study user-defined functions. "
   ]
  },
  {
   "cell_type": "code",
   "execution_count": 17,
   "metadata": {
    "slideshow": {
     "slide_type": "-"
    }
   },
   "outputs": [],
   "source": [
    "def exponential(x, a, b): # function name and inputs\n",
    "    y = a * np.exp(b*x)   # function\n",
    "    return y              # output"
   ]
  },
  {
   "cell_type": "markdown",
   "metadata": {
    "slideshow": {
     "slide_type": "slide"
    }
   },
   "source": [
    "`curve_fit` takes three input arguments:\n",
    " - the function to fit (in the format above)\n",
    " - the independent variable\n",
    " - the dependent variable\n",
    " \n",
    "<br>\n",
    "`curve_fit` returns two arguments:\n",
    " - an array with the optimised parameters\n",
    " - the covariance of the parameters (a statistical measure of accuracy)"
   ]
  },
  {
   "cell_type": "code",
   "execution_count": 19,
   "metadata": {
    "slideshow": {
     "slide_type": "slide"
    }
   },
   "outputs": [
    {
     "name": "stdout",
     "output_type": "stream",
     "text": [
      "[50.37326384  0.06404748] [[ 1.60311384e+01 -1.97772059e-02]\n",
      " [-1.97772059e-02  2.75906651e-05]]\n"
     ]
    }
   ],
   "source": [
    "from scipy.optimize import curve_fit\n",
    "\n",
    "opt, cov = curve_fit(exponential, x, y)\n",
    "\n",
    "# fitted data, any number of parameters is allowable\n",
    "yfit = exponential(x, *opt)\n",
    "\n",
    "\n",
    "# error\n",
    "e = (yfit - y)\n",
    "\n",
    "\n",
    "# RMSE\n",
    "rmse = np.sqrt(np.sum(e**2)/ len(y))\n",
    "\n",
    "\n",
    "# show the optimised parameters\n",
    "print(f'RMSE = {round(rmse,3)}')"
   ]
  },
  {
   "cell_type": "code",
   "execution_count": 166,
   "metadata": {
    "slideshow": {
     "slide_type": "slide"
    }
   },
   "outputs": [
    {
     "data": {
      "image/png": "[encoded data removed]",
      "text/plain": [
       "<Figure size 432x288 with 1 Axes>"
      ]
     },
     "metadata": {},
     "output_type": "display_data"
    }
   ],
   "source": [
    "plt.plot(x, y,     'o', label='raw data')\n",
    "plt.plot(x, y_fit, 'r', label= f'y = {round(opt[0],3)} * e**({round(opt[1],3)}*x)')\n",
    "\n",
    "# display the label \n",
    "plt.legend(bbox_to_anchor=(1,1), loc=\"upper left\")\n",
    "\n",
    "\n",
    "# label the axes\n",
    "plt.xlabel('x')\n",
    "plt.ylabel('y')\n",
    "\n",
    "\n",
    "# add a title \n",
    "plt.title('Relationship between x and y');"
   ]
  },
  {
   "cell_type": "markdown",
   "metadata": {
    "slideshow": {
     "slide_type": "slide"
    }
   },
   "source": [
    "<a id='Interpolation'></a>\n",
    "# 5. Interpolation\n",
    "\n",
    "\n",
    "<br> &emsp;&emsp; <a href='#LinearInterpolation'>5.1 Linear Interpolation</a> \n",
    "<br> &emsp;&emsp; <a href='#PolynomialInterpolation'>5.2 Polynomial Interpolation</a>\n",
    "<br> &emsp;&emsp; <a href='#InverseQuestion'>5.3 The Inverse Question</a> \n",
    "<br> &emsp;&emsp; <a href='#PolynomialSplineCurveInterpolation'>5.4 Polynomial Spline Curve Interpolation</a> \n",
    "\n",
    "\n",
    "            \n",
    ">*Interpolation: <br>A method of constructing new data points within the range of a discrete set of known data points.*\n",
    "\n",
    "In engineering and science, we often has a number of data points, obtained by sampling or experimentation, which represent the values of a function for a limited number of values of the independent variable. \n",
    "\n",
    "For example, in a lab experiment, a parameter is recorded at time=1 and time=2.\n",
    "\n",
    "We can *interpolate* to find the value at time=1.2.  "
   ]
  },
  {
   "cell_type": "markdown",
   "metadata": {
    "slideshow": {
     "slide_type": "slide"
    }
   },
   "source": [
    "The interpolation method refers to the eqation of the line fitted between to data points to estimate the value of intermediate data points. \n",
    "\n",
    "<img src=\"img/polynomial_interpolation.jpg\" alt=\"Drawing\" style=\"width: 400px;\"/>\n",
    "\n",
    "\n",
    "\n",
    "*MA2213 Lecture 2 Interpolation : https://slideplayer.com/slide/9450433/*"
   ]
  },
  {
   "cell_type": "markdown",
   "metadata": {
    "slideshow": {
     "slide_type": "slide"
    }
   },
   "source": [
    "Interpolation may be:\n",
    "- constant (a single fuction is fitted to all points)\n",
    "- piecewise (a function is fitted between each neighbouring pair of points)"
   ]
  },
  {
   "cell_type": "markdown",
   "metadata": {},
   "source": [
    "<table>\n",
    "    <tr>\n",
    "        <th></th>\n",
    "        <th></th>\n",
    "    </tr>\n",
    "    <tr>\n",
    "        <td><img src='img/polynomial_interp.png' style=\"width: 300px;\"> </td>\n",
    "        <td><img src='img/piecewie_interp.png' style=\"width: 300px;\"> </td> \n",
    "    </tr>\n",
    "    <tr>\n",
    "        <td>Constant Interpolation</td>\n",
    "        <td>Piecewise Interpolation</td> \n",
    "    </tr>\n",
    "</table>"
   ]
  },
  {
   "cell_type": "markdown",
   "metadata": {
    "slideshow": {
     "slide_type": "slide"
    }
   },
   "source": [
    "<a id='LinearInterpolation'></a>\n",
    "## 5.1 Linear Interpolation\n",
    "\n",
    "\n",
    "\n",
    "\n",
    "If two known points are given by the coordinates $(x_{0},y_{0})$ and  $(x_{1},y_{1})$, the *linear interpolant* is the straight line between these points. \n",
    "\n",
    " \n",
    "\n",
    "<img src=\"img/LinearInterpolation.svg\" alt=\"Drawing\" style=\"width: 200px;\"/>\n",
    "\n",
    "\n"
   ]
  },
  {
   "cell_type": "markdown",
   "metadata": {
    "slideshow": {
     "slide_type": "slide"
    }
   },
   "source": [
    "For a value x in the interval $(x_{0},x_{1})$, the value y along the straight line connecting the two known points is found from the equation for the gradient of the straight line:\n",
    "\n",
    "$$\\frac{y - y_0}{x - x_0} = \\frac{y_1 - y_0}{x_1 - x_0}$$\n",
    "\n",
    "Re-arranging gives:\n",
    "\n",
    "$$y = \\frac{y_0 (x_1 - x) + y_1(x - x_0)}{x_1 - x_0}$$"
   ]
  },
  {
   "cell_type": "markdown",
   "metadata": {
    "slideshow": {
     "slide_type": "slide"
    }
   },
   "source": [
    "<a id='PolynomialInterpolation'></a>\n",
    "# 5.2 Polynomial Interpolation\n",
    "\n",
    "\n",
    "Interpolation of a given data set by the polynomial of lowest possible degree that passes through the points of the dataset.\n",
    "\n",
    "\n",
    "\n",
    "<img src='img/polynomial_interp.png' style=\"width: 300px;\">"
   ]
  },
  {
   "cell_type": "markdown",
   "metadata": {
    "slideshow": {
     "slide_type": "slide"
    }
   },
   "source": [
    "Suppose we have some $x, y$ data:\n"
   ]
  },
  {
   "cell_type": "code",
   "execution_count": 20,
   "metadata": {
    "slideshow": {
     "slide_type": "-"
    }
   },
   "outputs": [
    {
     "data": {
      "text/plain": [
       "Text(0,0.5,'y')"
      ]
     },
     "execution_count": 20,
     "metadata": {},
     "output_type": "execute_result"
    },
    {
     "data": {
      "image/png": "[encoded data removed]",
      "text/plain": [
       "<Figure size 432x288 with 1 Axes>"
      ]
     },
     "metadata": {},
     "output_type": "display_data"
    }
   ],
   "source": [
    "x = np.array([0.5,1,3,4])\n",
    "y = np.array([1.648,  2.718, 20.086, 54.598])\n",
    "plt.plot(x, y, 'ko')\n",
    "plt.xlabel('x')\n",
    "plt.ylabel('y')\n"
   ]
  },
  {
   "cell_type": "markdown",
   "metadata": {
    "slideshow": {
     "slide_type": "slide"
    }
   },
   "source": [
    "Estimate the value of $y$ at $x=2$.\n",
    "\n",
    "This is a simple interpolation problem."
   ]
  },
  {
   "cell_type": "markdown",
   "metadata": {},
   "source": [
    "__Spline__ : a function that is defined piecewise by polynomials.\n",
    "\n",
    "We will investigate two methods of piecewise interpolation using python:\n",
    "\n",
    "__Method 1 : `interp1d`__\n",
    "- Piecewise interpolation\n",
    "- Default interpolation method is linear alternative types can be selected: `linear` `nearest`(nearest neighbour)...\n",
    "- Types `zero`, `slinear`, `quadratic`, `cubic` are spline curves of zeroth, first, second or third order)\n",
    "\n",
    "\n",
    "\n",
    "<img src='img/interpolation_types.jpg' style=\"width: 300px;\">\n",
    "\n",
    "\n",
    "__Method 2 : `splrep` and `splev`__\n",
    "- Spline (piecewise polynomial) interpolation .\n",
    "- The order of the polynomial is selected (higher order polynomial possible than with `interp1d`).\n",
    "- The cofficients of the polynomial that describes the line between each pair of points can be found. \n",
    "\n",
    "\n",
    "<br>__Requirement__ : the independent variable must be *monotonically increasing*."
   ]
  },
  {
   "cell_type": "code",
   "execution_count": 21,
   "metadata": {
    "slideshow": {
     "slide_type": "slide"
    }
   },
   "outputs": [],
   "source": [
    "from scipy.interpolate import interp1d\n",
    "from scipy.interpolate import splrep\n",
    "from scipy.interpolate import splev"
   ]
  },
  {
   "cell_type": "markdown",
   "metadata": {
    "slideshow": {
     "slide_type": "slide"
    }
   },
   "source": [
    "By generating (and plotting) the interpolated solutions computationally, we can assess the accuracy of the solution."
   ]
  },
  {
   "cell_type": "code",
   "execution_count": 277,
   "metadata": {
    "slideshow": {
     "slide_type": "slide"
    }
   },
   "outputs": [],
   "source": [
    "# Sample data\n",
    "x = np.array([0.5,1,3,4])\n",
    "y = np.array([1.648,  2.718, 20.086, 54.598])"
   ]
  },
  {
   "cell_type": "code",
   "execution_count": 22,
   "metadata": {
    "slideshow": {
     "slide_type": "-"
    }
   },
   "outputs": [],
   "source": [
    "# Method 1 : Linear Interpolation\n",
    "from scipy.interpolate import interp1d\n",
    "interp = interp1d(x, y, 'linear') # type = ‘linear’, ‘nearest’, ‘zero’, ‘cubic’...\n",
    "\n",
    "\n",
    "# Method 2 : Ploynomial Interpolation\n",
    "# from scipy.interpolate import splrep\n",
    "# from scipy.interpolate import splev\n",
    "# order_poly = 3\n",
    "# interp = splrep(x, y, k=order_poly)\n"
   ]
  },
  {
   "cell_type": "code",
   "execution_count": 279,
   "metadata": {
    "slideshow": {
     "slide_type": "slide"
    }
   },
   "outputs": [
    {
     "data": {
      "text/plain": [
       "<matplotlib.legend.Legend at 0x1a25f01a20>"
      ]
     },
     "execution_count": 279,
     "metadata": {},
     "output_type": "execute_result"
    },
    {
     "data": {
      "image/png": "[encoded data removed]",
      "text/plain": [
       "<Figure size 432x288 with 1 Axes>"
      ]
     },
     "metadata": {},
     "output_type": "display_data"
    }
   ],
   "source": [
    "# plot the original data \n",
    "plt.plot(x, y, 'ko', label='original data')\n",
    "\n",
    "# interpolated x data\n",
    "x_i = np.linspace(0.5, 4, 200)   # create a finer range : start value, end value, no. of samples\n",
    "\n",
    "# plot the interpolated data\n",
    "plt.plot(x_i, interp(x_i), 'r--', label='interpolated function') # Method 1 : Linear Interpolation\n",
    "#plt.plot(x_i, splev(x_i, interp), 'r--', label='interpolation') # Method 2 : Polynomail interpolation\n",
    "\n",
    "\n",
    "plt.xlabel('X')\n",
    "plt.ylabel('Y')\n",
    "plt.legend()\n"
   ]
  },
  {
   "cell_type": "markdown",
   "metadata": {
    "slideshow": {
     "slide_type": "slide"
    }
   },
   "source": [
    "The data points are taken from the function:\n",
    "\n",
    "$y(x) = e^x$ \n"
   ]
  },
  {
   "cell_type": "code",
   "execution_count": 280,
   "metadata": {
    "scrolled": false,
    "slideshow": {
     "slide_type": "-"
    }
   },
   "outputs": [
    {
     "data": {
      "text/plain": [
       "<matplotlib.legend.Legend at 0x1a25d63c88>"
      ]
     },
     "execution_count": 280,
     "metadata": {},
     "output_type": "execute_result"
    },
    {
     "data": {
      "image/png": "[encoded data removed]",
      "text/plain": [
       "<Figure size 432x288 with 1 Axes>"
      ]
     },
     "metadata": {},
     "output_type": "display_data"
    }
   ],
   "source": [
    "# plot the original data \n",
    "plt.plot(x, y, 'ko', label='original data')\n",
    "\n",
    "# plot the interpolated data\n",
    "plt.plot(x_i, interp(x_i), 'r--', label='interpolated ') # Method 1 : Linear Interpolation\n",
    "\n",
    "# function data\n",
    "plt.plot(x_i, np.exp(x_i), 'k--', label='y = e^x')\n",
    "\n",
    "plt.legend()"
   ]
  },
  {
   "cell_type": "markdown",
   "metadata": {
    "slideshow": {
     "slide_type": "slide"
    }
   },
   "source": [
    "We can improve the fit by changing the *type* of interpolation specified as an argument when calling the `interp1d` function. "
   ]
  },
  {
   "cell_type": "markdown",
   "metadata": {},
   "source": [
    "Here is the data fitted with a cubic function using Method 1:"
   ]
  },
  {
   "cell_type": "code",
   "execution_count": 23,
   "metadata": {
    "slideshow": {
     "slide_type": "-"
    }
   },
   "outputs": [],
   "source": [
    "# Method 1 : Linear Interpolation\n",
    "from scipy.interpolate import interp1d\n",
    "interp = interp1d(x, y, 'cubic') # type = ‘linear’, ‘nearest’, ‘zero’, ‘cubic’...\n",
    "\n",
    "\n",
    "# # Method 2 : Ploynomial Interpolation\n",
    "# from scipy.interpolate import splrep\n",
    "# from scipy.interpolate import splev\n",
    "# order_poly = 3\n",
    "# interp = splrep(x, y, k=order_poly)\n"
   ]
  },
  {
   "cell_type": "code",
   "execution_count": 282,
   "metadata": {
    "scrolled": true,
    "slideshow": {
     "slide_type": "slide"
    }
   },
   "outputs": [
    {
     "data": {
      "text/plain": [
       "<matplotlib.legend.Legend at 0x1a2648a0b8>"
      ]
     },
     "execution_count": 282,
     "metadata": {},
     "output_type": "execute_result"
    },
    {
     "data": {
      "image/png": "[encoded data removed]",
      "text/plain": [
       "<Figure size 432x288 with 1 Axes>"
      ]
     },
     "metadata": {},
     "output_type": "display_data"
    }
   ],
   "source": [
    "# plot the original data \n",
    "plt.plot(x, y, 'ko', label='original data')\n",
    "\n",
    "# interpolated x data\n",
    "x_i = np.linspace(0.5, 4, 200)   # create a finer range : start value, end value, no. of samples\n",
    "\n",
    "# plot the interpolated data\n",
    "plt.plot(x_i, interp(x_i), 'r--', label='interpolated function') # Method 1 : Linear Interpolation\n",
    "#plt.plot(x_i, splev(x_i, interp), 'r--', label='interpolation') # Method 2 : Polynomial interpolation\n",
    "\n",
    "\n",
    "plt.xlabel('X')\n",
    "plt.ylabel('Y')\n",
    "plt.legend()\n"
   ]
  },
  {
   "cell_type": "markdown",
   "metadata": {
    "slideshow": {
     "slide_type": "slide"
    }
   },
   "source": [
    "Example:\n",
    "\n",
    "Find the value of $y$ when $x=2$ using:\n",
    "- $y(x) = e^x$ \n",
    "- The cubic interpolated function"
   ]
  },
  {
   "cell_type": "code",
   "execution_count": 24,
   "metadata": {},
   "outputs": [
    {
     "name": "stdout",
     "output_type": "stream",
     "text": [
      "7.38905609893065\n",
      "6.216514285714284\n"
     ]
    }
   ],
   "source": [
    "# e^2\n",
    "print(np.exp(2))\n",
    "\n",
    "# interpolated value\n",
    "print(interp(2))"
   ]
  },
  {
   "cell_type": "markdown",
   "metadata": {
    "slideshow": {
     "slide_type": "slide"
    }
   },
   "source": [
    "<a id='InverseQuestion'></a>\n",
    "## 5.3 The Inverse Question\n",
    " \n",
    "\n",
    "\n",
    "\n",
    "What if we want to know the value of x at which y=3? \n",
    "\n",
    "We can switch the order of the interpolation to solve this problem. \n",
    "\n"
   ]
  },
  {
   "cell_type": "markdown",
   "metadata": {
    "slideshow": {
     "slide_type": "slide"
    }
   },
   "source": [
    "__Note__\n",
    "<br>One requirement is that the independent variable must be *monotonically increasing*.\n",
    "\n",
    "This means that simply switching the order of x and y will generates an error *if* y does not increase monotonically with x. "
   ]
  },
  {
   "cell_type": "code",
   "execution_count": 292,
   "metadata": {},
   "outputs": [],
   "source": [
    "tmp = sorted(zip(y, x)) \n",
    "y = [t[0] for t in tmp]\n",
    "x = [t[1] for t in tmp]\n",
    "\n",
    "# convert x and y to numpy array \n",
    "x = np.asarray(x)\n",
    "y = np.asarray(y)"
   ]
  },
  {
   "cell_type": "code",
   "execution_count": 25,
   "metadata": {
    "slideshow": {
     "slide_type": "slide"
    }
   },
   "outputs": [],
   "source": [
    "# Method 1 : Linear Interpolation\n",
    "from scipy.interpolate import interp1d\n",
    "interp = interp1d(y, x, 'cubic') # type = ‘linear’, ‘nearest’, ‘zero’, ‘cubic’...\n",
    "\n",
    "\n",
    "# # Method 2 : Ploynomial Interpolation\n",
    "# from scipy.interpolate import splrep\n",
    "# from scipy.interpolate import splev\n",
    "# order_poly = 2\n",
    "# interp = splrep(y, x, k=order_poly)\n"
   ]
  },
  {
   "cell_type": "code",
   "execution_count": 26,
   "metadata": {
    "slideshow": {
     "slide_type": "slide"
    }
   },
   "outputs": [
    {
     "data": {
      "text/plain": [
       "<matplotlib.legend.Legend at 0x1315fcf6d8>"
      ]
     },
     "execution_count": 26,
     "metadata": {},
     "output_type": "execute_result"
    },
    {
     "data": {
      "image/png": "[encoded data removed]",
      "text/plain": [
       "<Figure size 432x288 with 1 Axes>"
      ]
     },
     "metadata": {},
     "output_type": "display_data"
    }
   ],
   "source": [
    "# plot the original data \n",
    "plt.plot(y, x, 'ko', label='original data')\n",
    "\n",
    "# interpolated x data\n",
    "y_i = np.linspace(2, 50, 200)   # create a finer range : start value, end value, no. of samples\n",
    "\n",
    "# plot the interpolated data\n",
    "plt.plot(y_i, interp(y_i), 'r--', label='interpolated function') # Method 1 : Linear Interpolation\n",
    "#plt.plot(y_i, splev(y_i, interp), 'r--', label='interpolation') # Method 2 : Polynomail interpolation\n",
    "\n",
    "\n",
    "plt.xlabel('Y')\n",
    "plt.ylabel('X')\n",
    "plt.legend()"
   ]
  },
  {
   "cell_type": "markdown",
   "metadata": {
    "slideshow": {
     "slide_type": "slide"
    }
   },
   "source": [
    "Example:\n",
    "\n",
    "Find the value of $x$ when $y=3$ using:\n",
    "- $x(y) = ln(y)$ \n",
    "- The cubic interpolated function"
   ]
  },
  {
   "cell_type": "code",
   "execution_count": 27,
   "metadata": {
    "slideshow": {
     "slide_type": "slide"
    }
   },
   "outputs": [
    {
     "name": "stdout",
     "output_type": "stream",
     "text": [
      "1.0986122886681098\n"
     ]
    },
    {
     "data": {
      "text/plain": [
       "array(1.12234894)"
      ]
     },
     "execution_count": 27,
     "metadata": {},
     "output_type": "execute_result"
    }
   ],
   "source": [
    "# actual function\n",
    "print(np.log(3))\n",
    "\n",
    "#interpolation\n",
    "interp(3)\n",
    "# func = splrep(y, x, k=2)\n",
    "# print(splev(3, func))\n"
   ]
  },
  {
   "cell_type": "markdown",
   "metadata": {
    "slideshow": {
     "slide_type": "slide"
    }
   },
   "source": [
    "<a id='PolynomialSplineCurveInterpolation'></a>\n",
    "## 5.4 Polynomial Spline Curve Interpolation\n",
    "\n",
    "\n",
    "\n",
    "\n",
    "__Method 2 : `splrep` and `splev`__\n",
    "- Piecewise *polynomial* interpolation `interp1d`.\n",
    "- The order of the polynomial is selected (higher order polynomial possible than with \n",
    "- The cofficients of the polynomial that describes the line between each pair of points can be found."
   ]
  },
  {
   "cell_type": "markdown",
   "metadata": {},
   "source": [
    "`splrep` : Returns polynomial functions.   \n",
    "\n",
    "`splev` : Coordinates defining the polynomial curve."
   ]
  },
  {
   "cell_type": "code",
   "execution_count": 300,
   "metadata": {
    "slideshow": {
     "slide_type": "slide"
    }
   },
   "outputs": [],
   "source": [
    "# sample data\n",
    "x = [0.000000000000000000e+00, 1.052631578947368363e+00, 2.105263157894736725e+00, 3.157894736842105310e+00,4.210526315789473450e+00, 5.263157894736841591e+00, 6.315789473684210620e+00,7.368421052631578760e+00,8.421052631578946901e+00,9.473684210526315042e+00,1.052631578947368318e+01,1.157894736842105132e+01,1.263157894736842124e+01,1.368421052631578938e+01,1.473684210526315752e+01, 1.578947368421052566e+01,1.684210526315789380e+01,1.789473684210526372e+01,1.894736842105263008e+01,2.000000000000000000e+01]\n",
    "y = [7.445192947240600745e+01, 4.834835792411828947e+01, 6.873305436340778840e+01, 5.979576407972768948e+01,6.404530772390434379e+01,6.090548420541189500e+01, 7.157546008677115879e+01, 8.620253336570679892e+01, 1.138154622045899913e+02, 8.493639813028174501e+01, 9.783457330550828601e+01, 1.082064229481453594e+02, 1.063876210674365979e+02, 1.001971993955305038e+02, 1.061496321788094832e+02, 1.279575585921491836e+02, 1.556956405962417875e+02, 1.584164804859289859e+02, 1.753888794716459358e+02, 1.980941276403034124e+02]"
   ]
  },
  {
   "cell_type": "code",
   "execution_count": 35,
   "metadata": {
    "slideshow": {
     "slide_type": "-"
    }
   },
   "outputs": [],
   "source": [
    "# Method 1 : Linear Interpolation\n",
    "# from scipy.interpolate import interp1d\n",
    "# interp = interp1d(x, y, 'linear') # type = ‘linear’, ‘nearest’, ‘zero’, ‘cubic’...\n",
    "\n",
    "\n",
    "# Method 2 : Ploynomial Interpolation\n",
    "from scipy.interpolate import splrep\n",
    "from scipy.interpolate import splev\n",
    "order_poly = 3\n",
    "interp = splrep(x, y, k=order_poly)\n"
   ]
  },
  {
   "cell_type": "code",
   "execution_count": 36,
   "metadata": {
    "slideshow": {
     "slide_type": "slide"
    }
   },
   "outputs": [
    {
     "data": {
      "text/plain": [
       "<matplotlib.legend.Legend at 0x1316103e48>"
      ]
     },
     "execution_count": 36,
     "metadata": {},
     "output_type": "execute_result"
    },
    {
     "data": {
      "image/png": "[encoded data removed]",
      "text/plain": [
       "<Figure size 432x288 with 1 Axes>"
      ]
     },
     "metadata": {},
     "output_type": "display_data"
    }
   ],
   "source": [
    "# plot the original data \n",
    "plt.plot(x, y, 'ko', label='original data')\n",
    "\n",
    "# interpolated x data\n",
    "x_i = np.linspace(0, 20, 200)   # create a finer range : start value, end value, no. of samples\n",
    "\n",
    "# plot the interpolated data\n",
    "#plt.plot(x_i, interp(x_i), 'r--', label='interpolated function') # Method 1 : Linear Interpolation\n",
    "plt.plot(x_i, splev(x_i, interp), 'r--', label='interpolation') # Method 2 : Polynomail interpolation\n",
    "\n",
    "\n",
    "plt.xlabel('X')\n",
    "plt.ylabel('Y')\n",
    "plt.legend()\n"
   ]
  },
  {
   "cell_type": "markdown",
   "metadata": {
    "slideshow": {
     "slide_type": "slide"
    }
   },
   "source": [
    "The coefficients of the piecwise polynomial curves:"
   ]
  },
  {
   "cell_type": "code",
   "execution_count": 38,
   "metadata": {},
   "outputs": [
    {
     "ename": "NameError",
     "evalue": "name 'scipy' is not defined",
     "output_type": "error",
     "traceback": [
      "\u001b[0;31m---------------------------------------------------------------------------\u001b[0m",
      "\u001b[0;31mNameError\u001b[0m                                 Traceback (most recent call last)",
      "\u001b[0;32m<ipython-input-38-e2a049261bc5>\u001b[0m in \u001b[0;36m<module>\u001b[0;34m()\u001b[0m\n\u001b[1;32m      1\u001b[0m \u001b[0;31m# coefficients that define ppolynomial curve\u001b[0m\u001b[0;34m\u001b[0m\u001b[0;34m\u001b[0m\u001b[0m\n\u001b[0;32m----> 2\u001b[0;31m \u001b[0mF\u001b[0m   \u001b[0;34m=\u001b[0m \u001b[0mscipy\u001b[0m\u001b[0;34m.\u001b[0m\u001b[0minterpolate\u001b[0m\u001b[0;34m.\u001b[0m\u001b[0mPPoly\u001b[0m\u001b[0;34m.\u001b[0m\u001b[0mfrom_spline\u001b[0m\u001b[0;34m(\u001b[0m\u001b[0minterp\u001b[0m\u001b[0;34m)\u001b[0m\u001b[0;34m\u001b[0m\u001b[0m\n\u001b[0m\u001b[1;32m      3\u001b[0m \u001b[0;31m# break points or knots\u001b[0m\u001b[0;34m\u001b[0m\u001b[0;34m\u001b[0m\u001b[0m\n\u001b[1;32m      4\u001b[0m \u001b[0;31m#print(F.x)\u001b[0m\u001b[0;34m\u001b[0m\u001b[0;34m\u001b[0m\u001b[0m\n\u001b[1;32m      5\u001b[0m \u001b[0;31m# coefficients at breakpoints\u001b[0m\u001b[0;34m\u001b[0m\u001b[0;34m\u001b[0m\u001b[0m\n",
      "\u001b[0;31mNameError\u001b[0m: name 'scipy' is not defined"
     ]
    }
   ],
   "source": [
    "# coefficients that define ppolynomial curve\n",
    "F   = scipy.interpolate.PPoly.from_spline(interp)\n",
    "# break points or knots\n",
    "#print(F.x)\n",
    "# coefficients at breakpoints\n",
    "print(F.c)"
   ]
  },
  {
   "cell_type": "markdown",
   "metadata": {
    "slideshow": {
     "slide_type": "slide"
    }
   },
   "source": [
    "Individual values on the interpolated curve can be found:"
   ]
  },
  {
   "cell_type": "code",
   "execution_count": 307,
   "metadata": {},
   "outputs": [
    {
     "name": "stdout",
     "output_type": "stream",
     "text": [
      "61.035695728163816\n"
     ]
    }
   ],
   "source": [
    "# find the interpolated value at x = 3\n",
    "print(splev(3, interp))"
   ]
  },
  {
   "cell_type": "markdown",
   "metadata": {
    "slideshow": {
     "slide_type": "slide"
    }
   },
   "source": [
    "<a id='BarChartsHistograms'></a>\n",
    "# 6. Bar Charts and Histograms\n",
    "\n",
    "\n",
    "<br> &emsp;&emsp; <a href='#BarCharts'>6.1 Bar Charts</a> \n",
    "<br> &emsp;&emsp; <a href='#Histograms'>6.2 Histograms</a>\n",
    "     \n"
   ]
  },
  {
   "cell_type": "markdown",
   "metadata": {
    "slideshow": {
     "slide_type": "slide"
    }
   },
   "source": [
    "<a id='BarCharts'></a>     \n",
    "## 6.1 Bar Charts\n",
    "\n",
    "To represent data as a bar chart, for example, the number of students in each year of a degree program:\n",
    "```python\n",
    "year_groups = ('B1', 'B2', 'B3', 'M1', 'M2')\n",
    "num_students = (500, 332, 425, 300, 200)\n",
    "```\n",
    "1. Create an array of the position of each bar along the x-axis\n",
    "1. Produce bar plot of data vs position on x axis \n",
    "1. Replace the x ticks with the field name\n",
    "1. Add axis labels "
   ]
  },
  {
   "cell_type": "code",
   "execution_count": 308,
   "metadata": {
    "slideshow": {
     "slide_type": "slide"
    }
   },
   "outputs": [],
   "source": [
    "#sample data\n",
    "year_groups = ('B1', 'B2', 'B3', 'M1', 'M2')\n",
    "num_students = (500, 332, 425, 300, 200)"
   ]
  },
  {
   "cell_type": "code",
   "execution_count": 309,
   "metadata": {
    "slideshow": {
     "slide_type": "-"
    }
   },
   "outputs": [
    {
     "data": {
      "image/png": "[encoded data removed]",
      "text/plain": [
       "<Figure size 432x288 with 1 Axes>"
      ]
     },
     "metadata": {},
     "output_type": "display_data"
    }
   ],
   "source": [
    "# 1. Create an array with the position of each bar along the x-axis\n",
    "x_pos = np.arange(len(year_groups))\n",
    "\n",
    "# 2. Produce bar plot\n",
    "plt.bar(x_pos, num_students);\n",
    "\n",
    "# 3. Replace the x ticks with the year group name\n",
    "# Rotate labels 30 degrees\n",
    "plt.xticks(x_pos, year_groups, rotation=30);\n",
    "\n",
    "# 4. Add axis labels \n",
    "plt.xlabel('year group');\n",
    "plt.ylabel('number of students');\n"
   ]
  },
  {
   "cell_type": "markdown",
   "metadata": {
    "slideshow": {
     "slide_type": "slide"
    }
   },
   "source": [
    "<a id='Histograms'></a>\n",
    "## 6.2 Histograms\n",
    "\n",
    "We can visualise the distribution of the values using a histogram.\n",
    "\n",
    "In a histogram, data is sorted into intervals (bins) along the horizontal axis. \n",
    "\n",
    "The number of values that fall within a 'bin' is then displayed on the vertical axis."
   ]
  },
  {
   "cell_type": "markdown",
   "metadata": {
    "slideshow": {
     "slide_type": "slide"
    }
   },
   "source": [
    "To create a histogram we first need a data set. \n",
    "\n",
    "For example we can use Numpy to generate a data set with:\n",
    "- 4000 random values\n",
    "- a mean value of zero \n",
    "- a standard deviation of 1\n",
    "- a __normal__ (Gaussian) distribution (bell curve with 68% percent of values within one standard deviation of the mean)\n",
    "\n",
    "\n",
    "__Standard deviation__ : The square root of the variance\n",
    "(Low standard deviation = values are close to the mean)\n",
    "\n",
    "$$\\sigma=\\sqrt{\\frac{1}{N}\\sum_{i=1}^{N}{(x_i-\\bar{x})^2}}$$\n",
    "\n",
    "__Variance__ : The average of the squared differences from the mean\n",
    "\n",
    "$$\\frac{1}{N}\\sum_{i=1}^{N}{(x_i-\\bar{x})^2}$$"
   ]
  },
  {
   "cell_type": "code",
   "execution_count": 39,
   "metadata": {
    "slideshow": {
     "slide_type": "slide"
    }
   },
   "outputs": [],
   "source": [
    "# loc=mean, scale=stddev, size=num samples\n",
    "x = np.random.normal(loc=0.0, scale=1.0, size=4000)  \n"
   ]
  },
  {
   "cell_type": "markdown",
   "metadata": {
    "slideshow": {
     "slide_type": "slide"
    }
   },
   "source": [
    "We can visualise how `x` is distributed, using 20 bins. \n",
    "\n",
    "Matplotlib creates 20 bins of equal width, and computes the number of entries in each bin. "
   ]
  },
  {
   "cell_type": "code",
   "execution_count": 52,
   "metadata": {},
   "outputs": [
    {
     "data": {
      "text/plain": [
       "Text(0,0.5,'frequency')"
      ]
     },
     "execution_count": 52,
     "metadata": {},
     "output_type": "execute_result"
    },
    {
     "data": {
      "image/png": "[encoded data removed]",
      "text/plain": [
       "<Figure size 432x288 with 1 Axes>"
      ]
     },
     "metadata": {},
     "output_type": "display_data"
    }
   ],
   "source": [
    "# Produce histogram with 20 bins\n",
    "n, bins, patches = plt.hist(x, 20, facecolor='green');\n",
    "\n",
    "# Add label\n",
    "plt.xlabel('value')\n",
    "plt.ylabel('frequency')\n",
    "\n"
   ]
  },
  {
   "cell_type": "markdown",
   "metadata": {
    "slideshow": {
     "slide_type": "slide"
    }
   },
   "source": [
    "To view a list of:\n",
    "- the bin intervals\n",
    "- the number of values in each bin. "
   ]
  },
  {
   "cell_type": "code",
   "execution_count": 53,
   "metadata": {
    "slideshow": {
     "slide_type": "slide"
    }
   },
   "outputs": [
    {
     "name": "stdout",
     "output_type": "stream",
     "text": [
      "[-4.05120964 -3.67385735 -3.29650506 -2.91915277 -2.54180048 -2.16444819\n",
      " -1.7870959  -1.40974361 -1.03239132 -0.65503903 -0.27768674  0.09966555\n",
      "  0.47701784  0.85437013  1.23172242  1.6090747   1.98642699  2.36377928\n",
      "  2.74113157  3.11848386  3.49583615]\n"
     ]
    }
   ],
   "source": [
    "print(bins)\n"
   ]
  },
  {
   "cell_type": "markdown",
   "metadata": {
    "slideshow": {
     "slide_type": "slide"
    }
   },
   "source": [
    "__Try it yourself__\n",
    "<br>In the example above try changing the number of bins and run the cells again to see the change in the bin intervals and number of values in ech bin. "
   ]
  },
  {
   "cell_type": "markdown",
   "metadata": {
    "slideshow": {
     "slide_type": "slide"
    }
   },
   "source": [
    "# Summary\n",
    "<a id='Summary'></a>\n",
    "- Matplotlib can be used to produce a wide range of styles of figures and plots of your data.\n",
    "- The matplotlib library can be used to quicky produce simple plots to visualise and check your solutions to mathematical problems.\n",
    "- This includes fitting a curve or a relationship to data imported from a delimted text file.\n",
    "- Simple line and scatter plots can be customised using a `formatstring`\n",
    "- Additional features such as a figure legend and axis labels can be set as arguments when creating plots.\n"
   ]
  },
  {
   "cell_type": "markdown",
   "metadata": {
    "slideshow": {
     "slide_type": "slide"
    }
   },
   "source": [
    "<a id='ReviewExercises'></a>\n",
    "# 7. Review Exercises\n",
    "\n",
    "Compete the exercises below.\n",
    "\n",
    "Save your answers as .py files and email them to:\n",
    "<br>philamore.hemma.5s@kyoto-u.ac.jp"
   ]
  },
  {
   "cell_type": "markdown",
   "metadata": {
    "collapsed": true,
    "slideshow": {
     "slide_type": "subslide"
    }
   },
   "source": [
    "### Review Exercise 1: Curve Fitting\n",
    "\n",
    "The experimental data in `sample_data/signal_data.csv` resembles the function:\n",
    "\n",
    "$$y = a \\sin(x +b)$$\n",
    "\n",
    "$a$ and $b$ are unknown constants.\n",
    "\n",
    "1. Import the data from the file `sample_data/signal_data.csv`\n",
    "\n",
    "1. Use `curve_fit` to find optimal values of $a$ and $b$.\n",
    "\n",
    "1. Plot the raw data and the fitted data on the same graph. Label the data and include a legend.\n",
    "1. Calculate the root mean square error (RMSE) of the fitted data and show the computed value as the plot title. \n",
    "1. Print the equation of the fitted line.\n",
    "1. Save the figure in the sample_data folder as a .pdf file.\n",
    "\n",
    "__Use comments in your code to explain what each part does.__\n"
   ]
  },
  {
   "cell_type": "code",
   "execution_count": 12,
   "metadata": {},
   "outputs": [],
   "source": [
    "# Review Exercise 1: Curve Fitting"
   ]
  },
  {
   "cell_type": "code",
   "execution_count": 13,
   "metadata": {},
   "outputs": [
    {
     "name": "stdout",
     "output_type": "stream",
     "text": [
      "y = 5.082535937794273 * e**(1.083182109981093*x)\n"
     ]
    },
    {
     "data": {
      "image/png": "[encoded data removed]",
      "text/plain": [
       "<Figure size 432x288 with 1 Axes>"
      ]
     },
     "metadata": {},
     "output_type": "display_data"
    }
   ],
   "source": [
    "# Review Exercise 1: Curve Fitting\n",
    "# Example Solution\n",
    "\n",
    "from scipy.optimize import curve_fit\n",
    "import numpy as np\n",
    "import matplotlib.pyplot as plt\n",
    "\n",
    "# function to fit to data (find values of a and b with closest fit)\n",
    "def sin_func(x, a, b):\n",
    "    y = a * np.sin(x + b) \n",
    "    return y\n",
    "\n",
    "\n",
    "# 1. import data\n",
    "s = np.loadtxt('sample_data/signal_data.csv', dtype=float, delimiter=',')\n",
    "x = s[0]\n",
    "y = s[1]\n",
    "\n",
    "# 2. find optimised values of a and b\n",
    "opt = curve_fit(sin_func, x, y)[0]\n",
    "\n",
    "# 3. Plot the raw data and the fitted data on the same graph.\n",
    "y_fit = sin_func(x, *opt) # generate fitted data\n",
    "plt.plot(x, y,     'o',    label='raw data') # plot raw data with label\n",
    "plt.plot(x, y_fit, 'r',    label='fit') # plot the fitted data as a line with label\n",
    "# plot legend\n",
    "plt.legend(loc='best')\n",
    "\n",
    "\n",
    "# 4. find RMSE and show as plot title\n",
    "e = (y_fit - y)\n",
    "rmse = np.sqrt(np.sum(e**2)/ len(y))\n",
    "plt.title(f'RMSE: {rmse}') # plot title with RMSE\n",
    "\n",
    "# 5. print the equation of the fitted line\n",
    "print(f\"y = {opt[0]} * e**({opt[1]}*x)\")\n",
    "\n",
    "# 6. save the plot\n",
    "plt.savefig(\"sample_data/my-plot.pdf\")"
   ]
  },
  {
   "cell_type": "markdown",
   "metadata": {
    "collapsed": true,
    "slideshow": {
     "slide_type": "subslide"
    }
   },
   "source": [
    "### Review Exercise 2: Interpolation\n",
    "\n",
    "The experimental data in the table shows the temperature recorded at 1m depth intervals in a lake.\n",
    "\n",
    "A sudden temperature change is observed between 7m and 8m.\n",
    "\n",
    "Use first order polynomial interpolation (linear interpolation), to estimate the temperature at 7.5m.\n",
    "\n",
    "Use second order polynomial interpolation (quadratic interpolation), to estimate the temperature at 7.5m.\n",
    "\n",
    "By plotting your solutions, decide which solution fits the data better.\n",
    "\n",
    "\n",
    "|Temperature (degrees C) |Depth (m)|\n",
    "|------------------------|---------|\n",
    "|19.1                    |        0|        \n",
    "|19.1                    |       -1|         \n",
    "|19                      |       -2|          \n",
    "|18.8                    |       -3|          \n",
    "|18.7                    |       -4|          \n",
    "|18.3                    |       -5|             \n",
    "|18.2                    |       -6|          \n",
    "|17.6                    |       -7|          \n",
    "|11.7                    |       -8|          \n",
    "|9.9                     |       -9|             \n",
    "|9.1                     |      -10|          \n",
    "\n",
    "\n",
    "__Use comments in your code to explain what each part does.__\n"
   ]
  },
  {
   "cell_type": "code",
   "execution_count": 14,
   "metadata": {},
   "outputs": [],
   "source": [
    "# Review Exercise 2: Interpolation"
   ]
  },
  {
   "cell_type": "code",
   "execution_count": 15,
   "metadata": {},
   "outputs": [
    {
     "name": "stdout",
     "output_type": "stream",
     "text": [
      "depth = - 7.5, temperature = 14.65 : 1 order polynomial\n",
      "depth = - 7.5, temperature = 14.743075639255014 : 2 order polynomial\n"
     ]
    },
    {
     "data": {
      "text/plain": [
       "Text(0,0.5,'temperature')"
      ]
     },
     "execution_count": 15,
     "metadata": {},
     "output_type": "execute_result"
    },
    {
     "data": {
      "image/png": "[encoded data removed]",
      "text/plain": [
       "<Figure size 432x288 with 1 Axes>"
      ]
     },
     "metadata": {},
     "output_type": "display_data"
    }
   ],
   "source": [
    "# Review Exercise 2: Interpolation\n",
    "# Example Solution\n",
    "import numpy as np\n",
    "import matplotlib.pyplot as plt\n",
    "\n",
    "from scipy.interpolate import splrep\n",
    "from scipy.interpolate import splev\n",
    "import scipy.interpolate\n",
    "\n",
    "# original data\n",
    "y = [19.1, 19.1, 19, 18.8, 18.7, 18.3, 18.2, 17.6, 11.7, 9.9, 9.1][::-1]\n",
    "x = [0, -1, -2, -3, -4, -5, -6, -7, -8, -9, -10][::-1]\n",
    "\n",
    "plt.plot(x, y, 'ko')\n",
    "\n",
    "# range of values for x axis\n",
    "interval = 0.1\n",
    "x_int = np.arange(x[0], x[-1]+interval, interval)\n",
    "\n",
    "# # interpolated data\n",
    "order_poly = 1\n",
    "func = splrep(x, y, k=order_poly)\n",
    "y_int = splev(x_int, func)\n",
    "plt.plot(x_int, y_int, '--', label=f'polynomial order {order_poly}')\n",
    "T = splev(-7.5, func)\n",
    "print(f'depth = - 7.5, temperature = {T} : {order_poly} order polynomial')\n",
    "\n",
    "# # interpolated data\n",
    "order_poly = 2\n",
    "func = splrep(x, y, k=order_poly)\n",
    "y_int = splev(x_int, func)\n",
    "plt.plot(x_int, y_int, '--', label=f'polynomial order {order_poly}')\n",
    "T = splev(-7.5, func)\n",
    "print(f'depth = - 7.5, temperature = {T} : {order_poly} order polynomial')\n",
    "\n",
    "# # plot labels and legend\n",
    "plt.legend()\n",
    "plt.xlabel('depth')\n",
    "plt.ylabel('temperature')\n",
    "#plt.show()\n",
    "\n"
   ]
  },
  {
   "cell_type": "markdown",
   "metadata": {},
   "source": [
    "## Review Exercise 3: Importing .csv Data and Working with Arrays\n",
    "\n",
    "The file `sample_data/douglas_data.csv` contains a data set of recorded parameters for a sample of wooden beams.\n",
    "\n",
    "__Part A : Importing data__\n",
    "<br>Open the file and look at the data. \n",
    "What is the delimiter used?\n",
    "Which rows and columns contain non-numeric data? \n",
    "\n",
    "Import the data using `np.loadtxt`, setting the data type to float. \n",
    "<br>Exclude the rows and columns containing non-numeric data.\n",
    "\n",
    "*Remember : The use of scientific notation can be surpressed by:*\n",
    "\n",
    "        np.set_printoptions(suppress=True)\n",
    "        \n",
    "__Part B : Manipulating Data__\n",
    "<br>Select the first 10 rows of the array to create a new array.\n",
    "\n",
    "The data in the last column is in units $\\mathrm{N/mm}^2$. \n",
    "\n",
    "Convert the data in this column to units $\\mathrm{N/m}^2$.\n",
    "\n",
    "The area of each beam in the data set is 0.01 $\\mathrm{m^2}$.\n",
    "<br>The density of each beam is given in the fifth column. \n",
    "<br>The height of each beam is given in the sixth column. \n",
    "<br>Add a new column to the array that contains mass of each beam (kg) using:\n",
    "\n",
    "__mass = area $\\times$ height $\\times$ density__\n",
    "\n",
    "\n",
    "__Part C : Displaying Data__\n",
    "<br>Print the mass of the 1st beam in the array.\n",
    "<br>Print a string to indicate what this value means e.g.\n",
    "                \n",
    "       The mass of beam 1 is ...\n",
    "       \n",
    "<br>Print the data in odd numbered columns of row 5. \n"
   ]
  },
  {
   "cell_type": "code",
   "execution_count": 16,
   "metadata": {},
   "outputs": [],
   "source": [
    "# Review Exercise 3A: Importing .csv Data and Working with Arrays"
   ]
  },
  {
   "cell_type": "code",
   "execution_count": 17,
   "metadata": {},
   "outputs": [
    {
     "name": "stdout",
     "output_type": "stream",
     "text": [
      "['sample, moisture, knotratio, treering, Edyn, density, beamheight, Estat, bstrength'\n",
      " 'units,%,-,mm,N/mm2,kg/m3,cm,N/mm2,N/mm2'\n",
      " 'DO1,13.3,0.04,3,14053,675,101,15452,58.4'\n",
      " 'DO2,12,0.16,2.5,20611,474,100,17272,74.35'\n",
      " 'DO3,12.8,0.14,3.88,18846,596,99,18456,49.82'\n",
      " 'DO4,11.7,0.13,2.02,18587,582,100,18940,78.52'\n",
      " 'DO5,12,0.16,2.13,19299,678,100,16864,79.31'\n",
      " 'DO6,12.4,0.04,2.98,21695,595,100,19440,64.34'\n",
      " 'DO7,12.5,0.32,3.67,16523,592,100,16152,58.19'\n",
      " 'DO8,11.5,0.07,3.67,18333,634,101,18480,88.39'\n",
      " 'DO9,13.1,0.19,2.44,18628,592,101,14604,33.02'\n",
      " 'DO10,11.7,0.25,3,15683,540,101,16628,60.28'\n",
      " 'DO11,13.2,0.2,3.75,18496,605,100,18476,91.86'\n",
      " 'DO12,11.9,0.11,1.96,19792,646,101,19212,81.88'\n",
      " 'DO13,12.3,0.03,2.4,20098,618,101,19608,91.02'\n",
      " 'DO14,12.4,0.06,2.39,15600,624,101,17316,81.3'\n",
      " 'DO15,13.1,0.03,2.23,18065,589,101,17428,67.08'\n",
      " 'DO16,14,0.04,4.28,14883,610,100,14132,48.41'\n",
      " 'DO17,12.6,0.07,2.81,11282,614,102,10132,55.54'\n",
      " 'DO18,12,0.2,3.18,15731,620,100,16576,75.55'\n",
      " 'DO19,12.1,0.05,2.02,18878,581,98,18832,79.67'\n",
      " 'DO20,12.3,0.07,2.39,14199,642,101,14096,70.49'\n",
      " 'DO21,12.5,0.15,2.41,19119,549,100,15640,80.37'\n",
      " 'DO22,12.5,0.18,2.06,19467,670,100,17352,86.85'\n",
      " 'DO23,13.1,0.14,2.77,17343,597,101,16488,60.01'\n",
      " 'DO24,13.1,0.28,3.65,15069,564,100,14744,55.27'\n",
      " 'DO25,12.2,0.31,3.06,14728,592,99,15984,74.97'\n",
      " 'DO26,12.3,0.16,3.48,14707,543,100,13896,59.03'\n",
      " 'DO27,12.6,0.06,1.64,17602,612,100,17228,77.99'\n",
      " 'DO29,12.6,0.13,2.18,18700,656,100,16672,65.2'\n",
      " 'DO30,12.5,0.1,3.92,15469,787,100,12052,60.97'\n",
      " 'DO31,12.8,0.15,2.42,19109,663,100,17160,80.28'\n",
      " 'DO32,13.1,0.08,3.52,12835,706,103,11864,70.14'\n",
      " 'DO33,12.3,0.09,2.92,15130,686,102,14020,75.67'\n",
      " 'DO34,12,0.21,4.79,18666,654,102,18208,85.95'\n",
      " 'DO35,12.8,0.14,3.07,15727,594,101,17796,101.53'\n",
      " 'DO36,12.2,0.12,2.09,17240,658,102,16912,82.06'\n",
      " 'DO37,12.8,0,2.45,14355,663,102,13816,72.74'\n",
      " 'DO38,12.4,0.16,4.6,15551,611,99,15768,65.96'\n",
      " 'DO39,11.8,0.12,3.78,18652,582,100,17320,67.87'\n",
      " 'DO40,11.6,0.28,2.62,20494,621,98,18208,40.88'\n",
      " 'DO41,11.8,0.07,3.24,19982,641,100,18600,69.28'\n",
      " 'DO42,11.5,0.08,2.18,12110,506,101,13600,77.03'\n",
      " 'DO43,11.9,0.34,2.72,11400,596,100,9088,42.23'\n",
      " 'DO44,12,0.28,4.22,14695,511,102,11988,48.48'\n",
      " 'DO45,12.7,0.11,4.26,12215,552,101,11296,30.54'\n",
      " 'DO46,12.1,0.29,2.83,12674,565,101,13444,48.79'\n",
      " 'DO47,12.2,0.53,3.93,9134,564,101,8448,28.6'\n",
      " 'DO48,11.9,0.24,2.09,13941,607,103,12076,61.62'\n",
      " 'DO49,12,0.59,4.52,11511,555,102,9904,30.46'\n",
      " 'DO50,12.6,0.33,2.7,14685,579,100,14148,59.56'\n",
      " 'DO51,13,0.21,3.67,12127,554,101,10168,50.48'\n",
      " 'DO52,11.8,0.4,4.35,14669,573,100,12756,53.4'\n",
      " 'DO53,11.9,0.39,5.13,11743,520,100,11552,47.96'\n",
      " 'DO54,12.4,0.25,2.97,11078,517,101,10620,46.61'\n",
      " 'DO55,11.9,0.5,2.83,12686,468,105,11744,53.92'\n",
      " 'DO56,12.2,0.19,2.5,11025,583,104,9692,30.93'\n",
      " 'DO57,13.2,0.05,5.05,14478,507,101,12552,64.95'\n",
      " 'DO58,12.1,0.1,5.88,9602,509,104,12704,53.23'\n",
      " 'DO59,11.9,0.28,3.58,12224,552,101,10596,52.46'\n",
      " 'DO60,12.7,0.1,3.55,14675,579,101,14616,64.4'\n",
      " 'DO61,13.8,0.05,3.62,9818,561,103,9828,56.32'\n",
      " 'DO62,12.2,0.3,3.07,11115,524,101,10168,47.5'\n",
      " 'DO63,12.3,0.25,4.83,12700,472,102,9896,26.62'\n",
      " 'DO64,12,0.33,2.89,11390,484,103,10808,49.45'\n",
      " 'DO65,13.3,0.2,2.79,13208,574,103,10196,48.02'\n",
      " 'DO66,12.8,0.17,3.54,13324,502,103,15200,73.5'\n",
      " 'DO67,13,0.18,4.68,12848,490,102,11632,48.75'\n",
      " 'DO68,12.8,0.19,4.36,9858,493,101,10016,35.86'\n",
      " 'DO69,11.9,0.38,4.9,11235,485,102,11812,34.02'\n",
      " 'DO70,12.1,0.31,4.68,10600,514,101,9396,47.33'\n",
      " 'DO71,12.8,0.15,2.22,16265,687,102,13344,67.52'\n",
      " 'DO72,12.3,0.51,3.78,16451,596,102,12184,39.46'\n",
      " 'DO73,12.8,0.21,4.14,12544,565,102,10168,43.41'\n",
      " 'DO74,12.1,0.36,3.72,12757,579,101,13056,38.76'\n",
      " 'DO75,12,0.33,4.75,13416,578,102,10308,36.77'\n",
      " 'DO76,12.5,0.58,3.36,12969,538,101,10084,44.15'\n",
      " 'DO77,13.3,0.34,2.91,13718,600,102,13352,59.46'\n",
      " 'DO78,12.6,0.32,2.21,15009,555,101,13512,54.61'\n",
      " 'DO79,13.4,0.17,3.68,8659,529,101,7760,48.82'\n",
      " 'DO80,12.3,0.25,3.25,14431,488,101,10248,46.31'\n",
      " 'DO81,12.7,0.18,2.7,14702,570,100,14420,69.3'\n",
      " 'DO82,12.4,0.39,3.95,14738,566,103,12928,38.82'\n",
      " 'DO83,11.9,0.46,2.9,10310,495,102,9488,35.29'\n",
      " 'DO84,11.9,0.12,3.83,11037,525,102,11368,53.38'\n",
      " 'DO85,13,0.16,4,12591,470,102,12320,57.88'\n",
      " 'DO86,11.8,0.36,2.97,12782,536,103,10276,41.11'\n",
      " 'DO87,12.7,0.2,2.03,15171,508,104,12888,71.64'\n",
      " 'DO88,12.9,0.37,3.08,9778,465,103,7780,30.87'\n",
      " 'DO89,13,0.16,2.5,12208,540,104,10648,57.96'\n",
      " 'DO90,12.3,0.39,3.65,16410,564,101,14368,55.05'\n",
      " 'DO91,12.5,0.19,4.5,15219,511,99,14492,72.11'\n",
      " 'DO92,12.3,0.29,3.63,14257,530,101,12732,67.93'\n",
      " 'DO93,12.6,0.09,4.43,13100,569,103,13472,62.72'\n",
      " 'DO94,11.8,0.18,4,14852,498,102,12788,51.45'\n",
      " 'DO95,12.3,0.13,5.84,13073,496,100,13432,40.52'\n",
      " 'DO96,13.5,0.06,2.39,14091,617,101,13524,53'\n",
      " 'DO97,12.9,0.46,2.05,19475,655,100,16024,53.85'\n",
      " 'DO98,12.7,0.43,3.63,14002,543,101,11600,57.28'\n",
      " 'DO99,11.9,0.23,2.54,11410,507,101,16628,40.18'\n",
      " 'DO100,13,0.35,2.72,13088,490,193,9408,31.18'\n",
      " 'DO101,13.1,0.3,2.98,17478,598,193,16060,54.02'\n",
      " 'DO103,13.2,0.44,3.22,15728,666,193,10884,31.44'\n",
      " 'DO104,14.3,0.09,3.78,16351,595,193,15640,49.12'\n",
      " 'DO105,14.1,0.27,2.58,17259,570,194,13056,31.78'\n",
      " 'DO106,14,0.16,4.29,14733,555,193,12836,52.82'\n",
      " 'DO108,14.2,0.18,3.08,16040,684,193,14244,55.01'\n",
      " 'DO109,15.1,0.17,3.69,16461,628,193,14104,50.89'\n",
      " 'DO110,14.7,0.19,2.85,18761,644,192,15620,57.18'\n",
      " 'DO112,12.4,0.33,2.67,17336,605,193,12972,36.07'\n",
      " 'DO113,14.6,0.27,3.14,15742,644,193,15744,49.11'\n",
      " 'DO114,15.4,0.24,3.33,19415,682,193,17620,64.84'\n",
      " 'DO115,15.3,0.19,2.4,15873,617,193,16232,31.35'\n",
      " 'DO116,13.4,0.5,2.37,13985,596,193,11800,20.42'\n",
      " 'DO117,15.3,0.45,2.79,15934,616,192,14380,35.03'\n",
      " 'DO118,15.3,0.22,4.11,14966,643,193,14728,49.62'\n",
      " 'DO119,14.8,0.3,3.04,13729,562,193,12284,30.14'\n",
      " 'DO120,14.3,0.14,3.71,15969,591,193,15096,43.46'\n",
      " 'DO121,14.5,0.28,5.42,12263,545,193,10832,23.94'\n",
      " 'DO122,14.7,0.19,3.41,21654,716,193,18512,75.49'\n",
      " 'DO123,14,0.31,4.5,11813,529,193,11164,25.6'\n",
      " 'DO124,15.3,0.24,4.4,14934,602,193,12048,47.46'\n",
      " 'DO125,16,0.24,4.08,15754,621,193,15060,43.08'\n",
      " 'DO126,15,0.33,3.78,16232,652,193,13960,44.37'\n",
      " 'DO127,14.7,0.43,3.93,13977,675,192,10580,42.47'\n",
      " 'DO128,15.3,0.39,3.02,16219,656,192,14036,37.95'\n",
      " 'DO129,15.2,0.14,3.29,16604,623,192,14148,34.73'\n",
      " 'DO130,15.1,0.11,3.07,17458,633,193,16336,65.25'\n",
      " 'DO131,14.4,0.2,3.67,18451,695,192,18360,57.06'\n",
      " 'DO132,13,0.36,3.45,12456,553,193,11748,36.06'\n",
      " 'DO133,14,0.29,2.72,12797,478,193,13416,36.76'\n",
      " 'DO134,14.2,0.16,5.79,11528,524,192,11084,39.7'\n",
      " 'DO135,13.3,0.21,3.5,19409,673,192,16200,57'\n",
      " 'DO136,14.4,0.24,4.17,18428,656,192,16800,50.58'\n",
      " 'DO137,14.5,0.15,2.95,20884,706,190,18704,57.9'\n",
      " 'DO138,14.1,0.29,4.18,13553,607,192,11732,31.43'\n",
      " 'DO139,12.6,0.23,3.26,17860,642,133,17496,69.42'\n",
      " 'DO140,13.3,0.15,4.71,14297,542,134,12736,58.9'\n",
      " 'DO141,13.6,0.11,4.8,14338,537,133,15384,44.32'\n",
      " 'DO142,13.1,0.16,3.34,17886,610,134,17212,76.41'\n",
      " 'DO143,14.4,0.3,3.32,17160,572,134,16592,63.44'\n",
      " 'DO144,12.8,0.22,1.98,19151,585,135,16908,69.31'\n",
      " 'DO145,12.7,0.24,3.64,20519,678,133,20464,88.35'\n",
      " 'DO146,13.8,0.16,2.94,19914,634,134,19348,64.82'\n",
      " 'DO147,14.2,0.14,3.35,19464,642,134,18804,58.65'\n",
      " 'DO148,12,0.08,2.36,18347,637,134,20616,75.45'\n",
      " 'DO149,11.9,0.2,5.11,16239,577,134,15416,60.05'\n",
      " 'DO150,13.6,0.24,2.82,17120,580,134,13848,45.25'\n",
      " 'DO151,13,0.26,4.47,16519,593,133,16228,66.16'\n",
      " 'DO152,12.8,0.29,1.66,18819,659,133,18916,51.34'\n",
      " 'DO153,13.5,0.17,2.63,17802,636,133,15404,57.67'\n",
      " 'DO154,13.6,0.32,4.64,15637,572,134,14492,52.44'\n",
      " 'DO155,14,0.11,3.35,13189,690,134,13872,65.44'\n",
      " 'DO156,12.7,0,4.5,18121,606,133,15816,64.92'\n",
      " 'DO157,14,0.29,4.29,14716,553,134,12796,46.88'\n",
      " 'DO158,13.6,0.32,3.34,16252,624,134,14096,52.63'\n",
      " 'DO159,13.7,0.29,4.23,15005,539,134,14832,57.12'\n",
      " 'DO160,13.8,0.35,2.88,20092,657,132,18488,63.18'\n",
      " 'DO161,13.1,0.15,2.89,20130,656,134,19372,71.53'\n",
      " 'DO162,13.3,0.35,4.55,14903,539,133,13092,43.45'\n",
      " 'DO163,13.4,0.3,3.31,15684,580,134,13320,44.39'\n",
      " 'DO164,11.8,0.36,4.55,13738,576,134,13420,39.11'\n",
      " 'DO165,11,0.28,3.83,18110,596,133,17748,61.44'\n",
      " 'DO166,12.8,0.24,3.66,15998,624,134,12708,33.38'\n",
      " 'DO167,13,0.08,3.83,17176,592,134,15228,57.76'\n",
      " 'DO168,12.6,0.4,4.1,17531,632,134,17948,60.53'\n",
      " 'DO169,14,0.21,2.16,20040,651,134,18636,49.48'\n",
      " 'DO170,12.9,0.05,2.66,18262,636,134,18384,86.46'\n",
      " 'DO172,12.5,0.08,2.46,18309,603,134,16952,51.1'\n",
      " 'DO173,14,0.09,2.37,18193,624,134,18580,82.79'\n",
      " 'DO174,13.3,0.33,2.33,16992,617,133,9904,30.63'\n",
      " 'DO175,13.1,0.11,2.67,18909,667,134,18740,75.72'\n",
      " 'DO176,12.8,0.06,2.51,19259,599,132,17500,74.33'\n",
      " 'DO177,12.5,0.06,3.21,16769,605,133,15820,52.47'\n",
      " 'DO178,13.5,0.29,4.87,14539,543,134,18420,36.01'\n",
      " 'DO179,11.8,0.12,2.26,18605,594,133,16764,80.97'\n",
      " 'DO180,13,0.34,2.54,16645,632,132,19848,30.14'\n",
      " 'DO181,13.8,0.15,2.52,20190,660,133,17300,61.46'\n",
      " 'DO182,12.4,0.1,2.87,18680,603,133,18512,79.53'\n",
      " 'DO183,13.2,0.16,4.83,14596,565,136,13000,47.43'\n",
      " 'DO184,13,0.09,3.42,17012,640,136,16536,68.75'\n",
      " 'DO185,13.5,0.14,3.82,15838,605,136,15096,69.19'\n",
      " 'DO186,13.2,0.4,5.25,13135,565,137,11468,48.34'\n",
      " 'DO187,13.6,0.38,3.51,12950,575,137,10940,49.44'\n",
      " 'DO188,14,0.3,4.15,13794,622,137,9372,48.32'\n",
      " 'DO189,13.7,0.14,5.54,12733,544,137,11424,61.49'\n",
      " 'DO190,13.4,0.32,5.58,12322,532,137,11092,36.16'\n",
      " 'DO191,12.8,0.25,4.27,12366,523,137,11644,42.83'\n",
      " 'DO192,13.4,0.36,4.4,12265,508,137,11644,30.71'\n",
      " 'DO193,12.7,0.43,4.67,11848,541,137,9108,19.34'\n",
      " 'DO194,13.3,0.15,4.71,12271,498,137,11728,53.6'\n",
      " 'DO195,13.4,0.42,4.67,12725,536,137,7772,21.77'\n",
      " 'DO196,12.5,0.26,4.45,11012,625,137,6856,21.87'\n",
      " 'DO197,13.9,0.41,5.13,13310,522,137,11480,44.09'\n",
      " 'DO198,14.1,0.34,4.61,12646,550,137,12952,46.17'\n",
      " 'DO199,13.8,0.27,4.77,11584,534,137,9544,41.86'\n",
      " 'DO200,13.2,0.44,4.75,10305,485,137,9428,34.42'\n",
      " 'DO201,13.6,0.21,5.17,12855,602,137,12168,49.37'\n",
      " 'DO202,14.5,0.13,5.22,12202,545,137,11508,54.82'\n",
      " 'DO203,13.4,0.35,3.96,14163,613,136,6796,24.92'\n",
      " 'DO204,14.5,0.28,6.13,11568,559,137,12396,41.16'\n",
      " 'DO205,13.9,0.26,5.64,11267,563,137,7932,23.08'\n",
      " 'DO206,12.9,0.26,4.4,12143,559,137,11408,34.97'\n",
      " 'DO207,13.9,0.44,4.5,13831,581,136,9872,15.66'\n",
      " 'DO208,14.1,0.25,3.65,13987,546,137,13536,61.47'\n",
      " 'DO209,14.1,0.24,3.87,15014,599,137,12516,42.56'\n",
      " 'DO210,14.5,0.41,6.05,10785,593,137,7100,16.33'\n",
      " 'DO211,12.9,0.28,4.16,11185,574,137,9916,37.77'\n",
      " 'DO212,12.6,0.2,6,9406,509,137,8908,36.77'\n",
      " 'DO213,13.3,0.12,3.22,12947,591,137,12152,32.52'\n",
      " 'DO214,13.5,0.22,3.04,16032,626,137,11868,48.7'\n",
      " 'DO215,13.4,0.43,5,12956,540,137,11076,47.52'\n",
      " 'DO216,14.7,0.24,4.54,14016,639,137,11124,53.92'\n",
      " 'DO217,12.1,0.45,4.59,11526,538,136,9212,40.92'\n",
      " 'DO218,13.6,0.24,3.1,11894,565,172,13264,54.36'\n",
      " 'DO219,14.7,0.22,2.32,11988,533,172,13188,44.12'\n",
      " 'DO220,13.9,0.13,6.69,10493,526,172,9204,22.73'\n",
      " 'DO221,14.2,0.24,3.24,11181,540,173,11124,46.57'\n",
      " 'DO222,13.9,0.49,6.41,10072,468,171,9104,25.76'\n",
      " 'DO223,13.5,0.25,4.3,12862,547,172,15340,51.34'\n",
      " 'DO224,13.5,0.49,5.61,11007,526,172,9776,31.15'\n",
      " 'DO225,14.4,0.04,3.83,13830,586,172,16452,74.24'\n",
      " 'DO226,13.1,0.23,6.44,9877,471,172,10236,28.32'\n",
      " 'DO227,14.6,0.26,3.78,13268,599,173,13696,49.15'\n",
      " 'DO228,15.3,0.29,5,12437,552,172,10872,41.1'\n",
      " 'DO229,13.6,0.36,3.5,16104,603,172,18580,20.36'\n",
      " 'DO230,15.2,0.18,3.87,13746,604,173,14320,48.34'\n",
      " 'DO231,14.7,0.24,4.85,13040,617,171,14776,62.04'\n",
      " 'DO232,16,0.18,7.07,10831,583,172,11384,40.92'\n",
      " 'DO233,14.5,0.27,8.36,9021,509,172,6628,31.24'\n",
      " 'DO234,15,0.37,3.04,13848,619,172,15336,52.21'\n",
      " 'DO235,14.8,0.24,7,8607,503,172,9600,23.8'\n",
      " 'DO236,14.6,0.45,6.92,11269,506,171,10188,31.82'\n",
      " 'DO237,13.6,0.34,6.07,9323,589,171,7816,26.3'\n",
      " 'DO238,14.6,0.49,5,11680,509,171,11596,40.45'\n",
      " 'DO239,14.9,0.29,5.11,11313,566,175,11784,41.63'\n",
      " 'DO240,14.8,0.24,4.33,12076,614,171,12616,35.42'\n",
      " 'DO241,13.4,0.25,4.5,11485,544,171,12108,37.6'\n",
      " 'DO242,14.2,0.1,3.15,11603,567,168,11012,51.95'\n",
      " 'DO243,13.9,0.21,6.5,11355,483,167,11924,38.39'\n",
      " 'DO244,14.4,0.23,3.54,13522,599,166,11564,59.75'\n",
      " 'DO245,15.5,0.04,2.85,14244,585,167,14776,63.53'\n",
      " 'DO246,13.8,0.25,2.48,14385,543,167,13668,49.7'\n",
      " 'DO247,12.8,0.18,5.25,11334,530,161,10860,43.74'\n",
      " 'DO248,14.9,0.27,4.05,14026,513,167,15172,54.35'\n",
      " 'DO249,13.1,0.11,3.03,12439,538,167,12476,56.11'\n",
      " 'DO250,12.9,0.33,5.79,11121,483,167,11544,30.98'\n",
      " 'DO251,13.1,0.37,4.3,11460,562,167,9328,22.45'\n",
      " 'DO252,13.5,0.2,3.81,13062,552,161,11984,52.35'\n",
      " 'DO253,12.3,0.2,3.93,10618,546,167,10564,42.1'\n",
      " 'DO254,14.2,0.54,4.89,13552,595,167,11108,43.5'\n",
      " 'DO255,14.5,0.49,4.74,10799,571,167,9376,22.22'\n",
      " 'DO256,13.2,0.19,3.87,12579,599,167,12748,53.65'\n",
      " 'DO257,13.9,0.21,2.7,11226,516,167,11200,48.35'\n",
      " 'DO258,12.9,0.32,5.43,12004,494,167,11780,43.65'\n",
      " 'DO259,14.6,0.21,3.7,8690,511,168,7744,41.83'\n",
      " 'DO260,14.1,0.23,4.63,9759,454,167,7536,32.47'\n",
      " 'DO261,14.5,0.07,1.96,21781,743,167,21464,91.8'\n",
      " 'DO262,13.5,0.21,4.11,12553,470,166,12244,31.28'\n",
      " 'DO263,14.7,0.19,2.7,10867,496,167,11100,44.16'\n",
      " 'DO264,15,0.26,3.77,17494,675,166,15320,51.5'\n",
      " 'DO265,13.2,0.17,3.54,13721,646,167,11144,41.47'\n",
      " 'DO266,15.7,0.26,2.48,20121,702,166,18676,42.44'\n",
      " 'DO267,15.3,0.16,4.57,17044,662,166,18612,70.31'\n",
      " 'DO268,14.8,0.25,5.23,12700,555,168,11552,33.35'\n",
      " 'DO269,15.1,0.11,2.53,13075,512,167,13416,57'\n",
      " 'DO270,14.6,0.48,3.43,14775,528,166,15204,64.24'\n",
      " 'DO271,16.2,0.39,3.3,10017,674,168,7084,16.25'\n",
      " 'DO272,15.9,0.16,3.72,19385,737,166,18912,62.79'\n",
      " 'DO273,14.2,0.27,4.27,11249,500,166,11012,32.47'\n",
      " 'DO274,15.2,0.19,3.22,12339,654,167,10768,43.73'\n",
      " 'DO275,15.9,0.08,2.57,21517,720,167,19472,69.48'\n",
      " 'DO276,16.4,0.08,1.98,22121,691,166,23292,82.81'\n",
      " 'DO277,15.5,0.17,2.36,19977,665,167,18928,64.88'\n",
      " 'DO278,15.8,0.23,3.74,11801,657,167,11740,23.14'\n",
      " 'DO279,13.8,0.24,2.9,13013,581,167,12560,49.13'\n",
      " 'DO280,15.2,0.05,2.85,17374,623,166,16260,65.79'\n",
      " 'DO281,13.1,0.25,4.81,9380,592,181,6988,17.39'\n",
      " 'DO282,15.1,0.05,2.47,17434,611,167,16736,72.08'\n",
      " 'DO283,14,0.06,3.27,15902,596,167,13460,63.82'\n",
      " 'DO284,15.5,0.08,3.83,15216,583,166,14008,61.5'\n",
      " 'DO285,14.4,0.06,2.56,17183,609,167,17676,57.38'\n",
      " 'DO286,15.2,0.33,4.06,15728,621,167,15980,52.62'\n",
      " 'DO287,13.9,0.2,2.89,15795,668,165,13832,56.77'\n",
      " 'DO288,40.9,0.17,3.37,12989,621,167,14104,40.42'\n",
      " 'DO289,13.8,0.23,4.17,15952,564,160,17140,63.49'\n",
      " 'DO290,15.1,0.07,2.49,16735,592,166,16540,67.2'\n",
      " 'DO291,14.8,0.21,3.57,14215,605,166,12204,49.5'\n",
      " 'DO292,14.2,0.17,3.6,13573,643,165,12632,37.6'\n",
      " 'DO293,14.3,0.26,3.54,13489,652,166,11228,49.6'\n",
      " 'DO294,13.4,0.29,2.77,12619,638,164,11352,38.9'\n",
      " 'DO295,14.2,0.3,3.07,14029,648,165,8648,20.7'\n",
      " 'DO296,14,0.13,3.58,15570,581,193,18232,49.4'\n",
      " 'DO297,13.1,0.33,3.29,11004,616,193,11904,34.7'\n",
      " 'DO298,13.3,0.14,3.96,14492,573,192,14092,49'\n",
      " 'DO299,13.6,0.26,6.43,8883,620,193,9072,33.7'\n",
      " 'DO300,14.6,0.34,2.4,9790,781,193,12824,45.7'\n",
      " 'DO301,14.2,0.26,6.2,12606,525,193,12480,38'\n",
      " 'DO302,14.4,0.22,4.19,17202,627,192,19584,40.7'\n",
      " 'DO303,13.5,0.24,4.61,13123,553,191,12204,58.8'\n",
      " 'DO304,13.2,0.28,3.41,14107,549,193,13460,54'\n",
      " 'DO305,14.2,0.58,4.12,13145,570,192,13896,55'\n",
      " 'DO306,14.8,0.23,4.96,11494,565,193,10244,50.9'\n",
      " 'DO307,14.4,0.23,5.79,11630,537,192,11040,29.3'\n",
      " 'DO308,14,0.22,5.39,11871,480,192,12968,35.4'\n",
      " 'DO309,13.8,0.19,4.24,10418,515,193,12184,31.2'\n",
      " 'DO310,14,0.14,4.7,13819,582,190,15824,57.1'\n",
      " 'DO311,15.4,0.3,3.54,11469,620,193,13552,41.5'\n",
      " 'DO312,13.2,0.35,4.52,13731,563,192,12980,28.8'\n",
      " 'DO313,13.5,0.29,4.29,12104,572,193,11592,33.8'\n",
      " 'DO314,14.4,0.22,3.68,12220,535,192,13636,53.6'\n",
      " 'DO315,14.1,0.25,4.04,16237,627,193,16092,41.7'\n",
      " 'DO316,14.4,0.35,5.67,11164,493,193,11920,30.3'\n",
      " 'DO317,14.1,0.4,3.68,9882,500,192,10260,17.1'\n",
      " 'DO318,14.6,0.14,5.28,11866,519,193,12332,30.9'\n",
      " 'DO319,14.4,0.32,4.09,11045,531,192,13296,33.4'\n",
      " 'DO320,13.3,0.15,4.55,11579,516,192,11244,32.9'\n",
      " 'DO321,13.8,0.3,5,10481,449,193,10456,31.2'\n",
      " 'DO322,11.3,0.23,5.15,13363,532,192,13300,41'\n",
      " 'DO323,12.8,0.54,5.73,13115,568,192,12760,39.2'\n",
      " 'DO324,13.9,0.28,3,12559,589,192,13648,61.5'\n",
      " 'DO325,13.8,0.21,2.9,12572,589,192,14428,55.4'\n",
      " 'DO326,12.9,0.22,4.29,12339,567,193,12804,53.5'\n",
      " 'DO327,13.6,0.22,4.81,11808,544,192,12656,56.9'\n",
      " 'DO328,13.9,0.27,4.17,12292,533,192,11184,31'\n",
      " 'DO329,12.1,0.33,5.05,9641,490,191,9716,37.6'\n",
      " 'DO330,13.8,0.26,5.89,10502,535,192,10740,21.6'\n",
      " 'DO331,14.1,0.4,3.91,9556,491,192,9932,33'\n",
      " 'DO332,14.2,0.21,4.54,11461,497,192,10684,36.3'\n",
      " 'DO333,13.7,0.14,7.58,11228,512,191,10584,46.3'\n",
      " 'DO334,13.5,0.52,3.93,12075,505,193,10128,33'\n",
      " 'DO335,13.6,0.43,5.82,9469,457,192,10396,29.4'\n",
      " 'DO336,11.5,0.15,5.06,12456,589,173,12752,40.6'\n",
      " 'DO337,12.7,0.27,6.43,9706,467,197,8316,36.7'\n",
      " 'DO339,13.6,0.18,5.88,9449,457,197,9484,26.8'\n",
      " 'DO340,14.1,0.22,6.17,12908,593,197,15136,35.6'\n",
      " 'DO342,14.5,0.34,5.72,11753,491,196,10488,37.5'\n",
      " 'DO343,14.9,0.32,6.61,12879,592,197,11008,26.2'\n",
      " 'DO344,13.7,0.24,8.2,9296,507,197,8408,25'\n",
      " 'DO345,13.4,0.25,7.13,9576,489,197,8116,17.1'\n",
      " 'DO346,14.4,0.19,3.39,13413,580,196,13012,50.9'\n",
      " 'DO347,13.8,0.62,4.57,13734,553,196,11864,30.2'\n",
      " 'DO348,14.8,0.37,3.43,12455,539,198,11228,32.7'\n",
      " 'DO349,13.9,0.26,5.57,12128,521,198,11612,33.4'\n",
      " 'DO350,13.6,0.14,5.71,11296,506,175,11788,29.3'\n",
      " 'DO351,13.8,0.33,6.73,11302,506,175,10552,32.8'\n",
      " 'DO352,14.1,0.26,9,7166,448,175,7260,18.7'\n",
      " 'DO353,12.2,0.19,4.42,10936,547,197,11576,19.9'\n",
      " 'DO354,12.6,0.25,5.29,10041,532,175,7924,22.3'\n",
      " 'DO355,12.8,0.29,6.7,10689,538,175,7980,28.6'\n",
      " 'DO356,14.1,0.18,5.56,13652,517,175,14572,47.4'\n",
      " 'DO357,12.7,0.45,7.38,9358,465,197,9768,23.1'\n",
      " 'DO358,13.1,0.45,4.9,12433,539,175,13380,31.9'\n",
      " 'DO359,13.9,0.33,5.28,10721,534,174,8368,28.8'\n",
      " 'DO360,13.4,0.2,7.33,7821,451,175,7884,21.1'\n",
      " 'DO361,12.9,0.19,5.16,14075,532,175,14124,48.7'\n",
      " 'DO362,13.5,0.39,8.5,9093,476,197,8780,23.8'\n",
      " 'DO363,13.7,0.26,4.64,13331,524,174,11480,31.2']\n",
      "[[   13.3      0.04     3.   ...   101.   15452.      58.4 ]\n",
      " [   12.       0.16     2.5  ...   100.   17272.      74.35]\n",
      " [   12.8      0.14     3.88 ...    99.   18456.      49.82]\n",
      " ...\n",
      " [   12.9      0.19     5.16 ...   175.   14124.      48.7 ]\n",
      " [   13.5      0.39     8.5  ...   197.    8780.      23.8 ]\n",
      " [   13.7      0.26     4.64 ...   174.   11480.      31.2 ]]\n"
     ]
    }
   ],
   "source": [
    "# Review Exercise 3A: Importing .csv Data and Working with Arrays\n",
    "# Example Solution\n",
    "\n",
    "import numpy as np\n",
    "np.set_printoptions(suppress=True) # always print floating point numbers using fixed point not scientific notation\n",
    "\n",
    "#Import the data setting:\n",
    "#delimiter = `\"\\t\"` (tab)\n",
    "#data type = `str` (string)\n",
    "#What are the delimiters used in the data?\n",
    "#Which rows and columns contain non-numerical data?       \n",
    "A = np.loadtxt('sample_data/douglas_data.csv', delimiter=\"\\t\", dtype=str)\n",
    "print(A)\n",
    "\n",
    "A = np.loadtxt('sample_data/douglas_data.csv', delimiter=\",\", dtype=float, skiprows=2, usecols=(1,2,3,4,5,6,7,8))\n",
    "\n",
    "print(A)"
   ]
  },
  {
   "cell_type": "code",
   "execution_count": 18,
   "metadata": {},
   "outputs": [],
   "source": [
    "# Review Exercise 3B :Manipulating Data"
   ]
  },
  {
   "cell_type": "code",
   "execution_count": 19,
   "metadata": {},
   "outputs": [
    {
     "name": "stdout",
     "output_type": "stream",
     "text": [
      "[[6.8175e+00 1.3300e+01 4.0000e-02 3.0000e+00 1.4053e+04 6.7500e+02\n",
      "  1.0100e+02 1.5452e+04 5.8400e+13]\n",
      " [4.7400e+00 1.2000e+01 1.6000e-01 2.5000e+00 2.0611e+04 4.7400e+02\n",
      "  1.0000e+02 1.7272e+04 7.4350e+13]\n",
      " [5.9004e+00 1.2800e+01 1.4000e-01 3.8800e+00 1.8846e+04 5.9600e+02\n",
      "  9.9000e+01 1.8456e+04 4.9820e+13]\n",
      " [5.8200e+00 1.1700e+01 1.3000e-01 2.0200e+00 1.8587e+04 5.8200e+02\n",
      "  1.0000e+02 1.8940e+04 7.8520e+13]\n",
      " [6.7800e+00 1.2000e+01 1.6000e-01 2.1300e+00 1.9299e+04 6.7800e+02\n",
      "  1.0000e+02 1.6864e+04 7.9310e+13]\n",
      " [5.9500e+00 1.2400e+01 4.0000e-02 2.9800e+00 2.1695e+04 5.9500e+02\n",
      "  1.0000e+02 1.9440e+04 6.4340e+13]\n",
      " [5.9200e+00 1.2500e+01 3.2000e-01 3.6700e+00 1.6523e+04 5.9200e+02\n",
      "  1.0000e+02 1.6152e+04 5.8190e+13]\n",
      " [6.4034e+00 1.1500e+01 7.0000e-02 3.6700e+00 1.8333e+04 6.3400e+02\n",
      "  1.0100e+02 1.8480e+04 8.8390e+13]\n",
      " [5.9792e+00 1.3100e+01 1.9000e-01 2.4400e+00 1.8628e+04 5.9200e+02\n",
      "  1.0100e+02 1.4604e+04 3.3020e+13]\n",
      " [5.4540e+00 1.1700e+01 2.5000e-01 3.0000e+00 1.5683e+04 5.4000e+02\n",
      "  1.0100e+02 1.6628e+04 6.0280e+13]]\n"
     ]
    }
   ],
   "source": [
    "# Review Exercise 3B :Manipulating Data\n",
    "# Example Solution\n",
    "\n",
    "B = A[:10, :]\n",
    "\n",
    "B[:,7] *= 1000000\n",
    "B[:,-1] *= 1000000\n",
    "\n",
    "area = 0.01 # m2\n",
    "\n",
    "height = B[:,5] /100 # m\n",
    "\n",
    "density = B[:,4]  #kg/m3\n",
    "\n",
    "mass = area * density * height\n",
    "\n",
    "# Insert column, mass, at horizontal position -1\n",
    "B = np.insert(B, 0, mass, axis=1)\n",
    "\n",
    "print(B)"
   ]
  },
  {
   "cell_type": "code",
   "execution_count": 20,
   "metadata": {},
   "outputs": [],
   "source": [
    "# Review Exercise 3C: Displaying Data"
   ]
  },
  {
   "cell_type": "code",
   "execution_count": 21,
   "metadata": {},
   "outputs": [
    {
     "name": "stdout",
     "output_type": "stream",
     "text": [
      "The mass of beam 1 is {B[0,0]} kg\n",
      "[   12.4      2.98   595.   19440.  ]\n"
     ]
    }
   ],
   "source": [
    "# Review Exercise 3C: Displaying Data\n",
    "# Example Solution \n",
    "\n",
    "print(\"The mass of beam 1 is {B[0,0]} kg\")\n",
    "print(B[5,1::2])"
   ]
  },
  {
   "cell_type": "code",
   "execution_count": null,
   "metadata": {},
   "outputs": [],
   "source": []
  }
 ],
 "metadata": {
  "celltoolbar": "Slideshow",
  "kernelspec": {
   "display_name": "Python 3",
   "language": "python",
   "name": "python3"
  },
  "language_info": {
   "codemirror_mode": {
    "name": "ipython",
    "version": 3
   },
   "file_extension": ".py",
   "mimetype": "text/x-python",
   "name": "python",
   "nbconvert_exporter": "python",
   "pygments_lexer": "ipython3",
   "version": "3.6.5"
  }
 },
 "nbformat": 4,
 "nbformat_minor": 2
}
