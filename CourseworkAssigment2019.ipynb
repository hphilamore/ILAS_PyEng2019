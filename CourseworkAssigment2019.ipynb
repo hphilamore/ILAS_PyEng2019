{
 "cells": [
  {
   "cell_type": "markdown",
   "metadata": {
    "collapsed": true,
    "slideshow": {
     "slide_type": "slide"
    }
   },
   "source": [
    "# ILAS Python for Engineers 2019 \n",
    "## Coursework Assigment \n",
    "\n",
    "Percentage of final grade : 100%\n",
    "\n",
    "Deadline : January 22 2019 (2019-01-22)\n",
    "\n",
    "Troubleshooting class : January 8 2019 (2019-01-8)"
   ]
  },
  {
   "cell_type": "markdown",
   "metadata": {
    "slideshow": {
     "slide_type": "slide"
    }
   },
   "source": [
    "The topic of the assigment is inspired by a website: __Driven Data__\n",
    "\n",
    "https://www.drivendata.org/\n",
    "\n",
    "Driven Data:\n",
    "- works with NGOs and humanitarian organisations to solve data science problems \n",
    "- launches open-access, data-related competitions\n",
    "\n",
    "https://www.drivendata.org/competitions/"
   ]
  },
  {
   "cell_type": "markdown",
   "metadata": {
    "slideshow": {
     "slide_type": "slide"
    }
   },
   "source": [
    "Practise with real data.\n",
    "\n",
    "See your ranking compared to other entries.\n",
    "\n",
    "Work as a team with people you know/don't know. \n",
    "\n",
    "Finanical incentive (sometimes platform specific).\n",
    "\n",
    "View solutions to past competitions. \n",
    "\n",
    "Actively contribute to a real-world problem that you care about. "
   ]
  },
  {
   "cell_type": "markdown",
   "metadata": {
    "slideshow": {
     "slide_type": "slide"
    }
   },
   "source": [
    "### Competition : Pump it Up: Data Mining the Water Table\n",
    "\n",
    "https://www.drivendata.org/competitions/7/pump-it-up-data-mining-the-water-table/page/23/\n",
    "\n",
    "Can you predict which water pumps are faulty?\n",
    "\n",
    "どちら井戸が不良か予測できますか。\n",
    "\n"
   ]
  },
  {
   "cell_type": "markdown",
   "metadata": {
    "slideshow": {
     "slide_type": "slide"
    }
   },
   "source": [
    "Using data from Taarifa and the Tanzanian Ministry of Water, can you predict which pumps are \n",
    "- functional\n",
    "- non-fuctional\n",
    "- in need of repair \n",
    "\n",
    "Machine learning : supervised learnig, classification \n",
    "\n",
    "<p align=\"center\">\n",
    "  <img src=\"img/comp.png\" alt=\"Drawing\" style=\"width: 500px;\"/>\n",
    "</p>\n",
    "\n"
   ]
  },
  {
   "cell_type": "markdown",
   "metadata": {
    "slideshow": {
     "slide_type": "slide"
    }
   },
   "source": [
    "All data provided in `sample_data` folder (includes .pdf showing website contents)"
   ]
  },
  {
   "cell_type": "markdown",
   "metadata": {
    "slideshow": {
     "slide_type": "slide"
    }
   },
   "source": [
    "### Goal of Assignment \n",
    "\n",
    "Answer the questions below about the data : each data point represents one well (井戸).\n",
    "\n",
    "Use the labelled data set : \n",
    "- Values : sample_data/assigment_2019/training_values.csv\n",
    "- Labels : sample_data/assigment_2019/training_labels.csv\n",
    "\n",
    "There is more than one way to approach each problem. \n",
    "\n",
    "Total marks :100"
   ]
  },
  {
   "cell_type": "markdown",
   "metadata": {
    "slideshow": {
     "slide_type": "slide"
    }
   },
   "source": [
    "### Sumission Format\n",
    "\n",
    "Submit your program as python .py files. \n",
    "\n",
    "You should have:\n",
    "- a main program file\n",
    "- at least one file to store any functions used in the program\n",
    "- files for any figures generated\n",
    "\n",
    "Do not submit your work as a Jupyter Notebook (.ipynb) file!"
   ]
  },
  {
   "cell_type": "markdown",
   "metadata": {
    "slideshow": {
     "slide_type": "slide"
    }
   },
   "source": [
    "### Feedback Format\n",
    "\n",
    "You will receive a rubric showing your mark for each question. \n",
    "\n",
    "I will also make all submissions and example solutions available on github. "
   ]
  },
  {
   "cell_type": "markdown",
   "metadata": {},
   "source": [
    "# Exercise 1 : Importing data from external file.\n",
    "\n",
    "[5 marks]\n",
    "\n",
    "Import the data from:\n",
    "\n",
    "`sample_data/assigment_2019/training_values.csv`\n",
    "\n",
    "`sample_data/assigment_2019/training_labels.csv`\n",
    "\n",
    "`sample_data/assigment_2019/cities.csv`"
   ]
  },
  {
   "cell_type": "markdown",
   "metadata": {},
   "source": [
    "# Exercise 2 : Data Cleaning \n",
    "[5 marks]\n",
    "\n",
    "In the data set, there are a number of:\n",
    "- nonsensical values\n",
    "- missing values\n",
    " \n",
    "Ensure that your data set contains both the features and the labels.\n",
    "\n",
    "Apply a suitable method to remove nonsensical values (`construction_year` = 0, `longitude` = 0) and null values from the data set. \n",
    "\n",
    "    \n",
    "\n"
   ]
  },
  {
   "cell_type": "markdown",
   "metadata": {},
   "source": [
    "# Exercise 3a : Plotting\n",
    "\n",
    "[10 marks]\n",
    "\n",
    "Write a function to plot a __scatter plot__ showing the GPS location of each water well, and the population that use it. \n",
    "- x axis : `longitude`\n",
    "- y axis : `latitude`\n",
    "- marker size : proportional to `users`\n",
    "\n",
    "The file `sample_data/assigment_2019/cities.csv` contains the names and GPS coordinates of Tanzanian cities. <br> Plot each city as a point on the scatter plot.\n",
    "\n",
    "Save the figure as a .pdf file.\n",
    "\n",
    "# Exercise 3b : Reading function documentation\n",
    "\n",
    "[10 marks]\n",
    "\n",
    "Research suitable functions to: \n",
    "- annotate each point with the name of the city\n",
    "- indicate `gps_height` of each point on the plot, for example by using marker colour"
   ]
  },
  {
   "cell_type": "markdown",
   "metadata": {},
   "source": [
    "# Exercise 4 : Extracting information\n",
    "\n",
    "<br>The GPS location information for each plant is in units of __decimal degrees__. \n",
    "\n",
    "<img src=\"img/lat_long.png\" alt=\"Drawing\" style=\"width: 400px;\"/>\n",
    "\n",
    "The following equations can be used to approximate:\n",
    " - the vertical distance (m) from the *equator* from `latitude` <br> \n",
    "$y = \\frac{40,008,000}{360} \\times$ `latitude` <br>\n",
    " - the horizontal distance (m) from the *meridian* from `longitude` and `latitude`\n",
    " <br> $x = \\frac{40,075,160}{360} \\times $ `longitude`  $\\times$  cos(`latitude`)\n",
    " \n",
    "<img src=\"img/ParametricCircle.png\" alt=\"Drawing\" style=\"width: 200px;\"/>\n",
    "\n",
    "So the distance $d$ to any point from the centre of any city can be found by:\n",
    "\n",
    "$d = \\sqrt{x^2 + y^2}$ where <br>\n",
    "$y = \\frac{40,008,000}{360} \\times$ (`p_lat` - `c_lat`) <br>\n",
    "$x = \\frac{40,075,160}{360} \\times$(`p_lon`$\\times$cos(`p_lat`) - `c_lon`$\\times$cos(`c_lat`))\n",
    "\n",
    "### 4a \n",
    "[10 marks]\n",
    "\n",
    "Write a function that returns a `list` of the mean number of `users` for water wells within a 200km radius (data points for which $d < 200,000$) of *each city centre*.\n",
    "\n",
    "<br>__*Hints: <br> - Write a function for $d$ `GPS_lat` and `GPS_lat` are given in degrees, `numpy.cos` automatically applies to angles given in radians.\n",
    "<br>- A function like can be applied to all rows in a data frame using `.apply` <br> - Remember to find the mean for each city!*__ \n",
    "\n",
    "\n",
    "### 4b\n",
    "[10 marks]\n",
    "\n",
    "Plot the list (mean number of `users`) against the `population` of each city. \n",
    "<br>Fit a function to the data.\n",
    "<br>Plot the raw data and the fitted function, label the plot with the fitted function and save it as a .pdf file. "
   ]
  },
  {
   "cell_type": "markdown",
   "metadata": {},
   "source": [
    "# Exercise 5 : Summarising Data with Aggregation and Grouping\n",
    "\n",
    "[20 marks]\n",
    "\n",
    "Write a function that shows __Case 1 : The number of wells of each `extraction_type` built during each decade.__\n",
    "\n",
    "Now edit the function so that can be used to show either:\n",
    "- __Case 1 : The number of wells of each `extraction_type` built during each decade.__\n",
    "- __Case 2 : The mode of the three possible well conditions (functional, non-functional, functional, functional, needs repair) for wells built during each decade.__\n",
    "\n",
    "depending on the function inputs. "
   ]
  },
  {
   "cell_type": "markdown",
   "metadata": {},
   "source": [
    "# Exercise 6 : Summarising Data with Aggregation and Grouping\n",
    "[30 marks]\n",
    "\n",
    "*Driven Data competition: Can you predict which water pumps are faulty?*\n",
    "\n",
    "1. Choose a classification algorithm (supervised learning).\n",
    "\n",
    "1. Convert string data to a numerical representation.\n",
    "\n",
    "1. Split the data into test and training data.  \n",
    "\n",
    "1. Train the algorithm.\n",
    "\n",
    "1. Show the accuracy of prediction on the test data. "
   ]
  },
  {
   "cell_type": "code",
   "execution_count": null,
   "metadata": {},
   "outputs": [],
   "source": []
  }
 ],
 "metadata": {
  "celltoolbar": "Slideshow",
  "kernelspec": {
   "display_name": "Python 3",
   "language": "python",
   "name": "python3"
  },
  "language_info": {
   "codemirror_mode": {
    "name": "ipython",
    "version": 3
   },
   "file_extension": ".py",
   "mimetype": "text/x-python",
   "name": "python",
   "nbconvert_exporter": "python",
   "pygments_lexer": "ipython3",
   "version": "3.7.4"
  }
 },
 "nbformat": 4,
 "nbformat_minor": 2
}
